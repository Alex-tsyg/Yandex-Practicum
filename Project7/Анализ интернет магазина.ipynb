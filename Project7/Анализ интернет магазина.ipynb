{
 "cells": [
  {
   "attachments": {},
   "cell_type": "markdown",
   "metadata": {},
   "source": [
    "<h1> Проект по A/B анализу интернет-магазина </h1> \n",
    "\n",
    "<b>Задачи</b><br>\n",
    "Используя данные интернет-магазина приоритезировать гипотезы, произвести оценку результатов A/B-тестирования различными методами<br>\n",
    "\n",
    "<b>Описание проекта</b><br>\n",
    "\n",
    "<b>Контекст</b><br>\n",
    "\n",
    "Вы — аналитик крупного интернет-магазина. Вместе с отделом маркетинга вы подготовили список гипотез для увеличения выручки.\n",
    "Нужно приоритизировать гипотезы, запустить A/B-тест и проанализировать результаты.  <br>\n",
    "\n",
    "<b>Часть 1. Приоритизация гипотез.</b><br>\n",
    "\n",
    "В файле /datasets/hypothesis.csv 9 гипотез по увеличению выручки интернет-магазина с указанными параметрами Reach, Impact, Confidence, Effort.<br>\n",
    "\n",
    "<b>Задача</b><br>\n",
    "* 1.1 Примените фреймворк ICE для приоритизации гипотез. Отсортируйте их по убыванию приоритета.<br>\n",
    "* 1.2 Примените фреймворк RICE для приоритизации гипотез. Отсортируйте их по убыванию приоритета.<br>\n",
    "* 1.3 Укажите, как изменилась приоритизация гипотез при применении RICE вместо ICE. Объясните, почему так произошло.<br>   \n",
    "\n",
    "<b>Часть 2. Анализ A/B-теста</b>\n",
    "В результате A/B-теста мы получили результаты, которые описаны в файлах /datasets/orders.csv и /datasets/visitors.csv.<br>\n",
    "\n",
    "<b>Задача</b><br>\n",
    "Проанализируровать A/B-тест:<br>\n",
    "\n",
    "\n",
    "<b>Описание данных</b><br>\n",
    "Данные для первой части<br>\n",
    "Файл /datasets/hypothesis.csv.<br>\n",
    "Hypothesis — краткое описание гипотезы;<br>\n",
    "Reach — охват пользователей по 10-балльной шкале;<br>\n",
    "Impact — влияние на пользователей по 10-балльной шкале;<br>\n",
    "Confidence — уверенность в гипотезе по 10-балльной шкале;<br>\n",
    "Efforts — затраты ресурсов на проверку гипотезы по 10-балльной шкале. Чем больше значение Efforts, тем дороже проверка гипотезы.<br>\n",
    "Данные для второй части<br>\n",
    "Файл /datasets/orders.csv. <br>\n",
    "transactionId — идентификатор заказа;<br>\n",
    "visitorId — идентификатор пользователя, совершившего заказ;<br>\n",
    "date — дата, когда был совершён заказ;<br>\n",
    "revenue — выручка заказа;<br>\n",
    "group — группа A/B-теста, в которую попал заказ.<br>\n",
    "Файл /datasets/visitors.csv. Скачать датасет<br>\n",
    "date — дата;<br>\n",
    "group — группа A/B-теста;<br>\n",
    "visitors — количество пользователей в указанную дату в указанной группе A/B-теста<br>"
   ]
  },
  {
   "cell_type": "markdown",
   "metadata": {},
   "source": [
    "## часть: Приоритизация гипотез."
   ]
  },
  {
   "cell_type": "code",
   "execution_count": 1,
   "metadata": {},
   "outputs": [],
   "source": [
    "# Загружаем необходимые библиотеки\n",
    "import pandas as pd\n",
    "import matplotlib.pyplot as plt\n",
    "import numpy as np\n",
    "import scipy.stats as st"
   ]
  },
  {
   "cell_type": "code",
   "execution_count": 2,
   "metadata": {},
   "outputs": [],
   "source": [
    "# Загружаем файл гипотиз\n",
    " data = pd.read_csv('/datasets/hypothesis.csv', sep=',')"
   ]
  },
  {
   "cell_type": "code",
   "execution_count": 3,
   "metadata": {},
   "outputs": [
    {
     "data": {
      "text/html": [
       "<div>\n",
       "<style scoped>\n",
       "    .dataframe tbody tr th:only-of-type {\n",
       "        vertical-align: middle;\n",
       "    }\n",
       "\n",
       "    .dataframe tbody tr th {\n",
       "        vertical-align: top;\n",
       "    }\n",
       "\n",
       "    .dataframe thead th {\n",
       "        text-align: right;\n",
       "    }\n",
       "</style>\n",
       "<table border=\"1\" class=\"dataframe\">\n",
       "  <thead>\n",
       "    <tr style=\"text-align: right;\">\n",
       "      <th></th>\n",
       "      <th>hypothesis</th>\n",
       "      <th>reach</th>\n",
       "      <th>impact</th>\n",
       "      <th>confidence</th>\n",
       "      <th>efforts</th>\n",
       "    </tr>\n",
       "  </thead>\n",
       "  <tbody>\n",
       "    <tr>\n",
       "      <th>0</th>\n",
       "      <td>Добавить два новых канала привлечения трафика, что позволит привлекать на 30% больше пользователей</td>\n",
       "      <td>3</td>\n",
       "      <td>10</td>\n",
       "      <td>8</td>\n",
       "      <td>6</td>\n",
       "    </tr>\n",
       "    <tr>\n",
       "      <th>1</th>\n",
       "      <td>Запустить собственную службу доставки, что сократит срок доставки заказов</td>\n",
       "      <td>2</td>\n",
       "      <td>5</td>\n",
       "      <td>4</td>\n",
       "      <td>10</td>\n",
       "    </tr>\n",
       "    <tr>\n",
       "      <th>2</th>\n",
       "      <td>Добавить блоки рекомендаций товаров на сайт интернет магазина, чтобы повысить конверсию и средний чек заказа</td>\n",
       "      <td>8</td>\n",
       "      <td>3</td>\n",
       "      <td>7</td>\n",
       "      <td>3</td>\n",
       "    </tr>\n",
       "    <tr>\n",
       "      <th>3</th>\n",
       "      <td>Изменить структура категорий, что увеличит конверсию, т.к. пользователи быстрее найдут нужный товар</td>\n",
       "      <td>8</td>\n",
       "      <td>3</td>\n",
       "      <td>3</td>\n",
       "      <td>8</td>\n",
       "    </tr>\n",
       "    <tr>\n",
       "      <th>4</th>\n",
       "      <td>Изменить цвет фона главной страницы, чтобы увеличить вовлеченность пользователей</td>\n",
       "      <td>3</td>\n",
       "      <td>1</td>\n",
       "      <td>1</td>\n",
       "      <td>1</td>\n",
       "    </tr>\n",
       "    <tr>\n",
       "      <th>5</th>\n",
       "      <td>Добавить страницу отзывов клиентов о магазине, что позволит увеличить количество заказов</td>\n",
       "      <td>3</td>\n",
       "      <td>2</td>\n",
       "      <td>2</td>\n",
       "      <td>3</td>\n",
       "    </tr>\n",
       "    <tr>\n",
       "      <th>6</th>\n",
       "      <td>Показать на главной странице баннеры с актуальными акциями и распродажами, чтобы увеличить конверсию</td>\n",
       "      <td>5</td>\n",
       "      <td>3</td>\n",
       "      <td>8</td>\n",
       "      <td>3</td>\n",
       "    </tr>\n",
       "    <tr>\n",
       "      <th>7</th>\n",
       "      <td>Добавить форму подписки на все основные страницы, чтобы собрать базу клиентов для email-рассылок</td>\n",
       "      <td>10</td>\n",
       "      <td>7</td>\n",
       "      <td>8</td>\n",
       "      <td>5</td>\n",
       "    </tr>\n",
       "    <tr>\n",
       "      <th>8</th>\n",
       "      <td>Запустить акцию, дающую скидку на товар в день рождения</td>\n",
       "      <td>1</td>\n",
       "      <td>9</td>\n",
       "      <td>9</td>\n",
       "      <td>5</td>\n",
       "    </tr>\n",
       "  </tbody>\n",
       "</table>\n",
       "</div>"
      ],
      "text/plain": [
       "                                                                                                     hypothesis  \\\n",
       "0            Добавить два новых канала привлечения трафика, что позволит привлекать на 30% больше пользователей   \n",
       "1                                     Запустить собственную службу доставки, что сократит срок доставки заказов   \n",
       "2  Добавить блоки рекомендаций товаров на сайт интернет магазина, чтобы повысить конверсию и средний чек заказа   \n",
       "3           Изменить структура категорий, что увеличит конверсию, т.к. пользователи быстрее найдут нужный товар   \n",
       "4                              Изменить цвет фона главной страницы, чтобы увеличить вовлеченность пользователей   \n",
       "5                      Добавить страницу отзывов клиентов о магазине, что позволит увеличить количество заказов   \n",
       "6          Показать на главной странице баннеры с актуальными акциями и распродажами, чтобы увеличить конверсию   \n",
       "7              Добавить форму подписки на все основные страницы, чтобы собрать базу клиентов для email-рассылок   \n",
       "8                                                       Запустить акцию, дающую скидку на товар в день рождения   \n",
       "\n",
       "   reach  impact  confidence  efforts  \n",
       "0      3      10           8        6  \n",
       "1      2       5           4       10  \n",
       "2      8       3           7        3  \n",
       "3      8       3           3        8  \n",
       "4      3       1           1        1  \n",
       "5      3       2           2        3  \n",
       "6      5       3           8        3  \n",
       "7     10       7           8        5  \n",
       "8      1       9           9        5  "
      ]
     },
     "execution_count": 3,
     "metadata": {},
     "output_type": "execute_result"
    }
   ],
   "source": [
    "# приведем названия колонок к удобному виду\n",
    "data.columns = data.columns.str.lower()\n",
    "pd.options.display.max_colwidth=400\n",
    "data"
   ]
  },
  {
   "cell_type": "markdown",
   "metadata": {},
   "source": [
    "### Применим фреймворк ICE для приоритизации гипотез. Отсортируем их по убыванию приоритета."
   ]
  },
  {
   "cell_type": "code",
   "execution_count": 4,
   "metadata": {},
   "outputs": [
    {
     "data": {
      "text/html": [
       "<div>\n",
       "<style scoped>\n",
       "    .dataframe tbody tr th:only-of-type {\n",
       "        vertical-align: middle;\n",
       "    }\n",
       "\n",
       "    .dataframe tbody tr th {\n",
       "        vertical-align: top;\n",
       "    }\n",
       "\n",
       "    .dataframe thead th {\n",
       "        text-align: right;\n",
       "    }\n",
       "</style>\n",
       "<table border=\"1\" class=\"dataframe\">\n",
       "  <thead>\n",
       "    <tr style=\"text-align: right;\">\n",
       "      <th></th>\n",
       "      <th>hypothesis</th>\n",
       "      <th>ICE</th>\n",
       "    </tr>\n",
       "  </thead>\n",
       "  <tbody>\n",
       "    <tr>\n",
       "      <th>8</th>\n",
       "      <td>Запустить акцию, дающую скидку на товар в день рождения</td>\n",
       "      <td>16.200000</td>\n",
       "    </tr>\n",
       "    <tr>\n",
       "      <th>0</th>\n",
       "      <td>Добавить два новых канала привлечения трафика, что позволит привлекать на 30% больше пользователей</td>\n",
       "      <td>13.333333</td>\n",
       "    </tr>\n",
       "    <tr>\n",
       "      <th>7</th>\n",
       "      <td>Добавить форму подписки на все основные страницы, чтобы собрать базу клиентов для email-рассылок</td>\n",
       "      <td>11.200000</td>\n",
       "    </tr>\n",
       "    <tr>\n",
       "      <th>6</th>\n",
       "      <td>Показать на главной странице баннеры с актуальными акциями и распродажами, чтобы увеличить конверсию</td>\n",
       "      <td>8.000000</td>\n",
       "    </tr>\n",
       "    <tr>\n",
       "      <th>2</th>\n",
       "      <td>Добавить блоки рекомендаций товаров на сайт интернет магазина, чтобы повысить конверсию и средний чек заказа</td>\n",
       "      <td>7.000000</td>\n",
       "    </tr>\n",
       "    <tr>\n",
       "      <th>1</th>\n",
       "      <td>Запустить собственную службу доставки, что сократит срок доставки заказов</td>\n",
       "      <td>2.000000</td>\n",
       "    </tr>\n",
       "    <tr>\n",
       "      <th>5</th>\n",
       "      <td>Добавить страницу отзывов клиентов о магазине, что позволит увеличить количество заказов</td>\n",
       "      <td>1.333333</td>\n",
       "    </tr>\n",
       "    <tr>\n",
       "      <th>3</th>\n",
       "      <td>Изменить структура категорий, что увеличит конверсию, т.к. пользователи быстрее найдут нужный товар</td>\n",
       "      <td>1.125000</td>\n",
       "    </tr>\n",
       "    <tr>\n",
       "      <th>4</th>\n",
       "      <td>Изменить цвет фона главной страницы, чтобы увеличить вовлеченность пользователей</td>\n",
       "      <td>1.000000</td>\n",
       "    </tr>\n",
       "  </tbody>\n",
       "</table>\n",
       "</div>"
      ],
      "text/plain": [
       "                                                                                                     hypothesis  \\\n",
       "8                                                       Запустить акцию, дающую скидку на товар в день рождения   \n",
       "0            Добавить два новых канала привлечения трафика, что позволит привлекать на 30% больше пользователей   \n",
       "7              Добавить форму подписки на все основные страницы, чтобы собрать базу клиентов для email-рассылок   \n",
       "6          Показать на главной странице баннеры с актуальными акциями и распродажами, чтобы увеличить конверсию   \n",
       "2  Добавить блоки рекомендаций товаров на сайт интернет магазина, чтобы повысить конверсию и средний чек заказа   \n",
       "1                                     Запустить собственную службу доставки, что сократит срок доставки заказов   \n",
       "5                      Добавить страницу отзывов клиентов о магазине, что позволит увеличить количество заказов   \n",
       "3           Изменить структура категорий, что увеличит конверсию, т.к. пользователи быстрее найдут нужный товар   \n",
       "4                              Изменить цвет фона главной страницы, чтобы увеличить вовлеченность пользователей   \n",
       "\n",
       "         ICE  \n",
       "8  16.200000  \n",
       "0  13.333333  \n",
       "7  11.200000  \n",
       "6   8.000000  \n",
       "2   7.000000  \n",
       "1   2.000000  \n",
       "5   1.333333  \n",
       "3   1.125000  \n",
       "4   1.000000  "
      ]
     },
     "metadata": {},
     "output_type": "display_data"
    }
   ],
   "source": [
    "data['ICE'] = (data['impact']*data['confidence'])/data['efforts']\n",
    "display(data[['hypothesis','ICE']].sort_values(by='ICE', ascending=False))"
   ]
  },
  {
   "cell_type": "code",
   "execution_count": 5,
   "metadata": {},
   "outputs": [
    {
     "name": "stdout",
     "output_type": "stream",
     "text": [
      "Наиболее перспективыне гипотезы\n"
     ]
    },
    {
     "data": {
      "text/html": [
       "<div>\n",
       "<style scoped>\n",
       "    .dataframe tbody tr th:only-of-type {\n",
       "        vertical-align: middle;\n",
       "    }\n",
       "\n",
       "    .dataframe tbody tr th {\n",
       "        vertical-align: top;\n",
       "    }\n",
       "\n",
       "    .dataframe thead th {\n",
       "        text-align: right;\n",
       "    }\n",
       "</style>\n",
       "<table border=\"1\" class=\"dataframe\">\n",
       "  <thead>\n",
       "    <tr style=\"text-align: right;\">\n",
       "      <th></th>\n",
       "      <th>hypothesis</th>\n",
       "      <th>ICE</th>\n",
       "    </tr>\n",
       "  </thead>\n",
       "  <tbody>\n",
       "    <tr>\n",
       "      <th>8</th>\n",
       "      <td>Запустить акцию, дающую скидку на товар в день рождения</td>\n",
       "      <td>16.200000</td>\n",
       "    </tr>\n",
       "    <tr>\n",
       "      <th>0</th>\n",
       "      <td>Добавить два новых канала привлечения трафика, что позволит привлекать на 30% больше пользователей</td>\n",
       "      <td>13.333333</td>\n",
       "    </tr>\n",
       "    <tr>\n",
       "      <th>7</th>\n",
       "      <td>Добавить форму подписки на все основные страницы, чтобы собрать базу клиентов для email-рассылок</td>\n",
       "      <td>11.200000</td>\n",
       "    </tr>\n",
       "    <tr>\n",
       "      <th>6</th>\n",
       "      <td>Показать на главной странице баннеры с актуальными акциями и распродажами, чтобы увеличить конверсию</td>\n",
       "      <td>8.000000</td>\n",
       "    </tr>\n",
       "  </tbody>\n",
       "</table>\n",
       "</div>"
      ],
      "text/plain": [
       "                                                                                             hypothesis  \\\n",
       "8                                               Запустить акцию, дающую скидку на товар в день рождения   \n",
       "0    Добавить два новых канала привлечения трафика, что позволит привлекать на 30% больше пользователей   \n",
       "7      Добавить форму подписки на все основные страницы, чтобы собрать базу клиентов для email-рассылок   \n",
       "6  Показать на главной странице баннеры с актуальными акциями и распродажами, чтобы увеличить конверсию   \n",
       "\n",
       "         ICE  \n",
       "8  16.200000  \n",
       "0  13.333333  \n",
       "7  11.200000  \n",
       "6   8.000000  "
      ]
     },
     "metadata": {},
     "output_type": "display_data"
    }
   ],
   "source": [
    "print('Наиболее перспективыне гипотезы')\n",
    "display(data[['hypothesis','ICE']].sort_values(by='ICE', ascending=False).head(4))"
   ]
  },
  {
   "cell_type": "markdown",
   "metadata": {},
   "source": [
    "### Применим фреймворк RICE для приоритизации гипотез. Отсортируем их по убыванию приоритета."
   ]
  },
  {
   "cell_type": "code",
   "execution_count": 6,
   "metadata": {},
   "outputs": [
    {
     "data": {
      "text/html": [
       "<div>\n",
       "<style scoped>\n",
       "    .dataframe tbody tr th:only-of-type {\n",
       "        vertical-align: middle;\n",
       "    }\n",
       "\n",
       "    .dataframe tbody tr th {\n",
       "        vertical-align: top;\n",
       "    }\n",
       "\n",
       "    .dataframe thead th {\n",
       "        text-align: right;\n",
       "    }\n",
       "</style>\n",
       "<table border=\"1\" class=\"dataframe\">\n",
       "  <thead>\n",
       "    <tr style=\"text-align: right;\">\n",
       "      <th></th>\n",
       "      <th>hypothesis</th>\n",
       "      <th>RICE</th>\n",
       "    </tr>\n",
       "  </thead>\n",
       "  <tbody>\n",
       "    <tr>\n",
       "      <th>7</th>\n",
       "      <td>Добавить форму подписки на все основные страницы, чтобы собрать базу клиентов для email-рассылок</td>\n",
       "      <td>112.0</td>\n",
       "    </tr>\n",
       "    <tr>\n",
       "      <th>2</th>\n",
       "      <td>Добавить блоки рекомендаций товаров на сайт интернет магазина, чтобы повысить конверсию и средний чек заказа</td>\n",
       "      <td>56.0</td>\n",
       "    </tr>\n",
       "    <tr>\n",
       "      <th>0</th>\n",
       "      <td>Добавить два новых канала привлечения трафика, что позволит привлекать на 30% больше пользователей</td>\n",
       "      <td>40.0</td>\n",
       "    </tr>\n",
       "    <tr>\n",
       "      <th>6</th>\n",
       "      <td>Показать на главной странице баннеры с актуальными акциями и распродажами, чтобы увеличить конверсию</td>\n",
       "      <td>40.0</td>\n",
       "    </tr>\n",
       "    <tr>\n",
       "      <th>8</th>\n",
       "      <td>Запустить акцию, дающую скидку на товар в день рождения</td>\n",
       "      <td>16.2</td>\n",
       "    </tr>\n",
       "    <tr>\n",
       "      <th>3</th>\n",
       "      <td>Изменить структура категорий, что увеличит конверсию, т.к. пользователи быстрее найдут нужный товар</td>\n",
       "      <td>9.0</td>\n",
       "    </tr>\n",
       "    <tr>\n",
       "      <th>1</th>\n",
       "      <td>Запустить собственную службу доставки, что сократит срок доставки заказов</td>\n",
       "      <td>4.0</td>\n",
       "    </tr>\n",
       "    <tr>\n",
       "      <th>5</th>\n",
       "      <td>Добавить страницу отзывов клиентов о магазине, что позволит увеличить количество заказов</td>\n",
       "      <td>4.0</td>\n",
       "    </tr>\n",
       "    <tr>\n",
       "      <th>4</th>\n",
       "      <td>Изменить цвет фона главной страницы, чтобы увеличить вовлеченность пользователей</td>\n",
       "      <td>3.0</td>\n",
       "    </tr>\n",
       "  </tbody>\n",
       "</table>\n",
       "</div>"
      ],
      "text/plain": [
       "                                                                                                     hypothesis  \\\n",
       "7              Добавить форму подписки на все основные страницы, чтобы собрать базу клиентов для email-рассылок   \n",
       "2  Добавить блоки рекомендаций товаров на сайт интернет магазина, чтобы повысить конверсию и средний чек заказа   \n",
       "0            Добавить два новых канала привлечения трафика, что позволит привлекать на 30% больше пользователей   \n",
       "6          Показать на главной странице баннеры с актуальными акциями и распродажами, чтобы увеличить конверсию   \n",
       "8                                                       Запустить акцию, дающую скидку на товар в день рождения   \n",
       "3           Изменить структура категорий, что увеличит конверсию, т.к. пользователи быстрее найдут нужный товар   \n",
       "1                                     Запустить собственную службу доставки, что сократит срок доставки заказов   \n",
       "5                      Добавить страницу отзывов клиентов о магазине, что позволит увеличить количество заказов   \n",
       "4                              Изменить цвет фона главной страницы, чтобы увеличить вовлеченность пользователей   \n",
       "\n",
       "    RICE  \n",
       "7  112.0  \n",
       "2   56.0  \n",
       "0   40.0  \n",
       "6   40.0  \n",
       "8   16.2  \n",
       "3    9.0  \n",
       "1    4.0  \n",
       "5    4.0  \n",
       "4    3.0  "
      ]
     },
     "metadata": {},
     "output_type": "display_data"
    }
   ],
   "source": [
    "data['RICE'] = (data['reach']*data['impact']*data['confidence'])/data['efforts']\n",
    "display(data[['hypothesis','RICE']].sort_values(by='RICE', ascending=False))"
   ]
  },
  {
   "cell_type": "code",
   "execution_count": 7,
   "metadata": {},
   "outputs": [
    {
     "name": "stdout",
     "output_type": "stream",
     "text": [
      "Наиболее перспективыне гипотезы\n"
     ]
    },
    {
     "data": {
      "text/html": [
       "<div>\n",
       "<style scoped>\n",
       "    .dataframe tbody tr th:only-of-type {\n",
       "        vertical-align: middle;\n",
       "    }\n",
       "\n",
       "    .dataframe tbody tr th {\n",
       "        vertical-align: top;\n",
       "    }\n",
       "\n",
       "    .dataframe thead th {\n",
       "        text-align: right;\n",
       "    }\n",
       "</style>\n",
       "<table border=\"1\" class=\"dataframe\">\n",
       "  <thead>\n",
       "    <tr style=\"text-align: right;\">\n",
       "      <th></th>\n",
       "      <th>hypothesis</th>\n",
       "      <th>RICE</th>\n",
       "    </tr>\n",
       "  </thead>\n",
       "  <tbody>\n",
       "    <tr>\n",
       "      <th>7</th>\n",
       "      <td>Добавить форму подписки на все основные страницы, чтобы собрать базу клиентов для email-рассылок</td>\n",
       "      <td>112.0</td>\n",
       "    </tr>\n",
       "    <tr>\n",
       "      <th>2</th>\n",
       "      <td>Добавить блоки рекомендаций товаров на сайт интернет магазина, чтобы повысить конверсию и средний чек заказа</td>\n",
       "      <td>56.0</td>\n",
       "    </tr>\n",
       "    <tr>\n",
       "      <th>0</th>\n",
       "      <td>Добавить два новых канала привлечения трафика, что позволит привлекать на 30% больше пользователей</td>\n",
       "      <td>40.0</td>\n",
       "    </tr>\n",
       "    <tr>\n",
       "      <th>6</th>\n",
       "      <td>Показать на главной странице баннеры с актуальными акциями и распродажами, чтобы увеличить конверсию</td>\n",
       "      <td>40.0</td>\n",
       "    </tr>\n",
       "  </tbody>\n",
       "</table>\n",
       "</div>"
      ],
      "text/plain": [
       "                                                                                                     hypothesis  \\\n",
       "7              Добавить форму подписки на все основные страницы, чтобы собрать базу клиентов для email-рассылок   \n",
       "2  Добавить блоки рекомендаций товаров на сайт интернет магазина, чтобы повысить конверсию и средний чек заказа   \n",
       "0            Добавить два новых канала привлечения трафика, что позволит привлекать на 30% больше пользователей   \n",
       "6          Показать на главной странице баннеры с актуальными акциями и распродажами, чтобы увеличить конверсию   \n",
       "\n",
       "    RICE  \n",
       "7  112.0  \n",
       "2   56.0  \n",
       "0   40.0  \n",
       "6   40.0  "
      ]
     },
     "metadata": {},
     "output_type": "display_data"
    }
   ],
   "source": [
    "print('Наиболее перспективыне гипотезы')\n",
    "display(data[['hypothesis','RICE']].sort_values(by='RICE', ascending=False).head(4))"
   ]
  },
  {
   "cell_type": "markdown",
   "metadata": {},
   "source": [
    "### Укажите, как изменилась приоритизация гипотез при применении RICE вместо ICE. Объясните, почему так произошло."
   ]
  },
  {
   "cell_type": "markdown",
   "metadata": {},
   "source": [
    "При применении фреймворка ICE лидеры гипотезы  8,0,7,6.<br> \n",
    "При применении фреймворка RICE лидеры гипотезы 7,2,0,6.<br>\n",
    "При применении обоих методов видим в числе лидеров гипотезы 0,6,7.<br>\n",
    "После применения фраймеворка RICE на первом месте оказалась гипотеза номер 7: Добавить форму подписки на все основные страницы, чтобы собрать базу клиентов для email-рассылок. Смена лидера обусловлена большим значением параметра Reach=10 (это парметр охвата пользоватлей по 10 бальной шкале), в то время как у дригих гипотез он меньше."
   ]
  },
  {
   "cell_type": "markdown",
   "metadata": {},
   "source": [
    "## часть: Анализ A/B-теста"
   ]
  },
  {
   "cell_type": "code",
   "execution_count": 8,
   "metadata": {},
   "outputs": [],
   "source": [
    "# Загрузим данные для 2й части\n",
    "try: \n",
    "    orders  = pd.read_csv('/datasets/orders.csv', sep=',')   # данные по заказам \n",
    "    visitors= pd.read_csv('/datasets/visitors.csv', sep=',') # данные по посетителям\n",
    "except:\n",
    "    orders   = pd.read_csv('https://code.s3.yandex.net/datasets/orders.csv', sep=',')    \n",
    "    visitors = pd.read_csv('https://code.s3.yandex.net/datasets/visitors.csv', sep=',') "
   ]
  },
  {
   "cell_type": "code",
   "execution_count": 9,
   "metadata": {},
   "outputs": [
    {
     "data": {
      "text/html": [
       "<div>\n",
       "<style scoped>\n",
       "    .dataframe tbody tr th:only-of-type {\n",
       "        vertical-align: middle;\n",
       "    }\n",
       "\n",
       "    .dataframe tbody tr th {\n",
       "        vertical-align: top;\n",
       "    }\n",
       "\n",
       "    .dataframe thead th {\n",
       "        text-align: right;\n",
       "    }\n",
       "</style>\n",
       "<table border=\"1\" class=\"dataframe\">\n",
       "  <thead>\n",
       "    <tr style=\"text-align: right;\">\n",
       "      <th></th>\n",
       "      <th>transactionId</th>\n",
       "      <th>visitorId</th>\n",
       "      <th>date</th>\n",
       "      <th>revenue</th>\n",
       "      <th>group</th>\n",
       "    </tr>\n",
       "  </thead>\n",
       "  <tbody>\n",
       "    <tr>\n",
       "      <th>0</th>\n",
       "      <td>3667963787</td>\n",
       "      <td>3312258926</td>\n",
       "      <td>2019-08-15</td>\n",
       "      <td>1650</td>\n",
       "      <td>B</td>\n",
       "    </tr>\n",
       "    <tr>\n",
       "      <th>1</th>\n",
       "      <td>2804400009</td>\n",
       "      <td>3642806036</td>\n",
       "      <td>2019-08-15</td>\n",
       "      <td>730</td>\n",
       "      <td>B</td>\n",
       "    </tr>\n",
       "    <tr>\n",
       "      <th>2</th>\n",
       "      <td>2961555356</td>\n",
       "      <td>4069496402</td>\n",
       "      <td>2019-08-15</td>\n",
       "      <td>400</td>\n",
       "      <td>A</td>\n",
       "    </tr>\n",
       "    <tr>\n",
       "      <th>3</th>\n",
       "      <td>3797467345</td>\n",
       "      <td>1196621759</td>\n",
       "      <td>2019-08-15</td>\n",
       "      <td>9759</td>\n",
       "      <td>B</td>\n",
       "    </tr>\n",
       "    <tr>\n",
       "      <th>4</th>\n",
       "      <td>2282983706</td>\n",
       "      <td>2322279887</td>\n",
       "      <td>2019-08-15</td>\n",
       "      <td>2308</td>\n",
       "      <td>B</td>\n",
       "    </tr>\n",
       "    <tr>\n",
       "      <th>...</th>\n",
       "      <td>...</td>\n",
       "      <td>...</td>\n",
       "      <td>...</td>\n",
       "      <td>...</td>\n",
       "      <td>...</td>\n",
       "    </tr>\n",
       "    <tr>\n",
       "      <th>1192</th>\n",
       "      <td>2662137336</td>\n",
       "      <td>3733762160</td>\n",
       "      <td>2019-08-14</td>\n",
       "      <td>6490</td>\n",
       "      <td>B</td>\n",
       "    </tr>\n",
       "    <tr>\n",
       "      <th>1193</th>\n",
       "      <td>2203539145</td>\n",
       "      <td>370388673</td>\n",
       "      <td>2019-08-14</td>\n",
       "      <td>3190</td>\n",
       "      <td>A</td>\n",
       "    </tr>\n",
       "    <tr>\n",
       "      <th>1194</th>\n",
       "      <td>1807773912</td>\n",
       "      <td>573423106</td>\n",
       "      <td>2019-08-14</td>\n",
       "      <td>10550</td>\n",
       "      <td>A</td>\n",
       "    </tr>\n",
       "    <tr>\n",
       "      <th>1195</th>\n",
       "      <td>1947021204</td>\n",
       "      <td>1614305549</td>\n",
       "      <td>2019-08-14</td>\n",
       "      <td>100</td>\n",
       "      <td>A</td>\n",
       "    </tr>\n",
       "    <tr>\n",
       "      <th>1196</th>\n",
       "      <td>3936777065</td>\n",
       "      <td>2108080724</td>\n",
       "      <td>2019-08-15</td>\n",
       "      <td>202740</td>\n",
       "      <td>B</td>\n",
       "    </tr>\n",
       "  </tbody>\n",
       "</table>\n",
       "<p>1197 rows × 5 columns</p>\n",
       "</div>"
      ],
      "text/plain": [
       "      transactionId   visitorId        date  revenue group\n",
       "0        3667963787  3312258926  2019-08-15     1650     B\n",
       "1        2804400009  3642806036  2019-08-15      730     B\n",
       "2        2961555356  4069496402  2019-08-15      400     A\n",
       "3        3797467345  1196621759  2019-08-15     9759     B\n",
       "4        2282983706  2322279887  2019-08-15     2308     B\n",
       "...             ...         ...         ...      ...   ...\n",
       "1192     2662137336  3733762160  2019-08-14     6490     B\n",
       "1193     2203539145   370388673  2019-08-14     3190     A\n",
       "1194     1807773912   573423106  2019-08-14    10550     A\n",
       "1195     1947021204  1614305549  2019-08-14      100     A\n",
       "1196     3936777065  2108080724  2019-08-15   202740     B\n",
       "\n",
       "[1197 rows x 5 columns]"
      ]
     },
     "execution_count": 9,
     "metadata": {},
     "output_type": "execute_result"
    }
   ],
   "source": [
    "# изучим orders\n",
    "orders"
   ]
  },
  {
   "cell_type": "code",
   "execution_count": 10,
   "metadata": {},
   "outputs": [
    {
     "name": "stdout",
     "output_type": "stream",
     "text": [
      "<class 'pandas.core.frame.DataFrame'>\n",
      "RangeIndex: 1197 entries, 0 to 1196\n",
      "Data columns (total 5 columns):\n",
      " #   Column         Non-Null Count  Dtype \n",
      "---  ------         --------------  ----- \n",
      " 0   transactionId  1197 non-null   int64 \n",
      " 1   visitorId      1197 non-null   int64 \n",
      " 2   date           1197 non-null   object\n",
      " 3   revenue        1197 non-null   int64 \n",
      " 4   group          1197 non-null   object\n",
      "dtypes: int64(3), object(2)\n",
      "memory usage: 46.9+ KB\n"
     ]
    }
   ],
   "source": [
    "orders.info()"
   ]
  },
  {
   "cell_type": "code",
   "execution_count": 11,
   "metadata": {},
   "outputs": [
    {
     "data": {
      "text/plain": [
       "0"
      ]
     },
     "execution_count": 11,
     "metadata": {},
     "output_type": "execute_result"
    }
   ],
   "source": [
    "orders.duplicated().sum()"
   ]
  },
  {
   "cell_type": "markdown",
   "metadata": {},
   "source": [
    "Пропусков нет, полных дубликатов нет. Столбец даты имеет неверный формат, изменим его"
   ]
  },
  {
   "cell_type": "code",
   "execution_count": 12,
   "metadata": {},
   "outputs": [],
   "source": [
    "orders['date'] = pd.to_datetime(orders['date'])"
   ]
  },
  {
   "cell_type": "code",
   "execution_count": 13,
   "metadata": {},
   "outputs": [
    {
     "data": {
      "text/html": [
       "<div>\n",
       "<style scoped>\n",
       "    .dataframe tbody tr th:only-of-type {\n",
       "        vertical-align: middle;\n",
       "    }\n",
       "\n",
       "    .dataframe tbody tr th {\n",
       "        vertical-align: top;\n",
       "    }\n",
       "\n",
       "    .dataframe thead th {\n",
       "        text-align: right;\n",
       "    }\n",
       "</style>\n",
       "<table border=\"1\" class=\"dataframe\">\n",
       "  <thead>\n",
       "    <tr style=\"text-align: right;\">\n",
       "      <th></th>\n",
       "      <th>date</th>\n",
       "      <th>group</th>\n",
       "      <th>visitors</th>\n",
       "    </tr>\n",
       "  </thead>\n",
       "  <tbody>\n",
       "    <tr>\n",
       "      <th>0</th>\n",
       "      <td>2019-08-01</td>\n",
       "      <td>A</td>\n",
       "      <td>719</td>\n",
       "    </tr>\n",
       "    <tr>\n",
       "      <th>1</th>\n",
       "      <td>2019-08-02</td>\n",
       "      <td>A</td>\n",
       "      <td>619</td>\n",
       "    </tr>\n",
       "    <tr>\n",
       "      <th>2</th>\n",
       "      <td>2019-08-03</td>\n",
       "      <td>A</td>\n",
       "      <td>507</td>\n",
       "    </tr>\n",
       "    <tr>\n",
       "      <th>3</th>\n",
       "      <td>2019-08-04</td>\n",
       "      <td>A</td>\n",
       "      <td>717</td>\n",
       "    </tr>\n",
       "    <tr>\n",
       "      <th>4</th>\n",
       "      <td>2019-08-05</td>\n",
       "      <td>A</td>\n",
       "      <td>756</td>\n",
       "    </tr>\n",
       "    <tr>\n",
       "      <th>...</th>\n",
       "      <td>...</td>\n",
       "      <td>...</td>\n",
       "      <td>...</td>\n",
       "    </tr>\n",
       "    <tr>\n",
       "      <th>57</th>\n",
       "      <td>2019-08-27</td>\n",
       "      <td>B</td>\n",
       "      <td>720</td>\n",
       "    </tr>\n",
       "    <tr>\n",
       "      <th>58</th>\n",
       "      <td>2019-08-28</td>\n",
       "      <td>B</td>\n",
       "      <td>654</td>\n",
       "    </tr>\n",
       "    <tr>\n",
       "      <th>59</th>\n",
       "      <td>2019-08-29</td>\n",
       "      <td>B</td>\n",
       "      <td>531</td>\n",
       "    </tr>\n",
       "    <tr>\n",
       "      <th>60</th>\n",
       "      <td>2019-08-30</td>\n",
       "      <td>B</td>\n",
       "      <td>490</td>\n",
       "    </tr>\n",
       "    <tr>\n",
       "      <th>61</th>\n",
       "      <td>2019-08-31</td>\n",
       "      <td>B</td>\n",
       "      <td>718</td>\n",
       "    </tr>\n",
       "  </tbody>\n",
       "</table>\n",
       "<p>62 rows × 3 columns</p>\n",
       "</div>"
      ],
      "text/plain": [
       "          date group  visitors\n",
       "0   2019-08-01     A       719\n",
       "1   2019-08-02     A       619\n",
       "2   2019-08-03     A       507\n",
       "3   2019-08-04     A       717\n",
       "4   2019-08-05     A       756\n",
       "..         ...   ...       ...\n",
       "57  2019-08-27     B       720\n",
       "58  2019-08-28     B       654\n",
       "59  2019-08-29     B       531\n",
       "60  2019-08-30     B       490\n",
       "61  2019-08-31     B       718\n",
       "\n",
       "[62 rows x 3 columns]"
      ]
     },
     "execution_count": 13,
     "metadata": {},
     "output_type": "execute_result"
    }
   ],
   "source": [
    "# изучим visitors\n",
    "visitors"
   ]
  },
  {
   "cell_type": "code",
   "execution_count": 14,
   "metadata": {},
   "outputs": [
    {
     "name": "stdout",
     "output_type": "stream",
     "text": [
      "<class 'pandas.core.frame.DataFrame'>\n",
      "RangeIndex: 62 entries, 0 to 61\n",
      "Data columns (total 3 columns):\n",
      " #   Column    Non-Null Count  Dtype \n",
      "---  ------    --------------  ----- \n",
      " 0   date      62 non-null     object\n",
      " 1   group     62 non-null     object\n",
      " 2   visitors  62 non-null     int64 \n",
      "dtypes: int64(1), object(2)\n",
      "memory usage: 1.6+ KB\n"
     ]
    }
   ],
   "source": [
    "visitors.info()"
   ]
  },
  {
   "cell_type": "code",
   "execution_count": 15,
   "metadata": {},
   "outputs": [
    {
     "data": {
      "text/plain": [
       "0"
      ]
     },
     "execution_count": 15,
     "metadata": {},
     "output_type": "execute_result"
    }
   ],
   "source": [
    "visitors.duplicated().sum()"
   ]
  },
  {
   "cell_type": "markdown",
   "metadata": {},
   "source": [
    "Пропусков нет, полных дубликатов нет. Дата также имеет неверный формат, изменим ее:"
   ]
  },
  {
   "cell_type": "code",
   "execution_count": 16,
   "metadata": {},
   "outputs": [],
   "source": [
    "visitors['date'] = pd.to_datetime(visitors['date'])"
   ]
  },
  {
   "cell_type": "code",
   "execution_count": 17,
   "metadata": {},
   "outputs": [
    {
     "name": "stdout",
     "output_type": "stream",
     "text": [
      "Общее количество пользоватлей 1197 . Входит в обе группы: 58 это составляет 4.85 % от общего числа пользователей\n"
     ]
    }
   ],
   "source": [
    "# проверим дублирование пользоватлей в группах\n",
    "dubli=orders.groupby('visitorId').agg({'group': pd.Series.nunique}).query('group == 2').count()\n",
    "proc=round(int(dubli)/orders.shape[0]*100,2)\n",
    "print('Общее количество пользоватлей', orders.shape[0],'. Входит в обе группы:', int(dubli), 'это составляет', proc,'% от общего числа пользователей'  )\n"
   ]
  },
  {
   "cell_type": "code",
   "execution_count": 18,
   "metadata": {},
   "outputs": [],
   "source": [
    "# сощдадим список и отфильтруем по нему\n",
    "dubli2=orders.groupby('visitorId').agg({'group': pd.Series.nunique}).query('group == 2').drop(columns=['group'])\n",
    "dubli2=dubli2.index.tolist()\n",
    "orders=orders.query('visitorId not in @dubli2')"
   ]
  },
  {
   "cell_type": "markdown",
   "metadata": {},
   "source": [
    "### Построим график кумулятивной выручки по группам. Сделаем выводы и предположения."
   ]
  },
  {
   "cell_type": "code",
   "execution_count": 19,
   "metadata": {},
   "outputs": [
    {
     "data": {
      "text/html": [
       "<div>\n",
       "<style scoped>\n",
       "    .dataframe tbody tr th:only-of-type {\n",
       "        vertical-align: middle;\n",
       "    }\n",
       "\n",
       "    .dataframe tbody tr th {\n",
       "        vertical-align: top;\n",
       "    }\n",
       "\n",
       "    .dataframe thead th {\n",
       "        text-align: right;\n",
       "    }\n",
       "</style>\n",
       "<table border=\"1\" class=\"dataframe\">\n",
       "  <thead>\n",
       "    <tr style=\"text-align: right;\">\n",
       "      <th></th>\n",
       "      <th>date</th>\n",
       "      <th>group</th>\n",
       "      <th>orders</th>\n",
       "      <th>buyers</th>\n",
       "      <th>revenue</th>\n",
       "      <th>visitors</th>\n",
       "    </tr>\n",
       "  </thead>\n",
       "  <tbody>\n",
       "    <tr>\n",
       "      <th>0</th>\n",
       "      <td>2019-08-01</td>\n",
       "      <td>A</td>\n",
       "      <td>23</td>\n",
       "      <td>19</td>\n",
       "      <td>142779</td>\n",
       "      <td>719</td>\n",
       "    </tr>\n",
       "    <tr>\n",
       "      <th>1</th>\n",
       "      <td>2019-08-01</td>\n",
       "      <td>B</td>\n",
       "      <td>17</td>\n",
       "      <td>17</td>\n",
       "      <td>59758</td>\n",
       "      <td>713</td>\n",
       "    </tr>\n",
       "    <tr>\n",
       "      <th>2</th>\n",
       "      <td>2019-08-02</td>\n",
       "      <td>A</td>\n",
       "      <td>42</td>\n",
       "      <td>36</td>\n",
       "      <td>234381</td>\n",
       "      <td>1338</td>\n",
       "    </tr>\n",
       "    <tr>\n",
       "      <th>3</th>\n",
       "      <td>2019-08-02</td>\n",
       "      <td>B</td>\n",
       "      <td>40</td>\n",
       "      <td>39</td>\n",
       "      <td>221801</td>\n",
       "      <td>1294</td>\n",
       "    </tr>\n",
       "    <tr>\n",
       "      <th>4</th>\n",
       "      <td>2019-08-03</td>\n",
       "      <td>A</td>\n",
       "      <td>66</td>\n",
       "      <td>60</td>\n",
       "      <td>346854</td>\n",
       "      <td>1845</td>\n",
       "    </tr>\n",
       "  </tbody>\n",
       "</table>\n",
       "</div>"
      ],
      "text/plain": [
       "        date group  orders  buyers  revenue  visitors\n",
       "0 2019-08-01     A      23      19   142779       719\n",
       "1 2019-08-01     B      17      17    59758       713\n",
       "2 2019-08-02     A      42      36   234381      1338\n",
       "3 2019-08-02     B      40      39   221801      1294\n",
       "4 2019-08-03     A      66      60   346854      1845"
      ]
     },
     "execution_count": 19,
     "metadata": {},
     "output_type": "execute_result"
    }
   ],
   "source": [
    "# массив уникальных пар значений дат и групп \n",
    "datesGroups=orders[['date','group']].drop_duplicates()\n",
    "# кумулятивные данные о заказах по дням  \n",
    "ordersAgg = (datesGroups.apply(lambda x: orders[np.logical_and(orders['date'] <= x['date'],orders['group'] == x['group'])]\n",
    "            .agg({'date' : 'max', 'group' : 'max', 'transactionId' : 'nunique', 'visitorId' : 'nunique', 'revenue' : 'sum'}),\n",
    "            axis=1).sort_values(by=['date','group']))\n",
    "# кумулятивные данные о посетителях интернет-магазина по дням  \n",
    "visitorsAgg = (datesGroups.apply(lambda x: visitors[np.logical_and(visitors['date'] <= x['date'],\n",
    "    visitors['group'] == x['group'])].agg({'date' : 'max', 'group' : 'max', 'visitors' : 'sum'}), \n",
    "                                 axis=1).sort_values(by=['date','group']))\n",
    "# объединяем кумулятивные данные в единую таблицу\n",
    "cumulative = ordersAgg.merge(visitorsAgg, left_on=['date', 'group'], right_on=['date', 'group'])\n",
    "# переименовываем названия колонок\n",
    "cumulative.columns = ['date', 'group', 'orders', 'buyers', 'revenue', 'visitors']\n",
    "cumulative.head(5)"
   ]
  },
  {
   "cell_type": "code",
   "execution_count": 20,
   "metadata": {},
   "outputs": [
    {
     "data": {
      "image/png": "[encoded data removed]",
      "text/plain": [
       "<Figure size 432x288 with 1 Axes>"
      ]
     },
     "metadata": {
      "needs_background": "light"
     },
     "output_type": "display_data"
    }
   ],
   "source": [
    "# строим графики выручки по группам\n",
    "# выделяем данные кумулятивной выручкой по дням в группе А\n",
    "cumulativeA=cumulative[cumulative['group']=='A'][['date','revenue', 'orders']]\n",
    "# выделяем данные кумулятивной выручкой по дням в группе В\n",
    "cumulativeB=cumulative[cumulative['group']=='B'][['date','revenue', 'orders']]\n",
    "# график выручки группы А\n",
    "plt.plot(cumulativeA['date'], cumulativeA['revenue'], label='A')\n",
    "# график выручки группы B\n",
    "plt.plot(cumulativeB['date'], cumulativeB['revenue'], label='B')\n",
    "plt.legend()\n",
    "plt.grid()\n",
    "plt.ylabel('Выручка')\n",
    "plt.xlabel('Дата')\n",
    "plt.xticks(rotation = 90)\n",
    "plt.title('График выручки по группам')\n",
    "plt.show()\n"
   ]
  },
  {
   "cell_type": "markdown",
   "metadata": {},
   "source": [
    "Выручка почти равномерно увеличивается в течение всего теста, но примерно с 2019-08-17 выручка группы В начинает расти быстрее. Это может сигнализировать о всплесках числа заказов, либо о появлении очень дорогих заказов в выборке. "
   ]
  },
  {
   "cell_type": "markdown",
   "metadata": {},
   "source": [
    "### Построим график кумулятивного среднего чека по группам. Сделаем выводы и предположения."
   ]
  },
  {
   "cell_type": "code",
   "execution_count": 21,
   "metadata": {},
   "outputs": [
    {
     "data": {
      "image/png": "[encoded data removed]",
      "text/plain": [
       "<Figure size 432x288 with 1 Axes>"
      ]
     },
     "metadata": {
      "needs_background": "light"
     },
     "output_type": "display_data"
    }
   ],
   "source": [
    "# Для определения среднего чека разделим кумулятивную выручку на кумулятивные заказы\n",
    "plt.grid()\n",
    "plt.plot(cumulativeA['date'], cumulativeA['revenue']/cumulativeA['orders'], label = 'A')\n",
    "plt.plot(cumulativeB['date'], cumulativeB['revenue']/cumulativeB['orders'], label = 'B')\n",
    "plt.xticks(rotation = 90)\n",
    "plt.ylabel('Средний чек')\n",
    "plt.xlabel('Дата')\n",
    "plt.title('График кумулятивного среднего чека по группам')\n",
    "plt.legend()\n",
    "plt.show()"
   ]
  },
  {
   "cell_type": "markdown",
   "metadata": {},
   "source": [
    "Средний чек группы В растел лучше чем А. На этом графике также виден резкий рост группы B примерно с 2019-08-17. Возможно в выборку попали аномальные значения."
   ]
  },
  {
   "cell_type": "markdown",
   "metadata": {},
   "source": [
    "### Построим график относительного изменения кумулятивного среднего чека группы B к группе A. Сделаем выводы и предположения."
   ]
  },
  {
   "cell_type": "code",
   "execution_count": 22,
   "metadata": {},
   "outputs": [
    {
     "data": {
      "image/png": "[encoded data removed]",
      "text/plain": [
       "<Figure size 432x288 with 1 Axes>"
      ]
     },
     "metadata": {
      "needs_background": "light"
     },
     "output_type": "display_data"
    }
   ],
   "source": [
    "# собираем данные в одной таблице\n",
    "mergedСumulativeRevenue = cumulativeA.merge(cumulativeB, left_on='date', right_on='date', how='left', suffixes=['A', 'B'])\n",
    "# cтроим отношение средних чеков\n",
    "plt.plot(mergedСumulativeRevenue['date'], (mergedСumulativeRevenue['revenueB']/mergedСumulativeRevenue['ordersB'])/(mergedСumulativeRevenue['revenueA']/mergedСumulativeRevenue['ordersA'])-1)\n",
    "plt.axhline(y=0, color='black', linestyle='--')\n",
    "plt.ylabel('Изменение среднего чека')\n",
    "plt.xlabel('Дата')\n",
    "plt.grid()\n",
    "plt.xticks(rotation = 90)\n",
    "plt.title('График относительного изменения кумулятивного среднего чека')\n",
    "plt.show()"
   ]
  },
  {
   "cell_type": "markdown",
   "metadata": {},
   "source": [
    "В нексольких точках график резко меняется, значит уж точно спрятались крупные заказы и выбросы! "
   ]
  },
  {
   "cell_type": "markdown",
   "metadata": {},
   "source": [
    "### Построим график кумулятивного среднего количества заказов на посетителя по группам. Сделаем выводы и предположения."
   ]
  },
  {
   "cell_type": "code",
   "execution_count": 23,
   "metadata": {},
   "outputs": [
    {
     "data": {
      "text/html": [
       "<div>\n",
       "<style scoped>\n",
       "    .dataframe tbody tr th:only-of-type {\n",
       "        vertical-align: middle;\n",
       "    }\n",
       "\n",
       "    .dataframe tbody tr th {\n",
       "        vertical-align: top;\n",
       "    }\n",
       "\n",
       "    .dataframe thead th {\n",
       "        text-align: right;\n",
       "    }\n",
       "</style>\n",
       "<table border=\"1\" class=\"dataframe\">\n",
       "  <thead>\n",
       "    <tr style=\"text-align: right;\">\n",
       "      <th></th>\n",
       "      <th>date</th>\n",
       "      <th>group</th>\n",
       "      <th>orders</th>\n",
       "      <th>buyers</th>\n",
       "      <th>revenue</th>\n",
       "      <th>visitors</th>\n",
       "      <th>srednee</th>\n",
       "    </tr>\n",
       "  </thead>\n",
       "  <tbody>\n",
       "    <tr>\n",
       "      <th>0</th>\n",
       "      <td>2019-08-01</td>\n",
       "      <td>A</td>\n",
       "      <td>23</td>\n",
       "      <td>19</td>\n",
       "      <td>142779</td>\n",
       "      <td>719</td>\n",
       "      <td>0.031989</td>\n",
       "    </tr>\n",
       "    <tr>\n",
       "      <th>1</th>\n",
       "      <td>2019-08-01</td>\n",
       "      <td>B</td>\n",
       "      <td>17</td>\n",
       "      <td>17</td>\n",
       "      <td>59758</td>\n",
       "      <td>713</td>\n",
       "      <td>0.023843</td>\n",
       "    </tr>\n",
       "    <tr>\n",
       "      <th>2</th>\n",
       "      <td>2019-08-02</td>\n",
       "      <td>A</td>\n",
       "      <td>42</td>\n",
       "      <td>36</td>\n",
       "      <td>234381</td>\n",
       "      <td>1338</td>\n",
       "      <td>0.031390</td>\n",
       "    </tr>\n",
       "    <tr>\n",
       "      <th>3</th>\n",
       "      <td>2019-08-02</td>\n",
       "      <td>B</td>\n",
       "      <td>40</td>\n",
       "      <td>39</td>\n",
       "      <td>221801</td>\n",
       "      <td>1294</td>\n",
       "      <td>0.030912</td>\n",
       "    </tr>\n",
       "    <tr>\n",
       "      <th>4</th>\n",
       "      <td>2019-08-03</td>\n",
       "      <td>A</td>\n",
       "      <td>66</td>\n",
       "      <td>60</td>\n",
       "      <td>346854</td>\n",
       "      <td>1845</td>\n",
       "      <td>0.035772</td>\n",
       "    </tr>\n",
       "    <tr>\n",
       "      <th>...</th>\n",
       "      <td>...</td>\n",
       "      <td>...</td>\n",
       "      <td>...</td>\n",
       "      <td>...</td>\n",
       "      <td>...</td>\n",
       "      <td>...</td>\n",
       "      <td>...</td>\n",
       "    </tr>\n",
       "    <tr>\n",
       "      <th>57</th>\n",
       "      <td>2019-08-29</td>\n",
       "      <td>B</td>\n",
       "      <td>510</td>\n",
       "      <td>490</td>\n",
       "      <td>4746610</td>\n",
       "      <td>17708</td>\n",
       "      <td>0.028801</td>\n",
       "    </tr>\n",
       "    <tr>\n",
       "      <th>58</th>\n",
       "      <td>2019-08-30</td>\n",
       "      <td>A</td>\n",
       "      <td>460</td>\n",
       "      <td>437</td>\n",
       "      <td>3311413</td>\n",
       "      <td>18037</td>\n",
       "      <td>0.025503</td>\n",
       "    </tr>\n",
       "    <tr>\n",
       "      <th>59</th>\n",
       "      <td>2019-08-30</td>\n",
       "      <td>B</td>\n",
       "      <td>531</td>\n",
       "      <td>511</td>\n",
       "      <td>4955833</td>\n",
       "      <td>18198</td>\n",
       "      <td>0.029179</td>\n",
       "    </tr>\n",
       "    <tr>\n",
       "      <th>60</th>\n",
       "      <td>2019-08-31</td>\n",
       "      <td>A</td>\n",
       "      <td>468</td>\n",
       "      <td>445</td>\n",
       "      <td>3364656</td>\n",
       "      <td>18736</td>\n",
       "      <td>0.024979</td>\n",
       "    </tr>\n",
       "    <tr>\n",
       "      <th>61</th>\n",
       "      <td>2019-08-31</td>\n",
       "      <td>B</td>\n",
       "      <td>548</td>\n",
       "      <td>528</td>\n",
       "      <td>5068972</td>\n",
       "      <td>18916</td>\n",
       "      <td>0.028970</td>\n",
       "    </tr>\n",
       "  </tbody>\n",
       "</table>\n",
       "<p>62 rows × 7 columns</p>\n",
       "</div>"
      ],
      "text/plain": [
       "         date group  orders  buyers  revenue  visitors   srednee\n",
       "0  2019-08-01     A      23      19   142779       719  0.031989\n",
       "1  2019-08-01     B      17      17    59758       713  0.023843\n",
       "2  2019-08-02     A      42      36   234381      1338  0.031390\n",
       "3  2019-08-02     B      40      39   221801      1294  0.030912\n",
       "4  2019-08-03     A      66      60   346854      1845  0.035772\n",
       "..        ...   ...     ...     ...      ...       ...       ...\n",
       "57 2019-08-29     B     510     490  4746610     17708  0.028801\n",
       "58 2019-08-30     A     460     437  3311413     18037  0.025503\n",
       "59 2019-08-30     B     531     511  4955833     18198  0.029179\n",
       "60 2019-08-31     A     468     445  3364656     18736  0.024979\n",
       "61 2019-08-31     B     548     528  5068972     18916  0.028970\n",
       "\n",
       "[62 rows x 7 columns]"
      ]
     },
     "execution_count": 23,
     "metadata": {},
     "output_type": "execute_result"
    },
    {
     "data": {
      "image/png": "[encoded data removed]",
      "text/plain": [
       "<Figure size 432x288 with 1 Axes>"
      ]
     },
     "metadata": {
      "needs_background": "light"
     },
     "output_type": "display_data"
    }
   ],
   "source": [
    "# Для определения  среднего количества заказов на посетителя делим количество заказав на количество посетителей по группам\n",
    "cumulative['srednee'] = cumulative['orders']/cumulative['visitors']\n",
    "# отделяем данные по группе A\n",
    "cumulativeDataA = cumulative[cumulative['group']=='A']\n",
    "# отделяем данные по группе B\n",
    "cumulativeDataB = cumulative[cumulative['group']=='B']\n",
    "# строим графики\n",
    "plt.plot(cumulativeDataA['date'], cumulativeDataA['srednee'], label='A')\n",
    "plt.plot(cumulativeDataB['date'], cumulativeDataB['srednee'], label='B')\n",
    "plt.legend()\n",
    "plt.grid()\n",
    "plt.xticks(rotation = 90)\n",
    "plt.ylabel('Количество заказов на посетителя')\n",
    "plt.xlabel('Дата')\n",
    "plt.title('График кумулятивного среднего количества заказов на посетителя по группам')\n",
    "cumulative"
   ]
  },
  {
   "cell_type": "markdown",
   "metadata": {},
   "source": [
    "Графики после пересечения стали почти симетричными, количество заказов на посетителя в группе В стабильно выше группы А"
   ]
  },
  {
   "cell_type": "markdown",
   "metadata": {},
   "source": [
    "### Построим график относительного изменения кумулятивного среднего количества заказов на посетителя группы B к группе A. Сделаем выводы и предположения."
   ]
  },
  {
   "cell_type": "code",
   "execution_count": 24,
   "metadata": {},
   "outputs": [
    {
     "data": {
      "image/png": "[encoded data removed]",
      "text/plain": [
       "<Figure size 432x288 with 1 Axes>"
      ]
     },
     "metadata": {
      "needs_background": "light"
     },
     "output_type": "display_data"
    }
   ],
   "source": [
    "# собираем данные в одной таблице\n",
    "mergedCumulativeConversions = ( cumulativeDataA[['date','srednee']].merge(cumulativeDataB[['date','srednee']], \n",
    "                                left_on='date', right_on='date', how='left', suffixes=['A', 'B']))\n",
    "# cтроим отношение средних заказов на посетителя\n",
    "plt.plot(mergedCumulativeConversions['date'], mergedCumulativeConversions['sredneeB']/mergedCumulativeConversions['sredneeA']-1, label=\"Относительный прирост конверсии группы B относительно группы A\")\n",
    "plt.axhline(y=0, color='black', linestyle='--')\n",
    "plt.axhline(y=0.1, color='grey', linestyle='--')\n",
    "plt.title('График относительного изменения кумулятивного среднего количества заказов на посетителя')\n",
    "plt.ylabel('Изменение среднего количества заказов')\n",
    "plt.xlabel('Дата')\n",
    "plt.grid()\n",
    "plt.xticks(rotation = 90)\n",
    "plt.show()\n"
   ]
  },
  {
   "cell_type": "markdown",
   "metadata": {},
   "source": [
    "В начале теста группа B проигрывала группе A, затем вырвалась вперёд и практически стабилизировалась. "
   ]
  },
  {
   "cell_type": "markdown",
   "metadata": {},
   "source": [
    "### Построим точечный график количества заказов по пользователям. Сделаем выводы и предположения."
   ]
  },
  {
   "cell_type": "code",
   "execution_count": 25,
   "metadata": {},
   "outputs": [
    {
     "data": {
      "image/png": "[encoded data removed]",
      "text/plain": [
       "<Figure size 432x288 with 1 Axes>"
      ]
     },
     "metadata": {
      "needs_background": "light"
     },
     "output_type": "display_data"
    }
   ],
   "source": [
    "# сгруппируем заказы по посетителю\n",
    "ordersByUsers = (orders.groupby('visitorId', as_index=False).agg({'transactionId': 'nunique'}))\n",
    "# переименуем колонки\n",
    "ordersByUsers.columns = ['visitorId', 'orders']\n",
    "x_values = pd.Series(range(0,len(ordersByUsers)))\n",
    "plt.scatter(x_values, ordersByUsers['orders'])\n",
    "plt.ylabel('Количество заказов')\n",
    "plt.xlabel('Количество пользователей')\n",
    "plt.title('График количества заказов по пользователям')\n",
    "plt.show()"
   ]
  },
  {
   "cell_type": "code",
   "execution_count": 26,
   "metadata": {},
   "outputs": [
    {
     "name": "stdout",
     "output_type": "stream",
     "text": [
      "Максимальное число покупок 3\n"
     ]
    }
   ],
   "source": [
    "print('Максимальное число покупок', max(ordersByUsers['orders']))"
   ]
  },
  {
   "cell_type": "markdown",
   "metadata": {},
   "source": [
    "По графику видно, что оснонове количетво заказов на пользователся 1. Свыше 2х заказов пользоватлей мало и такие значения можно считать анамальными."
   ]
  },
  {
   "cell_type": "markdown",
   "metadata": {},
   "source": [
    "### Посчитаем 95-й и 99-й перцентили количества заказов на пользователя. Выберем границу для определения аномальных пользователей."
   ]
  },
  {
   "cell_type": "code",
   "execution_count": 27,
   "metadata": {},
   "outputs": [
    {
     "data": {
      "text/plain": [
       "array([1., 2.])"
      ]
     },
     "execution_count": 27,
     "metadata": {},
     "output_type": "execute_result"
    }
   ],
   "source": [
    "np.percentile(ordersByUsers['orders'], [95, 99])"
   ]
  },
  {
   "cell_type": "markdown",
   "metadata": {},
   "source": [
    "Не более 1% пользователей купили более 4 раз и не более 5% пользоватлей купили более 2х раз. <br>\n",
    "Выберем нижней границей 3 заказа заказа для определения аномальных пользователей."
   ]
  },
  {
   "cell_type": "markdown",
   "metadata": {},
   "source": [
    "### Построим точечный график стоимостей заказов. Сделаем выводы и предположения."
   ]
  },
  {
   "cell_type": "code",
   "execution_count": 28,
   "metadata": {},
   "outputs": [
    {
     "data": {
      "text/plain": [
       "Text(0.5, 1.0, 'точечный график стоимостей заказов')"
      ]
     },
     "execution_count": 28,
     "metadata": {},
     "output_type": "execute_result"
    },
    {
     "data": {
      "image/png": "[encoded data removed]",
      "text/plain": [
       "<Figure size 432x288 with 1 Axes>"
      ]
     },
     "metadata": {
      "needs_background": "light"
     },
     "output_type": "display_data"
    }
   ],
   "source": [
    "# построим точечный график\n",
    "x_values = pd.Series(range(0,len(orders['revenue'])))\n",
    "plt.scatter(x_values, orders['revenue'])\n",
    "plt.grid()\n",
    "plt.title('точечный график стоимостей заказов')"
   ]
  },
  {
   "cell_type": "code",
   "execution_count": 29,
   "metadata": {},
   "outputs": [
    {
     "name": "stdout",
     "output_type": "stream",
     "text": [
      "Максимальная сумма заказа 1294500 руб\n"
     ]
    }
   ],
   "source": [
    "print('Максимальная сумма заказа', max(orders['revenue']), 'руб')"
   ]
  },
  {
   "cell_type": "code",
   "execution_count": 30,
   "metadata": {},
   "outputs": [
    {
     "data": {
      "text/plain": [
       "<AxesSubplot:>"
      ]
     },
     "execution_count": 30,
     "metadata": {},
     "output_type": "execute_result"
    },
    {
     "data": {
      "image/png": "[encoded data removed]",
      "text/plain": [
       "<Figure size 432x288 with 1 Axes>"
      ]
     },
     "metadata": {
      "needs_background": "light"
     },
     "output_type": "display_data"
    }
   ],
   "source": [
    "orders['revenue'].hist(bins = 10, range = (0, 30000))"
   ]
  },
  {
   "cell_type": "markdown",
   "metadata": {},
   "source": [
    "На графике видны экстремальные значения, закупка на сумму более 200 тысяч и даже более 1200000 (1294500 руб). Большее число заказов менее 30000."
   ]
  },
  {
   "cell_type": "markdown",
   "metadata": {},
   "source": [
    "### Посчитаем 95-й и 99-й перцентили стоимости заказов. Выберем границу для определения аномальных заказов."
   ]
  },
  {
   "cell_type": "code",
   "execution_count": 31,
   "metadata": {},
   "outputs": [
    {
     "data": {
      "text/plain": [
       "array([26785., 53904.])"
      ]
     },
     "execution_count": 31,
     "metadata": {},
     "output_type": "execute_result"
    }
   ],
   "source": [
    "np.percentile(orders['revenue'], [95, 99])"
   ]
  },
  {
   "cell_type": "markdown",
   "metadata": {},
   "source": [
    "Не более 1% заказов было на сумму свыше 53904 и не более 5% заказов на сумму 26785. Для нижней границы определения аномальных заказов выберем 26785."
   ]
  },
  {
   "cell_type": "markdown",
   "metadata": {},
   "source": [
    "###  Посчитаем статистическую значимость различий в среднем количестве заказов на посетителя между группами по «сырым» данным. Сделаем выводы и предположения."
   ]
  },
  {
   "cell_type": "code",
   "execution_count": 32,
   "metadata": {},
   "outputs": [
    {
     "data": {
      "text/html": [
       "<div>\n",
       "<style scoped>\n",
       "    .dataframe tbody tr th:only-of-type {\n",
       "        vertical-align: middle;\n",
       "    }\n",
       "\n",
       "    .dataframe tbody tr th {\n",
       "        vertical-align: top;\n",
       "    }\n",
       "\n",
       "    .dataframe thead th {\n",
       "        text-align: right;\n",
       "    }\n",
       "</style>\n",
       "<table border=\"1\" class=\"dataframe\">\n",
       "  <thead>\n",
       "    <tr style=\"text-align: right;\">\n",
       "      <th></th>\n",
       "      <th>date</th>\n",
       "      <th>ordersPerDateA</th>\n",
       "      <th>revenuePerDateA</th>\n",
       "      <th>ordersPerDateB</th>\n",
       "      <th>revenuePerDateB</th>\n",
       "      <th>ordersCummulativeA</th>\n",
       "      <th>revenueCummulativeA</th>\n",
       "      <th>ordersCummulativeB</th>\n",
       "      <th>revenueCummulativeB</th>\n",
       "      <th>visitorsPerDateA</th>\n",
       "      <th>visitorsPerDateB</th>\n",
       "      <th>visitorsCummulativeA</th>\n",
       "      <th>visitorsCummulativeB</th>\n",
       "    </tr>\n",
       "  </thead>\n",
       "  <tbody>\n",
       "    <tr>\n",
       "      <th>0</th>\n",
       "      <td>2019-08-01</td>\n",
       "      <td>23</td>\n",
       "      <td>142779</td>\n",
       "      <td>17</td>\n",
       "      <td>59758</td>\n",
       "      <td>23</td>\n",
       "      <td>142779</td>\n",
       "      <td>17</td>\n",
       "      <td>59758</td>\n",
       "      <td>719</td>\n",
       "      <td>713</td>\n",
       "      <td>719</td>\n",
       "      <td>713</td>\n",
       "    </tr>\n",
       "    <tr>\n",
       "      <th>1</th>\n",
       "      <td>2019-08-02</td>\n",
       "      <td>19</td>\n",
       "      <td>91602</td>\n",
       "      <td>23</td>\n",
       "      <td>162043</td>\n",
       "      <td>42</td>\n",
       "      <td>234381</td>\n",
       "      <td>40</td>\n",
       "      <td>221801</td>\n",
       "      <td>619</td>\n",
       "      <td>581</td>\n",
       "      <td>1338</td>\n",
       "      <td>1294</td>\n",
       "    </tr>\n",
       "    <tr>\n",
       "      <th>2</th>\n",
       "      <td>2019-08-03</td>\n",
       "      <td>24</td>\n",
       "      <td>112473</td>\n",
       "      <td>14</td>\n",
       "      <td>67049</td>\n",
       "      <td>66</td>\n",
       "      <td>346854</td>\n",
       "      <td>54</td>\n",
       "      <td>288850</td>\n",
       "      <td>507</td>\n",
       "      <td>509</td>\n",
       "      <td>1845</td>\n",
       "      <td>1803</td>\n",
       "    </tr>\n",
       "    <tr>\n",
       "      <th>3</th>\n",
       "      <td>2019-08-04</td>\n",
       "      <td>11</td>\n",
       "      <td>41176</td>\n",
       "      <td>14</td>\n",
       "      <td>96890</td>\n",
       "      <td>77</td>\n",
       "      <td>388030</td>\n",
       "      <td>68</td>\n",
       "      <td>385740</td>\n",
       "      <td>717</td>\n",
       "      <td>770</td>\n",
       "      <td>2562</td>\n",
       "      <td>2573</td>\n",
       "    </tr>\n",
       "    <tr>\n",
       "      <th>4</th>\n",
       "      <td>2019-08-05</td>\n",
       "      <td>22</td>\n",
       "      <td>86383</td>\n",
       "      <td>21</td>\n",
       "      <td>89908</td>\n",
       "      <td>99</td>\n",
       "      <td>474413</td>\n",
       "      <td>89</td>\n",
       "      <td>475648</td>\n",
       "      <td>756</td>\n",
       "      <td>707</td>\n",
       "      <td>3318</td>\n",
       "      <td>3280</td>\n",
       "    </tr>\n",
       "  </tbody>\n",
       "</table>\n",
       "</div>"
      ],
      "text/plain": [
       "        date  ordersPerDateA  revenuePerDateA  ordersPerDateB  \\\n",
       "0 2019-08-01              23           142779              17   \n",
       "1 2019-08-02              19            91602              23   \n",
       "2 2019-08-03              24           112473              14   \n",
       "3 2019-08-04              11            41176              14   \n",
       "4 2019-08-05              22            86383              21   \n",
       "\n",
       "   revenuePerDateB  ordersCummulativeA  revenueCummulativeA  \\\n",
       "0            59758                  23               142779   \n",
       "1           162043                  42               234381   \n",
       "2            67049                  66               346854   \n",
       "3            96890                  77               388030   \n",
       "4            89908                  99               474413   \n",
       "\n",
       "   ordersCummulativeB  revenueCummulativeB  visitorsPerDateA  \\\n",
       "0                  17                59758               719   \n",
       "1                  40               221801               619   \n",
       "2                  54               288850               507   \n",
       "3                  68               385740               717   \n",
       "4                  89               475648               756   \n",
       "\n",
       "   visitorsPerDateB  visitorsCummulativeA  visitorsCummulativeB  \n",
       "0               713                   719                   713  \n",
       "1               581                  1338                  1294  \n",
       "2               509                  1845                  1803  \n",
       "3               770                  2562                  2573  \n",
       "4               707                  3318                  3280  "
      ]
     },
     "execution_count": 32,
     "metadata": {},
     "output_type": "execute_result"
    }
   ],
   "source": [
    "visitorsADaily = visitors[visitors['group'] == 'A'][['date', 'visitors']]\n",
    "visitorsADaily.columns = ['date', 'visitorsPerDateA']\n",
    "\n",
    "visitorsACummulative = visitorsADaily.apply(\n",
    "    lambda x: visitorsADaily[visitorsADaily['date'] <= x['date']].agg({'date': 'max', 'visitorsPerDateA': 'sum'}),axis=1,)\n",
    "visitorsACummulative.columns = ['date', 'visitorsCummulativeA']\n",
    "\n",
    "visitorsBDaily = visitors[visitors['group'] == 'B'][['date', 'visitors']]\n",
    "visitorsBDaily.columns = ['date', 'visitorsPerDateB']\n",
    "\n",
    "visitorsBCummulative = visitorsBDaily.apply(\n",
    "    lambda x: visitorsBDaily[visitorsBDaily['date'] <= x['date']].agg({'date': 'max', 'visitorsPerDateB': 'sum'}),axis=1,)\n",
    "visitorsBCummulative.columns = ['date', 'visitorsCummulativeB']\n",
    "\n",
    "ordersADaily = (\n",
    "    orders[orders['group'] == 'A'][['date', 'transactionId', 'visitorId', 'revenue']]\n",
    "    .groupby('date', as_index=False)\n",
    "    .agg({'transactionId': pd.Series.nunique, 'revenue': 'sum'}))\n",
    "ordersADaily.columns = ['date', 'ordersPerDateA', 'revenuePerDateA']\n",
    "\n",
    "ordersACummulative = ordersADaily.apply(\n",
    "    lambda x: ordersADaily[ordersADaily['date'] <= x['date']].agg(\n",
    "        {'date': 'max', 'ordersPerDateA': 'sum', 'revenuePerDateA': 'sum'}),axis=1,).sort_values(by=['date'])\n",
    "ordersACummulative.columns = ['date','ordersCummulativeA','revenueCummulativeA',]\n",
    "\n",
    "ordersBDaily = (\n",
    "    orders[orders['group'] == 'B'][['date', 'transactionId', 'visitorId', 'revenue']]\n",
    "    .groupby('date', as_index=False)\n",
    "    .agg({'transactionId': pd.Series.nunique, 'revenue': 'sum'}))\n",
    "ordersBDaily.columns = ['date', 'ordersPerDateB', 'revenuePerDateB']\n",
    "\n",
    "ordersBCummulative = ordersBDaily.apply(\n",
    "    lambda x: ordersBDaily[ordersBDaily['date'] <= x['date']].agg(\n",
    "        {'date': 'max', 'ordersPerDateB': 'sum', 'revenuePerDateB': 'sum'}),axis=1,).sort_values(by=['date'])\n",
    "ordersBCummulative.columns = ['date','ordersCummulativeB','revenueCummulativeB',]\n",
    "data = (ordersADaily.merge(ordersBDaily, left_on='date', right_on='date', how='left')\n",
    "    .merge(ordersACummulative, left_on='date', right_on='date', how='left')\n",
    "    .merge(ordersBCummulative, left_on='date', right_on='date', how='left')\n",
    "    .merge(visitorsADaily, left_on='date', right_on='date', how='left')\n",
    "    .merge(visitorsBDaily, left_on='date', right_on='date', how='left')\n",
    "    .merge(visitorsACummulative, left_on='date', right_on='date', how='left')\n",
    "    .merge(visitorsBCummulative, left_on='date', right_on='date', how='left'))\n",
    "data.head(5)"
   ]
  },
  {
   "cell_type": "markdown",
   "metadata": {},
   "source": [
    "названия столбцов данных:<br>\n",
    "date — дата;<br>\n",
    "ordersPerDateA — количество заказов в выбранную дату в группе A;<br>\n",
    "revenuePerDateA — суммарная выручка в выбранную дату в группе A;<br>\n",
    "ordersPerDateB — количество заказов в выбранную дату в группе B;<br>\n",
    "revenuePerDateB — суммарная выручка в выбранную дату в группе B;<br>\n",
    "ordersCummulativeA — суммарное число заказов до выбранной даты включительно в группе A;<br>\n",
    "revenueCummulativeA — суммарная выручка до выбранной даты включительно в группе A;<br>\n",
    "ordersCummulativeB — суммарное количество заказов до выбранной даты включительно в группе B;<br>\n",
    "revenueCummulativeB — суммарная выручка до выбранной даты включительно в группе B;<br>\n",
    "visitorsPerDateA — количество пользователей в выбранную дату в группе A;<br>\n",
    "visitorsPerDateB — количество пользователей в выбранную дату в группе B;<br>\n",
    "visitorsCummulativeA  — количество пользователей до выбранной даты включительно в группе A;<br>\n",
    "visitorsCummulativeB — количество пользователей до выбранной даты включительно в группе B.<br>"
   ]
  },
  {
   "cell_type": "code",
   "execution_count": 33,
   "metadata": {},
   "outputs": [],
   "source": [
    "# Создадим переменные ordersByUsersA и ordersByUsersB со столбцами ['visitorId', 'orders'].\n",
    "# В них для пользователей, которые заказывали хотя бы 1 раз, укажем число совершённых заказов. \n",
    "\n",
    "ordersByUsersA = (orders[orders['group'] == 'A']\n",
    "    .groupby('visitorId', as_index=False)\n",
    "    .agg({'transactionId': pd.Series.nunique}))\n",
    "ordersByUsersA.columns = ['visitorId', 'orders']\n",
    "\n",
    "ordersByUsersB = (orders[orders['group'] == 'B']\n",
    "    .groupby('visitorId', as_index=False)\n",
    "    .agg({'transactionId': pd.Series.nunique}))\n",
    "ordersByUsersB.columns = ['visitorId', 'orders']\n",
    "# sampleA и sampleB сохранили выборку, где каждый элемент — число заказов определённого пользователя, в том числе ноль. \n",
    "sampleA = ( pd.concat([ordersByUsersA['orders'],pd.Series(0, \n",
    "            index=np.arange(data['visitorsPerDateA'].sum() - len(ordersByUsersA['orders'])), name='orders')],axis=0))\n",
    "\n",
    "sampleB = ( pd.concat([ordersByUsersB['orders'],pd.Series(0, \n",
    "            index=np.arange(data['visitorsPerDateB'].sum() - len(ordersByUsersB['orders'])), name='orders')],axis=0))"
   ]
  },
  {
   "cell_type": "markdown",
   "metadata": {},
   "source": [
    "Сформулируем гипотезы.\n",
    "* Н0: различий в среднем количестве заказов на посетителя между группами нет. \n",
    "* Н1: различия в среднем количестве заказов на посетителя между группами есть.\n",
    "\n",
    "Посчитаем статистическую значимость различия в среднем количестве заказов между группами."
   ]
  },
  {
   "cell_type": "code",
   "execution_count": 34,
   "metadata": {},
   "outputs": [
    {
     "name": "stdout",
     "output_type": "stream",
     "text": [
      "По \"сырым\" данным:\n",
      "Отвергаем нулевую гипотезу: разница статистически значима\n",
      "p-значение:  0.011 , это значение < чем 0.5 критический уровень статистической значимости.\n",
      "Среднее количестве заказов на посетителя группы B больше среднего группы А на  0.160\n"
     ]
    }
   ],
   "source": [
    "alpha = 0.05  # критический уровень статистической значимости\n",
    "results = st.mannwhitneyu(sampleA, sampleB) \n",
    "print('По \"сырым\" данным:')\n",
    "if results.pvalue < alpha:\n",
    "    print('Отвергаем нулевую гипотезу: разница статистически значима')\n",
    "    print('p-значение: ', '{0:.3f}'.format(results.pvalue),', это значение < чем 0.5 критический уровень статистической значимости.')\n",
    "else:\n",
    "    print('Не получилось отвергнуть нулевую гипотезу.') \n",
    "print('Среднее количестве заказов на посетителя группы B больше среднего группы А на ', \"{0:.3f}\".format(sampleB.mean() / sampleA.mean() - 1))    "
   ]
  },
  {
   "cell_type": "markdown",
   "metadata": {},
   "source": [
    "### Посчитаем статистическую значимость различий в среднем чеке заказа между группами по «сырым» данным. Сделаем выводы и предположения."
   ]
  },
  {
   "cell_type": "markdown",
   "metadata": {},
   "source": [
    "Сформулируем гипотезы\n",
    "* Н0: различий в среднем чеке заказа между группами нет\n",
    "* Н1: различия в среднем чеке заказа между группами есть"
   ]
  },
  {
   "cell_type": "code",
   "execution_count": 35,
   "metadata": {},
   "outputs": [
    {
     "name": "stdout",
     "output_type": "stream",
     "text": [
      "По \"сырым\" данным:\n",
      "p-значение:  0.829 ,это значение > чем 0.5 критический уровень статистической значимости.\n",
      "Не получилось отвергнуть нулевую гипотезу.\n",
      "Наблюдаемое различие в группе B на  0.287 не является статистически значимым\n"
     ]
    }
   ],
   "source": [
    "alpha = 0.05  # критический уровень статистической значимости\n",
    "A=orders[orders['group']=='A']['revenue']\n",
    "B=orders[orders['group']=='B']['revenue']\n",
    "results = st.mannwhitneyu(A, B)\n",
    "\n",
    "print('По \"сырым\" данным:')\n",
    "if results.pvalue < alpha:\n",
    "    print('Отвергаем нулевую гипотезу: разница статистически значима')\n",
    "else:\n",
    "    print('p-значение: ', '{0:.3f}'.format(results.pvalue), ',это значение > чем 0.5 критический уровень статистической значимости.')\n",
    "    print('Не получилось отвергнуть нулевую гипотезу.') \n",
    "    print('Наблюдаемое различие в группе B на ', \n",
    "          \"{0:.3f}\".format(orders[orders['group']=='B']['revenue']\n",
    "          .mean()/orders[orders['group']=='A']['revenue'].mean()-1),'не является статистически значимым')    "
   ]
  },
  {
   "cell_type": "markdown",
   "metadata": {},
   "source": [
    "### Посчитаем статистическую значимость различий в среднем количестве заказов на посетителя между группами по «очищенным» данным. Сделаем выводы и предположения."
   ]
  },
  {
   "cell_type": "markdown",
   "metadata": {},
   "source": [
    "Сначала очистим данные от аномальных значений:"
   ]
  },
  {
   "cell_type": "code",
   "execution_count": 36,
   "metadata": {},
   "outputs": [
    {
     "name": "stdout",
     "output_type": "stream",
     "text": [
      "В данных оказалось всего 86 пользователя с анамальными заказами.\n"
     ]
    }
   ],
   "source": [
    "ordersByUsersA = (orders[orders['group'] == 'A']\n",
    "    .groupby('visitorId', as_index=False)\n",
    "    .agg({'transactionId': pd.Series.nunique}))\n",
    "ordersByUsersA.columns = ['visitorId', 'orders']\n",
    "\n",
    "ordersByUsersB = (orders[orders['group'] == 'B']\n",
    "    .groupby('visitorId', as_index=False)\n",
    "    .agg({'transactionId': pd.Series.nunique}))\n",
    "ordersByUsersB.columns = ['visitorId', 'orders']\n",
    "orders_lim = np.percentile(ordersByUsers['orders'], 95)\n",
    "revenue_lim = np.percentile(orders['revenue'], 95)\n",
    "usersWithManyOrders = pd.concat([\n",
    "        ordersByUsersA[ordersByUsersA['orders'] > orders_lim]['visitorId'],\n",
    "        ordersByUsersB[ordersByUsersB['orders'] > orders_lim]['visitorId'],],axis=0,)\n",
    "usersWithExpensiveOrders = orders[orders['revenue'] > revenue_lim]['visitorId']\n",
    "abnormalUsers = (pd.concat([usersWithManyOrders, usersWithExpensiveOrders], axis=0)\n",
    "    .drop_duplicates().sort_values())\n",
    "#print(abnormalUsers)\n",
    "print('В данных оказалось всего', abnormalUsers.shape[0],'пользователя с анамальными заказами.') "
   ]
  },
  {
   "cell_type": "code",
   "execution_count": 37,
   "metadata": {},
   "outputs": [],
   "source": [
    "# Узнаем, как их действия повлияли на результаты теста. \n",
    "# Сначала подготовим выборки количества заказов по пользователям по группам теста:\n",
    "sampleAFiltered = pd.concat(\n",
    "    [\n",
    "        ordersByUsersA[\n",
    "            np.logical_not(ordersByUsersA['visitorId'].isin(abnormalUsers))\n",
    "        ]['orders'],\n",
    "        pd.Series(\n",
    "            0,\n",
    "            index=np.arange(\n",
    "                data['visitorsPerDateA'].sum() - len(ordersByUsersA['orders'])\n",
    "            ),\n",
    "            name='orders',\n",
    "        ),\n",
    "    ],\n",
    "    axis=0,\n",
    ")\n",
    "\n",
    "sampleBFiltered = pd.concat(\n",
    "    [\n",
    "        ordersByUsersB[\n",
    "            np.logical_not(ordersByUsersB['visitorId'].isin(abnormalUsers))\n",
    "        ]['orders'],\n",
    "        pd.Series(\n",
    "            0,\n",
    "            index=np.arange(\n",
    "                data['visitorsPerDateB'].sum() - len(ordersByUsersB['orders'])\n",
    "            ),\n",
    "            name='orders',\n",
    "        ),\n",
    "    ],\n",
    "    axis=0,\n",
    ") "
   ]
  },
  {
   "cell_type": "code",
   "execution_count": 38,
   "metadata": {},
   "outputs": [
    {
     "name": "stdout",
     "output_type": "stream",
     "text": [
      "По «очищенным» данным:\n",
      "Отвергаем нулевую гипотезу: разница статистически значима\n",
      "p-значение:  0.016 , это значение < чем 0.5 критический уровень статистической значимости.\n",
      "Среднее число заказов группы B отличается среднего группы А на  0.174\n"
     ]
    }
   ],
   "source": [
    "# Посчитаем статистическую значимость различий в среднем количестве заказов между группами теста по очищенным данным. \n",
    "alpha = 0.05  # критический уровень статистической значимости\n",
    "results=st.mannwhitneyu(sampleAFiltered, sampleBFiltered)\n",
    "print('По «очищенным» данным:')\n",
    "if results.pvalue < alpha:\n",
    "    print('Отвергаем нулевую гипотезу: разница статистически значима')\n",
    "    print('p-значение: ', '{0:.3f}'.format(results.pvalue), ', это значение < чем 0.5 критический уровень статистической значимости.')\n",
    "else:\n",
    "    print('Не получилось отвергнуть нулевую гипотезу.')\n",
    "print('Среднее число заказов группы B отличается среднего группы А на ', \"{0:.3f}\".format(sampleBFiltered.mean()/sampleAFiltered.mean()-1))"
   ]
  },
  {
   "cell_type": "markdown",
   "metadata": {},
   "source": [
    "### Посчитаем статистическую значимость различий в среднем чеке заказа между группами по «очищенным» данным. Сделаем выводы и предположения."
   ]
  },
  {
   "cell_type": "code",
   "execution_count": 39,
   "metadata": {},
   "outputs": [
    {
     "name": "stdout",
     "output_type": "stream",
     "text": [
      "По «очищенным» данным:\n",
      "Не получилось отвергнуть нулевую гипотезу.\n",
      "p-значение:  0.727 , это значение > чем 0.5 критический уровень статистической значимости.\n",
      "Средний чек группы B отличается среднего чека группы А на  -0.034 но это не является статистически значимым\n"
     ]
    }
   ],
   "source": [
    "alpha = 0.05  # критический уровень статистической значимости\n",
    "A=orders[np.logical_and(orders['group'] == 'A', np.logical_not(orders['visitorId'].isin(abnormalUsers)),)]['revenue']\n",
    "B=orders[np.logical_and(orders['group'] == 'B',np.logical_not(orders['visitorId'].isin(abnormalUsers)),)]['revenue']\n",
    "results = st.mannwhitneyu(A, B)\n",
    "\n",
    "print('По «очищенным» данным:')\n",
    "if results.pvalue < alpha:\n",
    "    print('Отвергаем нулевую гипотезу: разница статистически значима')\n",
    "else:\n",
    "    print('Не получилось отвергнуть нулевую гипотезу.')\n",
    "    print('p-значение: ', '{0:.3f}'.format(results.pvalue), ', это значение > чем 0.5 критический уровень статистической значимости.')\n",
    "    print('Средний чек группы B отличается среднего чека группы А на ', \"{0:.3f}\".format(B.mean()/A.mean()-1), 'но это не является статистически значимым')    "
   ]
  },
  {
   "cell_type": "markdown",
   "metadata": {},
   "source": [
    "### Примем решение по результатам теста и объясним его. "
   ]
  },
  {
   "cell_type": "markdown",
   "metadata": {},
   "source": [
    "Имеющиеся факты:\n",
    "* Есть статистически значимое различие по среднему количеству заказов между группами и по «сырым», и по данным после фильтрации аномалий;\n",
    "* Нет статистически значимого различия по среднему чеку между группами ни по «сырым», ни по данным после фильтрации аномалий;\n",
    "\n",
    "На графике среднего количества заказов на посетителя в начале теста группа B проигрывала группе A, затем вырвалась вперёд и практически стабилизировалась.<br>\n",
    "На графике относительного изменения кумулятивного среднего чека видно преимущество группы В, хотя результат и искажен аномальными покупками ( резкие рывки вверх на графике).<br>\n",
    "В целом графики различий между группами сообщают, что результаты группы B лучше группы A.<br> \n",
    "Исходя из обнаруженных фактов, тест следует остановить и признать его успешным."
   ]
  },
  {
   "cell_type": "markdown",
   "metadata": {},
   "source": [
    "<b> Общий вывод </b>\n"
   ]
  },
  {
   "cell_type": "markdown",
   "metadata": {},
   "source": [
    "В результате проекта была продела на работа по: <br>\n",
    "1. Приоритезации гипотез, <br>\n",
    "в результате выбло выявлено, что при применении фреймворка ICE лидеры гипотезы 8,0,7,6,\n",
    "а при применении фреймворка RICE лидеры гипотезы 7,2,0,6.  <br>\n",
    "На первом месте оказалась гипотеза : Добавить форму подписки на все основные страницы, чтобы собрать базу клиентов для email-рассылок. <br>\n",
    "2. Анализ А/В теста.<br>\n",
    "В результате было выявлено:<br>\n",
    "Выручка почти равномерно увеличивается в течение всего теста, но примерно с 2019-08-17 выручка группы В начинает расти быстрее.<br>\n",
    "Средний чек группы В растет лучше чем А, также выявлен резкий рост группы B примерно с 2019-08-17. <br>\n",
    "На графиках были замечены аномалии выраженные резкими скачками, они были обусловлены аномально выскоми заказми (мах чек 1294500 руб), а также покупками отдельных пользователей более 3х раз. (мах число покупок 11).  <br>\n",
    "Была расчитана статистическая значимость различий в среднем количестве заказов по \"сырым\" и \"чистым\" данным, которая показала,\n",
    "что есть статистически значимое различие по среднему количеству заказов. Преимущество у группы В.<br>\n",
    "Была расчитана статистическая значимость различий в среднем чеке заказа, статистически значимого различия по среднему чеку между группами не выявилось.<br>\n",
    "Было принято решение об остановке теста и признании его результатов успешными. Побеждает группа B.\n"
   ]
  }
 ],
 "metadata": {
  "ExecuteTimeLog": [
   {
    "duration": 1327,
    "start_time": "2022-12-26T10:52:30.399Z"
   },
   {
    "duration": 59,
    "start_time": "2022-12-26T10:54:45.317Z"
   },
   {
    "duration": 14,
    "start_time": "2022-12-26T10:54:54.857Z"
   },
   {
    "duration": 3,
    "start_time": "2022-12-26T11:00:56.760Z"
   },
   {
    "duration": 868,
    "start_time": "2022-12-26T11:01:36.624Z"
   },
   {
    "duration": 8,
    "start_time": "2022-12-26T11:03:16.464Z"
   },
   {
    "duration": 10,
    "start_time": "2022-12-26T11:03:23.723Z"
   },
   {
    "duration": 10,
    "start_time": "2022-12-26T11:03:32.420Z"
   },
   {
    "duration": 7,
    "start_time": "2022-12-26T11:07:32.608Z"
   },
   {
    "duration": 8,
    "start_time": "2022-12-26T11:08:21.661Z"
   },
   {
    "duration": 7,
    "start_time": "2022-12-26T11:08:47.169Z"
   },
   {
    "duration": 9,
    "start_time": "2022-12-26T11:11:55.824Z"
   },
   {
    "duration": 5,
    "start_time": "2022-12-26T11:12:09.830Z"
   },
   {
    "duration": 15,
    "start_time": "2022-12-26T11:12:44.219Z"
   },
   {
    "duration": 14,
    "start_time": "2022-12-26T11:13:23.169Z"
   },
   {
    "duration": 5,
    "start_time": "2022-12-26T11:14:00.774Z"
   },
   {
    "duration": 15,
    "start_time": "2022-12-26T11:14:20.369Z"
   },
   {
    "duration": 14,
    "start_time": "2022-12-26T11:15:10.601Z"
   },
   {
    "duration": 12,
    "start_time": "2022-12-26T11:15:52.721Z"
   },
   {
    "duration": 10,
    "start_time": "2022-12-26T11:18:18.931Z"
   },
   {
    "duration": 15,
    "start_time": "2022-12-26T11:20:45.579Z"
   },
   {
    "duration": 13,
    "start_time": "2022-12-26T11:20:59.421Z"
   },
   {
    "duration": 18,
    "start_time": "2022-12-26T11:21:18.358Z"
   },
   {
    "duration": 13,
    "start_time": "2022-12-26T11:21:31.069Z"
   },
   {
    "duration": 50,
    "start_time": "2022-12-26T11:21:40.388Z"
   },
   {
    "duration": 26,
    "start_time": "2022-12-26T11:22:24.773Z"
   },
   {
    "duration": 6,
    "start_time": "2022-12-26T11:22:27.179Z"
   },
   {
    "duration": 9,
    "start_time": "2022-12-26T11:22:29.267Z"
   },
   {
    "duration": 8,
    "start_time": "2022-12-26T11:22:30.211Z"
   },
   {
    "duration": 9,
    "start_time": "2022-12-26T11:22:33.079Z"
   },
   {
    "duration": 9,
    "start_time": "2022-12-26T11:22:34.212Z"
   },
   {
    "duration": 12,
    "start_time": "2022-12-26T11:25:31.220Z"
   },
   {
    "duration": 2,
    "start_time": "2022-12-26T11:32:51.164Z"
   },
   {
    "duration": 186,
    "start_time": "2022-12-26T11:38:12.969Z"
   },
   {
    "duration": 8,
    "start_time": "2022-12-26T11:39:10.171Z"
   },
   {
    "duration": 12,
    "start_time": "2022-12-26T11:39:17.775Z"
   },
   {
    "duration": 10,
    "start_time": "2022-12-26T11:39:52.295Z"
   },
   {
    "duration": 12,
    "start_time": "2022-12-26T11:40:29.508Z"
   },
   {
    "duration": 226,
    "start_time": "2022-12-26T11:42:13.008Z"
   },
   {
    "duration": 3,
    "start_time": "2022-12-26T11:43:42.298Z"
   },
   {
    "duration": 21,
    "start_time": "2022-12-26T11:43:48.526Z"
   },
   {
    "duration": 211,
    "start_time": "2022-12-26T11:43:59.766Z"
   },
   {
    "duration": 198,
    "start_time": "2022-12-26T11:44:19.455Z"
   },
   {
    "duration": 6,
    "start_time": "2022-12-26T11:45:30.502Z"
   },
   {
    "duration": 16,
    "start_time": "2022-12-26T11:45:41.995Z"
   },
   {
    "duration": 13,
    "start_time": "2022-12-26T11:45:52.668Z"
   },
   {
    "duration": 7,
    "start_time": "2022-12-26T11:46:05.417Z"
   },
   {
    "duration": 13,
    "start_time": "2022-12-26T11:46:17.635Z"
   },
   {
    "duration": 2,
    "start_time": "2022-12-26T11:46:55.171Z"
   },
   {
    "duration": 3,
    "start_time": "2022-12-26T11:47:29.907Z"
   },
   {
    "duration": 10,
    "start_time": "2022-12-26T11:47:36.159Z"
   },
   {
    "duration": 10,
    "start_time": "2022-12-26T11:47:45.457Z"
   },
   {
    "duration": 10,
    "start_time": "2022-12-26T12:05:22.157Z"
   },
   {
    "duration": 9,
    "start_time": "2022-12-26T12:05:40.036Z"
   },
   {
    "duration": 9,
    "start_time": "2022-12-26T12:05:47.581Z"
   },
   {
    "duration": 10,
    "start_time": "2022-12-26T12:06:00.409Z"
   },
   {
    "duration": 9,
    "start_time": "2022-12-26T12:06:05.253Z"
   },
   {
    "duration": 8,
    "start_time": "2022-12-26T12:06:09.769Z"
   },
   {
    "duration": 9,
    "start_time": "2022-12-26T12:06:17.257Z"
   },
   {
    "duration": 8,
    "start_time": "2022-12-26T12:06:24.445Z"
   },
   {
    "duration": 9,
    "start_time": "2022-12-26T12:06:39.449Z"
   },
   {
    "duration": 8,
    "start_time": "2022-12-26T12:06:46.857Z"
   },
   {
    "duration": 201,
    "start_time": "2022-12-26T12:13:48.171Z"
   },
   {
    "duration": 6,
    "start_time": "2022-12-26T12:15:45.705Z"
   },
   {
    "duration": 14,
    "start_time": "2022-12-26T12:19:13.865Z"
   },
   {
    "duration": 8,
    "start_time": "2022-12-26T12:19:25.867Z"
   },
   {
    "duration": 12,
    "start_time": "2022-12-26T12:19:34.771Z"
   },
   {
    "duration": 15,
    "start_time": "2022-12-26T12:19:53.263Z"
   },
   {
    "duration": 12,
    "start_time": "2022-12-26T12:20:06.104Z"
   },
   {
    "duration": 21,
    "start_time": "2022-12-26T12:20:53.863Z"
   },
   {
    "duration": 270,
    "start_time": "2022-12-26T12:21:22.850Z"
   },
   {
    "duration": 280,
    "start_time": "2022-12-26T12:23:52.859Z"
   },
   {
    "duration": 369,
    "start_time": "2022-12-26T12:24:06.043Z"
   },
   {
    "duration": 7,
    "start_time": "2022-12-26T12:25:20.156Z"
   },
   {
    "duration": 17,
    "start_time": "2022-12-26T12:27:24.758Z"
   },
   {
    "duration": 271,
    "start_time": "2022-12-26T12:27:47.447Z"
   },
   {
    "duration": 204,
    "start_time": "2022-12-26T12:27:57.997Z"
   },
   {
    "duration": 213,
    "start_time": "2022-12-26T12:28:09.403Z"
   },
   {
    "duration": 238,
    "start_time": "2022-12-26T12:30:44.162Z"
   },
   {
    "duration": 4,
    "start_time": "2022-12-26T12:34:41.740Z"
   },
   {
    "duration": 14,
    "start_time": "2022-12-26T12:36:43.945Z"
   },
   {
    "duration": 209,
    "start_time": "2022-12-26T12:37:29.197Z"
   },
   {
    "duration": 203,
    "start_time": "2022-12-26T12:37:43.901Z"
   },
   {
    "duration": 289,
    "start_time": "2022-12-26T12:38:07.692Z"
   },
   {
    "duration": 246,
    "start_time": "2022-12-26T12:38:17.378Z"
   },
   {
    "duration": 310,
    "start_time": "2022-12-26T12:45:57.802Z"
   },
   {
    "duration": 24,
    "start_time": "2022-12-26T12:46:10.262Z"
   },
   {
    "duration": 15,
    "start_time": "2022-12-26T12:46:32.601Z"
   },
   {
    "duration": 380,
    "start_time": "2022-12-26T12:47:22.567Z"
   },
   {
    "duration": 367,
    "start_time": "2022-12-26T12:47:37.691Z"
   },
   {
    "duration": 8,
    "start_time": "2022-12-26T12:50:49.495Z"
   },
   {
    "duration": 3,
    "start_time": "2022-12-26T12:57:51.070Z"
   },
   {
    "duration": 4,
    "start_time": "2022-12-26T12:59:00.817Z"
   },
   {
    "duration": 4,
    "start_time": "2022-12-26T12:59:39.466Z"
   },
   {
    "duration": 4,
    "start_time": "2022-12-26T13:00:15.916Z"
   },
   {
    "duration": 3,
    "start_time": "2022-12-26T13:00:55.762Z"
   },
   {
    "duration": 4,
    "start_time": "2022-12-26T13:01:33.260Z"
   },
   {
    "duration": 137,
    "start_time": "2022-12-26T13:11:52.712Z"
   },
   {
    "duration": 156,
    "start_time": "2022-12-26T13:12:49.462Z"
   },
   {
    "duration": 156,
    "start_time": "2022-12-26T13:13:22.097Z"
   },
   {
    "duration": 136,
    "start_time": "2022-12-26T13:16:24.277Z"
   },
   {
    "duration": 129,
    "start_time": "2022-12-26T13:16:57.093Z"
   },
   {
    "duration": 6,
    "start_time": "2022-12-26T13:21:03.606Z"
   },
   {
    "duration": 6,
    "start_time": "2022-12-26T13:25:41.306Z"
   },
   {
    "duration": 5,
    "start_time": "2022-12-26T13:29:28.261Z"
   },
   {
    "duration": 64,
    "start_time": "2022-12-26T13:30:18.561Z"
   },
   {
    "duration": 3,
    "start_time": "2022-12-26T13:30:23.562Z"
   },
   {
    "duration": 4,
    "start_time": "2022-12-26T13:30:35.021Z"
   },
   {
    "duration": 13,
    "start_time": "2022-12-26T13:43:16.006Z"
   },
   {
    "duration": 243,
    "start_time": "2022-12-26T13:46:24.563Z"
   },
   {
    "duration": 241,
    "start_time": "2022-12-26T13:48:12.363Z"
   },
   {
    "duration": 305,
    "start_time": "2022-12-26T13:48:24.418Z"
   },
   {
    "duration": 78,
    "start_time": "2022-12-26T13:49:07.593Z"
   },
   {
    "duration": 14,
    "start_time": "2022-12-26T13:52:05.453Z"
   },
   {
    "duration": 361,
    "start_time": "2022-12-26T13:54:46.456Z"
   },
   {
    "duration": 46,
    "start_time": "2022-12-26T13:56:11.358Z"
   },
   {
    "duration": 26,
    "start_time": "2022-12-26T15:14:56.105Z"
   },
   {
    "duration": 20,
    "start_time": "2022-12-26T15:18:06.538Z"
   },
   {
    "duration": 9,
    "start_time": "2022-12-26T15:19:06.404Z"
   },
   {
    "duration": 39,
    "start_time": "2022-12-26T15:19:13.970Z"
   },
   {
    "duration": 31,
    "start_time": "2022-12-26T15:21:10.308Z"
   },
   {
    "duration": 24,
    "start_time": "2022-12-26T15:21:35.803Z"
   },
   {
    "duration": 171,
    "start_time": "2022-12-26T15:31:27.204Z"
   },
   {
    "duration": 24,
    "start_time": "2022-12-26T15:34:40.864Z"
   },
   {
    "duration": 15,
    "start_time": "2022-12-26T15:37:35.642Z"
   },
   {
    "duration": 21,
    "start_time": "2022-12-26T15:39:31.003Z"
   },
   {
    "duration": 19,
    "start_time": "2022-12-26T15:40:40.884Z"
   },
   {
    "duration": 18,
    "start_time": "2022-12-26T15:40:51.205Z"
   },
   {
    "duration": 16,
    "start_time": "2022-12-26T15:41:03.403Z"
   },
   {
    "duration": 18,
    "start_time": "2022-12-26T15:41:43.804Z"
   },
   {
    "duration": 11,
    "start_time": "2022-12-26T15:45:32.962Z"
   },
   {
    "duration": 153,
    "start_time": "2022-12-26T15:47:42.116Z"
   },
   {
    "duration": 243,
    "start_time": "2022-12-26T15:47:59.804Z"
   },
   {
    "duration": 172,
    "start_time": "2022-12-26T15:48:13.160Z"
   },
   {
    "duration": 247,
    "start_time": "2022-12-26T15:48:19.448Z"
   },
   {
    "duration": 18,
    "start_time": "2022-12-26T16:18:31.198Z"
   },
   {
    "duration": 12,
    "start_time": "2022-12-26T16:22:45.692Z"
   },
   {
    "duration": 15,
    "start_time": "2022-12-26T16:23:22.096Z"
   },
   {
    "duration": 13,
    "start_time": "2022-12-26T16:23:28.544Z"
   },
   {
    "duration": 12,
    "start_time": "2022-12-26T16:24:58.635Z"
   },
   {
    "duration": 12,
    "start_time": "2022-12-26T16:25:17.929Z"
   },
   {
    "duration": 44,
    "start_time": "2022-12-27T05:25:45.263Z"
   },
   {
    "duration": 1136,
    "start_time": "2022-12-27T05:25:51.866Z"
   },
   {
    "duration": 63,
    "start_time": "2022-12-27T05:25:53.004Z"
   },
   {
    "duration": 13,
    "start_time": "2022-12-27T05:25:57.859Z"
   },
   {
    "duration": 15,
    "start_time": "2022-12-27T05:26:08.888Z"
   },
   {
    "duration": 7,
    "start_time": "2022-12-27T05:26:22.919Z"
   },
   {
    "duration": 6,
    "start_time": "2022-12-27T05:26:34.107Z"
   },
   {
    "duration": 8,
    "start_time": "2022-12-27T05:26:37.770Z"
   },
   {
    "duration": 7,
    "start_time": "2022-12-27T05:26:41.186Z"
   },
   {
    "duration": 144,
    "start_time": "2022-12-27T05:26:54.191Z"
   },
   {
    "duration": 11,
    "start_time": "2022-12-27T05:26:55.792Z"
   },
   {
    "duration": 11,
    "start_time": "2022-12-27T05:27:15.777Z"
   },
   {
    "duration": 5,
    "start_time": "2022-12-27T05:27:40.939Z"
   },
   {
    "duration": 9,
    "start_time": "2022-12-27T05:27:41.699Z"
   },
   {
    "duration": 11,
    "start_time": "2022-12-27T05:27:56.689Z"
   },
   {
    "duration": 3,
    "start_time": "2022-12-27T05:28:08.869Z"
   },
   {
    "duration": 256,
    "start_time": "2022-12-27T05:28:50.855Z"
   },
   {
    "duration": 175,
    "start_time": "2022-12-27T05:30:44.766Z"
   },
   {
    "duration": 243,
    "start_time": "2022-12-27T05:30:52.602Z"
   },
   {
    "duration": 174,
    "start_time": "2022-12-27T05:30:56.520Z"
   },
   {
    "duration": 263,
    "start_time": "2022-12-27T05:38:42.955Z"
   },
   {
    "duration": 166,
    "start_time": "2022-12-27T05:52:00.957Z"
   },
   {
    "duration": 11,
    "start_time": "2022-12-27T05:55:58.025Z"
   },
   {
    "duration": 188,
    "start_time": "2022-12-27T05:56:11.264Z"
   },
   {
    "duration": 281,
    "start_time": "2022-12-27T05:59:16.479Z"
   },
   {
    "duration": 261,
    "start_time": "2022-12-27T06:06:25.984Z"
   },
   {
    "duration": 230,
    "start_time": "2022-12-27T06:06:45.703Z"
   },
   {
    "duration": 494,
    "start_time": "2022-12-27T06:09:12.044Z"
   },
   {
    "duration": 299,
    "start_time": "2022-12-27T06:09:42.037Z"
   },
   {
    "duration": 288,
    "start_time": "2022-12-27T06:12:29.852Z"
   },
   {
    "duration": 373,
    "start_time": "2022-12-27T06:12:46.085Z"
   },
   {
    "duration": 310,
    "start_time": "2022-12-27T06:13:07.520Z"
   },
   {
    "duration": 293,
    "start_time": "2022-12-27T06:13:23.140Z"
   },
   {
    "duration": 417,
    "start_time": "2022-12-27T06:15:52.064Z"
   },
   {
    "duration": 178,
    "start_time": "2022-12-27T06:18:10.456Z"
   },
   {
    "duration": 6,
    "start_time": "2022-12-27T06:18:20.002Z"
   },
   {
    "duration": 190,
    "start_time": "2022-12-27T06:18:31.732Z"
   },
   {
    "duration": 156,
    "start_time": "2022-12-27T06:19:55.428Z"
   },
   {
    "duration": 133,
    "start_time": "2022-12-27T06:20:30.147Z"
   },
   {
    "duration": 221,
    "start_time": "2022-12-27T06:22:01.762Z"
   },
   {
    "duration": 131,
    "start_time": "2022-12-27T06:22:15.346Z"
   },
   {
    "duration": 105,
    "start_time": "2022-12-27T06:24:02.944Z"
   },
   {
    "duration": 117,
    "start_time": "2022-12-27T06:30:38.960Z"
   },
   {
    "duration": 236,
    "start_time": "2022-12-27T06:31:04.110Z"
   },
   {
    "duration": 17,
    "start_time": "2022-12-27T06:35:16.154Z"
   },
   {
    "duration": 15,
    "start_time": "2022-12-27T06:36:38.081Z"
   },
   {
    "duration": 131,
    "start_time": "2022-12-27T06:38:30.004Z"
   },
   {
    "duration": 8,
    "start_time": "2022-12-27T06:39:55.299Z"
   },
   {
    "duration": 12,
    "start_time": "2022-12-27T06:47:12.352Z"
   },
   {
    "duration": 25,
    "start_time": "2022-12-27T06:47:27.475Z"
   },
   {
    "duration": 24,
    "start_time": "2022-12-27T06:49:08.583Z"
   },
   {
    "duration": 22,
    "start_time": "2022-12-27T06:49:13.660Z"
   },
   {
    "duration": 29,
    "start_time": "2022-12-27T06:53:03.152Z"
   },
   {
    "duration": 66,
    "start_time": "2022-12-27T06:54:01.325Z"
   },
   {
    "duration": 28,
    "start_time": "2022-12-27T06:54:16.767Z"
   },
   {
    "duration": 27,
    "start_time": "2022-12-27T06:54:36.961Z"
   },
   {
    "duration": 25,
    "start_time": "2022-12-27T06:55:43.733Z"
   },
   {
    "duration": 26,
    "start_time": "2022-12-27T06:56:21.004Z"
   },
   {
    "duration": 157,
    "start_time": "2022-12-27T06:57:26.127Z"
   },
   {
    "duration": 30,
    "start_time": "2022-12-27T06:57:27.837Z"
   },
   {
    "duration": 13,
    "start_time": "2022-12-27T07:11:04.387Z"
   },
   {
    "duration": 16,
    "start_time": "2022-12-27T07:11:14.803Z"
   },
   {
    "duration": 23,
    "start_time": "2022-12-27T07:12:13.334Z"
   },
   {
    "duration": 22,
    "start_time": "2022-12-27T07:12:31.100Z"
   },
   {
    "duration": 36,
    "start_time": "2022-12-27T07:12:37.834Z"
   },
   {
    "duration": 35,
    "start_time": "2022-12-27T07:12:42.180Z"
   },
   {
    "duration": 35,
    "start_time": "2022-12-27T07:12:52.617Z"
   },
   {
    "duration": 13,
    "start_time": "2022-12-27T07:14:30.024Z"
   },
   {
    "duration": 149,
    "start_time": "2022-12-27T07:14:37.601Z"
   },
   {
    "duration": 13,
    "start_time": "2022-12-27T07:14:42.494Z"
   },
   {
    "duration": 12,
    "start_time": "2022-12-27T07:15:26.860Z"
   },
   {
    "duration": 220,
    "start_time": "2022-12-27T07:19:59.253Z"
   },
   {
    "duration": 145,
    "start_time": "2022-12-27T07:20:10.323Z"
   },
   {
    "duration": 223,
    "start_time": "2022-12-27T07:21:41.129Z"
   },
   {
    "duration": 227,
    "start_time": "2022-12-27T07:22:44.733Z"
   },
   {
    "duration": 11,
    "start_time": "2022-12-27T07:24:35.950Z"
   },
   {
    "duration": 217,
    "start_time": "2022-12-27T07:24:46.029Z"
   },
   {
    "duration": 215,
    "start_time": "2022-12-27T07:24:55.007Z"
   },
   {
    "duration": 283,
    "start_time": "2022-12-27T07:26:06.193Z"
   },
   {
    "duration": 270,
    "start_time": "2022-12-27T07:26:18.409Z"
   },
   {
    "duration": 219,
    "start_time": "2022-12-27T07:27:25.326Z"
   },
   {
    "duration": 222,
    "start_time": "2022-12-27T07:27:42.515Z"
   },
   {
    "duration": 835,
    "start_time": "2022-12-27T07:30:14.339Z"
   },
   {
    "duration": 413,
    "start_time": "2022-12-27T07:30:32.371Z"
   },
   {
    "duration": 24,
    "start_time": "2022-12-27T07:31:42.445Z"
   },
   {
    "duration": 29,
    "start_time": "2022-12-27T07:32:06.428Z"
   },
   {
    "duration": 12,
    "start_time": "2022-12-27T07:33:40.747Z"
   },
   {
    "duration": 3,
    "start_time": "2022-12-27T07:50:38.982Z"
   },
   {
    "duration": 155,
    "start_time": "2022-12-27T07:52:35.506Z"
   },
   {
    "duration": 141,
    "start_time": "2022-12-27T07:52:46.189Z"
   },
   {
    "duration": 166,
    "start_time": "2022-12-27T07:52:52.237Z"
   },
   {
    "duration": 71,
    "start_time": "2022-12-27T07:53:26.283Z"
   },
   {
    "duration": 195,
    "start_time": "2022-12-27T07:53:34.174Z"
   },
   {
    "duration": 8,
    "start_time": "2022-12-27T07:55:24.576Z"
   },
   {
    "duration": 8,
    "start_time": "2022-12-27T07:55:31.935Z"
   },
   {
    "duration": 10,
    "start_time": "2022-12-27T07:55:48.812Z"
   },
   {
    "duration": 26,
    "start_time": "2022-12-27T07:55:57.496Z"
   },
   {
    "duration": 4,
    "start_time": "2022-12-27T07:58:24.256Z"
   },
   {
    "duration": 21,
    "start_time": "2022-12-27T07:59:12.964Z"
   },
   {
    "duration": 26,
    "start_time": "2022-12-27T07:59:20.099Z"
   },
   {
    "duration": 4,
    "start_time": "2022-12-27T08:20:33.759Z"
   },
   {
    "duration": 5,
    "start_time": "2022-12-27T08:21:12.740Z"
   },
   {
    "duration": 129,
    "start_time": "2022-12-27T08:33:32.440Z"
   },
   {
    "duration": 148,
    "start_time": "2022-12-27T08:33:43.408Z"
   },
   {
    "duration": 162,
    "start_time": "2022-12-27T08:34:14.893Z"
   },
   {
    "duration": 116,
    "start_time": "2022-12-27T08:34:24.629Z"
   },
   {
    "duration": 148,
    "start_time": "2022-12-27T08:34:31.051Z"
   },
   {
    "duration": 156,
    "start_time": "2022-12-27T08:36:14.052Z"
   },
   {
    "duration": 3,
    "start_time": "2022-12-27T08:36:35.644Z"
   },
   {
    "duration": 28,
    "start_time": "2022-12-27T08:36:36.679Z"
   },
   {
    "duration": 10,
    "start_time": "2022-12-27T08:36:37.594Z"
   },
   {
    "duration": 8,
    "start_time": "2022-12-27T08:36:41.315Z"
   },
   {
    "duration": 7,
    "start_time": "2022-12-27T08:36:42.221Z"
   },
   {
    "duration": 9,
    "start_time": "2022-12-27T08:36:45.316Z"
   },
   {
    "duration": 8,
    "start_time": "2022-12-27T08:36:46.267Z"
   },
   {
    "duration": 67,
    "start_time": "2022-12-27T08:36:53.033Z"
   },
   {
    "duration": 13,
    "start_time": "2022-12-27T08:36:57.190Z"
   },
   {
    "duration": 12,
    "start_time": "2022-12-27T08:37:00.063Z"
   },
   {
    "duration": 6,
    "start_time": "2022-12-27T08:37:06.740Z"
   },
   {
    "duration": 10,
    "start_time": "2022-12-27T08:37:08.361Z"
   },
   {
    "duration": 12,
    "start_time": "2022-12-27T08:37:18.357Z"
   },
   {
    "duration": 5,
    "start_time": "2022-12-27T08:37:20.922Z"
   },
   {
    "duration": 281,
    "start_time": "2022-12-27T08:37:31.047Z"
   },
   {
    "duration": 323,
    "start_time": "2022-12-27T08:37:36.395Z"
   },
   {
    "duration": 239,
    "start_time": "2022-12-27T08:37:48.930Z"
   },
   {
    "duration": 330,
    "start_time": "2022-12-27T08:37:58.104Z"
   },
   {
    "duration": 304,
    "start_time": "2022-12-27T08:38:02.422Z"
   },
   {
    "duration": 289,
    "start_time": "2022-12-27T08:38:24.827Z"
   },
   {
    "duration": 314,
    "start_time": "2022-12-27T08:38:31.538Z"
   },
   {
    "duration": 165,
    "start_time": "2022-12-27T08:38:36.469Z"
   },
   {
    "duration": 5,
    "start_time": "2022-12-27T08:38:39.117Z"
   },
   {
    "duration": 5,
    "start_time": "2022-12-27T08:38:45.852Z"
   },
   {
    "duration": 262,
    "start_time": "2022-12-27T08:38:48.803Z"
   },
   {
    "duration": 4,
    "start_time": "2022-12-27T08:38:51.402Z"
   },
   {
    "duration": 144,
    "start_time": "2022-12-27T08:38:52.834Z"
   },
   {
    "duration": 6,
    "start_time": "2022-12-27T08:38:58.340Z"
   },
   {
    "duration": 235,
    "start_time": "2022-12-27T08:39:02.161Z"
   },
   {
    "duration": 164,
    "start_time": "2022-12-27T08:39:06.532Z"
   },
   {
    "duration": 34,
    "start_time": "2022-12-27T08:39:14.124Z"
   },
   {
    "duration": 13,
    "start_time": "2022-12-27T08:39:58.574Z"
   },
   {
    "duration": 148,
    "start_time": "2022-12-27T08:40:12.421Z"
   },
   {
    "duration": 8,
    "start_time": "2022-12-27T08:40:24.270Z"
   },
   {
    "duration": 24,
    "start_time": "2022-12-27T08:40:28.865Z"
   },
   {
    "duration": 12,
    "start_time": "2022-12-27T08:40:39.451Z"
   },
   {
    "duration": 1061,
    "start_time": "2022-12-27T08:52:21.583Z"
   },
   {
    "duration": 27,
    "start_time": "2022-12-27T08:52:22.645Z"
   },
   {
    "duration": 13,
    "start_time": "2022-12-27T08:52:22.673Z"
   },
   {
    "duration": 7,
    "start_time": "2022-12-27T08:52:22.688Z"
   },
   {
    "duration": 11,
    "start_time": "2022-12-27T08:52:22.696Z"
   },
   {
    "duration": 11,
    "start_time": "2022-12-27T08:52:22.708Z"
   },
   {
    "duration": 9,
    "start_time": "2022-12-27T08:52:22.721Z"
   },
   {
    "duration": 69,
    "start_time": "2022-12-27T08:52:22.732Z"
   },
   {
    "duration": 11,
    "start_time": "2022-12-27T08:52:22.802Z"
   },
   {
    "duration": 12,
    "start_time": "2022-12-27T08:52:22.815Z"
   },
   {
    "duration": 12,
    "start_time": "2022-12-27T08:52:22.828Z"
   },
   {
    "duration": 18,
    "start_time": "2022-12-27T08:52:22.842Z"
   },
   {
    "duration": 17,
    "start_time": "2022-12-27T08:52:22.862Z"
   },
   {
    "duration": 20,
    "start_time": "2022-12-27T08:52:22.880Z"
   },
   {
    "duration": 252,
    "start_time": "2022-12-27T08:52:22.902Z"
   },
   {
    "duration": 249,
    "start_time": "2022-12-27T08:52:23.156Z"
   },
   {
    "duration": 179,
    "start_time": "2022-12-27T08:52:23.407Z"
   },
   {
    "duration": 295,
    "start_time": "2022-12-27T08:52:23.587Z"
   },
   {
    "duration": 231,
    "start_time": "2022-12-27T08:52:23.883Z"
   },
   {
    "duration": 301,
    "start_time": "2022-12-27T08:52:24.116Z"
   },
   {
    "duration": 131,
    "start_time": "2022-12-27T08:52:24.420Z"
   },
   {
    "duration": 4,
    "start_time": "2022-12-27T08:52:24.553Z"
   },
   {
    "duration": 16,
    "start_time": "2022-12-27T08:52:24.559Z"
   },
   {
    "duration": 177,
    "start_time": "2022-12-27T08:52:24.577Z"
   },
   {
    "duration": 4,
    "start_time": "2022-12-27T08:52:24.756Z"
   },
   {
    "duration": 140,
    "start_time": "2022-12-27T08:52:24.761Z"
   },
   {
    "duration": 4,
    "start_time": "2022-12-27T08:52:24.903Z"
   },
   {
    "duration": 268,
    "start_time": "2022-12-27T08:52:24.910Z"
   },
   {
    "duration": 126,
    "start_time": "2022-12-27T08:52:25.179Z"
   },
   {
    "duration": 21,
    "start_time": "2022-12-27T08:52:25.307Z"
   },
   {
    "duration": 9,
    "start_time": "2022-12-27T08:52:25.329Z"
   },
   {
    "duration": 137,
    "start_time": "2022-12-27T08:52:25.340Z"
   },
   {
    "duration": 8,
    "start_time": "2022-12-27T08:52:25.478Z"
   },
   {
    "duration": 21,
    "start_time": "2022-12-27T08:52:25.497Z"
   },
   {
    "duration": 11,
    "start_time": "2022-12-27T08:52:25.520Z"
   },
   {
    "duration": 178,
    "start_time": "2022-12-27T09:17:08.234Z"
   },
   {
    "duration": 226,
    "start_time": "2022-12-27T09:20:14.949Z"
   },
   {
    "duration": 86,
    "start_time": "2022-12-27T09:20:41.592Z"
   },
   {
    "duration": 12,
    "start_time": "2022-12-27T09:23:30.808Z"
   },
   {
    "duration": 12,
    "start_time": "2022-12-27T09:24:36.146Z"
   },
   {
    "duration": 13,
    "start_time": "2022-12-27T09:32:15.107Z"
   },
   {
    "duration": 17,
    "start_time": "2022-12-27T09:34:11.364Z"
   },
   {
    "duration": 16,
    "start_time": "2022-12-27T09:34:32.568Z"
   },
   {
    "duration": 27,
    "start_time": "2022-12-27T09:34:45.226Z"
   },
   {
    "duration": 15,
    "start_time": "2022-12-27T09:34:56.363Z"
   },
   {
    "duration": 3,
    "start_time": "2022-12-27T09:35:06.477Z"
   },
   {
    "duration": 29,
    "start_time": "2022-12-27T09:35:07.313Z"
   },
   {
    "duration": 9,
    "start_time": "2022-12-27T09:35:10.932Z"
   },
   {
    "duration": 8,
    "start_time": "2022-12-27T09:35:27.031Z"
   },
   {
    "duration": 14,
    "start_time": "2022-12-27T09:35:35.055Z"
   },
   {
    "duration": 10,
    "start_time": "2022-12-27T09:35:46.344Z"
   },
   {
    "duration": 9,
    "start_time": "2022-12-27T09:35:57.787Z"
   },
   {
    "duration": 12,
    "start_time": "2022-12-27T09:37:22.580Z"
   },
   {
    "duration": 11,
    "start_time": "2022-12-27T09:37:27.752Z"
   },
   {
    "duration": 8,
    "start_time": "2022-12-27T09:38:38.246Z"
   },
   {
    "duration": 5,
    "start_time": "2022-12-27T09:39:14.902Z"
   },
   {
    "duration": 162,
    "start_time": "2022-12-27T09:41:55.916Z"
   },
   {
    "duration": 143,
    "start_time": "2022-12-27T09:42:09.752Z"
   },
   {
    "duration": 157,
    "start_time": "2022-12-27T09:42:20.096Z"
   },
   {
    "duration": 190,
    "start_time": "2022-12-27T09:43:30.052Z"
   },
   {
    "duration": 149,
    "start_time": "2022-12-27T09:43:40.691Z"
   },
   {
    "duration": 144,
    "start_time": "2022-12-27T09:43:46.589Z"
   },
   {
    "duration": 204,
    "start_time": "2022-12-27T09:43:56.535Z"
   },
   {
    "duration": 162,
    "start_time": "2022-12-27T09:44:01.690Z"
   },
   {
    "duration": 154,
    "start_time": "2022-12-27T09:45:07.520Z"
   },
   {
    "duration": 178,
    "start_time": "2022-12-27T09:45:49.066Z"
   },
   {
    "duration": 152,
    "start_time": "2022-12-27T09:46:00.900Z"
   },
   {
    "duration": 52,
    "start_time": "2022-12-27T09:46:25.249Z"
   },
   {
    "duration": 138,
    "start_time": "2022-12-27T09:46:39.871Z"
   },
   {
    "duration": 131,
    "start_time": "2022-12-27T09:47:17.523Z"
   },
   {
    "duration": 48,
    "start_time": "2022-12-27T09:48:35.970Z"
   },
   {
    "duration": 194,
    "start_time": "2022-12-27T09:48:46.375Z"
   },
   {
    "duration": 149,
    "start_time": "2022-12-27T09:49:12.646Z"
   },
   {
    "duration": 146,
    "start_time": "2022-12-27T09:49:33.105Z"
   },
   {
    "duration": 142,
    "start_time": "2022-12-27T09:49:52.340Z"
   },
   {
    "duration": 139,
    "start_time": "2022-12-27T09:50:51.474Z"
   },
   {
    "duration": 146,
    "start_time": "2022-12-27T09:53:29.513Z"
   },
   {
    "duration": 51,
    "start_time": "2022-12-27T09:54:52.354Z"
   },
   {
    "duration": 6,
    "start_time": "2022-12-27T10:23:40.038Z"
   },
   {
    "duration": 172,
    "start_time": "2022-12-27T10:53:36.098Z"
   },
   {
    "duration": 172,
    "start_time": "2022-12-27T10:55:35.192Z"
   },
   {
    "duration": 168,
    "start_time": "2022-12-27T10:57:47.625Z"
   },
   {
    "duration": 295,
    "start_time": "2022-12-27T10:57:54.942Z"
   },
   {
    "duration": 195,
    "start_time": "2022-12-27T10:57:57.827Z"
   },
   {
    "duration": 215,
    "start_time": "2022-12-27T10:58:02.075Z"
   },
   {
    "duration": 254,
    "start_time": "2022-12-27T10:58:27.545Z"
   },
   {
    "duration": 265,
    "start_time": "2022-12-27T10:58:32.396Z"
   },
   {
    "duration": 334,
    "start_time": "2022-12-27T10:58:37.989Z"
   },
   {
    "duration": 141,
    "start_time": "2022-12-27T10:58:43.492Z"
   },
   {
    "duration": 6,
    "start_time": "2022-12-27T10:59:09.963Z"
   },
   {
    "duration": 149,
    "start_time": "2022-12-27T11:00:02.238Z"
   },
   {
    "duration": 4,
    "start_time": "2022-12-27T11:00:04.586Z"
   },
   {
    "duration": 128,
    "start_time": "2022-12-27T11:00:05.893Z"
   },
   {
    "duration": 5,
    "start_time": "2022-12-27T11:00:11.712Z"
   },
   {
    "duration": 232,
    "start_time": "2022-12-27T11:01:23.561Z"
   },
   {
    "duration": 149,
    "start_time": "2022-12-27T11:01:29.889Z"
   },
   {
    "duration": 23,
    "start_time": "2022-12-27T11:02:02.552Z"
   },
   {
    "duration": 14,
    "start_time": "2022-12-27T11:02:26.444Z"
   },
   {
    "duration": 12,
    "start_time": "2022-12-27T11:02:39.507Z"
   },
   {
    "duration": 16,
    "start_time": "2022-12-27T11:02:46.176Z"
   },
   {
    "duration": 141,
    "start_time": "2022-12-27T11:03:06.826Z"
   },
   {
    "duration": 178,
    "start_time": "2022-12-27T11:03:20.507Z"
   },
   {
    "duration": 128,
    "start_time": "2022-12-27T11:04:09.075Z"
   },
   {
    "duration": 11,
    "start_time": "2022-12-27T11:04:40.237Z"
   },
   {
    "duration": 23,
    "start_time": "2022-12-27T11:04:41.580Z"
   },
   {
    "duration": 12,
    "start_time": "2022-12-27T11:04:51.478Z"
   },
   {
    "duration": 996,
    "start_time": "2022-12-27T14:03:22.555Z"
   },
   {
    "duration": 26,
    "start_time": "2022-12-27T14:03:23.553Z"
   },
   {
    "duration": 12,
    "start_time": "2022-12-27T14:03:23.582Z"
   },
   {
    "duration": 15,
    "start_time": "2022-12-27T14:03:23.595Z"
   },
   {
    "duration": 8,
    "start_time": "2022-12-27T14:03:23.611Z"
   },
   {
    "duration": 16,
    "start_time": "2022-12-27T14:03:23.620Z"
   },
   {
    "duration": 12,
    "start_time": "2022-12-27T14:03:23.637Z"
   },
   {
    "duration": 53,
    "start_time": "2022-12-27T14:03:23.650Z"
   },
   {
    "duration": 12,
    "start_time": "2022-12-27T14:03:23.707Z"
   },
   {
    "duration": 32,
    "start_time": "2022-12-27T14:03:23.721Z"
   },
   {
    "duration": 8,
    "start_time": "2022-12-27T14:03:23.754Z"
   },
   {
    "duration": 7,
    "start_time": "2022-12-27T14:03:23.764Z"
   },
   {
    "duration": 14,
    "start_time": "2022-12-27T14:03:23.772Z"
   },
   {
    "duration": 14,
    "start_time": "2022-12-27T14:03:23.787Z"
   },
   {
    "duration": 16,
    "start_time": "2022-12-27T14:03:23.802Z"
   },
   {
    "duration": 6,
    "start_time": "2022-12-27T14:03:23.819Z"
   },
   {
    "duration": 150,
    "start_time": "2022-12-27T14:03:23.826Z"
   },
   {
    "duration": 129,
    "start_time": "2022-12-27T14:03:23.977Z"
   },
   {
    "duration": 266,
    "start_time": "2022-12-27T14:03:24.107Z"
   },
   {
    "duration": 264,
    "start_time": "2022-12-27T14:03:24.374Z"
   },
   {
    "duration": 201,
    "start_time": "2022-12-27T14:03:24.640Z"
   },
   {
    "duration": 264,
    "start_time": "2022-12-27T14:03:24.843Z"
   },
   {
    "duration": 267,
    "start_time": "2022-12-27T14:03:25.108Z"
   },
   {
    "duration": 318,
    "start_time": "2022-12-27T14:03:25.377Z"
   },
   {
    "duration": 146,
    "start_time": "2022-12-27T14:03:25.697Z"
   },
   {
    "duration": 4,
    "start_time": "2022-12-27T14:03:25.845Z"
   },
   {
    "duration": 9,
    "start_time": "2022-12-27T14:03:25.852Z"
   },
   {
    "duration": 142,
    "start_time": "2022-12-27T14:03:25.863Z"
   },
   {
    "duration": 5,
    "start_time": "2022-12-27T14:03:26.007Z"
   },
   {
    "duration": 131,
    "start_time": "2022-12-27T14:03:26.021Z"
   },
   {
    "duration": 5,
    "start_time": "2022-12-27T14:03:26.153Z"
   },
   {
    "duration": 319,
    "start_time": "2022-12-27T14:03:26.160Z"
   },
   {
    "duration": 154,
    "start_time": "2022-12-27T14:03:26.481Z"
   },
   {
    "duration": 33,
    "start_time": "2022-12-27T14:03:26.637Z"
   },
   {
    "duration": 13,
    "start_time": "2022-12-27T14:03:26.672Z"
   },
   {
    "duration": 165,
    "start_time": "2022-12-27T14:03:26.687Z"
   },
   {
    "duration": 8,
    "start_time": "2022-12-27T14:03:26.854Z"
   },
   {
    "duration": 34,
    "start_time": "2022-12-27T14:03:26.863Z"
   },
   {
    "duration": 26,
    "start_time": "2022-12-27T14:03:26.899Z"
   }
  ],
  "kernelspec": {
   "display_name": "Python 3 (ipykernel)",
   "language": "python",
   "name": "python3"
  },
  "language_info": {
   "codemirror_mode": {
    "name": "ipython",
    "version": 3
   },
   "file_extension": ".py",
   "mimetype": "text/x-python",
   "name": "python",
   "nbconvert_exporter": "python",
   "pygments_lexer": "ipython3",
   "version": "3.9.13"
  },
  "toc": {
   "base_numbering": 1,
   "nav_menu": {
    "height": "120px",
    "width": "741px"
   },
   "number_sections": true,
   "sideBar": true,
   "skip_h1_title": true,
   "title_cell": "Table of Contents",
   "title_sidebar": "Contents",
   "toc_cell": false,
   "toc_position": {},
   "toc_section_display": true,
   "toc_window_display": true
  }
 },
 "nbformat": 4,
 "nbformat_minor": 2
}
