{
 "cells": [
  {
   "cell_type": "markdown",
   "metadata": {},
   "source": [
    "<b><div style=\"text-align: center;\"><b>Проект по SQL</b></div></b><br>"
   ]
  },
  {
   "cell_type": "markdown",
   "metadata": {},
   "source": [
    "<b><div style=\"text-align: center;\">Описание проекта</div></b><br>\n",
    "Коронавирус застал мир врасплох, изменив привычный порядок вещей. В свободное время жители городов больше не выходят на улицу, не посещают кафе и торговые центры. Зато стало больше времени для книг. Это заметили стартаперы — и бросились создавать приложения для тех, кто любит читать.<br>\n",
    "Ваша компания решила быть на волне и купила крупный сервис для чтения книг по подписке. Ваша первая задача как аналитика — проанализировать базу данных.<br>\n",
    "В ней — информация о книгах, издательствах, авторах, а также пользовательские обзоры книг. Эти данные помогут сформулировать ценностное предложение для нового продукта.<br>\n",
    "\n",
    "<b><div style=\"text-align: center;\">Задача проекта</div></b><br>\n",
    "Проанализировать базу данных о книгах и дать рекомендации по формированию подборки для клиентов сервиса.<br><br>\n",
    "\n",
    "<b><div style=\"text-align: center;\">Описание данных</div></b><br>\n",
    "Таблица <b>books</b> содержит данные о книгах:<br>\n",
    "book_id — идентификатор книги;<br>\n",
    "author_id — идентификатор автора;<br>\n",
    "title — название книги;<br>\n",
    "num_pages — количество страниц;<br>\n",
    "publication_date — дата публикации книги;<br>\n",
    "publisher_id — идентификатор издателя.<br>\n",
    "Таблица <b>authors</b> содержит данные об авторах:<br>\n",
    "author_id — идентификатор автора;<br>\n",
    "author — имя автора.<br>\n",
    "Таблица <b>publishers</b> содержит данные об издательствах:<br>\n",
    "publisher_id — идентификатор издательства;<br>\n",
    "publisher — название издательства;<br>\n",
    "Таблица <b>ratings</b> содержит данные о пользовательских оценках книг:<br>\n",
    "rating_id — идентификатор оценки;<br>\n",
    "book_id — идентификатор книги;<br>\n",
    "username — имя пользователя, оставившего оценку;<br>\n",
    "rating — оценка книги.<br>\n",
    "Таблица <b>reviews</b> содержит данные о пользовательских обзорах:<br>\n",
    "review_id — идентификатор обзора;<br>\n",
    "book_id — идентификатор книги;<br>\n",
    "username — имя автора обзора;<br>\n",
    "text — текст обзора.<br><br>\n",
    "\n",
    "<b><div style=\"text-align: center;\">Схема данных</div></b><br>\n",
    "<img src=\"https://pictures.s3.yandex.net/resources/scheme_1589269096.png\" alt=\"схема данных\">"
   ]
  },
  {
   "cell_type": "markdown",
   "metadata": {},
   "source": [
    "<b>Декомпозиция</b><br>\n",
    "<a href='#section1'>1.Предобработка данных</a><br>\n",
    "<a href='#section2'>2.Исследовальский анализ данных</a><br>\n",
    "<a href='#section21'>2.1 Посчитайте, сколько книг вышло после 1 января 2000 года</a><br>\n",
    "<a href='#section22'>2.2 Для каждой книги посчитайте количество обзоров и среднюю оценку</a><br>\n",
    "<a href='#section23'>2.3 Определите издательство, которое выпустило наибольшее число книг толще 50 страниц — так вы исключите из анализа брошюры</a><br>\n",
    "<a href='#section24'>2.4 Определите автора с самой высокой средней оценкой книг — учитывайте только книги с 50 и более оценками</a><br>\n",
    "<a href='#section25'>2.5 Посчитайте среднее количество обзоров от пользователей, которые поставили больше 50 оценок.</a><br>\n",
    "<a href='#section3'>3. Выводы и рекомндации</a><br>"
   ]
  },
  {
   "cell_type": "markdown",
   "metadata": {},
   "source": [
    "<a id='section1'></a><br>\n",
    "## Предобработка данных"
   ]
  },
  {
   "cell_type": "code",
   "execution_count": 36,
   "metadata": {},
   "outputs": [],
   "source": [
    "# импортируем библиотеки\n",
    "import pandas as pd\n",
    "from sqlalchemy import create_engine\n",
    "pd.options.display.max_colwidth=400\n",
    "# устанавливаем параметры\n",
    "db_config = {'user': 'praktikum_student', # имя пользователя\n",
    "             'pwd': 'xxxxx', # пароль\n",
    "             'host': 'xxxx',\n",
    "             'port': 6432, # порт подключения\n",
    "             'db': 'data-analyst-final-project-db'} # название базы данных\n",
    "connection_string = 'postgresql://{}:{}@{}:{}/{}'.format(db_config['user'],\n",
    "                                                 db_config['pwd'],\n",
    "                                                 db_config['host'],\n",
    "                                                 db_config['port'],\n",
    "                                                 db_config['db'])\n",
    "# сохраняем коннектор\n",
    "engine = create_engine(connection_string, connect_args={'sslmode':'require'})"
   ]
  },
  {
   "cell_type": "markdown",
   "metadata": {},
   "source": [
    "Выведем основную информацию и заголовок таблиц, для этого создим функцию и вызовем ее в цикле"
   ]
  },
  {
   "cell_type": "code",
   "execution_count": 37,
   "metadata": {},
   "outputs": [
    {
     "name": "stdout",
     "output_type": "stream",
     "text": [
      "Таблица: books\n"
     ]
    },
    {
     "data": {
      "text/html": [
       "<div>\n",
       "<style scoped>\n",
       "    .dataframe tbody tr th:only-of-type {\n",
       "        vertical-align: middle;\n",
       "    }\n",
       "\n",
       "    .dataframe tbody tr th {\n",
       "        vertical-align: top;\n",
       "    }\n",
       "\n",
       "    .dataframe thead th {\n",
       "        text-align: right;\n",
       "    }\n",
       "</style>\n",
       "<table border=\"1\" class=\"dataframe\">\n",
       "  <thead>\n",
       "    <tr style=\"text-align: right;\">\n",
       "      <th></th>\n",
       "      <th>book_id</th>\n",
       "      <th>author_id</th>\n",
       "      <th>title</th>\n",
       "      <th>num_pages</th>\n",
       "      <th>publication_date</th>\n",
       "      <th>publisher_id</th>\n",
       "    </tr>\n",
       "  </thead>\n",
       "  <tbody>\n",
       "    <tr>\n",
       "      <th>0</th>\n",
       "      <td>1</td>\n",
       "      <td>546</td>\n",
       "      <td>'Salem's Lot</td>\n",
       "      <td>594</td>\n",
       "      <td>2005-11-01</td>\n",
       "      <td>93</td>\n",
       "    </tr>\n",
       "    <tr>\n",
       "      <th>1</th>\n",
       "      <td>2</td>\n",
       "      <td>465</td>\n",
       "      <td>1 000 Places to See Before You Die</td>\n",
       "      <td>992</td>\n",
       "      <td>2003-05-22</td>\n",
       "      <td>336</td>\n",
       "    </tr>\n",
       "    <tr>\n",
       "      <th>2</th>\n",
       "      <td>3</td>\n",
       "      <td>407</td>\n",
       "      <td>13 Little Blue Envelopes (Little Blue Envelope  #1)</td>\n",
       "      <td>322</td>\n",
       "      <td>2010-12-21</td>\n",
       "      <td>135</td>\n",
       "    </tr>\n",
       "    <tr>\n",
       "      <th>3</th>\n",
       "      <td>4</td>\n",
       "      <td>82</td>\n",
       "      <td>1491: New Revelations of the Americas Before Columbus</td>\n",
       "      <td>541</td>\n",
       "      <td>2006-10-10</td>\n",
       "      <td>309</td>\n",
       "    </tr>\n",
       "    <tr>\n",
       "      <th>4</th>\n",
       "      <td>5</td>\n",
       "      <td>125</td>\n",
       "      <td>1776</td>\n",
       "      <td>386</td>\n",
       "      <td>2006-07-04</td>\n",
       "      <td>268</td>\n",
       "    </tr>\n",
       "  </tbody>\n",
       "</table>\n",
       "</div>"
      ],
      "text/plain": [
       "   book_id  author_id                                                  title  \\\n",
       "0        1        546                                           'Salem's Lot   \n",
       "1        2        465                     1 000 Places to See Before You Die   \n",
       "2        3        407    13 Little Blue Envelopes (Little Blue Envelope  #1)   \n",
       "3        4         82  1491: New Revelations of the Americas Before Columbus   \n",
       "4        5        125                                                   1776   \n",
       "\n",
       "   num_pages publication_date  publisher_id  \n",
       "0        594       2005-11-01            93  \n",
       "1        992       2003-05-22           336  \n",
       "2        322       2010-12-21           135  \n",
       "3        541       2006-10-10           309  \n",
       "4        386       2006-07-04           268  "
      ]
     },
     "metadata": {},
     "output_type": "display_data"
    },
    {
     "name": "stdout",
     "output_type": "stream",
     "text": [
      "<class 'pandas.core.frame.DataFrame'>\n",
      "RangeIndex: 1000 entries, 0 to 999\n",
      "Data columns (total 6 columns):\n",
      " #   Column            Non-Null Count  Dtype \n",
      "---  ------            --------------  ----- \n",
      " 0   book_id           1000 non-null   int64 \n",
      " 1   author_id         1000 non-null   int64 \n",
      " 2   title             1000 non-null   object\n",
      " 3   num_pages         1000 non-null   int64 \n",
      " 4   publication_date  1000 non-null   object\n",
      " 5   publisher_id      1000 non-null   int64 \n",
      "dtypes: int64(4), object(2)\n",
      "memory usage: 47.0+ KB\n",
      "None\n",
      "--------------------------------------------------\n",
      "Таблица: authors\n"
     ]
    },
    {
     "data": {
      "text/html": [
       "<div>\n",
       "<style scoped>\n",
       "    .dataframe tbody tr th:only-of-type {\n",
       "        vertical-align: middle;\n",
       "    }\n",
       "\n",
       "    .dataframe tbody tr th {\n",
       "        vertical-align: top;\n",
       "    }\n",
       "\n",
       "    .dataframe thead th {\n",
       "        text-align: right;\n",
       "    }\n",
       "</style>\n",
       "<table border=\"1\" class=\"dataframe\">\n",
       "  <thead>\n",
       "    <tr style=\"text-align: right;\">\n",
       "      <th></th>\n",
       "      <th>author_id</th>\n",
       "      <th>author</th>\n",
       "    </tr>\n",
       "  </thead>\n",
       "  <tbody>\n",
       "    <tr>\n",
       "      <th>0</th>\n",
       "      <td>1</td>\n",
       "      <td>A.S. Byatt</td>\n",
       "    </tr>\n",
       "    <tr>\n",
       "      <th>1</th>\n",
       "      <td>2</td>\n",
       "      <td>Aesop/Laura Harris/Laura Gibbs</td>\n",
       "    </tr>\n",
       "    <tr>\n",
       "      <th>2</th>\n",
       "      <td>3</td>\n",
       "      <td>Agatha Christie</td>\n",
       "    </tr>\n",
       "    <tr>\n",
       "      <th>3</th>\n",
       "      <td>4</td>\n",
       "      <td>Alan Brennert</td>\n",
       "    </tr>\n",
       "    <tr>\n",
       "      <th>4</th>\n",
       "      <td>5</td>\n",
       "      <td>Alan Moore/David   Lloyd</td>\n",
       "    </tr>\n",
       "  </tbody>\n",
       "</table>\n",
       "</div>"
      ],
      "text/plain": [
       "   author_id                          author\n",
       "0          1                      A.S. Byatt\n",
       "1          2  Aesop/Laura Harris/Laura Gibbs\n",
       "2          3                 Agatha Christie\n",
       "3          4                   Alan Brennert\n",
       "4          5        Alan Moore/David   Lloyd"
      ]
     },
     "metadata": {},
     "output_type": "display_data"
    },
    {
     "name": "stdout",
     "output_type": "stream",
     "text": [
      "<class 'pandas.core.frame.DataFrame'>\n",
      "RangeIndex: 636 entries, 0 to 635\n",
      "Data columns (total 2 columns):\n",
      " #   Column     Non-Null Count  Dtype \n",
      "---  ------     --------------  ----- \n",
      " 0   author_id  636 non-null    int64 \n",
      " 1   author     636 non-null    object\n",
      "dtypes: int64(1), object(1)\n",
      "memory usage: 10.1+ KB\n",
      "None\n",
      "--------------------------------------------------\n",
      "Таблица: publishers\n"
     ]
    },
    {
     "data": {
      "text/html": [
       "<div>\n",
       "<style scoped>\n",
       "    .dataframe tbody tr th:only-of-type {\n",
       "        vertical-align: middle;\n",
       "    }\n",
       "\n",
       "    .dataframe tbody tr th {\n",
       "        vertical-align: top;\n",
       "    }\n",
       "\n",
       "    .dataframe thead th {\n",
       "        text-align: right;\n",
       "    }\n",
       "</style>\n",
       "<table border=\"1\" class=\"dataframe\">\n",
       "  <thead>\n",
       "    <tr style=\"text-align: right;\">\n",
       "      <th></th>\n",
       "      <th>publisher_id</th>\n",
       "      <th>publisher</th>\n",
       "    </tr>\n",
       "  </thead>\n",
       "  <tbody>\n",
       "    <tr>\n",
       "      <th>0</th>\n",
       "      <td>1</td>\n",
       "      <td>Ace</td>\n",
       "    </tr>\n",
       "    <tr>\n",
       "      <th>1</th>\n",
       "      <td>2</td>\n",
       "      <td>Ace Book</td>\n",
       "    </tr>\n",
       "    <tr>\n",
       "      <th>2</th>\n",
       "      <td>3</td>\n",
       "      <td>Ace Books</td>\n",
       "    </tr>\n",
       "    <tr>\n",
       "      <th>3</th>\n",
       "      <td>4</td>\n",
       "      <td>Ace Hardcover</td>\n",
       "    </tr>\n",
       "    <tr>\n",
       "      <th>4</th>\n",
       "      <td>5</td>\n",
       "      <td>Addison Wesley Publishing Company</td>\n",
       "    </tr>\n",
       "  </tbody>\n",
       "</table>\n",
       "</div>"
      ],
      "text/plain": [
       "   publisher_id                          publisher\n",
       "0             1                                Ace\n",
       "1             2                           Ace Book\n",
       "2             3                          Ace Books\n",
       "3             4                      Ace Hardcover\n",
       "4             5  Addison Wesley Publishing Company"
      ]
     },
     "metadata": {},
     "output_type": "display_data"
    },
    {
     "name": "stdout",
     "output_type": "stream",
     "text": [
      "<class 'pandas.core.frame.DataFrame'>\n",
      "RangeIndex: 340 entries, 0 to 339\n",
      "Data columns (total 2 columns):\n",
      " #   Column        Non-Null Count  Dtype \n",
      "---  ------        --------------  ----- \n",
      " 0   publisher_id  340 non-null    int64 \n",
      " 1   publisher     340 non-null    object\n",
      "dtypes: int64(1), object(1)\n",
      "memory usage: 5.4+ KB\n",
      "None\n",
      "--------------------------------------------------\n",
      "Таблица: ratings\n"
     ]
    },
    {
     "data": {
      "text/html": [
       "<div>\n",
       "<style scoped>\n",
       "    .dataframe tbody tr th:only-of-type {\n",
       "        vertical-align: middle;\n",
       "    }\n",
       "\n",
       "    .dataframe tbody tr th {\n",
       "        vertical-align: top;\n",
       "    }\n",
       "\n",
       "    .dataframe thead th {\n",
       "        text-align: right;\n",
       "    }\n",
       "</style>\n",
       "<table border=\"1\" class=\"dataframe\">\n",
       "  <thead>\n",
       "    <tr style=\"text-align: right;\">\n",
       "      <th></th>\n",
       "      <th>rating_id</th>\n",
       "      <th>book_id</th>\n",
       "      <th>username</th>\n",
       "      <th>rating</th>\n",
       "    </tr>\n",
       "  </thead>\n",
       "  <tbody>\n",
       "    <tr>\n",
       "      <th>0</th>\n",
       "      <td>1</td>\n",
       "      <td>1</td>\n",
       "      <td>ryanfranco</td>\n",
       "      <td>4</td>\n",
       "    </tr>\n",
       "    <tr>\n",
       "      <th>1</th>\n",
       "      <td>2</td>\n",
       "      <td>1</td>\n",
       "      <td>grantpatricia</td>\n",
       "      <td>2</td>\n",
       "    </tr>\n",
       "    <tr>\n",
       "      <th>2</th>\n",
       "      <td>3</td>\n",
       "      <td>1</td>\n",
       "      <td>brandtandrea</td>\n",
       "      <td>5</td>\n",
       "    </tr>\n",
       "    <tr>\n",
       "      <th>3</th>\n",
       "      <td>4</td>\n",
       "      <td>2</td>\n",
       "      <td>lorichen</td>\n",
       "      <td>3</td>\n",
       "    </tr>\n",
       "    <tr>\n",
       "      <th>4</th>\n",
       "      <td>5</td>\n",
       "      <td>2</td>\n",
       "      <td>mariokeller</td>\n",
       "      <td>2</td>\n",
       "    </tr>\n",
       "  </tbody>\n",
       "</table>\n",
       "</div>"
      ],
      "text/plain": [
       "   rating_id  book_id       username  rating\n",
       "0          1        1     ryanfranco       4\n",
       "1          2        1  grantpatricia       2\n",
       "2          3        1   brandtandrea       5\n",
       "3          4        2       lorichen       3\n",
       "4          5        2    mariokeller       2"
      ]
     },
     "metadata": {},
     "output_type": "display_data"
    },
    {
     "name": "stdout",
     "output_type": "stream",
     "text": [
      "<class 'pandas.core.frame.DataFrame'>\n",
      "RangeIndex: 6456 entries, 0 to 6455\n",
      "Data columns (total 4 columns):\n",
      " #   Column     Non-Null Count  Dtype \n",
      "---  ------     --------------  ----- \n",
      " 0   rating_id  6456 non-null   int64 \n",
      " 1   book_id    6456 non-null   int64 \n",
      " 2   username   6456 non-null   object\n",
      " 3   rating     6456 non-null   int64 \n",
      "dtypes: int64(3), object(1)\n",
      "memory usage: 201.9+ KB\n",
      "None\n",
      "--------------------------------------------------\n",
      "Таблица: reviews\n"
     ]
    },
    {
     "data": {
      "text/html": [
       "<div>\n",
       "<style scoped>\n",
       "    .dataframe tbody tr th:only-of-type {\n",
       "        vertical-align: middle;\n",
       "    }\n",
       "\n",
       "    .dataframe tbody tr th {\n",
       "        vertical-align: top;\n",
       "    }\n",
       "\n",
       "    .dataframe thead th {\n",
       "        text-align: right;\n",
       "    }\n",
       "</style>\n",
       "<table border=\"1\" class=\"dataframe\">\n",
       "  <thead>\n",
       "    <tr style=\"text-align: right;\">\n",
       "      <th></th>\n",
       "      <th>review_id</th>\n",
       "      <th>book_id</th>\n",
       "      <th>username</th>\n",
       "      <th>text</th>\n",
       "    </tr>\n",
       "  </thead>\n",
       "  <tbody>\n",
       "    <tr>\n",
       "      <th>0</th>\n",
       "      <td>1</td>\n",
       "      <td>1</td>\n",
       "      <td>brandtandrea</td>\n",
       "      <td>Mention society tell send professor analysis. Over provide race technology continue these.</td>\n",
       "    </tr>\n",
       "    <tr>\n",
       "      <th>1</th>\n",
       "      <td>2</td>\n",
       "      <td>1</td>\n",
       "      <td>ryanfranco</td>\n",
       "      <td>Foot glass pretty audience hit themselves. Among admit investment argue security.</td>\n",
       "    </tr>\n",
       "    <tr>\n",
       "      <th>2</th>\n",
       "      <td>3</td>\n",
       "      <td>2</td>\n",
       "      <td>lorichen</td>\n",
       "      <td>Listen treat keep worry. Miss husband tax but person sport treatment industry. Kitchen decision deep the. Social party body the.</td>\n",
       "    </tr>\n",
       "    <tr>\n",
       "      <th>3</th>\n",
       "      <td>4</td>\n",
       "      <td>3</td>\n",
       "      <td>johnsonamanda</td>\n",
       "      <td>Finally month interesting blue could nature cultural bit. Prepare beat finish grow that smile teach. Dream me play near.</td>\n",
       "    </tr>\n",
       "    <tr>\n",
       "      <th>4</th>\n",
       "      <td>5</td>\n",
       "      <td>3</td>\n",
       "      <td>scotttamara</td>\n",
       "      <td>Nation purpose heavy give wait song will. List dinner another whole positive radio fast. Music staff many green.</td>\n",
       "    </tr>\n",
       "  </tbody>\n",
       "</table>\n",
       "</div>"
      ],
      "text/plain": [
       "   review_id  book_id       username  \\\n",
       "0          1        1   brandtandrea   \n",
       "1          2        1     ryanfranco   \n",
       "2          3        2       lorichen   \n",
       "3          4        3  johnsonamanda   \n",
       "4          5        3    scotttamara   \n",
       "\n",
       "                                                                                                                               text  \n",
       "0                                        Mention society tell send professor analysis. Over provide race technology continue these.  \n",
       "1                                                 Foot glass pretty audience hit themselves. Among admit investment argue security.  \n",
       "2  Listen treat keep worry. Miss husband tax but person sport treatment industry. Kitchen decision deep the. Social party body the.  \n",
       "3          Finally month interesting blue could nature cultural bit. Prepare beat finish grow that smile teach. Dream me play near.  \n",
       "4                  Nation purpose heavy give wait song will. List dinner another whole positive radio fast. Music staff many green.  "
      ]
     },
     "metadata": {},
     "output_type": "display_data"
    },
    {
     "name": "stdout",
     "output_type": "stream",
     "text": [
      "<class 'pandas.core.frame.DataFrame'>\n",
      "RangeIndex: 2793 entries, 0 to 2792\n",
      "Data columns (total 4 columns):\n",
      " #   Column     Non-Null Count  Dtype \n",
      "---  ------     --------------  ----- \n",
      " 0   review_id  2793 non-null   int64 \n",
      " 1   book_id    2793 non-null   int64 \n",
      " 2   username   2793 non-null   object\n",
      " 3   text       2793 non-null   object\n",
      "dtypes: int64(2), object(2)\n",
      "memory usage: 87.4+ KB\n",
      "None\n",
      "--------------------------------------------------\n"
     ]
    }
   ],
   "source": [
    "db = ['books', 'authors', 'publishers', 'ratings', 'reviews']\n",
    "def db_inf(db):\n",
    "    query = '''\n",
    "            SELECT *\n",
    "            FROM {}\n",
    "         '''.format(db)\n",
    "    info=pd.io.sql.read_sql(query, con = engine)\n",
    "    display(info.head())\n",
    "    print(info.info())\n",
    "    print('-'*50)\n",
    "    \n",
    "for i in range (0,len(db)):\n",
    "    print('Таблица:',db[i])\n",
    "    db_inf(db[i])"
   ]
  },
  {
   "cell_type": "markdown",
   "metadata": {},
   "source": [
    "На этом этапе мы загрузили и проанализировали таблицы БД:<br>\n",
    "- таблица books(количество книг в базе) содержит 6 полей и 1 000 записей (количество книг в базе), пропусков нет<br>\n",
    "- таблица authors(количество авторов) содержит 2 поля и 636 записей (количество авторов), пропусков нет<br>\n",
    "- таблица publishers(количество издательств) содержит 2 поля и 340 записей , пропусков нет<br>\n",
    "- таблица ratings(данные о пользовательских оценках книг) содержит 4 поля и 6 456 записей, пропусков нет<br>\n",
    "- таблица reviews(содержит данные о пользовательских обзорах) содержит 4 поля и 2 793 записи, пропусков нет<br>\n",
    "Из данного анализа видно, что у нас всего 1000 книг, 636 авторов, 340 издательств. Всего 6456 пользовательских оценок и 2793 обзора.<br>\n",
    "Далее проведем исследовальскийанализ данных, чтобы ответить на вопросы исследования."
   ]
  },
  {
   "cell_type": "markdown",
   "metadata": {},
   "source": [
    "<a id='section2'></a>\n",
    "## Исследовальский анализ данных"
   ]
  },
  {
   "cell_type": "markdown",
   "metadata": {},
   "source": [
    "<a id='section21'></a> \n",
    "### Расчет кол-ва книг, вышедших после 1 января 2000 года"
   ]
  },
  {
   "cell_type": "code",
   "execution_count": 38,
   "metadata": {},
   "outputs": [
    {
     "name": "stdout",
     "output_type": "stream",
     "text": [
      "Таблица содержит данные о 819 книгах, вышедших после 2000 года\n"
     ]
    }
   ],
   "source": [
    "query_1 = '''\n",
    "            SELECT COUNT (book_id) AS cnt\n",
    "            FROM books\n",
    "            WHERE publication_date > '2000-01-01';\n",
    "         '''\n",
    " \n",
    "answer1 = pd.io.sql.read_sql(query_1, con = engine)\n",
    "print('Таблица содержит данные о',answer1['cnt'][0],'книгах, вышедших после 2000 года')"
   ]
  },
  {
   "cell_type": "markdown",
   "metadata": {},
   "source": [
    "Из представленых в базе 1000 книг, 819 вышли после 2000 года. Можно сделать вывод, что база состоит из современных книг."
   ]
  },
  {
   "cell_type": "markdown",
   "metadata": {},
   "source": [
    "<a id='section22'></a> \n",
    "###  Для каждой книги посчитайте количество обзоров и среднюю оценку"
   ]
  },
  {
   "cell_type": "code",
   "execution_count": 39,
   "metadata": {},
   "outputs": [
    {
     "data": {
      "text/html": [
       "<div>\n",
       "<style scoped>\n",
       "    .dataframe tbody tr th:only-of-type {\n",
       "        vertical-align: middle;\n",
       "    }\n",
       "\n",
       "    .dataframe tbody tr th {\n",
       "        vertical-align: top;\n",
       "    }\n",
       "\n",
       "    .dataframe thead th {\n",
       "        text-align: right;\n",
       "    }\n",
       "</style>\n",
       "<table border=\"1\" class=\"dataframe\">\n",
       "  <thead>\n",
       "    <tr style=\"text-align: right;\">\n",
       "      <th></th>\n",
       "      <th>book_id</th>\n",
       "      <th>title</th>\n",
       "      <th>review_count</th>\n",
       "      <th>avg_rating</th>\n",
       "    </tr>\n",
       "  </thead>\n",
       "  <tbody>\n",
       "    <tr>\n",
       "      <th>0</th>\n",
       "      <td>948</td>\n",
       "      <td>Twilight (Twilight  #1)</td>\n",
       "      <td>7</td>\n",
       "      <td>3.66</td>\n",
       "    </tr>\n",
       "    <tr>\n",
       "      <th>1</th>\n",
       "      <td>963</td>\n",
       "      <td>Water for Elephants</td>\n",
       "      <td>6</td>\n",
       "      <td>3.98</td>\n",
       "    </tr>\n",
       "    <tr>\n",
       "      <th>2</th>\n",
       "      <td>734</td>\n",
       "      <td>The Glass Castle</td>\n",
       "      <td>6</td>\n",
       "      <td>4.21</td>\n",
       "    </tr>\n",
       "    <tr>\n",
       "      <th>3</th>\n",
       "      <td>302</td>\n",
       "      <td>Harry Potter and the Prisoner of Azkaban (Harry Potter  #3)</td>\n",
       "      <td>6</td>\n",
       "      <td>4.41</td>\n",
       "    </tr>\n",
       "    <tr>\n",
       "      <th>4</th>\n",
       "      <td>695</td>\n",
       "      <td>The Curious Incident of the Dog in the Night-Time</td>\n",
       "      <td>6</td>\n",
       "      <td>4.08</td>\n",
       "    </tr>\n",
       "    <tr>\n",
       "      <th>...</th>\n",
       "      <td>...</td>\n",
       "      <td>...</td>\n",
       "      <td>...</td>\n",
       "      <td>...</td>\n",
       "    </tr>\n",
       "    <tr>\n",
       "      <th>995</th>\n",
       "      <td>83</td>\n",
       "      <td>Anne Rice's The Vampire Lestat: A Graphic Novel</td>\n",
       "      <td>0</td>\n",
       "      <td>NaN</td>\n",
       "    </tr>\n",
       "    <tr>\n",
       "      <th>996</th>\n",
       "      <td>808</td>\n",
       "      <td>The Natural Way to Draw</td>\n",
       "      <td>0</td>\n",
       "      <td>NaN</td>\n",
       "    </tr>\n",
       "    <tr>\n",
       "      <th>997</th>\n",
       "      <td>672</td>\n",
       "      <td>The Cat in the Hat and Other Dr. Seuss Favorites</td>\n",
       "      <td>0</td>\n",
       "      <td>NaN</td>\n",
       "    </tr>\n",
       "    <tr>\n",
       "      <th>998</th>\n",
       "      <td>221</td>\n",
       "      <td>Essential Tales and Poems</td>\n",
       "      <td>0</td>\n",
       "      <td>NaN</td>\n",
       "    </tr>\n",
       "    <tr>\n",
       "      <th>999</th>\n",
       "      <td>191</td>\n",
       "      <td>Disney's Beauty and the Beast (A Little Golden Book)</td>\n",
       "      <td>0</td>\n",
       "      <td>NaN</td>\n",
       "    </tr>\n",
       "  </tbody>\n",
       "</table>\n",
       "<p>1000 rows × 4 columns</p>\n",
       "</div>"
      ],
      "text/plain": [
       "     book_id                                                        title  \\\n",
       "0        948                                      Twilight (Twilight  #1)   \n",
       "1        963                                          Water for Elephants   \n",
       "2        734                                             The Glass Castle   \n",
       "3        302  Harry Potter and the Prisoner of Azkaban (Harry Potter  #3)   \n",
       "4        695            The Curious Incident of the Dog in the Night-Time   \n",
       "..       ...                                                          ...   \n",
       "995       83              Anne Rice's The Vampire Lestat: A Graphic Novel   \n",
       "996      808                                      The Natural Way to Draw   \n",
       "997      672             The Cat in the Hat and Other Dr. Seuss Favorites   \n",
       "998      221                                    Essential Tales and Poems   \n",
       "999      191         Disney's Beauty and the Beast (A Little Golden Book)   \n",
       "\n",
       "     review_count  avg_rating  \n",
       "0               7        3.66  \n",
       "1               6        3.98  \n",
       "2               6        4.21  \n",
       "3               6        4.41  \n",
       "4               6        4.08  \n",
       "..            ...         ...  \n",
       "995             0         NaN  \n",
       "996             0         NaN  \n",
       "997             0         NaN  \n",
       "998             0         NaN  \n",
       "999             0         NaN  \n",
       "\n",
       "[1000 rows x 4 columns]"
      ]
     },
     "metadata": {},
     "output_type": "display_data"
    }
   ],
   "source": [
    "query_2 = '''\n",
    "            SELECT b.book_id, title,\n",
    "            COUNT(DISTINCT rw.review_id) AS review_count, ROUND(AVG(r.rating),2) AS avg_rating\n",
    "            FROM books AS b LEFT JOIN reviews AS rw ON b.book_id = rw.book_id\n",
    "            LEFT JOIN ratings AS r ON rw.book_id = r.book_id\n",
    "            GROUP BY b.book_id\n",
    "            ORDER BY review_count DESC;            \n",
    "         '''\n",
    "answer2 = pd.io.sql.read_sql(query_2, con = engine)\n",
    "display(answer2)"
   ]
  },
  {
   "cell_type": "code",
   "execution_count": 40,
   "metadata": {},
   "outputs": [
    {
     "name": "stdout",
     "output_type": "stream",
     "text": [
      "max рейтинг 5.0 max число review 7\n"
     ]
    }
   ],
   "source": [
    "print('max рейтинг', answer2['avg_rating'].max(),'max число review',answer2['review_count'].max())"
   ]
  },
  {
   "cell_type": "markdown",
   "metadata": {},
   "source": [
    "Данные этого запроса можно использовать для формирования ценностного предложения сервиса. Минимальный показатель книг - отстутствие рейтинга и 0 обзоров, мах число обзоров 7, мах рейтиг 5. Книги без отзывыв вряд ли будут пользоваться большой популярностью, лучше включать в состав предложения книги с рейтингом более 3 и числом обзоров более 2х.\n"
   ]
  },
  {
   "cell_type": "markdown",
   "metadata": {},
   "source": [
    "<a id='section23'></a> \n",
    "### Определите издательство, которое выпустило наибольшее число книг толще 50 страниц"
   ]
  },
  {
   "cell_type": "code",
   "execution_count": 41,
   "metadata": {},
   "outputs": [
    {
     "data": {
      "text/html": [
       "<div>\n",
       "<style scoped>\n",
       "    .dataframe tbody tr th:only-of-type {\n",
       "        vertical-align: middle;\n",
       "    }\n",
       "\n",
       "    .dataframe tbody tr th {\n",
       "        vertical-align: top;\n",
       "    }\n",
       "\n",
       "    .dataframe thead th {\n",
       "        text-align: right;\n",
       "    }\n",
       "</style>\n",
       "<table border=\"1\" class=\"dataframe\">\n",
       "  <thead>\n",
       "    <tr style=\"text-align: right;\">\n",
       "      <th></th>\n",
       "      <th>publisher</th>\n",
       "      <th>books_cnt</th>\n",
       "    </tr>\n",
       "  </thead>\n",
       "  <tbody>\n",
       "    <tr>\n",
       "      <th>0</th>\n",
       "      <td>Penguin Books</td>\n",
       "      <td>42</td>\n",
       "    </tr>\n",
       "  </tbody>\n",
       "</table>\n",
       "</div>"
      ],
      "text/plain": [
       "       publisher  books_cnt\n",
       "0  Penguin Books         42"
      ]
     },
     "metadata": {},
     "output_type": "display_data"
    },
    {
     "name": "stdout",
     "output_type": "stream",
     "text": [
      "Больше всего книг выпустило издательство Penguin Books оно выпустило 42 книги\n"
     ]
    }
   ],
   "source": [
    "query_3 = '''\n",
    "            SELECT p.publisher,\n",
    "            COUNT(b.book_id) AS books_cnt\n",
    "            FROM books AS b FULL JOIN publishers AS p ON b.publisher_id = p.publisher_id\n",
    "            WHERE num_pages > 50\n",
    "            GROUP BY p.publisher\n",
    "            ORDER BY books_cnt DESC\n",
    "            LIMIT 1;            \n",
    "         '''\n",
    "\n",
    "answer3 = pd.io.sql.read_sql(query_3, con = engine)\n",
    "display(answer3.head(10))\n",
    "print('Больше всего книг выпустило издательство',answer3['publisher'][0],'оно выпустило',answer3['books_cnt'][0],'книги')"
   ]
  },
  {
   "cell_type": "markdown",
   "metadata": {},
   "source": [
    "<a id='section24'></a> \n",
    "### Определите автора с самой высокой средней оценкой книг - учитывайте только книги с 50 и более оценками"
   ]
  },
  {
   "cell_type": "code",
   "execution_count": 42,
   "metadata": {},
   "outputs": [
    {
     "data": {
      "text/html": [
       "<div>\n",
       "<style scoped>\n",
       "    .dataframe tbody tr th:only-of-type {\n",
       "        vertical-align: middle;\n",
       "    }\n",
       "\n",
       "    .dataframe tbody tr th {\n",
       "        vertical-align: top;\n",
       "    }\n",
       "\n",
       "    .dataframe thead th {\n",
       "        text-align: right;\n",
       "    }\n",
       "</style>\n",
       "<table border=\"1\" class=\"dataframe\">\n",
       "  <thead>\n",
       "    <tr style=\"text-align: right;\">\n",
       "      <th></th>\n",
       "      <th>author</th>\n",
       "      <th>rating_avg</th>\n",
       "    </tr>\n",
       "  </thead>\n",
       "  <tbody>\n",
       "    <tr>\n",
       "      <th>0</th>\n",
       "      <td>J.K. Rowling/Mary GrandPré</td>\n",
       "      <td>4.29</td>\n",
       "    </tr>\n",
       "  </tbody>\n",
       "</table>\n",
       "</div>"
      ],
      "text/plain": [
       "                       author  rating_avg\n",
       "0  J.K. Rowling/Mary GrandPré        4.29"
      ]
     },
     "metadata": {},
     "output_type": "display_data"
    },
    {
     "name": "stdout",
     "output_type": "stream",
     "text": [
      "Автор с самой высокой средней оценкой книг J.K. Rowling/Mary GrandPré средний рейтинг его книг 4.29\n"
     ]
    }
   ],
   "source": [
    "query_4 = '''\n",
    "            SELECT a.author,\n",
    "            ROUND(AVG(r.rating),2) AS rating_avg\n",
    "            FROM books AS b LEFT JOIN ratings AS r ON b.book_id = r.book_id\n",
    "            LEFT JOIN authors As a ON b.author_id = a.author_id\n",
    "            WHERE b.book_id IN (\n",
    "                                SELECT book_id\n",
    "                                FROM ratings\n",
    "                                GROUP BY book_id\n",
    "                                HAVING COUNT(rating_id) >= 50\n",
    "                                )\n",
    "            GROUP BY a.author\n",
    "            ORDER BY rating_avg DESC\n",
    "            LIMIT 1;\n",
    "         '''\n",
    "\n",
    "answer4 = pd.io.sql.read_sql(query_4, con = engine)\n",
    "display(answer4)\n",
    "print('Автор с самой высокой средней оценкой книг',answer4['author'][0],'средний рейтинг его книг',answer4['rating_avg'][0])"
   ]
  },
  {
   "cell_type": "markdown",
   "metadata": {},
   "source": [
    "<a id='section25'></a> \n",
    "### Посчитайте среднее количество обзоров от пользователей, которые поставили больше 50 оценок"
   ]
  },
  {
   "cell_type": "code",
   "execution_count": 43,
   "metadata": {},
   "outputs": [
    {
     "data": {
      "text/html": [
       "<div>\n",
       "<style scoped>\n",
       "    .dataframe tbody tr th:only-of-type {\n",
       "        vertical-align: middle;\n",
       "    }\n",
       "\n",
       "    .dataframe tbody tr th {\n",
       "        vertical-align: top;\n",
       "    }\n",
       "\n",
       "    .dataframe thead th {\n",
       "        text-align: right;\n",
       "    }\n",
       "</style>\n",
       "<table border=\"1\" class=\"dataframe\">\n",
       "  <thead>\n",
       "    <tr style=\"text-align: right;\">\n",
       "      <th></th>\n",
       "      <th>avg</th>\n",
       "    </tr>\n",
       "  </thead>\n",
       "  <tbody>\n",
       "    <tr>\n",
       "      <th>0</th>\n",
       "      <td>24.33</td>\n",
       "    </tr>\n",
       "  </tbody>\n",
       "</table>\n",
       "</div>"
      ],
      "text/plain": [
       "     avg\n",
       "0  24.33"
      ]
     },
     "metadata": {},
     "output_type": "display_data"
    },
    {
     "name": "stdout",
     "output_type": "stream",
     "text": [
      "Cреднее количество обзоров от пользователей, которые поставили больше 50 оценок= 24.33\n"
     ]
    }
   ],
   "source": [
    "query_5 = '''\n",
    "            SELECT ROUND(AVG(rev_count),2) AS avg\n",
    "            FROM (\n",
    "            SELECT username,\n",
    "            COUNT(DISTINCT review_id) AS rev_count\n",
    "            FROM reviews\n",
    "            WHERE username IN (SELECT username\n",
    "                                FROM ratings\n",
    "                                GROUP BY username\n",
    "                                HAVING COUNT(DISTINCT rating_id) > 50)\n",
    "            GROUP BY username) AS rw;\n",
    "         '''\n",
    "\n",
    "answer5 = pd.io.sql.read_sql(query_5, con = engine)\n",
    "display(answer5)\n",
    "print('Cреднее количество обзоров от пользователей, которые поставили больше 50 оценок=',answer5['avg'][0])"
   ]
  },
  {
   "cell_type": "markdown",
   "metadata": {},
   "source": [
    "Данная цифра говорит о высокой увлеченности пользовталей и оценкам/обзорам пользоватлей, поставивших более 50 оценок вполне можно доверять и описаться на их мнение при выборе книг для сервиса."
   ]
  },
  {
   "cell_type": "markdown",
   "metadata": {},
   "source": [
    "<a id='section3'></a> \n",
    "## Рекомендации"
   ]
  },
  {
   "cell_type": "markdown",
   "metadata": {},
   "source": [
    "1.Из представленых в базе 1000 книг, 819 вышли после 2000 года. База довольно актуальная. <br>\n",
    "2.Было расчитано количество обзоров и средняя оценка, результат сохранен в датасает answer2. Эту информацию можно использовать для отбора потенциально успешных у читателей книг. Мах число обзоров 7, мах рейтиг 5. Книги без отзывыв вряд ли будут пользоваться большой популярностью, лучше включать в состав предложения книги с рейтингом более 3 и числом обзоров более 2х.<br>\n",
    "3.Лидером среди издательств является Penguin Books оно выпустило 42 книги. Учитывая большую активность издательства, с ним можно посотрудничать в дальнейшем для расширения ассортиметнта книг по мере выхода новых изданий.<br>\n",
    "4.Автор с самой высокой средней оценкой книг J.K. Rowling/Mary GrandPré средний рейтинг его книг 4.29. Книги этого автора обязательно следует включить в состав предложения сервиса.<br>\n",
    "5.Cреднее количество обзоров от пользователей, которые поставили больше 50 оценок= 24.33. Цифра говорит о высокой увлеченности и активности этих пользователей. Их оценкам волне можно доверять. Можно предложить таким пользоватлям какие нибудь преимущества в пользовании сервисом, для увеличения объективных обзоров и оценок, что в целом повлечет улучшение ценностного предложения сервиса.<br><br>\n",
    "\n",
    "Был проведен поверхностный анализ, для более подробного пониманя состава книг неплохо бы еще провести исследование планируемой аудитории сервиса, возможно некоторые пользователи старшего возраста будут искать книги изданные до 2000 года, а их в представленной базе менее 20%."
   ]
  }
 ],
 "metadata": {
  "ExecuteTimeLog": [
   {
    "duration": 69,
    "start_time": "2023-03-11T03:57:55.466Z"
   },
   {
    "duration": 8594,
    "start_time": "2023-03-11T04:28:00.645Z"
   },
   {
    "duration": 359,
    "start_time": "2023-03-11T04:28:09.691Z"
   },
   {
    "duration": 87,
    "start_time": "2023-03-11T04:28:23.854Z"
   },
   {
    "duration": 81,
    "start_time": "2023-03-11T04:28:34.313Z"
   },
   {
    "duration": 140,
    "start_time": "2023-03-11T04:28:44.794Z"
   },
   {
    "duration": 138,
    "start_time": "2023-03-11T04:28:56.717Z"
   },
   {
    "duration": 119,
    "start_time": "2023-03-11T04:29:12.157Z"
   },
   {
    "duration": 161,
    "start_time": "2023-03-11T04:29:21.532Z"
   },
   {
    "duration": 75,
    "start_time": "2023-03-11T04:29:29.297Z"
   },
   {
    "duration": 86,
    "start_time": "2023-03-11T04:29:37.288Z"
   },
   {
    "duration": 72,
    "start_time": "2023-03-11T04:34:28.946Z"
   },
   {
    "duration": 74,
    "start_time": "2023-03-11T04:34:58.697Z"
   },
   {
    "duration": 72,
    "start_time": "2023-03-11T04:35:08.404Z"
   },
   {
    "duration": 104,
    "start_time": "2023-03-11T04:36:47.192Z"
   },
   {
    "duration": 102,
    "start_time": "2023-03-11T04:37:08.284Z"
   },
   {
    "duration": 107,
    "start_time": "2023-03-11T04:37:15.644Z"
   },
   {
    "duration": 82,
    "start_time": "2023-03-11T04:38:17.783Z"
   },
   {
    "duration": 93,
    "start_time": "2023-03-11T04:38:48.235Z"
   },
   {
    "duration": 86,
    "start_time": "2023-03-11T04:39:09.411Z"
   },
   {
    "duration": 106,
    "start_time": "2023-03-11T04:39:34.349Z"
   },
   {
    "duration": 112,
    "start_time": "2023-03-11T04:40:01.928Z"
   },
   {
    "duration": 72,
    "start_time": "2023-03-11T04:40:37.606Z"
   },
   {
    "duration": 89,
    "start_time": "2023-03-11T04:41:16.476Z"
   },
   {
    "duration": 74,
    "start_time": "2023-03-11T04:41:46.645Z"
   },
   {
    "duration": 99,
    "start_time": "2023-03-11T04:42:01.560Z"
   },
   {
    "duration": 52,
    "start_time": "2023-03-11T06:11:10.078Z"
   },
   {
    "duration": 5543,
    "start_time": "2023-03-11T06:11:34.114Z"
   },
   {
    "duration": 34,
    "start_time": "2023-03-11T06:11:39.659Z"
   },
   {
    "duration": 7,
    "start_time": "2023-03-11T06:11:53.596Z"
   },
   {
    "duration": 9,
    "start_time": "2023-03-11T06:12:09.732Z"
   },
   {
    "duration": 181,
    "start_time": "2023-03-11T06:12:30.204Z"
   },
   {
    "duration": 135,
    "start_time": "2023-03-11T06:12:57.274Z"
   },
   {
    "duration": 194,
    "start_time": "2023-03-11T06:13:05.432Z"
   },
   {
    "duration": 110,
    "start_time": "2023-03-11T06:13:51.837Z"
   },
   {
    "duration": 141,
    "start_time": "2023-03-11T06:14:57.718Z"
   },
   {
    "duration": 83,
    "start_time": "2023-03-11T06:15:32.454Z"
   },
   {
    "duration": 125,
    "start_time": "2023-03-11T06:19:49.929Z"
   },
   {
    "duration": 5,
    "start_time": "2023-03-11T06:23:35.118Z"
   },
   {
    "duration": 229,
    "start_time": "2023-03-11T06:23:36.718Z"
   },
   {
    "duration": 9,
    "start_time": "2023-03-11T06:25:12.603Z"
   },
   {
    "duration": 9,
    "start_time": "2023-03-11T06:25:19.495Z"
   },
   {
    "duration": 25,
    "start_time": "2023-03-11T06:25:30.617Z"
   },
   {
    "duration": 10,
    "start_time": "2023-03-11T06:26:31.776Z"
   },
   {
    "duration": 10,
    "start_time": "2023-03-11T06:26:38.604Z"
   },
   {
    "duration": 882,
    "start_time": "2023-03-11T06:28:59.598Z"
   },
   {
    "duration": 14,
    "start_time": "2023-03-11T06:29:41.223Z"
   },
   {
    "duration": 15,
    "start_time": "2023-03-11T06:29:48.684Z"
   },
   {
    "duration": 24,
    "start_time": "2023-03-11T06:29:56.868Z"
   },
   {
    "duration": 950,
    "start_time": "2023-03-11T06:31:02.368Z"
   },
   {
    "duration": 17,
    "start_time": "2023-03-11T06:31:15.670Z"
   },
   {
    "duration": 17,
    "start_time": "2023-03-11T06:31:42.186Z"
   },
   {
    "duration": 26,
    "start_time": "2023-03-11T06:32:38.566Z"
   },
   {
    "duration": 46,
    "start_time": "2023-03-11T06:32:44.239Z"
   },
   {
    "duration": 1023,
    "start_time": "2023-03-11T06:33:41.174Z"
   },
   {
    "duration": 922,
    "start_time": "2023-03-11T06:33:50.702Z"
   },
   {
    "duration": 17,
    "start_time": "2023-03-11T06:33:57.677Z"
   },
   {
    "duration": 9,
    "start_time": "2023-03-11T06:34:33.718Z"
   },
   {
    "duration": 55,
    "start_time": "2023-03-12T08:45:49.353Z"
   },
   {
    "duration": 8466,
    "start_time": "2023-03-12T08:45:52.743Z"
   },
   {
    "duration": 722,
    "start_time": "2023-03-12T08:46:01.212Z"
   },
   {
    "duration": 76,
    "start_time": "2023-03-12T08:46:01.936Z"
   },
   {
    "duration": 39,
    "start_time": "2023-03-12T08:46:02.014Z"
   },
   {
    "duration": 116,
    "start_time": "2023-03-12T08:46:08.523Z"
   },
   {
    "duration": 5,
    "start_time": "2023-03-12T08:46:11.062Z"
   },
   {
    "duration": 4,
    "start_time": "2023-03-12T08:46:16.239Z"
   },
   {
    "duration": 5,
    "start_time": "2023-03-12T08:46:45.056Z"
   },
   {
    "duration": 75,
    "start_time": "2023-03-12T09:27:54.201Z"
   },
   {
    "duration": 160,
    "start_time": "2023-03-12T09:29:42.967Z"
   },
   {
    "duration": 117,
    "start_time": "2023-03-12T09:29:55.585Z"
   },
   {
    "duration": 115,
    "start_time": "2023-03-12T09:30:53.788Z"
   },
   {
    "duration": 163,
    "start_time": "2023-03-12T09:31:07.937Z"
   },
   {
    "duration": 113,
    "start_time": "2023-03-12T09:31:13.420Z"
   },
   {
    "duration": 119,
    "start_time": "2023-03-12T09:32:12.998Z"
   },
   {
    "duration": 119,
    "start_time": "2023-03-12T09:36:06.602Z"
   },
   {
    "duration": 156,
    "start_time": "2023-03-12T09:36:42.664Z"
   },
   {
    "duration": 179,
    "start_time": "2023-03-12T09:36:55.327Z"
   },
   {
    "duration": 216,
    "start_time": "2023-03-12T09:37:11.048Z"
   },
   {
    "duration": 117,
    "start_time": "2023-03-12T09:37:29.932Z"
   },
   {
    "duration": 116,
    "start_time": "2023-03-12T09:37:35.212Z"
   },
   {
    "duration": 119,
    "start_time": "2023-03-12T09:37:47.832Z"
   },
   {
    "duration": 119,
    "start_time": "2023-03-12T09:38:07.116Z"
   },
   {
    "duration": 73,
    "start_time": "2023-03-12T10:04:29.090Z"
   },
   {
    "duration": 125,
    "start_time": "2023-03-12T10:21:50.877Z"
   },
   {
    "duration": 1130,
    "start_time": "2023-03-12T10:21:51.955Z"
   },
   {
    "duration": 5,
    "start_time": "2023-03-12T10:22:08.722Z"
   },
   {
    "duration": 120,
    "start_time": "2023-03-12T10:23:03.989Z"
   },
   {
    "duration": 171,
    "start_time": "2023-03-12T10:26:35.695Z"
   },
   {
    "duration": 1167,
    "start_time": "2023-03-12T10:26:42.860Z"
   },
   {
    "duration": 81,
    "start_time": "2023-03-12T10:26:54.696Z"
   },
   {
    "duration": 84,
    "start_time": "2023-03-12T10:32:41.307Z"
   },
   {
    "duration": 88,
    "start_time": "2023-03-12T10:32:50.198Z"
   },
   {
    "duration": 82,
    "start_time": "2023-03-12T10:46:21.121Z"
   },
   {
    "duration": 5,
    "start_time": "2023-03-12T10:48:25.712Z"
   },
   {
    "duration": 763,
    "start_time": "2023-03-12T10:48:27.817Z"
   },
   {
    "duration": 74,
    "start_time": "2023-03-12T10:48:32.847Z"
   },
   {
    "duration": 119,
    "start_time": "2023-03-12T10:48:35.863Z"
   },
   {
    "duration": 5,
    "start_time": "2023-03-12T10:48:38.938Z"
   },
   {
    "duration": 78,
    "start_time": "2023-03-12T10:48:40.704Z"
   },
   {
    "duration": 81,
    "start_time": "2023-03-12T10:48:43.369Z"
   },
   {
    "duration": 102,
    "start_time": "2023-03-12T10:48:46.525Z"
   }
  ],
  "kernelspec": {
   "display_name": "Python 3 (ipykernel)",
   "language": "python",
   "name": "python3"
  },
  "language_info": {
   "codemirror_mode": {
    "name": "ipython",
    "version": 3
   },
   "file_extension": ".py",
   "mimetype": "text/x-python",
   "name": "python",
   "nbconvert_exporter": "python",
   "pygments_lexer": "ipython3",
   "version": "3.9.13"
  },
  "toc": {
   "base_numbering": 1,
   "nav_menu": {},
   "number_sections": true,
   "sideBar": true,
   "skip_h1_title": true,
   "title_cell": "Table of Contents",
   "title_sidebar": "Contents",
   "toc_cell": false,
   "toc_position": {},
   "toc_section_display": true,
   "toc_window_display": false
  }
 },
 "nbformat": 4,
 "nbformat_minor": 2
}
