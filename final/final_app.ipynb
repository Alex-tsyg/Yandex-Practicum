{
 "cells": [
  {
   "cell_type": "markdown",
   "metadata": {},
   "source": [
    "<b><div style=\"text-align: center;\">Финальный проект: Мобильные приложения — Выделение групп пользователей на основе поведения</div></b>"
   ]
  },
  {
   "cell_type": "markdown",
   "metadata": {},
   "source": [
    "<b><div style=\"text-align: center;\">Описание проекта</div></b><br>\n",
    "Как начинаещему аналитику приложения «Ненужные вещи» мне предстоит проанализировать действия пользователей в приложении, чтобы помочь ему стать лучшим приложением для продажи ненужных вещей.<br>\n",
    "    <b><div style=\"text-align: center;\">Задачи</div></b><br>\n",
    "- **Выделить группы пользователей, которые различаются по метрикам:**\n",
    "1. retention rate,\n",
    "2. время, проведённое в приложении, \n",
    "3. частота действий, \n",
    "4. конверсия в целевое действие — просмотр контактов.\n",
    "- **Провести исследовательский анализ данных**\n",
    "- **Сегментировать пользователей на основе действий**\n",
    "- **Проверить статистические гипотезы**\n",
    "1. *Некоторые пользователи установили приложение по ссылке из `yandex`, другие — из `google`. Проверьте гипотезу: две эти группы демонстрируют разную конверсию в просмотры контактов.*\n",
    "2. *Некоторые пользователи просматривают фотографии, другие не просматривают. Проверить гипотезу: две эти группы демонстрируют разную конверсию в просмотры контактов.*\n",
    "\n",
    "По итогам исследования подготовить презентацию. Для создания презентации использовать любой удобный инструмент, и отправить презентацию нужно обязательно в формате pdf, прикрепив ссылку на файл в основном проекте."
   ]
  },
  {
   "cell_type": "markdown",
   "metadata": {},
   "source": [
    "<b><div style=\"text-align: center;\">Описание данных:</div></b>\n",
    "\n",
    "Датасет содержит данные о событиях, совершенных в мобильном приложении \"Ненужные вещи\". В нем пользователи продают свои ненужные вещи, размещая их на доске объявлений.\n",
    "\n",
    "В датасете содержатся данные пользователей, впервые совершивших действия в приложении после 7 октября 2019 года.\n",
    "\n",
    "Датасет **mobile_dataset.csv** содержит колонки:<br>\n",
    "`event.time` — время совершения<br>\n",
    "`event.name` — название события<br>\n",
    "`user.id` — идентификатор пользователя<br>\n",
    "\n",
    "Датасет **mobile_sources.csv** содержит колонки:<br>\n",
    "`userId` — идентификатор пользователя<br>\n",
    "`source` — источник, с которого пользователь установил приложение<br>\n",
    "\n",
    "Расшифровки событий:<br>\n",
    "`advert_open` — открытие карточки объявления<br>\n",
    "`photos_show` — просмотр фотографий в объявлении<br>\n",
    "`tips_show` — пользователь увидел рекомендованные объявления<br>\n",
    "`tips_click` — пользователь кликнул по рекомендованному объявлению<br>\n",
    "`contacts_show` и `show_contacts` — пользователь нажал на кнопку \"посмотреть номер телефона\" на карточке объявления<br>\n",
    "`contacts_call` — пользователь позвонил по номеру телефона на карточке объявления<br>\n",
    "`map` — пользователь открыл карту размещенных объявлений<br>\n",
    "`search_1` — `search_7` — разные события, связанные с поиском по сайту<br>\n",
    "`favorites_add` — добавление объявления в избранное<br>"
   ]
  },
  {
   "cell_type": "markdown",
   "metadata": {},
   "source": [
    "<div style=\"text-align: center;\"><b>Декомпозиция</b></div><br>\n",
    "\n",
    "1. Загрузка библиотек и чтение файлов данных<br>\n",
    "2. Предобработка данных\n",
    "  - Исследовать общую информацию о данных;\n",
    "  - Исследовать пропущенные значения и при необходимости провести работу с пропусками в данных;\n",
    "  - Проверить корректность наименований колонок и переименовать колонки в случае необходимости;\n",
    "  - Исследовать соответствие типов и привести типы при их несоответстиви;\n",
    "  - Исследовать дубликаты и удалить дубликаты при наличии\n",
    "<br> \n",
    "3. Исследовательский анализ данных<br>\n",
    "  - retention rate,\n",
    "  - время, проведённое в приложении, \n",
    "  - частота действий, \n",
    "  - конверсия в целевое действие — просмотр контактов.\n",
    "4. Сегментировать пользователей на основе действий<br>\n",
    "  - обосновать выбор сегментов\n",
    "  - поверить retetion rate и конверсию для каждой группы\n",
    "5. Выводы и ответы на основные вопросы исследования<br>\n",
    "6. Проверить статистические гипотезы<br>\n",
    " - Некоторые пользователи установили приложение по ссылке из `yandex`, другие — из `google`. Проверить гипотезу: две эти группы демонстрируют разную конверсию в просмотры контактов.\n",
    " - Некоторые пользователи просматривают фотографии, другие не просматривают. Проверить гипотезу: две эти группы демонстрируют разную конверсию в просмотры контактов. \n",
    " <br>\n",
    "6. Презентация<br>"
   ]
  },
  {
   "cell_type": "markdown",
   "metadata": {},
   "source": [
    "## Загрузка библиотек и чтение данных"
   ]
  },
  {
   "cell_type": "markdown",
   "metadata": {},
   "source": [
    "Загружаем библиотеки"
   ]
  },
  {
   "cell_type": "code",
   "execution_count": 1,
   "metadata": {},
   "outputs": [],
   "source": [
    "import pandas as pd\n",
    "import numpy as np\n",
    "import scipy.stats as st\n",
    "import seaborn as sns\n",
    "import matplotlib.pyplot as plt\n",
    "import datetime as dt\n",
    "import math as mth\n",
    "import warnings\n",
    "warnings.filterwarnings('ignore')"
   ]
  },
  {
   "cell_type": "markdown",
   "metadata": {},
   "source": [
    "Загружаем данные"
   ]
  },
  {
   "cell_type": "code",
   "execution_count": 2,
   "metadata": {},
   "outputs": [],
   "source": [
    "    users = pd.read_csv('/datasets/mobile_dataset.csv')\n",
    "    sources = pd.read_csv('/datasets/mobile_soures.csv')"
   ]
  },
  {
   "cell_type": "markdown",
   "metadata": {},
   "source": [
    "На этом шаге были загружены библиотеки, необходимые для работы и прочитаны файлы с данными для анализа. Далее выполним предобработку данных"
   ]
  },
  {
   "cell_type": "markdown",
   "metadata": {},
   "source": [
    "## Предобработка данных"
   ]
  },
  {
   "cell_type": "markdown",
   "metadata": {},
   "source": [
    "### Исследовать общую информацию о данных"
   ]
  },
  {
   "cell_type": "code",
   "execution_count": 3,
   "metadata": {},
   "outputs": [
    {
     "data": {
      "text/html": [
       "<div>\n",
       "<style scoped>\n",
       "    .dataframe tbody tr th:only-of-type {\n",
       "        vertical-align: middle;\n",
       "    }\n",
       "\n",
       "    .dataframe tbody tr th {\n",
       "        vertical-align: top;\n",
       "    }\n",
       "\n",
       "    .dataframe thead th {\n",
       "        text-align: right;\n",
       "    }\n",
       "</style>\n",
       "<table border=\"1\" class=\"dataframe\">\n",
       "  <thead>\n",
       "    <tr style=\"text-align: right;\">\n",
       "      <th></th>\n",
       "      <th>event.time</th>\n",
       "      <th>event.name</th>\n",
       "      <th>user.id</th>\n",
       "    </tr>\n",
       "  </thead>\n",
       "  <tbody>\n",
       "    <tr>\n",
       "      <th>0</th>\n",
       "      <td>2019-10-07 00:00:00.431357</td>\n",
       "      <td>advert_open</td>\n",
       "      <td>020292ab-89bc-4156-9acf-68bc2783f894</td>\n",
       "    </tr>\n",
       "    <tr>\n",
       "      <th>1</th>\n",
       "      <td>2019-10-07 00:00:01.236320</td>\n",
       "      <td>tips_show</td>\n",
       "      <td>020292ab-89bc-4156-9acf-68bc2783f894</td>\n",
       "    </tr>\n",
       "    <tr>\n",
       "      <th>2</th>\n",
       "      <td>2019-10-07 00:00:02.245341</td>\n",
       "      <td>tips_show</td>\n",
       "      <td>cf7eda61-9349-469f-ac27-e5b6f5ec475c</td>\n",
       "    </tr>\n",
       "    <tr>\n",
       "      <th>3</th>\n",
       "      <td>2019-10-07 00:00:07.039334</td>\n",
       "      <td>tips_show</td>\n",
       "      <td>020292ab-89bc-4156-9acf-68bc2783f894</td>\n",
       "    </tr>\n",
       "    <tr>\n",
       "      <th>4</th>\n",
       "      <td>2019-10-07 00:00:56.319813</td>\n",
       "      <td>advert_open</td>\n",
       "      <td>cf7eda61-9349-469f-ac27-e5b6f5ec475c</td>\n",
       "    </tr>\n",
       "  </tbody>\n",
       "</table>\n",
       "</div>"
      ],
      "text/plain": [
       "                   event.time   event.name  \\\n",
       "0  2019-10-07 00:00:00.431357  advert_open   \n",
       "1  2019-10-07 00:00:01.236320    tips_show   \n",
       "2  2019-10-07 00:00:02.245341    tips_show   \n",
       "3  2019-10-07 00:00:07.039334    tips_show   \n",
       "4  2019-10-07 00:00:56.319813  advert_open   \n",
       "\n",
       "                                user.id  \n",
       "0  020292ab-89bc-4156-9acf-68bc2783f894  \n",
       "1  020292ab-89bc-4156-9acf-68bc2783f894  \n",
       "2  cf7eda61-9349-469f-ac27-e5b6f5ec475c  \n",
       "3  020292ab-89bc-4156-9acf-68bc2783f894  \n",
       "4  cf7eda61-9349-469f-ac27-e5b6f5ec475c  "
      ]
     },
     "execution_count": 3,
     "metadata": {},
     "output_type": "execute_result"
    }
   ],
   "source": [
    "users.head(5)"
   ]
  },
  {
   "cell_type": "code",
   "execution_count": 4,
   "metadata": {},
   "outputs": [
    {
     "name": "stdout",
     "output_type": "stream",
     "text": [
      "<class 'pandas.core.frame.DataFrame'>\n",
      "RangeIndex: 74197 entries, 0 to 74196\n",
      "Data columns (total 3 columns):\n",
      " #   Column      Non-Null Count  Dtype \n",
      "---  ------      --------------  ----- \n",
      " 0   event.time  74197 non-null  object\n",
      " 1   event.name  74197 non-null  object\n",
      " 2   user.id     74197 non-null  object\n",
      "dtypes: object(3)\n",
      "memory usage: 1.7+ MB\n"
     ]
    }
   ],
   "source": [
    "users.info()"
   ]
  },
  {
   "cell_type": "code",
   "execution_count": 5,
   "metadata": {},
   "outputs": [
    {
     "data": {
      "text/html": [
       "<div>\n",
       "<style scoped>\n",
       "    .dataframe tbody tr th:only-of-type {\n",
       "        vertical-align: middle;\n",
       "    }\n",
       "\n",
       "    .dataframe tbody tr th {\n",
       "        vertical-align: top;\n",
       "    }\n",
       "\n",
       "    .dataframe thead th {\n",
       "        text-align: right;\n",
       "    }\n",
       "</style>\n",
       "<table border=\"1\" class=\"dataframe\">\n",
       "  <thead>\n",
       "    <tr style=\"text-align: right;\">\n",
       "      <th></th>\n",
       "      <th>userId</th>\n",
       "      <th>source</th>\n",
       "    </tr>\n",
       "  </thead>\n",
       "  <tbody>\n",
       "    <tr>\n",
       "      <th>0</th>\n",
       "      <td>020292ab-89bc-4156-9acf-68bc2783f894</td>\n",
       "      <td>other</td>\n",
       "    </tr>\n",
       "    <tr>\n",
       "      <th>1</th>\n",
       "      <td>cf7eda61-9349-469f-ac27-e5b6f5ec475c</td>\n",
       "      <td>yandex</td>\n",
       "    </tr>\n",
       "    <tr>\n",
       "      <th>2</th>\n",
       "      <td>8c356c42-3ba9-4cb6-80b8-3f868d0192c3</td>\n",
       "      <td>yandex</td>\n",
       "    </tr>\n",
       "    <tr>\n",
       "      <th>3</th>\n",
       "      <td>d9b06b47-0f36-419b-bbb0-3533e582a6cb</td>\n",
       "      <td>other</td>\n",
       "    </tr>\n",
       "    <tr>\n",
       "      <th>4</th>\n",
       "      <td>f32e1e2a-3027-4693-b793-b7b3ff274439</td>\n",
       "      <td>google</td>\n",
       "    </tr>\n",
       "  </tbody>\n",
       "</table>\n",
       "</div>"
      ],
      "text/plain": [
       "                                 userId  source\n",
       "0  020292ab-89bc-4156-9acf-68bc2783f894   other\n",
       "1  cf7eda61-9349-469f-ac27-e5b6f5ec475c  yandex\n",
       "2  8c356c42-3ba9-4cb6-80b8-3f868d0192c3  yandex\n",
       "3  d9b06b47-0f36-419b-bbb0-3533e582a6cb   other\n",
       "4  f32e1e2a-3027-4693-b793-b7b3ff274439  google"
      ]
     },
     "execution_count": 5,
     "metadata": {},
     "output_type": "execute_result"
    }
   ],
   "source": [
    "sources.head(5)"
   ]
  },
  {
   "cell_type": "code",
   "execution_count": 6,
   "metadata": {
    "scrolled": true
   },
   "outputs": [
    {
     "name": "stdout",
     "output_type": "stream",
     "text": [
      "<class 'pandas.core.frame.DataFrame'>\n",
      "RangeIndex: 4293 entries, 0 to 4292\n",
      "Data columns (total 2 columns):\n",
      " #   Column  Non-Null Count  Dtype \n",
      "---  ------  --------------  ----- \n",
      " 0   userId  4293 non-null   object\n",
      " 1   source  4293 non-null   object\n",
      "dtypes: object(2)\n",
      "memory usage: 67.2+ KB\n"
     ]
    }
   ],
   "source": [
    "sources.info()"
   ]
  },
  {
   "cell_type": "markdown",
   "metadata": {},
   "source": [
    "### Исследовать пропущенные значения и провести работу с пропусками при необходимости"
   ]
  },
  {
   "cell_type": "markdown",
   "metadata": {},
   "source": [
    "В датасете users cодержится 74197 не пустых записей. В датасете sources содержится 4293 записи, пропусков нет."
   ]
  },
  {
   "cell_type": "markdown",
   "metadata": {},
   "source": [
    "### Проверить корректность наименований колонок и переименовать колонки в случае необходимости"
   ]
  },
  {
   "cell_type": "code",
   "execution_count": 7,
   "metadata": {},
   "outputs": [],
   "source": [
    "users.columns =['event_time', 'event_name', 'user_id']\n",
    "sources.columns =['user_id', 'source']"
   ]
  },
  {
   "cell_type": "markdown",
   "metadata": {},
   "source": [
    "### Исследовать соответствие типов"
   ]
  },
  {
   "cell_type": "markdown",
   "metadata": {},
   "source": [
    "В датасете users колонка event_time имеет неверный тип данных, приведем ее к типу datetime. Тавже выделим дату в отдельный столбец."
   ]
  },
  {
   "cell_type": "code",
   "execution_count": 8,
   "metadata": {},
   "outputs": [],
   "source": [
    "users['event_time'] = pd.to_datetime(users['event_time'], format='%Y-%m-%d %H:%M:%S')"
   ]
  },
  {
   "cell_type": "markdown",
   "metadata": {},
   "source": [
    "Добавим отдельный столбец для даты"
   ]
  },
  {
   "cell_type": "code",
   "execution_count": 9,
   "metadata": {},
   "outputs": [
    {
     "name": "stdout",
     "output_type": "stream",
     "text": [
      "<class 'pandas.core.frame.DataFrame'>\n",
      "RangeIndex: 74197 entries, 0 to 74196\n",
      "Data columns (total 4 columns):\n",
      " #   Column      Non-Null Count  Dtype         \n",
      "---  ------      --------------  -----         \n",
      " 0   event_time  74197 non-null  datetime64[ns]\n",
      " 1   event_name  74197 non-null  object        \n",
      " 2   user_id     74197 non-null  object        \n",
      " 3   event_date  74197 non-null  datetime64[ns]\n",
      "dtypes: datetime64[ns](2), object(2)\n",
      "memory usage: 2.3+ MB\n"
     ]
    }
   ],
   "source": [
    "users['event_date'] = users['event_time'].astype('datetime64[D]')\n",
    "users.info()"
   ]
  },
  {
   "cell_type": "markdown",
   "metadata": {},
   "source": [
    "### Исследовать дубликаты и удалить дубликаты при наличии"
   ]
  },
  {
   "cell_type": "code",
   "execution_count": 10,
   "metadata": {},
   "outputs": [
    {
     "data": {
      "text/plain": [
       "0"
      ]
     },
     "execution_count": 10,
     "metadata": {},
     "output_type": "execute_result"
    }
   ],
   "source": [
    "users.duplicated().sum()"
   ]
  },
  {
   "cell_type": "code",
   "execution_count": 11,
   "metadata": {},
   "outputs": [
    {
     "data": {
      "text/plain": [
       "0"
      ]
     },
     "execution_count": 11,
     "metadata": {},
     "output_type": "execute_result"
    }
   ],
   "source": [
    "sources.duplicated().sum()  "
   ]
  },
  {
   "cell_type": "code",
   "execution_count": 12,
   "metadata": {},
   "outputs": [
    {
     "name": "stdout",
     "output_type": "stream",
     "text": [
      "Число пользователдей в users: 4293\n",
      "число пользователдей в sources: 4293\n"
     ]
    }
   ],
   "source": [
    "print('Число пользователдей в users:',users['user_id'].nunique())\n",
    "print('число пользователдей в sources:', sources['user_id'].nunique())"
   ]
  },
  {
   "cell_type": "markdown",
   "metadata": {},
   "source": [
    "Дубликатов в файлов не обнаружено, число пользоватлей в обоих файлах совпадает. Для удобстава дальнешего анализа, соединим 2 файла в один датафрейм"
   ]
  },
  {
   "cell_type": "code",
   "execution_count": 13,
   "metadata": {},
   "outputs": [],
   "source": [
    "df=users.merge(sources, on='user_id', how='left')"
   ]
  },
  {
   "cell_type": "code",
   "execution_count": 14,
   "metadata": {},
   "outputs": [
    {
     "data": {
      "text/html": [
       "<div>\n",
       "<style scoped>\n",
       "    .dataframe tbody tr th:only-of-type {\n",
       "        vertical-align: middle;\n",
       "    }\n",
       "\n",
       "    .dataframe tbody tr th {\n",
       "        vertical-align: top;\n",
       "    }\n",
       "\n",
       "    .dataframe thead th {\n",
       "        text-align: right;\n",
       "    }\n",
       "</style>\n",
       "<table border=\"1\" class=\"dataframe\">\n",
       "  <thead>\n",
       "    <tr style=\"text-align: right;\">\n",
       "      <th></th>\n",
       "      <th>event_time</th>\n",
       "      <th>event_name</th>\n",
       "      <th>user_id</th>\n",
       "      <th>event_date</th>\n",
       "      <th>source</th>\n",
       "    </tr>\n",
       "  </thead>\n",
       "  <tbody>\n",
       "    <tr>\n",
       "      <th>0</th>\n",
       "      <td>2019-10-07 00:00:00.431357</td>\n",
       "      <td>advert_open</td>\n",
       "      <td>020292ab-89bc-4156-9acf-68bc2783f894</td>\n",
       "      <td>2019-10-07</td>\n",
       "      <td>other</td>\n",
       "    </tr>\n",
       "    <tr>\n",
       "      <th>1</th>\n",
       "      <td>2019-10-07 00:00:01.236320</td>\n",
       "      <td>tips_show</td>\n",
       "      <td>020292ab-89bc-4156-9acf-68bc2783f894</td>\n",
       "      <td>2019-10-07</td>\n",
       "      <td>other</td>\n",
       "    </tr>\n",
       "    <tr>\n",
       "      <th>2</th>\n",
       "      <td>2019-10-07 00:00:02.245341</td>\n",
       "      <td>tips_show</td>\n",
       "      <td>cf7eda61-9349-469f-ac27-e5b6f5ec475c</td>\n",
       "      <td>2019-10-07</td>\n",
       "      <td>yandex</td>\n",
       "    </tr>\n",
       "    <tr>\n",
       "      <th>3</th>\n",
       "      <td>2019-10-07 00:00:07.039334</td>\n",
       "      <td>tips_show</td>\n",
       "      <td>020292ab-89bc-4156-9acf-68bc2783f894</td>\n",
       "      <td>2019-10-07</td>\n",
       "      <td>other</td>\n",
       "    </tr>\n",
       "    <tr>\n",
       "      <th>4</th>\n",
       "      <td>2019-10-07 00:00:56.319813</td>\n",
       "      <td>advert_open</td>\n",
       "      <td>cf7eda61-9349-469f-ac27-e5b6f5ec475c</td>\n",
       "      <td>2019-10-07</td>\n",
       "      <td>yandex</td>\n",
       "    </tr>\n",
       "  </tbody>\n",
       "</table>\n",
       "</div>"
      ],
      "text/plain": [
       "                  event_time   event_name  \\\n",
       "0 2019-10-07 00:00:00.431357  advert_open   \n",
       "1 2019-10-07 00:00:01.236320    tips_show   \n",
       "2 2019-10-07 00:00:02.245341    tips_show   \n",
       "3 2019-10-07 00:00:07.039334    tips_show   \n",
       "4 2019-10-07 00:00:56.319813  advert_open   \n",
       "\n",
       "                                user_id event_date  source  \n",
       "0  020292ab-89bc-4156-9acf-68bc2783f894 2019-10-07   other  \n",
       "1  020292ab-89bc-4156-9acf-68bc2783f894 2019-10-07   other  \n",
       "2  cf7eda61-9349-469f-ac27-e5b6f5ec475c 2019-10-07  yandex  \n",
       "3  020292ab-89bc-4156-9acf-68bc2783f894 2019-10-07   other  \n",
       "4  cf7eda61-9349-469f-ac27-e5b6f5ec475c 2019-10-07  yandex  "
      ]
     },
     "execution_count": 14,
     "metadata": {},
     "output_type": "execute_result"
    }
   ],
   "source": [
    "df.head(5)"
   ]
  },
  {
   "cell_type": "code",
   "execution_count": 15,
   "metadata": {},
   "outputs": [
    {
     "name": "stdout",
     "output_type": "stream",
     "text": [
      "min вермя события 2019-10-07 00:00:00.431357\n",
      "max вермя события 2019-11-03 23:58:12.532487\n"
     ]
    }
   ],
   "source": [
    "print('min вермя события', min(df['event_time']))\n",
    "print('max вермя события', max(df['event_time']))"
   ]
  },
  {
   "cell_type": "markdown",
   "metadata": {},
   "source": [
    "В датасете данные за период с 2019-10-07 00:00:00 по 2019-11-03 23:58:12"
   ]
  },
  {
   "cell_type": "code",
   "execution_count": 16,
   "metadata": {},
   "outputs": [
    {
     "data": {
      "text/plain": [
       "array(['advert_open', 'tips_show', 'map', 'contacts_show', 'search_4',\n",
       "       'search_5', 'tips_click', 'photos_show', 'search_1', 'search_2',\n",
       "       'search_3', 'favorites_add', 'contacts_call', 'search_6',\n",
       "       'search_7', 'show_contacts'], dtype=object)"
      ]
     },
     "execution_count": 16,
     "metadata": {},
     "output_type": "execute_result"
    }
   ],
   "source": [
    "df['event_name'].unique()"
   ]
  },
  {
   "cell_type": "markdown",
   "metadata": {},
   "source": [
    "Найден неявный дубликат contacts_show и show_contacts"
   ]
  },
  {
   "cell_type": "code",
   "execution_count": 17,
   "metadata": {},
   "outputs": [],
   "source": [
    "df.loc[ df['event_name'] == 'show_contacts', 'event_name'] = 'contacts_show'"
   ]
  },
  {
   "cell_type": "markdown",
   "metadata": {},
   "source": [
    "Также среди событий присутствует 7 разных видов поиска. При анализе нам не важно что это был за поиск, поэтому объединим их в одно событие search"
   ]
  },
  {
   "cell_type": "code",
   "execution_count": 18,
   "metadata": {},
   "outputs": [],
   "source": [
    "def search(x):\n",
    "    if 'search' in x:\n",
    "        name = 'search'\n",
    "        return name\n",
    "    return x\n",
    "\n",
    "df['event_name'] = df['event_name'].apply(search)"
   ]
  },
  {
   "cell_type": "code",
   "execution_count": 19,
   "metadata": {},
   "outputs": [
    {
     "data": {
      "text/plain": [
       "array(['other', 'yandex', 'google'], dtype=object)"
      ]
     },
     "execution_count": 19,
     "metadata": {},
     "output_type": "execute_result"
    }
   ],
   "source": [
    "df['source'].unique()"
   ]
  },
  {
   "cell_type": "markdown",
   "metadata": {},
   "source": [
    "Типы значений источников соответствуют описанию данных, ошибок нет."
   ]
  },
  {
   "cell_type": "markdown",
   "metadata": {},
   "source": [
    "* На этом шаге были проанализированы данные. В датасете данные за период с с 2019-10-07 00:00:00 по 2019-11-03 23:58:12\n",
    "* Изменены названия столбцов. \n",
    "* Столбец event_time был приведен к типу Datetime и был добавлен столбец даты. \n",
    "* Полных дубликатов не обнаружено. \n",
    "* Неявные дубликаты событий contacts_show и show_contacts были приведены к значению contacts_show.<br>\n",
    "* Семь разных видов поиска были заменены общим названием search\n",
    "Далее проведем исследовательский анализ данных\n"
   ]
  },
  {
   "cell_type": "markdown",
   "metadata": {},
   "source": [
    "## Исследовательский анализ данных"
   ]
  },
  {
   "cell_type": "markdown",
   "metadata": {},
   "source": [
    "### Retention rate"
   ]
  },
  {
   "cell_type": "markdown",
   "metadata": {},
   "source": [
    "Retention Rate, или коэффициент удержания, показывает, как долго клиенты остаются с компанией. Чтобы узнать Retention Rate, нужно разделить количество активных пользователей на текущий период на количество активных пользователей на начальном этапе. В качестве периода выберем неделю.\n",
    "Получим первый день активности пользователя и добавим полученную колонку в исходный датасет."
   ]
  },
  {
   "cell_type": "code",
   "execution_count": 20,
   "metadata": {},
   "outputs": [
    {
     "data": {
      "text/html": [
       "<div>\n",
       "<style scoped>\n",
       "    .dataframe tbody tr th:only-of-type {\n",
       "        vertical-align: middle;\n",
       "    }\n",
       "\n",
       "    .dataframe tbody tr th {\n",
       "        vertical-align: top;\n",
       "    }\n",
       "\n",
       "    .dataframe thead th {\n",
       "        text-align: right;\n",
       "    }\n",
       "</style>\n",
       "<table border=\"1\" class=\"dataframe\">\n",
       "  <thead>\n",
       "    <tr style=\"text-align: right;\">\n",
       "      <th></th>\n",
       "      <th>event_time</th>\n",
       "      <th>event_name</th>\n",
       "      <th>user_id</th>\n",
       "      <th>event_date</th>\n",
       "      <th>source</th>\n",
       "      <th>first_act</th>\n",
       "    </tr>\n",
       "  </thead>\n",
       "  <tbody>\n",
       "    <tr>\n",
       "      <th>0</th>\n",
       "      <td>2019-10-07 00:00:00.431357</td>\n",
       "      <td>advert_open</td>\n",
       "      <td>020292ab-89bc-4156-9acf-68bc2783f894</td>\n",
       "      <td>2019-10-07</td>\n",
       "      <td>other</td>\n",
       "      <td>2019-10-07</td>\n",
       "    </tr>\n",
       "    <tr>\n",
       "      <th>1</th>\n",
       "      <td>2019-10-07 00:00:01.236320</td>\n",
       "      <td>tips_show</td>\n",
       "      <td>020292ab-89bc-4156-9acf-68bc2783f894</td>\n",
       "      <td>2019-10-07</td>\n",
       "      <td>other</td>\n",
       "      <td>2019-10-07</td>\n",
       "    </tr>\n",
       "    <tr>\n",
       "      <th>2</th>\n",
       "      <td>2019-10-07 00:00:02.245341</td>\n",
       "      <td>tips_show</td>\n",
       "      <td>cf7eda61-9349-469f-ac27-e5b6f5ec475c</td>\n",
       "      <td>2019-10-07</td>\n",
       "      <td>yandex</td>\n",
       "      <td>2019-10-07</td>\n",
       "    </tr>\n",
       "    <tr>\n",
       "      <th>3</th>\n",
       "      <td>2019-10-07 00:00:07.039334</td>\n",
       "      <td>tips_show</td>\n",
       "      <td>020292ab-89bc-4156-9acf-68bc2783f894</td>\n",
       "      <td>2019-10-07</td>\n",
       "      <td>other</td>\n",
       "      <td>2019-10-07</td>\n",
       "    </tr>\n",
       "    <tr>\n",
       "      <th>4</th>\n",
       "      <td>2019-10-07 00:00:56.319813</td>\n",
       "      <td>advert_open</td>\n",
       "      <td>cf7eda61-9349-469f-ac27-e5b6f5ec475c</td>\n",
       "      <td>2019-10-07</td>\n",
       "      <td>yandex</td>\n",
       "      <td>2019-10-07</td>\n",
       "    </tr>\n",
       "    <tr>\n",
       "      <th>...</th>\n",
       "      <td>...</td>\n",
       "      <td>...</td>\n",
       "      <td>...</td>\n",
       "      <td>...</td>\n",
       "      <td>...</td>\n",
       "      <td>...</td>\n",
       "    </tr>\n",
       "    <tr>\n",
       "      <th>74192</th>\n",
       "      <td>2019-11-03 23:53:29.534986</td>\n",
       "      <td>tips_show</td>\n",
       "      <td>28fccdf4-7b9e-42f5-bc73-439a265f20e9</td>\n",
       "      <td>2019-11-03</td>\n",
       "      <td>google</td>\n",
       "      <td>2019-10-16</td>\n",
       "    </tr>\n",
       "    <tr>\n",
       "      <th>74193</th>\n",
       "      <td>2019-11-03 23:54:00.407086</td>\n",
       "      <td>tips_show</td>\n",
       "      <td>28fccdf4-7b9e-42f5-bc73-439a265f20e9</td>\n",
       "      <td>2019-11-03</td>\n",
       "      <td>google</td>\n",
       "      <td>2019-10-16</td>\n",
       "    </tr>\n",
       "    <tr>\n",
       "      <th>74194</th>\n",
       "      <td>2019-11-03 23:56:57.041825</td>\n",
       "      <td>search</td>\n",
       "      <td>20850c8f-4135-4059-b13b-198d3ac59902</td>\n",
       "      <td>2019-11-03</td>\n",
       "      <td>google</td>\n",
       "      <td>2019-10-27</td>\n",
       "    </tr>\n",
       "    <tr>\n",
       "      <th>74195</th>\n",
       "      <td>2019-11-03 23:57:06.232189</td>\n",
       "      <td>tips_show</td>\n",
       "      <td>28fccdf4-7b9e-42f5-bc73-439a265f20e9</td>\n",
       "      <td>2019-11-03</td>\n",
       "      <td>google</td>\n",
       "      <td>2019-10-16</td>\n",
       "    </tr>\n",
       "    <tr>\n",
       "      <th>74196</th>\n",
       "      <td>2019-11-03 23:58:12.532487</td>\n",
       "      <td>tips_show</td>\n",
       "      <td>28fccdf4-7b9e-42f5-bc73-439a265f20e9</td>\n",
       "      <td>2019-11-03</td>\n",
       "      <td>google</td>\n",
       "      <td>2019-10-16</td>\n",
       "    </tr>\n",
       "  </tbody>\n",
       "</table>\n",
       "<p>74197 rows × 6 columns</p>\n",
       "</div>"
      ],
      "text/plain": [
       "                      event_time   event_name  \\\n",
       "0     2019-10-07 00:00:00.431357  advert_open   \n",
       "1     2019-10-07 00:00:01.236320    tips_show   \n",
       "2     2019-10-07 00:00:02.245341    tips_show   \n",
       "3     2019-10-07 00:00:07.039334    tips_show   \n",
       "4     2019-10-07 00:00:56.319813  advert_open   \n",
       "...                          ...          ...   \n",
       "74192 2019-11-03 23:53:29.534986    tips_show   \n",
       "74193 2019-11-03 23:54:00.407086    tips_show   \n",
       "74194 2019-11-03 23:56:57.041825       search   \n",
       "74195 2019-11-03 23:57:06.232189    tips_show   \n",
       "74196 2019-11-03 23:58:12.532487    tips_show   \n",
       "\n",
       "                                    user_id event_date  source  first_act  \n",
       "0      020292ab-89bc-4156-9acf-68bc2783f894 2019-10-07   other 2019-10-07  \n",
       "1      020292ab-89bc-4156-9acf-68bc2783f894 2019-10-07   other 2019-10-07  \n",
       "2      cf7eda61-9349-469f-ac27-e5b6f5ec475c 2019-10-07  yandex 2019-10-07  \n",
       "3      020292ab-89bc-4156-9acf-68bc2783f894 2019-10-07   other 2019-10-07  \n",
       "4      cf7eda61-9349-469f-ac27-e5b6f5ec475c 2019-10-07  yandex 2019-10-07  \n",
       "...                                     ...        ...     ...        ...  \n",
       "74192  28fccdf4-7b9e-42f5-bc73-439a265f20e9 2019-11-03  google 2019-10-16  \n",
       "74193  28fccdf4-7b9e-42f5-bc73-439a265f20e9 2019-11-03  google 2019-10-16  \n",
       "74194  20850c8f-4135-4059-b13b-198d3ac59902 2019-11-03  google 2019-10-27  \n",
       "74195  28fccdf4-7b9e-42f5-bc73-439a265f20e9 2019-11-03  google 2019-10-16  \n",
       "74196  28fccdf4-7b9e-42f5-bc73-439a265f20e9 2019-11-03  google 2019-10-16  \n",
       "\n",
       "[74197 rows x 6 columns]"
      ]
     },
     "execution_count": 20,
     "metadata": {},
     "output_type": "execute_result"
    }
   ],
   "source": [
    "first_date = df.groupby(['user_id'])['event_date'].min()\n",
    "first_date.name='first_act'\n",
    "df=df.merge(first_date, on='user_id', how='left')\n",
    "df"
   ]
  },
  {
   "cell_type": "markdown",
   "metadata": {},
   "source": [
    "Выделим когорты на основе первой недели активности"
   ]
  },
  {
   "cell_type": "code",
   "execution_count": 21,
   "metadata": {},
   "outputs": [],
   "source": [
    "df['act_week'] = pd.to_datetime(df['event_date'],unit='d') - pd.to_timedelta(df['event_date'].dt.dayofweek, unit='d')\n",
    "df['cohort'] = pd.to_datetime(df['first_act'],unit='d') - pd.to_timedelta(df['first_act'].dt.dayofweek, unit='d')"
   ]
  },
  {
   "cell_type": "markdown",
   "metadata": {},
   "source": [
    "Рассчитаем lifetime"
   ]
  },
  {
   "cell_type": "code",
   "execution_count": 22,
   "metadata": {},
   "outputs": [],
   "source": [
    "df['lifetime'] = df['act_week'] - df['cohort']\n",
    "df['lifetime'] = df['lifetime'] / np.timedelta64(1,'W')\n",
    "df['lifetime'] = df['lifetime'].astype(int)"
   ]
  },
  {
   "cell_type": "markdown",
   "metadata": {},
   "source": [
    "Сгруппируем данные по когорте и lifetime"
   ]
  },
  {
   "cell_type": "code",
   "execution_count": 23,
   "metadata": {},
   "outputs": [],
   "source": [
    "cohort = df.groupby(['cohort','lifetime']).agg({'user_id':'nunique'}).reset_index()\n",
    "cohort= cohort.rename(columns={'user_id':'act_users'})"
   ]
  },
  {
   "cell_type": "markdown",
   "metadata": {},
   "source": [
    "Определим число пользователей в 0 неделю"
   ]
  },
  {
   "cell_type": "code",
   "execution_count": 24,
   "metadata": {},
   "outputs": [],
   "source": [
    "week0 = cohort[cohort['lifetime'] == 0][['cohort','act_users']]\n",
    "week0 = week0.rename(columns={'act_users':'all_users'})\n",
    "cohort = cohort.merge(week0,on='cohort')"
   ]
  },
  {
   "cell_type": "code",
   "execution_count": 25,
   "metadata": {},
   "outputs": [],
   "source": [
    "cohort['retention'] = cohort['act_users']/cohort['all_users']\n",
    "cohort['cohort'] = cohort['cohort'].dt.date"
   ]
  },
  {
   "cell_type": "markdown",
   "metadata": {},
   "source": [
    "Построим график удержания пользователей"
   ]
  },
  {
   "cell_type": "code",
   "execution_count": 26,
   "metadata": {},
   "outputs": [
    {
     "data": {
      "image/png": "[encoded data removed]",
      "text/plain": [
       "<Figure size 576x576 with 2 Axes>"
      ]
     },
     "metadata": {},
     "output_type": "display_data"
    }
   ],
   "source": [
    "retention = cohort.pivot_table(index='cohort',columns='lifetime',values='retention',aggfunc='sum')\n",
    "sns.set(style='white')\n",
    "plt.figure(figsize=(8, 8))\n",
    "plt.title('Retention rate')\n",
    "sns.heatmap(retention, annot=True, fmt='.1%', linewidths=1, linecolor='gray');\n",
    "plt.show()"
   ]
  },
  {
   "cell_type": "markdown",
   "metadata": {},
   "source": [
    "Из графика видим, что Retention Rate у пользователей, пришедших с 21 октября по 27 октября коэффициент 21.8%, а у пользователей с 07 октября по 13 октября этот показатель 24.1%. Максимальный показатель у пользователей с 14 октября по 20 октября 24.2%. Также при увеличении lifetime снижается число пользователей приложения."
   ]
  },
  {
   "cell_type": "markdown",
   "metadata": {},
   "source": [
    "### Время, проведённое в приложении"
   ]
  },
  {
   "cell_type": "markdown",
   "metadata": {},
   "source": [
    "Время, проведённое в приложении является важной метрикой, определить его поможет пользовательская сессия — набор действий пользователя, выполняемый от открытия приложения до окончания его использования. В исходных данных отсутствуют сессии пользователей, поэтому посчитаем длительность сессии как разницу мин и мах значений времени в секундах, в рамках одного дня. Также переведем полученное значение в минуты, для наглядности графика."
   ]
  },
  {
   "cell_type": "markdown",
   "metadata": {},
   "source": [
    "Подготовим таблицу сессий"
   ]
  },
  {
   "cell_type": "code",
   "execution_count": 27,
   "metadata": {},
   "outputs": [],
   "source": [
    "session_max = df.groupby(['user_id', 'event_date'])['event_time'].agg('max').reset_index()\\\n",
    ".rename(columns = {'event_time':'event_time_max'})\n",
    "session_min = df.groupby(['user_id', 'event_date'])['event_time'].agg('min').reset_index()\\\n",
    ".rename(columns = {'event_time':'event_time_min'})\n",
    "sessions = session_max.merge(session_min, on = ['user_id', 'event_date'], how = 'left')\n",
    "sessions['duration_sec'] = (sessions['event_time_max'] - sessions['event_time_min']).dt.seconds\n",
    "sessions['duration_min']=round(sessions['duration_sec']/60,2)"
   ]
  },
  {
   "cell_type": "code",
   "execution_count": 28,
   "metadata": {},
   "outputs": [
    {
     "data": {
      "image/png": "[encoded data removed]",
      "text/plain": [
       "<Figure size 864x288 with 1 Axes>"
      ]
     },
     "metadata": {},
     "output_type": "display_data"
    },
    {
     "data": {
      "text/plain": [
       "count    7817.000000\n",
       "mean       83.026195\n",
       "std       190.167616\n",
       "min         0.000000\n",
       "25%         2.450000\n",
       "50%        11.800000\n",
       "75%        48.730000\n",
       "max      1417.470000\n",
       "Name: duration_min, dtype: float64"
      ]
     },
     "execution_count": 28,
     "metadata": {},
     "output_type": "execute_result"
    }
   ],
   "source": [
    "plt.figure(figsize=(12, 4))\n",
    "sessions['duration_min'].hist(bins=100)\n",
    "plt.title('Распределение времени, проведённого в приложении', fontsize=14)\n",
    "plt.ylabel('количество сессий', fontsize=10)\n",
    "plt.xlabel('Время, проведённое в приложении в минутах', fontsize=10)\n",
    "plt.xlim([0, 200])\n",
    "plt.show()\n",
    "sessions['duration_min'].describe()"
   ]
  },
  {
   "cell_type": "markdown",
   "metadata": {},
   "source": [
    "Большая часть сеансов не превышает 12 минут"
   ]
  },
  {
   "cell_type": "markdown",
   "metadata": {},
   "source": [
    "Проанализируем нулевые сессии"
   ]
  },
  {
   "cell_type": "code",
   "execution_count": 29,
   "metadata": {},
   "outputs": [
    {
     "data": {
      "text/html": [
       "<div>\n",
       "<style scoped>\n",
       "    .dataframe tbody tr th:only-of-type {\n",
       "        vertical-align: middle;\n",
       "    }\n",
       "\n",
       "    .dataframe tbody tr th {\n",
       "        vertical-align: top;\n",
       "    }\n",
       "\n",
       "    .dataframe thead th {\n",
       "        text-align: right;\n",
       "    }\n",
       "</style>\n",
       "<table border=\"1\" class=\"dataframe\">\n",
       "  <thead>\n",
       "    <tr style=\"text-align: right;\">\n",
       "      <th></th>\n",
       "      <th>user_id</th>\n",
       "      <th>event_date</th>\n",
       "      <th>event_time_max</th>\n",
       "      <th>event_time_min</th>\n",
       "      <th>duration_sec</th>\n",
       "      <th>duration_min</th>\n",
       "    </tr>\n",
       "  </thead>\n",
       "  <tbody>\n",
       "    <tr>\n",
       "      <th>9</th>\n",
       "      <td>00157779-810c-4498-9e05-a1e9e3cedf93</td>\n",
       "      <td>2019-11-03</td>\n",
       "      <td>2019-11-03 17:12:09.708771</td>\n",
       "      <td>2019-11-03 17:12:09.708771</td>\n",
       "      <td>0</td>\n",
       "      <td>0.0</td>\n",
       "    </tr>\n",
       "    <tr>\n",
       "      <th>19</th>\n",
       "      <td>00551e79-152e-4441-9cf7-565d7eb04090</td>\n",
       "      <td>2019-10-29</td>\n",
       "      <td>2019-10-29 02:17:12.342406</td>\n",
       "      <td>2019-10-29 02:17:12.342406</td>\n",
       "      <td>0</td>\n",
       "      <td>0.0</td>\n",
       "    </tr>\n",
       "    <tr>\n",
       "      <th>25</th>\n",
       "      <td>00753c79-ea81-4456-acd0-a47a23ca2fb9</td>\n",
       "      <td>2019-10-20</td>\n",
       "      <td>2019-10-20 14:57:06.080501</td>\n",
       "      <td>2019-10-20 14:57:06.080501</td>\n",
       "      <td>0</td>\n",
       "      <td>0.0</td>\n",
       "    </tr>\n",
       "    <tr>\n",
       "      <th>45</th>\n",
       "      <td>0164902d-7393-47e1-9d5b-0ec4c0171cdc</td>\n",
       "      <td>2019-10-26</td>\n",
       "      <td>2019-10-26 18:50:33.550603</td>\n",
       "      <td>2019-10-26 18:50:33.550603</td>\n",
       "      <td>0</td>\n",
       "      <td>0.0</td>\n",
       "    </tr>\n",
       "    <tr>\n",
       "      <th>56</th>\n",
       "      <td>01d283e1-cb1c-407a-a4e0-9f72f3deecca</td>\n",
       "      <td>2019-10-19</td>\n",
       "      <td>2019-10-19 05:27:22.021197</td>\n",
       "      <td>2019-10-19 05:27:22.021197</td>\n",
       "      <td>0</td>\n",
       "      <td>0.0</td>\n",
       "    </tr>\n",
       "    <tr>\n",
       "      <th>...</th>\n",
       "      <td>...</td>\n",
       "      <td>...</td>\n",
       "      <td>...</td>\n",
       "      <td>...</td>\n",
       "      <td>...</td>\n",
       "      <td>...</td>\n",
       "    </tr>\n",
       "    <tr>\n",
       "      <th>7768</th>\n",
       "      <td>fe585541-43a9-4d56-8466-718856a4d195</td>\n",
       "      <td>2019-10-15</td>\n",
       "      <td>2019-10-15 12:14:56.669265</td>\n",
       "      <td>2019-10-15 12:14:56.669265</td>\n",
       "      <td>0</td>\n",
       "      <td>0.0</td>\n",
       "    </tr>\n",
       "    <tr>\n",
       "      <th>7769</th>\n",
       "      <td>fe585541-43a9-4d56-8466-718856a4d195</td>\n",
       "      <td>2019-10-19</td>\n",
       "      <td>2019-10-19 00:13:20.533171</td>\n",
       "      <td>2019-10-19 00:13:20.533171</td>\n",
       "      <td>0</td>\n",
       "      <td>0.0</td>\n",
       "    </tr>\n",
       "    <tr>\n",
       "      <th>7773</th>\n",
       "      <td>fe898476-a038-4717-875d-b01e8cddf537</td>\n",
       "      <td>2019-10-19</td>\n",
       "      <td>2019-10-19 11:33:31.681982</td>\n",
       "      <td>2019-10-19 11:33:31.681982</td>\n",
       "      <td>0</td>\n",
       "      <td>0.0</td>\n",
       "    </tr>\n",
       "    <tr>\n",
       "      <th>7774</th>\n",
       "      <td>fe92fa6c-7eef-484f-b31b-fa0db4e4d895</td>\n",
       "      <td>2019-10-13</td>\n",
       "      <td>2019-10-13 18:02:11.003357</td>\n",
       "      <td>2019-10-13 18:02:11.003357</td>\n",
       "      <td>0</td>\n",
       "      <td>0.0</td>\n",
       "    </tr>\n",
       "    <tr>\n",
       "      <th>7780</th>\n",
       "      <td>fec484eb-838b-4501-ab45-41947b5ce162</td>\n",
       "      <td>2019-10-22</td>\n",
       "      <td>2019-10-22 14:42:13.081809</td>\n",
       "      <td>2019-10-22 14:42:13.081809</td>\n",
       "      <td>0</td>\n",
       "      <td>0.0</td>\n",
       "    </tr>\n",
       "  </tbody>\n",
       "</table>\n",
       "<p>1019 rows × 6 columns</p>\n",
       "</div>"
      ],
      "text/plain": [
       "                                   user_id event_date  \\\n",
       "9     00157779-810c-4498-9e05-a1e9e3cedf93 2019-11-03   \n",
       "19    00551e79-152e-4441-9cf7-565d7eb04090 2019-10-29   \n",
       "25    00753c79-ea81-4456-acd0-a47a23ca2fb9 2019-10-20   \n",
       "45    0164902d-7393-47e1-9d5b-0ec4c0171cdc 2019-10-26   \n",
       "56    01d283e1-cb1c-407a-a4e0-9f72f3deecca 2019-10-19   \n",
       "...                                    ...        ...   \n",
       "7768  fe585541-43a9-4d56-8466-718856a4d195 2019-10-15   \n",
       "7769  fe585541-43a9-4d56-8466-718856a4d195 2019-10-19   \n",
       "7773  fe898476-a038-4717-875d-b01e8cddf537 2019-10-19   \n",
       "7774  fe92fa6c-7eef-484f-b31b-fa0db4e4d895 2019-10-13   \n",
       "7780  fec484eb-838b-4501-ab45-41947b5ce162 2019-10-22   \n",
       "\n",
       "                 event_time_max             event_time_min  duration_sec  \\\n",
       "9    2019-11-03 17:12:09.708771 2019-11-03 17:12:09.708771             0   \n",
       "19   2019-10-29 02:17:12.342406 2019-10-29 02:17:12.342406             0   \n",
       "25   2019-10-20 14:57:06.080501 2019-10-20 14:57:06.080501             0   \n",
       "45   2019-10-26 18:50:33.550603 2019-10-26 18:50:33.550603             0   \n",
       "56   2019-10-19 05:27:22.021197 2019-10-19 05:27:22.021197             0   \n",
       "...                         ...                        ...           ...   \n",
       "7768 2019-10-15 12:14:56.669265 2019-10-15 12:14:56.669265             0   \n",
       "7769 2019-10-19 00:13:20.533171 2019-10-19 00:13:20.533171             0   \n",
       "7773 2019-10-19 11:33:31.681982 2019-10-19 11:33:31.681982             0   \n",
       "7774 2019-10-13 18:02:11.003357 2019-10-13 18:02:11.003357             0   \n",
       "7780 2019-10-22 14:42:13.081809 2019-10-22 14:42:13.081809             0   \n",
       "\n",
       "      duration_min  \n",
       "9              0.0  \n",
       "19             0.0  \n",
       "25             0.0  \n",
       "45             0.0  \n",
       "56             0.0  \n",
       "...            ...  \n",
       "7768           0.0  \n",
       "7769           0.0  \n",
       "7773           0.0  \n",
       "7774           0.0  \n",
       "7780           0.0  \n",
       "\n",
       "[1019 rows x 6 columns]"
      ]
     },
     "execution_count": 29,
     "metadata": {},
     "output_type": "execute_result"
    }
   ],
   "source": [
    "sessions[sessions['duration_min'] == 0]"
   ]
  },
  {
   "cell_type": "code",
   "execution_count": 30,
   "metadata": {},
   "outputs": [
    {
     "data": {
      "text/html": [
       "<div>\n",
       "<style scoped>\n",
       "    .dataframe tbody tr th:only-of-type {\n",
       "        vertical-align: middle;\n",
       "    }\n",
       "\n",
       "    .dataframe tbody tr th {\n",
       "        vertical-align: top;\n",
       "    }\n",
       "\n",
       "    .dataframe thead th {\n",
       "        text-align: right;\n",
       "    }\n",
       "</style>\n",
       "<table border=\"1\" class=\"dataframe\">\n",
       "  <thead>\n",
       "    <tr style=\"text-align: right;\">\n",
       "      <th></th>\n",
       "      <th>event_time</th>\n",
       "      <th>event_name</th>\n",
       "      <th>user_id</th>\n",
       "      <th>event_date</th>\n",
       "      <th>source</th>\n",
       "      <th>first_act</th>\n",
       "      <th>act_week</th>\n",
       "      <th>cohort</th>\n",
       "      <th>lifetime</th>\n",
       "    </tr>\n",
       "  </thead>\n",
       "  <tbody>\n",
       "    <tr>\n",
       "      <th>107</th>\n",
       "      <td>2019-10-07 01:18:43.135736</td>\n",
       "      <td>tips_show</td>\n",
       "      <td>17f6b2db-2964-4d11-89d8-7e38d2cb4750</td>\n",
       "      <td>2019-10-07</td>\n",
       "      <td>yandex</td>\n",
       "      <td>2019-10-07</td>\n",
       "      <td>2019-10-07</td>\n",
       "      <td>2019-10-07</td>\n",
       "      <td>0</td>\n",
       "    </tr>\n",
       "    <tr>\n",
       "      <th>108</th>\n",
       "      <td>2019-10-07 01:19:27.203915</td>\n",
       "      <td>tips_show</td>\n",
       "      <td>17f6b2db-2964-4d11-89d8-7e38d2cb4750</td>\n",
       "      <td>2019-10-07</td>\n",
       "      <td>yandex</td>\n",
       "      <td>2019-10-07</td>\n",
       "      <td>2019-10-07</td>\n",
       "      <td>2019-10-07</td>\n",
       "      <td>0</td>\n",
       "    </tr>\n",
       "    <tr>\n",
       "      <th>109</th>\n",
       "      <td>2019-10-07 01:19:31.223825</td>\n",
       "      <td>tips_show</td>\n",
       "      <td>17f6b2db-2964-4d11-89d8-7e38d2cb4750</td>\n",
       "      <td>2019-10-07</td>\n",
       "      <td>yandex</td>\n",
       "      <td>2019-10-07</td>\n",
       "      <td>2019-10-07</td>\n",
       "      <td>2019-10-07</td>\n",
       "      <td>0</td>\n",
       "    </tr>\n",
       "    <tr>\n",
       "      <th>110</th>\n",
       "      <td>2019-10-07 01:20:23.127940</td>\n",
       "      <td>tips_show</td>\n",
       "      <td>17f6b2db-2964-4d11-89d8-7e38d2cb4750</td>\n",
       "      <td>2019-10-07</td>\n",
       "      <td>yandex</td>\n",
       "      <td>2019-10-07</td>\n",
       "      <td>2019-10-07</td>\n",
       "      <td>2019-10-07</td>\n",
       "      <td>0</td>\n",
       "    </tr>\n",
       "    <tr>\n",
       "      <th>111</th>\n",
       "      <td>2019-10-07 01:24:44.179768</td>\n",
       "      <td>tips_show</td>\n",
       "      <td>17f6b2db-2964-4d11-89d8-7e38d2cb4750</td>\n",
       "      <td>2019-10-07</td>\n",
       "      <td>yandex</td>\n",
       "      <td>2019-10-07</td>\n",
       "      <td>2019-10-07</td>\n",
       "      <td>2019-10-07</td>\n",
       "      <td>0</td>\n",
       "    </tr>\n",
       "    <tr>\n",
       "      <th>...</th>\n",
       "      <td>...</td>\n",
       "      <td>...</td>\n",
       "      <td>...</td>\n",
       "      <td>...</td>\n",
       "      <td>...</td>\n",
       "      <td>...</td>\n",
       "      <td>...</td>\n",
       "      <td>...</td>\n",
       "      <td>...</td>\n",
       "    </tr>\n",
       "    <tr>\n",
       "      <th>74077</th>\n",
       "      <td>2019-11-03 22:56:31.244687</td>\n",
       "      <td>photos_show</td>\n",
       "      <td>57930074-b0f6-4107-8836-8c973e3ca3ec</td>\n",
       "      <td>2019-11-03</td>\n",
       "      <td>yandex</td>\n",
       "      <td>2019-10-10</td>\n",
       "      <td>2019-10-28</td>\n",
       "      <td>2019-10-07</td>\n",
       "      <td>3</td>\n",
       "    </tr>\n",
       "    <tr>\n",
       "      <th>74100</th>\n",
       "      <td>2019-11-03 23:01:08.557298</td>\n",
       "      <td>photos_show</td>\n",
       "      <td>57930074-b0f6-4107-8836-8c973e3ca3ec</td>\n",
       "      <td>2019-11-03</td>\n",
       "      <td>yandex</td>\n",
       "      <td>2019-10-10</td>\n",
       "      <td>2019-10-28</td>\n",
       "      <td>2019-10-07</td>\n",
       "      <td>3</td>\n",
       "    </tr>\n",
       "    <tr>\n",
       "      <th>74129</th>\n",
       "      <td>2019-11-03 23:14:09.374539</td>\n",
       "      <td>map</td>\n",
       "      <td>ddc530dc-3ac2-4025-89ac-734e49a81828</td>\n",
       "      <td>2019-11-03</td>\n",
       "      <td>yandex</td>\n",
       "      <td>2019-10-12</td>\n",
       "      <td>2019-10-28</td>\n",
       "      <td>2019-10-07</td>\n",
       "      <td>3</td>\n",
       "    </tr>\n",
       "    <tr>\n",
       "      <th>74175</th>\n",
       "      <td>2019-11-03 23:46:10.196861</td>\n",
       "      <td>photos_show</td>\n",
       "      <td>d5e14ec3-7ae5-4598-ad36-f626b3ce24e3</td>\n",
       "      <td>2019-11-03</td>\n",
       "      <td>google</td>\n",
       "      <td>2019-10-28</td>\n",
       "      <td>2019-10-28</td>\n",
       "      <td>2019-10-28</td>\n",
       "      <td>0</td>\n",
       "    </tr>\n",
       "    <tr>\n",
       "      <th>74194</th>\n",
       "      <td>2019-11-03 23:56:57.041825</td>\n",
       "      <td>search</td>\n",
       "      <td>20850c8f-4135-4059-b13b-198d3ac59902</td>\n",
       "      <td>2019-11-03</td>\n",
       "      <td>google</td>\n",
       "      <td>2019-10-27</td>\n",
       "      <td>2019-10-28</td>\n",
       "      <td>2019-10-21</td>\n",
       "      <td>1</td>\n",
       "    </tr>\n",
       "  </tbody>\n",
       "</table>\n",
       "<p>14960 rows × 9 columns</p>\n",
       "</div>"
      ],
      "text/plain": [
       "                      event_time   event_name  \\\n",
       "107   2019-10-07 01:18:43.135736    tips_show   \n",
       "108   2019-10-07 01:19:27.203915    tips_show   \n",
       "109   2019-10-07 01:19:31.223825    tips_show   \n",
       "110   2019-10-07 01:20:23.127940    tips_show   \n",
       "111   2019-10-07 01:24:44.179768    tips_show   \n",
       "...                          ...          ...   \n",
       "74077 2019-11-03 22:56:31.244687  photos_show   \n",
       "74100 2019-11-03 23:01:08.557298  photos_show   \n",
       "74129 2019-11-03 23:14:09.374539          map   \n",
       "74175 2019-11-03 23:46:10.196861  photos_show   \n",
       "74194 2019-11-03 23:56:57.041825       search   \n",
       "\n",
       "                                    user_id event_date  source  first_act  \\\n",
       "107    17f6b2db-2964-4d11-89d8-7e38d2cb4750 2019-10-07  yandex 2019-10-07   \n",
       "108    17f6b2db-2964-4d11-89d8-7e38d2cb4750 2019-10-07  yandex 2019-10-07   \n",
       "109    17f6b2db-2964-4d11-89d8-7e38d2cb4750 2019-10-07  yandex 2019-10-07   \n",
       "110    17f6b2db-2964-4d11-89d8-7e38d2cb4750 2019-10-07  yandex 2019-10-07   \n",
       "111    17f6b2db-2964-4d11-89d8-7e38d2cb4750 2019-10-07  yandex 2019-10-07   \n",
       "...                                     ...        ...     ...        ...   \n",
       "74077  57930074-b0f6-4107-8836-8c973e3ca3ec 2019-11-03  yandex 2019-10-10   \n",
       "74100  57930074-b0f6-4107-8836-8c973e3ca3ec 2019-11-03  yandex 2019-10-10   \n",
       "74129  ddc530dc-3ac2-4025-89ac-734e49a81828 2019-11-03  yandex 2019-10-12   \n",
       "74175  d5e14ec3-7ae5-4598-ad36-f626b3ce24e3 2019-11-03  google 2019-10-28   \n",
       "74194  20850c8f-4135-4059-b13b-198d3ac59902 2019-11-03  google 2019-10-27   \n",
       "\n",
       "        act_week     cohort  lifetime  \n",
       "107   2019-10-07 2019-10-07         0  \n",
       "108   2019-10-07 2019-10-07         0  \n",
       "109   2019-10-07 2019-10-07         0  \n",
       "110   2019-10-07 2019-10-07         0  \n",
       "111   2019-10-07 2019-10-07         0  \n",
       "...          ...        ...       ...  \n",
       "74077 2019-10-28 2019-10-07         3  \n",
       "74100 2019-10-28 2019-10-07         3  \n",
       "74129 2019-10-28 2019-10-07         3  \n",
       "74175 2019-10-28 2019-10-28         0  \n",
       "74194 2019-10-28 2019-10-21         1  \n",
       "\n",
       "[14960 rows x 9 columns]"
      ]
     },
     "execution_count": 30,
     "metadata": {},
     "output_type": "execute_result"
    }
   ],
   "source": [
    "user0 =list(sessions[sessions['duration_min'] == 0].user_id)\n",
    "dates0=list(sessions[sessions['duration_min'] == 0].event_date)\n",
    "df.query('user_id in @user0 and event_date in @dates0')"
   ]
  },
  {
   "cell_type": "markdown",
   "metadata": {},
   "source": [
    "Если проанализировать события по дате и пользователю, в нулевую сессию попадают разные события, поэтому однозначно сказать что это ошибочные данные нельзя. Возможно при наличии выделенных сессей в исходных данных таких сессий было бы меньше.<br>\n",
    "Как вариант нулевая сессия при событии tips_show- это вылет приложения с ошибкой, но для полноты анализа не хватает информации о сессиях."
   ]
  },
  {
   "cell_type": "markdown",
   "metadata": {},
   "source": [
    "Проанализируем max сессии"
   ]
  },
  {
   "cell_type": "code",
   "execution_count": 31,
   "metadata": {},
   "outputs": [
    {
     "data": {
      "text/html": [
       "<div>\n",
       "<style scoped>\n",
       "    .dataframe tbody tr th:only-of-type {\n",
       "        vertical-align: middle;\n",
       "    }\n",
       "\n",
       "    .dataframe tbody tr th {\n",
       "        vertical-align: top;\n",
       "    }\n",
       "\n",
       "    .dataframe thead th {\n",
       "        text-align: right;\n",
       "    }\n",
       "</style>\n",
       "<table border=\"1\" class=\"dataframe\">\n",
       "  <thead>\n",
       "    <tr style=\"text-align: right;\">\n",
       "      <th></th>\n",
       "      <th>user_id</th>\n",
       "      <th>event_date</th>\n",
       "      <th>event_time_max</th>\n",
       "      <th>event_time_min</th>\n",
       "      <th>duration_sec</th>\n",
       "      <th>duration_min</th>\n",
       "    </tr>\n",
       "  </thead>\n",
       "  <tbody>\n",
       "    <tr>\n",
       "      <th>660</th>\n",
       "      <td>12681fdf-d1d1-454b-9b92-e8a3ccfaf07b</td>\n",
       "      <td>2019-11-03</td>\n",
       "      <td>2019-11-03 23:47:35.841615</td>\n",
       "      <td>2019-11-03 00:10:07.175263</td>\n",
       "      <td>85048</td>\n",
       "      <td>1417.47</td>\n",
       "    </tr>\n",
       "  </tbody>\n",
       "</table>\n",
       "</div>"
      ],
      "text/plain": [
       "                                  user_id event_date  \\\n",
       "660  12681fdf-d1d1-454b-9b92-e8a3ccfaf07b 2019-11-03   \n",
       "\n",
       "                event_time_max             event_time_min  duration_sec  \\\n",
       "660 2019-11-03 23:47:35.841615 2019-11-03 00:10:07.175263         85048   \n",
       "\n",
       "     duration_min  \n",
       "660       1417.47  "
      ]
     },
     "execution_count": 31,
     "metadata": {},
     "output_type": "execute_result"
    }
   ],
   "source": [
    "sessions[sessions['duration_min'] ==sessions['duration_min'].max()]"
   ]
  },
  {
   "cell_type": "code",
   "execution_count": 32,
   "metadata": {},
   "outputs": [
    {
     "data": {
      "text/html": [
       "<div>\n",
       "<style scoped>\n",
       "    .dataframe tbody tr th:only-of-type {\n",
       "        vertical-align: middle;\n",
       "    }\n",
       "\n",
       "    .dataframe tbody tr th {\n",
       "        vertical-align: top;\n",
       "    }\n",
       "\n",
       "    .dataframe thead th {\n",
       "        text-align: right;\n",
       "    }\n",
       "</style>\n",
       "<table border=\"1\" class=\"dataframe\">\n",
       "  <thead>\n",
       "    <tr style=\"text-align: right;\">\n",
       "      <th></th>\n",
       "      <th>event_time</th>\n",
       "      <th>event_name</th>\n",
       "      <th>user_id</th>\n",
       "      <th>event_date</th>\n",
       "      <th>source</th>\n",
       "      <th>first_act</th>\n",
       "      <th>act_week</th>\n",
       "      <th>cohort</th>\n",
       "      <th>lifetime</th>\n",
       "    </tr>\n",
       "  </thead>\n",
       "  <tbody>\n",
       "    <tr>\n",
       "      <th>71342</th>\n",
       "      <td>2019-11-03 00:10:07.175263</td>\n",
       "      <td>photos_show</td>\n",
       "      <td>12681fdf-d1d1-454b-9b92-e8a3ccfaf07b</td>\n",
       "      <td>2019-11-03</td>\n",
       "      <td>yandex</td>\n",
       "      <td>2019-11-02</td>\n",
       "      <td>2019-10-28</td>\n",
       "      <td>2019-10-28</td>\n",
       "      <td>0</td>\n",
       "    </tr>\n",
       "    <tr>\n",
       "      <th>72779</th>\n",
       "      <td>2019-11-03 16:54:45.124660</td>\n",
       "      <td>photos_show</td>\n",
       "      <td>12681fdf-d1d1-454b-9b92-e8a3ccfaf07b</td>\n",
       "      <td>2019-11-03</td>\n",
       "      <td>yandex</td>\n",
       "      <td>2019-11-02</td>\n",
       "      <td>2019-10-28</td>\n",
       "      <td>2019-10-28</td>\n",
       "      <td>0</td>\n",
       "    </tr>\n",
       "    <tr>\n",
       "      <th>74181</th>\n",
       "      <td>2019-11-03 23:47:35.841615</td>\n",
       "      <td>photos_show</td>\n",
       "      <td>12681fdf-d1d1-454b-9b92-e8a3ccfaf07b</td>\n",
       "      <td>2019-11-03</td>\n",
       "      <td>yandex</td>\n",
       "      <td>2019-11-02</td>\n",
       "      <td>2019-10-28</td>\n",
       "      <td>2019-10-28</td>\n",
       "      <td>0</td>\n",
       "    </tr>\n",
       "  </tbody>\n",
       "</table>\n",
       "</div>"
      ],
      "text/plain": [
       "                      event_time   event_name  \\\n",
       "71342 2019-11-03 00:10:07.175263  photos_show   \n",
       "72779 2019-11-03 16:54:45.124660  photos_show   \n",
       "74181 2019-11-03 23:47:35.841615  photos_show   \n",
       "\n",
       "                                    user_id event_date  source  first_act  \\\n",
       "71342  12681fdf-d1d1-454b-9b92-e8a3ccfaf07b 2019-11-03  yandex 2019-11-02   \n",
       "72779  12681fdf-d1d1-454b-9b92-e8a3ccfaf07b 2019-11-03  yandex 2019-11-02   \n",
       "74181  12681fdf-d1d1-454b-9b92-e8a3ccfaf07b 2019-11-03  yandex 2019-11-02   \n",
       "\n",
       "        act_week     cohort  lifetime  \n",
       "71342 2019-10-28 2019-10-28         0  \n",
       "72779 2019-10-28 2019-10-28         0  \n",
       "74181 2019-10-28 2019-10-28         0  "
      ]
     },
     "execution_count": 32,
     "metadata": {},
     "output_type": "execute_result"
    }
   ],
   "source": [
    "user_max=list(sessions[sessions['duration_min'] == sessions['duration_min'].max()]['user_id'])\n",
    "user_max_date=list(sessions[sessions['duration_min'] == sessions['duration_min'].max()]['event_date'])\n",
    "df.query('user_id==@user_max[0] and event_date==@user_max_date[0]')"
   ]
  },
  {
   "cell_type": "markdown",
   "metadata": {},
   "source": [
    "В связи с отсутствием сессий в исходных данных, разбиение было проведено как разницу мин и мах значений времени в рамках одного дня. При наличии реальных исходных данных о сессиях, это скоре всего было 3 разных сессии, учитывая малое количесвто действий."
   ]
  },
  {
   "cell_type": "markdown",
   "metadata": {},
   "source": [
    "Рассмотрим количество сессий на пользователя:"
   ]
  },
  {
   "cell_type": "code",
   "execution_count": 33,
   "metadata": {},
   "outputs": [
    {
     "data": {
      "text/plain": [
       "count    4293.000000\n",
       "mean        1.820871\n",
       "std         1.762537\n",
       "min         1.000000\n",
       "25%         1.000000\n",
       "50%         1.000000\n",
       "75%         2.000000\n",
       "max        25.000000\n",
       "Name: user_id, dtype: float64"
      ]
     },
     "execution_count": 33,
     "metadata": {},
     "output_type": "execute_result"
    }
   ],
   "source": [
    "sessions_count=sessions.groupby(['user_id'])['user_id'].agg('count')\n",
    "sessions_count.describe()"
   ]
  },
  {
   "cell_type": "markdown",
   "metadata": {},
   "source": [
    "Учитывая условный характер разбиения на сессии, эта величины мах 25 и среднее 1.82 лишь справочные."
   ]
  },
  {
   "cell_type": "markdown",
   "metadata": {},
   "source": [
    "Всего было 7817 сессий. Среди них 1019 нулевых сессий. На одного пользователся приходится в среднем чуть менее 2х сессий, мах 25 сессий.\n",
    "Средняя продолжительность сессии 83 минуты.Большее число сессий не превышает 12 минут. Всего одна сессия с мах длительность сессии 1417 минут, в течении которой пользователь совершил 3 просмотра фото."
   ]
  },
  {
   "cell_type": "markdown",
   "metadata": {},
   "source": [
    "### Частота действий"
   ]
  },
  {
   "cell_type": "markdown",
   "metadata": {},
   "source": [
    "Рассмотрим частоту действий на пользователя, а также частоту основных событий приложения"
   ]
  },
  {
   "cell_type": "code",
   "execution_count": 34,
   "metadata": {},
   "outputs": [
    {
     "data": {
      "text/html": [
       "<div>\n",
       "<style scoped>\n",
       "    .dataframe tbody tr th:only-of-type {\n",
       "        vertical-align: middle;\n",
       "    }\n",
       "\n",
       "    .dataframe tbody tr th {\n",
       "        vertical-align: top;\n",
       "    }\n",
       "\n",
       "    .dataframe thead th {\n",
       "        text-align: right;\n",
       "    }\n",
       "</style>\n",
       "<table border=\"1\" class=\"dataframe\">\n",
       "  <thead>\n",
       "    <tr style=\"text-align: right;\">\n",
       "      <th></th>\n",
       "      <th>event_date</th>\n",
       "      <th>user_id</th>\n",
       "      <th>event_count</th>\n",
       "      <th>all_event_count</th>\n",
       "      <th>frequancy</th>\n",
       "    </tr>\n",
       "  </thead>\n",
       "  <tbody>\n",
       "    <tr>\n",
       "      <th>4426</th>\n",
       "      <td>2019-10-23</td>\n",
       "      <td>c9087b41-3e83-4551-ae77-7a107f992052</td>\n",
       "      <td>1</td>\n",
       "      <td>3361</td>\n",
       "      <td>0.029753</td>\n",
       "    </tr>\n",
       "    <tr>\n",
       "      <th>4338</th>\n",
       "      <td>2019-10-23</td>\n",
       "      <td>91c1b2c0-ca24-47e6-a524-7fee30d2bb6b</td>\n",
       "      <td>1</td>\n",
       "      <td>3361</td>\n",
       "      <td>0.029753</td>\n",
       "    </tr>\n",
       "    <tr>\n",
       "      <th>4340</th>\n",
       "      <td>2019-10-23</td>\n",
       "      <td>93aea700-d51d-41d4-a025-5b62ea21da22</td>\n",
       "      <td>1</td>\n",
       "      <td>3361</td>\n",
       "      <td>0.029753</td>\n",
       "    </tr>\n",
       "    <tr>\n",
       "      <th>4364</th>\n",
       "      <td>2019-10-23</td>\n",
       "      <td>9fcbcc9e-1bcf-4e77-a8a0-ecb663a5849a</td>\n",
       "      <td>1</td>\n",
       "      <td>3361</td>\n",
       "      <td>0.029753</td>\n",
       "    </tr>\n",
       "    <tr>\n",
       "      <th>4369</th>\n",
       "      <td>2019-10-23</td>\n",
       "      <td>a1587fa9-552f-4d5a-9dba-52e7f4e53996</td>\n",
       "      <td>1</td>\n",
       "      <td>3361</td>\n",
       "      <td>0.029753</td>\n",
       "    </tr>\n",
       "    <tr>\n",
       "      <th>...</th>\n",
       "      <td>...</td>\n",
       "      <td>...</td>\n",
       "      <td>...</td>\n",
       "      <td>...</td>\n",
       "      <td>...</td>\n",
       "    </tr>\n",
       "    <tr>\n",
       "      <th>972</th>\n",
       "      <td>2019-10-11</td>\n",
       "      <td>74041397-d70d-49ab-8d8e-7f9d00f2ffea</td>\n",
       "      <td>91</td>\n",
       "      <td>2030</td>\n",
       "      <td>4.482759</td>\n",
       "    </tr>\n",
       "    <tr>\n",
       "      <th>7429</th>\n",
       "      <td>2019-11-02</td>\n",
       "      <td>87a6fff9-134a-467d-a100-a606995025cd</td>\n",
       "      <td>91</td>\n",
       "      <td>1853</td>\n",
       "      <td>4.910955</td>\n",
       "    </tr>\n",
       "    <tr>\n",
       "      <th>1202</th>\n",
       "      <td>2019-10-12</td>\n",
       "      <td>c140f88a-c544-4ce6-a6bd-578a1a0d1b18</td>\n",
       "      <td>114</td>\n",
       "      <td>1843</td>\n",
       "      <td>6.185567</td>\n",
       "    </tr>\n",
       "    <tr>\n",
       "      <th>1419</th>\n",
       "      <td>2019-10-13</td>\n",
       "      <td>c140f88a-c544-4ce6-a6bd-578a1a0d1b18</td>\n",
       "      <td>169</td>\n",
       "      <td>2635</td>\n",
       "      <td>6.413662</td>\n",
       "    </tr>\n",
       "    <tr>\n",
       "      <th>327</th>\n",
       "      <td>2019-10-08</td>\n",
       "      <td>9ce63488-758a-481a-bcb5-a02b467e1d84</td>\n",
       "      <td>384</td>\n",
       "      <td>2499</td>\n",
       "      <td>15.366146</td>\n",
       "    </tr>\n",
       "  </tbody>\n",
       "</table>\n",
       "<p>7817 rows × 5 columns</p>\n",
       "</div>"
      ],
      "text/plain": [
       "     event_date                               user_id  event_count  \\\n",
       "4426 2019-10-23  c9087b41-3e83-4551-ae77-7a107f992052            1   \n",
       "4338 2019-10-23  91c1b2c0-ca24-47e6-a524-7fee30d2bb6b            1   \n",
       "4340 2019-10-23  93aea700-d51d-41d4-a025-5b62ea21da22            1   \n",
       "4364 2019-10-23  9fcbcc9e-1bcf-4e77-a8a0-ecb663a5849a            1   \n",
       "4369 2019-10-23  a1587fa9-552f-4d5a-9dba-52e7f4e53996            1   \n",
       "...         ...                                   ...          ...   \n",
       "972  2019-10-11  74041397-d70d-49ab-8d8e-7f9d00f2ffea           91   \n",
       "7429 2019-11-02  87a6fff9-134a-467d-a100-a606995025cd           91   \n",
       "1202 2019-10-12  c140f88a-c544-4ce6-a6bd-578a1a0d1b18          114   \n",
       "1419 2019-10-13  c140f88a-c544-4ce6-a6bd-578a1a0d1b18          169   \n",
       "327  2019-10-08  9ce63488-758a-481a-bcb5-a02b467e1d84          384   \n",
       "\n",
       "      all_event_count  frequancy  \n",
       "4426             3361   0.029753  \n",
       "4338             3361   0.029753  \n",
       "4340             3361   0.029753  \n",
       "4364             3361   0.029753  \n",
       "4369             3361   0.029753  \n",
       "...               ...        ...  \n",
       "972              2030   4.482759  \n",
       "7429             1853   4.910955  \n",
       "1202             1843   6.185567  \n",
       "1419             2635   6.413662  \n",
       "327              2499  15.366146  \n",
       "\n",
       "[7817 rows x 5 columns]"
      ]
     },
     "execution_count": 34,
     "metadata": {},
     "output_type": "execute_result"
    }
   ],
   "source": [
    "user_event = df.groupby(['event_date','user_id']).agg({'event_time':'count'}).reset_index()\n",
    "user_event.columns = ['event_date', 'user_id', 'event_count']\n",
    "user_event\n",
    "all_event=df.groupby(['event_date']).agg({'event_time':'count'}).reset_index()\n",
    "all_event.columns = ['event_date','all_event_count']\n",
    "freq_event=user_event.merge(all_event, on = ['event_date'], how = 'left')\n",
    "freq_event['frequancy']=freq_event['event_count']/freq_event['all_event_count']*100\n",
    "freq_event.sort_values('frequancy')"
   ]
  },
  {
   "cell_type": "code",
   "execution_count": 35,
   "metadata": {},
   "outputs": [
    {
     "data": {
      "image/png": "[encoded data removed]",
      "text/plain": [
       "<Figure size 1080x504 with 1 Axes>"
      ]
     },
     "metadata": {},
     "output_type": "display_data"
    },
    {
     "data": {
      "text/plain": [
       "count    7817.000000\n",
       "mean        9.491749\n",
       "std        12.557971\n",
       "min         1.000000\n",
       "25%         3.000000\n",
       "50%         6.000000\n",
       "75%        11.000000\n",
       "max       384.000000\n",
       "Name: event_count, dtype: float64"
      ]
     },
     "execution_count": 35,
     "metadata": {},
     "output_type": "execute_result"
    }
   ],
   "source": [
    "plt.figure(figsize=(15, 7))\n",
    "date=freq_event['event_date'].dt.date\n",
    "sns.barplot(data=freq_event, x=date, y='event_count', palette='pastel', ci=None)\n",
    "plt.title('Частота событий', fontsize = 15)\n",
    "plt.ylabel('кол-во действий', fontsize = 12)\n",
    "plt.xlabel('дата действий', fontsize = 12)\n",
    "plt.xticks(rotation=90)\n",
    "plt.show()\n",
    "freq_event['event_count'].describe()"
   ]
  },
  {
   "cell_type": "markdown",
   "metadata": {},
   "source": [
    "Проверим в какие дни были пиковые или мин значения"
   ]
  },
  {
   "cell_type": "code",
   "execution_count": 36,
   "metadata": {},
   "outputs": [
    {
     "data": {
      "image/png": "[encoded data removed]",
      "text/plain": [
       "<Figure size 1080x504 with 1 Axes>"
      ]
     },
     "metadata": {},
     "output_type": "display_data"
    }
   ],
   "source": [
    "freq_event['weekday']=freq_event['event_date'].dt.day_name()\n",
    "def day_week(x):\n",
    "    if 'Sunday' in x:\n",
    "        name = 'Воскресенье'\n",
    "        return name\n",
    "    elif 'Monday' in x:\n",
    "        name = 'Понедельник'  \n",
    "        return name\n",
    "    elif 'Tuesday' in x:\n",
    "        name = 'Вторник'\n",
    "        return name\n",
    "    elif 'Wednesday' in x:\n",
    "        name = 'Среда'\n",
    "        return name\n",
    "    elif 'Thursday' in x:\n",
    "        name = 'Четверг'\n",
    "        return name\n",
    "    elif 'Friday' in x:\n",
    "        name = 'Пятница'\n",
    "        return name\n",
    "    elif 'Saturday' in x:\n",
    "        name = 'Суббота'\n",
    "        return name\n",
    "    return x\n",
    "\n",
    "freq_event['weekday'] = freq_event['weekday'].apply(day_week)\n",
    "plt.figure(figsize=(15, 7))\n",
    "date=freq_event['weekday']\n",
    "sns.barplot(data=freq_event, x=date, y='event_count', palette='pastel', ci=None)\n",
    "plt.title('Частота событий по дням недели', fontsize = 15)\n",
    "plt.ylabel('кол-во действий', fontsize = 12)\n",
    "plt.xlabel('дата действий', fontsize = 12)\n",
    "plt.show()"
   ]
  },
  {
   "cell_type": "markdown",
   "metadata": {},
   "source": [
    "В целом частота событий равномерна по дням недели, нет резких провалов. ЧТ и ПТ чуть меньше событий, в ВС,ПН, ВТ чуть больше."
   ]
  },
  {
   "cell_type": "markdown",
   "metadata": {},
   "source": [
    "В среднем на пользователя в день приходится 9 действий (включая автоматические, без них 5), минимально 1 действие, максимально 384 (220 без учета авто действий) действий. В начале периода 7 и 8 октября событий было больше чем в следующие дни."
   ]
  },
  {
   "cell_type": "code",
   "execution_count": 37,
   "metadata": {},
   "outputs": [
    {
     "data": {
      "image/png": "[encoded data removed]",
      "text/plain": [
       "<Figure size 1080x504 with 1 Axes>"
      ]
     },
     "metadata": {},
     "output_type": "display_data"
    }
   ],
   "source": [
    "plt.figure(figsize=(15, 7))\n",
    "date=freq_event['event_date'].dt.date\n",
    "sns.barplot(data=freq_event, x=date, y='frequancy', palette='pastel', ci=None)\n",
    "plt.title('Относительная частота событий на пользователя', fontsize = 15)\n",
    "plt.ylabel('кол-во действий', fontsize = 12)\n",
    "plt.xlabel('дата действий', fontsize = 12)\n",
    "plt.xticks(rotation=90)\n",
    "plt.show()"
   ]
  },
  {
   "cell_type": "markdown",
   "metadata": {},
   "source": [
    "на одного пользователя приходится мене 0.6% всех событий в приложении. Странный всплеск 12 октября, при том что общая частота событий в этот день не выделялась."
   ]
  },
  {
   "cell_type": "markdown",
   "metadata": {},
   "source": [
    "Частота событий"
   ]
  },
  {
   "cell_type": "code",
   "execution_count": 38,
   "metadata": {},
   "outputs": [
    {
     "data": {
      "text/html": [
       "<div>\n",
       "<style scoped>\n",
       "    .dataframe tbody tr th:only-of-type {\n",
       "        vertical-align: middle;\n",
       "    }\n",
       "\n",
       "    .dataframe tbody tr th {\n",
       "        vertical-align: top;\n",
       "    }\n",
       "\n",
       "    .dataframe thead th {\n",
       "        text-align: right;\n",
       "    }\n",
       "</style>\n",
       "<table border=\"1\" class=\"dataframe\">\n",
       "  <thead>\n",
       "    <tr style=\"text-align: right;\">\n",
       "      <th></th>\n",
       "      <th>event_name</th>\n",
       "    </tr>\n",
       "  </thead>\n",
       "  <tbody>\n",
       "    <tr>\n",
       "      <th>tips_show</th>\n",
       "      <td>40055</td>\n",
       "    </tr>\n",
       "    <tr>\n",
       "      <th>photos_show</th>\n",
       "      <td>10012</td>\n",
       "    </tr>\n",
       "    <tr>\n",
       "      <th>search</th>\n",
       "      <td>6784</td>\n",
       "    </tr>\n",
       "    <tr>\n",
       "      <th>advert_open</th>\n",
       "      <td>6164</td>\n",
       "    </tr>\n",
       "    <tr>\n",
       "      <th>contacts_show</th>\n",
       "      <td>4529</td>\n",
       "    </tr>\n",
       "    <tr>\n",
       "      <th>map</th>\n",
       "      <td>3881</td>\n",
       "    </tr>\n",
       "    <tr>\n",
       "      <th>favorites_add</th>\n",
       "      <td>1417</td>\n",
       "    </tr>\n",
       "    <tr>\n",
       "      <th>tips_click</th>\n",
       "      <td>814</td>\n",
       "    </tr>\n",
       "    <tr>\n",
       "      <th>contacts_call</th>\n",
       "      <td>541</td>\n",
       "    </tr>\n",
       "  </tbody>\n",
       "</table>\n",
       "</div>"
      ],
      "text/plain": [
       "               event_name\n",
       "tips_show           40055\n",
       "photos_show         10012\n",
       "search               6784\n",
       "advert_open          6164\n",
       "contacts_show        4529\n",
       "map                  3881\n",
       "favorites_add        1417\n",
       "tips_click            814\n",
       "contacts_call         541"
      ]
     },
     "execution_count": 38,
     "metadata": {},
     "output_type": "execute_result"
    }
   ],
   "source": [
    "freq_events = df['event_name'].value_counts().to_frame()\n",
    "freq_events"
   ]
  },
  {
   "cell_type": "markdown",
   "metadata": {},
   "source": [
    "Самое частое событие автоматическое, показ пользователю рекомендованных объявлений. Целевое событие просмотр контактов находится на 5 месте по частоте."
   ]
  },
  {
   "cell_type": "code",
   "execution_count": 39,
   "metadata": {},
   "outputs": [
    {
     "data": {
      "image/png": "[encoded data removed]",
      "text/plain": [
       "<Figure size 720x504 with 1 Axes>"
      ]
     },
     "metadata": {},
     "output_type": "display_data"
    }
   ],
   "source": [
    "freq_events.plot(kind='bar', figsize=(10,7))\n",
    "plt.title('Частота событий в приложении', fontsize=20)\n",
    "plt.gca().set(xlabel='Типы событий', ylabel='Частота')\n",
    "plt.xticks(rotation=30)\n",
    "plt.show()"
   ]
  },
  {
   "cell_type": "markdown",
   "metadata": {},
   "source": [
    "График также подтверждает, что мах число событий у автоматического события tips_show."
   ]
  },
  {
   "cell_type": "markdown",
   "metadata": {},
   "source": [
    "### Конверсия в целевое действие — просмотр контактов"
   ]
  },
  {
   "cell_type": "markdown",
   "metadata": {},
   "source": [
    "Тут нам необходимо рачиать отношение числа целевых пользователей к общему числу пользователей приложения.\n",
    "Сначала расчитаем сколько раз пользователь совершал целевое действие.\n",
    "Для этого отфильтруем датасет по целевому действию, затем сгруппируем по пользоватлям."
   ]
  },
  {
   "cell_type": "code",
   "execution_count": 40,
   "metadata": {},
   "outputs": [],
   "source": [
    "conversion = df.query('event_name==\"contacts_show\"')\n",
    "conversion=conversion.groupby('user_id', as_index=False).agg({'event_name':'count'}).rename(columns={'event_name':'conv'})"
   ]
  },
  {
   "cell_type": "markdown",
   "metadata": {},
   "source": [
    "Нас интересует лишь факт целевого события, поэтому изменим значение столбца conv на 0 или 1"
   ]
  },
  {
   "cell_type": "code",
   "execution_count": 41,
   "metadata": {},
   "outputs": [],
   "source": [
    "def to_bool(x):\n",
    "    if x>0:\n",
    "        name = 1\n",
    "        return name\n",
    "    return x\n",
    "conversion['conv']=conversion['conv'].apply(to_bool)"
   ]
  },
  {
   "cell_type": "markdown",
   "metadata": {},
   "source": [
    "Добавим флажок целевого действия в исходный датасет, пропуски в столбце заполним нулями."
   ]
  },
  {
   "cell_type": "code",
   "execution_count": 42,
   "metadata": {},
   "outputs": [],
   "source": [
    "df=df.merge(conversion, on='user_id', how='left')\n",
    "df['conv']=df['conv'].fillna(0)"
   ]
  },
  {
   "cell_type": "code",
   "execution_count": 43,
   "metadata": {},
   "outputs": [
    {
     "name": "stdout",
     "output_type": "stream",
     "text": [
      "Общее число пользователей 4293\n",
      "Общее число пользователей с целевым действием 981\n",
      "Конверсия= 22.85 %\n"
     ]
    }
   ],
   "source": [
    "print('Общее число пользователей',len(df['user_id'].unique()))\n",
    "goal_users=df.query('conv==1')\n",
    "print('Общее число пользователей с целевым действием',len(goal_users['user_id'].unique()))\n",
    "print('Конверсия=',round(len(goal_users['user_id'].unique())/len(df['user_id'].unique())*100,2),'%')"
   ]
  },
  {
   "cell_type": "markdown",
   "metadata": {},
   "source": [
    "Конверсия 22.85%, есть над чем поработать для ее повышения."
   ]
  },
  {
   "cell_type": "markdown",
   "metadata": {},
   "source": [
    "<b>В этом разделе были проанализированы показатели:</b><br>\n",
    "    - Retention Rate у пользователей первых двух недель анализа показатель выше чем у следующих. Было замечено снижение коэффициента при увеличении lifetime.<br>\n",
    "    - Время, проведенное в приложении. Средняя продолжительность сессии 83 минуты.Большее число сессий не превышает 12 минут.<br> \n",
    "    - Частота событий в приложении, лидер tips_show, целевое событие на 5 месте.<br>\n",
    "    - Конверсия в целевое действие составляет 22.85%<br>\n",
    "    "
   ]
  },
  {
   "cell_type": "markdown",
   "metadata": {},
   "source": [
    "## Сегментировать пользователей на основе действий"
   ]
  },
  {
   "cell_type": "markdown",
   "metadata": {},
   "source": [
    "### Обоснование выбора сегментов"
   ]
  },
  {
   "cell_type": "markdown",
   "metadata": {},
   "source": [
    "Для разделения пользователей на группы существет много разных методик.\n",
    "Например ранее мы разбили на группы по недели регистрации, но такое разбиение нам мало что даст для продвижения к основной цели - улучшении показателей приложения.\n",
    "Можно разделить на пользоватлей по периоду активности утро/день/вечер/ночь. Метод рабочий, но тоже весьма условный. Если утренние пользоватлеи покажут результат лучше днеынх не будем же мы их будить пушами и приглашать в приложение. Плюс будет погрешность за счет смешения временнх поясов, т.к. даже в рамках нашей страны существую большие разницы во времени между регионами.\n",
    "Один из проверенных способов сегментации - по устройсву или по браузеру, например Android или Apple, но в исходных даных нет такой информации.\n",
    "Поэтому воспользуемся методом деления на 3 группы по источнику трафика - Yandex/ Google/ прочие.\n",
    "Этот метод по моему мнению выигрышен в том плане, мы можем рекламой влиять на размер групп. В итоге для маркетолога будет проще понять в какой канал проджвижения вкладывать средства, а вкладывать надо, т.к судя по данным, пользоватлей у приложения пока немного."
   ]
  },
  {
   "cell_type": "markdown",
   "metadata": {},
   "source": [
    "Выделим группы и проанализируем их размер"
   ]
  },
  {
   "cell_type": "code",
   "execution_count": 44,
   "metadata": {},
   "outputs": [
    {
     "name": "stdout",
     "output_type": "stream",
     "text": [
      "Размер групп:google: 1129 yandex 1934 прочие 1230 всего 4293\n",
      "Всего пользоватлей в датасете: 4293\n"
     ]
    }
   ],
   "source": [
    "google_all=df.query('source ==\"google\"').user_id.nunique()\n",
    "yandex_all=df.query('source ==\"yandex\"').user_id.nunique()\n",
    "others_all=df.query('source ==\"other\"').user_id.nunique()\n",
    "print('Размер групп:google:',google_all,'yandex', yandex_all,'прочие',others_all, 'всего',google_all+yandex_all+others_all)\n",
    "print('Всего пользоватлей в датасете:', df.user_id.nunique())"
   ]
  },
  {
   "cell_type": "markdown",
   "metadata": {},
   "source": [
    "Размер груп получился достаточно равномерный, все пользователи датасета распределены. <br>Проведем анализ Retention Rate и конверсии по группам."
   ]
  },
  {
   "cell_type": "markdown",
   "metadata": {},
   "source": [
    "### Расчитаем Retention Rate по группам"
   ]
  },
  {
   "cell_type": "markdown",
   "metadata": {},
   "source": [
    "Анализ уже ранее выполнялся выше, скопируем код для расчетов"
   ]
  },
  {
   "cell_type": "markdown",
   "metadata": {},
   "source": [
    "#### Расчитаем Retention Rate по группе google"
   ]
  },
  {
   "cell_type": "code",
   "execution_count": 45,
   "metadata": {},
   "outputs": [
    {
     "data": {
      "image/png": "[encoded data removed]",
      "text/plain": [
       "<Figure size 576x576 with 2 Axes>"
      ]
     },
     "metadata": {},
     "output_type": "display_data"
    }
   ],
   "source": [
    "cohort_g = df.query('source ==\"google\"').groupby(['cohort','lifetime']).agg({'user_id':'nunique'}).reset_index()\n",
    "cohort_g= cohort_g.rename(columns={'user_id':'act_users'})\n",
    "week0 = cohort_g[cohort_g['lifetime'] == 0][['cohort','act_users']]\n",
    "week0 = week0.rename(columns={'act_users':'all_users'})\n",
    "cohort_g = cohort_g.merge(week0,on='cohort')\n",
    "cohort_g['retention'] = round(cohort_g['act_users']/cohort_g['all_users'],2)\n",
    "cohort_g['cohort'] = cohort_g['cohort'].dt.date\n",
    "#cohort_g\n",
    "retention = cohort_g.pivot_table(index='cohort',columns='lifetime',values='retention',aggfunc='sum')\n",
    "sns.set(style='white')\n",
    "plt.figure(figsize=(8, 8))\n",
    "plt.title('Retention rate google')\n",
    "sns.heatmap(retention, annot=True, fmt='.1%', linewidths=1, linecolor='gray');\n",
    "plt.show()"
   ]
  },
  {
   "cell_type": "markdown",
   "metadata": {},
   "source": [
    "Мах показатель 23% для пользователей с 14 по 20 октября. Для пользователей 3ьей недели показатель ниже общего. С увеличением lifetime показатель падает"
   ]
  },
  {
   "cell_type": "markdown",
   "metadata": {},
   "source": [
    "#### Расчитаем Retention Rate по группе yandex"
   ]
  },
  {
   "cell_type": "code",
   "execution_count": 46,
   "metadata": {},
   "outputs": [
    {
     "data": {
      "image/png": "[encoded data removed]",
      "text/plain": [
       "<Figure size 576x576 with 2 Axes>"
      ]
     },
     "metadata": {},
     "output_type": "display_data"
    }
   ],
   "source": [
    "cohort_y = df.query('source ==\"yandex\"').groupby(['cohort','lifetime']).agg({'user_id':'nunique'}).reset_index()\n",
    "cohort_y= cohort_y.rename(columns={'user_id':'act_users'})\n",
    "week0 = cohort_y[cohort_y['lifetime'] == 0][['cohort','act_users']]\n",
    "week0 = week0.rename(columns={'act_users':'all_users'})\n",
    "cohort_y = cohort_y.merge(week0,on='cohort')\n",
    "cohort_y['retention'] = round(cohort_y['act_users']/cohort_y['all_users'],2)\n",
    "cohort_y['cohort'] = cohort_y['cohort'].dt.date\n",
    "retention = cohort_y.pivot_table(index='cohort',columns='lifetime',values='retention',aggfunc='sum')\n",
    "sns.set(style='white')\n",
    "plt.figure(figsize=(8, 8))\n",
    "plt.title('Retention rate yandex')\n",
    "sns.heatmap(retention, annot=True, fmt='.1%', linewidths=1, linecolor='gray');\n",
    "plt.show()"
   ]
  },
  {
   "cell_type": "markdown",
   "metadata": {},
   "source": [
    "Мах показатель 25% для пользователей двух недель с 7 по 20 октября. Для lifetime = одной неделе показатель выше обшего. С увеличением lifetime показатель падает"
   ]
  },
  {
   "cell_type": "markdown",
   "metadata": {},
   "source": [
    "4.2.3  Расчитаем Retention Rate по группе others"
   ]
  },
  {
   "cell_type": "code",
   "execution_count": 47,
   "metadata": {},
   "outputs": [
    {
     "data": {
      "image/png": "[encoded data removed]",
      "text/plain": [
       "<Figure size 576x576 with 2 Axes>"
      ]
     },
     "metadata": {},
     "output_type": "display_data"
    }
   ],
   "source": [
    "cohort_o = df.query('source ==\"other\"').groupby(['cohort','lifetime']).agg({'user_id':'nunique'}).reset_index()\n",
    "cohort_o= cohort_o.rename(columns={'user_id':'act_users'})\n",
    "week0 = cohort_o[cohort_o['lifetime'] == 0][['cohort','act_users']]\n",
    "week0 = week0.rename(columns={'act_users':'all_users'})\n",
    "cohort_o = cohort_o.merge(week0,on='cohort')\n",
    "cohort_o['retention'] = round(cohort_o['act_users']/cohort_o['all_users'],2)\n",
    "cohort_o['cohort'] = cohort_o['cohort'].dt.date\n",
    "retention = cohort_o.pivot_table(index='cohort',columns='lifetime',values='retention',aggfunc='sum')\n",
    "sns.set(style='white')\n",
    "plt.figure(figsize=(8, 8))\n",
    "plt.title('Retention rate прочие')\n",
    "sns.heatmap(retention, annot=True, fmt='.1%', linewidths=1, linecolor='gray');\n",
    "plt.show()"
   ]
  },
  {
   "cell_type": "markdown",
   "metadata": {},
   "source": [
    "Мах показатель 25% для пользователей с 7 по 13 октября. Для 3ьей недели показатель ниже общего. С увеличением lifetime показатель падает. Интересный факт, что при увеличении lifetime показатель падает меньше чем общий и чем у google и yandex. На 3ью неделю 13% против 9% yandex и 10% google."
   ]
  },
  {
   "cell_type": "markdown",
   "metadata": {},
   "source": [
    "В целом можно отметить, что при lifetime = одной неделе показатели лучше у yandex. При увеличении lifetime лидирует источник прочие."
   ]
  },
  {
   "cell_type": "markdown",
   "metadata": {},
   "source": [
    "### Рассчитаем конверсию по группам"
   ]
  },
  {
   "cell_type": "code",
   "execution_count": 48,
   "metadata": {},
   "outputs": [
    {
     "name": "stdout",
     "output_type": "stream",
     "text": [
      "Размер групп:google: 1129 yandex 1934 прочие 1230\n",
      "Размер целевых групп:google: 275 yandex 478 прочие 228\n",
      "Конверсия google 24.36\n",
      "Конверсия yandex 24.72\n",
      "Конверсия other 18.54\n"
     ]
    }
   ],
   "source": [
    "google_goal=df.query('source ==\"google\" and  conv==1').user_id.nunique()\n",
    "google_cov=google_goal/google_all\n",
    "yandex_goal=df.query('source ==\"yandex\" and conv==1').user_id.nunique()\n",
    "yandex_conv=yandex_goal/yandex_all\n",
    "others_goal=df.query('source ==\"other\" and conv==1').user_id.nunique()\n",
    "others_conv=others_goal/others_all\n",
    "print('Размер групп:google:',google_all,'yandex', yandex_all,'прочие',others_all)\n",
    "print('Размер целевых групп:google:',google_goal,'yandex', yandex_goal,'прочие',others_goal)\n",
    "print('Конверсия google',round(google_cov*100,2))\n",
    "print('Конверсия yandex',round(yandex_conv*100,2))\n",
    "print('Конверсия other',round(others_conv*100,2))"
   ]
  },
  {
   "cell_type": "markdown",
   "metadata": {},
   "source": [
    "В целом получился ожидаемый результат, конверсия у групп, пришедших с раскрученных поисковиков выше чем с других источников.\n",
    "Мы анализируем данные за 19 год, тогда еще google не ушел из страны из-за санкций, поэтому маркетологам рекомендуем привлекать пользоватлей через каналы yandex и google. Далее с статичтическом тесте мы определим, что между групами google и yandex нет статистически значимых различий в конверсию, поэтому выбирать канал нужно будет с учетом анализа финансовых условий площадок по стоимости привлечения пользовталя."
   ]
  },
  {
   "cell_type": "markdown",
   "metadata": {},
   "source": [
    "## Проверим статистические гипотезы"
   ]
  },
  {
   "cell_type": "markdown",
   "metadata": {},
   "source": [
    "### Некоторые пользователи установили приложение по ссылке из yandex, другие — из google. Проверить гипотезу: две эти группы демонстрируют разную конверсию в просмотры контактов."
   ]
  },
  {
   "cell_type": "markdown",
   "metadata": {},
   "source": [
    "Гипотезы:<br>\n",
    "H0: статистически значимых различий между группами нет<br>\n",
    "H1: статистически значимые различия между группами есть<br>"
   ]
  },
  {
   "cell_type": "markdown",
   "metadata": {},
   "source": [
    "Посчитаем пользователей групп и целевых пользователей в группах"
   ]
  },
  {
   "cell_type": "code",
   "execution_count": 49,
   "metadata": {},
   "outputs": [],
   "source": [
    "ya = df.query('source ==\"yandex\" and event_name == \"contacts_show\"').user_id.nunique()\n",
    "ya_all=df.query('source ==\"yandex\"').user_id.nunique()\n",
    "gg = df.query('source ==\"google\" and event_name == \"contacts_show\"').user_id.nunique()\n",
    "gg_all=df.query('source ==\"google\"').user_id.nunique()"
   ]
  },
  {
   "cell_type": "code",
   "execution_count": 50,
   "metadata": {},
   "outputs": [],
   "source": [
    "def test(first, second, all_f, all_s, al):  \n",
    "    \"\"\" Функция для проверки гипотез\n",
    "    \n",
    "    first- первая группа\n",
    "    second-вторая группа\n",
    "    all_f -всего в первой группе\n",
    "    all_s- всего во второй группе\n",
    "    al - уровень стат. значимости альфа\n",
    "    \"\"\"\n",
    "    alpha = al  # критический уровень статистической значимости\n",
    "    p1 = first / all_f \n",
    "    p2 = second / all_s \n",
    "    p_combined = (first + second) / (all_f + all_s) \n",
    "    difference = p1 - p2 \n",
    "    z_value = difference / mth.sqrt(p_combined * (1 - p_combined) * (1/all_f + 1/all_s))\n",
    "    # задаем стандартное нормальное распределение (среднее 0, ст.отклонение 1)\n",
    "    distr = st.norm(0, 1) \n",
    "    p_value = (1 - distr.cdf(abs(z_value))) * 2\n",
    "    if p_value < al:\n",
    "        result='Отвергаем нулевую гипотезу'\n",
    "    else:\n",
    "        result='Не получилось отвергнуть нулевую гипотезу'\n",
    "    return print('Группы',gr_1,'и',gr_2, ', alpha=',al,' p-value=',round(p_value,4), result)"
   ]
  },
  {
   "cell_type": "code",
   "execution_count": 51,
   "metadata": {},
   "outputs": [
    {
     "name": "stdout",
     "output_type": "stream",
     "text": [
      "Конверсия в contacts_show, с источника google: 24.00%\n",
      "Конверсия в contacts_show, с источника yandex: 25.00%\n",
      "Группы google и yandex , alpha= 0.5  p-value= 0.8244 Не получилось отвергнуть нулевую гипотезу\n"
     ]
    }
   ],
   "source": [
    "gr_1 = 'google'\n",
    "gg_conv=gg/gg_all\n",
    "gr_2 = 'yandex'\n",
    "ya_conv=ya/ya_all\n",
    "print(f'Конверсия в contacts_show, с источника google: {round(gg_conv,2):.2%}')  \n",
    "print(f'Конверсия в contacts_show, с источника yandex: {round(ya_conv,2):.2%}')\n",
    "p_value_result=test(gg,ya,gg_all,ya_all,0.5)"
   ]
  },
  {
   "cell_type": "markdown",
   "metadata": {},
   "source": [
    "### Пользователи, просмотревшие фото и не просмотревшие демонстрируют разную конверсию в просмотры контактов. Проведем статистический тест."
   ]
  },
  {
   "cell_type": "markdown",
   "metadata": {},
   "source": [
    "Гипотезы:<br>\n",
    "H0: статистически значимых различий между группами нет<br>\n",
    "H1: статистически значимые различия между группами есть<br>"
   ]
  },
  {
   "cell_type": "markdown",
   "metadata": {},
   "source": [
    "Добавим целевой признак photos_show в исходный датасет"
   ]
  },
  {
   "cell_type": "code",
   "execution_count": 52,
   "metadata": {},
   "outputs": [],
   "source": [
    "photos = df.query('event_name==\"photos_show\"')\n",
    "photos=photos.groupby('user_id', as_index=False).agg({'event_name':'count'}).rename(columns={'event_name':'photos_show'})\n",
    "photos['photos_show']=photos['photos_show'].apply(to_bool)\n",
    "df=df.merge(photos, on='user_id', how='left')\n",
    "df['photos_show']=df['photos_show'].fillna(0)"
   ]
  },
  {
   "cell_type": "code",
   "execution_count": 53,
   "metadata": {},
   "outputs": [],
   "source": [
    "users_by_photos = df.groupby('photos_show').agg({'user_id':'count'}).reset_index()"
   ]
  },
  {
   "cell_type": "markdown",
   "metadata": {},
   "source": [
    "Посчитаем пользователей групп и целевых пользователей в группах"
   ]
  },
  {
   "cell_type": "code",
   "execution_count": 55,
   "metadata": {},
   "outputs": [],
   "source": [
    "photos_show_all = df.query('photos_show == 1').user_id.nunique()\n",
    "no_photos_show_all = df.query('photos_show == 0').user_id.nunique()\n",
    "photos_show_conv = df.query('event_name==\"contacts_show\" and photos_show==1').user_id.nunique()\n",
    "no_photos_show_conv = df.query('event_name==\"contacts_show\" and photos_show==0').user_id.nunique()"
   ]
  },
  {
   "cell_type": "code",
   "execution_count": 56,
   "metadata": {},
   "outputs": [
    {
     "name": "stdout",
     "output_type": "stream",
     "text": [
      "Конверсия в contacts_show, пользователей смотревших фото: 31.00%\n",
      "Конверсия в contacts_show, пользователей не смотревших фото: 20.00%\n",
      "Группы просмотрели фото и не просмотрели фото , alpha= 0.05  p-value= 0.0 Отвергаем нулевую гипотезу\n"
     ]
    }
   ],
   "source": [
    "gr_1 = 'просмотрели фото'\n",
    "gr1_conv=photos_show_conv/photos_show_all\n",
    "gr_2 = 'не просмотрели фото'\n",
    "gr2_conv=no_photos_show_conv/no_photos_show_all\n",
    "print(f'Конверсия в contacts_show, пользователей смотревших фото: {round(gr1_conv,2):.2%}')  \n",
    "print(f'Конверсия в contacts_show, пользователей не смотревших фото: {round(gr2_conv,2):.2%}')\n",
    "p_value_result =test(photos_show_conv, no_photos_show_conv, photos_show_all, no_photos_show_all, 0.05)"
   ]
  },
  {
   "cell_type": "markdown",
   "metadata": {},
   "source": [
    "p-value получился ничтожно малым, поэтому при округлении он отображается нулями."
   ]
  },
  {
   "cell_type": "markdown",
   "metadata": {},
   "source": [
    "В данном разделе было проверены гипотезы:<br>\n",
    "1.источник трафика вляет на целевое дестыие - статистически значимых различий между группами yandex и google нет, конверсия у групп почти одинакова.<br>\n",
    "2.просмотр фото влияет на конверсию. Статистически значимые различия между группами есть, пользователи просматривающие фото, чаще просматривают контакты. Этот критерий можно использовать для увеличения конверсии,например рекомендовать пользоватлея размещать фото, т.к. без них объявление менее заметно и меньше просмотров контактов."
   ]
  },
  {
   "cell_type": "markdown",
   "metadata": {},
   "source": [
    "## Выводы и ответы на основные вопросы исследования"
   ]
  },
  {
   "cell_type": "markdown",
   "metadata": {},
   "source": [
    "На прошлом месте работы мне довелось несколько лет руководить разработкой и внедренем подобного приложения для продажи товаров и услуг, поэтому часть выводов опирается на собственный опыт в продвижении.<br>\n",
    "1. У приложения низкий коэффициент удержания пользователей, 10% на 3ью неделю использования. Возможно необходимо поработать над удобством интерфейса или проанализировать ошибки в приложении.<br>\n",
    "2. Среднее время, проведенное в приложении чуть менее 12 минут - неплохой показатель, но при этом пользовтали мало пользуются поиском, возможно он не удобен.<br>\n",
    "3. Наиболее частое действие в приложении автоматическое, tips_show (показа рекоментаций). 40055 раз, при этом целевое действие 4529 раз. Возникает вопрос, а правильно ли система предлагает пользователю рекомендации. Если просто показвать группу новых или премиум объявлений, толку будет мало. Имеет эффект показ рекомендации на основе прошлых поисков (интересов) пользователя.<br>\n",
    "4. Поиск в приложении выделю в отдельный пункт. Суммарно пользоватлеи искользовали поиск 6784 раз. Показ рекомендаций 40055 раз. Клиенты мало пользуются поиском! Неудобный поиск был одной из ошибок при продвижении мной приложения, если пользователи не могли быстро найти то что им нужно, они уходили и уже не возвращались в приложение.<br> Проблему частично решила система  полнотекстового поиска Sphinx, которая ищет также на основе словоформ. Вторым действием по оптимизации, была рекомендация разместить бесплатно свое объявление на странице с нулевыми результатами поиска, таким образом заполнялась ниша товаров, которых нет в приложении и коэффициент удачных поисков превысил 80%. <br>\n",
    "5. Показатель конверсии в целевое действие 22.85 % в целом слабый. Возможно виной плохо сделанный поиск по сайту или рекомендации без учета интересов.<br>\n",
    "6. Был произведен анализ с разбивкой на источники трафика групп пользователей, он показал, что конверсия выше у пользователей Yandex и Google. При том что Retention Rate выше у Yandex чем у Google, маркетологам стоит обратить внимание на продвижение именно в этой поисковой системе. В данных непонятно что за 3й источник привлечения Other. Если это SEO канал, то его тоже нужно развивать.SEO оптимаизация обходится компании дешевле чем платное привлечение, поэтому даже при более низкой конверсии прочих каналов, нужно не забывать про SEO.<br>\n",
    "7. Была проверена гипотеза о разности кноверсии у групп пользоватлей каналов Google и Yandex. Статистически значимой разницы между этими группами нет, поэтому в рамках исследования на 19 год можно также рекомендовать продвижение в канале Google, тут уже понадобится дополнительно исследование по стоимости првлечения пользователя.<br>\n",
    "8. Была проверена гипотеза о разности конверсии у групп пользоватлей с просмотром фото и без. Эта гипотеза была выдвинута на основе собственного опыта. Объявления с фотографиями в разы повышают привлекательность товара и тем самым стимулируют на целевое действие. Можно в качестве рекомендации на странице размещения объявления сообщать эту информацию пользователю.<br>\n",
    "9. При анализе были выявлены нулевые сессии. Разбивка на сессии была проведена условно в рамках дня, для более подобного анализа нужны данные о реальных сессиях, но наличие нулевых сессий может свидетельствовать о сбоях в прложении.<br>\n",
    "10. В рамках данного исследования мы не затрагивали монетизацию, т.к. нет данных и не было задачи анализа. Возможно приложение еще молодое и для раскрутки монетизация выключена. Как один из инсайтов из собственного опыта - мощным инструментом повышения привлекательности приложения стала безопасная сделка. Покупатели охотнее идут на сделку, когда платформа гарантирует ему сохранность денег до получения товара, конверсия в целевое действие резко возрастает."
   ]
  },
  {
   "cell_type": "markdown",
   "metadata": {},
   "source": [
    "## Презентация"
   ]
  },
  {
   "cell_type": "markdown",
   "metadata": {},
   "source": [
    "Ссылка на презентацию: https://disk.yandex.ru/i/FE7Bhmd3JtedmQ\n",
    "Ссылка на дашборд:     https://clck.ru/33hMYY"
   ]
  }
 ],
 "metadata": {
  "ExecuteTimeLog": [
   {
    "duration": 1619,
    "start_time": "2023-03-05T05:31:15.726Z"
   },
   {
    "duration": 531,
    "start_time": "2023-03-05T05:31:37.069Z"
   },
   {
    "duration": 13,
    "start_time": "2023-03-05T05:32:18.022Z"
   },
   {
    "duration": 18,
    "start_time": "2023-03-05T05:32:29.823Z"
   },
   {
    "duration": 7,
    "start_time": "2023-03-05T05:32:53.207Z"
   },
   {
    "duration": 10,
    "start_time": "2023-03-05T05:33:03.801Z"
   },
   {
    "duration": 4,
    "start_time": "2023-03-05T05:34:01.075Z"
   },
   {
    "duration": 18,
    "start_time": "2023-03-05T05:34:31.867Z"
   },
   {
    "duration": 33,
    "start_time": "2023-03-05T05:34:53.181Z"
   },
   {
    "duration": 35,
    "start_time": "2023-03-05T05:35:18.984Z"
   },
   {
    "duration": 6,
    "start_time": "2023-03-05T05:35:27.763Z"
   },
   {
    "duration": 18,
    "start_time": "2023-03-05T05:35:37.631Z"
   },
   {
    "duration": 20,
    "start_time": "2023-03-05T05:35:56.109Z"
   },
   {
    "duration": 10,
    "start_time": "2023-03-05T05:36:02.320Z"
   },
   {
    "duration": 169,
    "start_time": "2023-03-05T05:36:14.567Z"
   },
   {
    "duration": 9,
    "start_time": "2023-03-05T05:36:39.613Z"
   },
   {
    "duration": 10,
    "start_time": "2023-03-05T05:36:59.521Z"
   },
   {
    "duration": 23,
    "start_time": "2023-03-05T05:37:20.832Z"
   },
   {
    "duration": 12,
    "start_time": "2023-03-05T05:37:30.037Z"
   },
   {
    "duration": 3,
    "start_time": "2023-03-05T05:38:14.586Z"
   },
   {
    "duration": 55,
    "start_time": "2023-03-05T05:39:09.015Z"
   },
   {
    "duration": 37,
    "start_time": "2023-03-05T05:39:31.897Z"
   },
   {
    "duration": 7,
    "start_time": "2023-03-05T05:39:51.833Z"
   },
   {
    "duration": 25,
    "start_time": "2023-03-05T05:40:11.207Z"
   },
   {
    "duration": 92,
    "start_time": "2023-03-05T05:40:18.404Z"
   },
   {
    "duration": 10,
    "start_time": "2023-03-05T05:40:31.777Z"
   },
   {
    "duration": 5,
    "start_time": "2023-03-05T05:40:39.996Z"
   },
   {
    "duration": 460,
    "start_time": "2023-03-05T05:40:58.069Z"
   },
   {
    "duration": 51,
    "start_time": "2023-03-05T05:42:03.681Z"
   },
   {
    "duration": 356,
    "start_time": "2023-03-05T05:42:12.322Z"
   },
   {
    "duration": 16,
    "start_time": "2023-03-05T05:43:19.508Z"
   },
   {
    "duration": 12,
    "start_time": "2023-03-05T05:44:20.220Z"
   },
   {
    "duration": 9,
    "start_time": "2023-03-05T05:44:39.121Z"
   },
   {
    "duration": 9,
    "start_time": "2023-03-05T05:44:47.187Z"
   },
   {
    "duration": 16,
    "start_time": "2023-03-05T05:44:57.767Z"
   },
   {
    "duration": 162,
    "start_time": "2023-03-05T05:45:48.503Z"
   },
   {
    "duration": 12,
    "start_time": "2023-03-05T05:46:22.991Z"
   },
   {
    "duration": 42,
    "start_time": "2023-03-05T05:47:33.875Z"
   },
   {
    "duration": 465,
    "start_time": "2023-03-05T05:47:44.810Z"
   },
   {
    "duration": 425,
    "start_time": "2023-03-05T05:48:15.385Z"
   },
   {
    "duration": 29,
    "start_time": "2023-03-05T05:48:52.928Z"
   },
   {
    "duration": 252,
    "start_time": "2023-03-05T05:49:13.533Z"
   },
   {
    "duration": 19,
    "start_time": "2023-03-05T05:50:13.650Z"
   },
   {
    "duration": 6,
    "start_time": "2023-03-05T05:50:31.484Z"
   },
   {
    "duration": 37,
    "start_time": "2023-03-05T05:50:48.571Z"
   },
   {
    "duration": 48,
    "start_time": "2023-03-05T05:51:26.187Z"
   },
   {
    "duration": 3,
    "start_time": "2023-03-05T07:35:42.377Z"
   },
   {
    "duration": 47,
    "start_time": "2023-03-05T07:36:33.676Z"
   },
   {
    "duration": 3,
    "start_time": "2023-03-05T07:37:29.529Z"
   },
   {
    "duration": 407,
    "start_time": "2023-03-05T07:37:56.511Z"
   },
   {
    "duration": 396,
    "start_time": "2023-03-05T07:38:32.800Z"
   },
   {
    "duration": 389,
    "start_time": "2023-03-05T07:39:09.939Z"
   },
   {
    "duration": 30,
    "start_time": "2023-03-05T07:40:23.330Z"
   },
   {
    "duration": 56,
    "start_time": "2023-03-05T07:41:36.549Z"
   },
   {
    "duration": 7,
    "start_time": "2023-03-05T07:41:50.391Z"
   },
   {
    "duration": 10,
    "start_time": "2023-03-05T07:42:00.046Z"
   },
   {
    "duration": 38,
    "start_time": "2023-03-05T07:43:04.403Z"
   },
   {
    "duration": 13,
    "start_time": "2023-03-05T07:43:14.740Z"
   },
   {
    "duration": 43,
    "start_time": "2023-03-05T07:43:33.926Z"
   },
   {
    "duration": 8,
    "start_time": "2023-03-05T07:44:15.026Z"
   },
   {
    "duration": 1248,
    "start_time": "2023-03-05T14:17:22.318Z"
   },
   {
    "duration": 118,
    "start_time": "2023-03-05T14:17:23.568Z"
   },
   {
    "duration": 14,
    "start_time": "2023-03-05T14:17:23.688Z"
   },
   {
    "duration": 25,
    "start_time": "2023-03-05T14:17:23.704Z"
   },
   {
    "duration": 23,
    "start_time": "2023-03-05T14:17:23.731Z"
   },
   {
    "duration": 27,
    "start_time": "2023-03-05T14:17:23.755Z"
   },
   {
    "duration": 4,
    "start_time": "2023-03-05T14:17:23.784Z"
   },
   {
    "duration": 21,
    "start_time": "2023-03-05T14:17:23.790Z"
   },
   {
    "duration": 22,
    "start_time": "2023-03-05T14:17:23.813Z"
   },
   {
    "duration": 26,
    "start_time": "2023-03-05T14:17:23.838Z"
   },
   {
    "duration": 7,
    "start_time": "2023-03-05T14:17:23.866Z"
   },
   {
    "duration": 23,
    "start_time": "2023-03-05T14:17:23.874Z"
   },
   {
    "duration": 48,
    "start_time": "2023-03-05T14:17:23.899Z"
   },
   {
    "duration": 25,
    "start_time": "2023-03-05T14:17:23.949Z"
   },
   {
    "duration": 164,
    "start_time": "2023-03-05T14:17:23.976Z"
   },
   {
    "duration": 7,
    "start_time": "2023-03-05T14:17:24.142Z"
   },
   {
    "duration": 13,
    "start_time": "2023-03-05T14:17:24.151Z"
   },
   {
    "duration": 36,
    "start_time": "2023-03-05T14:17:24.166Z"
   },
   {
    "duration": 18,
    "start_time": "2023-03-05T14:17:24.203Z"
   },
   {
    "duration": 43,
    "start_time": "2023-03-05T14:17:24.223Z"
   },
   {
    "duration": 41,
    "start_time": "2023-03-05T14:17:24.268Z"
   },
   {
    "duration": 8,
    "start_time": "2023-03-05T14:17:24.321Z"
   },
   {
    "duration": 36,
    "start_time": "2023-03-05T14:17:24.331Z"
   },
   {
    "duration": 9,
    "start_time": "2023-03-05T14:17:24.370Z"
   },
   {
    "duration": 24,
    "start_time": "2023-03-05T14:17:24.381Z"
   },
   {
    "duration": 525,
    "start_time": "2023-03-05T14:17:24.407Z"
   },
   {
    "duration": 52,
    "start_time": "2023-03-05T14:17:24.934Z"
   },
   {
    "duration": 522,
    "start_time": "2023-03-05T14:17:24.990Z"
   },
   {
    "duration": 21,
    "start_time": "2023-03-05T14:17:25.513Z"
   },
   {
    "duration": 11,
    "start_time": "2023-03-05T14:17:25.535Z"
   },
   {
    "duration": 158,
    "start_time": "2023-03-05T14:17:25.547Z"
   },
   {
    "duration": 20,
    "start_time": "2023-03-05T14:17:25.706Z"
   },
   {
    "duration": 40,
    "start_time": "2023-03-05T14:17:25.728Z"
   },
   {
    "duration": 601,
    "start_time": "2023-03-05T14:17:25.769Z"
   },
   {
    "duration": 593,
    "start_time": "2023-03-05T14:17:26.372Z"
   },
   {
    "duration": 18,
    "start_time": "2023-03-05T14:17:26.967Z"
   },
   {
    "duration": 434,
    "start_time": "2023-03-05T14:17:26.987Z"
   },
   {
    "duration": 13,
    "start_time": "2023-03-05T14:17:27.423Z"
   },
   {
    "duration": 5,
    "start_time": "2023-03-05T14:17:27.438Z"
   },
   {
    "duration": 30,
    "start_time": "2023-03-05T14:17:27.445Z"
   },
   {
    "duration": 62,
    "start_time": "2023-03-05T14:17:27.476Z"
   },
   {
    "duration": 44,
    "start_time": "2023-03-05T14:17:27.539Z"
   },
   {
    "duration": 455,
    "start_time": "2023-03-05T14:17:27.584Z"
   },
   {
    "duration": 442,
    "start_time": "2023-03-05T14:17:28.041Z"
   },
   {
    "duration": 429,
    "start_time": "2023-03-05T14:17:28.485Z"
   },
   {
    "duration": 29,
    "start_time": "2023-03-05T14:17:28.916Z"
   },
   {
    "duration": 34,
    "start_time": "2023-03-05T14:17:28.946Z"
   },
   {
    "duration": 6,
    "start_time": "2023-03-05T14:17:28.982Z"
   },
   {
    "duration": 34,
    "start_time": "2023-03-05T14:17:28.989Z"
   },
   {
    "duration": 34,
    "start_time": "2023-03-05T14:17:29.025Z"
   },
   {
    "duration": 8,
    "start_time": "2023-03-05T14:17:29.061Z"
   },
   {
    "duration": 61,
    "start_time": "2023-03-05T14:17:29.071Z"
   },
   {
    "duration": 7,
    "start_time": "2023-03-05T14:17:29.134Z"
   },
   {
    "duration": 1406,
    "start_time": "2023-03-05T14:25:05.415Z"
   },
   {
    "duration": 139,
    "start_time": "2023-03-05T14:25:06.824Z"
   },
   {
    "duration": 15,
    "start_time": "2023-03-05T14:25:06.964Z"
   },
   {
    "duration": 22,
    "start_time": "2023-03-05T14:25:06.982Z"
   },
   {
    "duration": 19,
    "start_time": "2023-03-05T14:25:07.006Z"
   },
   {
    "duration": 10,
    "start_time": "2023-03-05T14:25:07.027Z"
   },
   {
    "duration": 5,
    "start_time": "2023-03-05T14:25:07.038Z"
   },
   {
    "duration": 24,
    "start_time": "2023-03-05T14:25:07.044Z"
   },
   {
    "duration": 20,
    "start_time": "2023-03-05T14:25:07.070Z"
   },
   {
    "duration": 25,
    "start_time": "2023-03-05T14:25:07.120Z"
   },
   {
    "duration": 9,
    "start_time": "2023-03-05T14:25:07.147Z"
   },
   {
    "duration": 17,
    "start_time": "2023-03-05T14:25:07.158Z"
   },
   {
    "duration": 51,
    "start_time": "2023-03-05T14:25:07.177Z"
   },
   {
    "duration": 10,
    "start_time": "2023-03-05T14:25:07.230Z"
   },
   {
    "duration": 223,
    "start_time": "2023-03-05T14:25:07.242Z"
   },
   {
    "duration": 9,
    "start_time": "2023-03-05T14:25:07.466Z"
   },
   {
    "duration": 8,
    "start_time": "2023-03-05T14:25:07.476Z"
   },
   {
    "duration": 40,
    "start_time": "2023-03-05T14:25:07.486Z"
   },
   {
    "duration": 8,
    "start_time": "2023-03-05T14:25:07.528Z"
   },
   {
    "duration": 41,
    "start_time": "2023-03-05T14:25:07.538Z"
   },
   {
    "duration": 65,
    "start_time": "2023-03-05T14:25:07.581Z"
   },
   {
    "duration": 8,
    "start_time": "2023-03-05T14:25:07.648Z"
   },
   {
    "duration": 25,
    "start_time": "2023-03-05T14:25:07.658Z"
   },
   {
    "duration": 39,
    "start_time": "2023-03-05T14:25:07.685Z"
   },
   {
    "duration": 7,
    "start_time": "2023-03-05T14:25:07.726Z"
   },
   {
    "duration": 532,
    "start_time": "2023-03-05T14:25:07.735Z"
   },
   {
    "duration": 86,
    "start_time": "2023-03-05T14:25:08.269Z"
   },
   {
    "duration": 536,
    "start_time": "2023-03-05T14:25:08.361Z"
   },
   {
    "duration": 25,
    "start_time": "2023-03-05T14:25:08.898Z"
   },
   {
    "duration": 12,
    "start_time": "2023-03-05T14:25:08.925Z"
   },
   {
    "duration": 190,
    "start_time": "2023-03-05T14:25:08.939Z"
   },
   {
    "duration": 16,
    "start_time": "2023-03-05T14:25:09.132Z"
   },
   {
    "duration": 45,
    "start_time": "2023-03-05T14:25:09.150Z"
   },
   {
    "duration": 707,
    "start_time": "2023-03-05T14:25:09.197Z"
   },
   {
    "duration": 746,
    "start_time": "2023-03-05T14:25:09.906Z"
   },
   {
    "duration": 12,
    "start_time": "2023-03-05T14:25:10.654Z"
   },
   {
    "duration": 466,
    "start_time": "2023-03-05T14:25:10.668Z"
   },
   {
    "duration": 12,
    "start_time": "2023-03-05T14:25:11.135Z"
   },
   {
    "duration": 4,
    "start_time": "2023-03-05T14:25:11.149Z"
   },
   {
    "duration": 24,
    "start_time": "2023-03-05T14:25:11.155Z"
   },
   {
    "duration": 58,
    "start_time": "2023-03-05T14:25:11.181Z"
   },
   {
    "duration": 42,
    "start_time": "2023-03-05T14:25:11.241Z"
   },
   {
    "duration": 449,
    "start_time": "2023-03-05T14:25:11.285Z"
   },
   {
    "duration": 508,
    "start_time": "2023-03-05T14:25:11.737Z"
   },
   {
    "duration": 534,
    "start_time": "2023-03-05T14:25:12.248Z"
   },
   {
    "duration": 53,
    "start_time": "2023-03-05T14:25:12.784Z"
   },
   {
    "duration": 36,
    "start_time": "2023-03-05T14:25:12.840Z"
   },
   {
    "duration": 7,
    "start_time": "2023-03-05T14:25:12.920Z"
   },
   {
    "duration": 26,
    "start_time": "2023-03-05T14:25:12.929Z"
   },
   {
    "duration": 40,
    "start_time": "2023-03-05T14:25:12.957Z"
   },
   {
    "duration": 24,
    "start_time": "2023-03-05T14:25:12.999Z"
   },
   {
    "duration": 38,
    "start_time": "2023-03-05T14:25:13.025Z"
   },
   {
    "duration": 8,
    "start_time": "2023-03-05T14:25:13.064Z"
   },
   {
    "duration": 64,
    "start_time": "2023-03-06T06:33:46.671Z"
   },
   {
    "duration": 1692,
    "start_time": "2023-03-06T06:33:52.915Z"
   },
   {
    "duration": 412,
    "start_time": "2023-03-06T06:33:54.610Z"
   },
   {
    "duration": 44,
    "start_time": "2023-03-06T06:33:55.024Z"
   },
   {
    "duration": 43,
    "start_time": "2023-03-06T06:33:55.072Z"
   },
   {
    "duration": 12,
    "start_time": "2023-03-06T06:33:55.117Z"
   },
   {
    "duration": 48,
    "start_time": "2023-03-06T06:33:55.132Z"
   },
   {
    "duration": 6,
    "start_time": "2023-03-06T06:33:55.182Z"
   },
   {
    "duration": 45,
    "start_time": "2023-03-06T06:33:55.191Z"
   },
   {
    "duration": 66,
    "start_time": "2023-03-06T06:33:55.238Z"
   },
   {
    "duration": 30,
    "start_time": "2023-03-06T06:33:55.308Z"
   },
   {
    "duration": 32,
    "start_time": "2023-03-06T06:33:55.344Z"
   },
   {
    "duration": 35,
    "start_time": "2023-03-06T06:33:55.385Z"
   },
   {
    "duration": 42,
    "start_time": "2023-03-06T06:33:55.422Z"
   },
   {
    "duration": 21,
    "start_time": "2023-03-06T06:33:55.471Z"
   },
   {
    "duration": 313,
    "start_time": "2023-03-06T06:33:55.499Z"
   },
   {
    "duration": 17,
    "start_time": "2023-03-06T06:33:55.819Z"
   },
   {
    "duration": 26,
    "start_time": "2023-03-06T06:33:55.842Z"
   },
   {
    "duration": 27,
    "start_time": "2023-03-06T06:33:55.875Z"
   },
   {
    "duration": 14,
    "start_time": "2023-03-06T06:33:55.908Z"
   },
   {
    "duration": 65,
    "start_time": "2023-03-06T06:33:55.923Z"
   },
   {
    "duration": 55,
    "start_time": "2023-03-06T06:33:55.990Z"
   },
   {
    "duration": 9,
    "start_time": "2023-03-06T06:33:56.047Z"
   },
   {
    "duration": 54,
    "start_time": "2023-03-06T06:33:56.058Z"
   },
   {
    "duration": 13,
    "start_time": "2023-03-06T06:33:56.116Z"
   },
   {
    "duration": 29,
    "start_time": "2023-03-06T06:33:56.131Z"
   },
   {
    "duration": 764,
    "start_time": "2023-03-06T06:33:56.171Z"
   },
   {
    "duration": 79,
    "start_time": "2023-03-06T06:33:56.946Z"
   },
   {
    "duration": 578,
    "start_time": "2023-03-06T06:33:57.029Z"
   },
   {
    "duration": 24,
    "start_time": "2023-03-06T06:33:57.609Z"
   },
   {
    "duration": 82,
    "start_time": "2023-03-06T06:34:00.733Z"
   },
   {
    "duration": 108,
    "start_time": "2023-03-06T06:38:44.076Z"
   },
   {
    "duration": 8,
    "start_time": "2023-03-06T06:38:50.870Z"
   },
   {
    "duration": 148,
    "start_time": "2023-03-06T06:38:50.884Z"
   },
   {
    "duration": 23,
    "start_time": "2023-03-06T06:38:51.034Z"
   },
   {
    "duration": 42,
    "start_time": "2023-03-06T06:38:51.067Z"
   },
   {
    "duration": 8,
    "start_time": "2023-03-06T06:38:51.112Z"
   },
   {
    "duration": 39,
    "start_time": "2023-03-06T06:38:51.122Z"
   },
   {
    "duration": 28,
    "start_time": "2023-03-06T06:38:51.164Z"
   },
   {
    "duration": 33,
    "start_time": "2023-03-06T06:38:51.194Z"
   },
   {
    "duration": 71,
    "start_time": "2023-03-06T06:38:51.229Z"
   },
   {
    "duration": 35,
    "start_time": "2023-03-06T06:38:51.302Z"
   },
   {
    "duration": 16,
    "start_time": "2023-03-06T06:38:51.343Z"
   },
   {
    "duration": 55,
    "start_time": "2023-03-06T06:38:51.362Z"
   },
   {
    "duration": 18,
    "start_time": "2023-03-06T06:38:51.419Z"
   },
   {
    "duration": 37,
    "start_time": "2023-03-06T06:38:51.439Z"
   },
   {
    "duration": 250,
    "start_time": "2023-03-06T06:38:51.478Z"
   },
   {
    "duration": 33,
    "start_time": "2023-03-06T06:38:51.731Z"
   },
   {
    "duration": 20,
    "start_time": "2023-03-06T06:38:51.766Z"
   },
   {
    "duration": 51,
    "start_time": "2023-03-06T06:38:51.788Z"
   },
   {
    "duration": 53,
    "start_time": "2023-03-06T06:38:51.847Z"
   },
   {
    "duration": 81,
    "start_time": "2023-03-06T06:38:51.903Z"
   },
   {
    "duration": 139,
    "start_time": "2023-03-06T06:38:51.987Z"
   },
   {
    "duration": 6,
    "start_time": "2023-03-06T06:38:52.128Z"
   },
   {
    "duration": 67,
    "start_time": "2023-03-06T06:38:52.136Z"
   },
   {
    "duration": 14,
    "start_time": "2023-03-06T06:38:52.206Z"
   },
   {
    "duration": 9,
    "start_time": "2023-03-06T06:38:52.222Z"
   },
   {
    "duration": 399,
    "start_time": "2023-03-06T06:38:52.233Z"
   },
   {
    "duration": 74,
    "start_time": "2023-03-06T06:38:52.633Z"
   },
   {
    "duration": 449,
    "start_time": "2023-03-06T06:38:52.710Z"
   },
   {
    "duration": 23,
    "start_time": "2023-03-06T06:38:53.163Z"
   },
   {
    "duration": 84,
    "start_time": "2023-03-06T06:38:53.188Z"
   },
   {
    "duration": 17,
    "start_time": "2023-03-06T06:38:53.279Z"
   },
   {
    "duration": 41,
    "start_time": "2023-03-06T06:38:53.298Z"
   },
   {
    "duration": 37,
    "start_time": "2023-03-06T06:38:53.342Z"
   },
   {
    "duration": 56,
    "start_time": "2023-03-06T06:38:53.381Z"
   },
   {
    "duration": 584,
    "start_time": "2023-03-06T06:38:53.439Z"
   },
   {
    "duration": 466,
    "start_time": "2023-03-06T06:38:58.895Z"
   },
   {
    "duration": 19,
    "start_time": "2023-03-06T06:39:11.503Z"
   },
   {
    "duration": 55,
    "start_time": "2023-03-06T06:41:08.740Z"
   },
   {
    "duration": 11,
    "start_time": "2023-03-06T06:42:10.426Z"
   },
   {
    "duration": 747,
    "start_time": "2023-03-06T06:42:38.381Z"
   },
   {
    "duration": 11,
    "start_time": "2023-03-06T06:42:53.909Z"
   },
   {
    "duration": 619,
    "start_time": "2023-03-06T06:43:00.698Z"
   },
   {
    "duration": 711,
    "start_time": "2023-03-06T06:43:32.312Z"
   },
   {
    "duration": 749,
    "start_time": "2023-03-06T06:43:47.059Z"
   },
   {
    "duration": 295,
    "start_time": "2023-03-06T06:44:17.032Z"
   },
   {
    "duration": 330,
    "start_time": "2023-03-06T06:44:47.222Z"
   },
   {
    "duration": 286,
    "start_time": "2023-03-06T06:45:00.403Z"
   },
   {
    "duration": 438,
    "start_time": "2023-03-06T06:47:27.229Z"
   },
   {
    "duration": 328,
    "start_time": "2023-03-06T06:48:17.865Z"
   },
   {
    "duration": 303,
    "start_time": "2023-03-06T06:49:26.831Z"
   },
   {
    "duration": 395,
    "start_time": "2023-03-06T06:51:28.405Z"
   },
   {
    "duration": 335,
    "start_time": "2023-03-06T06:51:50.533Z"
   },
   {
    "duration": 372,
    "start_time": "2023-03-06T06:52:12.146Z"
   },
   {
    "duration": 455,
    "start_time": "2023-03-06T06:53:37.593Z"
   },
   {
    "duration": 1558,
    "start_time": "2023-03-10T03:52:32.702Z"
   },
   {
    "duration": 637,
    "start_time": "2023-03-10T03:52:34.262Z"
   },
   {
    "duration": 14,
    "start_time": "2023-03-10T03:52:34.901Z"
   },
   {
    "duration": 39,
    "start_time": "2023-03-10T03:52:34.918Z"
   },
   {
    "duration": 9,
    "start_time": "2023-03-10T03:52:34.959Z"
   },
   {
    "duration": 36,
    "start_time": "2023-03-10T03:52:34.970Z"
   },
   {
    "duration": 4,
    "start_time": "2023-03-10T03:52:35.008Z"
   },
   {
    "duration": 28,
    "start_time": "2023-03-10T03:52:35.014Z"
   },
   {
    "duration": 40,
    "start_time": "2023-03-10T03:52:35.044Z"
   },
   {
    "duration": 40,
    "start_time": "2023-03-10T03:52:35.093Z"
   },
   {
    "duration": 6,
    "start_time": "2023-03-10T03:52:35.135Z"
   },
   {
    "duration": 21,
    "start_time": "2023-03-10T03:52:35.143Z"
   },
   {
    "duration": 47,
    "start_time": "2023-03-10T03:52:35.165Z"
   },
   {
    "duration": 11,
    "start_time": "2023-03-10T03:52:35.214Z"
   },
   {
    "duration": 203,
    "start_time": "2023-03-10T03:52:35.226Z"
   },
   {
    "duration": 8,
    "start_time": "2023-03-10T03:52:35.431Z"
   },
   {
    "duration": 9,
    "start_time": "2023-03-10T03:52:35.441Z"
   },
   {
    "duration": 41,
    "start_time": "2023-03-10T03:52:35.452Z"
   },
   {
    "duration": 9,
    "start_time": "2023-03-10T03:52:35.494Z"
   },
   {
    "duration": 46,
    "start_time": "2023-03-10T03:52:35.505Z"
   },
   {
    "duration": 57,
    "start_time": "2023-03-10T03:52:35.553Z"
   },
   {
    "duration": 7,
    "start_time": "2023-03-10T03:52:35.612Z"
   },
   {
    "duration": 27,
    "start_time": "2023-03-10T03:52:35.620Z"
   },
   {
    "duration": 38,
    "start_time": "2023-03-10T03:52:35.649Z"
   },
   {
    "duration": 7,
    "start_time": "2023-03-10T03:52:35.689Z"
   },
   {
    "duration": 520,
    "start_time": "2023-03-10T03:52:35.698Z"
   },
   {
    "duration": 75,
    "start_time": "2023-03-10T03:52:36.221Z"
   },
   {
    "duration": 364,
    "start_time": "2023-03-10T03:52:36.302Z"
   },
   {
    "duration": 18,
    "start_time": "2023-03-10T03:52:36.678Z"
   },
   {
    "duration": 63,
    "start_time": "2023-03-10T03:52:36.698Z"
   },
   {
    "duration": 27,
    "start_time": "2023-03-10T03:52:36.763Z"
   },
   {
    "duration": 166,
    "start_time": "2023-03-10T03:52:36.793Z"
   },
   {
    "duration": 22,
    "start_time": "2023-03-10T03:52:36.960Z"
   },
   {
    "duration": 44,
    "start_time": "2023-03-10T03:52:36.984Z"
   },
   {
    "duration": 431,
    "start_time": "2023-03-10T03:52:37.030Z"
   },
   {
    "duration": 227,
    "start_time": "2023-03-10T03:52:37.463Z"
   },
   {
    "duration": 419,
    "start_time": "2023-03-10T03:52:37.691Z"
   },
   {
    "duration": 13,
    "start_time": "2023-03-10T03:52:38.112Z"
   },
   {
    "duration": 317,
    "start_time": "2023-03-10T03:52:38.127Z"
   },
   {
    "duration": 12,
    "start_time": "2023-03-10T03:52:38.446Z"
   },
   {
    "duration": 14,
    "start_time": "2023-03-10T03:52:38.460Z"
   },
   {
    "duration": 72,
    "start_time": "2023-03-10T03:52:38.476Z"
   },
   {
    "duration": 52,
    "start_time": "2023-03-10T03:52:38.550Z"
   },
   {
    "duration": 53,
    "start_time": "2023-03-10T03:52:38.605Z"
   },
   {
    "duration": 399,
    "start_time": "2023-03-10T03:52:38.660Z"
   },
   {
    "duration": 393,
    "start_time": "2023-03-10T03:52:39.061Z"
   },
   {
    "duration": 406,
    "start_time": "2023-03-10T03:52:39.456Z"
   },
   {
    "duration": 50,
    "start_time": "2023-03-10T03:52:39.864Z"
   },
   {
    "duration": 50,
    "start_time": "2023-03-10T03:52:39.916Z"
   },
   {
    "duration": 17,
    "start_time": "2023-03-10T03:52:39.969Z"
   },
   {
    "duration": 15,
    "start_time": "2023-03-10T03:52:39.988Z"
   },
   {
    "duration": 147,
    "start_time": "2023-03-10T03:52:40.005Z"
   },
   {
    "duration": 10,
    "start_time": "2023-03-10T03:52:40.154Z"
   },
   {
    "duration": 46,
    "start_time": "2023-03-10T03:52:40.187Z"
   },
   {
    "duration": 48,
    "start_time": "2023-03-10T03:52:48.601Z"
   },
   {
    "duration": 8,
    "start_time": "2023-03-10T03:52:49.189Z"
   }
  ],
  "kernelspec": {
   "display_name": "Python 3 (ipykernel)",
   "language": "python",
   "name": "python3"
  },
  "language_info": {
   "codemirror_mode": {
    "name": "ipython",
    "version": 3
   },
   "file_extension": ".py",
   "mimetype": "text/x-python",
   "name": "python",
   "nbconvert_exporter": "python",
   "pygments_lexer": "ipython3",
   "version": "3.9.13"
  },
  "toc": {
   "base_numbering": 1,
   "nav_menu": {},
   "number_sections": true,
   "sideBar": true,
   "skip_h1_title": true,
   "title_cell": "Table of Contents",
   "title_sidebar": "Contents",
   "toc_cell": false,
   "toc_position": {},
   "toc_section_display": true,
   "toc_window_display": true
  }
 },
 "nbformat": 4,
 "nbformat_minor": 2
}
