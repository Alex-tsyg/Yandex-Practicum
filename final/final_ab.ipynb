{
 "cells": [
  {
   "cell_type": "markdown",
   "metadata": {},
   "source": [
    "<b><div style=\"text-align: center;\">Проект по А/B-тестированию</div></b><br>"
   ]
  },
  {
   "cell_type": "markdown",
   "metadata": {},
   "source": [
    "<b><div style=\"text-align: center;\">Постановка задачи</div></b><br>\n",
    "\n",
    "Необходимо провести оценку результатов A/B-теста. В вашем распоряжении есть датасет с действиями пользователей, техническое задание и несколько вспомогательных датасетов.<br>\n",
    "Оцените корректность проведения теста.<br>\n",
    "Проанализируйте результаты теста.<br>\n",
    "Чтобы оценить корректность проведения теста, проверьте:<br>\n",
    "пересечение тестовой аудитории с конкурирующим тестом;<br>\n",
    "совпадение теста и маркетинговых событий, другие проблемы временных границ теста.<br>\n",
    "\n",
    "<b><div style=\"text-align: center;\">Цель</div></b><br>\n",
    "Необходимо проверить корректность проведения А/В теста<br>\n",
    "Проанализировать результаты и решить, стоит ли принимать изменения, связанные с внедрением улучшенной рекомендательной системы<br>\n",
    "\n",
    "<b><div style=\"text-align: center;\">Техническое задание</div></b><br>\n",
    "\n",
    "Название теста: recommender_system_test;<br>\n",
    "Группы: А (контрольная), B (новая платёжная воронка);<br>\n",
    "Дата запуска: 2020-12-07;<br>\n",
    "Дата остановки набора новых пользователей: 2020-12-21;<br>\n",
    "Дата остановки: 2021-01-04;<br>\n",
    "Аудитория: 15% новых пользователей из региона EU;<br>\n",
    "Назначение теста: тестирование изменений, связанных с внедрением улучшенной рекомендательной системы;<br>\n",
    "Ожидаемое количество участников теста: 6000.<br>\n",
    "Ожидаемый эффект: за 14 дней с момента регистрации в системе пользователи покажут улучшение каждой метрики не менее, чем на 10%:<br>\n",
    "конверсии в просмотр карточек товаров — событие product_page<br>\n",
    "просмотры корзины — product_cart<br>\n",
    "покупки — purchase.<br>\n",
    "Загрузите данные теста, проверьте корректность его проведения и проанализируйте полученные результаты.<br><br>\n",
    "<b><div style=\"text-align: center;\">Описание данных</div></b><br>\n",
    "ab_project_marketing_events.csv — календарь маркетинговых событий на 2020 год;<br>\n",
    "name — название маркетингового события;<br>\n",
    "regions — регионы, в которых будет проводиться рекламная кампания;<br>\n",
    "start_dt — дата начала кампании;<br>\n",
    "finish_dt — дата завершения кампании.<br><br>\n",
    "final_ab_new_users.csv — все пользователи, зарегистрировавшиеся в интернет-магазине в период с 7 по 21 декабря 2020 года;<br>\n",
    "user_id — идентификатор пользователя;<br>\n",
    "first_date — дата регистрации;<br>\n",
    "region — регион пользователя;<br>\n",
    "device — устройство, с которого происходила регистрация.<br><br>\n",
    "final_ab_events.csv — все события новых пользователей в период с 7 декабря 2020 по 4 января 2021 года;\n",
    "Структура файла:<br>\n",
    "user_id — идентификатор пользователя;<br>\n",
    "event_dt — дата и время события;<br>\n",
    "event_name — тип события;<br>\n",
    "details — дополнительные данные о событии. Например, для покупок, purchase, в этом поле хранится стоимость покупки в долларах.<br><br>\n",
    "final_ab_participants.csv — таблица участников тестов.<br>\n",
    "user_id — идентификатор пользователя;<br>\n",
    "ab_test — название теста;<br>\n",
    "group — группа пользователя.<br>"
   ]
  },
  {
   "cell_type": "markdown",
   "metadata": {},
   "source": [
    "<b><div style=\"text-align: center;\">Декомпозиция </div></b><br>\n",
    "1. Загрузка библиотек и чтение файлов данных<br>\n",
    "2. Предобработка данных<br> \n",
    "  2.1 Исследовать общую информацию о данных.<br> \n",
    "  2.2 Исследовать пропущенные значения и при необходимости провести работу с пропусками в данных.Оценить, то какова их природа?<br> \n",
    "  2.3 Проверить корректность наименований колонок и переименовать колонки в случае необходимости.<br> \n",
    "  2.4 Исследовать требуется ли преобразование типов.<br> \n",
    "  2.5 Исследовать дубликаты и при наличии оценить, то какова их природа.<br> \n",
    "  2.6 Проверить соответствие данных условиям ТЗ<br> \n",
    "    2.6.1 Проверить время проведения теста.Убедитесь, что оно не совпадает с маркетинговыми и другими активностями.<br> \n",
    "    2.6.2 Проверить аудиторию теста. Удостоверьтесь, что нет пересечений с конкурирующим тестом и нет пользователей, участвующих в двух группах теста одновременно.<br> \n",
    "    2.6.3 Проверить равномерность распределения пользователей по тестовым группам и правильность их формирования.<br> \n",
    "<br> \n",
    "3. Исследовательский анализ данных<br>\n",
    "  3.1 Количество событий на пользователя одинаково распределены в выборках?<br>\n",
    "  3.2 Как число событий в выборках распределено по дням?<br>\n",
    "  3.3 Как меняется конверсия в воронке в выборках на разных этапах?<br>\n",
    "  3.4 Какие особенности данных нужно учесть, прежде чем приступать к A/B-тестированию?<br>\n",
    "4. Проведите оценку результатов A/B-тестирования:<br>\n",
    "  4.1 Что можно сказать про результаты A/B-тестирования?<br>\n",
    "  4.2 Проверьте статистическую разницу долей z-критерием<br>\n",
    "5. Опишите выводы по этапу исследовательского анализа данных и по проведённой оценке результатов A/B-тестирования. Сделайте общее заключение о корректности проведения теста.<br>"
   ]
  },
  {
   "cell_type": "markdown",
   "metadata": {},
   "source": [
    "## Загрузка библиотек и чтение файлов данных"
   ]
  },
  {
   "cell_type": "code",
   "execution_count": 417,
   "metadata": {},
   "outputs": [],
   "source": [
    "import pandas as pd\n",
    "import scipy.stats as st\n",
    "import matplotlib.pyplot as plt\n",
    "import seaborn as sns\n",
    "import math as mth\n",
    "from datetime import datetime\n",
    "from plotly import graph_objects as go\n",
    "import warnings\n",
    "warnings.filterwarnings('ignore')"
   ]
  },
  {
   "cell_type": "code",
   "execution_count": 418,
   "metadata": {},
   "outputs": [],
   "source": [
    "promo = pd.read_csv('/datasets/ab_project_marketing_events.csv')    \n",
    "users = pd.read_csv('/datasets/final_ab_new_users.csv')\n",
    "ab_events = pd.read_csv('/datasets/final_ab_events.csv')\n",
    "parts = pd.read_csv('/datasets/final_ab_participants.csv')\n"
   ]
  },
  {
   "cell_type": "markdown",
   "metadata": {},
   "source": [
    "На этом шаге были загружены библиотеки, необходимые для работы и прочитаны файлы с данными для анализа. Далее выполним предобработку данных"
   ]
  },
  {
   "cell_type": "markdown",
   "metadata": {},
   "source": [
    "## Предобработка данных"
   ]
  },
  {
   "cell_type": "markdown",
   "metadata": {},
   "source": [
    "### Исследовать общую информацию о данных"
   ]
  },
  {
   "cell_type": "code",
   "execution_count": 419,
   "metadata": {
    "scrolled": true
   },
   "outputs": [
    {
     "name": "stdout",
     "output_type": "stream",
     "text": [
      "Датасет:  promo\n"
     ]
    },
    {
     "data": {
      "text/html": [
       "<div>\n",
       "<style scoped>\n",
       "    .dataframe tbody tr th:only-of-type {\n",
       "        vertical-align: middle;\n",
       "    }\n",
       "\n",
       "    .dataframe tbody tr th {\n",
       "        vertical-align: top;\n",
       "    }\n",
       "\n",
       "    .dataframe thead th {\n",
       "        text-align: right;\n",
       "    }\n",
       "</style>\n",
       "<table border=\"1\" class=\"dataframe\">\n",
       "  <thead>\n",
       "    <tr style=\"text-align: right;\">\n",
       "      <th></th>\n",
       "      <th>name</th>\n",
       "      <th>regions</th>\n",
       "      <th>start_dt</th>\n",
       "      <th>finish_dt</th>\n",
       "    </tr>\n",
       "  </thead>\n",
       "  <tbody>\n",
       "    <tr>\n",
       "      <th>0</th>\n",
       "      <td>Christmas&amp;New Year Promo</td>\n",
       "      <td>EU, N.America</td>\n",
       "      <td>2020-12-25</td>\n",
       "      <td>2021-01-03</td>\n",
       "    </tr>\n",
       "    <tr>\n",
       "      <th>1</th>\n",
       "      <td>St. Valentine's Day Giveaway</td>\n",
       "      <td>EU, CIS, APAC, N.America</td>\n",
       "      <td>2020-02-14</td>\n",
       "      <td>2020-02-16</td>\n",
       "    </tr>\n",
       "    <tr>\n",
       "      <th>2</th>\n",
       "      <td>St. Patric's Day Promo</td>\n",
       "      <td>EU, N.America</td>\n",
       "      <td>2020-03-17</td>\n",
       "      <td>2020-03-19</td>\n",
       "    </tr>\n",
       "    <tr>\n",
       "      <th>3</th>\n",
       "      <td>Easter Promo</td>\n",
       "      <td>EU, CIS, APAC, N.America</td>\n",
       "      <td>2020-04-12</td>\n",
       "      <td>2020-04-19</td>\n",
       "    </tr>\n",
       "    <tr>\n",
       "      <th>4</th>\n",
       "      <td>4th of July Promo</td>\n",
       "      <td>N.America</td>\n",
       "      <td>2020-07-04</td>\n",
       "      <td>2020-07-11</td>\n",
       "    </tr>\n",
       "  </tbody>\n",
       "</table>\n",
       "</div>"
      ],
      "text/plain": [
       "                           name                   regions    start_dt  \\\n",
       "0      Christmas&New Year Promo             EU, N.America  2020-12-25   \n",
       "1  St. Valentine's Day Giveaway  EU, CIS, APAC, N.America  2020-02-14   \n",
       "2        St. Patric's Day Promo             EU, N.America  2020-03-17   \n",
       "3                  Easter Promo  EU, CIS, APAC, N.America  2020-04-12   \n",
       "4             4th of July Promo                 N.America  2020-07-04   \n",
       "\n",
       "    finish_dt  \n",
       "0  2021-01-03  \n",
       "1  2020-02-16  \n",
       "2  2020-03-19  \n",
       "3  2020-04-19  \n",
       "4  2020-07-11  "
      ]
     },
     "metadata": {},
     "output_type": "display_data"
    },
    {
     "name": "stdout",
     "output_type": "stream",
     "text": [
      "<class 'pandas.core.frame.DataFrame'>\n",
      "RangeIndex: 14 entries, 0 to 13\n",
      "Data columns (total 4 columns):\n",
      " #   Column     Non-Null Count  Dtype \n",
      "---  ------     --------------  ----- \n",
      " 0   name       14 non-null     object\n",
      " 1   regions    14 non-null     object\n",
      " 2   start_dt   14 non-null     object\n",
      " 3   finish_dt  14 non-null     object\n",
      "dtypes: object(4)\n",
      "memory usage: 576.0+ bytes\n"
     ]
    },
    {
     "data": {
      "text/plain": [
       "None"
      ]
     },
     "metadata": {},
     "output_type": "display_data"
    },
    {
     "name": "stdout",
     "output_type": "stream",
     "text": [
      "Датасет:  users\n"
     ]
    },
    {
     "data": {
      "text/html": [
       "<div>\n",
       "<style scoped>\n",
       "    .dataframe tbody tr th:only-of-type {\n",
       "        vertical-align: middle;\n",
       "    }\n",
       "\n",
       "    .dataframe tbody tr th {\n",
       "        vertical-align: top;\n",
       "    }\n",
       "\n",
       "    .dataframe thead th {\n",
       "        text-align: right;\n",
       "    }\n",
       "</style>\n",
       "<table border=\"1\" class=\"dataframe\">\n",
       "  <thead>\n",
       "    <tr style=\"text-align: right;\">\n",
       "      <th></th>\n",
       "      <th>user_id</th>\n",
       "      <th>first_date</th>\n",
       "      <th>region</th>\n",
       "      <th>device</th>\n",
       "    </tr>\n",
       "  </thead>\n",
       "  <tbody>\n",
       "    <tr>\n",
       "      <th>0</th>\n",
       "      <td>D72A72121175D8BE</td>\n",
       "      <td>2020-12-07</td>\n",
       "      <td>EU</td>\n",
       "      <td>PC</td>\n",
       "    </tr>\n",
       "    <tr>\n",
       "      <th>1</th>\n",
       "      <td>F1C668619DFE6E65</td>\n",
       "      <td>2020-12-07</td>\n",
       "      <td>N.America</td>\n",
       "      <td>Android</td>\n",
       "    </tr>\n",
       "    <tr>\n",
       "      <th>2</th>\n",
       "      <td>2E1BF1D4C37EA01F</td>\n",
       "      <td>2020-12-07</td>\n",
       "      <td>EU</td>\n",
       "      <td>PC</td>\n",
       "    </tr>\n",
       "    <tr>\n",
       "      <th>3</th>\n",
       "      <td>50734A22C0C63768</td>\n",
       "      <td>2020-12-07</td>\n",
       "      <td>EU</td>\n",
       "      <td>iPhone</td>\n",
       "    </tr>\n",
       "    <tr>\n",
       "      <th>4</th>\n",
       "      <td>E1BDDCE0DAFA2679</td>\n",
       "      <td>2020-12-07</td>\n",
       "      <td>N.America</td>\n",
       "      <td>iPhone</td>\n",
       "    </tr>\n",
       "  </tbody>\n",
       "</table>\n",
       "</div>"
      ],
      "text/plain": [
       "            user_id  first_date     region   device\n",
       "0  D72A72121175D8BE  2020-12-07         EU       PC\n",
       "1  F1C668619DFE6E65  2020-12-07  N.America  Android\n",
       "2  2E1BF1D4C37EA01F  2020-12-07         EU       PC\n",
       "3  50734A22C0C63768  2020-12-07         EU   iPhone\n",
       "4  E1BDDCE0DAFA2679  2020-12-07  N.America   iPhone"
      ]
     },
     "metadata": {},
     "output_type": "display_data"
    },
    {
     "name": "stdout",
     "output_type": "stream",
     "text": [
      "<class 'pandas.core.frame.DataFrame'>\n",
      "RangeIndex: 61733 entries, 0 to 61732\n",
      "Data columns (total 4 columns):\n",
      " #   Column      Non-Null Count  Dtype \n",
      "---  ------      --------------  ----- \n",
      " 0   user_id     61733 non-null  object\n",
      " 1   first_date  61733 non-null  object\n",
      " 2   region      61733 non-null  object\n",
      " 3   device      61733 non-null  object\n",
      "dtypes: object(4)\n",
      "memory usage: 1.9+ MB\n"
     ]
    },
    {
     "data": {
      "text/plain": [
       "None"
      ]
     },
     "metadata": {},
     "output_type": "display_data"
    },
    {
     "name": "stdout",
     "output_type": "stream",
     "text": [
      "Датасет:  ab_events\n"
     ]
    },
    {
     "data": {
      "text/html": [
       "<div>\n",
       "<style scoped>\n",
       "    .dataframe tbody tr th:only-of-type {\n",
       "        vertical-align: middle;\n",
       "    }\n",
       "\n",
       "    .dataframe tbody tr th {\n",
       "        vertical-align: top;\n",
       "    }\n",
       "\n",
       "    .dataframe thead th {\n",
       "        text-align: right;\n",
       "    }\n",
       "</style>\n",
       "<table border=\"1\" class=\"dataframe\">\n",
       "  <thead>\n",
       "    <tr style=\"text-align: right;\">\n",
       "      <th></th>\n",
       "      <th>user_id</th>\n",
       "      <th>event_dt</th>\n",
       "      <th>event_name</th>\n",
       "      <th>details</th>\n",
       "    </tr>\n",
       "  </thead>\n",
       "  <tbody>\n",
       "    <tr>\n",
       "      <th>0</th>\n",
       "      <td>E1BDDCE0DAFA2679</td>\n",
       "      <td>2020-12-07 20:22:03</td>\n",
       "      <td>purchase</td>\n",
       "      <td>99.99</td>\n",
       "    </tr>\n",
       "    <tr>\n",
       "      <th>1</th>\n",
       "      <td>7B6452F081F49504</td>\n",
       "      <td>2020-12-07 09:22:53</td>\n",
       "      <td>purchase</td>\n",
       "      <td>9.99</td>\n",
       "    </tr>\n",
       "    <tr>\n",
       "      <th>2</th>\n",
       "      <td>9CD9F34546DF254C</td>\n",
       "      <td>2020-12-07 12:59:29</td>\n",
       "      <td>purchase</td>\n",
       "      <td>4.99</td>\n",
       "    </tr>\n",
       "    <tr>\n",
       "      <th>3</th>\n",
       "      <td>96F27A054B191457</td>\n",
       "      <td>2020-12-07 04:02:40</td>\n",
       "      <td>purchase</td>\n",
       "      <td>4.99</td>\n",
       "    </tr>\n",
       "    <tr>\n",
       "      <th>4</th>\n",
       "      <td>1FD7660FDF94CA1F</td>\n",
       "      <td>2020-12-07 10:15:09</td>\n",
       "      <td>purchase</td>\n",
       "      <td>4.99</td>\n",
       "    </tr>\n",
       "  </tbody>\n",
       "</table>\n",
       "</div>"
      ],
      "text/plain": [
       "            user_id             event_dt event_name  details\n",
       "0  E1BDDCE0DAFA2679  2020-12-07 20:22:03   purchase    99.99\n",
       "1  7B6452F081F49504  2020-12-07 09:22:53   purchase     9.99\n",
       "2  9CD9F34546DF254C  2020-12-07 12:59:29   purchase     4.99\n",
       "3  96F27A054B191457  2020-12-07 04:02:40   purchase     4.99\n",
       "4  1FD7660FDF94CA1F  2020-12-07 10:15:09   purchase     4.99"
      ]
     },
     "metadata": {},
     "output_type": "display_data"
    },
    {
     "name": "stdout",
     "output_type": "stream",
     "text": [
      "<class 'pandas.core.frame.DataFrame'>\n",
      "RangeIndex: 440317 entries, 0 to 440316\n",
      "Data columns (total 4 columns):\n",
      " #   Column      Non-Null Count   Dtype  \n",
      "---  ------      --------------   -----  \n",
      " 0   user_id     440317 non-null  object \n",
      " 1   event_dt    440317 non-null  object \n",
      " 2   event_name  440317 non-null  object \n",
      " 3   details     62740 non-null   float64\n",
      "dtypes: float64(1), object(3)\n",
      "memory usage: 13.4+ MB\n"
     ]
    },
    {
     "data": {
      "text/plain": [
       "None"
      ]
     },
     "metadata": {},
     "output_type": "display_data"
    },
    {
     "name": "stdout",
     "output_type": "stream",
     "text": [
      "Датасет:  parts\n"
     ]
    },
    {
     "data": {
      "text/html": [
       "<div>\n",
       "<style scoped>\n",
       "    .dataframe tbody tr th:only-of-type {\n",
       "        vertical-align: middle;\n",
       "    }\n",
       "\n",
       "    .dataframe tbody tr th {\n",
       "        vertical-align: top;\n",
       "    }\n",
       "\n",
       "    .dataframe thead th {\n",
       "        text-align: right;\n",
       "    }\n",
       "</style>\n",
       "<table border=\"1\" class=\"dataframe\">\n",
       "  <thead>\n",
       "    <tr style=\"text-align: right;\">\n",
       "      <th></th>\n",
       "      <th>user_id</th>\n",
       "      <th>group</th>\n",
       "      <th>ab_test</th>\n",
       "    </tr>\n",
       "  </thead>\n",
       "  <tbody>\n",
       "    <tr>\n",
       "      <th>0</th>\n",
       "      <td>D1ABA3E2887B6A73</td>\n",
       "      <td>A</td>\n",
       "      <td>recommender_system_test</td>\n",
       "    </tr>\n",
       "    <tr>\n",
       "      <th>1</th>\n",
       "      <td>A7A3664BD6242119</td>\n",
       "      <td>A</td>\n",
       "      <td>recommender_system_test</td>\n",
       "    </tr>\n",
       "    <tr>\n",
       "      <th>2</th>\n",
       "      <td>DABC14FDDFADD29E</td>\n",
       "      <td>A</td>\n",
       "      <td>recommender_system_test</td>\n",
       "    </tr>\n",
       "    <tr>\n",
       "      <th>3</th>\n",
       "      <td>04988C5DF189632E</td>\n",
       "      <td>A</td>\n",
       "      <td>recommender_system_test</td>\n",
       "    </tr>\n",
       "    <tr>\n",
       "      <th>4</th>\n",
       "      <td>482F14783456D21B</td>\n",
       "      <td>B</td>\n",
       "      <td>recommender_system_test</td>\n",
       "    </tr>\n",
       "  </tbody>\n",
       "</table>\n",
       "</div>"
      ],
      "text/plain": [
       "            user_id group                  ab_test\n",
       "0  D1ABA3E2887B6A73     A  recommender_system_test\n",
       "1  A7A3664BD6242119     A  recommender_system_test\n",
       "2  DABC14FDDFADD29E     A  recommender_system_test\n",
       "3  04988C5DF189632E     A  recommender_system_test\n",
       "4  482F14783456D21B     B  recommender_system_test"
      ]
     },
     "metadata": {},
     "output_type": "display_data"
    },
    {
     "name": "stdout",
     "output_type": "stream",
     "text": [
      "<class 'pandas.core.frame.DataFrame'>\n",
      "RangeIndex: 18268 entries, 0 to 18267\n",
      "Data columns (total 3 columns):\n",
      " #   Column   Non-Null Count  Dtype \n",
      "---  ------   --------------  ----- \n",
      " 0   user_id  18268 non-null  object\n",
      " 1   group    18268 non-null  object\n",
      " 2   ab_test  18268 non-null  object\n",
      "dtypes: object(3)\n",
      "memory usage: 428.3+ KB\n"
     ]
    },
    {
     "data": {
      "text/plain": [
       "None"
      ]
     },
     "metadata": {},
     "output_type": "display_data"
    }
   ],
   "source": [
    "datasets = [promo, users, ab_events, parts]\n",
    "datasets_names=['promo','users' , 'ab_events', 'parts']  \n",
    "for i in range (0,len(datasets)):\n",
    "    print('Датасет: ',datasets_names[i])\n",
    "    display(datasets[i].head())\n",
    "    display(datasets[i].info())"
   ]
  },
  {
   "cell_type": "markdown",
   "metadata": {},
   "source": [
    "### Исследовать пропущенные значения и при необходимости провести работу с пропусками в данных.Оценить, то какова их природа?"
   ]
  },
  {
   "cell_type": "markdown",
   "metadata": {},
   "source": [
    "* promo содержит 14 записей, пропусков нет <br>\n",
    "* users содержит 61733 записей, пропусков нет<br>\n",
    "* ab_events содержит 440317 записей, столбец details     62740  заполнено, 377577 пропусков<br>\n",
    "* parts содержит 18268 записей, пропусков нет"
   ]
  },
  {
   "cell_type": "markdown",
   "metadata": {},
   "source": [
    "Проанализируем при каких значениях пропуски:"
   ]
  },
  {
   "cell_type": "code",
   "execution_count": 420,
   "metadata": {},
   "outputs": [
    {
     "data": {
      "text/html": [
       "<div>\n",
       "<style scoped>\n",
       "    .dataframe tbody tr th:only-of-type {\n",
       "        vertical-align: middle;\n",
       "    }\n",
       "\n",
       "    .dataframe tbody tr th {\n",
       "        vertical-align: top;\n",
       "    }\n",
       "\n",
       "    .dataframe thead th {\n",
       "        text-align: right;\n",
       "    }\n",
       "</style>\n",
       "<table border=\"1\" class=\"dataframe\">\n",
       "  <thead>\n",
       "    <tr style=\"text-align: right;\">\n",
       "      <th></th>\n",
       "      <th>details</th>\n",
       "    </tr>\n",
       "    <tr>\n",
       "      <th>event_name</th>\n",
       "      <th></th>\n",
       "    </tr>\n",
       "  </thead>\n",
       "  <tbody>\n",
       "    <tr>\n",
       "      <th>login</th>\n",
       "      <td>0</td>\n",
       "    </tr>\n",
       "    <tr>\n",
       "      <th>product_cart</th>\n",
       "      <td>0</td>\n",
       "    </tr>\n",
       "    <tr>\n",
       "      <th>product_page</th>\n",
       "      <td>0</td>\n",
       "    </tr>\n",
       "    <tr>\n",
       "      <th>purchase</th>\n",
       "      <td>62740</td>\n",
       "    </tr>\n",
       "  </tbody>\n",
       "</table>\n",
       "</div>"
      ],
      "text/plain": [
       "              details\n",
       "event_name           \n",
       "login               0\n",
       "product_cart        0\n",
       "product_page        0\n",
       "purchase        62740"
      ]
     },
     "execution_count": 420,
     "metadata": {},
     "output_type": "execute_result"
    }
   ],
   "source": [
    "ab_events.groupby('event_name').agg({'details':'count'})\n"
   ]
  },
  {
   "cell_type": "markdown",
   "metadata": {},
   "source": [
    "Столбец purchase заполнен только если было событие покупка, в нем стоит сумма покупки, в остальных случаях он пустой. Данные пропуски соответствуют условиям, описынным в исходных данных, поэтому оставим их как есть."
   ]
  },
  {
   "cell_type": "markdown",
   "metadata": {},
   "source": [
    "### Проверить корректность наименований колонок и переименовать колонки в случае необходимости;"
   ]
  },
  {
   "cell_type": "markdown",
   "metadata": {},
   "source": [
    "Во всех датасетах названия колонок корректные."
   ]
  },
  {
   "cell_type": "markdown",
   "metadata": {},
   "source": [
    "### Исследовать требуется ли преобразование типов."
   ]
  },
  {
   "cell_type": "markdown",
   "metadata": {},
   "source": [
    "Датасет promo, колонки start_dt и finish_dt имеют тип object, а содержат даты, исправим"
   ]
  },
  {
   "cell_type": "code",
   "execution_count": 421,
   "metadata": {},
   "outputs": [],
   "source": [
    "promo['start_dt'] = promo['start_dt'].astype('datetime64')\n",
    "promo['finish_dt'] = promo['finish_dt'].astype('datetime64')"
   ]
  },
  {
   "cell_type": "markdown",
   "metadata": {},
   "source": [
    "Датасет users, колонка first_date тип object, а содержат даты, исправим"
   ]
  },
  {
   "cell_type": "code",
   "execution_count": 422,
   "metadata": {},
   "outputs": [],
   "source": [
    "users['first_date'] = users['first_date'].astype('datetime64')"
   ]
  },
  {
   "cell_type": "markdown",
   "metadata": {},
   "source": [
    "Датасет ab_events, колонка event_dt тип object, а содержат дату и время, исправим"
   ]
  },
  {
   "cell_type": "code",
   "execution_count": 423,
   "metadata": {},
   "outputs": [],
   "source": [
    "ab_events['event_dt'] = ab_events['event_dt'].astype('datetime64')"
   ]
  },
  {
   "cell_type": "markdown",
   "metadata": {},
   "source": [
    "### Исследовать дубликаты и при наличии оценить, то какова их природа."
   ]
  },
  {
   "cell_type": "markdown",
   "metadata": {},
   "source": [
    "#### Исследуем полные дубликаты"
   ]
  },
  {
   "cell_type": "code",
   "execution_count": 424,
   "metadata": {},
   "outputs": [
    {
     "name": "stdout",
     "output_type": "stream",
     "text": [
      "Число дубликатов в датасете:  promo = 0\n",
      "Число дубликатов в датасете:  users = 0\n",
      "Число дубликатов в датасете:  ab_events = 0\n",
      "Число дубликатов в датасете:  parts = 0\n"
     ]
    }
   ],
   "source": [
    "for i in range (0,len(datasets)):\n",
    "    print('Число дубликатов в датасете: ',datasets_names[i],'=',datasets[i].duplicated().sum())"
   ]
  },
  {
   "cell_type": "markdown",
   "metadata": {},
   "source": [
    "Полных дубликатов нет"
   ]
  },
  {
   "cell_type": "markdown",
   "metadata": {},
   "source": [
    "#### Исследуем неявные дубликаты"
   ]
  },
  {
   "cell_type": "markdown",
   "metadata": {},
   "source": [
    "Проверим датасет users на совпадение user_id+region и user_id+device"
   ]
  },
  {
   "cell_type": "code",
   "execution_count": 427,
   "metadata": {},
   "outputs": [
    {
     "data": {
      "text/plain": [
       "0"
      ]
     },
     "execution_count": 427,
     "metadata": {},
     "output_type": "execute_result"
    }
   ],
   "source": [
    "users.duplicated(subset=['user_id', 'region']).sum()"
   ]
  },
  {
   "cell_type": "code",
   "execution_count": 428,
   "metadata": {},
   "outputs": [
    {
     "data": {
      "text/plain": [
       "0"
      ]
     },
     "execution_count": 428,
     "metadata": {},
     "output_type": "execute_result"
    }
   ],
   "source": [
    "users.duplicated(subset=['user_id', 'device']).sum()"
   ]
  },
  {
   "cell_type": "markdown",
   "metadata": {},
   "source": [
    "Проверим датасет users на число значений device"
   ]
  },
  {
   "cell_type": "code",
   "execution_count": 430,
   "metadata": {},
   "outputs": [
    {
     "data": {
      "text/plain": [
       "Android    27520\n",
       "PC         15599\n",
       "iPhone     12530\n",
       "Mac         6084\n",
       "Name: device, dtype: int64"
      ]
     },
     "execution_count": 430,
     "metadata": {},
     "output_type": "execute_result"
    }
   ],
   "source": [
    "users['device'].value_counts()"
   ]
  },
  {
   "cell_type": "markdown",
   "metadata": {},
   "source": [
    "В датасете 4 вида устройств, дубликатов с разным написанием нет"
   ]
  },
  {
   "cell_type": "code",
   "execution_count": 431,
   "metadata": {},
   "outputs": [
    {
     "data": {
      "text/plain": [
       "EU           46270\n",
       "N.America     9155\n",
       "CIS           3155\n",
       "APAC          3153\n",
       "Name: region, dtype: int64"
      ]
     },
     "execution_count": 431,
     "metadata": {},
     "output_type": "execute_result"
    }
   ],
   "source": [
    "users['region'].value_counts()"
   ]
  },
  {
   "cell_type": "markdown",
   "metadata": {},
   "source": [
    "В датасете 4 региона, дубликатов с разным написанием нет"
   ]
  },
  {
   "cell_type": "markdown",
   "metadata": {},
   "source": [
    "Неявных дубликатов не выявлено."
   ]
  },
  {
   "cell_type": "markdown",
   "metadata": {},
   "source": [
    "### Проверка данных на соответствие условиям ТЗ"
   ]
  },
  {
   "cell_type": "markdown",
   "metadata": {},
   "source": [
    "#### Проверить время проведения теста. Убедитесь, что оно не совпадает с маркетинговыми и другими активностями."
   ]
  },
  {
   "cell_type": "markdown",
   "metadata": {},
   "source": [
    "По условиям ТЗ:<br>\n",
    "Дата запуска: 2020-12-07;<br>\n",
    "Дата остановки набора новых пользователей: 2020-12-21;<br>\n",
    "Дата остановки теста: 2021-01-04;<br>"
   ]
  },
  {
   "cell_type": "markdown",
   "metadata": {},
   "source": [
    "##### Датасет promo"
   ]
  },
  {
   "cell_type": "markdown",
   "metadata": {},
   "source": [
    "Проверим пересечение дат для акций региона EU"
   ]
  },
  {
   "cell_type": "code",
   "execution_count": 432,
   "metadata": {},
   "outputs": [
    {
     "data": {
      "text/html": [
       "<div>\n",
       "<style scoped>\n",
       "    .dataframe tbody tr th:only-of-type {\n",
       "        vertical-align: middle;\n",
       "    }\n",
       "\n",
       "    .dataframe tbody tr th {\n",
       "        vertical-align: top;\n",
       "    }\n",
       "\n",
       "    .dataframe thead th {\n",
       "        text-align: right;\n",
       "    }\n",
       "</style>\n",
       "<table border=\"1\" class=\"dataframe\">\n",
       "  <thead>\n",
       "    <tr style=\"text-align: right;\">\n",
       "      <th></th>\n",
       "      <th>name</th>\n",
       "      <th>regions</th>\n",
       "      <th>start_dt</th>\n",
       "      <th>finish_dt</th>\n",
       "    </tr>\n",
       "  </thead>\n",
       "  <tbody>\n",
       "    <tr>\n",
       "      <th>0</th>\n",
       "      <td>Christmas&amp;New Year Promo</td>\n",
       "      <td>EU, N.America</td>\n",
       "      <td>2020-12-25</td>\n",
       "      <td>2021-01-03</td>\n",
       "    </tr>\n",
       "  </tbody>\n",
       "</table>\n",
       "</div>"
      ],
      "text/plain": [
       "                       name        regions   start_dt  finish_dt\n",
       "0  Christmas&New Year Promo  EU, N.America 2020-12-25 2021-01-03"
      ]
     },
     "metadata": {},
     "output_type": "display_data"
    }
   ],
   "source": [
    "end='2020-12-07'\n",
    "display(promo.query(\"regions.str.contains('EU') and finish_dt > @end\"))\n"
   ]
  },
  {
   "cell_type": "markdown",
   "metadata": {},
   "source": [
    "Найдено пересечение дата остановки теста: 2021-01-04 с промо Christmas&New Year Promo, данные о покупах могут быть искажены.\n",
    "Будем считать что данная промо не сильно повляет на результаты теста,т.к затронет обе группы пользоватлей. Более подробно изучим влияние промо на этапе анализа событий по дням."
   ]
  },
  {
   "cell_type": "markdown",
   "metadata": {},
   "source": [
    "##### Датасет users"
   ]
  },
  {
   "cell_type": "markdown",
   "metadata": {},
   "source": [
    "По ТЗ новые пользователи набирались в период с 2020-12-07 по 2021-01-04<br>\n",
    "Будем анализировать файл данных пользователей только в этом интервале"
   ]
  },
  {
   "cell_type": "code",
   "execution_count": 433,
   "metadata": {},
   "outputs": [],
   "source": [
    "users_in=users.query('first_date >=\"2020-12-07\" and first_date <=\"2020-12-21\"')"
   ]
  },
  {
   "cell_type": "code",
   "execution_count": 434,
   "metadata": {},
   "outputs": [
    {
     "name": "stdout",
     "output_type": "stream",
     "text": [
      "период данных  2020-12-07 00:00:00 по 2020-12-21 00:00:00\n"
     ]
    }
   ],
   "source": [
    "print('период данных ',users_in['first_date'].min(), 'по', users_in['first_date'].max())"
   ]
  },
  {
   "cell_type": "markdown",
   "metadata": {},
   "source": [
    "Данные в отфильтрованном датасете соотвествуют диапазону времени набора в ТЗ. Начало интервала совпадает с датой запуска: 2020-12-07; дата остановки набора новых пользователей: 2020-12-21."
   ]
  },
  {
   "cell_type": "code",
   "execution_count": 435,
   "metadata": {},
   "outputs": [
    {
     "name": "stdout",
     "output_type": "stream",
     "text": [
      "В датасете осталось  56470 записей от начальных 61733\n"
     ]
    }
   ],
   "source": [
    "print('В датасете осталось ', len(users_in), 'записей от начальных', len(users))"
   ]
  },
  {
   "cell_type": "markdown",
   "metadata": {},
   "source": [
    "##### Датасет ab_events"
   ]
  },
  {
   "cell_type": "markdown",
   "metadata": {},
   "source": [
    "При анализе датасета проверим полноту данных, а также соответствие требованию ТЗ - события за 14 дней."
   ]
  },
  {
   "cell_type": "markdown",
   "metadata": {},
   "source": [
    "###### Анализ полноты данных в логах"
   ]
  },
  {
   "cell_type": "code",
   "execution_count": 436,
   "metadata": {},
   "outputs": [
    {
     "name": "stdout",
     "output_type": "stream",
     "text": [
      "период данных  2020-12-07 00:00:33 по 2020-12-30 23:36:33\n"
     ]
    }
   ],
   "source": [
    "print('период данных ',ab_events['event_dt'].min(), 'по', ab_events['event_dt'].max())"
   ]
  },
  {
   "cell_type": "markdown",
   "metadata": {},
   "source": [
    "По условиям ТЗ \n",
    "Начало интервала совпадает с датой запуска: 2020-12-07,  а дата окончания теста 2021-01-04 больше чем данные в файле.\n",
    "Предположительно в период праздников сбор данных не осуществлялся. Для теста имеет смысл рассмативать данные с 07-12 по 30-12."
   ]
  },
  {
   "cell_type": "markdown",
   "metadata": {},
   "source": [
    "Учитывая неполноту данных о событиях, выявилась еще одна проблема: мах дата регистрации пользователя 21-12, а период данных по 30-12. У части пользователей не будет выполнено условие ТЗ 14 дней с момента регистрации в системе. "
   ]
  },
  {
   "cell_type": "markdown",
   "metadata": {},
   "source": [
    "###### Анализ избыточности данных в логах"
   ]
  },
  {
   "cell_type": "markdown",
   "metadata": {},
   "source": [
    "Будем делать проверку по lifetime. Для каждого пользователя определим мин дату события и будем вычислять lifetime строки как разницу мин и текущего времени."
   ]
  },
  {
   "cell_type": "code",
   "execution_count": 437,
   "metadata": {},
   "outputs": [
    {
     "name": "stdout",
     "output_type": "stream",
     "text": [
      "<class 'pandas.core.frame.DataFrame'>\n",
      "Int64Index: 422640 entries, 0 to 440316\n",
      "Data columns (total 6 columns):\n",
      " #   Column      Non-Null Count   Dtype          \n",
      "---  ------      --------------   -----          \n",
      " 0   user_id     422640 non-null  object         \n",
      " 1   event_dt    422640 non-null  datetime64[ns] \n",
      " 2   event_name  422640 non-null  object         \n",
      " 3   details     60236 non-null   float64        \n",
      " 4   min_dt      422640 non-null  datetime64[ns] \n",
      " 5   lifetime    422640 non-null  timedelta64[ns]\n",
      "dtypes: datetime64[ns](2), float64(1), object(2), timedelta64[ns](1)\n",
      "memory usage: 22.6+ MB\n"
     ]
    }
   ],
   "source": [
    "events_min=ab_events.groupby('user_id').agg({'event_dt':'min'}) \n",
    "ab_events_lt=ab_events.merge(events_min, on='user_id')\n",
    "ab_events_lt=ab_events_lt.rename(columns={'event_dt_x':'event_dt','event_dt_y':'min_dt' })\n",
    "ab_events_lt['lifetime']=pd.to_datetime(ab_events_lt['event_dt'],unit='d') - pd.to_datetime(ab_events_lt['min_dt'],unit='d')\n",
    "ab_events_in=ab_events_lt.query('lifetime<= \"14 days 00:00:00\"')\n",
    "ab_events_in.info()"
   ]
  },
  {
   "cell_type": "markdown",
   "metadata": {},
   "source": [
    "Размер датасета уменьшился, было 440317 записей, осталось 422640"
   ]
  },
  {
   "cell_type": "markdown",
   "metadata": {},
   "source": [
    "#### Проверить аудиторию теста. Удостоверьтесь, что нет пересечений с конкурирующим тестом и нет пользователей, участвующих в двух группах теста одновременно."
   ]
  },
  {
   "cell_type": "code",
   "execution_count": 438,
   "metadata": {},
   "outputs": [
    {
     "data": {
      "text/html": [
       "<div>\n",
       "<style scoped>\n",
       "    .dataframe tbody tr th:only-of-type {\n",
       "        vertical-align: middle;\n",
       "    }\n",
       "\n",
       "    .dataframe tbody tr th {\n",
       "        vertical-align: top;\n",
       "    }\n",
       "\n",
       "    .dataframe thead th {\n",
       "        text-align: right;\n",
       "    }\n",
       "</style>\n",
       "<table border=\"1\" class=\"dataframe\">\n",
       "  <thead>\n",
       "    <tr style=\"text-align: right;\">\n",
       "      <th></th>\n",
       "      <th>user_id</th>\n",
       "    </tr>\n",
       "    <tr>\n",
       "      <th>ab_test</th>\n",
       "      <th></th>\n",
       "    </tr>\n",
       "  </thead>\n",
       "  <tbody>\n",
       "    <tr>\n",
       "      <th>interface_eu_test</th>\n",
       "      <td>11567</td>\n",
       "    </tr>\n",
       "    <tr>\n",
       "      <th>recommender_system_test</th>\n",
       "      <td>6701</td>\n",
       "    </tr>\n",
       "  </tbody>\n",
       "</table>\n",
       "</div>"
      ],
      "text/plain": [
       "                         user_id\n",
       "ab_test                         \n",
       "interface_eu_test          11567\n",
       "recommender_system_test     6701"
      ]
     },
     "metadata": {},
     "output_type": "display_data"
    },
    {
     "name": "stdout",
     "output_type": "stream",
     "text": [
      "В датасете  16666  уникальных пользователей\n"
     ]
    }
   ],
   "source": [
    "display(parts.groupby('ab_test').agg({'user_id':'count'}))\n",
    "print('В датасете ',parts['user_id'].nunique(),' уникальных пользователей')"
   ]
  },
  {
   "cell_type": "markdown",
   "metadata": {},
   "source": [
    "Проверим пересечение групп пользователей"
   ]
  },
  {
   "cell_type": "code",
   "execution_count": 439,
   "metadata": {},
   "outputs": [
    {
     "name": "stdout",
     "output_type": "stream",
     "text": [
      "Найдено  1602 пользователей, которые участвовали сразу в 2х тестах\n"
     ]
    }
   ],
   "source": [
    "parts_1 = parts.query('ab_test == \"recommender_system_test\"')\n",
    "parts_2 = parts.query('ab_test == \"interface_eu_test\"')\n",
    "test= parts_1.merge(parts_2, on='user_id')\n",
    "wrong_users = test['user_id'].unique().tolist()\n",
    "print('Найдено ', len(wrong_users), 'пользователей, которые участвовали сразу в 2х тестах')"
   ]
  },
  {
   "cell_type": "markdown",
   "metadata": {},
   "source": [
    "Проверим куда они входят"
   ]
  },
  {
   "cell_type": "code",
   "execution_count": 440,
   "metadata": {},
   "outputs": [
    {
     "data": {
      "text/html": [
       "<div>\n",
       "<style scoped>\n",
       "    .dataframe tbody tr th:only-of-type {\n",
       "        vertical-align: middle;\n",
       "    }\n",
       "\n",
       "    .dataframe tbody tr th {\n",
       "        vertical-align: top;\n",
       "    }\n",
       "\n",
       "    .dataframe thead th {\n",
       "        text-align: right;\n",
       "    }\n",
       "</style>\n",
       "<table border=\"1\" class=\"dataframe\">\n",
       "  <thead>\n",
       "    <tr style=\"text-align: right;\">\n",
       "      <th></th>\n",
       "      <th>user_id</th>\n",
       "    </tr>\n",
       "    <tr>\n",
       "      <th>group</th>\n",
       "      <th></th>\n",
       "    </tr>\n",
       "  </thead>\n",
       "  <tbody>\n",
       "    <tr>\n",
       "      <th>A</th>\n",
       "      <td>921</td>\n",
       "    </tr>\n",
       "    <tr>\n",
       "      <th>B</th>\n",
       "      <td>681</td>\n",
       "    </tr>\n",
       "  </tbody>\n",
       "</table>\n",
       "</div>"
      ],
      "text/plain": [
       "       user_id\n",
       "group         \n",
       "A          921\n",
       "B          681"
      ]
     },
     "execution_count": 440,
     "metadata": {},
     "output_type": "execute_result"
    }
   ],
   "source": [
    "parts_wrong= parts.query('user_id in @wrong_users')\n",
    "parts_wrong.query('ab_test==\"recommender_system_test\"').groupby('group').agg({'user_id':'count'})"
   ]
  },
  {
   "cell_type": "markdown",
   "metadata": {},
   "source": [
    "Пользователи попали в обе группы теста interface_eu_test, очистим данные от аномальных пользователей"
   ]
  },
  {
   "cell_type": "code",
   "execution_count": 441,
   "metadata": {},
   "outputs": [
    {
     "name": "stdout",
     "output_type": "stream",
     "text": [
      "В датасете осталось  15064 записей от начальных 18268\n",
      "Число отфильтрованных участников теста recommender_system_test  5099\n"
     ]
    }
   ],
   "source": [
    "parts_good= parts.query('user_id not in @wrong_users')\n",
    "parts_test=parts_good.query('ab_test==\"recommender_system_test\"')\n",
    "print('В датасете осталось ', len(parts_good), 'записей от начальных', len(parts))\n",
    "print('Число отфильтрованных участников теста recommender_system_test ',len(parts_test))"
   ]
  },
  {
   "cell_type": "code",
   "execution_count": 442,
   "metadata": {},
   "outputs": [
    {
     "data": {
      "text/html": [
       "<div>\n",
       "<style scoped>\n",
       "    .dataframe tbody tr th:only-of-type {\n",
       "        vertical-align: middle;\n",
       "    }\n",
       "\n",
       "    .dataframe tbody tr th {\n",
       "        vertical-align: top;\n",
       "    }\n",
       "\n",
       "    .dataframe thead th {\n",
       "        text-align: right;\n",
       "    }\n",
       "</style>\n",
       "<table border=\"1\" class=\"dataframe\">\n",
       "  <thead>\n",
       "    <tr style=\"text-align: right;\">\n",
       "      <th></th>\n",
       "      <th>user_id</th>\n",
       "    </tr>\n",
       "    <tr>\n",
       "      <th>ab_test</th>\n",
       "      <th></th>\n",
       "    </tr>\n",
       "  </thead>\n",
       "  <tbody>\n",
       "    <tr>\n",
       "      <th>interface_eu_test</th>\n",
       "      <td>9965</td>\n",
       "    </tr>\n",
       "    <tr>\n",
       "      <th>recommender_system_test</th>\n",
       "      <td>5099</td>\n",
       "    </tr>\n",
       "  </tbody>\n",
       "</table>\n",
       "</div>"
      ],
      "text/plain": [
       "                         user_id\n",
       "ab_test                         \n",
       "interface_eu_test           9965\n",
       "recommender_system_test     5099"
      ]
     },
     "metadata": {},
     "output_type": "display_data"
    }
   ],
   "source": [
    "display(parts_good.groupby('ab_test').agg({'user_id':'count'}))"
   ]
  },
  {
   "cell_type": "markdown",
   "metadata": {},
   "source": [
    "Найдено 1602 пользователей, которые участвовали сразу в 2х тестах. Наличие таких пользователей сильно искажает результаты теста, поэтому они были удалены.\n",
    "По условиям ТЗ число участников теста recommender_system_test около 6000 человек, реально 5099 человек (этот показатель еще уменьшится в дальнейшем исследовании)."
   ]
  },
  {
   "cell_type": "markdown",
   "metadata": {},
   "source": [
    "<b>Проверим также, не пересекаются ли у нас пользователи групп А и В в рамках одного теста</b>"
   ]
  },
  {
   "cell_type": "code",
   "execution_count": 443,
   "metadata": {},
   "outputs": [
    {
     "name": "stdout",
     "output_type": "stream",
     "text": [
      "Найдено  0 пользователей, которые участвовали сразу в 2х группах теста interface_eu_test\n"
     ]
    }
   ],
   "source": [
    "parts_a = parts_good.query('group==\"A\"')\n",
    "parts_b = parts_good.query('group==\"B\"')\n",
    "test_t= parts_a.merge(parts_b, on='user_id')\n",
    "wrong_users_test = test_t['user_id'].unique().tolist()\n",
    "print('Найдено ', len(wrong_users_test), 'пользователей, которые участвовали сразу в 2х группах теста interface_eu_test')"
   ]
  },
  {
   "cell_type": "markdown",
   "metadata": {},
   "source": [
    "#### Проверьте равномерность распределения пользователей по тестовым группам и правильность их формирования."
   ]
  },
  {
   "cell_type": "markdown",
   "metadata": {},
   "source": [
    "##### Регион : аудитория 15% новых пользователей из региона EU."
   ]
  },
  {
   "cell_type": "markdown",
   "metadata": {},
   "source": [
    "Для оценки пользователей региона объединим датасеты users, parts"
   ]
  },
  {
   "cell_type": "code",
   "execution_count": 444,
   "metadata": {},
   "outputs": [
    {
     "data": {
      "text/html": [
       "<div>\n",
       "<style scoped>\n",
       "    .dataframe tbody tr th:only-of-type {\n",
       "        vertical-align: middle;\n",
       "    }\n",
       "\n",
       "    .dataframe tbody tr th {\n",
       "        vertical-align: top;\n",
       "    }\n",
       "\n",
       "    .dataframe thead th {\n",
       "        text-align: right;\n",
       "    }\n",
       "</style>\n",
       "<table border=\"1\" class=\"dataframe\">\n",
       "  <thead>\n",
       "    <tr style=\"text-align: right;\">\n",
       "      <th></th>\n",
       "      <th>region</th>\n",
       "      <th>test_users</th>\n",
       "    </tr>\n",
       "  </thead>\n",
       "  <tbody>\n",
       "    <tr>\n",
       "      <th>0</th>\n",
       "      <td>APAC</td>\n",
       "      <td>72</td>\n",
       "    </tr>\n",
       "    <tr>\n",
       "      <th>1</th>\n",
       "      <td>CIS</td>\n",
       "      <td>55</td>\n",
       "    </tr>\n",
       "    <tr>\n",
       "      <th>2</th>\n",
       "      <td>EU</td>\n",
       "      <td>6351</td>\n",
       "    </tr>\n",
       "    <tr>\n",
       "      <th>3</th>\n",
       "      <td>N.America</td>\n",
       "      <td>223</td>\n",
       "    </tr>\n",
       "  </tbody>\n",
       "</table>\n",
       "</div>"
      ],
      "text/plain": [
       "      region  test_users\n",
       "0       APAC          72\n",
       "1        CIS          55\n",
       "2         EU        6351\n",
       "3  N.America         223"
      ]
     },
     "execution_count": 444,
     "metadata": {},
     "output_type": "execute_result"
    }
   ],
   "source": [
    "in_test = parts.loc[parts['ab_test'] == 'recommender_system_test']\n",
    "in_test = in_test.merge(users_in, on='user_id', how = 'inner')\n",
    "test_u=in_test.groupby(['region']).agg({'user_id':'count'}).reset_index()\n",
    "test_u.columns = ['region', 'test_users']\n",
    "test_u"
   ]
  },
  {
   "cell_type": "markdown",
   "metadata": {},
   "source": [
    "Сделаем единую таблицу всех пользоватлей региона и расчитаем % пользоватлей теста."
   ]
  },
  {
   "cell_type": "code",
   "execution_count": 445,
   "metadata": {},
   "outputs": [
    {
     "data": {
      "text/html": [
       "<div>\n",
       "<style scoped>\n",
       "    .dataframe tbody tr th:only-of-type {\n",
       "        vertical-align: middle;\n",
       "    }\n",
       "\n",
       "    .dataframe tbody tr th {\n",
       "        vertical-align: top;\n",
       "    }\n",
       "\n",
       "    .dataframe thead th {\n",
       "        text-align: right;\n",
       "    }\n",
       "</style>\n",
       "<table border=\"1\" class=\"dataframe\">\n",
       "  <thead>\n",
       "    <tr style=\"text-align: right;\">\n",
       "      <th></th>\n",
       "      <th>region</th>\n",
       "      <th>all_users</th>\n",
       "      <th>test_users</th>\n",
       "      <th>%</th>\n",
       "    </tr>\n",
       "  </thead>\n",
       "  <tbody>\n",
       "    <tr>\n",
       "      <th>2</th>\n",
       "      <td>EU</td>\n",
       "      <td>42340</td>\n",
       "      <td>6351</td>\n",
       "      <td>15.0</td>\n",
       "    </tr>\n",
       "  </tbody>\n",
       "</table>\n",
       "</div>"
      ],
      "text/plain": [
       "  region  all_users  test_users     %\n",
       "2     EU      42340        6351  15.0"
      ]
     },
     "execution_count": 445,
     "metadata": {},
     "output_type": "execute_result"
    }
   ],
   "source": [
    "all_users=users_in.groupby(['region']).agg({'user_id':'count'}).reset_index()\n",
    "all_users.columns = ['region', 'all_users']\n",
    "all_users=all_users.merge(test_u, on='region')\n",
    "all_users['%']=round(all_users['test_users']/all_users['all_users']*100,0)\n",
    "all_users.query('region==\"EU\"')"
   ]
  },
  {
   "cell_type": "markdown",
   "metadata": {},
   "source": [
    "Сохраним число пользователей EU и после фильтрации еще раз проверим соотношение"
   ]
  },
  {
   "cell_type": "code",
   "execution_count": 446,
   "metadata": {},
   "outputs": [
    {
     "name": "stdout",
     "output_type": "stream",
     "text": [
      "Общее число пользователей EU= 42340\n"
     ]
    }
   ],
   "source": [
    "all_eu=all_users.iloc [[2]]['all_users'].reset_index(drop=True)\n",
    "print('Общее число пользователей EU=',all_eu[0])"
   ]
  },
  {
   "cell_type": "markdown",
   "metadata": {},
   "source": [
    "По первоначальной выборке условие ТЗ соблюдено, но далее, по мере фильтрации данных число тестовых пользователей снизится и уже не будет составлять 15%."
   ]
  },
  {
   "cell_type": "markdown",
   "metadata": {},
   "source": [
    "##### Наличие событий"
   ]
  },
  {
   "cell_type": "markdown",
   "metadata": {},
   "source": [
    "Проверим все ли пользователи совершали события"
   ]
  },
  {
   "cell_type": "code",
   "execution_count": 447,
   "metadata": {},
   "outputs": [
    {
     "name": "stdout",
     "output_type": "stream",
     "text": [
      "user_id           0\n",
      "group             0\n",
      "ab_test           0\n",
      "event_dt       2311\n",
      "event_name     2311\n",
      "details       18146\n",
      "min_dt         2311\n",
      "lifetime       2311\n",
      "dtype: int64\n"
     ]
    }
   ],
   "source": [
    "df = parts_test.merge(ab_events_in, on = 'user_id', how='left')\n",
    "print(df.isnull().sum())"
   ]
  },
  {
   "cell_type": "markdown",
   "metadata": {},
   "source": [
    "После объединения видно, что часть пользователей не совершала событий, удалим их"
   ]
  },
  {
   "cell_type": "code",
   "execution_count": 448,
   "metadata": {},
   "outputs": [],
   "source": [
    "df=df.dropna(subset=['event_name'])"
   ]
  },
  {
   "cell_type": "markdown",
   "metadata": {},
   "source": [
    "##### Равномерность распределения пользователей"
   ]
  },
  {
   "cell_type": "markdown",
   "metadata": {},
   "source": [
    "Соединим полученные данные с датасетом users"
   ]
  },
  {
   "cell_type": "code",
   "execution_count": 449,
   "metadata": {},
   "outputs": [],
   "source": [
    "df=df.merge(users_in, on = 'user_id', how='left')"
   ]
  },
  {
   "cell_type": "code",
   "execution_count": 450,
   "metadata": {
    "scrolled": true
   },
   "outputs": [
    {
     "data": {
      "text/plain": [
       "group\n",
       "A    2082\n",
       "B     706\n",
       "Name: user_id, dtype: int64"
      ]
     },
     "metadata": {},
     "output_type": "display_data"
    },
    {
     "name": "stdout",
     "output_type": "stream",
     "text": [
      "Число пользователей в группе B составляет лишь 33.91 % от пользователей A\n"
     ]
    }
   ],
   "source": [
    "filtred=df.groupby('group')['user_id'].nunique()\n",
    "a_b=round(filtred['B']/filtred['A']*100,2)\n",
    "display(filtred)\n",
    "print('Число пользователей в группе B составляет лишь',a_b,'% от пользователей A')"
   ]
  },
  {
   "cell_type": "markdown",
   "metadata": {},
   "source": [
    "Число пользователей в группе А почти в 3 раза превышает пользователей группы В, но размер группы В превышает 10% пользоватлей группы А, что является достаточным для теста. "
   ]
  },
  {
   "cell_type": "code",
   "execution_count": 451,
   "metadata": {},
   "outputs": [
    {
     "name": "stdout",
     "output_type": "stream",
     "text": [
      "После фильтрации осталось 2788  что составляет 46.47 % от 6000 заявленных пользоватлей\n",
      "От всех пользователей региона EU 42340  это составляет всего 6.58 %\n"
     ]
    }
   ],
   "source": [
    "all_u=filtred['A']+filtred['B']\n",
    "u_tz=round(all_u/6000*100,2)\n",
    "u_eu=round(all_u/all_eu[0]*100,2)\n",
    "print('После фильтрации осталось',all_u,' что составляет' ,u_tz,'% от 6000 заявленных пользоватлей')\n",
    "print('От всех пользователей региона EU',all_eu[0],' это составляет всего' ,u_eu,'%')\n"
   ]
  },
  {
   "cell_type": "markdown",
   "metadata": {},
   "source": [
    "   На этом этапе были <br>\n",
    "- исследованы пропущенные значения<br>\n",
    "- преобразованы типы данных object в datetime64<br>\n",
    "- проверены дубликаты, их не обнаружено<br><br>\n",
    "Была проведена проверка данных на соответствие условиям ТЗ<br>\n",
    "- Найдено пересечение дата остановки теста: 2021-01-04 с промо Christmas&New Year Promo, влияние данной пром проверм далее<br>\n",
    "- Датасет users были отфильтрованы пользователи с датой регистрации после окончания набора<br>\n",
    "- Датасет ab_events - была выявлена неполнота данных,данные с 07-12 по 30-12<br>\n",
    "- Датасет ab_events - была выявлена избыточность данных, лишние данные были удалены<br>\n",
    "- В силу неполноты данных обнаружена проблема 14 дней с даты регстрации, часть пользователей не успеет набрать нужный срок в системе<br>\n",
    "- Найдено  1602 пользователей, которые участвовали сразу в 2х тестах, они былы удалены, т.к. сильно исказили бы результаты<br>\n",
    "- Были обнаружены пользователи без событий, они были удалены<br>\n",
    "- В первоначальной выборке число пользоватлей соответствует ТЗ =15% от EU пользователей, но после фильтрации число сократилось <br>\n",
    "- После фильтрации осталось 2788 пользователей, что составляет 46.47 % от 6000 заявленных пользоватлей и лишь 6.58 % от всех пользователей EU.<br>\n",
    "Далее проведем исследовательский анализ данных.<br>"
   ]
  },
  {
   "cell_type": "markdown",
   "metadata": {},
   "source": [
    "## Исследовательский анализ данных"
   ]
  },
  {
   "cell_type": "markdown",
   "metadata": {},
   "source": [
    "### Количество событий на пользователя одинаково распределены в выборках?"
   ]
  },
  {
   "cell_type": "markdown",
   "metadata": {},
   "source": [
    "Расчитем количество событий на пользоватля"
   ]
  },
  {
   "cell_type": "code",
   "execution_count": 452,
   "metadata": {},
   "outputs": [],
   "source": [
    "events_per_user = ab_events_in.groupby('user_id')['event_name'].count().reset_index()\n",
    "events_per_user.columns = ['user_id', 'sum_events']"
   ]
  },
  {
   "cell_type": "markdown",
   "metadata": {},
   "source": [
    "Добавим информацию в датасет df"
   ]
  },
  {
   "cell_type": "code",
   "execution_count": 453,
   "metadata": {},
   "outputs": [],
   "source": [
    "df = df.merge(events_per_user, on='user_id', how='left')\n",
    "gr_a= df.query('group ==\"A\"')\n",
    "gr_b= df.query('group ==\"B\"')"
   ]
  },
  {
   "cell_type": "markdown",
   "metadata": {},
   "source": [
    "Построим графики"
   ]
  },
  {
   "cell_type": "code",
   "execution_count": 454,
   "metadata": {},
   "outputs": [
    {
     "data": {
      "image/png": "[encoded data removed]",
      "text/plain": [
       "<Figure size 1080x576 with 1 Axes>"
      ]
     },
     "metadata": {
      "needs_background": "light"
     },
     "output_type": "display_data"
    },
    {
     "name": "stdout",
     "output_type": "stream",
     "text": [
      "группа А среднее число событий 9\n",
      "группа B среднее число событий 7\n"
     ]
    }
   ],
   "source": [
    "plt.figure(figsize=(15, 8))\n",
    "sns.distplot(gr_a['sum_events'], bins=20)\n",
    "sns.distplot(gr_b['sum_events'],bins=20, color = 'g')\n",
    "plt.legend(labels = ('Группа A', 'Группа B'))\n",
    "plt.xlabel('Кол-во событий на пользователя')\n",
    "plt.ylabel('Кол-во пользователей')\n",
    "plt.title('Распределение пользователей по количеству событий')\n",
    "plt.show()\n",
    "print('группа А среднее число событий',round(gr_a['sum_events'].mean()))\n",
    "print('группа B среднее число событий',round(gr_b['sum_events'].mean()))"
   ]
  },
  {
   "cell_type": "markdown",
   "metadata": {},
   "source": [
    "Распределение событий по пользоватлея групп А и В похоже. В среднем по группе А на 1 событие больше чем в группе В."
   ]
  },
  {
   "cell_type": "markdown",
   "metadata": {},
   "source": [
    "### Как число событий в выборках распределено по дням?"
   ]
  },
  {
   "cell_type": "code",
   "execution_count": 455,
   "metadata": {},
   "outputs": [],
   "source": [
    "df['day'] = df.event_dt.dt.date\n",
    "gr_a= df.query('group ==\"A\"')\n",
    "gr_b= df.query('group ==\"B\"')\n",
    "gr_a = gr_a.groupby('day')['event_dt'].count().reset_index()\n",
    "gr_b = gr_b.groupby('day')['event_dt'].count().reset_index()\n",
    "gr_a.columns = ['day', 'sum_events']\n",
    "gr_b.columns = ['day', 'sum_events']"
   ]
  },
  {
   "cell_type": "code",
   "execution_count": 456,
   "metadata": {},
   "outputs": [
    {
     "data": {
      "image/png": "[encoded data removed]",
      "text/plain": [
       "<Figure size 1080x504 with 2 Axes>"
      ]
     },
     "metadata": {
      "needs_background": "light"
     },
     "output_type": "display_data"
    }
   ],
   "source": [
    "fig = plt.figure(figsize=(15, 7))\n",
    "ax1 = fig.add_subplot(121)\n",
    "ax1 = plt.barh(gr_a['day'], gr_a['sum_events'], color='r', alpha=0.45)\n",
    "plt.xlabel('Кол-во событий')\n",
    "plt.ylabel('ДАТА')\n",
    "plt.title('Распределение всех событий по дням в группе А')\n",
    "ax2 = fig.add_subplot(122)\n",
    "ax1 = plt.barh(gr_b['day'], gr_b['sum_events'], color='y', alpha=0.45)\n",
    "plt.xlabel('Кол-во событий')\n",
    "plt.ylabel('ДАТА')\n",
    "plt.title('Распределение событий по дням в группе В')\n",
    "plt.tight_layout()"
   ]
  },
  {
   "cell_type": "markdown",
   "metadata": {},
   "source": [
    "Для группы А события примерно на одном уровне до 13 декабря, затем число событий возрастает и растет до мах 21-12, после этого начинает падать. В группе В также мах 21-12, затем снижение событий. До 21-12 график группы В показывает более высокую активность с 3 всплесками."
   ]
  },
  {
   "cell_type": "markdown",
   "metadata": {},
   "source": [
    "Рассмотрим также графики в разрезе событий"
   ]
  },
  {
   "cell_type": "code",
   "execution_count": 457,
   "metadata": {},
   "outputs": [
    {
     "data": {
      "text/plain": [
       "<Figure size 1656x720 with 0 Axes>"
      ]
     },
     "metadata": {},
     "output_type": "display_data"
    },
    {
     "data": {
      "image/png": "[encoded data removed]",
      "text/plain": [
       "<Figure size 432x288 with 1 Axes>"
      ]
     },
     "metadata": {
      "needs_background": "light"
     },
     "output_type": "display_data"
    }
   ],
   "source": [
    "gr_a= df.query('group ==\"A\"')\n",
    "gr_b= df.query('group ==\"B\"')\n",
    "fig = plt.figure(figsize=(23,10))\n",
    "ax = gr_a.pivot_table(index='day', values='user_id', columns='event_name', aggfunc='count').plot.bar(stacked=True, ylim=(0, 1700))\n",
    "ax.set_title(\"Группа A\")\n",
    "plt.xlabel('День')\n",
    "plt.ylabel('Кол-во событий')\n",
    "plt.show()"
   ]
  },
  {
   "cell_type": "markdown",
   "metadata": {},
   "source": [
    "Для группы А при росте событий с 14.12 по 21-12 заметен рост событий добавление в корзину, просмотр продукта и покупка. Данных за 30-12 у группы А нет."
   ]
  },
  {
   "cell_type": "code",
   "execution_count": 458,
   "metadata": {},
   "outputs": [
    {
     "data": {
      "text/plain": [
       "<Figure size 1656x720 with 0 Axes>"
      ]
     },
     "metadata": {},
     "output_type": "display_data"
    },
    {
     "data": {
      "image/png": "[encoded data removed]",
      "text/plain": [
       "<Figure size 432x288 with 1 Axes>"
      ]
     },
     "metadata": {
      "needs_background": "light"
     },
     "output_type": "display_data"
    }
   ],
   "source": [
    "fig = plt.figure(figsize=(23,10))\n",
    "ax = gr_b.pivot_table(index='day', values='user_id', columns='event_name', aggfunc='count').plot.bar(stacked=True, ylim=(0, 400))\n",
    "ax.set_title(\"Группа B\")\n",
    "plt.xlabel('День')\n",
    "plt.ylabel('Кол-во событий')\n",
    "plt.show()"
   ]
  },
  {
   "cell_type": "markdown",
   "metadata": {},
   "source": [
    "У группы В в период до 21.12 болшая активность по событиям добавление в корзину, просмотр продукта и покупка чем у группы А.\n",
    "Также отметим, что 30-12 у группы В почти нет событий."
   ]
  },
  {
   "cell_type": "markdown",
   "metadata": {},
   "source": [
    "Уже на этом этапе можно заметить, что события добавление в корзину и покупка примерно равны. Подробнее их рассмсотрим далее на воронке событий."
   ]
  },
  {
   "cell_type": "markdown",
   "metadata": {},
   "source": [
    "Проверим рост событий 14 числа в группе А"
   ]
  },
  {
   "cell_type": "code",
   "execution_count": 460,
   "metadata": {},
   "outputs": [
    {
     "data": {
      "text/html": [
       "<div>\n",
       "<style scoped>\n",
       "    .dataframe tbody tr th:only-of-type {\n",
       "        vertical-align: middle;\n",
       "    }\n",
       "\n",
       "    .dataframe tbody tr th {\n",
       "        vertical-align: top;\n",
       "    }\n",
       "\n",
       "    .dataframe thead th {\n",
       "        text-align: right;\n",
       "    }\n",
       "</style>\n",
       "<table border=\"1\" class=\"dataframe\">\n",
       "  <thead>\n",
       "    <tr style=\"text-align: right;\">\n",
       "      <th></th>\n",
       "      <th>day</th>\n",
       "      <th>count_users</th>\n",
       "      <th>sum_events</th>\n",
       "      <th>per_user</th>\n",
       "    </tr>\n",
       "  </thead>\n",
       "  <tbody>\n",
       "    <tr>\n",
       "      <th>0</th>\n",
       "      <td>2020-12-07</td>\n",
       "      <td>109</td>\n",
       "      <td>234</td>\n",
       "      <td>2.146789</td>\n",
       "    </tr>\n",
       "    <tr>\n",
       "      <th>1</th>\n",
       "      <td>2020-12-08</td>\n",
       "      <td>121</td>\n",
       "      <td>267</td>\n",
       "      <td>2.206612</td>\n",
       "    </tr>\n",
       "    <tr>\n",
       "      <th>2</th>\n",
       "      <td>2020-12-09</td>\n",
       "      <td>135</td>\n",
       "      <td>296</td>\n",
       "      <td>2.192593</td>\n",
       "    </tr>\n",
       "    <tr>\n",
       "      <th>3</th>\n",
       "      <td>2020-12-10</td>\n",
       "      <td>122</td>\n",
       "      <td>265</td>\n",
       "      <td>2.172131</td>\n",
       "    </tr>\n",
       "    <tr>\n",
       "      <th>4</th>\n",
       "      <td>2020-12-11</td>\n",
       "      <td>137</td>\n",
       "      <td>282</td>\n",
       "      <td>2.058394</td>\n",
       "    </tr>\n",
       "    <tr>\n",
       "      <th>5</th>\n",
       "      <td>2020-12-12</td>\n",
       "      <td>134</td>\n",
       "      <td>282</td>\n",
       "      <td>2.104478</td>\n",
       "    </tr>\n",
       "    <tr>\n",
       "      <th>6</th>\n",
       "      <td>2020-12-13</td>\n",
       "      <td>126</td>\n",
       "      <td>253</td>\n",
       "      <td>2.007937</td>\n",
       "    </tr>\n",
       "    <tr>\n",
       "      <th>7</th>\n",
       "      <td>2020-12-14</td>\n",
       "      <td>366</td>\n",
       "      <td>823</td>\n",
       "      <td>2.248634</td>\n",
       "    </tr>\n",
       "    <tr>\n",
       "      <th>8</th>\n",
       "      <td>2020-12-15</td>\n",
       "      <td>361</td>\n",
       "      <td>834</td>\n",
       "      <td>2.310249</td>\n",
       "    </tr>\n",
       "    <tr>\n",
       "      <th>9</th>\n",
       "      <td>2020-12-16</td>\n",
       "      <td>356</td>\n",
       "      <td>810</td>\n",
       "      <td>2.275281</td>\n",
       "    </tr>\n",
       "  </tbody>\n",
       "</table>\n",
       "</div>"
      ],
      "text/plain": [
       "         day  count_users  sum_events  per_user\n",
       "0 2020-12-07          109         234  2.146789\n",
       "1 2020-12-08          121         267  2.206612\n",
       "2 2020-12-09          135         296  2.192593\n",
       "3 2020-12-10          122         265  2.172131\n",
       "4 2020-12-11          137         282  2.058394\n",
       "5 2020-12-12          134         282  2.104478\n",
       "6 2020-12-13          126         253  2.007937\n",
       "7 2020-12-14          366         823  2.248634\n",
       "8 2020-12-15          361         834  2.310249\n",
       "9 2020-12-16          356         810  2.275281"
      ]
     },
     "execution_count": 460,
     "metadata": {},
     "output_type": "execute_result"
    }
   ],
   "source": [
    "question=df.query('group ==\"A\"').groupby('day').agg({'user_id':'count','event_name' :'count', 'user_id': 'nunique'}).reset_index()\n",
    "question=question.rename(columns={'user_id':'count_users', 'event_name':'sum_events'})\n",
    "question['day']=question['day'].astype('datetime64')\n",
    "question['per_user']=question['sum_events']/question['count_users']\n",
    "question.head(10)"
   ]
  },
  {
   "cell_type": "markdown",
   "metadata": {},
   "source": [
    "Можно заметить, что 14 числа резко (почти в 3 раза) выросло число пользоватлей, и сразу повысилось число событий, при этом число событий на пользователя резко не возросло."
   ]
  },
  {
   "cell_type": "markdown",
   "metadata": {},
   "source": [
    "### Как меняется конверсия в воронке в выборках на разных этапах?"
   ]
  },
  {
   "cell_type": "markdown",
   "metadata": {},
   "source": [
    "Выделим пользоватлей тестов, для этого отфильтруем по группе и посчитаем число каждого события"
   ]
  },
  {
   "cell_type": "code",
   "execution_count": 461,
   "metadata": {},
   "outputs": [],
   "source": [
    "events_count_A = gr_a.groupby('event_name').agg({'event_name':'count', 'user_id': 'nunique'}).sort_values(by='user_id', ascending=False)\n",
    "step = pd.Series([0, 1, 3, 2], index=events_count_A.index)\n",
    "events_count_A['step'] = step\n",
    "events_count_A = events_count_A.sort_values(by='step')\n",
    "events_count_A.columns = ['event_count', 'count_users', 'step']\n",
    "events_count_A = events_count_A.reset_index()\n",
    "events_count_A['percent'] = (100* events_count_A['count_users'] / gr_a['user_id'].nunique()).round(2)\n",
    "events_count_B = gr_b.groupby('event_name').agg({'event_name':'count', 'user_id': 'nunique'}).sort_values(by='user_id', ascending=False)\n",
    "step = pd.Series([0, 1, 3, 2], index=events_count_B.index)\n",
    "events_count_B['step'] = step\n",
    "events_count_B = events_count_B.sort_values(by='step')\n",
    "events_count_B.columns = ['event_count', 'count_users', 'step']\n",
    "events_count_B = events_count_B.reset_index()\n",
    "events_count_B['percent'] = (100* events_count_B['count_users'] / gr_b['user_id'].nunique()).round(2)\n"
   ]
  },
  {
   "cell_type": "markdown",
   "metadata": {},
   "source": [
    "Построим воронку"
   ]
  },
  {
   "cell_type": "code",
   "execution_count": 462,
   "metadata": {},
   "outputs": [
    {
     "data": {
      "application/vnd.plotly.v1+json": {
       "config": {
        "plotlyServerURL": "https://plot.ly"
       },
       "data": [
        {
         "name": "Группа A",
         "textinfo": "value+percent previous+percent initial",
         "textposition": "inside",
         "type": "funnel",
         "x": [
          2082,
          1360,
          631,
          652
         ],
         "y": [
          "login",
          "product_page",
          "product_cart",
          "purchase"
         ]
        },
        {
         "name": "Группа B",
         "textinfo": "value+percent previous+percent initial",
         "textposition": "auto",
         "type": "funnel",
         "x": [
          705,
          397,
          195,
          198
         ],
         "y": [
          "login",
          "product_page",
          "product_cart",
          "purchase"
         ]
        }
       ],
       "layout": {
        "template": {
         "data": {
          "bar": [
           {
            "error_x": {
             "color": "#2a3f5f"
            },
            "error_y": {
             "color": "#2a3f5f"
            },
            "marker": {
             "line": {
              "color": "#E5ECF6",
              "width": 0.5
             },
             "pattern": {
              "fillmode": "overlay",
              "size": 10,
              "solidity": 0.2
             }
            },
            "type": "bar"
           }
          ],
          "barpolar": [
           {
            "marker": {
             "line": {
              "color": "#E5ECF6",
              "width": 0.5
             },
             "pattern": {
              "fillmode": "overlay",
              "size": 10,
              "solidity": 0.2
             }
            },
            "type": "barpolar"
           }
          ],
          "carpet": [
           {
            "aaxis": {
             "endlinecolor": "#2a3f5f",
             "gridcolor": "white",
             "linecolor": "white",
             "minorgridcolor": "white",
             "startlinecolor": "#2a3f5f"
            },
            "baxis": {
             "endlinecolor": "#2a3f5f",
             "gridcolor": "white",
             "linecolor": "white",
             "minorgridcolor": "white",
             "startlinecolor": "#2a3f5f"
            },
            "type": "carpet"
           }
          ],
          "choropleth": [
           {
            "colorbar": {
             "outlinewidth": 0,
             "ticks": ""
            },
            "type": "choropleth"
           }
          ],
          "contour": [
           {
            "colorbar": {
             "outlinewidth": 0,
             "ticks": ""
            },
            "colorscale": [
             [
              0,
              "#0d0887"
             ],
             [
              0.1111111111111111,
              "#46039f"
             ],
             [
              0.2222222222222222,
              "#7201a8"
             ],
             [
              0.3333333333333333,
              "#9c179e"
             ],
             [
              0.4444444444444444,
              "#bd3786"
             ],
             [
              0.5555555555555556,
              "#d8576b"
             ],
             [
              0.6666666666666666,
              "#ed7953"
             ],
             [
              0.7777777777777778,
              "#fb9f3a"
             ],
             [
              0.8888888888888888,
              "#fdca26"
             ],
             [
              1,
              "#f0f921"
             ]
            ],
            "type": "contour"
           }
          ],
          "contourcarpet": [
           {
            "colorbar": {
             "outlinewidth": 0,
             "ticks": ""
            },
            "type": "contourcarpet"
           }
          ],
          "heatmap": [
           {
            "colorbar": {
             "outlinewidth": 0,
             "ticks": ""
            },
            "colorscale": [
             [
              0,
              "#0d0887"
             ],
             [
              0.1111111111111111,
              "#46039f"
             ],
             [
              0.2222222222222222,
              "#7201a8"
             ],
             [
              0.3333333333333333,
              "#9c179e"
             ],
             [
              0.4444444444444444,
              "#bd3786"
             ],
             [
              0.5555555555555556,
              "#d8576b"
             ],
             [
              0.6666666666666666,
              "#ed7953"
             ],
             [
              0.7777777777777778,
              "#fb9f3a"
             ],
             [
              0.8888888888888888,
              "#fdca26"
             ],
             [
              1,
              "#f0f921"
             ]
            ],
            "type": "heatmap"
           }
          ],
          "heatmapgl": [
           {
            "colorbar": {
             "outlinewidth": 0,
             "ticks": ""
            },
            "colorscale": [
             [
              0,
              "#0d0887"
             ],
             [
              0.1111111111111111,
              "#46039f"
             ],
             [
              0.2222222222222222,
              "#7201a8"
             ],
             [
              0.3333333333333333,
              "#9c179e"
             ],
             [
              0.4444444444444444,
              "#bd3786"
             ],
             [
              0.5555555555555556,
              "#d8576b"
             ],
             [
              0.6666666666666666,
              "#ed7953"
             ],
             [
              0.7777777777777778,
              "#fb9f3a"
             ],
             [
              0.8888888888888888,
              "#fdca26"
             ],
             [
              1,
              "#f0f921"
             ]
            ],
            "type": "heatmapgl"
           }
          ],
          "histogram": [
           {
            "marker": {
             "pattern": {
              "fillmode": "overlay",
              "size": 10,
              "solidity": 0.2
             }
            },
            "type": "histogram"
           }
          ],
          "histogram2d": [
           {
            "colorbar": {
             "outlinewidth": 0,
             "ticks": ""
            },
            "colorscale": [
             [
              0,
              "#0d0887"
             ],
             [
              0.1111111111111111,
              "#46039f"
             ],
             [
              0.2222222222222222,
              "#7201a8"
             ],
             [
              0.3333333333333333,
              "#9c179e"
             ],
             [
              0.4444444444444444,
              "#bd3786"
             ],
             [
              0.5555555555555556,
              "#d8576b"
             ],
             [
              0.6666666666666666,
              "#ed7953"
             ],
             [
              0.7777777777777778,
              "#fb9f3a"
             ],
             [
              0.8888888888888888,
              "#fdca26"
             ],
             [
              1,
              "#f0f921"
             ]
            ],
            "type": "histogram2d"
           }
          ],
          "histogram2dcontour": [
           {
            "colorbar": {
             "outlinewidth": 0,
             "ticks": ""
            },
            "colorscale": [
             [
              0,
              "#0d0887"
             ],
             [
              0.1111111111111111,
              "#46039f"
             ],
             [
              0.2222222222222222,
              "#7201a8"
             ],
             [
              0.3333333333333333,
              "#9c179e"
             ],
             [
              0.4444444444444444,
              "#bd3786"
             ],
             [
              0.5555555555555556,
              "#d8576b"
             ],
             [
              0.6666666666666666,
              "#ed7953"
             ],
             [
              0.7777777777777778,
              "#fb9f3a"
             ],
             [
              0.8888888888888888,
              "#fdca26"
             ],
             [
              1,
              "#f0f921"
             ]
            ],
            "type": "histogram2dcontour"
           }
          ],
          "mesh3d": [
           {
            "colorbar": {
             "outlinewidth": 0,
             "ticks": ""
            },
            "type": "mesh3d"
           }
          ],
          "parcoords": [
           {
            "line": {
             "colorbar": {
              "outlinewidth": 0,
              "ticks": ""
             }
            },
            "type": "parcoords"
           }
          ],
          "pie": [
           {
            "automargin": true,
            "type": "pie"
           }
          ],
          "scatter": [
           {
            "marker": {
             "colorbar": {
              "outlinewidth": 0,
              "ticks": ""
             }
            },
            "type": "scatter"
           }
          ],
          "scatter3d": [
           {
            "line": {
             "colorbar": {
              "outlinewidth": 0,
              "ticks": ""
             }
            },
            "marker": {
             "colorbar": {
              "outlinewidth": 0,
              "ticks": ""
             }
            },
            "type": "scatter3d"
           }
          ],
          "scattercarpet": [
           {
            "marker": {
             "colorbar": {
              "outlinewidth": 0,
              "ticks": ""
             }
            },
            "type": "scattercarpet"
           }
          ],
          "scattergeo": [
           {
            "marker": {
             "colorbar": {
              "outlinewidth": 0,
              "ticks": ""
             }
            },
            "type": "scattergeo"
           }
          ],
          "scattergl": [
           {
            "marker": {
             "colorbar": {
              "outlinewidth": 0,
              "ticks": ""
             }
            },
            "type": "scattergl"
           }
          ],
          "scattermapbox": [
           {
            "marker": {
             "colorbar": {
              "outlinewidth": 0,
              "ticks": ""
             }
            },
            "type": "scattermapbox"
           }
          ],
          "scatterpolar": [
           {
            "marker": {
             "colorbar": {
              "outlinewidth": 0,
              "ticks": ""
             }
            },
            "type": "scatterpolar"
           }
          ],
          "scatterpolargl": [
           {
            "marker": {
             "colorbar": {
              "outlinewidth": 0,
              "ticks": ""
             }
            },
            "type": "scatterpolargl"
           }
          ],
          "scatterternary": [
           {
            "marker": {
             "colorbar": {
              "outlinewidth": 0,
              "ticks": ""
             }
            },
            "type": "scatterternary"
           }
          ],
          "surface": [
           {
            "colorbar": {
             "outlinewidth": 0,
             "ticks": ""
            },
            "colorscale": [
             [
              0,
              "#0d0887"
             ],
             [
              0.1111111111111111,
              "#46039f"
             ],
             [
              0.2222222222222222,
              "#7201a8"
             ],
             [
              0.3333333333333333,
              "#9c179e"
             ],
             [
              0.4444444444444444,
              "#bd3786"
             ],
             [
              0.5555555555555556,
              "#d8576b"
             ],
             [
              0.6666666666666666,
              "#ed7953"
             ],
             [
              0.7777777777777778,
              "#fb9f3a"
             ],
             [
              0.8888888888888888,
              "#fdca26"
             ],
             [
              1,
              "#f0f921"
             ]
            ],
            "type": "surface"
           }
          ],
          "table": [
           {
            "cells": {
             "fill": {
              "color": "#EBF0F8"
             },
             "line": {
              "color": "white"
             }
            },
            "header": {
             "fill": {
              "color": "#C8D4E3"
             },
             "line": {
              "color": "white"
             }
            },
            "type": "table"
           }
          ]
         },
         "layout": {
          "annotationdefaults": {
           "arrowcolor": "#2a3f5f",
           "arrowhead": 0,
           "arrowwidth": 1
          },
          "autotypenumbers": "strict",
          "coloraxis": {
           "colorbar": {
            "outlinewidth": 0,
            "ticks": ""
           }
          },
          "colorscale": {
           "diverging": [
            [
             0,
             "#8e0152"
            ],
            [
             0.1,
             "#c51b7d"
            ],
            [
             0.2,
             "#de77ae"
            ],
            [
             0.3,
             "#f1b6da"
            ],
            [
             0.4,
             "#fde0ef"
            ],
            [
             0.5,
             "#f7f7f7"
            ],
            [
             0.6,
             "#e6f5d0"
            ],
            [
             0.7,
             "#b8e186"
            ],
            [
             0.8,
             "#7fbc41"
            ],
            [
             0.9,
             "#4d9221"
            ],
            [
             1,
             "#276419"
            ]
           ],
           "sequential": [
            [
             0,
             "#0d0887"
            ],
            [
             0.1111111111111111,
             "#46039f"
            ],
            [
             0.2222222222222222,
             "#7201a8"
            ],
            [
             0.3333333333333333,
             "#9c179e"
            ],
            [
             0.4444444444444444,
             "#bd3786"
            ],
            [
             0.5555555555555556,
             "#d8576b"
            ],
            [
             0.6666666666666666,
             "#ed7953"
            ],
            [
             0.7777777777777778,
             "#fb9f3a"
            ],
            [
             0.8888888888888888,
             "#fdca26"
            ],
            [
             1,
             "#f0f921"
            ]
           ],
           "sequentialminus": [
            [
             0,
             "#0d0887"
            ],
            [
             0.1111111111111111,
             "#46039f"
            ],
            [
             0.2222222222222222,
             "#7201a8"
            ],
            [
             0.3333333333333333,
             "#9c179e"
            ],
            [
             0.4444444444444444,
             "#bd3786"
            ],
            [
             0.5555555555555556,
             "#d8576b"
            ],
            [
             0.6666666666666666,
             "#ed7953"
            ],
            [
             0.7777777777777778,
             "#fb9f3a"
            ],
            [
             0.8888888888888888,
             "#fdca26"
            ],
            [
             1,
             "#f0f921"
            ]
           ]
          },
          "colorway": [
           "#636efa",
           "#EF553B",
           "#00cc96",
           "#ab63fa",
           "#FFA15A",
           "#19d3f3",
           "#FF6692",
           "#B6E880",
           "#FF97FF",
           "#FECB52"
          ],
          "font": {
           "color": "#2a3f5f"
          },
          "geo": {
           "bgcolor": "white",
           "lakecolor": "white",
           "landcolor": "#E5ECF6",
           "showlakes": true,
           "showland": true,
           "subunitcolor": "white"
          },
          "hoverlabel": {
           "align": "left"
          },
          "hovermode": "closest",
          "mapbox": {
           "style": "light"
          },
          "paper_bgcolor": "white",
          "plot_bgcolor": "#E5ECF6",
          "polar": {
           "angularaxis": {
            "gridcolor": "white",
            "linecolor": "white",
            "ticks": ""
           },
           "bgcolor": "#E5ECF6",
           "radialaxis": {
            "gridcolor": "white",
            "linecolor": "white",
            "ticks": ""
           }
          },
          "scene": {
           "xaxis": {
            "backgroundcolor": "#E5ECF6",
            "gridcolor": "white",
            "gridwidth": 2,
            "linecolor": "white",
            "showbackground": true,
            "ticks": "",
            "zerolinecolor": "white"
           },
           "yaxis": {
            "backgroundcolor": "#E5ECF6",
            "gridcolor": "white",
            "gridwidth": 2,
            "linecolor": "white",
            "showbackground": true,
            "ticks": "",
            "zerolinecolor": "white"
           },
           "zaxis": {
            "backgroundcolor": "#E5ECF6",
            "gridcolor": "white",
            "gridwidth": 2,
            "linecolor": "white",
            "showbackground": true,
            "ticks": "",
            "zerolinecolor": "white"
           }
          },
          "shapedefaults": {
           "line": {
            "color": "#2a3f5f"
           }
          },
          "ternary": {
           "aaxis": {
            "gridcolor": "white",
            "linecolor": "white",
            "ticks": ""
           },
           "baxis": {
            "gridcolor": "white",
            "linecolor": "white",
            "ticks": ""
           },
           "bgcolor": "#E5ECF6",
           "caxis": {
            "gridcolor": "white",
            "linecolor": "white",
            "ticks": ""
           }
          },
          "title": {
           "x": 0.05
          },
          "xaxis": {
           "automargin": true,
           "gridcolor": "white",
           "linecolor": "white",
           "ticks": "",
           "title": {
            "standoff": 15
           },
           "zerolinecolor": "white",
           "zerolinewidth": 2
          },
          "yaxis": {
           "automargin": true,
           "gridcolor": "white",
           "linecolor": "white",
           "ticks": "",
           "title": {
            "standoff": 15
           },
           "zerolinecolor": "white",
           "zerolinewidth": 2
          }
         }
        },
        "title": {
         "text": "Воронка событий по группам А,В"
        }
       }
      },
      "text/html": [
       "<div>                            <div id=\"f831d995-fc41-4cf4-83ce-9a3e27f6426b\" class=\"plotly-graph-div\" style=\"height:525px; width:100%;\"></div>            <script type=\"text/javascript\">                require([\"plotly\"], function(Plotly) {                    window.PLOTLYENV=window.PLOTLYENV || {};                                    if (document.getElementById(\"f831d995-fc41-4cf4-83ce-9a3e27f6426b\")) {                    Plotly.newPlot(                        \"f831d995-fc41-4cf4-83ce-9a3e27f6426b\",                        [{\"name\":\"\\u0413\\u0440\\u0443\\u043f\\u043f\\u0430 A\",\"textinfo\":\"value+percent previous+percent initial\",\"textposition\":\"inside\",\"x\":[2082,1360,631,652],\"y\":[\"login\",\"product_page\",\"product_cart\",\"purchase\"],\"type\":\"funnel\"},{\"name\":\"\\u0413\\u0440\\u0443\\u043f\\u043f\\u0430 B\",\"textinfo\":\"value+percent previous+percent initial\",\"textposition\":\"auto\",\"x\":[705,397,195,198],\"y\":[\"login\",\"product_page\",\"product_cart\",\"purchase\"],\"type\":\"funnel\"}],                        {\"template\":{\"data\":{\"bar\":[{\"error_x\":{\"color\":\"#2a3f5f\"},\"error_y\":{\"color\":\"#2a3f5f\"},\"marker\":{\"line\":{\"color\":\"#E5ECF6\",\"width\":0.5},\"pattern\":{\"fillmode\":\"overlay\",\"size\":10,\"solidity\":0.2}},\"type\":\"bar\"}],\"barpolar\":[{\"marker\":{\"line\":{\"color\":\"#E5ECF6\",\"width\":0.5},\"pattern\":{\"fillmode\":\"overlay\",\"size\":10,\"solidity\":0.2}},\"type\":\"barpolar\"}],\"carpet\":[{\"aaxis\":{\"endlinecolor\":\"#2a3f5f\",\"gridcolor\":\"white\",\"linecolor\":\"white\",\"minorgridcolor\":\"white\",\"startlinecolor\":\"#2a3f5f\"},\"baxis\":{\"endlinecolor\":\"#2a3f5f\",\"gridcolor\":\"white\",\"linecolor\":\"white\",\"minorgridcolor\":\"white\",\"startlinecolor\":\"#2a3f5f\"},\"type\":\"carpet\"}],\"choropleth\":[{\"colorbar\":{\"outlinewidth\":0,\"ticks\":\"\"},\"type\":\"choropleth\"}],\"contour\":[{\"colorbar\":{\"outlinewidth\":0,\"ticks\":\"\"},\"colorscale\":[[0.0,\"#0d0887\"],[0.1111111111111111,\"#46039f\"],[0.2222222222222222,\"#7201a8\"],[0.3333333333333333,\"#9c179e\"],[0.4444444444444444,\"#bd3786\"],[0.5555555555555556,\"#d8576b\"],[0.6666666666666666,\"#ed7953\"],[0.7777777777777778,\"#fb9f3a\"],[0.8888888888888888,\"#fdca26\"],[1.0,\"#f0f921\"]],\"type\":\"contour\"}],\"contourcarpet\":[{\"colorbar\":{\"outlinewidth\":0,\"ticks\":\"\"},\"type\":\"contourcarpet\"}],\"heatmap\":[{\"colorbar\":{\"outlinewidth\":0,\"ticks\":\"\"},\"colorscale\":[[0.0,\"#0d0887\"],[0.1111111111111111,\"#46039f\"],[0.2222222222222222,\"#7201a8\"],[0.3333333333333333,\"#9c179e\"],[0.4444444444444444,\"#bd3786\"],[0.5555555555555556,\"#d8576b\"],[0.6666666666666666,\"#ed7953\"],[0.7777777777777778,\"#fb9f3a\"],[0.8888888888888888,\"#fdca26\"],[1.0,\"#f0f921\"]],\"type\":\"heatmap\"}],\"heatmapgl\":[{\"colorbar\":{\"outlinewidth\":0,\"ticks\":\"\"},\"colorscale\":[[0.0,\"#0d0887\"],[0.1111111111111111,\"#46039f\"],[0.2222222222222222,\"#7201a8\"],[0.3333333333333333,\"#9c179e\"],[0.4444444444444444,\"#bd3786\"],[0.5555555555555556,\"#d8576b\"],[0.6666666666666666,\"#ed7953\"],[0.7777777777777778,\"#fb9f3a\"],[0.8888888888888888,\"#fdca26\"],[1.0,\"#f0f921\"]],\"type\":\"heatmapgl\"}],\"histogram\":[{\"marker\":{\"pattern\":{\"fillmode\":\"overlay\",\"size\":10,\"solidity\":0.2}},\"type\":\"histogram\"}],\"histogram2d\":[{\"colorbar\":{\"outlinewidth\":0,\"ticks\":\"\"},\"colorscale\":[[0.0,\"#0d0887\"],[0.1111111111111111,\"#46039f\"],[0.2222222222222222,\"#7201a8\"],[0.3333333333333333,\"#9c179e\"],[0.4444444444444444,\"#bd3786\"],[0.5555555555555556,\"#d8576b\"],[0.6666666666666666,\"#ed7953\"],[0.7777777777777778,\"#fb9f3a\"],[0.8888888888888888,\"#fdca26\"],[1.0,\"#f0f921\"]],\"type\":\"histogram2d\"}],\"histogram2dcontour\":[{\"colorbar\":{\"outlinewidth\":0,\"ticks\":\"\"},\"colorscale\":[[0.0,\"#0d0887\"],[0.1111111111111111,\"#46039f\"],[0.2222222222222222,\"#7201a8\"],[0.3333333333333333,\"#9c179e\"],[0.4444444444444444,\"#bd3786\"],[0.5555555555555556,\"#d8576b\"],[0.6666666666666666,\"#ed7953\"],[0.7777777777777778,\"#fb9f3a\"],[0.8888888888888888,\"#fdca26\"],[1.0,\"#f0f921\"]],\"type\":\"histogram2dcontour\"}],\"mesh3d\":[{\"colorbar\":{\"outlinewidth\":0,\"ticks\":\"\"},\"type\":\"mesh3d\"}],\"parcoords\":[{\"line\":{\"colorbar\":{\"outlinewidth\":0,\"ticks\":\"\"}},\"type\":\"parcoords\"}],\"pie\":[{\"automargin\":true,\"type\":\"pie\"}],\"scatter\":[{\"marker\":{\"colorbar\":{\"outlinewidth\":0,\"ticks\":\"\"}},\"type\":\"scatter\"}],\"scatter3d\":[{\"line\":{\"colorbar\":{\"outlinewidth\":0,\"ticks\":\"\"}},\"marker\":{\"colorbar\":{\"outlinewidth\":0,\"ticks\":\"\"}},\"type\":\"scatter3d\"}],\"scattercarpet\":[{\"marker\":{\"colorbar\":{\"outlinewidth\":0,\"ticks\":\"\"}},\"type\":\"scattercarpet\"}],\"scattergeo\":[{\"marker\":{\"colorbar\":{\"outlinewidth\":0,\"ticks\":\"\"}},\"type\":\"scattergeo\"}],\"scattergl\":[{\"marker\":{\"colorbar\":{\"outlinewidth\":0,\"ticks\":\"\"}},\"type\":\"scattergl\"}],\"scattermapbox\":[{\"marker\":{\"colorbar\":{\"outlinewidth\":0,\"ticks\":\"\"}},\"type\":\"scattermapbox\"}],\"scatterpolar\":[{\"marker\":{\"colorbar\":{\"outlinewidth\":0,\"ticks\":\"\"}},\"type\":\"scatterpolar\"}],\"scatterpolargl\":[{\"marker\":{\"colorbar\":{\"outlinewidth\":0,\"ticks\":\"\"}},\"type\":\"scatterpolargl\"}],\"scatterternary\":[{\"marker\":{\"colorbar\":{\"outlinewidth\":0,\"ticks\":\"\"}},\"type\":\"scatterternary\"}],\"surface\":[{\"colorbar\":{\"outlinewidth\":0,\"ticks\":\"\"},\"colorscale\":[[0.0,\"#0d0887\"],[0.1111111111111111,\"#46039f\"],[0.2222222222222222,\"#7201a8\"],[0.3333333333333333,\"#9c179e\"],[0.4444444444444444,\"#bd3786\"],[0.5555555555555556,\"#d8576b\"],[0.6666666666666666,\"#ed7953\"],[0.7777777777777778,\"#fb9f3a\"],[0.8888888888888888,\"#fdca26\"],[1.0,\"#f0f921\"]],\"type\":\"surface\"}],\"table\":[{\"cells\":{\"fill\":{\"color\":\"#EBF0F8\"},\"line\":{\"color\":\"white\"}},\"header\":{\"fill\":{\"color\":\"#C8D4E3\"},\"line\":{\"color\":\"white\"}},\"type\":\"table\"}]},\"layout\":{\"annotationdefaults\":{\"arrowcolor\":\"#2a3f5f\",\"arrowhead\":0,\"arrowwidth\":1},\"autotypenumbers\":\"strict\",\"coloraxis\":{\"colorbar\":{\"outlinewidth\":0,\"ticks\":\"\"}},\"colorscale\":{\"diverging\":[[0,\"#8e0152\"],[0.1,\"#c51b7d\"],[0.2,\"#de77ae\"],[0.3,\"#f1b6da\"],[0.4,\"#fde0ef\"],[0.5,\"#f7f7f7\"],[0.6,\"#e6f5d0\"],[0.7,\"#b8e186\"],[0.8,\"#7fbc41\"],[0.9,\"#4d9221\"],[1,\"#276419\"]],\"sequential\":[[0.0,\"#0d0887\"],[0.1111111111111111,\"#46039f\"],[0.2222222222222222,\"#7201a8\"],[0.3333333333333333,\"#9c179e\"],[0.4444444444444444,\"#bd3786\"],[0.5555555555555556,\"#d8576b\"],[0.6666666666666666,\"#ed7953\"],[0.7777777777777778,\"#fb9f3a\"],[0.8888888888888888,\"#fdca26\"],[1.0,\"#f0f921\"]],\"sequentialminus\":[[0.0,\"#0d0887\"],[0.1111111111111111,\"#46039f\"],[0.2222222222222222,\"#7201a8\"],[0.3333333333333333,\"#9c179e\"],[0.4444444444444444,\"#bd3786\"],[0.5555555555555556,\"#d8576b\"],[0.6666666666666666,\"#ed7953\"],[0.7777777777777778,\"#fb9f3a\"],[0.8888888888888888,\"#fdca26\"],[1.0,\"#f0f921\"]]},\"colorway\":[\"#636efa\",\"#EF553B\",\"#00cc96\",\"#ab63fa\",\"#FFA15A\",\"#19d3f3\",\"#FF6692\",\"#B6E880\",\"#FF97FF\",\"#FECB52\"],\"font\":{\"color\":\"#2a3f5f\"},\"geo\":{\"bgcolor\":\"white\",\"lakecolor\":\"white\",\"landcolor\":\"#E5ECF6\",\"showlakes\":true,\"showland\":true,\"subunitcolor\":\"white\"},\"hoverlabel\":{\"align\":\"left\"},\"hovermode\":\"closest\",\"mapbox\":{\"style\":\"light\"},\"paper_bgcolor\":\"white\",\"plot_bgcolor\":\"#E5ECF6\",\"polar\":{\"angularaxis\":{\"gridcolor\":\"white\",\"linecolor\":\"white\",\"ticks\":\"\"},\"bgcolor\":\"#E5ECF6\",\"radialaxis\":{\"gridcolor\":\"white\",\"linecolor\":\"white\",\"ticks\":\"\"}},\"scene\":{\"xaxis\":{\"backgroundcolor\":\"#E5ECF6\",\"gridcolor\":\"white\",\"gridwidth\":2,\"linecolor\":\"white\",\"showbackground\":true,\"ticks\":\"\",\"zerolinecolor\":\"white\"},\"yaxis\":{\"backgroundcolor\":\"#E5ECF6\",\"gridcolor\":\"white\",\"gridwidth\":2,\"linecolor\":\"white\",\"showbackground\":true,\"ticks\":\"\",\"zerolinecolor\":\"white\"},\"zaxis\":{\"backgroundcolor\":\"#E5ECF6\",\"gridcolor\":\"white\",\"gridwidth\":2,\"linecolor\":\"white\",\"showbackground\":true,\"ticks\":\"\",\"zerolinecolor\":\"white\"}},\"shapedefaults\":{\"line\":{\"color\":\"#2a3f5f\"}},\"ternary\":{\"aaxis\":{\"gridcolor\":\"white\",\"linecolor\":\"white\",\"ticks\":\"\"},\"baxis\":{\"gridcolor\":\"white\",\"linecolor\":\"white\",\"ticks\":\"\"},\"bgcolor\":\"#E5ECF6\",\"caxis\":{\"gridcolor\":\"white\",\"linecolor\":\"white\",\"ticks\":\"\"}},\"title\":{\"x\":0.05},\"xaxis\":{\"automargin\":true,\"gridcolor\":\"white\",\"linecolor\":\"white\",\"ticks\":\"\",\"title\":{\"standoff\":15},\"zerolinecolor\":\"white\",\"zerolinewidth\":2},\"yaxis\":{\"automargin\":true,\"gridcolor\":\"white\",\"linecolor\":\"white\",\"ticks\":\"\",\"title\":{\"standoff\":15},\"zerolinecolor\":\"white\",\"zerolinewidth\":2}}},\"title\":{\"text\":\"\\u0412\\u043e\\u0440\\u043e\\u043d\\u043a\\u0430 \\u0441\\u043e\\u0431\\u044b\\u0442\\u0438\\u0439 \\u043f\\u043e \\u0433\\u0440\\u0443\\u043f\\u043f\\u0430\\u043c \\u0410,\\u0412\"}},                        {\"responsive\": true}                    ).then(function(){\n",
       "                            \n",
       "var gd = document.getElementById('f831d995-fc41-4cf4-83ce-9a3e27f6426b');\n",
       "var x = new MutationObserver(function (mutations, observer) {{\n",
       "        var display = window.getComputedStyle(gd).display;\n",
       "        if (!display || display === 'none') {{\n",
       "            console.log([gd, 'removed!']);\n",
       "            Plotly.purge(gd);\n",
       "            observer.disconnect();\n",
       "        }}\n",
       "}});\n",
       "\n",
       "// Listen for the removal of the full notebook cells\n",
       "var notebookContainer = gd.closest('#notebook-container');\n",
       "if (notebookContainer) {{\n",
       "    x.observe(notebookContainer, {childList: true});\n",
       "}}\n",
       "\n",
       "// Listen for the clearing of the current output cell\n",
       "var outputEl = gd.closest('.output');\n",
       "if (outputEl) {{\n",
       "    x.observe(outputEl, {childList: true});\n",
       "}}\n",
       "\n",
       "                        })                };                });            </script>        </div>"
      ]
     },
     "metadata": {},
     "output_type": "display_data"
    }
   ],
   "source": [
    "fig = go.Figure()\n",
    "fig.add_trace(go.Funnel(\n",
    "    name='Группа A',\n",
    "    y = events_count_A['event_name'],\n",
    "    x = events_count_A['count_users'],\n",
    "    textposition = \"inside\",\n",
    "    textinfo = \"value+percent previous+ percent initial\"\n",
    "    ))\n",
    "fig.add_trace(go.Funnel(\n",
    "    name='Группа B',\n",
    "    y = events_count_B['event_name'],\n",
    "    x = events_count_B['count_users'],\n",
    "    textposition = \"auto\",\n",
    "    textinfo = \"value+percent previous+ percent initial\"\n",
    "    )) \n",
    "fig.update_layout(title_text='Воронка событий по группам А,В')\n",
    "\n",
    "fig.show()"
   ]
  },
  {
   "cell_type": "markdown",
   "metadata": {},
   "source": [
    "<img src=\"https://raw.githubusercontent.com/Alex-tsyg/Yandex-Practicum/main/final/voronka.png\" >"
   ]
  },
  {
   "cell_type": "code",
   "execution_count": 463,
   "metadata": {},
   "outputs": [
    {
     "data": {
      "text/plain": [
       "2082"
      ]
     },
     "execution_count": 463,
     "metadata": {},
     "output_type": "execute_result"
    }
   ],
   "source": [
    "gr_a['user_id'].nunique()"
   ]
  },
  {
   "cell_type": "markdown",
   "metadata": {},
   "source": [
    "По воронке можно сказать, что: <br>\n",
    "-практически по всем этапам конверсия группы А лучше группы В<br>\n",
    "-есть преимущество группы А перед В по переходу в корзину со страницы товара 51% против 47%<br>\n",
    "-подтвердилась закономерность, отмеченная на прошлых графиках, по группам А и В очень большой % перехода из корзины к покупке, для группы А =99%, для группы В=96%. "
   ]
  },
  {
   "cell_type": "markdown",
   "metadata": {},
   "source": [
    "### Какие особенности данных нужно учесть, прежде чем приступать к A/B-тестированию?"
   ]
  },
  {
   "cell_type": "markdown",
   "metadata": {},
   "source": [
    "Еще раз проверим всё ли соответствует ТЗ:"
   ]
  },
  {
   "cell_type": "markdown",
   "metadata": {},
   "source": [
    "Название теста: recommender_system_test - отфильтровали <br>\n",
    "Группы: А (контрольная), B (новая платёжная воронка) - проанализировали, размер групп корректный <br>\n",
    "Дата запуска: 2020-12-07 - соответсвтеует данным<br>\n",
    "Дата остановки набора новых пользователей: 2020-12-21- соответсвтеует данным<br>\n",
    "Дата остановки: 2021-01-04 - данные представлены до 30-12-20, нет данных с 2021-01-01 по 2021-01-04. Учитывая, что на 30-12 по графику очень мало событий, фактически не хватает данных с 30-12 по 01-04<br>\n",
    "Аудитория: 15% новых пользователей из региона EU- соответствует для начальных данных, после фильтрации оно ниже<br>\n",
    "Ожидаемое количество участников теста: 6000 - не соответствует<br>\n",
    "За 14 дней с момента регистрации в системе пользователи покажут улучшение каждой метрики - не соответствует, не все пользоватли будут 14 дней в системе, учитывая неполноту исходных данных<br>"
   ]
  },
  {
   "cell_type": "markdown",
   "metadata": {},
   "source": [
    "Также было обнаружено пересечение с промо. Промо программа Christmas&New Year Promo хоть и пересекается с датой окончания теста (с 2020-12-25 по 2021-01-03),она не оказала сильного вляния на группы, у группы А и В с 22.12 идет одинаковый спад активности."
   ]
  },
  {
   "cell_type": "markdown",
   "metadata": {},
   "source": [
    "На этом этапе были исследованы:<br>\n",
    "- Распределение событий по пользоватлея групп А и В похоже. В среднем по группе А на 1 событие больше чем в группе В.<br>\n",
    "- Как число событий в выборках распределено по дням? Для группы А события примерно на одном уровне до 13 декабря, затем число событий возрастает и растет до мах 21-12, после этого начинает падать. В группе В также мах 21-12, затем снижение событий. До 21-12 график группы В показывает более высокую активность с 3 всплесками.<br>\n",
    "- Замечена неполнота данных, 30-12 у пользователей групп почти нет событий<br>\n",
    "- Замечено равенство событий добавление в корзину и покупки, что говорит о высоком уровне конверсии от корзины к покпке.<br>\n",
    "- Была построена воронка событий, которая показала, что практически по всем этапам конверсия группы А лучше группы В, есть преимущество группы А перед В по переходу в корзину со страницы товара 51% против 47%<br>\n",
    "На следующем этапе проведем оценку результатов А/B тестирования."
   ]
  },
  {
   "cell_type": "markdown",
   "metadata": {},
   "source": [
    "## Проведите оценку результатов A/B-тестирования"
   ]
  },
  {
   "cell_type": "markdown",
   "metadata": {},
   "source": [
    "### Что можно сказать про результаты A/B-тестирования?"
   ]
  },
  {
   "cell_type": "markdown",
   "metadata": {},
   "source": [
    "По условиям ТЗ:\n",
    "Ожидаемый эффект: за 14 дней с момента регистрации в системе пользователи покажут улучшение каждой метрики не менее, чем на 10%:\n",
    "конверсии в просмотр карточек товаров — событие product_page\n",
    "просмотры корзины — product_cart\n",
    "покупки — purchase.\n",
    "Проверим реальную конверсию."
   ]
  },
  {
   "cell_type": "markdown",
   "metadata": {},
   "source": [
    "Сгруппируем датасет по группе и названию события, выберем уникальных пользоватлей."
   ]
  },
  {
   "cell_type": "code",
   "execution_count": 464,
   "metadata": {},
   "outputs": [
    {
     "data": {
      "text/html": [
       "<div>\n",
       "<style scoped>\n",
       "    .dataframe tbody tr th:only-of-type {\n",
       "        vertical-align: middle;\n",
       "    }\n",
       "\n",
       "    .dataframe tbody tr th {\n",
       "        vertical-align: top;\n",
       "    }\n",
       "\n",
       "    .dataframe thead th {\n",
       "        text-align: right;\n",
       "    }\n",
       "</style>\n",
       "<table border=\"1\" class=\"dataframe\">\n",
       "  <thead>\n",
       "    <tr style=\"text-align: right;\">\n",
       "      <th></th>\n",
       "      <th>group</th>\n",
       "      <th>event_name</th>\n",
       "      <th>user_id</th>\n",
       "    </tr>\n",
       "  </thead>\n",
       "  <tbody>\n",
       "    <tr>\n",
       "      <th>0</th>\n",
       "      <td>A</td>\n",
       "      <td>login</td>\n",
       "      <td>2082</td>\n",
       "    </tr>\n",
       "    <tr>\n",
       "      <th>1</th>\n",
       "      <td>A</td>\n",
       "      <td>product_cart</td>\n",
       "      <td>631</td>\n",
       "    </tr>\n",
       "    <tr>\n",
       "      <th>2</th>\n",
       "      <td>A</td>\n",
       "      <td>product_page</td>\n",
       "      <td>1360</td>\n",
       "    </tr>\n",
       "    <tr>\n",
       "      <th>3</th>\n",
       "      <td>A</td>\n",
       "      <td>purchase</td>\n",
       "      <td>652</td>\n",
       "    </tr>\n",
       "    <tr>\n",
       "      <th>4</th>\n",
       "      <td>B</td>\n",
       "      <td>login</td>\n",
       "      <td>705</td>\n",
       "    </tr>\n",
       "    <tr>\n",
       "      <th>5</th>\n",
       "      <td>B</td>\n",
       "      <td>product_cart</td>\n",
       "      <td>195</td>\n",
       "    </tr>\n",
       "    <tr>\n",
       "      <th>6</th>\n",
       "      <td>B</td>\n",
       "      <td>product_page</td>\n",
       "      <td>397</td>\n",
       "    </tr>\n",
       "    <tr>\n",
       "      <th>7</th>\n",
       "      <td>B</td>\n",
       "      <td>purchase</td>\n",
       "      <td>198</td>\n",
       "    </tr>\n",
       "  </tbody>\n",
       "</table>\n",
       "</div>"
      ],
      "text/plain": [
       "  group    event_name  user_id\n",
       "0     A         login     2082\n",
       "1     A  product_cart      631\n",
       "2     A  product_page     1360\n",
       "3     A      purchase      652\n",
       "4     B         login      705\n",
       "5     B  product_cart      195\n",
       "6     B  product_page      397\n",
       "7     B      purchase      198"
      ]
     },
     "execution_count": 464,
     "metadata": {},
     "output_type": "execute_result"
    }
   ],
   "source": [
    "test_u = df.groupby(['group', 'event_name'])['user_id'].nunique().reset_index()\n",
    "test_u"
   ]
  },
  {
   "cell_type": "markdown",
   "metadata": {},
   "source": [
    "Расчитаем конверсию по 3м событиям"
   ]
  },
  {
   "cell_type": "code",
   "execution_count": 465,
   "metadata": {},
   "outputs": [
    {
     "data": {
      "text/html": [
       "<div>\n",
       "<style scoped>\n",
       "    .dataframe tbody tr th:only-of-type {\n",
       "        vertical-align: middle;\n",
       "    }\n",
       "\n",
       "    .dataframe tbody tr th {\n",
       "        vertical-align: top;\n",
       "    }\n",
       "\n",
       "    .dataframe thead th {\n",
       "        text-align: right;\n",
       "    }\n",
       "</style>\n",
       "<table border=\"1\" class=\"dataframe\">\n",
       "  <thead>\n",
       "    <tr style=\"text-align: right;\">\n",
       "      <th></th>\n",
       "      <th>conv_A %</th>\n",
       "      <th>conv_B %</th>\n",
       "      <th>B/A %</th>\n",
       "    </tr>\n",
       "  </thead>\n",
       "  <tbody>\n",
       "    <tr>\n",
       "      <th>product_cart</th>\n",
       "      <td>30.31</td>\n",
       "      <td>27.66</td>\n",
       "      <td>-8.742989</td>\n",
       "    </tr>\n",
       "    <tr>\n",
       "      <th>product_page</th>\n",
       "      <td>65.32</td>\n",
       "      <td>56.31</td>\n",
       "      <td>-13.793631</td>\n",
       "    </tr>\n",
       "    <tr>\n",
       "      <th>purchase</th>\n",
       "      <td>31.32</td>\n",
       "      <td>28.09</td>\n",
       "      <td>-10.312899</td>\n",
       "    </tr>\n",
       "  </tbody>\n",
       "</table>\n",
       "</div>"
      ],
      "text/plain": [
       "             conv_A % conv_B %      B/A %\n",
       "product_cart    30.31    27.66  -8.742989\n",
       "product_page    65.32    56.31 -13.793631\n",
       "purchase        31.32    28.09 -10.312899"
      ]
     },
     "execution_count": 465,
     "metadata": {},
     "output_type": "execute_result"
    }
   ],
   "source": [
    "conversion = pd.DataFrame(index=['product_cart', 'product_page', 'purchase'],columns=['conv_A %','conv_B %','B/A %'])\n",
    "conversion\n",
    "for i in [1,2,3]:\n",
    "    conversion.iloc[i-1, 0] = round((test_u.iloc[i,2] / test_u.iloc[0,2] * 100), 2)\n",
    "    conversion.iloc[i-1, 1] = round((test_u.iloc[i+4,2] / test_u.iloc[4,2] * 100), 2)\n",
    "conversion['B/A %'] = (conversion['conv_B %'] / conversion['conv_A %']-1) * 100\n",
    "conversion"
   ]
  },
  {
   "cell_type": "markdown",
   "metadata": {},
   "source": [
    "По всем 3м событиям видим снижение конверсии, заявленного увеличения на 10% нет ни по 1 показателю."
   ]
  },
  {
   "cell_type": "markdown",
   "metadata": {},
   "source": [
    "### Проверьте статистическую разницу долей z-критерием"
   ]
  },
  {
   "cell_type": "markdown",
   "metadata": {},
   "source": [
    "Для проверка гипотезы о равенстве долей выдвинем гипотезы:<br>\n",
    "    H0: группы не имеют статистических различий.<br>\n",
    "    H1: группы имеют статистические различия.<br>"
   ]
  },
  {
   "cell_type": "code",
   "execution_count": 466,
   "metadata": {},
   "outputs": [
    {
     "data": {
      "text/html": [
       "<div>\n",
       "<style scoped>\n",
       "    .dataframe tbody tr th:only-of-type {\n",
       "        vertical-align: middle;\n",
       "    }\n",
       "\n",
       "    .dataframe tbody tr th {\n",
       "        vertical-align: top;\n",
       "    }\n",
       "\n",
       "    .dataframe thead th {\n",
       "        text-align: right;\n",
       "    }\n",
       "</style>\n",
       "<table border=\"1\" class=\"dataframe\">\n",
       "  <thead>\n",
       "    <tr style=\"text-align: right;\">\n",
       "      <th>group</th>\n",
       "      <th>A</th>\n",
       "      <th>B</th>\n",
       "    </tr>\n",
       "    <tr>\n",
       "      <th>event_name</th>\n",
       "      <th></th>\n",
       "      <th></th>\n",
       "    </tr>\n",
       "  </thead>\n",
       "  <tbody>\n",
       "    <tr>\n",
       "      <th>login</th>\n",
       "      <td>2082</td>\n",
       "      <td>705</td>\n",
       "    </tr>\n",
       "    <tr>\n",
       "      <th>product_cart</th>\n",
       "      <td>631</td>\n",
       "      <td>195</td>\n",
       "    </tr>\n",
       "    <tr>\n",
       "      <th>product_page</th>\n",
       "      <td>1360</td>\n",
       "      <td>397</td>\n",
       "    </tr>\n",
       "    <tr>\n",
       "      <th>purchase</th>\n",
       "      <td>652</td>\n",
       "      <td>198</td>\n",
       "    </tr>\n",
       "  </tbody>\n",
       "</table>\n",
       "</div>"
      ],
      "text/plain": [
       "group            A    B\n",
       "event_name             \n",
       "login         2082  705\n",
       "product_cart   631  195\n",
       "product_page  1360  397\n",
       "purchase       652  198"
      ]
     },
     "execution_count": 466,
     "metadata": {},
     "output_type": "execute_result"
    }
   ],
   "source": [
    "users_by_events = df.pivot_table(index = 'group', columns = 'event_name', values = 'user_id',\n",
    "                                   aggfunc = 'nunique').reset_index()\n",
    "users_count = df.groupby('group')['user_id'].nunique()\n",
    "users_by_events['count'] = users_by_events['group'].apply(lambda x: users_count.loc[x])\n",
    "users_by_events = users_by_events.set_index('group')\n",
    "users_by_events = users_by_events[['login', 'product_cart', 'product_page', 'purchase']].T\n",
    "users_by_events"
   ]
  },
  {
   "cell_type": "code",
   "execution_count": 467,
   "metadata": {},
   "outputs": [
    {
     "data": {
      "text/html": [
       "<div>\n",
       "<style scoped>\n",
       "    .dataframe tbody tr th:only-of-type {\n",
       "        vertical-align: middle;\n",
       "    }\n",
       "\n",
       "    .dataframe tbody tr th {\n",
       "        vertical-align: top;\n",
       "    }\n",
       "\n",
       "    .dataframe thead th {\n",
       "        text-align: right;\n",
       "    }\n",
       "</style>\n",
       "<table border=\"1\" class=\"dataframe\">\n",
       "  <thead>\n",
       "    <tr style=\"text-align: right;\">\n",
       "      <th>event_name</th>\n",
       "      <th>login</th>\n",
       "      <th>product_page</th>\n",
       "      <th>product_cart</th>\n",
       "      <th>purchase</th>\n",
       "      <th>user_count</th>\n",
       "    </tr>\n",
       "    <tr>\n",
       "      <th>group</th>\n",
       "      <th></th>\n",
       "      <th></th>\n",
       "      <th></th>\n",
       "      <th></th>\n",
       "      <th></th>\n",
       "    </tr>\n",
       "  </thead>\n",
       "  <tbody>\n",
       "    <tr>\n",
       "      <th>A</th>\n",
       "      <td>2082</td>\n",
       "      <td>1360</td>\n",
       "      <td>631</td>\n",
       "      <td>652</td>\n",
       "      <td>2082</td>\n",
       "    </tr>\n",
       "    <tr>\n",
       "      <th>B</th>\n",
       "      <td>705</td>\n",
       "      <td>397</td>\n",
       "      <td>195</td>\n",
       "      <td>198</td>\n",
       "      <td>706</td>\n",
       "    </tr>\n",
       "  </tbody>\n",
       "</table>\n",
       "</div>"
      ],
      "text/plain": [
       "event_name  login  product_page  product_cart  purchase  user_count\n",
       "group                                                              \n",
       "A            2082          1360           631       652        2082\n",
       "B             705           397           195       198         706"
      ]
     },
     "execution_count": 467,
     "metadata": {},
     "output_type": "execute_result"
    }
   ],
   "source": [
    "final_test = df.drop_duplicates('user_id')\n",
    "users_count_by_group = final_test.query('event_name == \"purchase\" or event_name == \"product_cart\" or event_name == \"product_page\" or event_name == \"login\"').groupby('group')['user_id'].nunique()\n",
    "users_by_events = df.pivot_table(index='group', columns='event_name', values='user_id', aggfunc='nunique').reset_index()\n",
    "users_by_events['user_count'] = users_by_events['group'].apply(lambda x: users_count_by_group.loc[x])\n",
    "users_by_events = users_by_events.set_index('group')\n",
    "users_by_events = users_by_events[['login', 'product_page',\n",
    "                                   'product_cart', 'purchase', 'user_count']]\n",
    "users_by_events"
   ]
  },
  {
   "cell_type": "code",
   "execution_count": 468,
   "metadata": {},
   "outputs": [],
   "source": [
    "def test(first, second, all_f, all_s, al):  \n",
    "    \"\"\" Функция для проверки гипотез\n",
    "    \n",
    "    first- первая группа\n",
    "    second-вторая группа\n",
    "    all_f -всего в первой группе\n",
    "    all_s- всего во второй группе\n",
    "    al - уровень стат. значимости альфа\n",
    "    \"\"\"\n",
    "    alpha = al  # критический уровень статистической значимости\n",
    "    p1 = first / all_f \n",
    "    p2 = second / all_s \n",
    "    p_combined = (first + second) / (all_f + all_s) \n",
    "    difference = p1 - p2 \n",
    "    z_value = difference / mth.sqrt(p_combined * (1 - p_combined) * (1/all_f + 1/all_s))\n",
    "    # задаем стандартное нормальное распределение (среднее 0, ст.отклонение 1)\n",
    "    distr = st.norm(0, 1) \n",
    "    p_value = (1 - distr.cdf(abs(z_value))) * 2\n",
    "    al_r=round(al*100,2)\n",
    "    if p_value < al:\n",
    "        result='Отвергаем нулевую гипотезу: между долями есть значимая разница'\n",
    "    else:\n",
    "        result='Не получилось отвергнуть нулевую гипотезу, нет оснований считать доли разными'\n",
    "    return print('Группы',gr_1,'и',gr_2,', конверсия в событие',curr_event, ', alpha=',al_r,'% p-value=',round(p_value,4), result)"
   ]
  },
  {
   "cell_type": "markdown",
   "metadata": {},
   "source": [
    "Простейший из методов множественного сравнения — введение поправки Бонферрони. Которая гласит, что если мы хотим обеспечить вероятность ошибки α′, то в каждом из сравнений мы должны принять уровень значимости α′/k — это и есть поправка Бонферрони. В нашем случае трехкратное сравнении и уровень значимости должен быть 0,05/3= 1,7%. "
   ]
  },
  {
   "cell_type": "code",
   "execution_count": 469,
   "metadata": {},
   "outputs": [
    {
     "name": "stdout",
     "output_type": "stream",
     "text": [
      "Группы A и B , конверсия в событие product_page , alpha= 1.7 % p-value= 0.0 Отвергаем нулевую гипотезу: между долями есть значимая разница\n",
      "Группы A и B , конверсия в событие product_cart , alpha= 1.7 % p-value= 0.1766 Не получилось отвергнуть нулевую гипотезу, нет оснований считать доли разными\n",
      "Группы A и B , конверсия в событие purchase , alpha= 1.7 % p-value= 0.1028 Не получилось отвергнуть нулевую гипотезу, нет оснований считать доли разными\n"
     ]
    }
   ],
   "source": [
    "gr_1 = \"A\"\n",
    "current_row = users_by_events.loc[gr_1]\n",
    "gr_2 = \"B\"\n",
    "for event_number in range(1,4):\n",
    "    curr_event = users_by_events.columns[event_number]\n",
    "    p_value_result = test(current_row[curr_event], \n",
    "                                   users_by_events[curr_event][gr_2],\n",
    "                                   current_row['user_count'],\n",
    "                                   users_by_events['user_count'][gr_2],\n",
    "                                   0.017\n",
    "                           )\n",
    "  "
   ]
  },
  {
   "cell_type": "markdown",
   "metadata": {},
   "source": [
    "По конверсии в событие product_page (просмотр товара) между группами есть значимая разница.\n",
    "По конверсии в события product_cart(корзина) и purchase(покупка) нет оснований считать доли разными. "
   ]
  },
  {
   "cell_type": "markdown",
   "metadata": {},
   "source": [
    "На этом этапе была проведена оценку результатов A/B-тестирования:<br>\n",
    " - По условиям ТЗ: Ожидаемый эффект: за 14 дней с момента регистрации в системе пользователи покажут улучшение каждой метрики не менее, чем на 10%, но вместо этого видим снижение всех показателей <br>\n",
    " - Проверка статистической разницу долей z-критерием показала, что по конверсии в событие product_page (просмотр товара) между группами есть значимая разница. По конверсии в события product_cart(корзина) и purchase(покупка) нет оснований считать доли разными.<br>\n",
    "На следующем этапе сформулирует финальные выводы и рекомендации.<br> "
   ]
  },
  {
   "cell_type": "markdown",
   "metadata": {},
   "source": [
    "## Опишите выводы по этапу исследовательского анализа данных и по проведённой оценке результатов A/B-тестирования. Сделайте общее заключение о корректности проведения теста."
   ]
  },
  {
   "cell_type": "markdown",
   "metadata": {},
   "source": [
    "<b>В целом тест можно считать успешным</b><br>\n",
    "В результате анализа результатов теста было выявлено преимущество группы А по всем метрикам.<br>\n",
    "Вместо заявленного роста показателей на 10%, произошло существенное уменьшение по всем (от 9 до 14%).<br>\n",
    "Статистический тест при уровне статистической значимости альфа=0.05 показал: <br>\n",
    " -по конверсии в событие product_page (просмотр товара) между группами есть значимая разница; <br>\n",
    " -по конверсии в события product_cart(просмотр товара) и purchase(покупка) нет оснований считать доли разными.<br>\n",
    "Тестирование изменений, связанных с внедрением улучшенной рекомендательной системы показывает преимущество старой системы перед новой, <b>новую рекомендательную систему лучше не внедрять</b>.<br>\n",
    "\n",
    "<b>НО</b> <br>\n",
    "\n",
    "При проведении теста <b>были выявлены ошибки</b>:<br>\n",
    "- Период представленных данных не соответствует ТЗ, реально имеем полные данные лишь с 7-12 по 29-12 включитально<br>\n",
    "- Есть пользователи, которые участвоавли сразу в 2х тестах<br>\n",
    "- В период проведения теста проходила маркетинговая акция.<br>\n",
    "- Ожидаемое количество участников оказалось менее заявленных в ТЗ 6000 участников.<br>\n",
    "- Аудитория: 15% новых пользователей из региона EU подтвердилась лишь на исходных данных, для очищенных данных этот % меньше.<br>\n",
    "- У части пользователей не выполнено условие ТЗ 14 дней с момента регистрации в системе.<br>\n",
    "- В логах были данные о событиях давностью более 14 дней<br>\n",
    "\n",
    "<b>Поэтому рекомендую:</b> <br>\n",
    "Учитывая выявленные проблемы с данными, рекомендуется по возможности перезапустить тест и повторно выполнить анализ. \n",
    "\n"
   ]
  }
 ],
 "metadata": {
  "ExecuteTimeLog": [
   {
    "duration": 380,
    "start_time": "2023-03-08T03:48:50.096Z"
   },
   {
    "duration": 1313,
    "start_time": "2023-03-08T03:49:03.793Z"
   },
   {
    "duration": 135,
    "start_time": "2023-03-08T03:50:01.553Z"
   },
   {
    "duration": 38,
    "start_time": "2023-03-08T03:51:20.593Z"
   },
   {
    "duration": 7,
    "start_time": "2023-03-08T03:53:02.894Z"
   },
   {
    "duration": 52,
    "start_time": "2023-03-08T03:53:20.352Z"
   },
   {
    "duration": 81,
    "start_time": "2023-03-08T03:53:34.214Z"
   },
   {
    "duration": 5,
    "start_time": "2023-03-08T03:55:32.693Z"
   },
   {
    "duration": 14,
    "start_time": "2023-03-08T03:55:49.704Z"
   },
   {
    "duration": 88,
    "start_time": "2023-03-08T03:56:07.312Z"
   },
   {
    "duration": 166,
    "start_time": "2023-03-08T03:56:41.173Z"
   },
   {
    "duration": 9,
    "start_time": "2023-03-08T03:57:46.673Z"
   },
   {
    "duration": 17,
    "start_time": "2023-03-08T03:59:56.173Z"
   },
   {
    "duration": 6,
    "start_time": "2023-03-08T04:00:06.695Z"
   },
   {
    "duration": 8,
    "start_time": "2023-03-08T04:00:27.892Z"
   },
   {
    "duration": 13,
    "start_time": "2023-03-08T04:00:38.693Z"
   },
   {
    "duration": 64,
    "start_time": "2023-03-08T04:00:48.394Z"
   },
   {
    "duration": 8,
    "start_time": "2023-03-08T04:01:13.414Z"
   },
   {
    "duration": 8,
    "start_time": "2023-03-08T04:01:22.232Z"
   },
   {
    "duration": 6,
    "start_time": "2023-03-08T04:01:55.274Z"
   },
   {
    "duration": 16,
    "start_time": "2023-03-08T04:02:12.532Z"
   },
   {
    "duration": 12,
    "start_time": "2023-03-08T04:02:43.661Z"
   },
   {
    "duration": 9,
    "start_time": "2023-03-08T04:02:55.612Z"
   },
   {
    "duration": 8,
    "start_time": "2023-03-08T04:03:04.280Z"
   },
   {
    "duration": 18,
    "start_time": "2023-03-08T04:03:34.533Z"
   },
   {
    "duration": 10,
    "start_time": "2023-03-08T05:29:41.654Z"
   },
   {
    "duration": 13,
    "start_time": "2023-03-08T06:24:05.314Z"
   },
   {
    "duration": 20,
    "start_time": "2023-03-08T06:34:28.473Z"
   },
   {
    "duration": 436,
    "start_time": "2023-03-08T08:17:02.558Z"
   },
   {
    "duration": 1560,
    "start_time": "2023-03-08T08:17:03.105Z"
   },
   {
    "duration": 146,
    "start_time": "2023-03-08T08:17:07.190Z"
   },
   {
    "duration": 5,
    "start_time": "2023-03-08T08:17:43.738Z"
   },
   {
    "duration": 13,
    "start_time": "2023-03-08T08:17:56.518Z"
   },
   {
    "duration": 95,
    "start_time": "2023-03-08T08:18:49.697Z"
   },
   {
    "duration": 3,
    "start_time": "2023-03-08T08:18:54.298Z"
   },
   {
    "duration": 1165,
    "start_time": "2023-03-08T08:18:54.303Z"
   },
   {
    "duration": 181,
    "start_time": "2023-03-08T08:18:55.469Z"
   },
   {
    "duration": 57,
    "start_time": "2023-03-08T08:18:55.653Z"
   },
   {
    "duration": 8,
    "start_time": "2023-03-08T08:18:55.712Z"
   },
   {
    "duration": 62,
    "start_time": "2023-03-08T08:18:55.722Z"
   },
   {
    "duration": 22,
    "start_time": "2023-03-08T08:18:55.785Z"
   },
   {
    "duration": 43,
    "start_time": "2023-03-08T08:18:55.809Z"
   },
   {
    "duration": 123,
    "start_time": "2023-03-08T08:18:55.855Z"
   },
   {
    "duration": 272,
    "start_time": "2023-03-08T08:18:55.981Z"
   },
   {
    "duration": 11,
    "start_time": "2023-03-08T08:18:56.255Z"
   },
   {
    "duration": 14,
    "start_time": "2023-03-08T08:18:56.268Z"
   },
   {
    "duration": 0,
    "start_time": "2023-03-08T08:18:56.284Z"
   },
   {
    "duration": 0,
    "start_time": "2023-03-08T08:18:56.286Z"
   },
   {
    "duration": 1,
    "start_time": "2023-03-08T08:18:56.287Z"
   },
   {
    "duration": 0,
    "start_time": "2023-03-08T08:18:56.302Z"
   },
   {
    "duration": 0,
    "start_time": "2023-03-08T08:18:56.304Z"
   },
   {
    "duration": 0,
    "start_time": "2023-03-08T08:18:56.306Z"
   },
   {
    "duration": 1,
    "start_time": "2023-03-08T08:18:56.307Z"
   },
   {
    "duration": 0,
    "start_time": "2023-03-08T08:18:56.309Z"
   },
   {
    "duration": 0,
    "start_time": "2023-03-08T08:18:56.311Z"
   },
   {
    "duration": 0,
    "start_time": "2023-03-08T08:18:56.316Z"
   },
   {
    "duration": 0,
    "start_time": "2023-03-08T08:18:56.317Z"
   },
   {
    "duration": 0,
    "start_time": "2023-03-08T08:18:56.319Z"
   },
   {
    "duration": 49,
    "start_time": "2023-03-08T08:19:15.738Z"
   },
   {
    "duration": 4,
    "start_time": "2023-03-08T08:19:26.297Z"
   },
   {
    "duration": 1335,
    "start_time": "2023-03-08T08:19:26.728Z"
   },
   {
    "duration": 187,
    "start_time": "2023-03-08T08:19:28.427Z"
   },
   {
    "duration": 35,
    "start_time": "2023-03-08T08:19:30.357Z"
   },
   {
    "duration": 7,
    "start_time": "2023-03-08T08:19:31.457Z"
   },
   {
    "duration": 72,
    "start_time": "2023-03-08T08:19:34.798Z"
   },
   {
    "duration": 6,
    "start_time": "2023-03-08T08:19:40.958Z"
   },
   {
    "duration": 21,
    "start_time": "2023-03-08T08:19:41.918Z"
   },
   {
    "duration": 130,
    "start_time": "2023-03-08T08:19:42.859Z"
   },
   {
    "duration": 253,
    "start_time": "2023-03-08T08:19:43.997Z"
   },
   {
    "duration": 13,
    "start_time": "2023-03-08T08:19:46.678Z"
   },
   {
    "duration": 10,
    "start_time": "2023-03-08T08:19:48.198Z"
   },
   {
    "duration": 15,
    "start_time": "2023-03-08T08:20:23.441Z"
   },
   {
    "duration": 26,
    "start_time": "2023-03-08T08:20:27.937Z"
   },
   {
    "duration": 7,
    "start_time": "2023-03-08T08:20:28.378Z"
   },
   {
    "duration": 9,
    "start_time": "2023-03-08T08:20:30.917Z"
   },
   {
    "duration": 14,
    "start_time": "2023-03-08T08:20:31.517Z"
   },
   {
    "duration": 11,
    "start_time": "2023-03-08T08:20:33.817Z"
   },
   {
    "duration": 12,
    "start_time": "2023-03-08T08:20:34.497Z"
   },
   {
    "duration": 8,
    "start_time": "2023-03-08T08:20:37.378Z"
   },
   {
    "duration": 20,
    "start_time": "2023-03-08T08:20:38.622Z"
   },
   {
    "duration": 10,
    "start_time": "2023-03-08T08:20:39.777Z"
   },
   {
    "duration": 11,
    "start_time": "2023-03-08T08:20:40.249Z"
   },
   {
    "duration": 8,
    "start_time": "2023-03-08T08:20:43.265Z"
   },
   {
    "duration": 26,
    "start_time": "2023-03-08T08:20:45.197Z"
   },
   {
    "duration": 8,
    "start_time": "2023-03-08T08:20:46.878Z"
   },
   {
    "duration": 137,
    "start_time": "2023-03-08T08:21:06.466Z"
   },
   {
    "duration": 27,
    "start_time": "2023-03-08T08:21:22.498Z"
   },
   {
    "duration": 9,
    "start_time": "2023-03-08T08:29:10.098Z"
   },
   {
    "duration": 9,
    "start_time": "2023-03-08T08:29:20.558Z"
   },
   {
    "duration": 4,
    "start_time": "2023-03-08T08:29:29.417Z"
   },
   {
    "duration": 9,
    "start_time": "2023-03-08T08:29:37.878Z"
   },
   {
    "duration": 1379,
    "start_time": "2023-03-08T08:29:57.577Z"
   },
   {
    "duration": 1309,
    "start_time": "2023-03-08T08:30:11.277Z"
   },
   {
    "duration": 1316,
    "start_time": "2023-03-08T08:30:33.338Z"
   },
   {
    "duration": 1493,
    "start_time": "2023-03-08T08:30:48.138Z"
   },
   {
    "duration": 13,
    "start_time": "2023-03-08T08:32:31.918Z"
   },
   {
    "duration": 11,
    "start_time": "2023-03-08T08:33:10.837Z"
   },
   {
    "duration": 1681,
    "start_time": "2023-03-08T08:34:12.732Z"
   },
   {
    "duration": 8,
    "start_time": "2023-03-08T08:34:44.010Z"
   },
   {
    "duration": 6,
    "start_time": "2023-03-08T08:35:00.350Z"
   },
   {
    "duration": 9,
    "start_time": "2023-03-08T08:35:56.618Z"
   },
   {
    "duration": 11,
    "start_time": "2023-03-08T08:36:18.379Z"
   },
   {
    "duration": 9,
    "start_time": "2023-03-08T08:39:20.258Z"
   },
   {
    "duration": 3,
    "start_time": "2023-03-08T08:39:31.521Z"
   },
   {
    "duration": 10,
    "start_time": "2023-03-08T08:39:40.171Z"
   },
   {
    "duration": 11,
    "start_time": "2023-03-08T08:40:00.863Z"
   },
   {
    "duration": 3,
    "start_time": "2023-03-08T08:40:34.621Z"
   },
   {
    "duration": 10,
    "start_time": "2023-03-08T08:40:41.820Z"
   },
   {
    "duration": 5,
    "start_time": "2023-03-08T08:43:34.820Z"
   },
   {
    "duration": 6,
    "start_time": "2023-03-08T08:44:13.539Z"
   },
   {
    "duration": 6,
    "start_time": "2023-03-08T08:44:42.901Z"
   },
   {
    "duration": 8,
    "start_time": "2023-03-08T08:44:59.240Z"
   },
   {
    "duration": 7,
    "start_time": "2023-03-08T08:45:34.541Z"
   },
   {
    "duration": 7,
    "start_time": "2023-03-08T08:46:01.241Z"
   },
   {
    "duration": 7,
    "start_time": "2023-03-08T08:46:33.520Z"
   },
   {
    "duration": 10,
    "start_time": "2023-03-08T08:46:52.741Z"
   },
   {
    "duration": 14,
    "start_time": "2023-03-08T08:49:03.281Z"
   },
   {
    "duration": 13,
    "start_time": "2023-03-08T08:49:21.880Z"
   },
   {
    "duration": 12,
    "start_time": "2023-03-08T08:49:51.761Z"
   },
   {
    "duration": 10,
    "start_time": "2023-03-08T08:50:15.581Z"
   },
   {
    "duration": 14,
    "start_time": "2023-03-08T08:50:36.601Z"
   },
   {
    "duration": 26,
    "start_time": "2023-03-08T08:50:44.001Z"
   },
   {
    "duration": 11,
    "start_time": "2023-03-08T08:50:58.122Z"
   },
   {
    "duration": 8,
    "start_time": "2023-03-08T08:51:10.421Z"
   },
   {
    "duration": 7,
    "start_time": "2023-03-08T08:51:43.741Z"
   },
   {
    "duration": 66,
    "start_time": "2023-03-08T08:52:43.961Z"
   },
   {
    "duration": 8,
    "start_time": "2023-03-08T08:56:21.882Z"
   },
   {
    "duration": 11,
    "start_time": "2023-03-08T08:56:53.862Z"
   },
   {
    "duration": 54,
    "start_time": "2023-03-09T03:56:42.608Z"
   },
   {
    "duration": 386,
    "start_time": "2023-03-09T03:56:47.828Z"
   },
   {
    "duration": 1487,
    "start_time": "2023-03-09T03:56:48.216Z"
   },
   {
    "duration": 169,
    "start_time": "2023-03-09T03:56:49.705Z"
   },
   {
    "duration": 45,
    "start_time": "2023-03-09T03:56:49.876Z"
   },
   {
    "duration": 9,
    "start_time": "2023-03-09T03:56:49.922Z"
   },
   {
    "duration": 91,
    "start_time": "2023-03-09T03:56:49.932Z"
   },
   {
    "duration": 6,
    "start_time": "2023-03-09T03:56:50.025Z"
   },
   {
    "duration": 22,
    "start_time": "2023-03-09T03:56:50.032Z"
   },
   {
    "duration": 126,
    "start_time": "2023-03-09T03:56:50.056Z"
   },
   {
    "duration": 270,
    "start_time": "2023-03-09T03:56:50.185Z"
   },
   {
    "duration": 16,
    "start_time": "2023-03-09T03:56:50.459Z"
   },
   {
    "duration": 27,
    "start_time": "2023-03-09T03:56:50.477Z"
   },
   {
    "duration": 10,
    "start_time": "2023-03-09T03:56:54.908Z"
   },
   {
    "duration": 9,
    "start_time": "2023-03-09T03:57:14.163Z"
   },
   {
    "duration": 9,
    "start_time": "2023-03-09T03:58:00.154Z"
   },
   {
    "duration": 11,
    "start_time": "2023-03-09T03:58:16.185Z"
   },
   {
    "duration": 13,
    "start_time": "2023-03-09T03:58:31.627Z"
   },
   {
    "duration": 12,
    "start_time": "2023-03-09T04:02:02.639Z"
   },
   {
    "duration": 31,
    "start_time": "2023-03-09T04:06:54.458Z"
   },
   {
    "duration": 5,
    "start_time": "2023-03-09T04:07:00.432Z"
   },
   {
    "duration": 1414,
    "start_time": "2023-03-09T04:07:00.440Z"
   },
   {
    "duration": 199,
    "start_time": "2023-03-09T04:07:01.857Z"
   },
   {
    "duration": 40,
    "start_time": "2023-03-09T04:07:02.058Z"
   },
   {
    "duration": 10,
    "start_time": "2023-03-09T04:07:02.100Z"
   },
   {
    "duration": 97,
    "start_time": "2023-03-09T04:07:02.113Z"
   },
   {
    "duration": 5,
    "start_time": "2023-03-09T04:07:02.212Z"
   },
   {
    "duration": 22,
    "start_time": "2023-03-09T04:07:02.219Z"
   },
   {
    "duration": 118,
    "start_time": "2023-03-09T04:07:02.243Z"
   },
   {
    "duration": 286,
    "start_time": "2023-03-09T04:07:02.363Z"
   },
   {
    "duration": 26,
    "start_time": "2023-03-09T04:07:02.651Z"
   },
   {
    "duration": 27,
    "start_time": "2023-03-09T04:07:02.679Z"
   },
   {
    "duration": 12,
    "start_time": "2023-03-09T04:07:02.709Z"
   },
   {
    "duration": 50,
    "start_time": "2023-03-09T04:07:02.724Z"
   },
   {
    "duration": 5,
    "start_time": "2023-03-09T04:07:02.777Z"
   },
   {
    "duration": 19,
    "start_time": "2023-03-09T04:07:02.783Z"
   },
   {
    "duration": 16,
    "start_time": "2023-03-09T04:07:02.804Z"
   },
   {
    "duration": 27,
    "start_time": "2023-03-09T04:07:02.821Z"
   },
   {
    "duration": 24,
    "start_time": "2023-03-09T04:07:02.850Z"
   },
   {
    "duration": 11,
    "start_time": "2023-03-09T04:07:02.876Z"
   },
   {
    "duration": 24,
    "start_time": "2023-03-09T04:07:02.889Z"
   },
   {
    "duration": 16,
    "start_time": "2023-03-09T04:07:02.915Z"
   },
   {
    "duration": 46,
    "start_time": "2023-03-09T04:07:02.933Z"
   },
   {
    "duration": 11,
    "start_time": "2023-03-09T04:07:02.981Z"
   },
   {
    "duration": 31,
    "start_time": "2023-03-09T04:07:02.995Z"
   },
   {
    "duration": 8,
    "start_time": "2023-03-09T04:07:03.028Z"
   },
   {
    "duration": 184,
    "start_time": "2023-03-09T04:07:03.039Z"
   },
   {
    "duration": 19,
    "start_time": "2023-03-09T04:07:03.225Z"
   },
   {
    "duration": 11,
    "start_time": "2023-03-09T04:07:05.668Z"
   },
   {
    "duration": 16,
    "start_time": "2023-03-09T04:07:45.383Z"
   },
   {
    "duration": 17,
    "start_time": "2023-03-09T04:08:08.590Z"
   },
   {
    "duration": 3,
    "start_time": "2023-03-09T04:12:00.751Z"
   },
   {
    "duration": 3,
    "start_time": "2023-03-09T04:13:09.444Z"
   },
   {
    "duration": 27,
    "start_time": "2023-03-09T04:15:15.940Z"
   },
   {
    "duration": 76,
    "start_time": "2023-03-09T04:17:16.202Z"
   },
   {
    "duration": 8,
    "start_time": "2023-03-09T04:17:16.639Z"
   },
   {
    "duration": 20,
    "start_time": "2023-03-09T04:17:25.428Z"
   },
   {
    "duration": 18,
    "start_time": "2023-03-09T04:17:26.662Z"
   },
   {
    "duration": 11,
    "start_time": "2023-03-09T04:18:21.364Z"
   },
   {
    "duration": 24,
    "start_time": "2023-03-09T05:17:38.590Z"
   },
   {
    "duration": 17,
    "start_time": "2023-03-09T05:18:00.842Z"
   },
   {
    "duration": 15,
    "start_time": "2023-03-09T05:18:22.597Z"
   },
   {
    "duration": 73,
    "start_time": "2023-03-09T05:25:24.835Z"
   },
   {
    "duration": 61,
    "start_time": "2023-03-09T05:26:28.092Z"
   },
   {
    "duration": 68,
    "start_time": "2023-03-09T05:27:25.040Z"
   },
   {
    "duration": 15,
    "start_time": "2023-03-09T05:46:06.333Z"
   },
   {
    "duration": 81,
    "start_time": "2023-03-09T05:48:15.573Z"
   },
   {
    "duration": 4,
    "start_time": "2023-03-09T05:48:26.728Z"
   },
   {
    "duration": 1557,
    "start_time": "2023-03-09T05:48:26.735Z"
   },
   {
    "duration": 282,
    "start_time": "2023-03-09T05:48:28.295Z"
   },
   {
    "duration": 71,
    "start_time": "2023-03-09T05:48:33.023Z"
   },
   {
    "duration": 173,
    "start_time": "2023-03-09T05:48:50.393Z"
   },
   {
    "duration": 51,
    "start_time": "2023-03-09T05:49:06.996Z"
   },
   {
    "duration": 57,
    "start_time": "2023-03-09T05:49:18.603Z"
   },
   {
    "duration": 35,
    "start_time": "2023-03-09T05:49:33.701Z"
   },
   {
    "duration": 4,
    "start_time": "2023-03-09T05:50:05.402Z"
   },
   {
    "duration": 28,
    "start_time": "2023-03-09T05:51:12.973Z"
   },
   {
    "duration": 19,
    "start_time": "2023-03-09T05:52:08.711Z"
   },
   {
    "duration": 3,
    "start_time": "2023-03-09T05:54:39.876Z"
   },
   {
    "duration": 73,
    "start_time": "2023-03-09T05:55:03.984Z"
   },
   {
    "duration": 76,
    "start_time": "2023-03-09T05:55:58.094Z"
   },
   {
    "duration": 37,
    "start_time": "2023-03-09T06:06:04.772Z"
   },
   {
    "duration": 17,
    "start_time": "2023-03-09T06:06:27.438Z"
   },
   {
    "duration": 7,
    "start_time": "2023-03-09T06:07:14.350Z"
   },
   {
    "duration": 20,
    "start_time": "2023-03-09T06:10:29.833Z"
   },
   {
    "duration": 34,
    "start_time": "2023-03-09T06:11:01.164Z"
   },
   {
    "duration": 32,
    "start_time": "2023-03-09T06:11:09.569Z"
   },
   {
    "duration": 21,
    "start_time": "2023-03-09T06:12:03.697Z"
   },
   {
    "duration": 8,
    "start_time": "2023-03-09T06:12:36.441Z"
   },
   {
    "duration": 2758,
    "start_time": "2023-03-09T06:18:43.044Z"
   },
   {
    "duration": 15,
    "start_time": "2023-03-09T06:18:57.490Z"
   },
   {
    "duration": 142,
    "start_time": "2023-03-09T06:19:23.214Z"
   },
   {
    "duration": 139,
    "start_time": "2023-03-09T06:19:35.228Z"
   },
   {
    "duration": 277,
    "start_time": "2023-03-09T06:19:51.215Z"
   },
   {
    "duration": 2463,
    "start_time": "2023-03-09T06:19:57.736Z"
   },
   {
    "duration": 2347,
    "start_time": "2023-03-09T06:20:58.697Z"
   },
   {
    "duration": 43,
    "start_time": "2023-03-09T06:21:05.392Z"
   },
   {
    "duration": 26,
    "start_time": "2023-03-09T06:21:17.720Z"
   },
   {
    "duration": 121,
    "start_time": "2023-03-09T06:21:46.398Z"
   },
   {
    "duration": 24,
    "start_time": "2023-03-09T06:21:58.902Z"
   },
   {
    "duration": 9,
    "start_time": "2023-03-09T06:24:05.353Z"
   },
   {
    "duration": 18,
    "start_time": "2023-03-09T06:24:15.651Z"
   },
   {
    "duration": 26,
    "start_time": "2023-03-09T06:24:22.736Z"
   },
   {
    "duration": 24,
    "start_time": "2023-03-09T06:24:41.929Z"
   },
   {
    "duration": 29,
    "start_time": "2023-03-09T06:25:46.227Z"
   },
   {
    "duration": 37,
    "start_time": "2023-03-09T06:26:02.389Z"
   },
   {
    "duration": 26,
    "start_time": "2023-03-09T06:26:18.400Z"
   },
   {
    "duration": 142,
    "start_time": "2023-03-09T06:28:30.688Z"
   },
   {
    "duration": 101,
    "start_time": "2023-03-09T06:29:21.366Z"
   },
   {
    "duration": 26,
    "start_time": "2023-03-09T06:30:43.272Z"
   },
   {
    "duration": 528,
    "start_time": "2023-03-09T06:30:52.824Z"
   },
   {
    "duration": 20,
    "start_time": "2023-03-09T06:31:05.731Z"
   },
   {
    "duration": 42,
    "start_time": "2023-03-09T06:31:22.828Z"
   },
   {
    "duration": 20,
    "start_time": "2023-03-09T06:31:54.773Z"
   },
   {
    "duration": 25,
    "start_time": "2023-03-09T06:32:22.896Z"
   },
   {
    "duration": 84,
    "start_time": "2023-03-09T06:36:17.696Z"
   },
   {
    "duration": 49,
    "start_time": "2023-03-09T06:36:39.123Z"
   },
   {
    "duration": 15,
    "start_time": "2023-03-09T06:58:05.916Z"
   },
   {
    "duration": 17,
    "start_time": "2023-03-09T06:58:17.317Z"
   },
   {
    "duration": 29,
    "start_time": "2023-03-09T06:59:02.882Z"
   },
   {
    "duration": 12,
    "start_time": "2023-03-09T06:59:36.037Z"
   },
   {
    "duration": 24,
    "start_time": "2023-03-09T07:01:32.994Z"
   },
   {
    "duration": 10,
    "start_time": "2023-03-09T07:01:56.917Z"
   },
   {
    "duration": 30,
    "start_time": "2023-03-09T07:02:53.099Z"
   },
   {
    "duration": 122,
    "start_time": "2023-03-09T07:03:08.200Z"
   },
   {
    "duration": 19,
    "start_time": "2023-03-09T07:03:29.033Z"
   },
   {
    "duration": 14,
    "start_time": "2023-03-09T07:04:21.719Z"
   },
   {
    "duration": 26,
    "start_time": "2023-03-09T07:05:28.104Z"
   },
   {
    "duration": 35,
    "start_time": "2023-03-09T07:07:43.012Z"
   },
   {
    "duration": 34,
    "start_time": "2023-03-09T07:07:54.200Z"
   },
   {
    "duration": 322,
    "start_time": "2023-03-09T07:09:13.500Z"
   },
   {
    "duration": 33,
    "start_time": "2023-03-09T07:10:08.317Z"
   },
   {
    "duration": 11,
    "start_time": "2023-03-09T07:10:24.740Z"
   },
   {
    "duration": 40,
    "start_time": "2023-03-09T07:10:48.696Z"
   },
   {
    "duration": 56,
    "start_time": "2023-03-09T07:11:32.751Z"
   },
   {
    "duration": 10,
    "start_time": "2023-03-09T07:13:25.013Z"
   },
   {
    "duration": 47,
    "start_time": "2023-03-09T07:20:52.119Z"
   },
   {
    "duration": 52,
    "start_time": "2023-03-09T07:21:05.055Z"
   },
   {
    "duration": 18,
    "start_time": "2023-03-09T07:22:21.896Z"
   },
   {
    "duration": 18,
    "start_time": "2023-03-09T07:22:35.430Z"
   },
   {
    "duration": 23,
    "start_time": "2023-03-09T07:23:13.429Z"
   },
   {
    "duration": 202,
    "start_time": "2023-03-09T07:29:45.288Z"
   },
   {
    "duration": 18,
    "start_time": "2023-03-09T07:30:14.605Z"
   },
   {
    "duration": 30,
    "start_time": "2023-03-09T07:31:16.849Z"
   },
   {
    "duration": 17,
    "start_time": "2023-03-09T07:31:45.994Z"
   },
   {
    "duration": 18,
    "start_time": "2023-03-09T07:50:24.439Z"
   },
   {
    "duration": 21,
    "start_time": "2023-03-09T07:50:53.789Z"
   },
   {
    "duration": 16,
    "start_time": "2023-03-09T07:51:18.117Z"
   },
   {
    "duration": 47,
    "start_time": "2023-03-09T07:55:43.849Z"
   },
   {
    "duration": 48,
    "start_time": "2023-03-09T07:56:17.784Z"
   },
   {
    "duration": 427,
    "start_time": "2023-03-09T07:57:13.983Z"
   },
   {
    "duration": 48,
    "start_time": "2023-03-09T07:57:46.085Z"
   },
   {
    "duration": 21,
    "start_time": "2023-03-09T07:59:07.451Z"
   },
   {
    "duration": 23,
    "start_time": "2023-03-09T07:59:56.723Z"
   },
   {
    "duration": 22,
    "start_time": "2023-03-09T08:00:07.097Z"
   },
   {
    "duration": 22,
    "start_time": "2023-03-09T08:00:24.830Z"
   },
   {
    "duration": 32,
    "start_time": "2023-03-09T08:00:32.391Z"
   },
   {
    "duration": 8,
    "start_time": "2023-03-09T08:04:13.914Z"
   },
   {
    "duration": 85,
    "start_time": "2023-03-09T08:05:05.334Z"
   },
   {
    "duration": 47,
    "start_time": "2023-03-09T08:05:49.009Z"
   },
   {
    "duration": 24,
    "start_time": "2023-03-09T08:05:50.321Z"
   },
   {
    "duration": 54,
    "start_time": "2023-03-09T08:06:15.054Z"
   },
   {
    "duration": 40,
    "start_time": "2023-03-09T08:06:23.429Z"
   },
   {
    "duration": 43,
    "start_time": "2023-03-09T08:07:59.617Z"
   },
   {
    "duration": 23,
    "start_time": "2023-03-09T08:08:06.086Z"
   },
   {
    "duration": 22,
    "start_time": "2023-03-09T08:10:58.338Z"
   },
   {
    "duration": 76,
    "start_time": "2023-03-09T08:11:08.556Z"
   },
   {
    "duration": 40,
    "start_time": "2023-03-09T08:11:13.126Z"
   },
   {
    "duration": 3,
    "start_time": "2023-03-09T08:17:12.088Z"
   },
   {
    "duration": 14,
    "start_time": "2023-03-09T08:17:31.921Z"
   },
   {
    "duration": 15,
    "start_time": "2023-03-09T08:17:56.751Z"
   },
   {
    "duration": 20,
    "start_time": "2023-03-09T08:19:01.406Z"
   },
   {
    "duration": 41,
    "start_time": "2023-03-09T08:21:10.526Z"
   },
   {
    "duration": 11,
    "start_time": "2023-03-09T08:21:22.411Z"
   },
   {
    "duration": 12,
    "start_time": "2023-03-09T08:22:21.341Z"
   },
   {
    "duration": 18,
    "start_time": "2023-03-09T08:28:16.548Z"
   },
   {
    "duration": 11,
    "start_time": "2023-03-09T08:28:25.680Z"
   },
   {
    "duration": 19,
    "start_time": "2023-03-09T08:29:55.726Z"
   },
   {
    "duration": 19,
    "start_time": "2023-03-09T08:30:26.373Z"
   },
   {
    "duration": 17,
    "start_time": "2023-03-09T08:31:45.785Z"
   },
   {
    "duration": 23,
    "start_time": "2023-03-09T08:32:26.567Z"
   },
   {
    "duration": 7,
    "start_time": "2023-03-09T08:34:19.193Z"
   },
   {
    "duration": 150,
    "start_time": "2023-03-09T08:34:28.191Z"
   },
   {
    "duration": 160,
    "start_time": "2023-03-09T08:35:24.831Z"
   },
   {
    "duration": 25,
    "start_time": "2023-03-09T08:37:30.704Z"
   },
   {
    "duration": 167,
    "start_time": "2023-03-09T08:38:18.482Z"
   },
   {
    "duration": 23,
    "start_time": "2023-03-09T08:38:43.220Z"
   },
   {
    "duration": 28,
    "start_time": "2023-03-09T08:39:00.103Z"
   },
   {
    "duration": 8,
    "start_time": "2023-03-09T08:39:58.202Z"
   },
   {
    "duration": 8,
    "start_time": "2023-03-09T08:41:00.306Z"
   },
   {
    "duration": 63,
    "start_time": "2023-03-09T08:41:06.925Z"
   },
   {
    "duration": 9,
    "start_time": "2023-03-09T08:41:51.127Z"
   },
   {
    "duration": 2,
    "start_time": "2023-03-09T08:42:37.551Z"
   },
   {
    "duration": 48,
    "start_time": "2023-03-09T08:42:48.285Z"
   },
   {
    "duration": 3,
    "start_time": "2023-03-09T08:43:17.556Z"
   },
   {
    "duration": 95,
    "start_time": "2023-03-09T08:44:17.512Z"
   },
   {
    "duration": 1171,
    "start_time": "2023-03-09T08:47:00.838Z"
   },
   {
    "duration": 21,
    "start_time": "2023-03-09T08:47:27.823Z"
   },
   {
    "duration": 3,
    "start_time": "2023-03-09T08:47:42.677Z"
   },
   {
    "duration": 1195,
    "start_time": "2023-03-09T08:47:42.684Z"
   },
   {
    "duration": 152,
    "start_time": "2023-03-09T08:47:43.882Z"
   },
   {
    "duration": 54,
    "start_time": "2023-03-09T08:47:44.035Z"
   },
   {
    "duration": 6,
    "start_time": "2023-03-09T08:47:44.091Z"
   },
   {
    "duration": 80,
    "start_time": "2023-03-09T08:47:44.099Z"
   },
   {
    "duration": 5,
    "start_time": "2023-03-09T08:47:44.181Z"
   },
   {
    "duration": 17,
    "start_time": "2023-03-09T08:47:44.188Z"
   },
   {
    "duration": 117,
    "start_time": "2023-03-09T08:47:44.207Z"
   },
   {
    "duration": 224,
    "start_time": "2023-03-09T08:47:44.326Z"
   },
   {
    "duration": 22,
    "start_time": "2023-03-09T08:47:44.552Z"
   },
   {
    "duration": 5,
    "start_time": "2023-03-09T08:47:44.576Z"
   },
   {
    "duration": 11,
    "start_time": "2023-03-09T08:47:44.583Z"
   },
   {
    "duration": 8,
    "start_time": "2023-03-09T08:47:44.596Z"
   },
   {
    "duration": 22,
    "start_time": "2023-03-09T08:47:44.607Z"
   },
   {
    "duration": 55,
    "start_time": "2023-03-09T08:47:44.631Z"
   },
   {
    "duration": 54,
    "start_time": "2023-03-09T08:47:44.689Z"
   },
   {
    "duration": 34,
    "start_time": "2023-03-09T08:47:44.745Z"
   },
   {
    "duration": 43,
    "start_time": "2023-03-09T08:47:44.781Z"
   },
   {
    "duration": 22,
    "start_time": "2023-03-09T08:47:44.826Z"
   },
   {
    "duration": 13,
    "start_time": "2023-03-09T08:47:44.872Z"
   },
   {
    "duration": 171,
    "start_time": "2023-03-09T08:47:44.888Z"
   },
   {
    "duration": 15,
    "start_time": "2023-03-09T08:47:45.061Z"
   },
   {
    "duration": 59,
    "start_time": "2023-03-09T08:47:45.078Z"
   },
   {
    "duration": 9,
    "start_time": "2023-03-09T08:47:45.139Z"
   },
   {
    "duration": 21,
    "start_time": "2023-03-09T08:47:49.846Z"
   },
   {
    "duration": 27,
    "start_time": "2023-03-09T08:48:06.873Z"
   },
   {
    "duration": 13,
    "start_time": "2023-03-09T08:48:33.087Z"
   },
   {
    "duration": 5,
    "start_time": "2023-03-09T08:48:55.833Z"
   },
   {
    "duration": 3,
    "start_time": "2023-03-09T08:48:59.547Z"
   },
   {
    "duration": 1148,
    "start_time": "2023-03-09T08:48:59.552Z"
   },
   {
    "duration": 174,
    "start_time": "2023-03-09T08:49:00.702Z"
   },
   {
    "duration": 36,
    "start_time": "2023-03-09T08:49:00.878Z"
   },
   {
    "duration": 13,
    "start_time": "2023-03-09T08:49:00.915Z"
   },
   {
    "duration": 89,
    "start_time": "2023-03-09T08:49:00.930Z"
   },
   {
    "duration": 5,
    "start_time": "2023-03-09T08:49:01.021Z"
   },
   {
    "duration": 62,
    "start_time": "2023-03-09T08:49:01.028Z"
   },
   {
    "duration": 134,
    "start_time": "2023-03-09T08:49:01.093Z"
   },
   {
    "duration": 244,
    "start_time": "2023-03-09T08:49:01.229Z"
   },
   {
    "duration": 13,
    "start_time": "2023-03-09T08:49:01.474Z"
   },
   {
    "duration": 48,
    "start_time": "2023-03-09T08:49:01.489Z"
   },
   {
    "duration": 95,
    "start_time": "2023-03-09T08:49:01.539Z"
   },
   {
    "duration": 36,
    "start_time": "2023-03-09T08:49:01.636Z"
   },
   {
    "duration": 69,
    "start_time": "2023-03-09T08:49:01.674Z"
   },
   {
    "duration": 51,
    "start_time": "2023-03-09T08:49:01.745Z"
   },
   {
    "duration": 80,
    "start_time": "2023-03-09T08:49:01.799Z"
   },
   {
    "duration": 28,
    "start_time": "2023-03-09T08:49:01.881Z"
   },
   {
    "duration": 63,
    "start_time": "2023-03-09T08:49:01.911Z"
   },
   {
    "duration": 33,
    "start_time": "2023-03-09T08:49:01.976Z"
   },
   {
    "duration": 24,
    "start_time": "2023-03-09T08:49:02.011Z"
   },
   {
    "duration": 191,
    "start_time": "2023-03-09T08:49:02.036Z"
   },
   {
    "duration": 9,
    "start_time": "2023-03-09T08:49:02.230Z"
   },
   {
    "duration": 54,
    "start_time": "2023-03-09T08:49:02.243Z"
   },
   {
    "duration": 11,
    "start_time": "2023-03-09T08:49:02.299Z"
   },
   {
    "duration": 5,
    "start_time": "2023-03-09T08:49:05.346Z"
   },
   {
    "duration": 11,
    "start_time": "2023-03-09T08:50:22.989Z"
   },
   {
    "duration": 197,
    "start_time": "2023-03-09T08:51:54.808Z"
   },
   {
    "duration": 180,
    "start_time": "2023-03-09T08:53:26.125Z"
   },
   {
    "duration": 59,
    "start_time": "2023-03-09T08:54:25.293Z"
   },
   {
    "duration": 50,
    "start_time": "2023-03-09T08:56:49.223Z"
   },
   {
    "duration": 53,
    "start_time": "2023-03-09T08:56:56.032Z"
   },
   {
    "duration": 788,
    "start_time": "2023-03-09T08:58:21.133Z"
   },
   {
    "duration": 4,
    "start_time": "2023-03-09T08:58:39.912Z"
   },
   {
    "duration": 453,
    "start_time": "2023-03-09T08:58:44.514Z"
   },
   {
    "duration": 336,
    "start_time": "2023-03-09T08:59:16.909Z"
   },
   {
    "duration": 14,
    "start_time": "2023-03-09T09:03:11.127Z"
   },
   {
    "duration": 19,
    "start_time": "2023-03-09T09:03:27.761Z"
   },
   {
    "duration": 24,
    "start_time": "2023-03-09T09:03:54.906Z"
   },
   {
    "duration": 0,
    "start_time": "2023-03-09T09:14:37.944Z"
   },
   {
    "duration": 25,
    "start_time": "2023-03-09T09:23:50.295Z"
   },
   {
    "duration": 3,
    "start_time": "2023-03-09T09:23:54.136Z"
   },
   {
    "duration": 1236,
    "start_time": "2023-03-09T09:23:54.142Z"
   },
   {
    "duration": 163,
    "start_time": "2023-03-09T09:23:55.380Z"
   },
   {
    "duration": 53,
    "start_time": "2023-03-09T09:23:55.545Z"
   },
   {
    "duration": 7,
    "start_time": "2023-03-09T09:23:55.600Z"
   },
   {
    "duration": 87,
    "start_time": "2023-03-09T09:23:55.609Z"
   },
   {
    "duration": 5,
    "start_time": "2023-03-09T09:23:55.697Z"
   },
   {
    "duration": 22,
    "start_time": "2023-03-09T09:23:55.704Z"
   },
   {
    "duration": 113,
    "start_time": "2023-03-09T09:23:55.728Z"
   },
   {
    "duration": 260,
    "start_time": "2023-03-09T09:23:55.842Z"
   },
   {
    "duration": 13,
    "start_time": "2023-03-09T09:23:56.104Z"
   },
   {
    "duration": 11,
    "start_time": "2023-03-09T09:23:56.119Z"
   },
   {
    "duration": 12,
    "start_time": "2023-03-09T09:23:56.132Z"
   },
   {
    "duration": 7,
    "start_time": "2023-03-09T09:23:56.146Z"
   },
   {
    "duration": 16,
    "start_time": "2023-03-09T09:23:56.174Z"
   },
   {
    "duration": 25,
    "start_time": "2023-03-09T09:23:56.191Z"
   },
   {
    "duration": 15,
    "start_time": "2023-03-09T09:23:56.218Z"
   },
   {
    "duration": 47,
    "start_time": "2023-03-09T09:23:56.235Z"
   },
   {
    "duration": 48,
    "start_time": "2023-03-09T09:23:56.284Z"
   },
   {
    "duration": 42,
    "start_time": "2023-03-09T09:23:56.334Z"
   },
   {
    "duration": 11,
    "start_time": "2023-03-09T09:23:56.378Z"
   },
   {
    "duration": 173,
    "start_time": "2023-03-09T09:23:56.390Z"
   },
   {
    "duration": 15,
    "start_time": "2023-03-09T09:23:56.565Z"
   },
   {
    "duration": 36,
    "start_time": "2023-03-09T09:23:56.583Z"
   },
   {
    "duration": 10,
    "start_time": "2023-03-09T09:23:56.620Z"
   },
   {
    "duration": 4,
    "start_time": "2023-03-09T09:23:56.632Z"
   },
   {
    "duration": 44,
    "start_time": "2023-03-09T09:23:56.638Z"
   },
   {
    "duration": 199,
    "start_time": "2023-03-09T09:23:56.683Z"
   },
   {
    "duration": 51,
    "start_time": "2023-03-09T09:23:56.884Z"
   },
   {
    "duration": 362,
    "start_time": "2023-03-09T09:23:56.936Z"
   },
   {
    "duration": 30,
    "start_time": "2023-03-09T09:23:57.300Z"
   },
   {
    "duration": 19,
    "start_time": "2023-03-09T09:24:09.038Z"
   },
   {
    "duration": 865,
    "start_time": "2023-03-09T09:24:11.302Z"
   },
   {
    "duration": 860,
    "start_time": "2023-03-09T09:24:17.724Z"
   },
   {
    "duration": 847,
    "start_time": "2023-03-09T09:24:27.042Z"
   },
   {
    "duration": 899,
    "start_time": "2023-03-09T09:25:11.923Z"
   },
   {
    "duration": 423,
    "start_time": "2023-03-09T09:25:42.912Z"
   },
   {
    "duration": 413,
    "start_time": "2023-03-09T09:27:28.492Z"
   },
   {
    "duration": 429,
    "start_time": "2023-03-09T09:27:38.795Z"
   },
   {
    "duration": 347,
    "start_time": "2023-03-09T09:29:16.602Z"
   },
   {
    "duration": 336,
    "start_time": "2023-03-09T09:29:33.702Z"
   },
   {
    "duration": 352,
    "start_time": "2023-03-09T09:30:07.867Z"
   },
   {
    "duration": 359,
    "start_time": "2023-03-09T09:30:31.374Z"
   },
   {
    "duration": 340,
    "start_time": "2023-03-09T09:30:39.016Z"
   },
   {
    "duration": 5,
    "start_time": "2023-03-09T09:31:23.202Z"
   },
   {
    "duration": 364,
    "start_time": "2023-03-09T09:31:29.825Z"
   },
   {
    "duration": 383,
    "start_time": "2023-03-09T09:31:47.975Z"
   },
   {
    "duration": 391,
    "start_time": "2023-03-09T09:32:14.269Z"
   },
   {
    "duration": 339,
    "start_time": "2023-03-09T09:32:21.925Z"
   },
   {
    "duration": 372,
    "start_time": "2023-03-09T09:32:37.019Z"
   },
   {
    "duration": 375,
    "start_time": "2023-03-09T09:32:55.717Z"
   },
   {
    "duration": 375,
    "start_time": "2023-03-09T09:33:16.508Z"
   },
   {
    "duration": 352,
    "start_time": "2023-03-09T09:34:18.052Z"
   },
   {
    "duration": 333,
    "start_time": "2023-03-09T09:34:53.252Z"
   },
   {
    "duration": 1200,
    "start_time": "2023-03-09T09:38:31.739Z"
   },
   {
    "duration": 30,
    "start_time": "2023-03-09T09:40:42.000Z"
   },
   {
    "duration": 29,
    "start_time": "2023-03-09T09:55:14.594Z"
   },
   {
    "duration": 27,
    "start_time": "2023-03-09T09:55:58.901Z"
   },
   {
    "duration": 281,
    "start_time": "2023-03-09T09:56:44.856Z"
   },
   {
    "duration": 237,
    "start_time": "2023-03-09T09:57:30.439Z"
   },
   {
    "duration": 494,
    "start_time": "2023-03-09T09:57:43.235Z"
   },
   {
    "duration": 511,
    "start_time": "2023-03-09T09:58:46.738Z"
   },
   {
    "duration": 509,
    "start_time": "2023-03-09T09:59:41.035Z"
   },
   {
    "duration": 524,
    "start_time": "2023-03-09T09:59:52.901Z"
   },
   {
    "duration": 517,
    "start_time": "2023-03-09T10:01:38.762Z"
   },
   {
    "duration": 534,
    "start_time": "2023-03-09T10:01:53.389Z"
   },
   {
    "duration": 516,
    "start_time": "2023-03-09T10:02:10.775Z"
   },
   {
    "duration": 573,
    "start_time": "2023-03-09T10:02:33.883Z"
   },
   {
    "duration": 13,
    "start_time": "2023-03-09T10:07:11.037Z"
   },
   {
    "duration": 451,
    "start_time": "2023-03-09T10:08:29.184Z"
   },
   {
    "duration": 401,
    "start_time": "2023-03-09T10:10:49.042Z"
   },
   {
    "duration": 415,
    "start_time": "2023-03-09T10:11:21.548Z"
   },
   {
    "duration": 395,
    "start_time": "2023-03-09T10:11:31.895Z"
   },
   {
    "duration": 86,
    "start_time": "2023-03-09T10:13:57.268Z"
   },
   {
    "duration": 20,
    "start_time": "2023-03-09T10:28:37.844Z"
   },
   {
    "duration": 10,
    "start_time": "2023-03-09T10:33:44.608Z"
   },
   {
    "duration": 478,
    "start_time": "2023-03-09T10:33:50.901Z"
   },
   {
    "duration": 572,
    "start_time": "2023-03-09T10:33:56.974Z"
   },
   {
    "duration": 593,
    "start_time": "2023-03-09T10:34:30.497Z"
   },
   {
    "duration": 589,
    "start_time": "2023-03-09T10:34:37.906Z"
   },
   {
    "duration": 573,
    "start_time": "2023-03-09T10:34:46.937Z"
   },
   {
    "duration": 717,
    "start_time": "2023-03-09T10:35:02.161Z"
   },
   {
    "duration": 318,
    "start_time": "2023-03-09T10:35:57.741Z"
   },
   {
    "duration": 546,
    "start_time": "2023-03-09T10:36:06.919Z"
   },
   {
    "duration": 4,
    "start_time": "2023-03-09T10:36:14.901Z"
   },
   {
    "duration": 584,
    "start_time": "2023-03-09T10:36:21.191Z"
   },
   {
    "duration": 29,
    "start_time": "2023-03-09T10:37:32.483Z"
   },
   {
    "duration": 129,
    "start_time": "2023-03-09T10:38:20.001Z"
   },
   {
    "duration": 29,
    "start_time": "2023-03-09T10:54:46.541Z"
   },
   {
    "duration": 5,
    "start_time": "2023-03-09T10:55:32.314Z"
   },
   {
    "duration": 78,
    "start_time": "2023-03-09T10:55:42.304Z"
   },
   {
    "duration": 79,
    "start_time": "2023-03-09T10:55:51.695Z"
   },
   {
    "duration": 433,
    "start_time": "2023-03-09T10:57:02.632Z"
   },
   {
    "duration": 440,
    "start_time": "2023-03-09T10:57:08.677Z"
   },
   {
    "duration": 5,
    "start_time": "2023-03-09T10:57:47.027Z"
   },
   {
    "duration": 11,
    "start_time": "2023-03-09T10:58:28.483Z"
   },
   {
    "duration": 17,
    "start_time": "2023-03-09T10:59:38.248Z"
   },
   {
    "duration": 12,
    "start_time": "2023-03-09T11:02:15.399Z"
   },
   {
    "duration": 12,
    "start_time": "2023-03-09T11:03:34.109Z"
   },
   {
    "duration": 18,
    "start_time": "2023-03-09T11:04:35.221Z"
   },
   {
    "duration": 7,
    "start_time": "2023-03-09T11:05:34.322Z"
   },
   {
    "duration": 13,
    "start_time": "2023-03-09T11:06:06.418Z"
   },
   {
    "duration": 6,
    "start_time": "2023-03-09T11:06:26.271Z"
   },
   {
    "duration": 5,
    "start_time": "2023-03-09T11:06:32.137Z"
   },
   {
    "duration": 6,
    "start_time": "2023-03-09T11:06:44.668Z"
   },
   {
    "duration": 16,
    "start_time": "2023-03-09T11:06:50.169Z"
   },
   {
    "duration": 21,
    "start_time": "2023-03-09T11:07:24.878Z"
   },
   {
    "duration": 24,
    "start_time": "2023-03-09T11:07:42.597Z"
   },
   {
    "duration": 48,
    "start_time": "2023-03-09T11:08:01.967Z"
   },
   {
    "duration": 16,
    "start_time": "2023-03-09T11:08:19.067Z"
   },
   {
    "duration": 14,
    "start_time": "2023-03-09T11:09:03.056Z"
   },
   {
    "duration": 17,
    "start_time": "2023-03-09T11:09:41.874Z"
   },
   {
    "duration": 18,
    "start_time": "2023-03-09T11:09:52.733Z"
   },
   {
    "duration": 14,
    "start_time": "2023-03-09T11:10:12.710Z"
   },
   {
    "duration": 230,
    "start_time": "2023-03-09T11:18:34.913Z"
   },
   {
    "duration": 25,
    "start_time": "2023-03-09T11:19:01.505Z"
   },
   {
    "duration": 27,
    "start_time": "2023-03-09T11:20:03.407Z"
   },
   {
    "duration": 39,
    "start_time": "2023-03-09T11:20:10.119Z"
   },
   {
    "duration": 37,
    "start_time": "2023-03-09T11:21:16.116Z"
   },
   {
    "duration": 28,
    "start_time": "2023-03-09T11:21:30.211Z"
   },
   {
    "duration": 30,
    "start_time": "2023-03-09T11:21:49.609Z"
   },
   {
    "duration": 33,
    "start_time": "2023-03-09T11:22:04.797Z"
   },
   {
    "duration": 5,
    "start_time": "2023-03-09T11:44:16.932Z"
   },
   {
    "duration": 1164,
    "start_time": "2023-03-09T11:44:17.594Z"
   },
   {
    "duration": 8,
    "start_time": "2023-03-09T11:45:36.623Z"
   },
   {
    "duration": 38,
    "start_time": "2023-03-09T11:46:35.935Z"
   },
   {
    "duration": 12,
    "start_time": "2023-03-09T11:46:43.879Z"
   },
   {
    "duration": 13,
    "start_time": "2023-03-09T11:46:58.371Z"
   },
   {
    "duration": 16,
    "start_time": "2023-03-09T11:47:12.393Z"
   },
   {
    "duration": 4,
    "start_time": "2023-03-09T11:47:25.017Z"
   },
   {
    "duration": 15,
    "start_time": "2023-03-09T11:47:30.295Z"
   },
   {
    "duration": 3,
    "start_time": "2023-03-09T11:47:50.260Z"
   },
   {
    "duration": 20,
    "start_time": "2023-03-09T11:47:55.384Z"
   },
   {
    "duration": 14,
    "start_time": "2023-03-09T11:48:18.007Z"
   },
   {
    "duration": 6,
    "start_time": "2023-03-09T11:50:45.124Z"
   },
   {
    "duration": 14,
    "start_time": "2023-03-09T11:50:47.507Z"
   },
   {
    "duration": 6,
    "start_time": "2023-03-09T11:51:08.851Z"
   },
   {
    "duration": 14,
    "start_time": "2023-03-09T11:51:09.318Z"
   },
   {
    "duration": 15,
    "start_time": "2023-03-09T12:31:35.938Z"
   },
   {
    "duration": 22,
    "start_time": "2023-03-09T12:32:01.341Z"
   },
   {
    "duration": 20,
    "start_time": "2023-03-09T12:32:06.400Z"
   },
   {
    "duration": 20,
    "start_time": "2023-03-09T12:32:40.620Z"
   },
   {
    "duration": 13,
    "start_time": "2023-03-09T12:32:45.353Z"
   },
   {
    "duration": 11,
    "start_time": "2023-03-09T12:33:06.321Z"
   },
   {
    "duration": 14,
    "start_time": "2023-03-09T12:33:12.149Z"
   },
   {
    "duration": 421,
    "start_time": "2023-03-09T12:33:20.251Z"
   },
   {
    "duration": 22,
    "start_time": "2023-03-09T12:36:05.213Z"
   },
   {
    "duration": 20,
    "start_time": "2023-03-09T12:36:26.798Z"
   },
   {
    "duration": 23,
    "start_time": "2023-03-09T12:36:48.422Z"
   },
   {
    "duration": 24,
    "start_time": "2023-03-09T12:37:13.226Z"
   },
   {
    "duration": 20,
    "start_time": "2023-03-09T12:37:19.821Z"
   },
   {
    "duration": 21,
    "start_time": "2023-03-09T12:37:29.104Z"
   },
   {
    "duration": 22,
    "start_time": "2023-03-09T12:37:53.428Z"
   },
   {
    "duration": 17,
    "start_time": "2023-03-09T12:38:45.920Z"
   },
   {
    "duration": 45,
    "start_time": "2023-03-09T12:40:17.641Z"
   },
   {
    "duration": 61,
    "start_time": "2023-03-09T12:40:30.219Z"
   },
   {
    "duration": 26,
    "start_time": "2023-03-09T12:40:54.548Z"
   },
   {
    "duration": 25,
    "start_time": "2023-03-09T12:41:33.588Z"
   },
   {
    "duration": 1482,
    "start_time": "2023-03-09T12:41:44.367Z"
   },
   {
    "duration": 30,
    "start_time": "2023-03-09T12:42:17.951Z"
   },
   {
    "duration": 24,
    "start_time": "2023-03-09T12:42:34.634Z"
   },
   {
    "duration": 21,
    "start_time": "2023-03-09T12:42:42.221Z"
   },
   {
    "duration": 13,
    "start_time": "2023-03-09T12:43:04.631Z"
   },
   {
    "duration": 22,
    "start_time": "2023-03-09T12:43:54.508Z"
   },
   {
    "duration": 13,
    "start_time": "2023-03-09T12:44:05.037Z"
   },
   {
    "duration": 18,
    "start_time": "2023-03-09T12:44:11.725Z"
   },
   {
    "duration": 515,
    "start_time": "2023-03-09T12:51:28.950Z"
   },
   {
    "duration": 151,
    "start_time": "2023-03-09T12:55:26.415Z"
   },
   {
    "duration": 197,
    "start_time": "2023-03-09T13:05:42.716Z"
   },
   {
    "duration": 3,
    "start_time": "2023-03-09T13:07:35.093Z"
   },
   {
    "duration": 18,
    "start_time": "2023-03-09T13:08:19.811Z"
   },
   {
    "duration": 13,
    "start_time": "2023-03-09T13:09:31.892Z"
   },
   {
    "duration": 109,
    "start_time": "2023-03-09T13:10:33.053Z"
   },
   {
    "duration": 14,
    "start_time": "2023-03-09T13:11:05.492Z"
   },
   {
    "duration": 13,
    "start_time": "2023-03-09T13:11:06.659Z"
   },
   {
    "duration": 3,
    "start_time": "2023-03-09T13:14:05.894Z"
   },
   {
    "duration": 4,
    "start_time": "2023-03-09T13:14:20.942Z"
   },
   {
    "duration": 1399,
    "start_time": "2023-03-09T13:14:21.932Z"
   },
   {
    "duration": 138,
    "start_time": "2023-03-09T13:14:26.409Z"
   },
   {
    "duration": 38,
    "start_time": "2023-03-09T13:14:36.462Z"
   },
   {
    "duration": 4,
    "start_time": "2023-03-09T13:15:35.249Z"
   },
   {
    "duration": 36,
    "start_time": "2023-03-09T13:15:40.164Z"
   },
   {
    "duration": 4,
    "start_time": "2023-03-09T13:15:51.718Z"
   },
   {
    "duration": 37,
    "start_time": "2023-03-09T13:16:39.308Z"
   },
   {
    "duration": 51,
    "start_time": "2023-03-09T13:17:03.837Z"
   },
   {
    "duration": 34,
    "start_time": "2023-03-09T13:17:09.666Z"
   },
   {
    "duration": 6,
    "start_time": "2023-03-09T13:18:00.130Z"
   },
   {
    "duration": 15,
    "start_time": "2023-03-09T13:18:02.952Z"
   },
   {
    "duration": 104,
    "start_time": "2023-03-09T13:18:04.200Z"
   },
   {
    "duration": 208,
    "start_time": "2023-03-09T13:18:07.568Z"
   },
   {
    "duration": 16,
    "start_time": "2023-03-09T13:18:28.136Z"
   },
   {
    "duration": 5,
    "start_time": "2023-03-09T13:18:32.651Z"
   },
   {
    "duration": 12,
    "start_time": "2023-03-09T13:18:35.151Z"
   },
   {
    "duration": 9,
    "start_time": "2023-03-09T13:18:55.003Z"
   },
   {
    "duration": 23,
    "start_time": "2023-03-09T13:19:13.393Z"
   },
   {
    "duration": 21,
    "start_time": "2023-03-09T13:19:15.895Z"
   },
   {
    "duration": 12,
    "start_time": "2023-03-09T13:19:22.268Z"
   },
   {
    "duration": 12,
    "start_time": "2023-03-09T13:19:27.269Z"
   },
   {
    "duration": 53,
    "start_time": "2023-03-09T13:19:46.593Z"
   },
   {
    "duration": 23,
    "start_time": "2023-03-09T13:20:19.955Z"
   },
   {
    "duration": 151,
    "start_time": "2023-03-09T13:20:34.554Z"
   },
   {
    "duration": 10,
    "start_time": "2023-03-09T13:20:41.546Z"
   },
   {
    "duration": 33,
    "start_time": "2023-03-09T13:21:15.225Z"
   },
   {
    "duration": 13,
    "start_time": "2023-03-09T13:21:16.597Z"
   },
   {
    "duration": 214,
    "start_time": "2023-03-09T13:21:44.131Z"
   },
   {
    "duration": 54,
    "start_time": "2023-03-09T13:21:46.028Z"
   },
   {
    "duration": 611,
    "start_time": "2023-03-09T13:21:49.374Z"
   },
   {
    "duration": 28,
    "start_time": "2023-03-09T13:22:05.505Z"
   },
   {
    "duration": 557,
    "start_time": "2023-03-09T13:22:07.492Z"
   },
   {
    "duration": 447,
    "start_time": "2023-03-09T13:22:26.591Z"
   },
   {
    "duration": 464,
    "start_time": "2023-03-09T13:22:32.096Z"
   },
   {
    "duration": 469,
    "start_time": "2023-03-09T13:22:47.012Z"
   },
   {
    "duration": 552,
    "start_time": "2023-03-09T13:22:50.565Z"
   },
   {
    "duration": 457,
    "start_time": "2023-03-09T13:23:10.067Z"
   },
   {
    "duration": 444,
    "start_time": "2023-03-09T13:23:24.900Z"
   },
   {
    "duration": 472,
    "start_time": "2023-03-09T13:25:12.993Z"
   },
   {
    "duration": 22,
    "start_time": "2023-03-09T13:25:29.021Z"
   },
   {
    "duration": 19,
    "start_time": "2023-03-09T13:25:30.265Z"
   },
   {
    "duration": 13,
    "start_time": "2023-03-09T13:25:39.163Z"
   },
   {
    "duration": 18,
    "start_time": "2023-03-09T13:25:47.897Z"
   },
   {
    "duration": 13,
    "start_time": "2023-03-09T13:25:53.640Z"
   },
   {
    "duration": 12,
    "start_time": "2023-03-09T13:26:08.593Z"
   },
   {
    "duration": 18,
    "start_time": "2023-03-09T13:28:39.206Z"
   },
   {
    "duration": 19,
    "start_time": "2023-03-09T13:29:16.220Z"
   },
   {
    "duration": 12,
    "start_time": "2023-03-09T13:30:15.555Z"
   },
   {
    "duration": 9,
    "start_time": "2023-03-09T13:30:29.290Z"
   },
   {
    "duration": 19,
    "start_time": "2023-03-09T13:31:04.191Z"
   },
   {
    "duration": 12,
    "start_time": "2023-03-09T13:31:36.599Z"
   },
   {
    "duration": 13,
    "start_time": "2023-03-09T13:31:52.820Z"
   },
   {
    "duration": 13,
    "start_time": "2023-03-09T13:32:22.757Z"
   },
   {
    "duration": 15,
    "start_time": "2023-03-09T13:33:12.724Z"
   },
   {
    "duration": 81,
    "start_time": "2023-03-09T13:34:46.519Z"
   },
   {
    "duration": 45,
    "start_time": "2023-03-09T13:34:53.789Z"
   },
   {
    "duration": 36,
    "start_time": "2023-03-09T13:35:17.925Z"
   },
   {
    "duration": 30,
    "start_time": "2023-03-09T13:35:45.509Z"
   },
   {
    "duration": 45,
    "start_time": "2023-03-09T13:35:47.759Z"
   },
   {
    "duration": 5,
    "start_time": "2023-03-09T13:35:50.390Z"
   },
   {
    "duration": 16,
    "start_time": "2023-03-09T13:35:53.953Z"
   },
   {
    "duration": 40,
    "start_time": "2023-03-09T13:37:51.244Z"
   },
   {
    "duration": 41,
    "start_time": "2023-03-09T13:37:53.055Z"
   },
   {
    "duration": 5,
    "start_time": "2023-03-09T13:37:57.435Z"
   },
   {
    "duration": 15,
    "start_time": "2023-03-09T13:37:58.992Z"
   },
   {
    "duration": 11,
    "start_time": "2023-03-09T13:39:21.903Z"
   },
   {
    "duration": 9,
    "start_time": "2023-03-09T13:39:32.215Z"
   },
   {
    "duration": 12,
    "start_time": "2023-03-09T13:39:40.208Z"
   },
   {
    "duration": 12,
    "start_time": "2023-03-09T13:45:49.103Z"
   },
   {
    "duration": 8,
    "start_time": "2023-03-09T13:47:24.185Z"
   },
   {
    "duration": 15,
    "start_time": "2023-03-09T13:47:24.699Z"
   },
   {
    "duration": 7,
    "start_time": "2023-03-09T13:47:33.457Z"
   },
   {
    "duration": 12,
    "start_time": "2023-03-09T13:47:35.190Z"
   },
   {
    "duration": 1216,
    "start_time": "2023-03-10T04:53:11.008Z"
   },
   {
    "duration": 1451,
    "start_time": "2023-03-10T04:53:12.226Z"
   },
   {
    "duration": 170,
    "start_time": "2023-03-10T04:53:13.682Z"
   },
   {
    "duration": 66,
    "start_time": "2023-03-10T04:53:13.854Z"
   },
   {
    "duration": 5,
    "start_time": "2023-03-10T04:53:13.922Z"
   },
   {
    "duration": 22,
    "start_time": "2023-03-10T04:53:13.929Z"
   },
   {
    "duration": 135,
    "start_time": "2023-03-10T04:53:13.953Z"
   },
   {
    "duration": 244,
    "start_time": "2023-03-10T04:53:14.090Z"
   },
   {
    "duration": 13,
    "start_time": "2023-03-10T04:53:14.335Z"
   },
   {
    "duration": 25,
    "start_time": "2023-03-10T04:53:14.351Z"
   },
   {
    "duration": 10,
    "start_time": "2023-03-10T04:53:14.382Z"
   },
   {
    "duration": 6,
    "start_time": "2023-03-10T04:53:14.394Z"
   },
   {
    "duration": 16,
    "start_time": "2023-03-10T04:53:14.401Z"
   },
   {
    "duration": 17,
    "start_time": "2023-03-10T04:53:14.419Z"
   },
   {
    "duration": 48,
    "start_time": "2023-03-10T04:53:14.437Z"
   },
   {
    "duration": 19,
    "start_time": "2023-03-10T04:53:14.487Z"
   },
   {
    "duration": 40,
    "start_time": "2023-03-10T04:53:14.508Z"
   },
   {
    "duration": 29,
    "start_time": "2023-03-10T04:53:27.377Z"
   },
   {
    "duration": 1319,
    "start_time": "2023-03-10T04:54:06.246Z"
   },
   {
    "duration": 23,
    "start_time": "2023-03-10T04:54:39.344Z"
   },
   {
    "duration": 28,
    "start_time": "2023-03-10T04:54:47.598Z"
   },
   {
    "duration": 23,
    "start_time": "2023-03-10T04:55:11.416Z"
   },
   {
    "duration": 36,
    "start_time": "2023-03-10T04:55:33.341Z"
   },
   {
    "duration": 23,
    "start_time": "2023-03-10T04:55:50.091Z"
   },
   {
    "duration": 1027,
    "start_time": "2023-03-10T04:57:30.156Z"
   },
   {
    "duration": 936,
    "start_time": "2023-03-10T04:57:39.953Z"
   },
   {
    "duration": 997,
    "start_time": "2023-03-10T04:58:33.497Z"
   },
   {
    "duration": 31,
    "start_time": "2023-03-10T04:59:43.355Z"
   },
   {
    "duration": 32,
    "start_time": "2023-03-10T04:59:56.854Z"
   },
   {
    "duration": 5,
    "start_time": "2023-03-10T05:00:20.306Z"
   },
   {
    "duration": 30,
    "start_time": "2023-03-10T05:00:30.774Z"
   },
   {
    "duration": 28,
    "start_time": "2023-03-10T05:00:51.357Z"
   },
   {
    "duration": 33,
    "start_time": "2023-03-10T05:01:03.048Z"
   },
   {
    "duration": 18,
    "start_time": "2023-03-10T05:01:34.744Z"
   },
   {
    "duration": 34,
    "start_time": "2023-03-10T05:02:10.631Z"
   },
   {
    "duration": 20,
    "start_time": "2023-03-10T05:03:02.512Z"
   },
   {
    "duration": 24,
    "start_time": "2023-03-10T05:03:22.036Z"
   },
   {
    "duration": 20,
    "start_time": "2023-03-10T05:04:13.270Z"
   },
   {
    "duration": 18,
    "start_time": "2023-03-10T05:04:44.368Z"
   },
   {
    "duration": 17,
    "start_time": "2023-03-10T05:04:48.504Z"
   },
   {
    "duration": 24,
    "start_time": "2023-03-10T05:05:00.525Z"
   },
   {
    "duration": 18,
    "start_time": "2023-03-10T05:05:08.604Z"
   },
   {
    "duration": 24,
    "start_time": "2023-03-10T05:06:26.061Z"
   },
   {
    "duration": 5,
    "start_time": "2023-03-10T05:07:02.130Z"
   },
   {
    "duration": 5,
    "start_time": "2023-03-10T05:07:08.618Z"
   },
   {
    "duration": 11,
    "start_time": "2023-03-10T05:09:12.641Z"
   },
   {
    "duration": 4,
    "start_time": "2023-03-10T05:09:17.797Z"
   },
   {
    "duration": 1165,
    "start_time": "2023-03-10T05:09:17.802Z"
   },
   {
    "duration": 156,
    "start_time": "2023-03-10T05:09:18.968Z"
   },
   {
    "duration": 52,
    "start_time": "2023-03-10T05:09:19.125Z"
   },
   {
    "duration": 5,
    "start_time": "2023-03-10T05:09:19.179Z"
   },
   {
    "duration": 23,
    "start_time": "2023-03-10T05:09:19.185Z"
   },
   {
    "duration": 111,
    "start_time": "2023-03-10T05:09:19.210Z"
   },
   {
    "duration": 241,
    "start_time": "2023-03-10T05:09:19.323Z"
   },
   {
    "duration": 17,
    "start_time": "2023-03-10T05:09:19.566Z"
   },
   {
    "duration": 6,
    "start_time": "2023-03-10T05:09:19.584Z"
   },
   {
    "duration": 12,
    "start_time": "2023-03-10T05:09:19.592Z"
   },
   {
    "duration": 10,
    "start_time": "2023-03-10T05:09:19.606Z"
   },
   {
    "duration": 18,
    "start_time": "2023-03-10T05:09:19.618Z"
   },
   {
    "duration": 43,
    "start_time": "2023-03-10T05:09:19.639Z"
   },
   {
    "duration": 12,
    "start_time": "2023-03-10T05:09:19.683Z"
   },
   {
    "duration": 9,
    "start_time": "2023-03-10T05:09:19.697Z"
   },
   {
    "duration": 68,
    "start_time": "2023-03-10T05:09:19.708Z"
   },
   {
    "duration": 23,
    "start_time": "2023-03-10T05:09:19.778Z"
   },
   {
    "duration": 6,
    "start_time": "2023-03-10T05:09:19.802Z"
   },
   {
    "duration": 158,
    "start_time": "2023-03-10T05:09:19.810Z"
   },
   {
    "duration": 8,
    "start_time": "2023-03-10T05:09:19.973Z"
   },
   {
    "duration": 31,
    "start_time": "2023-03-10T05:09:19.983Z"
   },
   {
    "duration": 7,
    "start_time": "2023-03-10T05:09:20.017Z"
   },
   {
    "duration": 5,
    "start_time": "2023-03-10T05:09:23.460Z"
   },
   {
    "duration": 4,
    "start_time": "2023-03-10T05:09:32.038Z"
   },
   {
    "duration": 9,
    "start_time": "2023-03-10T05:10:09.961Z"
   },
   {
    "duration": 5,
    "start_time": "2023-03-10T05:10:22.383Z"
   },
   {
    "duration": 4,
    "start_time": "2023-03-10T05:10:37.873Z"
   },
   {
    "duration": 92,
    "start_time": "2023-03-10T05:12:21.119Z"
   },
   {
    "duration": 11,
    "start_time": "2023-03-10T05:12:35.938Z"
   },
   {
    "duration": 5,
    "start_time": "2023-03-10T05:12:42.598Z"
   },
   {
    "duration": 5,
    "start_time": "2023-03-10T05:12:52.390Z"
   },
   {
    "duration": 17,
    "start_time": "2023-03-10T05:14:25.311Z"
   },
   {
    "duration": 10,
    "start_time": "2023-03-10T05:14:38.151Z"
   },
   {
    "duration": 6,
    "start_time": "2023-03-10T05:15:18.114Z"
   },
   {
    "duration": 5,
    "start_time": "2023-03-10T05:15:32.653Z"
   },
   {
    "duration": 7,
    "start_time": "2023-03-10T05:15:46.639Z"
   },
   {
    "duration": 5,
    "start_time": "2023-03-10T05:17:03.933Z"
   },
   {
    "duration": 12,
    "start_time": "2023-03-10T05:17:32.293Z"
   },
   {
    "duration": 11,
    "start_time": "2023-03-10T05:18:50.123Z"
   },
   {
    "duration": 12,
    "start_time": "2023-03-10T05:19:15.305Z"
   },
   {
    "duration": 1117,
    "start_time": "2023-03-10T05:43:12.206Z"
   },
   {
    "duration": 190,
    "start_time": "2023-03-10T05:43:15.153Z"
   },
   {
    "duration": 5,
    "start_time": "2023-03-10T05:47:10.546Z"
   },
   {
    "duration": 719,
    "start_time": "2023-03-10T05:47:10.553Z"
   },
   {
    "duration": 230,
    "start_time": "2023-03-10T05:47:11.276Z"
   },
   {
    "duration": 48,
    "start_time": "2023-03-10T05:47:11.508Z"
   },
   {
    "duration": 23,
    "start_time": "2023-03-10T05:47:11.559Z"
   },
   {
    "duration": 42,
    "start_time": "2023-03-10T05:47:11.586Z"
   },
   {
    "duration": 127,
    "start_time": "2023-03-10T05:47:11.630Z"
   },
   {
    "duration": 251,
    "start_time": "2023-03-10T05:47:11.759Z"
   },
   {
    "duration": 13,
    "start_time": "2023-03-10T05:47:12.012Z"
   },
   {
    "duration": 10,
    "start_time": "2023-03-10T05:47:12.026Z"
   },
   {
    "duration": 39,
    "start_time": "2023-03-10T05:47:12.037Z"
   },
   {
    "duration": 16,
    "start_time": "2023-03-10T05:47:12.077Z"
   },
   {
    "duration": 27,
    "start_time": "2023-03-10T05:47:12.101Z"
   },
   {
    "duration": 18,
    "start_time": "2023-03-10T05:47:12.132Z"
   },
   {
    "duration": 31,
    "start_time": "2023-03-10T05:47:12.152Z"
   },
   {
    "duration": 18,
    "start_time": "2023-03-10T05:47:12.184Z"
   },
   {
    "duration": 45,
    "start_time": "2023-03-10T05:47:12.205Z"
   },
   {
    "duration": 33,
    "start_time": "2023-03-10T05:47:12.275Z"
   },
   {
    "duration": 14,
    "start_time": "2023-03-10T05:47:12.310Z"
   },
   {
    "duration": 182,
    "start_time": "2023-03-10T05:47:12.326Z"
   },
   {
    "duration": 9,
    "start_time": "2023-03-10T05:47:12.510Z"
   },
   {
    "duration": 38,
    "start_time": "2023-03-10T05:47:12.521Z"
   },
   {
    "duration": 33,
    "start_time": "2023-03-10T05:47:12.561Z"
   },
   {
    "duration": 35,
    "start_time": "2023-03-10T05:47:12.596Z"
   },
   {
    "duration": 190,
    "start_time": "2023-03-10T05:47:12.633Z"
   },
   {
    "duration": 58,
    "start_time": "2023-03-10T05:47:12.825Z"
   },
   {
    "duration": 626,
    "start_time": "2023-03-10T05:47:12.891Z"
   },
   {
    "duration": 26,
    "start_time": "2023-03-10T05:47:13.520Z"
   },
   {
    "duration": 689,
    "start_time": "2023-03-10T05:47:13.548Z"
   },
   {
    "duration": 522,
    "start_time": "2023-03-10T05:47:14.240Z"
   },
   {
    "duration": 514,
    "start_time": "2023-03-10T05:47:14.764Z"
   },
   {
    "duration": 22,
    "start_time": "2023-03-10T05:47:15.284Z"
   },
   {
    "duration": 326,
    "start_time": "2023-03-10T05:47:18.500Z"
   },
   {
    "duration": 1452,
    "start_time": "2023-03-10T11:32:03.739Z"
   },
   {
    "duration": 1991,
    "start_time": "2023-03-10T11:32:05.193Z"
   },
   {
    "duration": 137,
    "start_time": "2023-03-10T11:32:07.185Z"
   },
   {
    "duration": 61,
    "start_time": "2023-03-10T11:32:07.324Z"
   },
   {
    "duration": 5,
    "start_time": "2023-03-10T11:32:07.387Z"
   },
   {
    "duration": 31,
    "start_time": "2023-03-10T11:32:07.393Z"
   },
   {
    "duration": 97,
    "start_time": "2023-03-10T11:32:07.426Z"
   },
   {
    "duration": 223,
    "start_time": "2023-03-10T11:32:07.524Z"
   },
   {
    "duration": 20,
    "start_time": "2023-03-10T11:32:07.749Z"
   },
   {
    "duration": 7,
    "start_time": "2023-03-10T11:32:07.771Z"
   },
   {
    "duration": 12,
    "start_time": "2023-03-10T11:32:07.779Z"
   },
   {
    "duration": 7,
    "start_time": "2023-03-10T11:32:07.792Z"
   },
   {
    "duration": 40,
    "start_time": "2023-03-10T11:32:07.800Z"
   },
   {
    "duration": 18,
    "start_time": "2023-03-10T11:32:07.841Z"
   },
   {
    "duration": 15,
    "start_time": "2023-03-10T11:32:07.861Z"
   },
   {
    "duration": 11,
    "start_time": "2023-03-10T11:32:07.878Z"
   },
   {
    "duration": 38,
    "start_time": "2023-03-10T11:32:07.890Z"
   },
   {
    "duration": 43,
    "start_time": "2023-03-10T11:32:07.930Z"
   },
   {
    "duration": 4,
    "start_time": "2023-03-10T11:32:07.975Z"
   },
   {
    "duration": 163,
    "start_time": "2023-03-10T11:32:07.980Z"
   },
   {
    "duration": 11,
    "start_time": "2023-03-10T11:32:08.145Z"
   },
   {
    "duration": 45,
    "start_time": "2023-03-10T11:32:08.158Z"
   },
   {
    "duration": 11,
    "start_time": "2023-03-10T11:32:08.205Z"
   },
   {
    "duration": 6,
    "start_time": "2023-03-10T11:32:08.218Z"
   },
   {
    "duration": 194,
    "start_time": "2023-03-10T11:32:08.225Z"
   },
   {
    "duration": 48,
    "start_time": "2023-03-10T11:32:08.421Z"
   },
   {
    "duration": 464,
    "start_time": "2023-03-10T11:32:08.471Z"
   },
   {
    "duration": 31,
    "start_time": "2023-03-10T11:32:08.938Z"
   },
   {
    "duration": 562,
    "start_time": "2023-03-10T11:32:08.971Z"
   },
   {
    "duration": 394,
    "start_time": "2023-03-10T11:32:09.535Z"
   },
   {
    "duration": 386,
    "start_time": "2023-03-10T11:32:09.931Z"
   },
   {
    "duration": 15,
    "start_time": "2023-03-10T11:32:10.319Z"
   },
   {
    "duration": 538,
    "start_time": "2023-03-10T11:32:10.335Z"
   },
   {
    "duration": 22,
    "start_time": "2023-03-10T11:32:10.874Z"
   },
   {
    "duration": 71,
    "start_time": "2023-03-10T11:32:10.898Z"
   },
   {
    "duration": 28,
    "start_time": "2023-03-10T11:32:10.971Z"
   },
   {
    "duration": 76,
    "start_time": "2023-03-10T11:32:11.001Z"
   },
   {
    "duration": 0,
    "start_time": "2023-03-10T11:32:11.078Z"
   },
   {
    "duration": 0,
    "start_time": "2023-03-10T11:32:11.080Z"
   },
   {
    "duration": 13,
    "start_time": "2023-03-10T11:36:30.112Z"
   },
   {
    "duration": 28,
    "start_time": "2023-03-10T11:36:53.975Z"
   },
   {
    "duration": 20,
    "start_time": "2023-03-10T11:36:58.778Z"
   },
   {
    "duration": 28,
    "start_time": "2023-03-10T11:38:16.056Z"
   },
   {
    "duration": 6,
    "start_time": "2023-03-10T11:38:22.026Z"
   },
   {
    "duration": 34,
    "start_time": "2023-03-10T11:39:27.294Z"
   },
   {
    "duration": 6,
    "start_time": "2023-03-10T11:39:29.130Z"
   },
   {
    "duration": 112,
    "start_time": "2023-03-10T11:39:29.281Z"
   },
   {
    "duration": 50,
    "start_time": "2023-03-10T12:30:52.766Z"
   },
   {
    "duration": 49,
    "start_time": "2023-03-10T12:34:28.691Z"
   },
   {
    "duration": 1479,
    "start_time": "2023-03-10T12:34:34.784Z"
   },
   {
    "duration": 2384,
    "start_time": "2023-03-10T12:34:36.265Z"
   },
   {
    "duration": 141,
    "start_time": "2023-03-10T12:34:38.651Z"
   },
   {
    "duration": 60,
    "start_time": "2023-03-10T12:34:38.794Z"
   },
   {
    "duration": 5,
    "start_time": "2023-03-10T12:34:38.855Z"
   },
   {
    "duration": 15,
    "start_time": "2023-03-10T12:34:38.862Z"
   },
   {
    "duration": 199,
    "start_time": "2023-03-10T12:34:38.879Z"
   },
   {
    "duration": 244,
    "start_time": "2023-03-10T12:34:39.080Z"
   },
   {
    "duration": 13,
    "start_time": "2023-03-10T12:34:39.325Z"
   },
   {
    "duration": 62,
    "start_time": "2023-03-10T12:34:41.740Z"
   },
   {
    "duration": 22,
    "start_time": "2023-03-10T12:34:55.814Z"
   },
   {
    "duration": 18,
    "start_time": "2023-03-10T12:35:31.806Z"
   },
   {
    "duration": 6,
    "start_time": "2023-03-10T12:36:21.829Z"
   },
   {
    "duration": 10,
    "start_time": "2023-03-10T12:36:28.721Z"
   },
   {
    "duration": 7,
    "start_time": "2023-03-10T12:36:30.008Z"
   },
   {
    "duration": 9,
    "start_time": "2023-03-10T12:39:06.558Z"
   },
   {
    "duration": 5,
    "start_time": "2023-03-10T12:39:07.069Z"
   },
   {
    "duration": 4,
    "start_time": "2023-03-10T12:39:20.175Z"
   },
   {
    "duration": 46,
    "start_time": "2023-03-10T12:40:43.944Z"
   },
   {
    "duration": 3,
    "start_time": "2023-03-10T12:40:51.277Z"
   },
   {
    "duration": 595,
    "start_time": "2023-03-10T12:40:51.288Z"
   },
   {
    "duration": 176,
    "start_time": "2023-03-10T12:40:51.885Z"
   },
   {
    "duration": 95,
    "start_time": "2023-03-10T12:40:52.063Z"
   },
   {
    "duration": 6,
    "start_time": "2023-03-10T12:40:52.160Z"
   },
   {
    "duration": 18,
    "start_time": "2023-03-10T12:40:52.168Z"
   },
   {
    "duration": 129,
    "start_time": "2023-03-10T12:40:52.188Z"
   },
   {
    "duration": 354,
    "start_time": "2023-03-10T12:40:52.319Z"
   },
   {
    "duration": 12,
    "start_time": "2023-03-10T12:40:52.675Z"
   },
   {
    "duration": 9,
    "start_time": "2023-03-10T12:40:52.688Z"
   },
   {
    "duration": 7,
    "start_time": "2023-03-10T12:40:52.698Z"
   },
   {
    "duration": 5,
    "start_time": "2023-03-10T12:40:52.707Z"
   },
   {
    "duration": 40,
    "start_time": "2023-03-10T12:40:52.714Z"
   },
   {
    "duration": 16,
    "start_time": "2023-03-10T12:40:52.756Z"
   },
   {
    "duration": 25,
    "start_time": "2023-03-10T12:40:52.775Z"
   },
   {
    "duration": 7,
    "start_time": "2023-03-10T12:40:59.526Z"
   },
   {
    "duration": 17,
    "start_time": "2023-03-10T12:41:07.019Z"
   },
   {
    "duration": 4,
    "start_time": "2023-03-10T12:41:43.183Z"
   },
   {
    "duration": 14,
    "start_time": "2023-03-10T12:41:47.567Z"
   },
   {
    "duration": 19,
    "start_time": "2023-03-10T12:42:23.890Z"
   },
   {
    "duration": 14,
    "start_time": "2023-03-10T12:43:05.906Z"
   },
   {
    "duration": 13,
    "start_time": "2023-03-10T12:43:21.529Z"
   },
   {
    "duration": 24,
    "start_time": "2023-03-10T12:43:33.545Z"
   },
   {
    "duration": 18,
    "start_time": "2023-03-10T12:43:38.953Z"
   },
   {
    "duration": 15,
    "start_time": "2023-03-10T12:43:42.959Z"
   },
   {
    "duration": 8,
    "start_time": "2023-03-10T12:46:23.351Z"
   },
   {
    "duration": 11,
    "start_time": "2023-03-10T12:46:28.056Z"
   },
   {
    "duration": 14,
    "start_time": "2023-03-10T12:46:30.196Z"
   },
   {
    "duration": 39,
    "start_time": "2023-03-10T12:46:38.157Z"
   },
   {
    "duration": 22,
    "start_time": "2023-03-10T12:46:39.367Z"
   },
   {
    "duration": 4,
    "start_time": "2023-03-10T12:46:42.209Z"
   },
   {
    "duration": 141,
    "start_time": "2023-03-10T12:46:46.631Z"
   },
   {
    "duration": 9,
    "start_time": "2023-03-10T12:46:53.084Z"
   },
   {
    "duration": 16,
    "start_time": "2023-03-10T12:55:03.965Z"
   },
   {
    "duration": 29,
    "start_time": "2023-03-10T12:55:30.031Z"
   },
   {
    "duration": 17,
    "start_time": "2023-03-10T12:55:38.734Z"
   },
   {
    "duration": 4,
    "start_time": "2023-03-10T13:00:00.738Z"
   },
   {
    "duration": 44,
    "start_time": "2023-03-10T13:01:06.824Z"
   },
   {
    "duration": 2,
    "start_time": "2023-03-10T13:02:44.337Z"
   },
   {
    "duration": 12,
    "start_time": "2023-03-10T13:02:58.795Z"
   },
   {
    "duration": 53,
    "start_time": "2023-03-10T13:04:52.182Z"
   },
   {
    "duration": 9,
    "start_time": "2023-03-10T13:04:59.688Z"
   },
   {
    "duration": 156,
    "start_time": "2023-03-10T13:05:07.613Z"
   },
   {
    "duration": 320,
    "start_time": "2023-03-10T13:06:10.821Z"
   },
   {
    "duration": 284,
    "start_time": "2023-03-10T13:06:44.586Z"
   },
   {
    "duration": 391,
    "start_time": "2023-03-10T13:08:00.236Z"
   },
   {
    "duration": 362,
    "start_time": "2023-03-10T13:08:06.443Z"
   },
   {
    "duration": 422,
    "start_time": "2023-03-10T13:11:29.259Z"
   },
   {
    "duration": 389,
    "start_time": "2023-03-10T13:12:19.736Z"
   },
   {
    "duration": 1137,
    "start_time": "2023-03-10T13:13:19.892Z"
   },
   {
    "duration": 464,
    "start_time": "2023-03-10T13:13:37.342Z"
   },
   {
    "duration": 440,
    "start_time": "2023-03-10T13:15:00.893Z"
   },
   {
    "duration": 470,
    "start_time": "2023-03-10T13:16:13.728Z"
   },
   {
    "duration": 400,
    "start_time": "2023-03-10T13:16:18.906Z"
   },
   {
    "duration": 561,
    "start_time": "2023-03-10T13:16:38.172Z"
   },
   {
    "duration": 510,
    "start_time": "2023-03-10T13:17:22.071Z"
   },
   {
    "duration": 546,
    "start_time": "2023-03-10T13:17:29.392Z"
   },
   {
    "duration": 510,
    "start_time": "2023-03-10T13:17:47.393Z"
   },
   {
    "duration": 632,
    "start_time": "2023-03-10T13:18:38.408Z"
   },
   {
    "duration": 624,
    "start_time": "2023-03-10T13:18:46.167Z"
   },
   {
    "duration": 816,
    "start_time": "2023-03-10T13:19:31.701Z"
   },
   {
    "duration": 706,
    "start_time": "2023-03-10T13:21:29.827Z"
   },
   {
    "duration": 626,
    "start_time": "2023-03-10T13:22:35.847Z"
   },
   {
    "duration": 376,
    "start_time": "2023-03-10T13:25:32.032Z"
   },
   {
    "duration": 372,
    "start_time": "2023-03-10T13:27:01.998Z"
   },
   {
    "duration": 1031,
    "start_time": "2023-03-10T13:28:11.327Z"
   },
   {
    "duration": 1227,
    "start_time": "2023-03-10T13:28:23.143Z"
   },
   {
    "duration": 433,
    "start_time": "2023-03-10T13:29:13.055Z"
   },
   {
    "duration": 480,
    "start_time": "2023-03-10T13:29:47.993Z"
   },
   {
    "duration": 600,
    "start_time": "2023-03-10T13:30:01.092Z"
   },
   {
    "duration": 448,
    "start_time": "2023-03-10T13:30:04.538Z"
   },
   {
    "duration": 450,
    "start_time": "2023-03-10T13:31:44.505Z"
   },
   {
    "duration": 547,
    "start_time": "2023-03-10T13:32:23.792Z"
   },
   {
    "duration": 532,
    "start_time": "2023-03-10T13:32:44.438Z"
   },
   {
    "duration": 572,
    "start_time": "2023-03-10T13:32:53.199Z"
   },
   {
    "duration": 477,
    "start_time": "2023-03-10T13:34:01.704Z"
   },
   {
    "duration": 453,
    "start_time": "2023-03-10T13:34:22.196Z"
   },
   {
    "duration": 527,
    "start_time": "2023-03-10T13:34:55.032Z"
   },
   {
    "duration": 569,
    "start_time": "2023-03-10T13:35:18.382Z"
   },
   {
    "duration": 521,
    "start_time": "2023-03-10T13:35:33.394Z"
   },
   {
    "duration": 41,
    "start_time": "2023-03-10T13:38:07.592Z"
   },
   {
    "duration": 515,
    "start_time": "2023-03-10T13:38:25.952Z"
   },
   {
    "duration": 4,
    "start_time": "2023-03-10T13:46:17.461Z"
   },
   {
    "duration": 545,
    "start_time": "2023-03-10T13:46:17.469Z"
   },
   {
    "duration": 112,
    "start_time": "2023-03-10T13:46:18.016Z"
   },
   {
    "duration": 53,
    "start_time": "2023-03-10T13:46:18.130Z"
   },
   {
    "duration": 6,
    "start_time": "2023-03-10T13:46:18.185Z"
   },
   {
    "duration": 23,
    "start_time": "2023-03-10T13:46:18.193Z"
   },
   {
    "duration": 104,
    "start_time": "2023-03-10T13:46:18.217Z"
   },
   {
    "duration": 216,
    "start_time": "2023-03-10T13:46:18.322Z"
   },
   {
    "duration": 25,
    "start_time": "2023-03-10T13:46:18.539Z"
   },
   {
    "duration": 20,
    "start_time": "2023-03-10T13:46:18.566Z"
   },
   {
    "duration": 5,
    "start_time": "2023-03-10T13:46:18.588Z"
   },
   {
    "duration": 4,
    "start_time": "2023-03-10T13:46:18.594Z"
   },
   {
    "duration": 11,
    "start_time": "2023-03-10T13:46:18.599Z"
   },
   {
    "duration": 492,
    "start_time": "2023-03-10T13:46:18.611Z"
   },
   {
    "duration": 13,
    "start_time": "2023-03-10T13:46:19.106Z"
   },
   {
    "duration": 33,
    "start_time": "2023-03-10T13:46:19.121Z"
   },
   {
    "duration": 13,
    "start_time": "2023-03-10T13:46:19.156Z"
   },
   {
    "duration": 10,
    "start_time": "2023-03-10T13:46:19.171Z"
   },
   {
    "duration": 10,
    "start_time": "2023-03-10T13:46:19.183Z"
   },
   {
    "duration": 15,
    "start_time": "2023-03-10T13:46:19.195Z"
   },
   {
    "duration": 71,
    "start_time": "2023-03-10T13:46:19.212Z"
   },
   {
    "duration": 20,
    "start_time": "2023-03-10T13:46:19.284Z"
   },
   {
    "duration": 4,
    "start_time": "2023-03-10T13:46:19.305Z"
   },
   {
    "duration": 105,
    "start_time": "2023-03-10T13:46:19.311Z"
   },
   {
    "duration": 8,
    "start_time": "2023-03-10T13:46:19.417Z"
   },
   {
    "duration": 48,
    "start_time": "2023-03-10T13:46:19.427Z"
   },
   {
    "duration": 10,
    "start_time": "2023-03-10T13:46:19.476Z"
   },
   {
    "duration": 6,
    "start_time": "2023-03-10T13:46:19.488Z"
   },
   {
    "duration": 143,
    "start_time": "2023-03-10T13:46:19.495Z"
   },
   {
    "duration": 48,
    "start_time": "2023-03-10T13:46:19.640Z"
   },
   {
    "duration": 567,
    "start_time": "2023-03-10T13:46:19.689Z"
   },
   {
    "duration": 27,
    "start_time": "2023-03-10T13:46:20.258Z"
   },
   {
    "duration": 626,
    "start_time": "2023-03-10T13:46:20.287Z"
   },
   {
    "duration": 476,
    "start_time": "2023-03-10T13:46:27.821Z"
   },
   {
    "duration": 408,
    "start_time": "2023-03-10T13:47:18.812Z"
   },
   {
    "duration": 18,
    "start_time": "2023-03-10T13:49:01.911Z"
   },
   {
    "duration": 722,
    "start_time": "2023-03-10T13:49:16.982Z"
   },
   {
    "duration": 18,
    "start_time": "2023-03-10T13:49:24.152Z"
   },
   {
    "duration": 34,
    "start_time": "2023-03-10T13:49:54.963Z"
   },
   {
    "duration": 9,
    "start_time": "2023-03-10T13:51:21.312Z"
   },
   {
    "duration": 178,
    "start_time": "2023-03-10T13:51:24.910Z"
   },
   {
    "duration": 12,
    "start_time": "2023-03-10T13:52:13.122Z"
   },
   {
    "duration": 14,
    "start_time": "2023-03-10T13:52:45.904Z"
   },
   {
    "duration": 37,
    "start_time": "2023-03-10T13:55:03.836Z"
   },
   {
    "duration": 15,
    "start_time": "2023-03-10T13:55:18.313Z"
   },
   {
    "duration": 25,
    "start_time": "2023-03-10T13:55:26.318Z"
   },
   {
    "duration": 34,
    "start_time": "2023-03-10T13:56:07.803Z"
   },
   {
    "duration": 31,
    "start_time": "2023-03-10T13:56:35.151Z"
   },
   {
    "duration": 38,
    "start_time": "2023-03-10T13:56:39.966Z"
   },
   {
    "duration": 48,
    "start_time": "2023-03-10T13:56:44.509Z"
   },
   {
    "duration": 48,
    "start_time": "2023-03-10T13:57:23.387Z"
   },
   {
    "duration": 33,
    "start_time": "2023-03-10T13:57:35.680Z"
   },
   {
    "duration": 54,
    "start_time": "2023-03-10T13:58:21.540Z"
   },
   {
    "duration": 42,
    "start_time": "2023-03-10T13:58:33.395Z"
   },
   {
    "duration": 42,
    "start_time": "2023-03-10T13:58:47.001Z"
   },
   {
    "duration": 67,
    "start_time": "2023-03-10T13:59:04.049Z"
   },
   {
    "duration": 40,
    "start_time": "2023-03-10T13:59:26.298Z"
   },
   {
    "duration": 46,
    "start_time": "2023-03-10T13:59:40.767Z"
   },
   {
    "duration": 42,
    "start_time": "2023-03-10T13:59:50.785Z"
   },
   {
    "duration": 49,
    "start_time": "2023-03-10T14:01:42.700Z"
   },
   {
    "duration": 24,
    "start_time": "2023-03-10T14:01:55.100Z"
   },
   {
    "duration": 20,
    "start_time": "2023-03-10T14:02:17.207Z"
   },
   {
    "duration": 24,
    "start_time": "2023-03-10T14:02:54.666Z"
   },
   {
    "duration": 29,
    "start_time": "2023-03-10T14:04:05.992Z"
   },
   {
    "duration": 25,
    "start_time": "2023-03-10T14:04:21.196Z"
   },
   {
    "duration": 28,
    "start_time": "2023-03-10T14:04:32.227Z"
   },
   {
    "duration": 10,
    "start_time": "2023-03-10T14:04:58.764Z"
   },
   {
    "duration": 759,
    "start_time": "2023-03-10T14:05:00.285Z"
   },
   {
    "duration": 16,
    "start_time": "2023-03-10T14:05:18.003Z"
   },
   {
    "duration": 14,
    "start_time": "2023-03-10T14:05:48.111Z"
   },
   {
    "duration": 4,
    "start_time": "2023-03-10T14:06:21.737Z"
   },
   {
    "duration": 17,
    "start_time": "2023-03-10T14:06:27.338Z"
   },
   {
    "duration": 702,
    "start_time": "2023-03-10T14:06:43.330Z"
   },
   {
    "duration": 722,
    "start_time": "2023-03-10T14:07:06.399Z"
   },
   {
    "duration": 12,
    "start_time": "2023-03-10T14:07:13.547Z"
   },
   {
    "duration": 17,
    "start_time": "2023-03-10T14:08:34.904Z"
   },
   {
    "duration": 725,
    "start_time": "2023-03-10T14:09:07.575Z"
   },
   {
    "duration": 19,
    "start_time": "2023-03-10T14:09:23.139Z"
   },
   {
    "duration": 12,
    "start_time": "2023-03-10T14:10:03.749Z"
   },
   {
    "duration": 13,
    "start_time": "2023-03-10T14:13:41.362Z"
   },
   {
    "duration": 15,
    "start_time": "2023-03-10T14:14:37.808Z"
   },
   {
    "duration": 12,
    "start_time": "2023-03-10T14:14:46.908Z"
   },
   {
    "duration": 16,
    "start_time": "2023-03-10T14:14:53.562Z"
   },
   {
    "duration": 17,
    "start_time": "2023-03-10T14:19:39.253Z"
   },
   {
    "duration": 21,
    "start_time": "2023-03-10T14:20:22.606Z"
   },
   {
    "duration": 58,
    "start_time": "2023-03-10T14:20:32.660Z"
   },
   {
    "duration": 16,
    "start_time": "2023-03-10T14:20:38.799Z"
   },
   {
    "duration": 17,
    "start_time": "2023-03-10T14:20:58.232Z"
   },
   {
    "duration": 17,
    "start_time": "2023-03-10T14:21:09.795Z"
   },
   {
    "duration": 12,
    "start_time": "2023-03-10T14:21:24.288Z"
   },
   {
    "duration": 11,
    "start_time": "2023-03-10T14:22:05.133Z"
   },
   {
    "duration": 14,
    "start_time": "2023-03-10T14:22:35.434Z"
   },
   {
    "duration": 13,
    "start_time": "2023-03-10T14:23:01.295Z"
   },
   {
    "duration": 16,
    "start_time": "2023-03-10T14:23:51.482Z"
   },
   {
    "duration": 14,
    "start_time": "2023-03-10T14:25:24.499Z"
   },
   {
    "duration": 18,
    "start_time": "2023-03-10T14:26:01.803Z"
   },
   {
    "duration": 22,
    "start_time": "2023-03-10T14:26:23.590Z"
   },
   {
    "duration": 13,
    "start_time": "2023-03-10T14:27:31.587Z"
   },
   {
    "duration": 231,
    "start_time": "2023-03-10T14:30:51.458Z"
   },
   {
    "duration": 25,
    "start_time": "2023-03-10T14:31:49.017Z"
   },
   {
    "duration": 11,
    "start_time": "2023-03-10T14:31:52.923Z"
   },
   {
    "duration": 10,
    "start_time": "2023-03-10T14:32:49.368Z"
   },
   {
    "duration": 11,
    "start_time": "2023-03-10T14:33:17.742Z"
   },
   {
    "duration": 43,
    "start_time": "2023-03-10T14:36:02.246Z"
   },
   {
    "duration": 29,
    "start_time": "2023-03-10T14:36:39.260Z"
   },
   {
    "duration": 32,
    "start_time": "2023-03-10T14:37:50.134Z"
   },
   {
    "duration": 12,
    "start_time": "2023-03-10T14:37:53.211Z"
   },
   {
    "duration": 24,
    "start_time": "2023-03-10T14:38:33.085Z"
   },
   {
    "duration": 0,
    "start_time": "2023-03-10T14:38:58.181Z"
   },
   {
    "duration": 683,
    "start_time": "2023-03-10T14:38:59.485Z"
   },
   {
    "duration": 179,
    "start_time": "2023-03-10T14:39:25.415Z"
   },
   {
    "duration": 179,
    "start_time": "2023-03-10T14:39:44.388Z"
   },
   {
    "duration": 22,
    "start_time": "2023-03-10T14:40:03.190Z"
   },
   {
    "duration": 17,
    "start_time": "2023-03-10T14:40:13.784Z"
   },
   {
    "duration": 26,
    "start_time": "2023-03-10T14:40:32.712Z"
   },
   {
    "duration": 11,
    "start_time": "2023-03-10T14:40:34.789Z"
   },
   {
    "duration": 20,
    "start_time": "2023-03-10T14:40:51.712Z"
   },
   {
    "duration": 11,
    "start_time": "2023-03-10T14:40:53.713Z"
   },
   {
    "duration": 6,
    "start_time": "2023-03-10T14:41:15.963Z"
   },
   {
    "duration": 16,
    "start_time": "2023-03-10T14:41:28.163Z"
   },
   {
    "duration": 15,
    "start_time": "2023-03-10T14:41:30.782Z"
   },
   {
    "duration": 26,
    "start_time": "2023-03-10T14:41:35.694Z"
   },
   {
    "duration": 34,
    "start_time": "2023-03-10T14:41:41.508Z"
   },
   {
    "duration": 5,
    "start_time": "2023-03-10T14:41:44.791Z"
   },
   {
    "duration": 9,
    "start_time": "2023-03-10T14:41:46.999Z"
   },
   {
    "duration": 12,
    "start_time": "2023-03-10T14:42:02.880Z"
   },
   {
    "duration": 11,
    "start_time": "2023-03-10T14:42:14.866Z"
   },
   {
    "duration": 46,
    "start_time": "2023-03-10T14:44:47.803Z"
   },
   {
    "duration": 5,
    "start_time": "2023-03-10T14:48:49.986Z"
   },
   {
    "duration": 10,
    "start_time": "2023-03-10T14:48:51.302Z"
   },
   {
    "duration": 5,
    "start_time": "2023-03-10T14:49:21.956Z"
   },
   {
    "duration": 20,
    "start_time": "2023-03-10T14:49:23.176Z"
   },
   {
    "duration": 6,
    "start_time": "2023-03-10T14:49:31.550Z"
   },
   {
    "duration": 11,
    "start_time": "2023-03-10T14:49:32.836Z"
   },
   {
    "duration": 12,
    "start_time": "2023-03-10T14:49:48.769Z"
   },
   {
    "duration": 3,
    "start_time": "2023-03-10T14:50:34.736Z"
   },
   {
    "duration": 548,
    "start_time": "2023-03-10T14:50:34.751Z"
   },
   {
    "duration": 122,
    "start_time": "2023-03-10T14:50:35.301Z"
   },
   {
    "duration": 51,
    "start_time": "2023-03-10T14:50:35.425Z"
   },
   {
    "duration": 5,
    "start_time": "2023-03-10T14:50:35.478Z"
   },
   {
    "duration": 23,
    "start_time": "2023-03-10T14:50:35.484Z"
   },
   {
    "duration": 102,
    "start_time": "2023-03-10T14:50:35.509Z"
   },
   {
    "duration": 209,
    "start_time": "2023-03-10T14:50:35.613Z"
   },
   {
    "duration": 11,
    "start_time": "2023-03-10T14:50:35.823Z"
   },
   {
    "duration": 20,
    "start_time": "2023-03-10T14:50:35.836Z"
   },
   {
    "duration": 4,
    "start_time": "2023-03-10T14:50:35.859Z"
   },
   {
    "duration": 22,
    "start_time": "2023-03-10T14:50:35.865Z"
   },
   {
    "duration": 11,
    "start_time": "2023-03-10T14:50:35.889Z"
   },
   {
    "duration": 487,
    "start_time": "2023-03-10T14:50:35.902Z"
   },
   {
    "duration": 19,
    "start_time": "2023-03-10T14:50:36.391Z"
   },
   {
    "duration": 17,
    "start_time": "2023-03-10T14:50:36.412Z"
   },
   {
    "duration": 31,
    "start_time": "2023-03-10T14:50:36.431Z"
   },
   {
    "duration": 18,
    "start_time": "2023-03-10T14:50:36.463Z"
   },
   {
    "duration": 21,
    "start_time": "2023-03-10T14:50:36.482Z"
   },
   {
    "duration": 28,
    "start_time": "2023-03-10T14:50:36.504Z"
   },
   {
    "duration": 37,
    "start_time": "2023-03-10T14:50:36.534Z"
   },
   {
    "duration": 21,
    "start_time": "2023-03-10T14:50:36.572Z"
   },
   {
    "duration": 4,
    "start_time": "2023-03-10T14:50:36.594Z"
   },
   {
    "duration": 97,
    "start_time": "2023-03-10T14:50:36.599Z"
   },
   {
    "duration": 8,
    "start_time": "2023-03-10T14:50:36.698Z"
   },
   {
    "duration": 45,
    "start_time": "2023-03-10T14:50:36.708Z"
   },
   {
    "duration": 10,
    "start_time": "2023-03-10T14:50:36.755Z"
   },
   {
    "duration": 5,
    "start_time": "2023-03-10T14:50:36.766Z"
   },
   {
    "duration": 153,
    "start_time": "2023-03-10T14:50:36.774Z"
   },
   {
    "duration": 48,
    "start_time": "2023-03-10T14:50:36.928Z"
   },
   {
    "duration": 645,
    "start_time": "2023-03-10T14:50:36.978Z"
   },
   {
    "duration": 33,
    "start_time": "2023-03-10T14:50:37.624Z"
   },
   {
    "duration": 531,
    "start_time": "2023-03-10T14:50:37.659Z"
   },
   {
    "duration": 410,
    "start_time": "2023-03-10T14:50:38.192Z"
   },
   {
    "duration": 392,
    "start_time": "2023-03-10T14:50:38.604Z"
   },
   {
    "duration": 23,
    "start_time": "2023-03-10T14:50:38.997Z"
   },
   {
    "duration": 11,
    "start_time": "2023-03-10T14:50:39.022Z"
   },
   {
    "duration": 6,
    "start_time": "2023-03-10T14:50:39.053Z"
   },
   {
    "duration": 14,
    "start_time": "2023-03-10T14:50:39.061Z"
   },
   {
    "duration": 12,
    "start_time": "2023-03-10T14:50:39.077Z"
   },
   {
    "duration": 29,
    "start_time": "2023-03-10T14:50:39.091Z"
   },
   {
    "duration": 59,
    "start_time": "2023-03-10T14:50:39.121Z"
   },
   {
    "duration": 5,
    "start_time": "2023-03-10T14:50:39.181Z"
   },
   {
    "duration": 12,
    "start_time": "2023-03-10T14:50:46.865Z"
   },
   {
    "duration": 44,
    "start_time": "2023-03-10T14:51:22.905Z"
   },
   {
    "duration": 13,
    "start_time": "2023-03-10T14:57:47.810Z"
   },
   {
    "duration": 19,
    "start_time": "2023-03-10T14:57:54.466Z"
   },
   {
    "duration": 26,
    "start_time": "2023-03-10T14:58:32.935Z"
   },
   {
    "duration": 7,
    "start_time": "2023-03-10T15:00:39.021Z"
   },
   {
    "duration": 17,
    "start_time": "2023-03-10T15:02:38.363Z"
   },
   {
    "duration": 257,
    "start_time": "2023-03-10T15:03:43.938Z"
   },
   {
    "duration": 224,
    "start_time": "2023-03-10T15:03:51.069Z"
   },
   {
    "duration": 754,
    "start_time": "2023-03-10T15:04:20.819Z"
   },
   {
    "duration": 813,
    "start_time": "2023-03-10T15:06:25.467Z"
   },
   {
    "duration": 10,
    "start_time": "2023-03-10T15:06:41.951Z"
   },
   {
    "duration": 438,
    "start_time": "2023-03-10T15:07:09.505Z"
   },
   {
    "duration": 318,
    "start_time": "2023-03-10T15:07:57.918Z"
   },
   {
    "duration": 298,
    "start_time": "2023-03-10T15:08:19.547Z"
   },
   {
    "duration": 22,
    "start_time": "2023-03-10T15:08:36.116Z"
   },
   {
    "duration": 335,
    "start_time": "2023-03-10T15:10:17.856Z"
   },
   {
    "duration": 1012,
    "start_time": "2023-03-10T15:13:49.249Z"
   },
   {
    "duration": 27,
    "start_time": "2023-03-10T15:14:13.014Z"
   },
   {
    "duration": 894,
    "start_time": "2023-03-10T15:15:47.020Z"
   },
   {
    "duration": 896,
    "start_time": "2023-03-10T15:15:51.055Z"
   },
   {
    "duration": 42,
    "start_time": "2023-03-10T15:16:11.643Z"
   },
   {
    "duration": 26,
    "start_time": "2023-03-10T15:18:04.284Z"
   },
   {
    "duration": 28,
    "start_time": "2023-03-10T15:18:19.461Z"
   },
   {
    "duration": 27,
    "start_time": "2023-03-10T15:18:37.492Z"
   },
   {
    "duration": 31,
    "start_time": "2023-03-10T15:18:48.778Z"
   },
   {
    "duration": 40,
    "start_time": "2023-03-10T15:19:16.156Z"
   },
   {
    "duration": 45,
    "start_time": "2023-03-10T15:20:35.641Z"
   },
   {
    "duration": 31,
    "start_time": "2023-03-10T15:22:44.089Z"
   },
   {
    "duration": 24,
    "start_time": "2023-03-10T15:22:51.888Z"
   },
   {
    "duration": 201,
    "start_time": "2023-03-10T15:23:45.722Z"
   },
   {
    "duration": 45,
    "start_time": "2023-03-10T15:24:10.941Z"
   },
   {
    "duration": 26,
    "start_time": "2023-03-10T15:25:27.178Z"
   },
   {
    "duration": 35,
    "start_time": "2023-03-10T15:25:52.106Z"
   },
   {
    "duration": 56,
    "start_time": "2023-03-10T15:26:37.465Z"
   },
   {
    "duration": 63,
    "start_time": "2023-03-10T15:26:41.252Z"
   },
   {
    "duration": 29,
    "start_time": "2023-03-10T15:27:04.190Z"
   },
   {
    "duration": 37,
    "start_time": "2023-03-10T15:27:12.409Z"
   },
   {
    "duration": 984,
    "start_time": "2023-03-10T15:27:54.369Z"
   },
   {
    "duration": 1001,
    "start_time": "2023-03-10T15:28:07.409Z"
   },
   {
    "duration": 27,
    "start_time": "2023-03-10T15:28:13.274Z"
   },
   {
    "duration": 28,
    "start_time": "2023-03-10T15:29:11.097Z"
   },
   {
    "duration": 25,
    "start_time": "2023-03-10T15:29:19.274Z"
   },
   {
    "duration": 26,
    "start_time": "2023-03-10T15:29:49.845Z"
   },
   {
    "duration": 24,
    "start_time": "2023-03-10T15:30:25.773Z"
   },
   {
    "duration": 3,
    "start_time": "2023-03-10T16:14:53.737Z"
   },
   {
    "duration": 2,
    "start_time": "2023-03-10T16:15:11.622Z"
   },
   {
    "duration": 13,
    "start_time": "2023-03-10T16:18:25.064Z"
   },
   {
    "duration": 9,
    "start_time": "2023-03-10T16:18:37.461Z"
   },
   {
    "duration": 28,
    "start_time": "2023-03-10T16:18:45.157Z"
   },
   {
    "duration": 28,
    "start_time": "2023-03-10T16:20:01.474Z"
   },
   {
    "duration": 41,
    "start_time": "2023-03-10T16:20:29.703Z"
   },
   {
    "duration": 9,
    "start_time": "2023-03-10T16:23:37.097Z"
   },
   {
    "duration": 10,
    "start_time": "2023-03-10T16:24:45.282Z"
   },
   {
    "duration": 49,
    "start_time": "2023-03-10T16:25:05.715Z"
   },
   {
    "duration": 23,
    "start_time": "2023-03-10T16:27:40.290Z"
   },
   {
    "duration": 32,
    "start_time": "2023-03-10T16:27:49.400Z"
   },
   {
    "duration": 29,
    "start_time": "2023-03-10T16:28:10.502Z"
   },
   {
    "duration": 27,
    "start_time": "2023-03-10T16:28:39.409Z"
   },
   {
    "duration": 23,
    "start_time": "2023-03-10T16:28:44.934Z"
   },
   {
    "duration": 27,
    "start_time": "2023-03-10T16:28:52.818Z"
   },
   {
    "duration": 47,
    "start_time": "2023-03-10T16:29:04.189Z"
   },
   {
    "duration": 934,
    "start_time": "2023-03-10T16:29:49.011Z"
   },
   {
    "duration": 1008,
    "start_time": "2023-03-10T16:30:14.417Z"
   },
   {
    "duration": 34,
    "start_time": "2023-03-10T16:30:20.548Z"
   },
   {
    "duration": 23,
    "start_time": "2023-03-10T16:32:35.651Z"
   },
   {
    "duration": 29,
    "start_time": "2023-03-10T16:33:05.267Z"
   },
   {
    "duration": 31,
    "start_time": "2023-03-10T16:34:12.103Z"
   },
   {
    "duration": 37,
    "start_time": "2023-03-10T16:34:48.068Z"
   },
   {
    "duration": 33,
    "start_time": "2023-03-10T16:35:47.343Z"
   },
   {
    "duration": 3,
    "start_time": "2023-03-10T16:35:53.316Z"
   },
   {
    "duration": 552,
    "start_time": "2023-03-10T16:35:53.324Z"
   },
   {
    "duration": 143,
    "start_time": "2023-03-10T16:35:53.878Z"
   },
   {
    "duration": 47,
    "start_time": "2023-03-10T16:35:54.023Z"
   },
   {
    "duration": 5,
    "start_time": "2023-03-10T16:35:54.072Z"
   },
   {
    "duration": 18,
    "start_time": "2023-03-10T16:35:54.079Z"
   },
   {
    "duration": 100,
    "start_time": "2023-03-10T16:35:54.099Z"
   },
   {
    "duration": 241,
    "start_time": "2023-03-10T16:35:54.201Z"
   },
   {
    "duration": 36,
    "start_time": "2023-03-10T16:35:54.443Z"
   },
   {
    "duration": 29,
    "start_time": "2023-03-10T16:35:54.480Z"
   },
   {
    "duration": 41,
    "start_time": "2023-03-10T16:35:54.511Z"
   },
   {
    "duration": 0,
    "start_time": "2023-03-10T16:35:54.554Z"
   },
   {
    "duration": 0,
    "start_time": "2023-03-10T16:35:54.555Z"
   },
   {
    "duration": 0,
    "start_time": "2023-03-10T16:35:54.556Z"
   },
   {
    "duration": 0,
    "start_time": "2023-03-10T16:35:54.558Z"
   },
   {
    "duration": 0,
    "start_time": "2023-03-10T16:35:54.558Z"
   },
   {
    "duration": 0,
    "start_time": "2023-03-10T16:35:54.559Z"
   },
   {
    "duration": 0,
    "start_time": "2023-03-10T16:35:54.560Z"
   },
   {
    "duration": 0,
    "start_time": "2023-03-10T16:35:54.561Z"
   },
   {
    "duration": 0,
    "start_time": "2023-03-10T16:35:54.562Z"
   },
   {
    "duration": 0,
    "start_time": "2023-03-10T16:35:54.562Z"
   },
   {
    "duration": 0,
    "start_time": "2023-03-10T16:35:54.564Z"
   },
   {
    "duration": 0,
    "start_time": "2023-03-10T16:35:54.565Z"
   },
   {
    "duration": 0,
    "start_time": "2023-03-10T16:35:54.566Z"
   },
   {
    "duration": 0,
    "start_time": "2023-03-10T16:35:54.567Z"
   },
   {
    "duration": 0,
    "start_time": "2023-03-10T16:35:54.568Z"
   },
   {
    "duration": 0,
    "start_time": "2023-03-10T16:35:54.569Z"
   },
   {
    "duration": 0,
    "start_time": "2023-03-10T16:35:54.570Z"
   },
   {
    "duration": 0,
    "start_time": "2023-03-10T16:35:54.570Z"
   },
   {
    "duration": 0,
    "start_time": "2023-03-10T16:35:54.571Z"
   },
   {
    "duration": 0,
    "start_time": "2023-03-10T16:35:54.572Z"
   },
   {
    "duration": 0,
    "start_time": "2023-03-10T16:35:54.573Z"
   },
   {
    "duration": 0,
    "start_time": "2023-03-10T16:35:54.574Z"
   },
   {
    "duration": 0,
    "start_time": "2023-03-10T16:35:54.575Z"
   },
   {
    "duration": 0,
    "start_time": "2023-03-10T16:35:54.576Z"
   },
   {
    "duration": 0,
    "start_time": "2023-03-10T16:35:54.577Z"
   },
   {
    "duration": 0,
    "start_time": "2023-03-10T16:35:54.578Z"
   },
   {
    "duration": 0,
    "start_time": "2023-03-10T16:35:54.579Z"
   },
   {
    "duration": 0,
    "start_time": "2023-03-10T16:35:54.580Z"
   },
   {
    "duration": 0,
    "start_time": "2023-03-10T16:35:54.581Z"
   },
   {
    "duration": 4,
    "start_time": "2023-03-10T16:36:15.404Z"
   },
   {
    "duration": 548,
    "start_time": "2023-03-10T16:36:16.630Z"
   },
   {
    "duration": 143,
    "start_time": "2023-03-10T16:36:19.951Z"
   },
   {
    "duration": 48,
    "start_time": "2023-03-10T16:36:22.716Z"
   },
   {
    "duration": 6,
    "start_time": "2023-03-10T16:36:26.427Z"
   },
   {
    "duration": 15,
    "start_time": "2023-03-10T16:36:27.654Z"
   },
   {
    "duration": 100,
    "start_time": "2023-03-10T16:36:28.536Z"
   },
   {
    "duration": 256,
    "start_time": "2023-03-10T16:36:29.966Z"
   },
   {
    "duration": 32,
    "start_time": "2023-03-10T16:36:32.287Z"
   },
   {
    "duration": 33,
    "start_time": "2023-03-10T16:36:32.974Z"
   },
   {
    "duration": 40,
    "start_time": "2023-03-10T16:36:33.444Z"
   },
   {
    "duration": 8,
    "start_time": "2023-03-10T16:36:39.356Z"
   },
   {
    "duration": 9,
    "start_time": "2023-03-10T16:36:41.222Z"
   },
   {
    "duration": 12,
    "start_time": "2023-03-10T16:36:48.590Z"
   },
   {
    "duration": 8,
    "start_time": "2023-03-10T16:36:54.933Z"
   },
   {
    "duration": 4,
    "start_time": "2023-03-10T16:36:55.379Z"
   },
   {
    "duration": 4,
    "start_time": "2023-03-10T16:36:56.956Z"
   },
   {
    "duration": 6,
    "start_time": "2023-03-10T16:37:02.481Z"
   },
   {
    "duration": 520,
    "start_time": "2023-03-10T16:37:07.269Z"
   },
   {
    "duration": 14,
    "start_time": "2023-03-10T16:37:09.190Z"
   },
   {
    "duration": 18,
    "start_time": "2023-03-10T16:37:12.244Z"
   },
   {
    "duration": 13,
    "start_time": "2023-03-10T16:37:13.424Z"
   },
   {
    "duration": 11,
    "start_time": "2023-03-10T16:37:16.682Z"
   },
   {
    "duration": 12,
    "start_time": "2023-03-10T16:37:23.988Z"
   },
   {
    "duration": 17,
    "start_time": "2023-03-10T16:37:26.918Z"
   },
   {
    "duration": 50,
    "start_time": "2023-03-10T16:37:30.216Z"
   },
   {
    "duration": 26,
    "start_time": "2023-03-10T16:37:32.768Z"
   },
   {
    "duration": 5,
    "start_time": "2023-03-10T16:37:35.463Z"
   },
   {
    "duration": 111,
    "start_time": "2023-03-10T16:37:40.971Z"
   },
   {
    "duration": 9,
    "start_time": "2023-03-10T16:37:43.814Z"
   },
   {
    "duration": 31,
    "start_time": "2023-03-10T16:37:47.083Z"
   },
   {
    "duration": 10,
    "start_time": "2023-03-10T16:37:48.790Z"
   },
   {
    "duration": 6,
    "start_time": "2023-03-10T16:37:51.392Z"
   },
   {
    "duration": 139,
    "start_time": "2023-03-10T16:38:02.878Z"
   },
   {
    "duration": 46,
    "start_time": "2023-03-10T16:38:05.115Z"
   },
   {
    "duration": 565,
    "start_time": "2023-03-10T16:38:06.260Z"
   },
   {
    "duration": 26,
    "start_time": "2023-03-10T16:38:12.174Z"
   },
   {
    "duration": 564,
    "start_time": "2023-03-10T16:38:12.948Z"
   },
   {
    "duration": 408,
    "start_time": "2023-03-10T16:38:15.426Z"
   },
   {
    "duration": 401,
    "start_time": "2023-03-10T16:38:22.228Z"
   },
   {
    "duration": 24,
    "start_time": "2023-03-10T16:41:24.408Z"
   },
   {
    "duration": 33,
    "start_time": "2023-03-10T16:41:38.648Z"
   },
   {
    "duration": 24,
    "start_time": "2023-03-10T16:41:55.850Z"
   },
   {
    "duration": 43,
    "start_time": "2023-03-10T16:43:58.606Z"
   },
   {
    "duration": 20,
    "start_time": "2023-03-10T16:44:37.464Z"
   },
   {
    "duration": 23,
    "start_time": "2023-03-10T16:44:41.546Z"
   },
   {
    "duration": 26,
    "start_time": "2023-03-10T16:44:52.591Z"
   },
   {
    "duration": 25,
    "start_time": "2023-03-10T16:44:58.363Z"
   },
   {
    "duration": 24,
    "start_time": "2023-03-10T16:45:41.197Z"
   },
   {
    "duration": 21,
    "start_time": "2023-03-10T16:45:59.811Z"
   },
   {
    "duration": 23,
    "start_time": "2023-03-10T16:48:15.389Z"
   },
   {
    "duration": 21,
    "start_time": "2023-03-10T16:48:19.646Z"
   },
   {
    "duration": 21,
    "start_time": "2023-03-10T16:50:57.645Z"
   },
   {
    "duration": 54,
    "start_time": "2023-03-10T16:52:24.650Z"
   },
   {
    "duration": 3,
    "start_time": "2023-03-10T16:52:47.765Z"
   },
   {
    "duration": 663,
    "start_time": "2023-03-10T16:52:50.438Z"
   },
   {
    "duration": 118,
    "start_time": "2023-03-10T16:53:15.907Z"
   },
   {
    "duration": 39,
    "start_time": "2023-03-10T16:53:23.880Z"
   },
   {
    "duration": 5,
    "start_time": "2023-03-10T16:53:34.497Z"
   },
   {
    "duration": 13,
    "start_time": "2023-03-10T16:53:36.379Z"
   },
   {
    "duration": 87,
    "start_time": "2023-03-10T16:53:37.238Z"
   },
   {
    "duration": 223,
    "start_time": "2023-03-10T16:53:39.809Z"
   },
   {
    "duration": 27,
    "start_time": "2023-03-10T16:53:42.371Z"
   },
   {
    "duration": 32,
    "start_time": "2023-03-10T16:53:44.110Z"
   },
   {
    "duration": 28,
    "start_time": "2023-03-10T16:53:59.863Z"
   },
   {
    "duration": 30,
    "start_time": "2023-03-10T16:54:00.504Z"
   },
   {
    "duration": 10,
    "start_time": "2023-03-10T16:54:01.819Z"
   },
   {
    "duration": 9,
    "start_time": "2023-03-10T16:54:06.396Z"
   },
   {
    "duration": 10,
    "start_time": "2023-03-10T16:54:07.676Z"
   },
   {
    "duration": 12,
    "start_time": "2023-03-10T16:54:20.729Z"
   },
   {
    "duration": 11,
    "start_time": "2023-03-10T16:54:24.503Z"
   },
   {
    "duration": 5,
    "start_time": "2023-03-10T16:54:25.029Z"
   },
   {
    "duration": 4,
    "start_time": "2023-03-10T16:54:27.502Z"
   },
   {
    "duration": 7,
    "start_time": "2023-03-10T16:54:40.410Z"
   },
   {
    "duration": 521,
    "start_time": "2023-03-10T16:54:48.620Z"
   },
   {
    "duration": 15,
    "start_time": "2023-03-10T16:54:53.651Z"
   },
   {
    "duration": 19,
    "start_time": "2023-03-10T16:54:56.603Z"
   },
   {
    "duration": 13,
    "start_time": "2023-03-10T16:54:59.642Z"
   },
   {
    "duration": 13,
    "start_time": "2023-03-10T16:55:02.480Z"
   },
   {
    "duration": 10,
    "start_time": "2023-03-10T16:55:05.651Z"
   },
   {
    "duration": 18,
    "start_time": "2023-03-10T16:55:08.962Z"
   },
   {
    "duration": 39,
    "start_time": "2023-03-10T16:55:12.400Z"
   },
   {
    "duration": 24,
    "start_time": "2023-03-10T16:55:14.792Z"
   },
   {
    "duration": 4,
    "start_time": "2023-03-10T16:55:17.094Z"
   },
   {
    "duration": 85,
    "start_time": "2023-03-10T16:55:20.688Z"
   },
   {
    "duration": 10,
    "start_time": "2023-03-10T16:55:22.634Z"
   },
   {
    "duration": 32,
    "start_time": "2023-03-10T16:55:25.531Z"
   },
   {
    "duration": 13,
    "start_time": "2023-03-10T16:55:25.962Z"
   },
   {
    "duration": 5,
    "start_time": "2023-03-10T16:55:31.680Z"
   },
   {
    "duration": 122,
    "start_time": "2023-03-10T16:55:58.735Z"
   },
   {
    "duration": 47,
    "start_time": "2023-03-10T16:56:00.837Z"
   },
   {
    "duration": 511,
    "start_time": "2023-03-10T16:56:02.301Z"
   },
   {
    "duration": 24,
    "start_time": "2023-03-10T16:56:09.251Z"
   },
   {
    "duration": 693,
    "start_time": "2023-03-10T16:56:10.408Z"
   },
   {
    "duration": 390,
    "start_time": "2023-03-10T16:56:14.429Z"
   },
   {
    "duration": 401,
    "start_time": "2023-03-10T16:56:21.359Z"
   },
   {
    "duration": 44,
    "start_time": "2023-03-10T16:56:27.280Z"
   },
   {
    "duration": 23,
    "start_time": "2023-03-10T16:56:37.585Z"
   },
   {
    "duration": 23,
    "start_time": "2023-03-10T16:56:46.379Z"
   },
   {
    "duration": 11,
    "start_time": "2023-03-10T16:56:47.891Z"
   },
   {
    "duration": 6,
    "start_time": "2023-03-10T16:56:55.320Z"
   },
   {
    "duration": 13,
    "start_time": "2023-03-10T16:57:04.559Z"
   },
   {
    "duration": 12,
    "start_time": "2023-03-10T16:57:06.862Z"
   },
   {
    "duration": 32,
    "start_time": "2023-03-10T16:57:13.076Z"
   },
   {
    "duration": 33,
    "start_time": "2023-03-10T16:57:15.338Z"
   },
   {
    "duration": 7,
    "start_time": "2023-03-10T16:57:17.374Z"
   },
   {
    "duration": 13,
    "start_time": "2023-03-10T16:57:21.223Z"
   }
  ],
  "kernelspec": {
   "display_name": "Python 3 (ipykernel)",
   "language": "python",
   "name": "python3"
  },
  "language_info": {
   "codemirror_mode": {
    "name": "ipython",
    "version": 3
   },
   "file_extension": ".py",
   "mimetype": "text/x-python",
   "name": "python",
   "nbconvert_exporter": "python",
   "pygments_lexer": "ipython3",
   "version": "3.9.13"
  },
  "toc": {
   "base_numbering": 1,
   "nav_menu": {},
   "number_sections": true,
   "sideBar": true,
   "skip_h1_title": true,
   "title_cell": "Table of Contents",
   "title_sidebar": "Contents",
   "toc_cell": false,
   "toc_position": {},
   "toc_section_display": true,
   "toc_window_display": false
  }
 },
 "nbformat": 4,
 "nbformat_minor": 2
}
