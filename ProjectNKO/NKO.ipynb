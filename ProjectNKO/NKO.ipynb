{
 "cells": [
  {
   "cell_type": "markdown",
   "metadata": {
    "id": "NW2J47HtYTWf"
   },
   "source": [
    "<b>Проект - НКО Благотворительная больница</b>"
   ]
  },
  {
   "cell_type": "markdown",
   "metadata": {
    "id": "oVo2j5OibdMR"
   },
   "source": [
    "# Описание проекта"
   ]
  },
  {
   "cell_type": "markdown",
   "metadata": {
    "id": "LPa_qVQ3aLvI"
   },
   "source": [
    "Цель проекта - провести анализ данных о платежах и дать рекомендации по улучшению эффективности рекламы для увеличения привлеченных средств."
   ]
  },
  {
   "cell_type": "markdown",
   "metadata": {
    "id": "3s7hrQ2oabzG"
   },
   "source": [
    "\n",
    "\n",
    "1.   Загрузка и подготовка данных <br>\n",
    "1.1  Загрузка и изучение данных<br>\n",
    "1.2  Переименование столбцов<br>\n",
    "1.3  Объединение данных<br>\n",
    "1.4  Удаление дубликатов<br>\n",
    "1.5  Удаление лишних или пустых колонок<br>\n",
    "1.6  Преобразование типов данных<br>\n",
    "1.7  Обработка пропусков<br>\n",
    "2.   Анализ данных<br>\n",
    "2.1  Клиенты<br>\n",
    "2.2  Конверсия<br>\n",
    "3.   Выводы и рекомендации<br>\n",
    "4.   Подготовка презентации<br>\n",
    "\n"
   ]
  },
  {
   "cell_type": "markdown",
   "metadata": {
    "id": "-c1HlMvWbnqZ"
   },
   "source": [
    "# Загрузка и подготовка данных"
   ]
  },
  {
   "cell_type": "markdown",
   "metadata": {
    "id": "XWszbSqfbufR"
   },
   "source": [
    "## Загрузка и изучение данных"
   ]
  },
  {
   "cell_type": "markdown",
   "metadata": {
    "id": "ODM10CoOkRvm"
   },
   "source": [
    "Загружаем библиотеки"
   ]
  },
  {
   "cell_type": "code",
   "execution_count": 80,
   "metadata": {
    "id": "fAiCxn56cL69"
   },
   "outputs": [],
   "source": [
    "import pandas as pd\n",
    "import io\n",
    "import requests\n",
    "import matplotlib.pyplot as plt\n",
    "import warnings\n",
    "from urllib.parse import urlencode\n",
    "warnings.filterwarnings(\"ignore\")"
   ]
  },
  {
   "cell_type": "markdown",
   "metadata": {},
   "source": [
    "### Создаем функцию анализа датасета"
   ]
  },
  {
   "cell_type": "code",
   "execution_count": null,
   "metadata": {},
   "outputs": [],
   "source": [
    "def show_stats(df: pd.core.frame.DataFrame) -> pd.core.frame.DataFrame:\n",
    "    '''\n",
    "    Функция для отображения информации о датасете\n",
    "    '''\n",
    "    start_shape = df.shape\n",
    "    mins, means, medians, maxs = [], [], [], []\n",
    "    stats_df = pd.DataFrame(index=df.columns.tolist())\n",
    "    stats_df['dtype'] = [df[col].dtypes for col in df.columns]\n",
    "    stats_df['nans_count'] = df.isna().sum().tolist()\n",
    "    stats_df['nans_ratio'] = (stats_df.nans_count / start_shape[0] * 100).round(2)\n",
    "    stats_df['duplicates_count'] = df.duplicated().sum().tolist()\n",
    "    stats_df['duplicates_ratio'] = (stats_df.duplicates_count / start_shape[0] * 100).round(2)\n",
    "    stats_df['uniques'] = [df[col].nunique() for col in df.columns]\n",
    "    numeric_columns = ['nans_count', 'nans_ratio', 'uniques', 'min', 'mean', 'median', 'max']\n",
    "    for col in df.columns:\n",
    "        if df[col].dtypes in ['int', 'float']:\n",
    "            mins.append(round(df[col].min(), 2))\n",
    "            means.append(round(df[col].mean(), 2))\n",
    "            medians.append(round(df[col].median(), 2))\n",
    "            maxs.append(round(df[col].max(), 2))\n",
    "        else:\n",
    "            mins.append(0)\n",
    "            means.append(0)\n",
    "            medians.append(0)\n",
    "            maxs.append(0)\n",
    "    stats_df['min'], stats_df['mean'], stats_df['median'], stats_df['max'] = mins, means, medians, maxs\n",
    "    display(stats_df.style\n",
    "            .highlight_max(color='yellowgreen', subset=numeric_columns)\n",
    "            .format('{:.2f}', subset=numeric_columns))"
   ]
  },
  {
   "cell_type": "markdown",
   "metadata": {
    "id": "UI90HUhYkXvC"
   },
   "source": [
    "Загружаем файлы"
   ]
  },
  {
   "cell_type": "code",
   "execution_count": 49,
   "metadata": {},
   "outputs": [
    {
     "data": {
      "text/html": [
       "<div>\n",
       "<style scoped>\n",
       "    .dataframe tbody tr th:only-of-type {\n",
       "        vertical-align: middle;\n",
       "    }\n",
       "\n",
       "    .dataframe tbody tr th {\n",
       "        vertical-align: top;\n",
       "    }\n",
       "\n",
       "    .dataframe thead th {\n",
       "        text-align: right;\n",
       "    }\n",
       "</style>\n",
       "<table border=\"1\" class=\"dataframe\">\n",
       "  <thead>\n",
       "    <tr style=\"text-align: right;\">\n",
       "      <th></th>\n",
       "      <th>Дата</th>\n",
       "      <th>Кампания</th>\n",
       "      <th>№ Кампании</th>\n",
       "      <th>Метка</th>\n",
       "      <th>Условие показа</th>\n",
       "      <th>Пол</th>\n",
       "      <th>Уровень платежеспособности</th>\n",
       "      <th>Возраст</th>\n",
       "      <th>Показы</th>\n",
       "      <th>Взвешенные показы</th>\n",
       "      <th>...</th>\n",
       "      <th>Доля проигрываний 25% ролика (%)</th>\n",
       "      <th>Доля проигрываний 50% ролика (%)</th>\n",
       "      <th>Доля проигрываний 75% ролика (%)</th>\n",
       "      <th>Доля проигрываний 100% ролика (%)</th>\n",
       "      <th>Ср. цена досмотра 100% ролика (руб.)</th>\n",
       "      <th>Видимые показы, стандарт MRC</th>\n",
       "      <th>Невидимые показы, стандарт MRC</th>\n",
       "      <th>Неустановленные показы, стандарт MRC</th>\n",
       "      <th>Доля измеряемых показов, стандарт MRC (%)</th>\n",
       "      <th>Доля видимых показов, стандарт MRC (%)</th>\n",
       "    </tr>\n",
       "  </thead>\n",
       "  <tbody>\n",
       "    <tr>\n",
       "      <th>0</th>\n",
       "      <td>15.01.2023</td>\n",
       "      <td>Команда#2 / Бот / СПб</td>\n",
       "      <td>82164908</td>\n",
       "      <td>без метки</td>\n",
       "      <td>благотворительность</td>\n",
       "      <td>не определен</td>\n",
       "      <td>Остальные</td>\n",
       "      <td>не определен</td>\n",
       "      <td>7</td>\n",
       "      <td>7,00</td>\n",
       "      <td>...</td>\n",
       "      <td>-</td>\n",
       "      <td>-</td>\n",
       "      <td>-</td>\n",
       "      <td>-</td>\n",
       "      <td>-</td>\n",
       "      <td>-</td>\n",
       "      <td>-</td>\n",
       "      <td>-</td>\n",
       "      <td>-</td>\n",
       "      <td>-</td>\n",
       "    </tr>\n",
       "    <tr>\n",
       "      <th>1</th>\n",
       "      <td>15.01.2023</td>\n",
       "      <td>Команда#2 / Бот / СПб</td>\n",
       "      <td>82164908</td>\n",
       "      <td>без метки</td>\n",
       "      <td>благотворительность</td>\n",
       "      <td>не определен</td>\n",
       "      <td>Остальные</td>\n",
       "      <td>младше 18</td>\n",
       "      <td>4</td>\n",
       "      <td>4,00</td>\n",
       "      <td>...</td>\n",
       "      <td>-</td>\n",
       "      <td>-</td>\n",
       "      <td>-</td>\n",
       "      <td>-</td>\n",
       "      <td>-</td>\n",
       "      <td>-</td>\n",
       "      <td>-</td>\n",
       "      <td>-</td>\n",
       "      <td>-</td>\n",
       "      <td>-</td>\n",
       "    </tr>\n",
       "    <tr>\n",
       "      <th>2</th>\n",
       "      <td>15.01.2023</td>\n",
       "      <td>Команда#2 / Бот / СПб</td>\n",
       "      <td>82164908</td>\n",
       "      <td>без метки</td>\n",
       "      <td>благотворительность</td>\n",
       "      <td>не определен</td>\n",
       "      <td>Остальные</td>\n",
       "      <td>18-24</td>\n",
       "      <td>2</td>\n",
       "      <td>2,00</td>\n",
       "      <td>...</td>\n",
       "      <td>-</td>\n",
       "      <td>-</td>\n",
       "      <td>-</td>\n",
       "      <td>-</td>\n",
       "      <td>-</td>\n",
       "      <td>-</td>\n",
       "      <td>-</td>\n",
       "      <td>-</td>\n",
       "      <td>-</td>\n",
       "      <td>-</td>\n",
       "    </tr>\n",
       "    <tr>\n",
       "      <th>3</th>\n",
       "      <td>15.01.2023</td>\n",
       "      <td>Команда#2 / Бот / СПб</td>\n",
       "      <td>82164908</td>\n",
       "      <td>без метки</td>\n",
       "      <td>благотворительность</td>\n",
       "      <td>не определен</td>\n",
       "      <td>Остальные</td>\n",
       "      <td>25-34</td>\n",
       "      <td>1</td>\n",
       "      <td>1,00</td>\n",
       "      <td>...</td>\n",
       "      <td>-</td>\n",
       "      <td>-</td>\n",
       "      <td>-</td>\n",
       "      <td>-</td>\n",
       "      <td>-</td>\n",
       "      <td>-</td>\n",
       "      <td>-</td>\n",
       "      <td>-</td>\n",
       "      <td>-</td>\n",
       "      <td>-</td>\n",
       "    </tr>\n",
       "    <tr>\n",
       "      <th>4</th>\n",
       "      <td>15.01.2023</td>\n",
       "      <td>Команда#2 / Бот / СПб</td>\n",
       "      <td>82164908</td>\n",
       "      <td>без метки</td>\n",
       "      <td>благотворительность</td>\n",
       "      <td>не определен</td>\n",
       "      <td>Остальные</td>\n",
       "      <td>35-44</td>\n",
       "      <td>1</td>\n",
       "      <td>1,00</td>\n",
       "      <td>...</td>\n",
       "      <td>-</td>\n",
       "      <td>-</td>\n",
       "      <td>-</td>\n",
       "      <td>-</td>\n",
       "      <td>-</td>\n",
       "      <td>-</td>\n",
       "      <td>-</td>\n",
       "      <td>-</td>\n",
       "      <td>-</td>\n",
       "      <td>-</td>\n",
       "    </tr>\n",
       "  </tbody>\n",
       "</table>\n",
       "<p>5 rows × 46 columns</p>\n",
       "</div>"
      ],
      "text/plain": [
       "         Дата               Кампания  № Кампании      Метка  \\\n",
       "0  15.01.2023  Команда#2 / Бот / СПб    82164908  без метки   \n",
       "1  15.01.2023  Команда#2 / Бот / СПб    82164908  без метки   \n",
       "2  15.01.2023  Команда#2 / Бот / СПб    82164908  без метки   \n",
       "3  15.01.2023  Команда#2 / Бот / СПб    82164908  без метки   \n",
       "4  15.01.2023  Команда#2 / Бот / СПб    82164908  без метки   \n",
       "\n",
       "        Условие показа           Пол Уровень платежеспособности       Возраст  \\\n",
       "0  благотворительность  не определен                  Остальные  не определен   \n",
       "1  благотворительность  не определен                  Остальные     младше 18   \n",
       "2  благотворительность  не определен                  Остальные         18-24   \n",
       "3  благотворительность  не определен                  Остальные         25-34   \n",
       "4  благотворительность  не определен                  Остальные         35-44   \n",
       "\n",
       "   Показы Взвешенные показы  ...  Доля проигрываний 25% ролика (%)  \\\n",
       "0       7              7,00  ...                                 -   \n",
       "1       4              4,00  ...                                 -   \n",
       "2       2              2,00  ...                                 -   \n",
       "3       1              1,00  ...                                 -   \n",
       "4       1              1,00  ...                                 -   \n",
       "\n",
       "  Доля проигрываний 50% ролика (%) Доля проигрываний 75% ролика (%)  \\\n",
       "0                                -                                -   \n",
       "1                                -                                -   \n",
       "2                                -                                -   \n",
       "3                                -                                -   \n",
       "4                                -                                -   \n",
       "\n",
       "  Доля проигрываний 100% ролика (%) Ср. цена досмотра 100% ролика (руб.)  \\\n",
       "0                                 -                                    -   \n",
       "1                                 -                                    -   \n",
       "2                                 -                                    -   \n",
       "3                                 -                                    -   \n",
       "4                                 -                                    -   \n",
       "\n",
       "  Видимые показы, стандарт MRC Невидимые показы, стандарт MRC  \\\n",
       "0                            -                              -   \n",
       "1                            -                              -   \n",
       "2                            -                              -   \n",
       "3                            -                              -   \n",
       "4                            -                              -   \n",
       "\n",
       "  Неустановленные показы, стандарт MRC  \\\n",
       "0                                    -   \n",
       "1                                    -   \n",
       "2                                    -   \n",
       "3                                    -   \n",
       "4                                    -   \n",
       "\n",
       "  Доля измеряемых показов, стандарт MRC (%)  \\\n",
       "0                                         -   \n",
       "1                                         -   \n",
       "2                                         -   \n",
       "3                                         -   \n",
       "4                                         -   \n",
       "\n",
       "  Доля видимых показов, стандарт MRC (%)  \n",
       "0                                      -  \n",
       "1                                      -  \n",
       "2                                      -  \n",
       "3                                      -  \n",
       "4                                      -  \n",
       "\n",
       "[5 rows x 46 columns]"
      ]
     },
     "execution_count": 49,
     "metadata": {},
     "output_type": "execute_result"
    }
   ],
   "source": [
    "base_url = 'https://cloud-api.yandex.net/v1/disk/public/resources/download?'\n",
    "public_key1 = 'https://disk.yandex.ru/d/XXX'\n",
    "final_url = base_url + urlencode(dict(public_key=public_key1))\n",
    "response = requests.get(final_url)\n",
    "download_url = response.json()['href']\n",
    "download_response = requests.get(download_url)\n",
    "df = pd.read_csv(download_url ,sep = ';',skiprows=4, on_bad_lines='skip' )\n",
    "df.head(5) "
   ]
  },
  {
   "cell_type": "code",
   "execution_count": 50,
   "metadata": {
    "colab": {
     "base_uri": "https://localhost:8080/"
    },
    "executionInfo": {
     "elapsed": 5928,
     "status": "ok",
     "timestamp": 1698747020368,
     "user": {
      "displayName": "Alex TS",
      "userId": "15283370269762839357"
     },
     "user_tz": -180
    },
    "id": "5kveGvpOkcrU",
    "outputId": "52b3c0ae-96a7-464c-c186-5a14b9a20bc5"
   },
   "outputs": [
    {
     "data": {
      "text/html": [
       "<style type=\"text/css\">\n",
       "#T_926f6_row0_col1, #T_926f6_row0_col2, #T_926f6_row0_col6, #T_926f6_row0_col7, #T_926f6_row0_col8, #T_926f6_row0_col9, #T_926f6_row1_col1, #T_926f6_row1_col2, #T_926f6_row1_col6, #T_926f6_row1_col7, #T_926f6_row1_col8, #T_926f6_row1_col9, #T_926f6_row2_col1, #T_926f6_row2_col2, #T_926f6_row2_col6, #T_926f6_row2_col7, #T_926f6_row2_col8, #T_926f6_row2_col9, #T_926f6_row3_col1, #T_926f6_row3_col2, #T_926f6_row3_col6, #T_926f6_row3_col7, #T_926f6_row3_col8, #T_926f6_row3_col9, #T_926f6_row4_col1, #T_926f6_row4_col2, #T_926f6_row4_col6, #T_926f6_row4_col7, #T_926f6_row4_col8, #T_926f6_row4_col9, #T_926f6_row5_col1, #T_926f6_row5_col2, #T_926f6_row5_col6, #T_926f6_row5_col7, #T_926f6_row5_col8, #T_926f6_row5_col9, #T_926f6_row6_col1, #T_926f6_row6_col2, #T_926f6_row6_col6, #T_926f6_row6_col7, #T_926f6_row6_col8, #T_926f6_row6_col9, #T_926f6_row7_col1, #T_926f6_row7_col2, #T_926f6_row7_col6, #T_926f6_row7_col7, #T_926f6_row7_col8, #T_926f6_row7_col9, #T_926f6_row8_col1, #T_926f6_row8_col2, #T_926f6_row8_col6, #T_926f6_row8_col7, #T_926f6_row8_col8, #T_926f6_row8_col9, #T_926f6_row9_col1, #T_926f6_row9_col2, #T_926f6_row9_col6, #T_926f6_row9_col7, #T_926f6_row9_col8, #T_926f6_row9_col9, #T_926f6_row10_col1, #T_926f6_row10_col2, #T_926f6_row10_col6, #T_926f6_row10_col7, #T_926f6_row10_col8, #T_926f6_row10_col9, #T_926f6_row11_col1, #T_926f6_row11_col2, #T_926f6_row11_col6, #T_926f6_row11_col7, #T_926f6_row11_col8, #T_926f6_row11_col9, #T_926f6_row12_col1, #T_926f6_row12_col2, #T_926f6_row12_col6, #T_926f6_row12_col7, #T_926f6_row12_col8, #T_926f6_row12_col9, #T_926f6_row13_col1, #T_926f6_row13_col2, #T_926f6_row13_col6, #T_926f6_row13_col7, #T_926f6_row13_col8, #T_926f6_row13_col9, #T_926f6_row14_col1, #T_926f6_row14_col2, #T_926f6_row14_col6, #T_926f6_row14_col7, #T_926f6_row14_col8, #T_926f6_row14_col9, #T_926f6_row15_col1, #T_926f6_row15_col2, #T_926f6_row15_col6, #T_926f6_row15_col7, #T_926f6_row15_col8, #T_926f6_row15_col9, #T_926f6_row16_col1, #T_926f6_row16_col2, #T_926f6_row16_col6, #T_926f6_row16_col7, #T_926f6_row16_col8, #T_926f6_row16_col9, #T_926f6_row17_col1, #T_926f6_row17_col2, #T_926f6_row17_col6, #T_926f6_row17_col7, #T_926f6_row17_col8, #T_926f6_row17_col9, #T_926f6_row18_col1, #T_926f6_row18_col2, #T_926f6_row18_col6, #T_926f6_row18_col7, #T_926f6_row18_col8, #T_926f6_row18_col9, #T_926f6_row19_col1, #T_926f6_row19_col2, #T_926f6_row19_col6, #T_926f6_row19_col7, #T_926f6_row19_col8, #T_926f6_row19_col9, #T_926f6_row20_col1, #T_926f6_row20_col2, #T_926f6_row20_col5, #T_926f6_row20_col6, #T_926f6_row20_col7, #T_926f6_row20_col8, #T_926f6_row20_col9, #T_926f6_row21_col1, #T_926f6_row21_col2, #T_926f6_row21_col6, #T_926f6_row21_col7, #T_926f6_row21_col8, #T_926f6_row21_col9, #T_926f6_row22_col1, #T_926f6_row22_col2, #T_926f6_row22_col6, #T_926f6_row22_col7, #T_926f6_row22_col8, #T_926f6_row22_col9, #T_926f6_row23_col1, #T_926f6_row23_col2, #T_926f6_row23_col6, #T_926f6_row23_col7, #T_926f6_row23_col8, #T_926f6_row23_col9, #T_926f6_row24_col1, #T_926f6_row24_col2, #T_926f6_row24_col6, #T_926f6_row24_col7, #T_926f6_row24_col8, #T_926f6_row24_col9, #T_926f6_row25_col1, #T_926f6_row25_col2, #T_926f6_row25_col6, #T_926f6_row25_col7, #T_926f6_row25_col8, #T_926f6_row25_col9, #T_926f6_row26_col1, #T_926f6_row26_col2, #T_926f6_row26_col6, #T_926f6_row26_col7, #T_926f6_row26_col8, #T_926f6_row26_col9, #T_926f6_row27_col1, #T_926f6_row27_col2, #T_926f6_row27_col6, #T_926f6_row27_col7, #T_926f6_row27_col8, #T_926f6_row27_col9, #T_926f6_row28_col1, #T_926f6_row28_col2, #T_926f6_row28_col6, #T_926f6_row28_col7, #T_926f6_row28_col8, #T_926f6_row28_col9, #T_926f6_row29_col1, #T_926f6_row29_col2, #T_926f6_row29_col6, #T_926f6_row29_col7, #T_926f6_row29_col8, #T_926f6_row29_col9, #T_926f6_row30_col1, #T_926f6_row30_col2, #T_926f6_row30_col6, #T_926f6_row30_col7, #T_926f6_row30_col8, #T_926f6_row30_col9, #T_926f6_row31_col1, #T_926f6_row31_col2, #T_926f6_row31_col6, #T_926f6_row31_col7, #T_926f6_row31_col8, #T_926f6_row31_col9, #T_926f6_row32_col1, #T_926f6_row32_col2, #T_926f6_row32_col6, #T_926f6_row32_col7, #T_926f6_row32_col8, #T_926f6_row32_col9, #T_926f6_row33_col1, #T_926f6_row33_col2, #T_926f6_row33_col6, #T_926f6_row33_col7, #T_926f6_row33_col8, #T_926f6_row33_col9, #T_926f6_row34_col1, #T_926f6_row34_col2, #T_926f6_row34_col6, #T_926f6_row34_col7, #T_926f6_row34_col8, #T_926f6_row34_col9, #T_926f6_row35_col1, #T_926f6_row35_col2, #T_926f6_row35_col6, #T_926f6_row35_col7, #T_926f6_row35_col8, #T_926f6_row35_col9, #T_926f6_row36_col1, #T_926f6_row36_col2, #T_926f6_row36_col6, #T_926f6_row36_col7, #T_926f6_row36_col8, #T_926f6_row36_col9, #T_926f6_row37_col1, #T_926f6_row37_col2, #T_926f6_row37_col6, #T_926f6_row37_col7, #T_926f6_row37_col8, #T_926f6_row37_col9, #T_926f6_row38_col1, #T_926f6_row38_col2, #T_926f6_row38_col6, #T_926f6_row38_col7, #T_926f6_row38_col8, #T_926f6_row38_col9, #T_926f6_row39_col1, #T_926f6_row39_col2, #T_926f6_row39_col6, #T_926f6_row39_col7, #T_926f6_row39_col8, #T_926f6_row39_col9, #T_926f6_row40_col1, #T_926f6_row40_col2, #T_926f6_row40_col6, #T_926f6_row40_col7, #T_926f6_row40_col8, #T_926f6_row40_col9, #T_926f6_row41_col1, #T_926f6_row41_col2, #T_926f6_row41_col6, #T_926f6_row41_col7, #T_926f6_row41_col8, #T_926f6_row41_col9, #T_926f6_row42_col1, #T_926f6_row42_col2, #T_926f6_row42_col6, #T_926f6_row42_col7, #T_926f6_row42_col8, #T_926f6_row42_col9, #T_926f6_row43_col1, #T_926f6_row43_col2, #T_926f6_row43_col6, #T_926f6_row43_col7, #T_926f6_row43_col8, #T_926f6_row43_col9, #T_926f6_row44_col1, #T_926f6_row44_col2, #T_926f6_row44_col6, #T_926f6_row44_col7, #T_926f6_row44_col8, #T_926f6_row44_col9, #T_926f6_row45_col1, #T_926f6_row45_col2, #T_926f6_row45_col6, #T_926f6_row45_col7, #T_926f6_row45_col8, #T_926f6_row45_col9 {\n",
       "  background-color: yellowgreen;\n",
       "}\n",
       "</style>\n",
       "<table id=\"T_926f6\">\n",
       "  <thead>\n",
       "    <tr>\n",
       "      <th class=\"blank level0\" >&nbsp;</th>\n",
       "      <th id=\"T_926f6_level0_col0\" class=\"col_heading level0 col0\" >dtype</th>\n",
       "      <th id=\"T_926f6_level0_col1\" class=\"col_heading level0 col1\" >nans_count</th>\n",
       "      <th id=\"T_926f6_level0_col2\" class=\"col_heading level0 col2\" >nans_ratio</th>\n",
       "      <th id=\"T_926f6_level0_col3\" class=\"col_heading level0 col3\" >duplicates_count</th>\n",
       "      <th id=\"T_926f6_level0_col4\" class=\"col_heading level0 col4\" >duplicates_ratio</th>\n",
       "      <th id=\"T_926f6_level0_col5\" class=\"col_heading level0 col5\" >uniques</th>\n",
       "      <th id=\"T_926f6_level0_col6\" class=\"col_heading level0 col6\" >min</th>\n",
       "      <th id=\"T_926f6_level0_col7\" class=\"col_heading level0 col7\" >mean</th>\n",
       "      <th id=\"T_926f6_level0_col8\" class=\"col_heading level0 col8\" >median</th>\n",
       "      <th id=\"T_926f6_level0_col9\" class=\"col_heading level0 col9\" >max</th>\n",
       "    </tr>\n",
       "  </thead>\n",
       "  <tbody>\n",
       "    <tr>\n",
       "      <th id=\"T_926f6_level0_row0\" class=\"row_heading level0 row0\" >Дата</th>\n",
       "      <td id=\"T_926f6_row0_col0\" class=\"data row0 col0\" >object</td>\n",
       "      <td id=\"T_926f6_row0_col1\" class=\"data row0 col1\" >0.00</td>\n",
       "      <td id=\"T_926f6_row0_col2\" class=\"data row0 col2\" >0.00</td>\n",
       "      <td id=\"T_926f6_row0_col3\" class=\"data row0 col3\" >25</td>\n",
       "      <td id=\"T_926f6_row0_col4\" class=\"data row0 col4\" >0.010000</td>\n",
       "      <td id=\"T_926f6_row0_col5\" class=\"data row0 col5\" >151.00</td>\n",
       "      <td id=\"T_926f6_row0_col6\" class=\"data row0 col6\" >0.00</td>\n",
       "      <td id=\"T_926f6_row0_col7\" class=\"data row0 col7\" >0.00</td>\n",
       "      <td id=\"T_926f6_row0_col8\" class=\"data row0 col8\" >0.00</td>\n",
       "      <td id=\"T_926f6_row0_col9\" class=\"data row0 col9\" >0.00</td>\n",
       "    </tr>\n",
       "    <tr>\n",
       "      <th id=\"T_926f6_level0_row1\" class=\"row_heading level0 row1\" >Кампания</th>\n",
       "      <td id=\"T_926f6_row1_col0\" class=\"data row1 col0\" >object</td>\n",
       "      <td id=\"T_926f6_row1_col1\" class=\"data row1 col1\" >0.00</td>\n",
       "      <td id=\"T_926f6_row1_col2\" class=\"data row1 col2\" >0.00</td>\n",
       "      <td id=\"T_926f6_row1_col3\" class=\"data row1 col3\" >25</td>\n",
       "      <td id=\"T_926f6_row1_col4\" class=\"data row1 col4\" >0.010000</td>\n",
       "      <td id=\"T_926f6_row1_col5\" class=\"data row1 col5\" >24.00</td>\n",
       "      <td id=\"T_926f6_row1_col6\" class=\"data row1 col6\" >0.00</td>\n",
       "      <td id=\"T_926f6_row1_col7\" class=\"data row1 col7\" >0.00</td>\n",
       "      <td id=\"T_926f6_row1_col8\" class=\"data row1 col8\" >0.00</td>\n",
       "      <td id=\"T_926f6_row1_col9\" class=\"data row1 col9\" >0.00</td>\n",
       "    </tr>\n",
       "    <tr>\n",
       "      <th id=\"T_926f6_level0_row2\" class=\"row_heading level0 row2\" >№ Кампании</th>\n",
       "      <td id=\"T_926f6_row2_col0\" class=\"data row2 col0\" >int64</td>\n",
       "      <td id=\"T_926f6_row2_col1\" class=\"data row2 col1\" >0.00</td>\n",
       "      <td id=\"T_926f6_row2_col2\" class=\"data row2 col2\" >0.00</td>\n",
       "      <td id=\"T_926f6_row2_col3\" class=\"data row2 col3\" >25</td>\n",
       "      <td id=\"T_926f6_row2_col4\" class=\"data row2 col4\" >0.010000</td>\n",
       "      <td id=\"T_926f6_row2_col5\" class=\"data row2 col5\" >24.00</td>\n",
       "      <td id=\"T_926f6_row2_col6\" class=\"data row2 col6\" >0.00</td>\n",
       "      <td id=\"T_926f6_row2_col7\" class=\"data row2 col7\" >0.00</td>\n",
       "      <td id=\"T_926f6_row2_col8\" class=\"data row2 col8\" >0.00</td>\n",
       "      <td id=\"T_926f6_row2_col9\" class=\"data row2 col9\" >0.00</td>\n",
       "    </tr>\n",
       "    <tr>\n",
       "      <th id=\"T_926f6_level0_row3\" class=\"row_heading level0 row3\" >Метка</th>\n",
       "      <td id=\"T_926f6_row3_col0\" class=\"data row3 col0\" >object</td>\n",
       "      <td id=\"T_926f6_row3_col1\" class=\"data row3 col1\" >0.00</td>\n",
       "      <td id=\"T_926f6_row3_col2\" class=\"data row3 col2\" >0.00</td>\n",
       "      <td id=\"T_926f6_row3_col3\" class=\"data row3 col3\" >25</td>\n",
       "      <td id=\"T_926f6_row3_col4\" class=\"data row3 col4\" >0.010000</td>\n",
       "      <td id=\"T_926f6_row3_col5\" class=\"data row3 col5\" >1.00</td>\n",
       "      <td id=\"T_926f6_row3_col6\" class=\"data row3 col6\" >0.00</td>\n",
       "      <td id=\"T_926f6_row3_col7\" class=\"data row3 col7\" >0.00</td>\n",
       "      <td id=\"T_926f6_row3_col8\" class=\"data row3 col8\" >0.00</td>\n",
       "      <td id=\"T_926f6_row3_col9\" class=\"data row3 col9\" >0.00</td>\n",
       "    </tr>\n",
       "    <tr>\n",
       "      <th id=\"T_926f6_level0_row4\" class=\"row_heading level0 row4\" >Условие показа</th>\n",
       "      <td id=\"T_926f6_row4_col0\" class=\"data row4 col0\" >object</td>\n",
       "      <td id=\"T_926f6_row4_col1\" class=\"data row4 col1\" >0.00</td>\n",
       "      <td id=\"T_926f6_row4_col2\" class=\"data row4 col2\" >0.00</td>\n",
       "      <td id=\"T_926f6_row4_col3\" class=\"data row4 col3\" >25</td>\n",
       "      <td id=\"T_926f6_row4_col4\" class=\"data row4 col4\" >0.010000</td>\n",
       "      <td id=\"T_926f6_row4_col5\" class=\"data row4 col5\" >1196.00</td>\n",
       "      <td id=\"T_926f6_row4_col6\" class=\"data row4 col6\" >0.00</td>\n",
       "      <td id=\"T_926f6_row4_col7\" class=\"data row4 col7\" >0.00</td>\n",
       "      <td id=\"T_926f6_row4_col8\" class=\"data row4 col8\" >0.00</td>\n",
       "      <td id=\"T_926f6_row4_col9\" class=\"data row4 col9\" >0.00</td>\n",
       "    </tr>\n",
       "    <tr>\n",
       "      <th id=\"T_926f6_level0_row5\" class=\"row_heading level0 row5\" >Пол</th>\n",
       "      <td id=\"T_926f6_row5_col0\" class=\"data row5 col0\" >object</td>\n",
       "      <td id=\"T_926f6_row5_col1\" class=\"data row5 col1\" >0.00</td>\n",
       "      <td id=\"T_926f6_row5_col2\" class=\"data row5 col2\" >0.00</td>\n",
       "      <td id=\"T_926f6_row5_col3\" class=\"data row5 col3\" >25</td>\n",
       "      <td id=\"T_926f6_row5_col4\" class=\"data row5 col4\" >0.010000</td>\n",
       "      <td id=\"T_926f6_row5_col5\" class=\"data row5 col5\" >3.00</td>\n",
       "      <td id=\"T_926f6_row5_col6\" class=\"data row5 col6\" >0.00</td>\n",
       "      <td id=\"T_926f6_row5_col7\" class=\"data row5 col7\" >0.00</td>\n",
       "      <td id=\"T_926f6_row5_col8\" class=\"data row5 col8\" >0.00</td>\n",
       "      <td id=\"T_926f6_row5_col9\" class=\"data row5 col9\" >0.00</td>\n",
       "    </tr>\n",
       "    <tr>\n",
       "      <th id=\"T_926f6_level0_row6\" class=\"row_heading level0 row6\" >Уровень платежеспособности</th>\n",
       "      <td id=\"T_926f6_row6_col0\" class=\"data row6 col0\" >object</td>\n",
       "      <td id=\"T_926f6_row6_col1\" class=\"data row6 col1\" >0.00</td>\n",
       "      <td id=\"T_926f6_row6_col2\" class=\"data row6 col2\" >0.00</td>\n",
       "      <td id=\"T_926f6_row6_col3\" class=\"data row6 col3\" >25</td>\n",
       "      <td id=\"T_926f6_row6_col4\" class=\"data row6 col4\" >0.010000</td>\n",
       "      <td id=\"T_926f6_row6_col5\" class=\"data row6 col5\" >4.00</td>\n",
       "      <td id=\"T_926f6_row6_col6\" class=\"data row6 col6\" >0.00</td>\n",
       "      <td id=\"T_926f6_row6_col7\" class=\"data row6 col7\" >0.00</td>\n",
       "      <td id=\"T_926f6_row6_col8\" class=\"data row6 col8\" >0.00</td>\n",
       "      <td id=\"T_926f6_row6_col9\" class=\"data row6 col9\" >0.00</td>\n",
       "    </tr>\n",
       "    <tr>\n",
       "      <th id=\"T_926f6_level0_row7\" class=\"row_heading level0 row7\" >Возраст</th>\n",
       "      <td id=\"T_926f6_row7_col0\" class=\"data row7 col0\" >object</td>\n",
       "      <td id=\"T_926f6_row7_col1\" class=\"data row7 col1\" >0.00</td>\n",
       "      <td id=\"T_926f6_row7_col2\" class=\"data row7 col2\" >0.00</td>\n",
       "      <td id=\"T_926f6_row7_col3\" class=\"data row7 col3\" >25</td>\n",
       "      <td id=\"T_926f6_row7_col4\" class=\"data row7 col4\" >0.010000</td>\n",
       "      <td id=\"T_926f6_row7_col5\" class=\"data row7 col5\" >7.00</td>\n",
       "      <td id=\"T_926f6_row7_col6\" class=\"data row7 col6\" >0.00</td>\n",
       "      <td id=\"T_926f6_row7_col7\" class=\"data row7 col7\" >0.00</td>\n",
       "      <td id=\"T_926f6_row7_col8\" class=\"data row7 col8\" >0.00</td>\n",
       "      <td id=\"T_926f6_row7_col9\" class=\"data row7 col9\" >0.00</td>\n",
       "    </tr>\n",
       "    <tr>\n",
       "      <th id=\"T_926f6_level0_row8\" class=\"row_heading level0 row8\" >Показы</th>\n",
       "      <td id=\"T_926f6_row8_col0\" class=\"data row8 col0\" >int64</td>\n",
       "      <td id=\"T_926f6_row8_col1\" class=\"data row8 col1\" >0.00</td>\n",
       "      <td id=\"T_926f6_row8_col2\" class=\"data row8 col2\" >0.00</td>\n",
       "      <td id=\"T_926f6_row8_col3\" class=\"data row8 col3\" >25</td>\n",
       "      <td id=\"T_926f6_row8_col4\" class=\"data row8 col4\" >0.010000</td>\n",
       "      <td id=\"T_926f6_row8_col5\" class=\"data row8 col5\" >2129.00</td>\n",
       "      <td id=\"T_926f6_row8_col6\" class=\"data row8 col6\" >0.00</td>\n",
       "      <td id=\"T_926f6_row8_col7\" class=\"data row8 col7\" >0.00</td>\n",
       "      <td id=\"T_926f6_row8_col8\" class=\"data row8 col8\" >0.00</td>\n",
       "      <td id=\"T_926f6_row8_col9\" class=\"data row8 col9\" >0.00</td>\n",
       "    </tr>\n",
       "    <tr>\n",
       "      <th id=\"T_926f6_level0_row9\" class=\"row_heading level0 row9\" >Взвешенные показы</th>\n",
       "      <td id=\"T_926f6_row9_col0\" class=\"data row9 col0\" >object</td>\n",
       "      <td id=\"T_926f6_row9_col1\" class=\"data row9 col1\" >0.00</td>\n",
       "      <td id=\"T_926f6_row9_col2\" class=\"data row9 col2\" >0.00</td>\n",
       "      <td id=\"T_926f6_row9_col3\" class=\"data row9 col3\" >25</td>\n",
       "      <td id=\"T_926f6_row9_col4\" class=\"data row9 col4\" >0.010000</td>\n",
       "      <td id=\"T_926f6_row9_col5\" class=\"data row9 col5\" >2129.00</td>\n",
       "      <td id=\"T_926f6_row9_col6\" class=\"data row9 col6\" >0.00</td>\n",
       "      <td id=\"T_926f6_row9_col7\" class=\"data row9 col7\" >0.00</td>\n",
       "      <td id=\"T_926f6_row9_col8\" class=\"data row9 col8\" >0.00</td>\n",
       "      <td id=\"T_926f6_row9_col9\" class=\"data row9 col9\" >0.00</td>\n",
       "    </tr>\n",
       "    <tr>\n",
       "      <th id=\"T_926f6_level0_row10\" class=\"row_heading level0 row10\" >Клики</th>\n",
       "      <td id=\"T_926f6_row10_col0\" class=\"data row10 col0\" >int64</td>\n",
       "      <td id=\"T_926f6_row10_col1\" class=\"data row10 col1\" >0.00</td>\n",
       "      <td id=\"T_926f6_row10_col2\" class=\"data row10 col2\" >0.00</td>\n",
       "      <td id=\"T_926f6_row10_col3\" class=\"data row10 col3\" >25</td>\n",
       "      <td id=\"T_926f6_row10_col4\" class=\"data row10 col4\" >0.010000</td>\n",
       "      <td id=\"T_926f6_row10_col5\" class=\"data row10 col5\" >79.00</td>\n",
       "      <td id=\"T_926f6_row10_col6\" class=\"data row10 col6\" >0.00</td>\n",
       "      <td id=\"T_926f6_row10_col7\" class=\"data row10 col7\" >0.00</td>\n",
       "      <td id=\"T_926f6_row10_col8\" class=\"data row10 col8\" >0.00</td>\n",
       "      <td id=\"T_926f6_row10_col9\" class=\"data row10 col9\" >0.00</td>\n",
       "    </tr>\n",
       "    <tr>\n",
       "      <th id=\"T_926f6_level0_row11\" class=\"row_heading level0 row11\" >CTR (%)</th>\n",
       "      <td id=\"T_926f6_row11_col0\" class=\"data row11 col0\" >object</td>\n",
       "      <td id=\"T_926f6_row11_col1\" class=\"data row11 col1\" >0.00</td>\n",
       "      <td id=\"T_926f6_row11_col2\" class=\"data row11 col2\" >0.00</td>\n",
       "      <td id=\"T_926f6_row11_col3\" class=\"data row11 col3\" >25</td>\n",
       "      <td id=\"T_926f6_row11_col4\" class=\"data row11 col4\" >0.010000</td>\n",
       "      <td id=\"T_926f6_row11_col5\" class=\"data row11 col5\" >422.00</td>\n",
       "      <td id=\"T_926f6_row11_col6\" class=\"data row11 col6\" >0.00</td>\n",
       "      <td id=\"T_926f6_row11_col7\" class=\"data row11 col7\" >0.00</td>\n",
       "      <td id=\"T_926f6_row11_col8\" class=\"data row11 col8\" >0.00</td>\n",
       "      <td id=\"T_926f6_row11_col9\" class=\"data row11 col9\" >0.00</td>\n",
       "    </tr>\n",
       "    <tr>\n",
       "      <th id=\"T_926f6_level0_row12\" class=\"row_heading level0 row12\" >wCTR (%)</th>\n",
       "      <td id=\"T_926f6_row12_col0\" class=\"data row12 col0\" >object</td>\n",
       "      <td id=\"T_926f6_row12_col1\" class=\"data row12 col1\" >0.00</td>\n",
       "      <td id=\"T_926f6_row12_col2\" class=\"data row12 col2\" >0.00</td>\n",
       "      <td id=\"T_926f6_row12_col3\" class=\"data row12 col3\" >25</td>\n",
       "      <td id=\"T_926f6_row12_col4\" class=\"data row12 col4\" >0.010000</td>\n",
       "      <td id=\"T_926f6_row12_col5\" class=\"data row12 col5\" >422.00</td>\n",
       "      <td id=\"T_926f6_row12_col6\" class=\"data row12 col6\" >0.00</td>\n",
       "      <td id=\"T_926f6_row12_col7\" class=\"data row12 col7\" >0.00</td>\n",
       "      <td id=\"T_926f6_row12_col8\" class=\"data row12 col8\" >0.00</td>\n",
       "      <td id=\"T_926f6_row12_col9\" class=\"data row12 col9\" >0.00</td>\n",
       "    </tr>\n",
       "    <tr>\n",
       "      <th id=\"T_926f6_level0_row13\" class=\"row_heading level0 row13\" >Расход (руб.)</th>\n",
       "      <td id=\"T_926f6_row13_col0\" class=\"data row13 col0\" >object</td>\n",
       "      <td id=\"T_926f6_row13_col1\" class=\"data row13 col1\" >0.00</td>\n",
       "      <td id=\"T_926f6_row13_col2\" class=\"data row13 col2\" >0.00</td>\n",
       "      <td id=\"T_926f6_row13_col3\" class=\"data row13 col3\" >25</td>\n",
       "      <td id=\"T_926f6_row13_col4\" class=\"data row13 col4\" >0.010000</td>\n",
       "      <td id=\"T_926f6_row13_col5\" class=\"data row13 col5\" >7892.00</td>\n",
       "      <td id=\"T_926f6_row13_col6\" class=\"data row13 col6\" >0.00</td>\n",
       "      <td id=\"T_926f6_row13_col7\" class=\"data row13 col7\" >0.00</td>\n",
       "      <td id=\"T_926f6_row13_col8\" class=\"data row13 col8\" >0.00</td>\n",
       "      <td id=\"T_926f6_row13_col9\" class=\"data row13 col9\" >0.00</td>\n",
       "    </tr>\n",
       "    <tr>\n",
       "      <th id=\"T_926f6_level0_row14\" class=\"row_heading level0 row14\" >Ср. цена клика (руб.)</th>\n",
       "      <td id=\"T_926f6_row14_col0\" class=\"data row14 col0\" >object</td>\n",
       "      <td id=\"T_926f6_row14_col1\" class=\"data row14 col1\" >0.00</td>\n",
       "      <td id=\"T_926f6_row14_col2\" class=\"data row14 col2\" >0.00</td>\n",
       "      <td id=\"T_926f6_row14_col3\" class=\"data row14 col3\" >25</td>\n",
       "      <td id=\"T_926f6_row14_col4\" class=\"data row14 col4\" >0.010000</td>\n",
       "      <td id=\"T_926f6_row14_col5\" class=\"data row14 col5\" >5973.00</td>\n",
       "      <td id=\"T_926f6_row14_col6\" class=\"data row14 col6\" >0.00</td>\n",
       "      <td id=\"T_926f6_row14_col7\" class=\"data row14 col7\" >0.00</td>\n",
       "      <td id=\"T_926f6_row14_col8\" class=\"data row14 col8\" >0.00</td>\n",
       "      <td id=\"T_926f6_row14_col9\" class=\"data row14 col9\" >0.00</td>\n",
       "    </tr>\n",
       "    <tr>\n",
       "      <th id=\"T_926f6_level0_row15\" class=\"row_heading level0 row15\" >Ср. ставка за клик (руб.)</th>\n",
       "      <td id=\"T_926f6_row15_col0\" class=\"data row15 col0\" >object</td>\n",
       "      <td id=\"T_926f6_row15_col1\" class=\"data row15 col1\" >0.00</td>\n",
       "      <td id=\"T_926f6_row15_col2\" class=\"data row15 col2\" >0.00</td>\n",
       "      <td id=\"T_926f6_row15_col3\" class=\"data row15 col3\" >25</td>\n",
       "      <td id=\"T_926f6_row15_col4\" class=\"data row15 col4\" >0.010000</td>\n",
       "      <td id=\"T_926f6_row15_col5\" class=\"data row15 col5\" >6882.00</td>\n",
       "      <td id=\"T_926f6_row15_col6\" class=\"data row15 col6\" >0.00</td>\n",
       "      <td id=\"T_926f6_row15_col7\" class=\"data row15 col7\" >0.00</td>\n",
       "      <td id=\"T_926f6_row15_col8\" class=\"data row15 col8\" >0.00</td>\n",
       "      <td id=\"T_926f6_row15_col9\" class=\"data row15 col9\" >0.00</td>\n",
       "    </tr>\n",
       "    <tr>\n",
       "      <th id=\"T_926f6_level0_row16\" class=\"row_heading level0 row16\" >Ср. позиция показов</th>\n",
       "      <td id=\"T_926f6_row16_col0\" class=\"data row16 col0\" >object</td>\n",
       "      <td id=\"T_926f6_row16_col1\" class=\"data row16 col1\" >0.00</td>\n",
       "      <td id=\"T_926f6_row16_col2\" class=\"data row16 col2\" >0.00</td>\n",
       "      <td id=\"T_926f6_row16_col3\" class=\"data row16 col3\" >25</td>\n",
       "      <td id=\"T_926f6_row16_col4\" class=\"data row16 col4\" >0.010000</td>\n",
       "      <td id=\"T_926f6_row16_col5\" class=\"data row16 col5\" >1.00</td>\n",
       "      <td id=\"T_926f6_row16_col6\" class=\"data row16 col6\" >0.00</td>\n",
       "      <td id=\"T_926f6_row16_col7\" class=\"data row16 col7\" >0.00</td>\n",
       "      <td id=\"T_926f6_row16_col8\" class=\"data row16 col8\" >0.00</td>\n",
       "      <td id=\"T_926f6_row16_col9\" class=\"data row16 col9\" >0.00</td>\n",
       "    </tr>\n",
       "    <tr>\n",
       "      <th id=\"T_926f6_level0_row17\" class=\"row_heading level0 row17\" >Ср. объём трафика</th>\n",
       "      <td id=\"T_926f6_row17_col0\" class=\"data row17 col0\" >object</td>\n",
       "      <td id=\"T_926f6_row17_col1\" class=\"data row17 col1\" >0.00</td>\n",
       "      <td id=\"T_926f6_row17_col2\" class=\"data row17 col2\" >0.00</td>\n",
       "      <td id=\"T_926f6_row17_col3\" class=\"data row17 col3\" >25</td>\n",
       "      <td id=\"T_926f6_row17_col4\" class=\"data row17 col4\" >0.010000</td>\n",
       "      <td id=\"T_926f6_row17_col5\" class=\"data row17 col5\" >2.00</td>\n",
       "      <td id=\"T_926f6_row17_col6\" class=\"data row17 col6\" >0.00</td>\n",
       "      <td id=\"T_926f6_row17_col7\" class=\"data row17 col7\" >0.00</td>\n",
       "      <td id=\"T_926f6_row17_col8\" class=\"data row17 col8\" >0.00</td>\n",
       "      <td id=\"T_926f6_row17_col9\" class=\"data row17 col9\" >0.00</td>\n",
       "    </tr>\n",
       "    <tr>\n",
       "      <th id=\"T_926f6_level0_row18\" class=\"row_heading level0 row18\" >Ср. позиция кликов</th>\n",
       "      <td id=\"T_926f6_row18_col0\" class=\"data row18 col0\" >object</td>\n",
       "      <td id=\"T_926f6_row18_col1\" class=\"data row18 col1\" >0.00</td>\n",
       "      <td id=\"T_926f6_row18_col2\" class=\"data row18 col2\" >0.00</td>\n",
       "      <td id=\"T_926f6_row18_col3\" class=\"data row18 col3\" >25</td>\n",
       "      <td id=\"T_926f6_row18_col4\" class=\"data row18 col4\" >0.010000</td>\n",
       "      <td id=\"T_926f6_row18_col5\" class=\"data row18 col5\" >1.00</td>\n",
       "      <td id=\"T_926f6_row18_col6\" class=\"data row18 col6\" >0.00</td>\n",
       "      <td id=\"T_926f6_row18_col7\" class=\"data row18 col7\" >0.00</td>\n",
       "      <td id=\"T_926f6_row18_col8\" class=\"data row18 col8\" >0.00</td>\n",
       "      <td id=\"T_926f6_row18_col9\" class=\"data row18 col9\" >0.00</td>\n",
       "    </tr>\n",
       "    <tr>\n",
       "      <th id=\"T_926f6_level0_row19\" class=\"row_heading level0 row19\" >Отказы (%)</th>\n",
       "      <td id=\"T_926f6_row19_col0\" class=\"data row19 col0\" >object</td>\n",
       "      <td id=\"T_926f6_row19_col1\" class=\"data row19 col1\" >0.00</td>\n",
       "      <td id=\"T_926f6_row19_col2\" class=\"data row19 col2\" >0.00</td>\n",
       "      <td id=\"T_926f6_row19_col3\" class=\"data row19 col3\" >25</td>\n",
       "      <td id=\"T_926f6_row19_col4\" class=\"data row19 col4\" >0.010000</td>\n",
       "      <td id=\"T_926f6_row19_col5\" class=\"data row19 col5\" >54.00</td>\n",
       "      <td id=\"T_926f6_row19_col6\" class=\"data row19 col6\" >0.00</td>\n",
       "      <td id=\"T_926f6_row19_col7\" class=\"data row19 col7\" >0.00</td>\n",
       "      <td id=\"T_926f6_row19_col8\" class=\"data row19 col8\" >0.00</td>\n",
       "      <td id=\"T_926f6_row19_col9\" class=\"data row19 col9\" >0.00</td>\n",
       "    </tr>\n",
       "    <tr>\n",
       "      <th id=\"T_926f6_level0_row20\" class=\"row_heading level0 row20\" >Ср. цена тыс. показов (руб.)</th>\n",
       "      <td id=\"T_926f6_row20_col0\" class=\"data row20 col0\" >object</td>\n",
       "      <td id=\"T_926f6_row20_col1\" class=\"data row20 col1\" >0.00</td>\n",
       "      <td id=\"T_926f6_row20_col2\" class=\"data row20 col2\" >0.00</td>\n",
       "      <td id=\"T_926f6_row20_col3\" class=\"data row20 col3\" >25</td>\n",
       "      <td id=\"T_926f6_row20_col4\" class=\"data row20 col4\" >0.010000</td>\n",
       "      <td id=\"T_926f6_row20_col5\" class=\"data row20 col5\" >16007.00</td>\n",
       "      <td id=\"T_926f6_row20_col6\" class=\"data row20 col6\" >0.00</td>\n",
       "      <td id=\"T_926f6_row20_col7\" class=\"data row20 col7\" >0.00</td>\n",
       "      <td id=\"T_926f6_row20_col8\" class=\"data row20 col8\" >0.00</td>\n",
       "      <td id=\"T_926f6_row20_col9\" class=\"data row20 col9\" >0.00</td>\n",
       "    </tr>\n",
       "    <tr>\n",
       "      <th id=\"T_926f6_level0_row21\" class=\"row_heading level0 row21\" >Глубина (стр.)</th>\n",
       "      <td id=\"T_926f6_row21_col0\" class=\"data row21 col0\" >object</td>\n",
       "      <td id=\"T_926f6_row21_col1\" class=\"data row21 col1\" >0.00</td>\n",
       "      <td id=\"T_926f6_row21_col2\" class=\"data row21 col2\" >0.00</td>\n",
       "      <td id=\"T_926f6_row21_col3\" class=\"data row21 col3\" >25</td>\n",
       "      <td id=\"T_926f6_row21_col4\" class=\"data row21 col4\" >0.010000</td>\n",
       "      <td id=\"T_926f6_row21_col5\" class=\"data row21 col5\" >67.00</td>\n",
       "      <td id=\"T_926f6_row21_col6\" class=\"data row21 col6\" >0.00</td>\n",
       "      <td id=\"T_926f6_row21_col7\" class=\"data row21 col7\" >0.00</td>\n",
       "      <td id=\"T_926f6_row21_col8\" class=\"data row21 col8\" >0.00</td>\n",
       "      <td id=\"T_926f6_row21_col9\" class=\"data row21 col9\" >0.00</td>\n",
       "    </tr>\n",
       "    <tr>\n",
       "      <th id=\"T_926f6_level0_row22\" class=\"row_heading level0 row22\" >Конверсия (%)</th>\n",
       "      <td id=\"T_926f6_row22_col0\" class=\"data row22 col0\" >object</td>\n",
       "      <td id=\"T_926f6_row22_col1\" class=\"data row22 col1\" >0.00</td>\n",
       "      <td id=\"T_926f6_row22_col2\" class=\"data row22 col2\" >0.00</td>\n",
       "      <td id=\"T_926f6_row22_col3\" class=\"data row22 col3\" >25</td>\n",
       "      <td id=\"T_926f6_row22_col4\" class=\"data row22 col4\" >0.010000</td>\n",
       "      <td id=\"T_926f6_row22_col5\" class=\"data row22 col5\" >31.00</td>\n",
       "      <td id=\"T_926f6_row22_col6\" class=\"data row22 col6\" >0.00</td>\n",
       "      <td id=\"T_926f6_row22_col7\" class=\"data row22 col7\" >0.00</td>\n",
       "      <td id=\"T_926f6_row22_col8\" class=\"data row22 col8\" >0.00</td>\n",
       "      <td id=\"T_926f6_row22_col9\" class=\"data row22 col9\" >0.00</td>\n",
       "    </tr>\n",
       "    <tr>\n",
       "      <th id=\"T_926f6_level0_row23\" class=\"row_heading level0 row23\" >Цена цели (руб.)</th>\n",
       "      <td id=\"T_926f6_row23_col0\" class=\"data row23 col0\" >object</td>\n",
       "      <td id=\"T_926f6_row23_col1\" class=\"data row23 col1\" >0.00</td>\n",
       "      <td id=\"T_926f6_row23_col2\" class=\"data row23 col2\" >0.00</td>\n",
       "      <td id=\"T_926f6_row23_col3\" class=\"data row23 col3\" >25</td>\n",
       "      <td id=\"T_926f6_row23_col4\" class=\"data row23 col4\" >0.010000</td>\n",
       "      <td id=\"T_926f6_row23_col5\" class=\"data row23 col5\" >394.00</td>\n",
       "      <td id=\"T_926f6_row23_col6\" class=\"data row23 col6\" >0.00</td>\n",
       "      <td id=\"T_926f6_row23_col7\" class=\"data row23 col7\" >0.00</td>\n",
       "      <td id=\"T_926f6_row23_col8\" class=\"data row23 col8\" >0.00</td>\n",
       "      <td id=\"T_926f6_row23_col9\" class=\"data row23 col9\" >0.00</td>\n",
       "    </tr>\n",
       "    <tr>\n",
       "      <th id=\"T_926f6_level0_row24\" class=\"row_heading level0 row24\" >Конверсии</th>\n",
       "      <td id=\"T_926f6_row24_col0\" class=\"data row24 col0\" >object</td>\n",
       "      <td id=\"T_926f6_row24_col1\" class=\"data row24 col1\" >0.00</td>\n",
       "      <td id=\"T_926f6_row24_col2\" class=\"data row24 col2\" >0.00</td>\n",
       "      <td id=\"T_926f6_row24_col3\" class=\"data row24 col3\" >25</td>\n",
       "      <td id=\"T_926f6_row24_col4\" class=\"data row24 col4\" >0.010000</td>\n",
       "      <td id=\"T_926f6_row24_col5\" class=\"data row24 col5\" >7.00</td>\n",
       "      <td id=\"T_926f6_row24_col6\" class=\"data row24 col6\" >0.00</td>\n",
       "      <td id=\"T_926f6_row24_col7\" class=\"data row24 col7\" >0.00</td>\n",
       "      <td id=\"T_926f6_row24_col8\" class=\"data row24 col8\" >0.00</td>\n",
       "      <td id=\"T_926f6_row24_col9\" class=\"data row24 col9\" >0.00</td>\n",
       "    </tr>\n",
       "    <tr>\n",
       "      <th id=\"T_926f6_level0_row25\" class=\"row_heading level0 row25\" >Рентабельность</th>\n",
       "      <td id=\"T_926f6_row25_col0\" class=\"data row25 col0\" >object</td>\n",
       "      <td id=\"T_926f6_row25_col1\" class=\"data row25 col1\" >0.00</td>\n",
       "      <td id=\"T_926f6_row25_col2\" class=\"data row25 col2\" >0.00</td>\n",
       "      <td id=\"T_926f6_row25_col3\" class=\"data row25 col3\" >25</td>\n",
       "      <td id=\"T_926f6_row25_col4\" class=\"data row25 col4\" >0.010000</td>\n",
       "      <td id=\"T_926f6_row25_col5\" class=\"data row25 col5\" >33.00</td>\n",
       "      <td id=\"T_926f6_row25_col6\" class=\"data row25 col6\" >0.00</td>\n",
       "      <td id=\"T_926f6_row25_col7\" class=\"data row25 col7\" >0.00</td>\n",
       "      <td id=\"T_926f6_row25_col8\" class=\"data row25 col8\" >0.00</td>\n",
       "      <td id=\"T_926f6_row25_col9\" class=\"data row25 col9\" >0.00</td>\n",
       "    </tr>\n",
       "    <tr>\n",
       "      <th id=\"T_926f6_level0_row26\" class=\"row_heading level0 row26\" >Доля рекламных расходов</th>\n",
       "      <td id=\"T_926f6_row26_col0\" class=\"data row26 col0\" >object</td>\n",
       "      <td id=\"T_926f6_row26_col1\" class=\"data row26 col1\" >0.00</td>\n",
       "      <td id=\"T_926f6_row26_col2\" class=\"data row26 col2\" >0.00</td>\n",
       "      <td id=\"T_926f6_row26_col3\" class=\"data row26 col3\" >25</td>\n",
       "      <td id=\"T_926f6_row26_col4\" class=\"data row26 col4\" >0.010000</td>\n",
       "      <td id=\"T_926f6_row26_col5\" class=\"data row26 col5\" >34.00</td>\n",
       "      <td id=\"T_926f6_row26_col6\" class=\"data row26 col6\" >0.00</td>\n",
       "      <td id=\"T_926f6_row26_col7\" class=\"data row26 col7\" >0.00</td>\n",
       "      <td id=\"T_926f6_row26_col8\" class=\"data row26 col8\" >0.00</td>\n",
       "      <td id=\"T_926f6_row26_col9\" class=\"data row26 col9\" >0.00</td>\n",
       "    </tr>\n",
       "    <tr>\n",
       "      <th id=\"T_926f6_level0_row27\" class=\"row_heading level0 row27\" >Доход (руб.)</th>\n",
       "      <td id=\"T_926f6_row27_col0\" class=\"data row27 col0\" >object</td>\n",
       "      <td id=\"T_926f6_row27_col1\" class=\"data row27 col1\" >0.00</td>\n",
       "      <td id=\"T_926f6_row27_col2\" class=\"data row27 col2\" >0.00</td>\n",
       "      <td id=\"T_926f6_row27_col3\" class=\"data row27 col3\" >25</td>\n",
       "      <td id=\"T_926f6_row27_col4\" class=\"data row27 col4\" >0.010000</td>\n",
       "      <td id=\"T_926f6_row27_col5\" class=\"data row27 col5\" >10.00</td>\n",
       "      <td id=\"T_926f6_row27_col6\" class=\"data row27 col6\" >0.00</td>\n",
       "      <td id=\"T_926f6_row27_col7\" class=\"data row27 col7\" >0.00</td>\n",
       "      <td id=\"T_926f6_row27_col8\" class=\"data row27 col8\" >0.00</td>\n",
       "      <td id=\"T_926f6_row27_col9\" class=\"data row27 col9\" >0.00</td>\n",
       "    </tr>\n",
       "    <tr>\n",
       "      <th id=\"T_926f6_level0_row28\" class=\"row_heading level0 row28\" >Прибыль (руб.)</th>\n",
       "      <td id=\"T_926f6_row28_col0\" class=\"data row28 col0\" >object</td>\n",
       "      <td id=\"T_926f6_row28_col1\" class=\"data row28 col1\" >0.00</td>\n",
       "      <td id=\"T_926f6_row28_col2\" class=\"data row28 col2\" >0.00</td>\n",
       "      <td id=\"T_926f6_row28_col3\" class=\"data row28 col3\" >25</td>\n",
       "      <td id=\"T_926f6_row28_col4\" class=\"data row28 col4\" >0.010000</td>\n",
       "      <td id=\"T_926f6_row28_col5\" class=\"data row28 col5\" >7900.00</td>\n",
       "      <td id=\"T_926f6_row28_col6\" class=\"data row28 col6\" >0.00</td>\n",
       "      <td id=\"T_926f6_row28_col7\" class=\"data row28 col7\" >0.00</td>\n",
       "      <td id=\"T_926f6_row28_col8\" class=\"data row28 col8\" >0.00</td>\n",
       "      <td id=\"T_926f6_row28_col9\" class=\"data row28 col9\" >0.00</td>\n",
       "    </tr>\n",
       "    <tr>\n",
       "      <th id=\"T_926f6_level0_row29\" class=\"row_heading level0 row29\" >Сумма ВC</th>\n",
       "      <td id=\"T_926f6_row29_col0\" class=\"data row29 col0\" >object</td>\n",
       "      <td id=\"T_926f6_row29_col1\" class=\"data row29 col1\" >0.00</td>\n",
       "      <td id=\"T_926f6_row29_col2\" class=\"data row29 col2\" >0.00</td>\n",
       "      <td id=\"T_926f6_row29_col3\" class=\"data row29 col3\" >25</td>\n",
       "      <td id=\"T_926f6_row29_col4\" class=\"data row29 col4\" >0.010000</td>\n",
       "      <td id=\"T_926f6_row29_col5\" class=\"data row29 col5\" >6.00</td>\n",
       "      <td id=\"T_926f6_row29_col6\" class=\"data row29 col6\" >0.00</td>\n",
       "      <td id=\"T_926f6_row29_col7\" class=\"data row29 col7\" >0.00</td>\n",
       "      <td id=\"T_926f6_row29_col8\" class=\"data row29 col8\" >0.00</td>\n",
       "      <td id=\"T_926f6_row29_col9\" class=\"data row29 col9\" >0.00</td>\n",
       "    </tr>\n",
       "    <tr>\n",
       "      <th id=\"T_926f6_level0_row30\" class=\"row_heading level0 row30\" >Цена ВC (руб.)</th>\n",
       "      <td id=\"T_926f6_row30_col0\" class=\"data row30 col0\" >object</td>\n",
       "      <td id=\"T_926f6_row30_col1\" class=\"data row30 col1\" >0.00</td>\n",
       "      <td id=\"T_926f6_row30_col2\" class=\"data row30 col2\" >0.00</td>\n",
       "      <td id=\"T_926f6_row30_col3\" class=\"data row30 col3\" >25</td>\n",
       "      <td id=\"T_926f6_row30_col4\" class=\"data row30 col4\" >0.010000</td>\n",
       "      <td id=\"T_926f6_row30_col5\" class=\"data row30 col5\" >6.00</td>\n",
       "      <td id=\"T_926f6_row30_col6\" class=\"data row30 col6\" >0.00</td>\n",
       "      <td id=\"T_926f6_row30_col7\" class=\"data row30 col7\" >0.00</td>\n",
       "      <td id=\"T_926f6_row30_col8\" class=\"data row30 col8\" >0.00</td>\n",
       "      <td id=\"T_926f6_row30_col9\" class=\"data row30 col9\" >0.00</td>\n",
       "    </tr>\n",
       "    <tr>\n",
       "      <th id=\"T_926f6_level0_row31\" class=\"row_heading level0 row31\" >Доля ВC (%)</th>\n",
       "      <td id=\"T_926f6_row31_col0\" class=\"data row31 col0\" >object</td>\n",
       "      <td id=\"T_926f6_row31_col1\" class=\"data row31 col1\" >0.00</td>\n",
       "      <td id=\"T_926f6_row31_col2\" class=\"data row31 col2\" >0.00</td>\n",
       "      <td id=\"T_926f6_row31_col3\" class=\"data row31 col3\" >25</td>\n",
       "      <td id=\"T_926f6_row31_col4\" class=\"data row31 col4\" >0.010000</td>\n",
       "      <td id=\"T_926f6_row31_col5\" class=\"data row31 col5\" >6.00</td>\n",
       "      <td id=\"T_926f6_row31_col6\" class=\"data row31 col6\" >0.00</td>\n",
       "      <td id=\"T_926f6_row31_col7\" class=\"data row31 col7\" >0.00</td>\n",
       "      <td id=\"T_926f6_row31_col8\" class=\"data row31 col8\" >0.00</td>\n",
       "      <td id=\"T_926f6_row31_col9\" class=\"data row31 col9\" >0.00</td>\n",
       "    </tr>\n",
       "    <tr>\n",
       "      <th id=\"T_926f6_level0_row32\" class=\"row_heading level0 row32\" >Проигрывание 25% ролика</th>\n",
       "      <td id=\"T_926f6_row32_col0\" class=\"data row32 col0\" >object</td>\n",
       "      <td id=\"T_926f6_row32_col1\" class=\"data row32 col1\" >0.00</td>\n",
       "      <td id=\"T_926f6_row32_col2\" class=\"data row32 col2\" >0.00</td>\n",
       "      <td id=\"T_926f6_row32_col3\" class=\"data row32 col3\" >25</td>\n",
       "      <td id=\"T_926f6_row32_col4\" class=\"data row32 col4\" >0.010000</td>\n",
       "      <td id=\"T_926f6_row32_col5\" class=\"data row32 col5\" >168.00</td>\n",
       "      <td id=\"T_926f6_row32_col6\" class=\"data row32 col6\" >0.00</td>\n",
       "      <td id=\"T_926f6_row32_col7\" class=\"data row32 col7\" >0.00</td>\n",
       "      <td id=\"T_926f6_row32_col8\" class=\"data row32 col8\" >0.00</td>\n",
       "      <td id=\"T_926f6_row32_col9\" class=\"data row32 col9\" >0.00</td>\n",
       "    </tr>\n",
       "    <tr>\n",
       "      <th id=\"T_926f6_level0_row33\" class=\"row_heading level0 row33\" >Проигрывание 50% ролика</th>\n",
       "      <td id=\"T_926f6_row33_col0\" class=\"data row33 col0\" >object</td>\n",
       "      <td id=\"T_926f6_row33_col1\" class=\"data row33 col1\" >0.00</td>\n",
       "      <td id=\"T_926f6_row33_col2\" class=\"data row33 col2\" >0.00</td>\n",
       "      <td id=\"T_926f6_row33_col3\" class=\"data row33 col3\" >25</td>\n",
       "      <td id=\"T_926f6_row33_col4\" class=\"data row33 col4\" >0.010000</td>\n",
       "      <td id=\"T_926f6_row33_col5\" class=\"data row33 col5\" >147.00</td>\n",
       "      <td id=\"T_926f6_row33_col6\" class=\"data row33 col6\" >0.00</td>\n",
       "      <td id=\"T_926f6_row33_col7\" class=\"data row33 col7\" >0.00</td>\n",
       "      <td id=\"T_926f6_row33_col8\" class=\"data row33 col8\" >0.00</td>\n",
       "      <td id=\"T_926f6_row33_col9\" class=\"data row33 col9\" >0.00</td>\n",
       "    </tr>\n",
       "    <tr>\n",
       "      <th id=\"T_926f6_level0_row34\" class=\"row_heading level0 row34\" >Проигрывание 75% ролика</th>\n",
       "      <td id=\"T_926f6_row34_col0\" class=\"data row34 col0\" >object</td>\n",
       "      <td id=\"T_926f6_row34_col1\" class=\"data row34 col1\" >0.00</td>\n",
       "      <td id=\"T_926f6_row34_col2\" class=\"data row34 col2\" >0.00</td>\n",
       "      <td id=\"T_926f6_row34_col3\" class=\"data row34 col3\" >25</td>\n",
       "      <td id=\"T_926f6_row34_col4\" class=\"data row34 col4\" >0.010000</td>\n",
       "      <td id=\"T_926f6_row34_col5\" class=\"data row34 col5\" >138.00</td>\n",
       "      <td id=\"T_926f6_row34_col6\" class=\"data row34 col6\" >0.00</td>\n",
       "      <td id=\"T_926f6_row34_col7\" class=\"data row34 col7\" >0.00</td>\n",
       "      <td id=\"T_926f6_row34_col8\" class=\"data row34 col8\" >0.00</td>\n",
       "      <td id=\"T_926f6_row34_col9\" class=\"data row34 col9\" >0.00</td>\n",
       "    </tr>\n",
       "    <tr>\n",
       "      <th id=\"T_926f6_level0_row35\" class=\"row_heading level0 row35\" >Проигрывание 100% ролика</th>\n",
       "      <td id=\"T_926f6_row35_col0\" class=\"data row35 col0\" >object</td>\n",
       "      <td id=\"T_926f6_row35_col1\" class=\"data row35 col1\" >0.00</td>\n",
       "      <td id=\"T_926f6_row35_col2\" class=\"data row35 col2\" >0.00</td>\n",
       "      <td id=\"T_926f6_row35_col3\" class=\"data row35 col3\" >25</td>\n",
       "      <td id=\"T_926f6_row35_col4\" class=\"data row35 col4\" >0.010000</td>\n",
       "      <td id=\"T_926f6_row35_col5\" class=\"data row35 col5\" >132.00</td>\n",
       "      <td id=\"T_926f6_row35_col6\" class=\"data row35 col6\" >0.00</td>\n",
       "      <td id=\"T_926f6_row35_col7\" class=\"data row35 col7\" >0.00</td>\n",
       "      <td id=\"T_926f6_row35_col8\" class=\"data row35 col8\" >0.00</td>\n",
       "      <td id=\"T_926f6_row35_col9\" class=\"data row35 col9\" >0.00</td>\n",
       "    </tr>\n",
       "    <tr>\n",
       "      <th id=\"T_926f6_level0_row36\" class=\"row_heading level0 row36\" >Доля проигрываний 25% ролика (%)</th>\n",
       "      <td id=\"T_926f6_row36_col0\" class=\"data row36 col0\" >object</td>\n",
       "      <td id=\"T_926f6_row36_col1\" class=\"data row36 col1\" >0.00</td>\n",
       "      <td id=\"T_926f6_row36_col2\" class=\"data row36 col2\" >0.00</td>\n",
       "      <td id=\"T_926f6_row36_col3\" class=\"data row36 col3\" >25</td>\n",
       "      <td id=\"T_926f6_row36_col4\" class=\"data row36 col4\" >0.010000</td>\n",
       "      <td id=\"T_926f6_row36_col5\" class=\"data row36 col5\" >1631.00</td>\n",
       "      <td id=\"T_926f6_row36_col6\" class=\"data row36 col6\" >0.00</td>\n",
       "      <td id=\"T_926f6_row36_col7\" class=\"data row36 col7\" >0.00</td>\n",
       "      <td id=\"T_926f6_row36_col8\" class=\"data row36 col8\" >0.00</td>\n",
       "      <td id=\"T_926f6_row36_col9\" class=\"data row36 col9\" >0.00</td>\n",
       "    </tr>\n",
       "    <tr>\n",
       "      <th id=\"T_926f6_level0_row37\" class=\"row_heading level0 row37\" >Доля проигрываний 50% ролика (%)</th>\n",
       "      <td id=\"T_926f6_row37_col0\" class=\"data row37 col0\" >object</td>\n",
       "      <td id=\"T_926f6_row37_col1\" class=\"data row37 col1\" >0.00</td>\n",
       "      <td id=\"T_926f6_row37_col2\" class=\"data row37 col2\" >0.00</td>\n",
       "      <td id=\"T_926f6_row37_col3\" class=\"data row37 col3\" >25</td>\n",
       "      <td id=\"T_926f6_row37_col4\" class=\"data row37 col4\" >0.010000</td>\n",
       "      <td id=\"T_926f6_row37_col5\" class=\"data row37 col5\" >1363.00</td>\n",
       "      <td id=\"T_926f6_row37_col6\" class=\"data row37 col6\" >0.00</td>\n",
       "      <td id=\"T_926f6_row37_col7\" class=\"data row37 col7\" >0.00</td>\n",
       "      <td id=\"T_926f6_row37_col8\" class=\"data row37 col8\" >0.00</td>\n",
       "      <td id=\"T_926f6_row37_col9\" class=\"data row37 col9\" >0.00</td>\n",
       "    </tr>\n",
       "    <tr>\n",
       "      <th id=\"T_926f6_level0_row38\" class=\"row_heading level0 row38\" >Доля проигрываний 75% ролика (%)</th>\n",
       "      <td id=\"T_926f6_row38_col0\" class=\"data row38 col0\" >object</td>\n",
       "      <td id=\"T_926f6_row38_col1\" class=\"data row38 col1\" >0.00</td>\n",
       "      <td id=\"T_926f6_row38_col2\" class=\"data row38 col2\" >0.00</td>\n",
       "      <td id=\"T_926f6_row38_col3\" class=\"data row38 col3\" >25</td>\n",
       "      <td id=\"T_926f6_row38_col4\" class=\"data row38 col4\" >0.010000</td>\n",
       "      <td id=\"T_926f6_row38_col5\" class=\"data row38 col5\" >1253.00</td>\n",
       "      <td id=\"T_926f6_row38_col6\" class=\"data row38 col6\" >0.00</td>\n",
       "      <td id=\"T_926f6_row38_col7\" class=\"data row38 col7\" >0.00</td>\n",
       "      <td id=\"T_926f6_row38_col8\" class=\"data row38 col8\" >0.00</td>\n",
       "      <td id=\"T_926f6_row38_col9\" class=\"data row38 col9\" >0.00</td>\n",
       "    </tr>\n",
       "    <tr>\n",
       "      <th id=\"T_926f6_level0_row39\" class=\"row_heading level0 row39\" >Доля проигрываний 100% ролика (%)</th>\n",
       "      <td id=\"T_926f6_row39_col0\" class=\"data row39 col0\" >object</td>\n",
       "      <td id=\"T_926f6_row39_col1\" class=\"data row39 col1\" >0.00</td>\n",
       "      <td id=\"T_926f6_row39_col2\" class=\"data row39 col2\" >0.00</td>\n",
       "      <td id=\"T_926f6_row39_col3\" class=\"data row39 col3\" >25</td>\n",
       "      <td id=\"T_926f6_row39_col4\" class=\"data row39 col4\" >0.010000</td>\n",
       "      <td id=\"T_926f6_row39_col5\" class=\"data row39 col5\" >1212.00</td>\n",
       "      <td id=\"T_926f6_row39_col6\" class=\"data row39 col6\" >0.00</td>\n",
       "      <td id=\"T_926f6_row39_col7\" class=\"data row39 col7\" >0.00</td>\n",
       "      <td id=\"T_926f6_row39_col8\" class=\"data row39 col8\" >0.00</td>\n",
       "      <td id=\"T_926f6_row39_col9\" class=\"data row39 col9\" >0.00</td>\n",
       "    </tr>\n",
       "    <tr>\n",
       "      <th id=\"T_926f6_level0_row40\" class=\"row_heading level0 row40\" >Ср. цена досмотра 100% ролика (руб.)</th>\n",
       "      <td id=\"T_926f6_row40_col0\" class=\"data row40 col0\" >object</td>\n",
       "      <td id=\"T_926f6_row40_col1\" class=\"data row40 col1\" >0.00</td>\n",
       "      <td id=\"T_926f6_row40_col2\" class=\"data row40 col2\" >0.00</td>\n",
       "      <td id=\"T_926f6_row40_col3\" class=\"data row40 col3\" >25</td>\n",
       "      <td id=\"T_926f6_row40_col4\" class=\"data row40 col4\" >0.010000</td>\n",
       "      <td id=\"T_926f6_row40_col5\" class=\"data row40 col5\" >3535.00</td>\n",
       "      <td id=\"T_926f6_row40_col6\" class=\"data row40 col6\" >0.00</td>\n",
       "      <td id=\"T_926f6_row40_col7\" class=\"data row40 col7\" >0.00</td>\n",
       "      <td id=\"T_926f6_row40_col8\" class=\"data row40 col8\" >0.00</td>\n",
       "      <td id=\"T_926f6_row40_col9\" class=\"data row40 col9\" >0.00</td>\n",
       "    </tr>\n",
       "    <tr>\n",
       "      <th id=\"T_926f6_level0_row41\" class=\"row_heading level0 row41\" >Видимые показы, стандарт MRC</th>\n",
       "      <td id=\"T_926f6_row41_col0\" class=\"data row41 col0\" >object</td>\n",
       "      <td id=\"T_926f6_row41_col1\" class=\"data row41 col1\" >0.00</td>\n",
       "      <td id=\"T_926f6_row41_col2\" class=\"data row41 col2\" >0.00</td>\n",
       "      <td id=\"T_926f6_row41_col3\" class=\"data row41 col3\" >25</td>\n",
       "      <td id=\"T_926f6_row41_col4\" class=\"data row41 col4\" >0.010000</td>\n",
       "      <td id=\"T_926f6_row41_col5\" class=\"data row41 col5\" >35.00</td>\n",
       "      <td id=\"T_926f6_row41_col6\" class=\"data row41 col6\" >0.00</td>\n",
       "      <td id=\"T_926f6_row41_col7\" class=\"data row41 col7\" >0.00</td>\n",
       "      <td id=\"T_926f6_row41_col8\" class=\"data row41 col8\" >0.00</td>\n",
       "      <td id=\"T_926f6_row41_col9\" class=\"data row41 col9\" >0.00</td>\n",
       "    </tr>\n",
       "    <tr>\n",
       "      <th id=\"T_926f6_level0_row42\" class=\"row_heading level0 row42\" >Невидимые показы, стандарт MRC</th>\n",
       "      <td id=\"T_926f6_row42_col0\" class=\"data row42 col0\" >object</td>\n",
       "      <td id=\"T_926f6_row42_col1\" class=\"data row42 col1\" >0.00</td>\n",
       "      <td id=\"T_926f6_row42_col2\" class=\"data row42 col2\" >0.00</td>\n",
       "      <td id=\"T_926f6_row42_col3\" class=\"data row42 col3\" >25</td>\n",
       "      <td id=\"T_926f6_row42_col4\" class=\"data row42 col4\" >0.010000</td>\n",
       "      <td id=\"T_926f6_row42_col5\" class=\"data row42 col5\" >17.00</td>\n",
       "      <td id=\"T_926f6_row42_col6\" class=\"data row42 col6\" >0.00</td>\n",
       "      <td id=\"T_926f6_row42_col7\" class=\"data row42 col7\" >0.00</td>\n",
       "      <td id=\"T_926f6_row42_col8\" class=\"data row42 col8\" >0.00</td>\n",
       "      <td id=\"T_926f6_row42_col9\" class=\"data row42 col9\" >0.00</td>\n",
       "    </tr>\n",
       "    <tr>\n",
       "      <th id=\"T_926f6_level0_row43\" class=\"row_heading level0 row43\" >Неустановленные показы, стандарт MRC</th>\n",
       "      <td id=\"T_926f6_row43_col0\" class=\"data row43 col0\" >object</td>\n",
       "      <td id=\"T_926f6_row43_col1\" class=\"data row43 col1\" >0.00</td>\n",
       "      <td id=\"T_926f6_row43_col2\" class=\"data row43 col2\" >0.00</td>\n",
       "      <td id=\"T_926f6_row43_col3\" class=\"data row43 col3\" >25</td>\n",
       "      <td id=\"T_926f6_row43_col4\" class=\"data row43 col4\" >0.010000</td>\n",
       "      <td id=\"T_926f6_row43_col5\" class=\"data row43 col5\" >2.00</td>\n",
       "      <td id=\"T_926f6_row43_col6\" class=\"data row43 col6\" >0.00</td>\n",
       "      <td id=\"T_926f6_row43_col7\" class=\"data row43 col7\" >0.00</td>\n",
       "      <td id=\"T_926f6_row43_col8\" class=\"data row43 col8\" >0.00</td>\n",
       "      <td id=\"T_926f6_row43_col9\" class=\"data row43 col9\" >0.00</td>\n",
       "    </tr>\n",
       "    <tr>\n",
       "      <th id=\"T_926f6_level0_row44\" class=\"row_heading level0 row44\" >Доля измеряемых показов, стандарт MRC (%)</th>\n",
       "      <td id=\"T_926f6_row44_col0\" class=\"data row44 col0\" >object</td>\n",
       "      <td id=\"T_926f6_row44_col1\" class=\"data row44 col1\" >0.00</td>\n",
       "      <td id=\"T_926f6_row44_col2\" class=\"data row44 col2\" >0.00</td>\n",
       "      <td id=\"T_926f6_row44_col3\" class=\"data row44 col3\" >25</td>\n",
       "      <td id=\"T_926f6_row44_col4\" class=\"data row44 col4\" >0.010000</td>\n",
       "      <td id=\"T_926f6_row44_col5\" class=\"data row44 col5\" >2.00</td>\n",
       "      <td id=\"T_926f6_row44_col6\" class=\"data row44 col6\" >0.00</td>\n",
       "      <td id=\"T_926f6_row44_col7\" class=\"data row44 col7\" >0.00</td>\n",
       "      <td id=\"T_926f6_row44_col8\" class=\"data row44 col8\" >0.00</td>\n",
       "      <td id=\"T_926f6_row44_col9\" class=\"data row44 col9\" >0.00</td>\n",
       "    </tr>\n",
       "    <tr>\n",
       "      <th id=\"T_926f6_level0_row45\" class=\"row_heading level0 row45\" >Доля видимых показов, стандарт MRC (%)</th>\n",
       "      <td id=\"T_926f6_row45_col0\" class=\"data row45 col0\" >object</td>\n",
       "      <td id=\"T_926f6_row45_col1\" class=\"data row45 col1\" >0.00</td>\n",
       "      <td id=\"T_926f6_row45_col2\" class=\"data row45 col2\" >0.00</td>\n",
       "      <td id=\"T_926f6_row45_col3\" class=\"data row45 col3\" >25</td>\n",
       "      <td id=\"T_926f6_row45_col4\" class=\"data row45 col4\" >0.010000</td>\n",
       "      <td id=\"T_926f6_row45_col5\" class=\"data row45 col5\" >17.00</td>\n",
       "      <td id=\"T_926f6_row45_col6\" class=\"data row45 col6\" >0.00</td>\n",
       "      <td id=\"T_926f6_row45_col7\" class=\"data row45 col7\" >0.00</td>\n",
       "      <td id=\"T_926f6_row45_col8\" class=\"data row45 col8\" >0.00</td>\n",
       "      <td id=\"T_926f6_row45_col9\" class=\"data row45 col9\" >0.00</td>\n",
       "    </tr>\n",
       "  </tbody>\n",
       "</table>\n"
      ],
      "text/plain": [
       "<pandas.io.formats.style.Styler at 0x2d1949fd850>"
      ]
     },
     "metadata": {},
     "output_type": "display_data"
    }
   ],
   "source": [
    "show_stats(df)"
   ]
  },
  {
   "cell_type": "code",
   "execution_count": 51,
   "metadata": {
    "colab": {
     "base_uri": "https://localhost:8080/",
     "height": 310
    },
    "executionInfo": {
     "elapsed": 1024,
     "status": "ok",
     "timestamp": 1698747021388,
     "user": {
      "displayName": "Alex TS",
      "userId": "15283370269762839357"
     },
     "user_tz": -180
    },
    "id": "nsH3uCSMjt0h",
    "outputId": "7365b35a-3d0d-42c5-fa1c-34e5b92199e4",
    "scrolled": true
   },
   "outputs": [
    {
     "data": {
      "text/html": [
       "<div>\n",
       "<style scoped>\n",
       "    .dataframe tbody tr th:only-of-type {\n",
       "        vertical-align: middle;\n",
       "    }\n",
       "\n",
       "    .dataframe tbody tr th {\n",
       "        vertical-align: top;\n",
       "    }\n",
       "\n",
       "    .dataframe thead th {\n",
       "        text-align: right;\n",
       "    }\n",
       "</style>\n",
       "<table border=\"1\" class=\"dataframe\">\n",
       "  <thead>\n",
       "    <tr style=\"text-align: right;\">\n",
       "      <th></th>\n",
       "      <th>id</th>\n",
       "      <th>Первый платеж</th>\n",
       "      <th>Подписки вкл</th>\n",
       "      <th>Подписки выкл</th>\n",
       "      <th>Типы оплаты</th>\n",
       "      <th>Платежей за год</th>\n",
       "      <th>Сумма за год</th>\n",
       "      <th>Средний платеж в год</th>\n",
       "      <th>Всего платежей</th>\n",
       "      <th>Сумма всего</th>\n",
       "      <th>Средний платеж</th>\n",
       "      <th>Сумма за месяц</th>\n",
       "      <th>Страны</th>\n",
       "      <th>Регионы</th>\n",
       "      <th>Последний платеж</th>\n",
       "      <th>код</th>\n",
       "    </tr>\n",
       "  </thead>\n",
       "  <tbody>\n",
       "    <tr>\n",
       "      <th>0</th>\n",
       "      <td>707634</td>\n",
       "      <td>2021-12-28 16:54:52</td>\n",
       "      <td>0</td>\n",
       "      <td>0</td>\n",
       "      <td>карта</td>\n",
       "      <td>0</td>\n",
       "      <td>0</td>\n",
       "      <td>0</td>\n",
       "      <td>0</td>\n",
       "      <td>0</td>\n",
       "      <td>0</td>\n",
       "      <td>0</td>\n",
       "      <td>NaN</td>\n",
       "      <td>NaN</td>\n",
       "      <td>2021-12-28 16:54:52</td>\n",
       "      <td>1118</td>\n",
       "    </tr>\n",
       "    <tr>\n",
       "      <th>1</th>\n",
       "      <td>789437</td>\n",
       "      <td>2022-03-12 00:16:40</td>\n",
       "      <td>0</td>\n",
       "      <td>0</td>\n",
       "      <td>карта</td>\n",
       "      <td>0</td>\n",
       "      <td>0</td>\n",
       "      <td>0</td>\n",
       "      <td>0</td>\n",
       "      <td>0</td>\n",
       "      <td>0</td>\n",
       "      <td>0</td>\n",
       "      <td>NaN</td>\n",
       "      <td>NaN</td>\n",
       "      <td>2022-03-12 00:16:40</td>\n",
       "      <td>1119</td>\n",
       "    </tr>\n",
       "    <tr>\n",
       "      <th>2</th>\n",
       "      <td>1078426</td>\n",
       "      <td>2022-11-23 12:55:04</td>\n",
       "      <td>0</td>\n",
       "      <td>0</td>\n",
       "      <td>NaN</td>\n",
       "      <td>0</td>\n",
       "      <td>0</td>\n",
       "      <td>0</td>\n",
       "      <td>0</td>\n",
       "      <td>0</td>\n",
       "      <td>0</td>\n",
       "      <td>0</td>\n",
       "      <td>NaN</td>\n",
       "      <td>NaN</td>\n",
       "      <td>2022-11-23 12:55:04</td>\n",
       "      <td>1120</td>\n",
       "    </tr>\n",
       "    <tr>\n",
       "      <th>3</th>\n",
       "      <td>1078667</td>\n",
       "      <td>2022-11-23 16:28:46</td>\n",
       "      <td>0</td>\n",
       "      <td>0</td>\n",
       "      <td>NaN</td>\n",
       "      <td>1</td>\n",
       "      <td>500</td>\n",
       "      <td>500</td>\n",
       "      <td>1</td>\n",
       "      <td>500</td>\n",
       "      <td>500</td>\n",
       "      <td>0</td>\n",
       "      <td>Россия</td>\n",
       "      <td>Ленинградская обл.</td>\n",
       "      <td>2022-11-23 16:28:46</td>\n",
       "      <td>1121</td>\n",
       "    </tr>\n",
       "    <tr>\n",
       "      <th>4</th>\n",
       "      <td>708416</td>\n",
       "      <td>2021-12-29 17:04:26</td>\n",
       "      <td>0</td>\n",
       "      <td>0</td>\n",
       "      <td>карта</td>\n",
       "      <td>1</td>\n",
       "      <td>1000</td>\n",
       "      <td>1000</td>\n",
       "      <td>1</td>\n",
       "      <td>1000</td>\n",
       "      <td>1000</td>\n",
       "      <td>0</td>\n",
       "      <td>Россия</td>\n",
       "      <td>Кунене</td>\n",
       "      <td>2021-12-29 17:04:26</td>\n",
       "      <td>1122</td>\n",
       "    </tr>\n",
       "  </tbody>\n",
       "</table>\n",
       "</div>"
      ],
      "text/plain": [
       "        id       Первый платеж  Подписки вкл  Подписки выкл Типы оплаты  \\\n",
       "0   707634 2021-12-28 16:54:52             0              0       карта   \n",
       "1   789437 2022-03-12 00:16:40             0              0       карта   \n",
       "2  1078426 2022-11-23 12:55:04             0              0         NaN   \n",
       "3  1078667 2022-11-23 16:28:46             0              0         NaN   \n",
       "4   708416 2021-12-29 17:04:26             0              0       карта   \n",
       "\n",
       "   Платежей за год  Сумма за год Средний платеж в год  Всего платежей  \\\n",
       "0                0             0                    0               0   \n",
       "1                0             0                    0               0   \n",
       "2                0             0                    0               0   \n",
       "3                1           500                  500               1   \n",
       "4                1          1000                 1000               1   \n",
       "\n",
       "   Сумма всего Средний платеж  Сумма за месяц  Страны             Регионы  \\\n",
       "0            0              0               0     NaN                 NaN   \n",
       "1            0              0               0     NaN                 NaN   \n",
       "2            0              0               0     NaN                 NaN   \n",
       "3          500            500               0  Россия  Ленинградская обл.   \n",
       "4         1000           1000               0  Россия              Кунене   \n",
       "\n",
       "     Последний платеж   код  \n",
       "0 2021-12-28 16:54:52  1118  \n",
       "1 2022-03-12 00:16:40  1119  \n",
       "2 2022-11-23 12:55:04  1120  \n",
       "3 2022-11-23 16:28:46  1121  \n",
       "4 2021-12-29 17:04:26  1122  "
      ]
     },
     "execution_count": 51,
     "metadata": {},
     "output_type": "execute_result"
    }
   ],
   "source": [
    "public_key2 = 'https://disk.yandex.ru/i/XXX'\n",
    "final_url = base_url + urlencode(dict(public_key=public_key2))\n",
    "response = requests.get(final_url)\n",
    "download_url = response.json()['href']\n",
    "download_response = requests.get(download_url)\n",
    "clients = pd.read_excel(download_url)\n",
    "clients.head(5)"
   ]
  },
  {
   "cell_type": "code",
   "execution_count": 52,
   "metadata": {},
   "outputs": [
    {
     "data": {
      "text/html": [
       "<style type=\"text/css\">\n",
       "#T_a766e_row0_col5, #T_a766e_row0_col6, #T_a766e_row0_col7, #T_a766e_row0_col8, #T_a766e_row0_col9, #T_a766e_row1_col5, #T_a766e_row1_col6, #T_a766e_row1_col7, #T_a766e_row1_col8, #T_a766e_row1_col9, #T_a766e_row2_col6, #T_a766e_row2_col7, #T_a766e_row2_col8, #T_a766e_row2_col9, #T_a766e_row3_col6, #T_a766e_row3_col7, #T_a766e_row3_col8, #T_a766e_row3_col9, #T_a766e_row4_col6, #T_a766e_row4_col7, #T_a766e_row4_col8, #T_a766e_row4_col9, #T_a766e_row5_col6, #T_a766e_row5_col7, #T_a766e_row5_col8, #T_a766e_row5_col9, #T_a766e_row6_col6, #T_a766e_row6_col7, #T_a766e_row6_col8, #T_a766e_row6_col9, #T_a766e_row7_col6, #T_a766e_row7_col7, #T_a766e_row7_col8, #T_a766e_row7_col9, #T_a766e_row8_col6, #T_a766e_row8_col7, #T_a766e_row8_col8, #T_a766e_row8_col9, #T_a766e_row9_col6, #T_a766e_row9_col7, #T_a766e_row9_col8, #T_a766e_row9_col9, #T_a766e_row10_col6, #T_a766e_row10_col7, #T_a766e_row10_col8, #T_a766e_row10_col9, #T_a766e_row11_col6, #T_a766e_row11_col7, #T_a766e_row11_col8, #T_a766e_row11_col9, #T_a766e_row12_col6, #T_a766e_row12_col7, #T_a766e_row12_col8, #T_a766e_row12_col9, #T_a766e_row13_col1, #T_a766e_row13_col2, #T_a766e_row13_col6, #T_a766e_row13_col7, #T_a766e_row13_col8, #T_a766e_row13_col9, #T_a766e_row14_col5, #T_a766e_row14_col6, #T_a766e_row14_col7, #T_a766e_row14_col8, #T_a766e_row14_col9, #T_a766e_row15_col5, #T_a766e_row15_col6, #T_a766e_row15_col7, #T_a766e_row15_col8, #T_a766e_row15_col9 {\n",
       "  background-color: yellowgreen;\n",
       "}\n",
       "</style>\n",
       "<table id=\"T_a766e\">\n",
       "  <thead>\n",
       "    <tr>\n",
       "      <th class=\"blank level0\" >&nbsp;</th>\n",
       "      <th id=\"T_a766e_level0_col0\" class=\"col_heading level0 col0\" >dtype</th>\n",
       "      <th id=\"T_a766e_level0_col1\" class=\"col_heading level0 col1\" >nans_count</th>\n",
       "      <th id=\"T_a766e_level0_col2\" class=\"col_heading level0 col2\" >nans_ratio</th>\n",
       "      <th id=\"T_a766e_level0_col3\" class=\"col_heading level0 col3\" >duplicates_count</th>\n",
       "      <th id=\"T_a766e_level0_col4\" class=\"col_heading level0 col4\" >duplicates_ratio</th>\n",
       "      <th id=\"T_a766e_level0_col5\" class=\"col_heading level0 col5\" >uniques</th>\n",
       "      <th id=\"T_a766e_level0_col6\" class=\"col_heading level0 col6\" >min</th>\n",
       "      <th id=\"T_a766e_level0_col7\" class=\"col_heading level0 col7\" >mean</th>\n",
       "      <th id=\"T_a766e_level0_col8\" class=\"col_heading level0 col8\" >median</th>\n",
       "      <th id=\"T_a766e_level0_col9\" class=\"col_heading level0 col9\" >max</th>\n",
       "    </tr>\n",
       "  </thead>\n",
       "  <tbody>\n",
       "    <tr>\n",
       "      <th id=\"T_a766e_level0_row0\" class=\"row_heading level0 row0\" >id</th>\n",
       "      <td id=\"T_a766e_row0_col0\" class=\"data row0 col0\" >int64</td>\n",
       "      <td id=\"T_a766e_row0_col1\" class=\"data row0 col1\" >0.00</td>\n",
       "      <td id=\"T_a766e_row0_col2\" class=\"data row0 col2\" >0.00</td>\n",
       "      <td id=\"T_a766e_row0_col3\" class=\"data row0 col3\" >0</td>\n",
       "      <td id=\"T_a766e_row0_col4\" class=\"data row0 col4\" >0.000000</td>\n",
       "      <td id=\"T_a766e_row0_col5\" class=\"data row0 col5\" >1166.00</td>\n",
       "      <td id=\"T_a766e_row0_col6\" class=\"data row0 col6\" >0.00</td>\n",
       "      <td id=\"T_a766e_row0_col7\" class=\"data row0 col7\" >0.00</td>\n",
       "      <td id=\"T_a766e_row0_col8\" class=\"data row0 col8\" >0.00</td>\n",
       "      <td id=\"T_a766e_row0_col9\" class=\"data row0 col9\" >0.00</td>\n",
       "    </tr>\n",
       "    <tr>\n",
       "      <th id=\"T_a766e_level0_row1\" class=\"row_heading level0 row1\" >Первый платеж</th>\n",
       "      <td id=\"T_a766e_row1_col0\" class=\"data row1 col0\" >datetime64[ns]</td>\n",
       "      <td id=\"T_a766e_row1_col1\" class=\"data row1 col1\" >0.00</td>\n",
       "      <td id=\"T_a766e_row1_col2\" class=\"data row1 col2\" >0.00</td>\n",
       "      <td id=\"T_a766e_row1_col3\" class=\"data row1 col3\" >0</td>\n",
       "      <td id=\"T_a766e_row1_col4\" class=\"data row1 col4\" >0.000000</td>\n",
       "      <td id=\"T_a766e_row1_col5\" class=\"data row1 col5\" >1166.00</td>\n",
       "      <td id=\"T_a766e_row1_col6\" class=\"data row1 col6\" >0.00</td>\n",
       "      <td id=\"T_a766e_row1_col7\" class=\"data row1 col7\" >0.00</td>\n",
       "      <td id=\"T_a766e_row1_col8\" class=\"data row1 col8\" >0.00</td>\n",
       "      <td id=\"T_a766e_row1_col9\" class=\"data row1 col9\" >0.00</td>\n",
       "    </tr>\n",
       "    <tr>\n",
       "      <th id=\"T_a766e_level0_row2\" class=\"row_heading level0 row2\" >Подписки вкл</th>\n",
       "      <td id=\"T_a766e_row2_col0\" class=\"data row2 col0\" >int64</td>\n",
       "      <td id=\"T_a766e_row2_col1\" class=\"data row2 col1\" >0.00</td>\n",
       "      <td id=\"T_a766e_row2_col2\" class=\"data row2 col2\" >0.00</td>\n",
       "      <td id=\"T_a766e_row2_col3\" class=\"data row2 col3\" >0</td>\n",
       "      <td id=\"T_a766e_row2_col4\" class=\"data row2 col4\" >0.000000</td>\n",
       "      <td id=\"T_a766e_row2_col5\" class=\"data row2 col5\" >3.00</td>\n",
       "      <td id=\"T_a766e_row2_col6\" class=\"data row2 col6\" >0.00</td>\n",
       "      <td id=\"T_a766e_row2_col7\" class=\"data row2 col7\" >0.00</td>\n",
       "      <td id=\"T_a766e_row2_col8\" class=\"data row2 col8\" >0.00</td>\n",
       "      <td id=\"T_a766e_row2_col9\" class=\"data row2 col9\" >0.00</td>\n",
       "    </tr>\n",
       "    <tr>\n",
       "      <th id=\"T_a766e_level0_row3\" class=\"row_heading level0 row3\" >Подписки выкл</th>\n",
       "      <td id=\"T_a766e_row3_col0\" class=\"data row3 col0\" >int64</td>\n",
       "      <td id=\"T_a766e_row3_col1\" class=\"data row3 col1\" >0.00</td>\n",
       "      <td id=\"T_a766e_row3_col2\" class=\"data row3 col2\" >0.00</td>\n",
       "      <td id=\"T_a766e_row3_col3\" class=\"data row3 col3\" >0</td>\n",
       "      <td id=\"T_a766e_row3_col4\" class=\"data row3 col4\" >0.000000</td>\n",
       "      <td id=\"T_a766e_row3_col5\" class=\"data row3 col5\" >6.00</td>\n",
       "      <td id=\"T_a766e_row3_col6\" class=\"data row3 col6\" >0.00</td>\n",
       "      <td id=\"T_a766e_row3_col7\" class=\"data row3 col7\" >0.00</td>\n",
       "      <td id=\"T_a766e_row3_col8\" class=\"data row3 col8\" >0.00</td>\n",
       "      <td id=\"T_a766e_row3_col9\" class=\"data row3 col9\" >0.00</td>\n",
       "    </tr>\n",
       "    <tr>\n",
       "      <th id=\"T_a766e_level0_row4\" class=\"row_heading level0 row4\" >Типы оплаты</th>\n",
       "      <td id=\"T_a766e_row4_col0\" class=\"data row4 col0\" >object</td>\n",
       "      <td id=\"T_a766e_row4_col1\" class=\"data row4 col1\" >168.00</td>\n",
       "      <td id=\"T_a766e_row4_col2\" class=\"data row4 col2\" >14.41</td>\n",
       "      <td id=\"T_a766e_row4_col3\" class=\"data row4 col3\" >0</td>\n",
       "      <td id=\"T_a766e_row4_col4\" class=\"data row4 col4\" >0.000000</td>\n",
       "      <td id=\"T_a766e_row4_col5\" class=\"data row4 col5\" >7.00</td>\n",
       "      <td id=\"T_a766e_row4_col6\" class=\"data row4 col6\" >0.00</td>\n",
       "      <td id=\"T_a766e_row4_col7\" class=\"data row4 col7\" >0.00</td>\n",
       "      <td id=\"T_a766e_row4_col8\" class=\"data row4 col8\" >0.00</td>\n",
       "      <td id=\"T_a766e_row4_col9\" class=\"data row4 col9\" >0.00</td>\n",
       "    </tr>\n",
       "    <tr>\n",
       "      <th id=\"T_a766e_level0_row5\" class=\"row_heading level0 row5\" >Платежей за год</th>\n",
       "      <td id=\"T_a766e_row5_col0\" class=\"data row5 col0\" >int64</td>\n",
       "      <td id=\"T_a766e_row5_col1\" class=\"data row5 col1\" >0.00</td>\n",
       "      <td id=\"T_a766e_row5_col2\" class=\"data row5 col2\" >0.00</td>\n",
       "      <td id=\"T_a766e_row5_col3\" class=\"data row5 col3\" >0</td>\n",
       "      <td id=\"T_a766e_row5_col4\" class=\"data row5 col4\" >0.000000</td>\n",
       "      <td id=\"T_a766e_row5_col5\" class=\"data row5 col5\" >17.00</td>\n",
       "      <td id=\"T_a766e_row5_col6\" class=\"data row5 col6\" >0.00</td>\n",
       "      <td id=\"T_a766e_row5_col7\" class=\"data row5 col7\" >0.00</td>\n",
       "      <td id=\"T_a766e_row5_col8\" class=\"data row5 col8\" >0.00</td>\n",
       "      <td id=\"T_a766e_row5_col9\" class=\"data row5 col9\" >0.00</td>\n",
       "    </tr>\n",
       "    <tr>\n",
       "      <th id=\"T_a766e_level0_row6\" class=\"row_heading level0 row6\" >Сумма за год</th>\n",
       "      <td id=\"T_a766e_row6_col0\" class=\"data row6 col0\" >int64</td>\n",
       "      <td id=\"T_a766e_row6_col1\" class=\"data row6 col1\" >0.00</td>\n",
       "      <td id=\"T_a766e_row6_col2\" class=\"data row6 col2\" >0.00</td>\n",
       "      <td id=\"T_a766e_row6_col3\" class=\"data row6 col3\" >0</td>\n",
       "      <td id=\"T_a766e_row6_col4\" class=\"data row6 col4\" >0.000000</td>\n",
       "      <td id=\"T_a766e_row6_col5\" class=\"data row6 col5\" >110.00</td>\n",
       "      <td id=\"T_a766e_row6_col6\" class=\"data row6 col6\" >0.00</td>\n",
       "      <td id=\"T_a766e_row6_col7\" class=\"data row6 col7\" >0.00</td>\n",
       "      <td id=\"T_a766e_row6_col8\" class=\"data row6 col8\" >0.00</td>\n",
       "      <td id=\"T_a766e_row6_col9\" class=\"data row6 col9\" >0.00</td>\n",
       "    </tr>\n",
       "    <tr>\n",
       "      <th id=\"T_a766e_level0_row7\" class=\"row_heading level0 row7\" >Средний платеж в год</th>\n",
       "      <td id=\"T_a766e_row7_col0\" class=\"data row7 col0\" >object</td>\n",
       "      <td id=\"T_a766e_row7_col1\" class=\"data row7 col1\" >0.00</td>\n",
       "      <td id=\"T_a766e_row7_col2\" class=\"data row7 col2\" >0.00</td>\n",
       "      <td id=\"T_a766e_row7_col3\" class=\"data row7 col3\" >0</td>\n",
       "      <td id=\"T_a766e_row7_col4\" class=\"data row7 col4\" >0.000000</td>\n",
       "      <td id=\"T_a766e_row7_col5\" class=\"data row7 col5\" >117.00</td>\n",
       "      <td id=\"T_a766e_row7_col6\" class=\"data row7 col6\" >0.00</td>\n",
       "      <td id=\"T_a766e_row7_col7\" class=\"data row7 col7\" >0.00</td>\n",
       "      <td id=\"T_a766e_row7_col8\" class=\"data row7 col8\" >0.00</td>\n",
       "      <td id=\"T_a766e_row7_col9\" class=\"data row7 col9\" >0.00</td>\n",
       "    </tr>\n",
       "    <tr>\n",
       "      <th id=\"T_a766e_level0_row8\" class=\"row_heading level0 row8\" >Всего платежей</th>\n",
       "      <td id=\"T_a766e_row8_col0\" class=\"data row8 col0\" >int64</td>\n",
       "      <td id=\"T_a766e_row8_col1\" class=\"data row8 col1\" >0.00</td>\n",
       "      <td id=\"T_a766e_row8_col2\" class=\"data row8 col2\" >0.00</td>\n",
       "      <td id=\"T_a766e_row8_col3\" class=\"data row8 col3\" >0</td>\n",
       "      <td id=\"T_a766e_row8_col4\" class=\"data row8 col4\" >0.000000</td>\n",
       "      <td id=\"T_a766e_row8_col5\" class=\"data row8 col5\" >23.00</td>\n",
       "      <td id=\"T_a766e_row8_col6\" class=\"data row8 col6\" >0.00</td>\n",
       "      <td id=\"T_a766e_row8_col7\" class=\"data row8 col7\" >0.00</td>\n",
       "      <td id=\"T_a766e_row8_col8\" class=\"data row8 col8\" >0.00</td>\n",
       "      <td id=\"T_a766e_row8_col9\" class=\"data row8 col9\" >0.00</td>\n",
       "    </tr>\n",
       "    <tr>\n",
       "      <th id=\"T_a766e_level0_row9\" class=\"row_heading level0 row9\" >Сумма всего</th>\n",
       "      <td id=\"T_a766e_row9_col0\" class=\"data row9 col0\" >int64</td>\n",
       "      <td id=\"T_a766e_row9_col1\" class=\"data row9 col1\" >0.00</td>\n",
       "      <td id=\"T_a766e_row9_col2\" class=\"data row9 col2\" >0.00</td>\n",
       "      <td id=\"T_a766e_row9_col3\" class=\"data row9 col3\" >0</td>\n",
       "      <td id=\"T_a766e_row9_col4\" class=\"data row9 col4\" >0.000000</td>\n",
       "      <td id=\"T_a766e_row9_col5\" class=\"data row9 col5\" >120.00</td>\n",
       "      <td id=\"T_a766e_row9_col6\" class=\"data row9 col6\" >0.00</td>\n",
       "      <td id=\"T_a766e_row9_col7\" class=\"data row9 col7\" >0.00</td>\n",
       "      <td id=\"T_a766e_row9_col8\" class=\"data row9 col8\" >0.00</td>\n",
       "      <td id=\"T_a766e_row9_col9\" class=\"data row9 col9\" >0.00</td>\n",
       "    </tr>\n",
       "    <tr>\n",
       "      <th id=\"T_a766e_level0_row10\" class=\"row_heading level0 row10\" >Средний платеж</th>\n",
       "      <td id=\"T_a766e_row10_col0\" class=\"data row10 col0\" >object</td>\n",
       "      <td id=\"T_a766e_row10_col1\" class=\"data row10 col1\" >0.00</td>\n",
       "      <td id=\"T_a766e_row10_col2\" class=\"data row10 col2\" >0.00</td>\n",
       "      <td id=\"T_a766e_row10_col3\" class=\"data row10 col3\" >0</td>\n",
       "      <td id=\"T_a766e_row10_col4\" class=\"data row10 col4\" >0.000000</td>\n",
       "      <td id=\"T_a766e_row10_col5\" class=\"data row10 col5\" >120.00</td>\n",
       "      <td id=\"T_a766e_row10_col6\" class=\"data row10 col6\" >0.00</td>\n",
       "      <td id=\"T_a766e_row10_col7\" class=\"data row10 col7\" >0.00</td>\n",
       "      <td id=\"T_a766e_row10_col8\" class=\"data row10 col8\" >0.00</td>\n",
       "      <td id=\"T_a766e_row10_col9\" class=\"data row10 col9\" >0.00</td>\n",
       "    </tr>\n",
       "    <tr>\n",
       "      <th id=\"T_a766e_level0_row11\" class=\"row_heading level0 row11\" >Сумма за месяц</th>\n",
       "      <td id=\"T_a766e_row11_col0\" class=\"data row11 col0\" >int64</td>\n",
       "      <td id=\"T_a766e_row11_col1\" class=\"data row11 col1\" >0.00</td>\n",
       "      <td id=\"T_a766e_row11_col2\" class=\"data row11 col2\" >0.00</td>\n",
       "      <td id=\"T_a766e_row11_col3\" class=\"data row11 col3\" >0</td>\n",
       "      <td id=\"T_a766e_row11_col4\" class=\"data row11 col4\" >0.000000</td>\n",
       "      <td id=\"T_a766e_row11_col5\" class=\"data row11 col5\" >1.00</td>\n",
       "      <td id=\"T_a766e_row11_col6\" class=\"data row11 col6\" >0.00</td>\n",
       "      <td id=\"T_a766e_row11_col7\" class=\"data row11 col7\" >0.00</td>\n",
       "      <td id=\"T_a766e_row11_col8\" class=\"data row11 col8\" >0.00</td>\n",
       "      <td id=\"T_a766e_row11_col9\" class=\"data row11 col9\" >0.00</td>\n",
       "    </tr>\n",
       "    <tr>\n",
       "      <th id=\"T_a766e_level0_row12\" class=\"row_heading level0 row12\" >Страны</th>\n",
       "      <td id=\"T_a766e_row12_col0\" class=\"data row12 col0\" >object</td>\n",
       "      <td id=\"T_a766e_row12_col1\" class=\"data row12 col1\" >244.00</td>\n",
       "      <td id=\"T_a766e_row12_col2\" class=\"data row12 col2\" >20.93</td>\n",
       "      <td id=\"T_a766e_row12_col3\" class=\"data row12 col3\" >0</td>\n",
       "      <td id=\"T_a766e_row12_col4\" class=\"data row12 col4\" >0.000000</td>\n",
       "      <td id=\"T_a766e_row12_col5\" class=\"data row12 col5\" >64.00</td>\n",
       "      <td id=\"T_a766e_row12_col6\" class=\"data row12 col6\" >0.00</td>\n",
       "      <td id=\"T_a766e_row12_col7\" class=\"data row12 col7\" >0.00</td>\n",
       "      <td id=\"T_a766e_row12_col8\" class=\"data row12 col8\" >0.00</td>\n",
       "      <td id=\"T_a766e_row12_col9\" class=\"data row12 col9\" >0.00</td>\n",
       "    </tr>\n",
       "    <tr>\n",
       "      <th id=\"T_a766e_level0_row13\" class=\"row_heading level0 row13\" >Регионы</th>\n",
       "      <td id=\"T_a766e_row13_col0\" class=\"data row13 col0\" >object</td>\n",
       "      <td id=\"T_a766e_row13_col1\" class=\"data row13 col1\" >270.00</td>\n",
       "      <td id=\"T_a766e_row13_col2\" class=\"data row13 col2\" >23.16</td>\n",
       "      <td id=\"T_a766e_row13_col3\" class=\"data row13 col3\" >0</td>\n",
       "      <td id=\"T_a766e_row13_col4\" class=\"data row13 col4\" >0.000000</td>\n",
       "      <td id=\"T_a766e_row13_col5\" class=\"data row13 col5\" >213.00</td>\n",
       "      <td id=\"T_a766e_row13_col6\" class=\"data row13 col6\" >0.00</td>\n",
       "      <td id=\"T_a766e_row13_col7\" class=\"data row13 col7\" >0.00</td>\n",
       "      <td id=\"T_a766e_row13_col8\" class=\"data row13 col8\" >0.00</td>\n",
       "      <td id=\"T_a766e_row13_col9\" class=\"data row13 col9\" >0.00</td>\n",
       "    </tr>\n",
       "    <tr>\n",
       "      <th id=\"T_a766e_level0_row14\" class=\"row_heading level0 row14\" >Последний платеж</th>\n",
       "      <td id=\"T_a766e_row14_col0\" class=\"data row14 col0\" >datetime64[ns]</td>\n",
       "      <td id=\"T_a766e_row14_col1\" class=\"data row14 col1\" >0.00</td>\n",
       "      <td id=\"T_a766e_row14_col2\" class=\"data row14 col2\" >0.00</td>\n",
       "      <td id=\"T_a766e_row14_col3\" class=\"data row14 col3\" >0</td>\n",
       "      <td id=\"T_a766e_row14_col4\" class=\"data row14 col4\" >0.000000</td>\n",
       "      <td id=\"T_a766e_row14_col5\" class=\"data row14 col5\" >1166.00</td>\n",
       "      <td id=\"T_a766e_row14_col6\" class=\"data row14 col6\" >0.00</td>\n",
       "      <td id=\"T_a766e_row14_col7\" class=\"data row14 col7\" >0.00</td>\n",
       "      <td id=\"T_a766e_row14_col8\" class=\"data row14 col8\" >0.00</td>\n",
       "      <td id=\"T_a766e_row14_col9\" class=\"data row14 col9\" >0.00</td>\n",
       "    </tr>\n",
       "    <tr>\n",
       "      <th id=\"T_a766e_level0_row15\" class=\"row_heading level0 row15\" >код</th>\n",
       "      <td id=\"T_a766e_row15_col0\" class=\"data row15 col0\" >int64</td>\n",
       "      <td id=\"T_a766e_row15_col1\" class=\"data row15 col1\" >0.00</td>\n",
       "      <td id=\"T_a766e_row15_col2\" class=\"data row15 col2\" >0.00</td>\n",
       "      <td id=\"T_a766e_row15_col3\" class=\"data row15 col3\" >0</td>\n",
       "      <td id=\"T_a766e_row15_col4\" class=\"data row15 col4\" >0.000000</td>\n",
       "      <td id=\"T_a766e_row15_col5\" class=\"data row15 col5\" >1166.00</td>\n",
       "      <td id=\"T_a766e_row15_col6\" class=\"data row15 col6\" >0.00</td>\n",
       "      <td id=\"T_a766e_row15_col7\" class=\"data row15 col7\" >0.00</td>\n",
       "      <td id=\"T_a766e_row15_col8\" class=\"data row15 col8\" >0.00</td>\n",
       "      <td id=\"T_a766e_row15_col9\" class=\"data row15 col9\" >0.00</td>\n",
       "    </tr>\n",
       "  </tbody>\n",
       "</table>\n"
      ],
      "text/plain": [
       "<pandas.io.formats.style.Styler at 0x2d1949ff390>"
      ]
     },
     "metadata": {},
     "output_type": "display_data"
    }
   ],
   "source": [
    "show_stats(clients)"
   ]
  },
  {
   "cell_type": "code",
   "execution_count": 56,
   "metadata": {
    "colab": {
     "base_uri": "https://localhost:8080/",
     "height": 484
    },
    "executionInfo": {
     "elapsed": 661,
     "status": "ok",
     "timestamp": 1698747022043,
     "user": {
      "displayName": "Alex TS",
      "userId": "15283370269762839357"
     },
     "user_tz": -180
    },
    "id": "luK0G-U7bzN9",
    "outputId": "7ba33c89-5cb2-490d-cf9c-0edfa01a0999"
   },
   "outputs": [
    {
     "data": {
      "text/html": [
       "<div>\n",
       "<style scoped>\n",
       "    .dataframe tbody tr th:only-of-type {\n",
       "        vertical-align: middle;\n",
       "    }\n",
       "\n",
       "    .dataframe tbody tr th {\n",
       "        vertical-align: top;\n",
       "    }\n",
       "\n",
       "    .dataframe thead th {\n",
       "        text-align: right;\n",
       "    }\n",
       "</style>\n",
       "<table border=\"1\" class=\"dataframe\">\n",
       "  <thead>\n",
       "    <tr style=\"text-align: right;\">\n",
       "      <th></th>\n",
       "      <th>ID</th>\n",
       "      <th>Тип донора</th>\n",
       "      <th>Дата первого пожертвования</th>\n",
       "      <th>Сумма первого пожертвования</th>\n",
       "      <th>Кампания первого пожертвования</th>\n",
       "      <th>Метки донора</th>\n",
       "      <th>Кампании</th>\n",
       "      <th>Платёжные операторы</th>\n",
       "      <th>Дата последнего пожертвования</th>\n",
       "      <th>Сумма последнего пожертвования</th>\n",
       "      <th>Кампания последнего пожертвования</th>\n",
       "      <th>Общая сумма пожертвований</th>\n",
       "      <th>Валюта</th>\n",
       "      <th>Код</th>\n",
       "    </tr>\n",
       "  </thead>\n",
       "  <tbody>\n",
       "    <tr>\n",
       "      <th>0</th>\n",
       "      <td>833</td>\n",
       "      <td>разовый</td>\n",
       "      <td>21.06.2023, 18:43</td>\n",
       "      <td>3000.0</td>\n",
       "      <td>На уставную деятельность и содержание организации</td>\n",
       "      <td>NaN</td>\n",
       "      <td>На уставную деятельность и содержание организации</td>\n",
       "      <td>MIXPLAT</td>\n",
       "      <td>21.06.2023, 18:43</td>\n",
       "      <td>3000.0</td>\n",
       "      <td>На уставную деятельность и содержание организации</td>\n",
       "      <td>3000</td>\n",
       "      <td>₽</td>\n",
       "      <td>2285</td>\n",
       "    </tr>\n",
       "    <tr>\n",
       "      <th>1</th>\n",
       "      <td>832</td>\n",
       "      <td>постоянный</td>\n",
       "      <td>20.06.2023, 16:36</td>\n",
       "      <td>500.0</td>\n",
       "      <td>На уставную деятельность и содержание организации</td>\n",
       "      <td>NaN</td>\n",
       "      <td>На уставную деятельность и содержание организации</td>\n",
       "      <td>MIXPLAT</td>\n",
       "      <td>20.06.2023, 16:40</td>\n",
       "      <td>500.0</td>\n",
       "      <td>На уставную деятельность и содержание организации</td>\n",
       "      <td>500</td>\n",
       "      <td>₽</td>\n",
       "      <td>2286</td>\n",
       "    </tr>\n",
       "    <tr>\n",
       "      <th>2</th>\n",
       "      <td>831</td>\n",
       "      <td>постоянный</td>\n",
       "      <td>20.06.2023, 10:39</td>\n",
       "      <td>500.0</td>\n",
       "      <td>На уставную деятельность и содержание организации</td>\n",
       "      <td>NaN</td>\n",
       "      <td>На уставную деятельность и содержание организации</td>\n",
       "      <td>MIXPLAT</td>\n",
       "      <td>20.06.2023, 10:39</td>\n",
       "      <td>500.0</td>\n",
       "      <td>На уставную деятельность и содержание организации</td>\n",
       "      <td>500</td>\n",
       "      <td>₽</td>\n",
       "      <td>1479</td>\n",
       "    </tr>\n",
       "    <tr>\n",
       "      <th>3</th>\n",
       "      <td>830</td>\n",
       "      <td>разовый</td>\n",
       "      <td>20.06.2023, 09:09</td>\n",
       "      <td>1000.0</td>\n",
       "      <td>На уставную деятельность и содержание организации</td>\n",
       "      <td>NaN</td>\n",
       "      <td>На уставную деятельность и содержание организации</td>\n",
       "      <td>MIXPLAT</td>\n",
       "      <td>20.06.2023, 09:09</td>\n",
       "      <td>1000.0</td>\n",
       "      <td>На уставную деятельность и содержание организации</td>\n",
       "      <td>1000</td>\n",
       "      <td>₽</td>\n",
       "      <td>2288</td>\n",
       "    </tr>\n",
       "    <tr>\n",
       "      <th>4</th>\n",
       "      <td>829</td>\n",
       "      <td>постоянный</td>\n",
       "      <td>19.06.2023, 23:03</td>\n",
       "      <td>100.0</td>\n",
       "      <td>На уставную деятельность и содержание организации</td>\n",
       "      <td>NaN</td>\n",
       "      <td>На уставную деятельность и содержание организации</td>\n",
       "      <td>MIXPLAT</td>\n",
       "      <td>19.06.2023, 23:03</td>\n",
       "      <td>100.0</td>\n",
       "      <td>На уставную деятельность и содержание организации</td>\n",
       "      <td>100</td>\n",
       "      <td>₽</td>\n",
       "      <td>2289</td>\n",
       "    </tr>\n",
       "  </tbody>\n",
       "</table>\n",
       "</div>"
      ],
      "text/plain": [
       "    ID  Тип донора Дата первого пожертвования  Сумма первого пожертвования  \\\n",
       "0  833     разовый          21.06.2023, 18:43                       3000.0   \n",
       "1  832  постоянный          20.06.2023, 16:36                        500.0   \n",
       "2  831  постоянный          20.06.2023, 10:39                        500.0   \n",
       "3  830     разовый          20.06.2023, 09:09                       1000.0   \n",
       "4  829  постоянный          19.06.2023, 23:03                        100.0   \n",
       "\n",
       "                      Кампания первого пожертвования  Метки донора  \\\n",
       "0  На уставную деятельность и содержание организации           NaN   \n",
       "1  На уставную деятельность и содержание организации           NaN   \n",
       "2  На уставную деятельность и содержание организации           NaN   \n",
       "3  На уставную деятельность и содержание организации           NaN   \n",
       "4  На уставную деятельность и содержание организации           NaN   \n",
       "\n",
       "                                            Кампании Платёжные операторы  \\\n",
       "0  На уставную деятельность и содержание организации             MIXPLAT   \n",
       "1  На уставную деятельность и содержание организации             MIXPLAT   \n",
       "2  На уставную деятельность и содержание организации             MIXPLAT   \n",
       "3  На уставную деятельность и содержание организации             MIXPLAT   \n",
       "4  На уставную деятельность и содержание организации             MIXPLAT   \n",
       "\n",
       "  Дата последнего пожертвования  Сумма последнего пожертвования  \\\n",
       "0             21.06.2023, 18:43                          3000.0   \n",
       "1             20.06.2023, 16:40                           500.0   \n",
       "2             20.06.2023, 10:39                           500.0   \n",
       "3             20.06.2023, 09:09                          1000.0   \n",
       "4             19.06.2023, 23:03                           100.0   \n",
       "\n",
       "                   Кампания последнего пожертвования  \\\n",
       "0  На уставную деятельность и содержание организации   \n",
       "1  На уставную деятельность и содержание организации   \n",
       "2  На уставную деятельность и содержание организации   \n",
       "3  На уставную деятельность и содержание организации   \n",
       "4  На уставную деятельность и содержание организации   \n",
       "\n",
       "   Общая сумма пожертвований Валюта   Код  \n",
       "0                       3000      ₽  2285  \n",
       "1                        500      ₽  2286  \n",
       "2                        500      ₽  1479  \n",
       "3                       1000      ₽  2288  \n",
       "4                        100      ₽  2289  "
      ]
     },
     "execution_count": 56,
     "metadata": {},
     "output_type": "execute_result"
    }
   ],
   "source": [
    "public_key3 = 'https://disk.yandex.ru/i/XXX'\n",
    "final_url = base_url + urlencode(dict(public_key=public_key3))\n",
    "response = requests.get(final_url)\n",
    "download_url = response.json()['href']\n",
    "download_response = requests.get(download_url)\n",
    "donors = pd.read_excel(download_url)\n",
    "donors.head(5)    "
   ]
  },
  {
   "cell_type": "code",
   "execution_count": 57,
   "metadata": {},
   "outputs": [
    {
     "data": {
      "text/html": [
       "<style type=\"text/css\">\n",
       "#T_9a1f8_row0_col5, #T_9a1f8_row3_col6, #T_9a1f8_row3_col8, #T_9a1f8_row3_col9, #T_9a1f8_row5_col1, #T_9a1f8_row5_col2, #T_9a1f8_row9_col6, #T_9a1f8_row9_col7, #T_9a1f8_row9_col8, #T_9a1f8_row9_col9, #T_9a1f8_row13_col5 {\n",
       "  background-color: yellowgreen;\n",
       "}\n",
       "</style>\n",
       "<table id=\"T_9a1f8\">\n",
       "  <thead>\n",
       "    <tr>\n",
       "      <th class=\"blank level0\" >&nbsp;</th>\n",
       "      <th id=\"T_9a1f8_level0_col0\" class=\"col_heading level0 col0\" >dtype</th>\n",
       "      <th id=\"T_9a1f8_level0_col1\" class=\"col_heading level0 col1\" >nans_count</th>\n",
       "      <th id=\"T_9a1f8_level0_col2\" class=\"col_heading level0 col2\" >nans_ratio</th>\n",
       "      <th id=\"T_9a1f8_level0_col3\" class=\"col_heading level0 col3\" >duplicates_count</th>\n",
       "      <th id=\"T_9a1f8_level0_col4\" class=\"col_heading level0 col4\" >duplicates_ratio</th>\n",
       "      <th id=\"T_9a1f8_level0_col5\" class=\"col_heading level0 col5\" >uniques</th>\n",
       "      <th id=\"T_9a1f8_level0_col6\" class=\"col_heading level0 col6\" >min</th>\n",
       "      <th id=\"T_9a1f8_level0_col7\" class=\"col_heading level0 col7\" >mean</th>\n",
       "      <th id=\"T_9a1f8_level0_col8\" class=\"col_heading level0 col8\" >median</th>\n",
       "      <th id=\"T_9a1f8_level0_col9\" class=\"col_heading level0 col9\" >max</th>\n",
       "    </tr>\n",
       "  </thead>\n",
       "  <tbody>\n",
       "    <tr>\n",
       "      <th id=\"T_9a1f8_level0_row0\" class=\"row_heading level0 row0\" >ID</th>\n",
       "      <td id=\"T_9a1f8_row0_col0\" class=\"data row0 col0\" >int64</td>\n",
       "      <td id=\"T_9a1f8_row0_col1\" class=\"data row0 col1\" >0.00</td>\n",
       "      <td id=\"T_9a1f8_row0_col2\" class=\"data row0 col2\" >0.00</td>\n",
       "      <td id=\"T_9a1f8_row0_col3\" class=\"data row0 col3\" >0</td>\n",
       "      <td id=\"T_9a1f8_row0_col4\" class=\"data row0 col4\" >0.000000</td>\n",
       "      <td id=\"T_9a1f8_row0_col5\" class=\"data row0 col5\" >813.00</td>\n",
       "      <td id=\"T_9a1f8_row0_col6\" class=\"data row0 col6\" >0.00</td>\n",
       "      <td id=\"T_9a1f8_row0_col7\" class=\"data row0 col7\" >0.00</td>\n",
       "      <td id=\"T_9a1f8_row0_col8\" class=\"data row0 col8\" >0.00</td>\n",
       "      <td id=\"T_9a1f8_row0_col9\" class=\"data row0 col9\" >0.00</td>\n",
       "    </tr>\n",
       "    <tr>\n",
       "      <th id=\"T_9a1f8_level0_row1\" class=\"row_heading level0 row1\" >Тип донора</th>\n",
       "      <td id=\"T_9a1f8_row1_col0\" class=\"data row1 col0\" >object</td>\n",
       "      <td id=\"T_9a1f8_row1_col1\" class=\"data row1 col1\" >0.00</td>\n",
       "      <td id=\"T_9a1f8_row1_col2\" class=\"data row1 col2\" >0.00</td>\n",
       "      <td id=\"T_9a1f8_row1_col3\" class=\"data row1 col3\" >0</td>\n",
       "      <td id=\"T_9a1f8_row1_col4\" class=\"data row1 col4\" >0.000000</td>\n",
       "      <td id=\"T_9a1f8_row1_col5\" class=\"data row1 col5\" >2.00</td>\n",
       "      <td id=\"T_9a1f8_row1_col6\" class=\"data row1 col6\" >0.00</td>\n",
       "      <td id=\"T_9a1f8_row1_col7\" class=\"data row1 col7\" >0.00</td>\n",
       "      <td id=\"T_9a1f8_row1_col8\" class=\"data row1 col8\" >0.00</td>\n",
       "      <td id=\"T_9a1f8_row1_col9\" class=\"data row1 col9\" >0.00</td>\n",
       "    </tr>\n",
       "    <tr>\n",
       "      <th id=\"T_9a1f8_level0_row2\" class=\"row_heading level0 row2\" >Дата первого пожертвования</th>\n",
       "      <td id=\"T_9a1f8_row2_col0\" class=\"data row2 col0\" >object</td>\n",
       "      <td id=\"T_9a1f8_row2_col1\" class=\"data row2 col1\" >18.00</td>\n",
       "      <td id=\"T_9a1f8_row2_col2\" class=\"data row2 col2\" >2.21</td>\n",
       "      <td id=\"T_9a1f8_row2_col3\" class=\"data row2 col3\" >0</td>\n",
       "      <td id=\"T_9a1f8_row2_col4\" class=\"data row2 col4\" >0.000000</td>\n",
       "      <td id=\"T_9a1f8_row2_col5\" class=\"data row2 col5\" >789.00</td>\n",
       "      <td id=\"T_9a1f8_row2_col6\" class=\"data row2 col6\" >0.00</td>\n",
       "      <td id=\"T_9a1f8_row2_col7\" class=\"data row2 col7\" >0.00</td>\n",
       "      <td id=\"T_9a1f8_row2_col8\" class=\"data row2 col8\" >0.00</td>\n",
       "      <td id=\"T_9a1f8_row2_col9\" class=\"data row2 col9\" >0.00</td>\n",
       "    </tr>\n",
       "    <tr>\n",
       "      <th id=\"T_9a1f8_level0_row3\" class=\"row_heading level0 row3\" >Сумма первого пожертвования</th>\n",
       "      <td id=\"T_9a1f8_row3_col0\" class=\"data row3 col0\" >float64</td>\n",
       "      <td id=\"T_9a1f8_row3_col1\" class=\"data row3 col1\" >18.00</td>\n",
       "      <td id=\"T_9a1f8_row3_col2\" class=\"data row3 col2\" >2.21</td>\n",
       "      <td id=\"T_9a1f8_row3_col3\" class=\"data row3 col3\" >0</td>\n",
       "      <td id=\"T_9a1f8_row3_col4\" class=\"data row3 col4\" >0.000000</td>\n",
       "      <td id=\"T_9a1f8_row3_col5\" class=\"data row3 col5\" >55.00</td>\n",
       "      <td id=\"T_9a1f8_row3_col6\" class=\"data row3 col6\" >10.00</td>\n",
       "      <td id=\"T_9a1f8_row3_col7\" class=\"data row3 col7\" >1001.75</td>\n",
       "      <td id=\"T_9a1f8_row3_col8\" class=\"data row3 col8\" >450.00</td>\n",
       "      <td id=\"T_9a1f8_row3_col9\" class=\"data row3 col9\" >50000.00</td>\n",
       "    </tr>\n",
       "    <tr>\n",
       "      <th id=\"T_9a1f8_level0_row4\" class=\"row_heading level0 row4\" >Кампания первого пожертвования</th>\n",
       "      <td id=\"T_9a1f8_row4_col0\" class=\"data row4 col0\" >object</td>\n",
       "      <td id=\"T_9a1f8_row4_col1\" class=\"data row4 col1\" >18.00</td>\n",
       "      <td id=\"T_9a1f8_row4_col2\" class=\"data row4 col2\" >2.21</td>\n",
       "      <td id=\"T_9a1f8_row4_col3\" class=\"data row4 col3\" >0</td>\n",
       "      <td id=\"T_9a1f8_row4_col4\" class=\"data row4 col4\" >0.000000</td>\n",
       "      <td id=\"T_9a1f8_row4_col5\" class=\"data row4 col5\" >2.00</td>\n",
       "      <td id=\"T_9a1f8_row4_col6\" class=\"data row4 col6\" >0.00</td>\n",
       "      <td id=\"T_9a1f8_row4_col7\" class=\"data row4 col7\" >0.00</td>\n",
       "      <td id=\"T_9a1f8_row4_col8\" class=\"data row4 col8\" >0.00</td>\n",
       "      <td id=\"T_9a1f8_row4_col9\" class=\"data row4 col9\" >0.00</td>\n",
       "    </tr>\n",
       "    <tr>\n",
       "      <th id=\"T_9a1f8_level0_row5\" class=\"row_heading level0 row5\" >Метки донора</th>\n",
       "      <td id=\"T_9a1f8_row5_col0\" class=\"data row5 col0\" >float64</td>\n",
       "      <td id=\"T_9a1f8_row5_col1\" class=\"data row5 col1\" >813.00</td>\n",
       "      <td id=\"T_9a1f8_row5_col2\" class=\"data row5 col2\" >100.00</td>\n",
       "      <td id=\"T_9a1f8_row5_col3\" class=\"data row5 col3\" >0</td>\n",
       "      <td id=\"T_9a1f8_row5_col4\" class=\"data row5 col4\" >0.000000</td>\n",
       "      <td id=\"T_9a1f8_row5_col5\" class=\"data row5 col5\" >0.00</td>\n",
       "      <td id=\"T_9a1f8_row5_col6\" class=\"data row5 col6\" >nan</td>\n",
       "      <td id=\"T_9a1f8_row5_col7\" class=\"data row5 col7\" >nan</td>\n",
       "      <td id=\"T_9a1f8_row5_col8\" class=\"data row5 col8\" >nan</td>\n",
       "      <td id=\"T_9a1f8_row5_col9\" class=\"data row5 col9\" >nan</td>\n",
       "    </tr>\n",
       "    <tr>\n",
       "      <th id=\"T_9a1f8_level0_row6\" class=\"row_heading level0 row6\" >Кампании</th>\n",
       "      <td id=\"T_9a1f8_row6_col0\" class=\"data row6 col0\" >object</td>\n",
       "      <td id=\"T_9a1f8_row6_col1\" class=\"data row6 col1\" >18.00</td>\n",
       "      <td id=\"T_9a1f8_row6_col2\" class=\"data row6 col2\" >2.21</td>\n",
       "      <td id=\"T_9a1f8_row6_col3\" class=\"data row6 col3\" >0</td>\n",
       "      <td id=\"T_9a1f8_row6_col4\" class=\"data row6 col4\" >0.000000</td>\n",
       "      <td id=\"T_9a1f8_row6_col5\" class=\"data row6 col5\" >3.00</td>\n",
       "      <td id=\"T_9a1f8_row6_col6\" class=\"data row6 col6\" >0.00</td>\n",
       "      <td id=\"T_9a1f8_row6_col7\" class=\"data row6 col7\" >0.00</td>\n",
       "      <td id=\"T_9a1f8_row6_col8\" class=\"data row6 col8\" >0.00</td>\n",
       "      <td id=\"T_9a1f8_row6_col9\" class=\"data row6 col9\" >0.00</td>\n",
       "    </tr>\n",
       "    <tr>\n",
       "      <th id=\"T_9a1f8_level0_row7\" class=\"row_heading level0 row7\" >Платёжные операторы</th>\n",
       "      <td id=\"T_9a1f8_row7_col0\" class=\"data row7 col0\" >object</td>\n",
       "      <td id=\"T_9a1f8_row7_col1\" class=\"data row7 col1\" >18.00</td>\n",
       "      <td id=\"T_9a1f8_row7_col2\" class=\"data row7 col2\" >2.21</td>\n",
       "      <td id=\"T_9a1f8_row7_col3\" class=\"data row7 col3\" >0</td>\n",
       "      <td id=\"T_9a1f8_row7_col4\" class=\"data row7 col4\" >0.000000</td>\n",
       "      <td id=\"T_9a1f8_row7_col5\" class=\"data row7 col5\" >4.00</td>\n",
       "      <td id=\"T_9a1f8_row7_col6\" class=\"data row7 col6\" >0.00</td>\n",
       "      <td id=\"T_9a1f8_row7_col7\" class=\"data row7 col7\" >0.00</td>\n",
       "      <td id=\"T_9a1f8_row7_col8\" class=\"data row7 col8\" >0.00</td>\n",
       "      <td id=\"T_9a1f8_row7_col9\" class=\"data row7 col9\" >0.00</td>\n",
       "    </tr>\n",
       "    <tr>\n",
       "      <th id=\"T_9a1f8_level0_row8\" class=\"row_heading level0 row8\" >Дата последнего пожертвования</th>\n",
       "      <td id=\"T_9a1f8_row8_col0\" class=\"data row8 col0\" >object</td>\n",
       "      <td id=\"T_9a1f8_row8_col1\" class=\"data row8 col1\" >18.00</td>\n",
       "      <td id=\"T_9a1f8_row8_col2\" class=\"data row8 col2\" >2.21</td>\n",
       "      <td id=\"T_9a1f8_row8_col3\" class=\"data row8 col3\" >0</td>\n",
       "      <td id=\"T_9a1f8_row8_col4\" class=\"data row8 col4\" >0.000000</td>\n",
       "      <td id=\"T_9a1f8_row8_col5\" class=\"data row8 col5\" >788.00</td>\n",
       "      <td id=\"T_9a1f8_row8_col6\" class=\"data row8 col6\" >0.00</td>\n",
       "      <td id=\"T_9a1f8_row8_col7\" class=\"data row8 col7\" >0.00</td>\n",
       "      <td id=\"T_9a1f8_row8_col8\" class=\"data row8 col8\" >0.00</td>\n",
       "      <td id=\"T_9a1f8_row8_col9\" class=\"data row8 col9\" >0.00</td>\n",
       "    </tr>\n",
       "    <tr>\n",
       "      <th id=\"T_9a1f8_level0_row9\" class=\"row_heading level0 row9\" >Сумма последнего пожертвования</th>\n",
       "      <td id=\"T_9a1f8_row9_col0\" class=\"data row9 col0\" >float64</td>\n",
       "      <td id=\"T_9a1f8_row9_col1\" class=\"data row9 col1\" >18.00</td>\n",
       "      <td id=\"T_9a1f8_row9_col2\" class=\"data row9 col2\" >2.21</td>\n",
       "      <td id=\"T_9a1f8_row9_col3\" class=\"data row9 col3\" >0</td>\n",
       "      <td id=\"T_9a1f8_row9_col4\" class=\"data row9 col4\" >0.000000</td>\n",
       "      <td id=\"T_9a1f8_row9_col5\" class=\"data row9 col5\" >54.00</td>\n",
       "      <td id=\"T_9a1f8_row9_col6\" class=\"data row9 col6\" >10.00</td>\n",
       "      <td id=\"T_9a1f8_row9_col7\" class=\"data row9 col7\" >1062.75</td>\n",
       "      <td id=\"T_9a1f8_row9_col8\" class=\"data row9 col8\" >450.00</td>\n",
       "      <td id=\"T_9a1f8_row9_col9\" class=\"data row9 col9\" >50000.00</td>\n",
       "    </tr>\n",
       "    <tr>\n",
       "      <th id=\"T_9a1f8_level0_row10\" class=\"row_heading level0 row10\" >Кампания последнего пожертвования</th>\n",
       "      <td id=\"T_9a1f8_row10_col0\" class=\"data row10 col0\" >object</td>\n",
       "      <td id=\"T_9a1f8_row10_col1\" class=\"data row10 col1\" >18.00</td>\n",
       "      <td id=\"T_9a1f8_row10_col2\" class=\"data row10 col2\" >2.21</td>\n",
       "      <td id=\"T_9a1f8_row10_col3\" class=\"data row10 col3\" >0</td>\n",
       "      <td id=\"T_9a1f8_row10_col4\" class=\"data row10 col4\" >0.000000</td>\n",
       "      <td id=\"T_9a1f8_row10_col5\" class=\"data row10 col5\" >2.00</td>\n",
       "      <td id=\"T_9a1f8_row10_col6\" class=\"data row10 col6\" >0.00</td>\n",
       "      <td id=\"T_9a1f8_row10_col7\" class=\"data row10 col7\" >0.00</td>\n",
       "      <td id=\"T_9a1f8_row10_col8\" class=\"data row10 col8\" >0.00</td>\n",
       "      <td id=\"T_9a1f8_row10_col9\" class=\"data row10 col9\" >0.00</td>\n",
       "    </tr>\n",
       "    <tr>\n",
       "      <th id=\"T_9a1f8_level0_row11\" class=\"row_heading level0 row11\" >Общая сумма пожертвований</th>\n",
       "      <td id=\"T_9a1f8_row11_col0\" class=\"data row11 col0\" >int64</td>\n",
       "      <td id=\"T_9a1f8_row11_col1\" class=\"data row11 col1\" >0.00</td>\n",
       "      <td id=\"T_9a1f8_row11_col2\" class=\"data row11 col2\" >0.00</td>\n",
       "      <td id=\"T_9a1f8_row11_col3\" class=\"data row11 col3\" >0</td>\n",
       "      <td id=\"T_9a1f8_row11_col4\" class=\"data row11 col4\" >0.000000</td>\n",
       "      <td id=\"T_9a1f8_row11_col5\" class=\"data row11 col5\" >90.00</td>\n",
       "      <td id=\"T_9a1f8_row11_col6\" class=\"data row11 col6\" >0.00</td>\n",
       "      <td id=\"T_9a1f8_row11_col7\" class=\"data row11 col7\" >0.00</td>\n",
       "      <td id=\"T_9a1f8_row11_col8\" class=\"data row11 col8\" >0.00</td>\n",
       "      <td id=\"T_9a1f8_row11_col9\" class=\"data row11 col9\" >0.00</td>\n",
       "    </tr>\n",
       "    <tr>\n",
       "      <th id=\"T_9a1f8_level0_row12\" class=\"row_heading level0 row12\" >Валюта</th>\n",
       "      <td id=\"T_9a1f8_row12_col0\" class=\"data row12 col0\" >object</td>\n",
       "      <td id=\"T_9a1f8_row12_col1\" class=\"data row12 col1\" >0.00</td>\n",
       "      <td id=\"T_9a1f8_row12_col2\" class=\"data row12 col2\" >0.00</td>\n",
       "      <td id=\"T_9a1f8_row12_col3\" class=\"data row12 col3\" >0</td>\n",
       "      <td id=\"T_9a1f8_row12_col4\" class=\"data row12 col4\" >0.000000</td>\n",
       "      <td id=\"T_9a1f8_row12_col5\" class=\"data row12 col5\" >1.00</td>\n",
       "      <td id=\"T_9a1f8_row12_col6\" class=\"data row12 col6\" >0.00</td>\n",
       "      <td id=\"T_9a1f8_row12_col7\" class=\"data row12 col7\" >0.00</td>\n",
       "      <td id=\"T_9a1f8_row12_col8\" class=\"data row12 col8\" >0.00</td>\n",
       "      <td id=\"T_9a1f8_row12_col9\" class=\"data row12 col9\" >0.00</td>\n",
       "    </tr>\n",
       "    <tr>\n",
       "      <th id=\"T_9a1f8_level0_row13\" class=\"row_heading level0 row13\" >Код</th>\n",
       "      <td id=\"T_9a1f8_row13_col0\" class=\"data row13 col0\" >int64</td>\n",
       "      <td id=\"T_9a1f8_row13_col1\" class=\"data row13 col1\" >0.00</td>\n",
       "      <td id=\"T_9a1f8_row13_col2\" class=\"data row13 col2\" >0.00</td>\n",
       "      <td id=\"T_9a1f8_row13_col3\" class=\"data row13 col3\" >0</td>\n",
       "      <td id=\"T_9a1f8_row13_col4\" class=\"data row13 col4\" >0.000000</td>\n",
       "      <td id=\"T_9a1f8_row13_col5\" class=\"data row13 col5\" >813.00</td>\n",
       "      <td id=\"T_9a1f8_row13_col6\" class=\"data row13 col6\" >0.00</td>\n",
       "      <td id=\"T_9a1f8_row13_col7\" class=\"data row13 col7\" >0.00</td>\n",
       "      <td id=\"T_9a1f8_row13_col8\" class=\"data row13 col8\" >0.00</td>\n",
       "      <td id=\"T_9a1f8_row13_col9\" class=\"data row13 col9\" >0.00</td>\n",
       "    </tr>\n",
       "  </tbody>\n",
       "</table>\n"
      ],
      "text/plain": [
       "<pandas.io.formats.style.Styler at 0x2d196091d90>"
      ]
     },
     "metadata": {},
     "output_type": "display_data"
    }
   ],
   "source": [
    "show_stats(donors)"
   ]
  },
  {
   "cell_type": "markdown",
   "metadata": {
    "id": "dyLipCo0ne67"
   },
   "source": [
    "## Приведем названия столбцов к snake_case для ускорения работы с данными"
   ]
  },
  {
   "cell_type": "code",
   "execution_count": 58,
   "metadata": {},
   "outputs": [],
   "source": [
    "# Создаем список из текущих колонок\n",
    "columns_start = df.columns.tolist()\n",
    "# Создаем список с новыми названиями колонок\n",
    "columns_end = ['date', 'ads_company', 'ads_number', 'label', 'condition', 'sex', 'payable','age','shows','position_shows','clicks','CTR (%)','wCTR (%)','expanses_rub',\n",
    "                'avg_price_click', 'pay_click', 'avg_position', 'avg_traffic','avg_clicks','refuses', '1000_price','pages in','convestion%', 'goal_price','conversions',\n",
    "                'rentable', 'fraction_ads','income','profit', 'sum_vs','price_vs','vs_fraction%', '25%show','50%show','75%show', '100%show','25%show%','50%show%','75%show%',\n",
    "                 '100%show%','avg_pay_dosmotr', 'visible_shows','invisible_shows','undefines_shows','measured_shows%','visible_shows%']\n",
    "# Создаем словарь, где ключ текущее название колонки, а значение - новое название колонки\n",
    "change_col_dict = {k:v for k, v in zip(columns_start, columns_end)}\n",
    "# меняем названия\n",
    "df = df.rename(columns=change_col_dict)"
   ]
  },
  {
   "cell_type": "code",
   "execution_count": 59,
   "metadata": {
    "id": "tqozbjFAq2AW"
   },
   "outputs": [],
   "source": [
    "clients.columns = ['id', 'first_pay' ,'subscribe_on','subscribe_off','pay_type','pay_per_year','sum_per_year','avg_pay_year','total_pay','total','avg','sum_month','countrys','regions', 'last_pay','code']"
   ]
  },
  {
   "cell_type": "code",
   "execution_count": 60,
   "metadata": {
    "id": "kBa2qT9nsJoq"
   },
   "outputs": [],
   "source": [
    "donors.columns = ['id', 'type','first_pay','sum_pay','ads_conpany_first','labels','ads_company','pay_operator','last_pay','sum_last_pay','ads_last_pay','total','curency','code']"
   ]
  },
  {
   "cell_type": "markdown",
   "metadata": {
    "id": "P7Ho7bT0viS1"
   },
   "source": [
    "## Объединение данных"
   ]
  },
  {
   "cell_type": "markdown",
   "metadata": {
    "id": "R5wjpDpEikPA"
   },
   "source": [
    "Объединим плательщиков из 2х систем и выберем лишь те строки, где были платежи"
   ]
  },
  {
   "cell_type": "code",
   "execution_count": 61,
   "metadata": {
    "colab": {
     "base_uri": "https://localhost:8080/"
    },
    "executionInfo": {
     "elapsed": 12,
     "status": "ok",
     "timestamp": 1698747022044,
     "user": {
      "displayName": "Alex TS",
      "userId": "15283370269762839357"
     },
     "user_tz": -180
    },
    "id": "p8upAR8RdRGj",
    "outputId": "17e933ac-9b9e-4761-ecd7-018ec64dc8fd"
   },
   "outputs": [
    {
     "name": "stdout",
     "output_type": "stream",
     "text": [
      "<class 'pandas.core.frame.DataFrame'>\n",
      "Index: 1750 entries, 3 to 812\n",
      "Data columns (total 4 columns):\n",
      " #   Column     Non-Null Count  Dtype \n",
      "---  ------     --------------  ----- \n",
      " 0   code       1750 non-null   int64 \n",
      " 1   first_pay  1750 non-null   object\n",
      " 2   last_pay   1750 non-null   object\n",
      " 3   total      1750 non-null   int64 \n",
      "dtypes: int64(2), object(2)\n",
      "memory usage: 68.4+ KB\n"
     ]
    }
   ],
   "source": [
    "clients_merge=clients[['code','first_pay','last_pay','total']]\n",
    "donors_merge=donors[['code','first_pay','last_pay','total']]\n",
    "donors_merge.head()\n",
    "all=pd.concat([clients_merge, donors_merge], axis=0)\n",
    "all_payers=all[all.total>1]\n",
    "all_payers.info()"
   ]
  },
  {
   "cell_type": "markdown",
   "metadata": {
    "id": "qDbZsdNehr0b"
   },
   "source": [
    "Удалены пустыне и не несущие информации строки. После объединения в данных есть пересечения, их обработаем далее на этапе анализа дубликатов."
   ]
  },
  {
   "cell_type": "markdown",
   "metadata": {
    "id": "NP4aLeTgo2Ma"
   },
   "source": [
    "## Удаление дубликатов"
   ]
  },
  {
   "cell_type": "markdown",
   "metadata": {
    "id": "tPrehseypf6h"
   },
   "source": [
    "### Полные дубликаты"
   ]
  },
  {
   "cell_type": "code",
   "execution_count": 62,
   "metadata": {
    "colab": {
     "base_uri": "https://localhost:8080/"
    },
    "executionInfo": {
     "elapsed": 917,
     "status": "ok",
     "timestamp": 1698747022952,
     "user": {
      "displayName": "Alex TS",
      "userId": "15283370269762839357"
     },
     "user_tz": -180
    },
    "id": "WFFJcMh-pjDk",
    "outputId": "e8e71601-4c25-48d2-8d5c-75baf8ba719d"
   },
   "outputs": [
    {
     "name": "stdout",
     "output_type": "stream",
     "text": [
      "Было: 308023 1750\n",
      "Стало: 307998 1750\n",
      "% дубликатов: 0.008116277031260652\n"
     ]
    }
   ],
   "source": [
    "print('Было:',df.shape[0], all_payers.shape[0])\n",
    "first_val=df.shape[0]\n",
    "all_payers=all_payers.drop_duplicates ()\n",
    "df=df.drop_duplicates()\n",
    "new_val=df.shape[0]\n",
    "print('Стало:', df.shape[0], all_payers.shape[0])\n",
    "print('% дубликатов:', (first_val-new_val)/first_val*100)"
   ]
  },
  {
   "cell_type": "markdown",
   "metadata": {
    "id": "CmjCN-xfq4MJ"
   },
   "source": [
    "### Неявные дубликаты"
   ]
  },
  {
   "cell_type": "code",
   "execution_count": 63,
   "metadata": {
    "colab": {
     "base_uri": "https://localhost:8080/"
    },
    "executionInfo": {
     "elapsed": 6,
     "status": "ok",
     "timestamp": 1698747022952,
     "user": {
      "displayName": "Alex TS",
      "userId": "15283370269762839357"
     },
     "user_tz": -180
    },
    "id": "VZXJmEB3ryUL",
    "outputId": "a7d5bf23-a7cd-499a-a4e8-a5f48f250fbf"
   },
   "outputs": [
    {
     "name": "stdout",
     "output_type": "stream",
     "text": [
      "Неявные дубликаты в all_payers: 0\n"
     ]
    }
   ],
   "source": [
    "all2=all_payers.duplicated(subset=['code'], keep=False)\n",
    "print('Неявные дубликаты в all_payers:',all_payers.shape[0]-all2.shape[0] )"
   ]
  },
  {
   "cell_type": "markdown",
   "metadata": {
    "id": "WVAeTeVXEN3V"
   },
   "source": [
    "## Удаление лишних или пустых колонок"
   ]
  },
  {
   "cell_type": "code",
   "execution_count": 64,
   "metadata": {
    "id": "rT1ocsIlEQYh"
   },
   "outputs": [],
   "source": [
    "df.drop(['income', 'profit'], axis= 1 , inplace= True )"
   ]
  },
  {
   "cell_type": "code",
   "execution_count": 65,
   "metadata": {
    "id": "twQFISsDExqE"
   },
   "outputs": [],
   "source": [
    "df.drop(['label', 'avg_position','avg_traffic', 'avg_clicks' ], axis= 1 , inplace= True )"
   ]
  },
  {
   "cell_type": "code",
   "execution_count": 66,
   "metadata": {
    "id": "EWjqdC3hIaKM"
   },
   "outputs": [],
   "source": [
    "df.drop(['undefines_shows', 'measured_shows%', 'visible_shows%'], axis= 1 , inplace= True )"
   ]
  },
  {
   "cell_type": "code",
   "execution_count": 67,
   "metadata": {
    "id": "w7FefKHPHqsb"
   },
   "outputs": [],
   "source": [
    "df.drop(['avg_pay_dosmotr', 'visible_shows', 'invisible_shows'], axis= 1 , inplace= True )"
   ]
  },
  {
   "cell_type": "code",
   "execution_count": 68,
   "metadata": {
    "colab": {
     "base_uri": "https://localhost:8080/"
    },
    "executionInfo": {
     "elapsed": 2933,
     "status": "ok",
     "timestamp": 1698747026699,
     "user": {
      "displayName": "Alex TS",
      "userId": "15283370269762839357"
     },
     "user_tz": -180
    },
    "id": "AWa5hnXqEn8Q",
    "outputId": "f4b85bf9-75e2-4906-e9fc-e0464f2aabe4"
   },
   "outputs": [
    {
     "name": "stdout",
     "output_type": "stream",
     "text": [
      "<class 'pandas.core.frame.DataFrame'>\n",
      "Index: 307998 entries, 0 to 308022\n",
      "Data columns (total 34 columns):\n",
      " #   Column           Non-Null Count   Dtype \n",
      "---  ------           --------------   ----- \n",
      " 0   date             307998 non-null  object\n",
      " 1   ads_company      307998 non-null  object\n",
      " 2   ads_number       307998 non-null  int64 \n",
      " 3   condition        307998 non-null  object\n",
      " 4   sex              307998 non-null  object\n",
      " 5   payable          307998 non-null  object\n",
      " 6   age              307998 non-null  object\n",
      " 7   shows            307998 non-null  int64 \n",
      " 8   position_shows   307998 non-null  object\n",
      " 9   clicks           307998 non-null  int64 \n",
      " 10  CTR (%)          307998 non-null  object\n",
      " 11  wCTR (%)         307998 non-null  object\n",
      " 12  expanses_rub     307998 non-null  object\n",
      " 13  avg_price_click  307998 non-null  object\n",
      " 14  pay_click        307998 non-null  object\n",
      " 15  refuses          307998 non-null  object\n",
      " 16  1000_price       307998 non-null  object\n",
      " 17  pages in         307998 non-null  object\n",
      " 18  convestion%      307998 non-null  object\n",
      " 19  goal_price       307998 non-null  object\n",
      " 20  conversions      307998 non-null  object\n",
      " 21  rentable         307998 non-null  object\n",
      " 22  fraction_ads     307998 non-null  object\n",
      " 23  sum_vs           307998 non-null  object\n",
      " 24  price_vs         307998 non-null  object\n",
      " 25  vs_fraction%     307998 non-null  object\n",
      " 26  25%show          307998 non-null  object\n",
      " 27  50%show          307998 non-null  object\n",
      " 28  75%show          307998 non-null  object\n",
      " 29  100%show         307998 non-null  object\n",
      " 30  25%show%         307998 non-null  object\n",
      " 31  50%show%         307998 non-null  object\n",
      " 32  75%show%         307998 non-null  object\n",
      " 33  100%show%        307998 non-null  object\n",
      "dtypes: int64(3), object(31)\n",
      "memory usage: 82.2+ MB\n"
     ]
    }
   ],
   "source": [
    "df.info()"
   ]
  },
  {
   "cell_type": "markdown",
   "metadata": {
    "id": "PriSEphHKRR_"
   },
   "source": [
    "Удалим строки без просмотров"
   ]
  },
  {
   "cell_type": "code",
   "execution_count": 69,
   "metadata": {
    "colab": {
     "base_uri": "https://localhost:8080/"
    },
    "executionInfo": {
     "elapsed": 6,
     "status": "ok",
     "timestamp": 1698747026700,
     "user": {
      "displayName": "Alex TS",
      "userId": "15283370269762839357"
     },
     "user_tz": -180
    },
    "id": "-ooqfBFbJ-gk",
    "outputId": "a1e46d6a-331d-47c1-dd4c-a875365b6c6e"
   },
   "outputs": [
    {
     "data": {
      "text/plain": [
       "307891"
      ]
     },
     "execution_count": 69,
     "metadata": {},
     "output_type": "execute_result"
    }
   ],
   "source": [
    "df=df[df.shows>0]\n",
    "df.shape[0]"
   ]
  },
  {
   "cell_type": "markdown",
   "metadata": {
    "id": "ef7I2AiLx3hh"
   },
   "source": [
    "## Преобразование типов данных"
   ]
  },
  {
   "cell_type": "markdown",
   "metadata": {
    "id": "UU7zJcrYyw_S"
   },
   "source": [
    "Приведен даты к datetime виду"
   ]
  },
  {
   "cell_type": "code",
   "execution_count": 70,
   "metadata": {
    "colab": {
     "base_uri": "https://localhost:8080/"
    },
    "executionInfo": {
     "elapsed": 868,
     "status": "ok",
     "timestamp": 1698747027564,
     "user": {
      "displayName": "Alex TS",
      "userId": "15283370269762839357"
     },
     "user_tz": -180
    },
    "id": "sTnP_dhox58z",
    "outputId": "53546b8f-f877-44fe-d9bd-d2777c862736"
   },
   "outputs": [
    {
     "name": "stdout",
     "output_type": "stream",
     "text": [
      "<class 'pandas.core.frame.DataFrame'>\n",
      "Index: 1750 entries, 3 to 812\n",
      "Data columns (total 4 columns):\n",
      " #   Column     Non-Null Count  Dtype         \n",
      "---  ------     --------------  -----         \n",
      " 0   code       1750 non-null   int64         \n",
      " 1   first_pay  1750 non-null   datetime64[ns]\n",
      " 2   last_pay   1750 non-null   datetime64[ns]\n",
      " 3   total      1750 non-null   int64         \n",
      "dtypes: datetime64[ns](2), int64(2)\n",
      "memory usage: 68.4 KB\n"
     ]
    }
   ],
   "source": [
    "all_payers.first_pay=pd.to_datetime(all_payers.first_pay).dt.normalize()\n",
    "all_payers.last_pay=pd.to_datetime(all_payers.last_pay).dt.normalize()\n",
    "all_payers.info()"
   ]
  },
  {
   "cell_type": "code",
   "execution_count": 71,
   "metadata": {
    "colab": {
     "base_uri": "https://localhost:8080/"
    },
    "executionInfo": {
     "elapsed": 2664,
     "status": "ok",
     "timestamp": 1698747030226,
     "user": {
      "displayName": "Alex TS",
      "userId": "15283370269762839357"
     },
     "user_tz": -180
    },
    "id": "7jNpjXgm38ll",
    "outputId": "a97292df-f851-433d-9c66-9bd35f6e8dd6"
   },
   "outputs": [
    {
     "name": "stdout",
     "output_type": "stream",
     "text": [
      "<class 'pandas.core.frame.DataFrame'>\n",
      "Index: 307891 entries, 0 to 308022\n",
      "Data columns (total 34 columns):\n",
      " #   Column           Non-Null Count   Dtype         \n",
      "---  ------           --------------   -----         \n",
      " 0   date             307891 non-null  datetime64[ns]\n",
      " 1   ads_company      307891 non-null  object        \n",
      " 2   ads_number       307891 non-null  int64         \n",
      " 3   condition        307891 non-null  object        \n",
      " 4   sex              307891 non-null  object        \n",
      " 5   payable          307891 non-null  object        \n",
      " 6   age              307891 non-null  object        \n",
      " 7   shows            307891 non-null  int64         \n",
      " 8   position_shows   307891 non-null  object        \n",
      " 9   clicks           307891 non-null  int64         \n",
      " 10  CTR (%)          307891 non-null  object        \n",
      " 11  wCTR (%)         307891 non-null  object        \n",
      " 12  expanses_rub     307891 non-null  object        \n",
      " 13  avg_price_click  307891 non-null  object        \n",
      " 14  pay_click        307891 non-null  object        \n",
      " 15  refuses          307891 non-null  object        \n",
      " 16  1000_price       307891 non-null  object        \n",
      " 17  pages in         307891 non-null  object        \n",
      " 18  convestion%      307891 non-null  object        \n",
      " 19  goal_price       307891 non-null  object        \n",
      " 20  conversions      307891 non-null  object        \n",
      " 21  rentable         307891 non-null  object        \n",
      " 22  fraction_ads     307891 non-null  object        \n",
      " 23  sum_vs           307891 non-null  object        \n",
      " 24  price_vs         307891 non-null  object        \n",
      " 25  vs_fraction%     307891 non-null  object        \n",
      " 26  25%show          307891 non-null  object        \n",
      " 27  50%show          307891 non-null  object        \n",
      " 28  75%show          307891 non-null  object        \n",
      " 29  100%show         307891 non-null  object        \n",
      " 30  25%show%         307891 non-null  object        \n",
      " 31  50%show%         307891 non-null  object        \n",
      " 32  75%show%         307891 non-null  object        \n",
      " 33  100%show%        307891 non-null  object        \n",
      "dtypes: datetime64[ns](1), int64(3), object(30)\n",
      "memory usage: 82.2+ MB\n"
     ]
    }
   ],
   "source": [
    "df.date=pd.to_datetime(df.date).dt.normalize()\n",
    "df.info()"
   ]
  },
  {
   "cell_type": "markdown",
   "metadata": {
    "id": "pz3NqqiYKxOJ"
   },
   "source": [
    "## Обработка пропусков"
   ]
  },
  {
   "cell_type": "code",
   "execution_count": 72,
   "metadata": {
    "colab": {
     "base_uri": "https://localhost:8080/"
    },
    "executionInfo": {
     "elapsed": 270,
     "status": "ok",
     "timestamp": 1698747276115,
     "user": {
      "displayName": "Alex TS",
      "userId": "15283370269762839357"
     },
     "user_tz": -180
    },
    "id": "7kF2EVGCKzam",
    "outputId": "84879115-1548-4838-face-b031d53c35fb"
   },
   "outputs": [
    {
     "name": "stdout",
     "output_type": "stream",
     "text": [
      "Пропуски в графе пол 8.3 %\n"
     ]
    }
   ],
   "source": [
    "no =df[df['sex']=='не определен']\n",
    "print('Пропуски в графе пол', round(no.shape[0]/df.shape[0]*100,2), '%')"
   ]
  },
  {
   "cell_type": "markdown",
   "metadata": {
    "id": "kOcaLoGOO5yB"
   },
   "source": [
    "Количесвто таких значений менее 10%, удалим пропуски по этому полю. Пропуски в этом поле будут мешать определить кто больше платит М или Ж."
   ]
  },
  {
   "cell_type": "code",
   "execution_count": 73,
   "metadata": {
    "colab": {
     "base_uri": "https://localhost:8080/"
    },
    "executionInfo": {
     "elapsed": 3,
     "status": "ok",
     "timestamp": 1698747404259,
     "user": {
      "displayName": "Alex TS",
      "userId": "15283370269762839357"
     },
     "user_tz": -180
    },
    "id": "5LE33W9sNUmV",
    "outputId": "18aa450f-1de3-4b5c-e484-d1ccd3252d9e"
   },
   "outputs": [
    {
     "data": {
      "text/plain": [
       "282342"
      ]
     },
     "execution_count": 73,
     "metadata": {},
     "output_type": "execute_result"
    }
   ],
   "source": [
    "df =df[df['sex']!='не определен']\n",
    "df.shape[0]"
   ]
  },
  {
   "cell_type": "code",
   "execution_count": 74,
   "metadata": {
    "colab": {
     "base_uri": "https://localhost:8080/"
    },
    "executionInfo": {
     "elapsed": 1604,
     "status": "ok",
     "timestamp": 1698747433501,
     "user": {
      "displayName": "Alex TS",
      "userId": "15283370269762839357"
     },
     "user_tz": -180
    },
    "id": "45oW9hCaPKKI",
    "outputId": "2faf1800-7451-47f3-de77-504ea281b1ae"
   },
   "outputs": [
    {
     "name": "stdout",
     "output_type": "stream",
     "text": [
      "<class 'pandas.core.frame.DataFrame'>\n",
      "Index: 282342 entries, 7 to 308022\n",
      "Data columns (total 34 columns):\n",
      " #   Column           Non-Null Count   Dtype         \n",
      "---  ------           --------------   -----         \n",
      " 0   date             282342 non-null  datetime64[ns]\n",
      " 1   ads_company      282342 non-null  object        \n",
      " 2   ads_number       282342 non-null  int64         \n",
      " 3   condition        282342 non-null  object        \n",
      " 4   sex              282342 non-null  object        \n",
      " 5   payable          282342 non-null  object        \n",
      " 6   age              282342 non-null  object        \n",
      " 7   shows            282342 non-null  int64         \n",
      " 8   position_shows   282342 non-null  object        \n",
      " 9   clicks           282342 non-null  int64         \n",
      " 10  CTR (%)          282342 non-null  object        \n",
      " 11  wCTR (%)         282342 non-null  object        \n",
      " 12  expanses_rub     282342 non-null  object        \n",
      " 13  avg_price_click  282342 non-null  object        \n",
      " 14  pay_click        282342 non-null  object        \n",
      " 15  refuses          282342 non-null  object        \n",
      " 16  1000_price       282342 non-null  object        \n",
      " 17  pages in         282342 non-null  object        \n",
      " 18  convestion%      282342 non-null  object        \n",
      " 19  goal_price       282342 non-null  object        \n",
      " 20  conversions      282342 non-null  object        \n",
      " 21  rentable         282342 non-null  object        \n",
      " 22  fraction_ads     282342 non-null  object        \n",
      " 23  sum_vs           282342 non-null  object        \n",
      " 24  price_vs         282342 non-null  object        \n",
      " 25  vs_fraction%     282342 non-null  object        \n",
      " 26  25%show          282342 non-null  object        \n",
      " 27  50%show          282342 non-null  object        \n",
      " 28  75%show          282342 non-null  object        \n",
      " 29  100%show         282342 non-null  object        \n",
      " 30  25%show%         282342 non-null  object        \n",
      " 31  50%show%         282342 non-null  object        \n",
      " 32  75%show%         282342 non-null  object        \n",
      " 33  100%show%        282342 non-null  object        \n",
      "dtypes: datetime64[ns](1), int64(3), object(30)\n",
      "memory usage: 75.4+ MB\n"
     ]
    }
   ],
   "source": [
    "df.info()"
   ]
  },
  {
   "cell_type": "markdown",
   "metadata": {
    "id": "GDmKEt8dQAI9"
   },
   "source": [
    "# Анализ данных"
   ]
  },
  {
   "cell_type": "markdown",
   "metadata": {
    "id": "wjgALF5KQHKR"
   },
   "source": [
    "## Клиенты"
   ]
  },
  {
   "cell_type": "code",
   "execution_count": 75,
   "metadata": {
    "colab": {
     "base_uri": "https://localhost:8080/"
    },
    "executionInfo": {
     "elapsed": 533,
     "status": "ok",
     "timestamp": 1698747846521,
     "user": {
      "displayName": "Alex TS",
      "userId": "15283370269762839357"
     },
     "user_tz": -180
    },
    "id": "eNCV2xIkQKVK",
    "outputId": "015c224b-ea20-46cd-e917-caa08bc5bec5"
   },
   "outputs": [
    {
     "data": {
      "text/plain": [
       "sex\n",
       "женский    144193\n",
       "мужской    138149\n",
       "Name: clicks, dtype: int64"
      ]
     },
     "execution_count": 75,
     "metadata": {},
     "output_type": "execute_result"
    }
   ],
   "source": [
    "df.groupby('sex')['clicks'].count()"
   ]
  },
  {
   "cell_type": "code",
   "execution_count": 76,
   "metadata": {
    "colab": {
     "base_uri": "https://localhost:8080/",
     "height": 424
    },
    "executionInfo": {
     "elapsed": 6,
     "status": "ok",
     "timestamp": 1698750509191,
     "user": {
      "displayName": "Alex TS",
      "userId": "15283370269762839357"
     },
     "user_tz": -180
    },
    "id": "b3C9SiTeayzi",
    "outputId": "2316b625-6993-4204-f802-edbe471b8394"
   },
   "outputs": [
    {
     "data": {
      "text/plain": [
       "<Axes: ylabel='clicks'>"
      ]
     },
     "execution_count": 76,
     "metadata": {},
     "output_type": "execute_result"
    },
    {
     "data": {
      "image/png": "[encoded data removed]",
      "text/plain": [
       "<Figure size 640x480 with 1 Axes>"
      ]
     },
     "metadata": {},
     "output_type": "display_data"
    }
   ],
   "source": [
    "df.groupby('sex')['clicks'].count().plot(kind=\"pie\")"
   ]
  },
  {
   "cell_type": "markdown",
   "metadata": {
    "id": "g0XE4xhXQy3c"
   },
   "source": [
    "Кликов со стороны женщин больше."
   ]
  },
  {
   "cell_type": "code",
   "execution_count": 77,
   "metadata": {
    "colab": {
     "base_uri": "https://localhost:8080/"
    },
    "executionInfo": {
     "elapsed": 221,
     "status": "ok",
     "timestamp": 1698748072224,
     "user": {
      "displayName": "Alex TS",
      "userId": "15283370269762839357"
     },
     "user_tz": -180
    },
    "id": "O1uWFkUIRfkA",
    "outputId": "fd00e151-0b90-42c9-ec28-caa0a7df2eac"
   },
   "outputs": [
    {
     "data": {
      "text/plain": [
       "age\n",
       "18-24           42003\n",
       "25-34           55422\n",
       "35-44           54391\n",
       "45-54           47017\n",
       "младше 18       14660\n",
       "не определен    19027\n",
       "старше 55       49822\n",
       "Name: clicks, dtype: int64"
      ]
     },
     "execution_count": 77,
     "metadata": {},
     "output_type": "execute_result"
    }
   ],
   "source": [
    "df.groupby('age')['clicks'].count()"
   ]
  },
  {
   "cell_type": "markdown",
   "metadata": {
    "id": "MzYwjOqfRsU3"
   },
   "source": [
    "Мах клики от аудитории 33-44"
   ]
  },
  {
   "cell_type": "code",
   "execution_count": 84,
   "metadata": {
    "colab": {
     "base_uri": "https://localhost:8080/",
     "height": 555
    },
    "executionInfo": {
     "elapsed": 960,
     "status": "ok",
     "timestamp": 1698750562153,
     "user": {
      "displayName": "Alex TS",
      "userId": "15283370269762839357"
     },
     "user_tz": -180
    },
    "id": "bCAi2OD_bEfj",
    "outputId": "003161ec-e8db-4247-b9fd-4af80f3fee7f"
   },
   "outputs": [
    {
     "data": {
      "image/png": "[encoded data removed]",
      "text/plain": [
       "<Figure size 640x480 with 1 Axes>"
      ]
     },
     "metadata": {},
     "output_type": "display_data"
    }
   ],
   "source": [
    "x=df.groupby('age').clicks.count().sort_values(ascending=False).reset_index().age\n",
    "y=df.groupby('age').clicks.count().sort_values(ascending=False).reset_index().clicks\n",
    "fig, ax = plt.subplots()\n",
    "ax.bar(x,y)\n",
    "ax.set_ylabel('Клики')\n",
    "ax.set_xlabel('Возрастная группа')\n",
    "ax.set_title('Распеределение кликов по возрастным группам')\n",
    "ax.set_xticklabels(x, rotation=90)\n",
    "plt.show()"
   ]
  },
  {
   "cell_type": "markdown",
   "metadata": {
    "id": "v27kC6kGbMxn"
   },
   "source": [
    "Лица младше 18 лет не стоит показывать рекламу в связи со слабым интересом.\n",
    "Целевая аудитория 25-44 года, чуть меньше инетерес к проекту у 45 и старше."
   ]
  },
  {
   "cell_type": "code",
   "execution_count": null,
   "metadata": {
    "colab": {
     "base_uri": "https://localhost:8080/"
    },
    "executionInfo": {
     "elapsed": 244,
     "status": "ok",
     "timestamp": 1698748547349,
     "user": {
      "displayName": "Alex TS",
      "userId": "15283370269762839357"
     },
     "user_tz": -180
    },
    "id": "SyM-X8HsTWg_",
    "outputId": "00d9f34e-119c-4b4f-a310-662cad583bf3"
   },
   "outputs": [
    {
     "data": {
      "text/plain": [
       "payable\n",
       "1%            18181\n",
       "2-5%          63409\n",
       "6-10%         68388\n",
       "Остальные    132364\n",
       "Name: clicks, dtype: int64"
      ]
     },
     "execution_count": 38,
     "metadata": {},
     "output_type": "execute_result"
    }
   ],
   "source": [
    "df.groupby('payable')['clicks'].count()"
   ]
  },
  {
   "cell_type": "code",
   "execution_count": 86,
   "metadata": {
    "colab": {
     "base_uri": "https://localhost:8080/",
     "height": 534
    },
    "executionInfo": {
     "elapsed": 717,
     "status": "ok",
     "timestamp": 1698750466086,
     "user": {
      "displayName": "Alex TS",
      "userId": "15283370269762839357"
     },
     "user_tz": -180
    },
    "id": "pNoL-Iu5atBu",
    "outputId": "2914227a-5194-4988-94a8-6d0b9a19c881"
   },
   "outputs": [
    {
     "data": {
      "image/png": "[encoded data removed]",
      "text/plain": [
       "<Figure size 640x480 with 1 Axes>"
      ]
     },
     "metadata": {},
     "output_type": "display_data"
    }
   ],
   "source": [
    "#df.groupby('payable')['clicks'].count().plot(kind=\"bar\")\n",
    "x=df.groupby('payable').clicks.count().sort_values(ascending=False).reset_index().payable\n",
    "y=df.groupby('payable').clicks.count().sort_values(ascending=False).reset_index().clicks\n",
    "fig, ax = plt.subplots()\n",
    "ax.bar(x,y)\n",
    "ax.set_ylabel('Клики')\n",
    "ax.set_xlabel('Уровень доходов')\n",
    "ax.set_title('Распеределение кликов по уровню доходов')\n",
    "ax.set_xticklabels(x, rotation=90)\n",
    "plt.show()"
   ]
  },
  {
   "cell_type": "markdown",
   "metadata": {
    "id": "pUwf3ID4bof8"
   },
   "source": [
    "Тут видна неполнота данных, слишком большая категория остальные. Лицам из категории дохода 1% показывать рекламу нет смысла."
   ]
  },
  {
   "cell_type": "markdown",
   "metadata": {
    "id": "tHQdfSXuQ71g"
   },
   "source": [
    "## Конверсия"
   ]
  },
  {
   "cell_type": "markdown",
   "metadata": {
    "id": "_ocDxrgNT7Zh"
   },
   "source": [
    "Конверсия в Директе — это количество целевых визитов.\n",
    "\n",
    "Целевое действие — это то, ради чего проводится рекламная кампания.\n",
    "У нас нет четкого представления что за целевой визи был выбран, поэтому считаем целевым действием оплату, а данные берем из clinets+donnors\n",
    "Коэффициент конверсии (сonversion rate, CR) — это отношение количества целевых визитов к общему количеству посещений сайта или приложения. CR выражается в процентах."
   ]
  },
  {
   "cell_type": "code",
   "execution_count": 87,
   "metadata": {
    "colab": {
     "base_uri": "https://localhost:8080/"
    },
    "executionInfo": {
     "elapsed": 288,
     "status": "ok",
     "timestamp": 1698748865047,
     "user": {
      "displayName": "Alex TS",
      "userId": "15283370269762839357"
     },
     "user_tz": -180
    },
    "id": "oVyM3JInRCn0",
    "outputId": "69c8dbad-0401-443f-bf30-5bec81fe1b3c"
   },
   "outputs": [
    {
     "name": "stdout",
     "output_type": "stream",
     "text": [
      "Конверсия посетителей составила 0.619815684524442\n"
     ]
    }
   ],
   "source": [
    "conversion = all_payers.shape[0]/df.shape[0]*100\n",
    "print('Конверсия посетителей составила', conversion)"
   ]
  },
  {
   "cell_type": "markdown",
   "metadata": {
    "id": "Ry1CApi2Vptt"
   },
   "source": [
    "Видим, что коэффициент совсем маленький, нужно больше реальных данных об оплате, чтоб посчитать реальный коэффициент."
   ]
  },
  {
   "cell_type": "markdown",
   "metadata": {
    "id": "QsoQ6MZoYG9Q"
   },
   "source": [
    "Посмотрим конверсию по кликам относительно показов"
   ]
  },
  {
   "cell_type": "code",
   "execution_count": 88,
   "metadata": {
    "colab": {
     "base_uri": "https://localhost:8080/"
    },
    "executionInfo": {
     "elapsed": 252,
     "status": "ok",
     "timestamp": 1698749982924,
     "user": {
      "displayName": "Alex TS",
      "userId": "15283370269762839357"
     },
     "user_tz": -180
    },
    "id": "E20Gq_2qYL9k",
    "outputId": "03ea1668-5e78-46c4-ae44-fe8fbc2e7d37"
   },
   "outputs": [
    {
     "name": "stdout",
     "output_type": "stream",
     "text": [
      "Показы 9754192 клики 40852 конверсия 0.41881480290730383 %\n"
     ]
    }
   ],
   "source": [
    "print('Показы' , df['shows'].sum(), 'клики', df['clicks'].sum(), 'конверсия', df['clicks'].sum()/df['shows'].sum()*100, '%' )"
   ]
  },
  {
   "cell_type": "markdown",
   "metadata": {
    "id": "-UJHuu6TY_Qn"
   },
   "source": [
    "Коэффициент еще меньше, возможно стоит поработать над качеством сайта/баннеров"
   ]
  },
  {
   "cell_type": "markdown",
   "metadata": {
    "id": "KPgwcr5FWAn5"
   },
   "source": [
    "# Выводы и рекомендации"
   ]
  },
  {
   "cell_type": "markdown",
   "metadata": {
    "id": "Zu90jwylWDAL"
   },
   "source": [
    "Заказчик предоставил очень мало данных, при чем по данным метрики мы даже не знаем что является целевым визитом."
   ]
  },
  {
   "cell_type": "markdown",
   "metadata": {
    "id": "2r36adp8b-OO"
   },
   "source": [
    "Анализируя возраст пол и доход видим:\n",
    "- женщины интересуются проектом суть больше мужчин\n",
    "- Лица младше 18 лет не стоит показывать рекламу в связи со слабым интересом. Целевая аудитория 25-44 года, чуть меньше инетерес к проекту у 45 и старше.\n",
    "- Лицам из категории дохода 1% показывать рекламу нет смысла."
   ]
  },
  {
   "cell_type": "markdown",
   "metadata": {
    "id": "ZDl3vB_0cWBa"
   },
   "source": [
    "# Презентация"
   ]
  },
  {
   "cell_type": "markdown",
   "metadata": {
    "id": "JRXyQrnYcZ-l"
   },
   "source": [
    "https://raw.githubusercontent.com/Alex-tsyg/Yandex-Practicum/main/ProjectNKO/НКО%20Больничка.pdf"
   ]
  }
 ],
 "metadata": {
  "colab": {
   "provenance": [
    {
     "file_id": "1PUgyLRRbUYBQAVWGBIgVdFDo5c8-H1_h",
     "timestamp": 1699527077856
    },
    {
     "file_id": "1XwLiUHo7FJVbMdi3T9irpO4-KcasUd9j",
     "timestamp": 1699439640149
    }
   ],
   "toc_visible": true
  },
  "kernelspec": {
   "display_name": "Python 3 (ipykernel)",
   "language": "python",
   "name": "python3"
  },
  "language_info": {
   "codemirror_mode": {
    "name": "ipython",
    "version": 3
   },
   "file_extension": ".py",
   "mimetype": "text/x-python",
   "name": "python",
   "nbconvert_exporter": "python",
   "pygments_lexer": "ipython3",
   "version": "3.11.5"
  },
  "toc": {
   "base_numbering": 1,
   "nav_menu": {},
   "number_sections": true,
   "sideBar": true,
   "skip_h1_title": false,
   "title_cell": "Table of Contents",
   "title_sidebar": "Contents",
   "toc_cell": false,
   "toc_position": {},
   "toc_section_display": true,
   "toc_window_display": false
  }
 },
 "nbformat": 4,
 "nbformat_minor": 1
}
