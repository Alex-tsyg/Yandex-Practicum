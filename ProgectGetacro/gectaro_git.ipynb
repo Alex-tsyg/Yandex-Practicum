{
 "cells": [
  {
   "cell_type": "markdown",
   "id": "0d5b28b0-88f9-4a74-9d35-361403369a24",
   "metadata": {},
   "source": [
    "<b>Проект “Аналитика данных компании Gectaro”</b>"
   ]
  },
  {
   "cell_type": "markdown",
   "id": "a9f135e4-e2cf-49f9-bad3-5c07f05e4bb8",
   "metadata": {},
   "source": [
    "<b>Цель проекта</b><br>\n",
    "Проанализировать имеющиеся данные, составить портреты наиболее типичных клиентов, разобраться в причинах оттока клиентов, предложить решения по их минимизации. Для этого предлагается определить ключевые признаки для компаний, наличие которых (или их появление) влияет на отмену (отсутствие оплаты) подписки."
   ]
  },
  {
   "cell_type": "markdown",
   "id": "5f57816f-72a4-42a9-8ef0-c7948a6b5ac0",
   "metadata": {},
   "source": [
    "<b>Задачи</b><br>\n",
    "* Провести исследовательский анализ данных;\n",
    "* Сформулировать и проверить гипотезы, основываясь на имеющихся признаках;\n",
    "* Формулирование выводов по полученным результатам, подготовка презентации.\n"
   ]
  },
  {
   "cell_type": "markdown",
   "id": "9084121d-e3e1-4f62-980d-f5484d530c78",
   "metadata": {},
   "source": [
    "<b>Описание данных</b>\n",
    "* activities.csv -Файл активностей. Сгруппирован по компаниям, отсортирован по компаниям, а в пределах каждой компании - по месяцам<br>\n",
    "\n",
    "| <font face='liberation serif' size=3>Название столбца &nbsp; &nbsp; &nbsp; &nbsp; &nbsp; &nbsp; &nbsp; &nbsp; &nbsp; &nbsp; &nbsp; &nbsp; &nbsp; &nbsp; &nbsp; &nbsp; &nbsp; &nbsp;&nbsp;| <font face='liberation serif' size=3>Описание |\n",
    "|:-|:-|\n",
    "| <font face='liberation serif' size=3>Company_id | <font face='liberation serif' size=3>Идентификатор компании|\n",
    "| <font face='liberation serif' size=3>Month | <font face='liberation serif' size=3>Отчетный месяц |\n",
    "| <font face='liberation serif' size=3>Company-month-billing | <font face='liberation serif' size=3>Количество счетов, выставленных в приложении, компанией за месяц |\n",
    "| <font face='liberation serif' size=3>Company-month-stocks | <font face='liberation serif' size=3>Месячное количество складов (аренда, заказы и т.д.), используемых компанией |\n",
    "| <font face='liberation serif' size=3>Company-month-backups | <font face='liberation serif' size=3>Месячное количество бэкапов компании |\n",
    "| <font face='liberation serif' size=3>Company-month-projects | <font face='liberation serif' size=3>Месячное количество проектов компании |\n",
    "| <font face='liberation serif' size=3>Company-month-contractors | <font face='liberation serif' size=3>Месячное количество контрагентов компании |\n",
    "| <font face='liberation serif' size=3>Company-month-resource_orders | <font face='liberation serif' size=3>Месячное количество заказов материалов |пании\t \n"
   ]
  },
  {
   "cell_type": "markdown",
   "id": "c6100ea2-abce-4066-ae67-fd515386594b",
   "metadata": {},
   "source": [
    "* billing.csv -Файл платежей  <br>\n",
    "\n",
    "| <font face='liberation serif' size=3>Название столбца &nbsp; &nbsp; &nbsp; &nbsp; &nbsp; &nbsp; &nbsp; &nbsp; &nbsp; &nbsp; &nbsp; &nbsp; &nbsp; &nbsp; &nbsp; &nbsp; &nbsp; &nbsp;&nbsp;| <font face='liberation serif' size=3>Описание |\n",
    "|:-|:-|\n",
    "| <font face='liberation serif' size=3>User_id | <font face='liberation serif' size=3>Идентификатор пользователя|\n",
    "| <font face='liberation serif' size=3>Company_id | <font face='liberation serif' size=3>Идентификатор компании|\n",
    "| <font face='liberation serif' size=3>Billing_tariff_id | <font face='liberation serif' size=3>Тарифный план|\n",
    "| <font face='liberation serif' size=3>Payed_until | <font face='liberation serif' size=3>Дата, до которой подписка компании действует|\n",
    "| <font face='liberation serif' size=3>Is_payed | <font face='liberation serif' size=3>Статус оплаты|\n",
    "| <font face='liberation serif' size=3>Created_at | <font face='liberation serif' size=3>Дата создания|\n",
    "| <font face='liberation serif' size=3>Updated_at | <font face='liberation serif' size=3>Дата обновления|\n",
    "| <font face='liberation serif' size=3>Billing_tariff_price_id | <font face='liberation serif' size=3>id стоимости тарифа|\n",
    "| <font face='liberation serif' size=3>Comment | <font face='liberation serif' size=3>Комментарии|\n",
    "| <font face='liberation serif' size=3>Company_id | <font face='liberation serif' size=3>Идентификатор компании|\n",
    "| <font face='liberation serif' size=3>Pay_date | <font face='liberation serif' size=3>Дата платежа|\n",
    "<br>\n",
    "Расшифровка тарифов:\n",
    " * тарифы 1,8, 22 - тестовые, бесплатные и пробные - при анализе не учитываем <br>\n",
    " * тарифы 4, 7, 18, 11, 19 - группа старт, текущая стоимость 21166₽, мах 3 пользователя<br>\n",
    " * тарифы 2, 17 - группа базовый, текущая стоимость 33333₽, до 8 пользователей<br>\n",
    " * тарифы 9, 20 - группа бизнес, текущая стоимость 55833₽, до 15 пользователей <br>\n",
    " * тарифы 3, 10, 13, 21 -группа профи, текущая стоимость 81500₽, до 30 пользователей \n",
    "  "
   ]
  },
  {
   "cell_type": "markdown",
   "id": "962dd155-953d-44e7-b579-fda97e12cffc",
   "metadata": {},
   "source": [
    "* companies.csv -Файл компаний  <br>\n",
    "\n",
    "| <font face='liberation serif' size=3>Название столбца &nbsp; &nbsp; &nbsp; &nbsp; &nbsp; &nbsp; &nbsp; &nbsp; &nbsp; &nbsp; &nbsp; &nbsp; &nbsp; &nbsp; &nbsp; &nbsp; &nbsp; &nbsp;&nbsp;| <font face='liberation serif' size=3>Описание |\n",
    "|:-|:-|\n",
    "| <font face='liberation serif' size=3>Id | <font face='liberation serif' size=3>id компании|\n",
    "| <font face='liberation serif' size=3>Working_direction | <font face='liberation serif' size=3>id компании|\n",
    "| <font face='liberation serif' size=3>Employer_count_interval | <font face='liberation serif' size=3>id количества сотрудников|\n",
    "| <font face='liberation serif' size=3>Created_at | <font face='liberation serif' size=3>дата создания компании в системе|\n",
    "| <font face='liberation serif' size=3>Updated_at | <font face='liberation serif' size=3>дата обновления информации о компании|\n",
    "| <font face='liberation serif' size=3>Billing_tariff_id | <font face='liberation serif' size=3>id тарифа |\n",
    "| <font face='liberation serif' size=3>Billing_is_over | <font face='liberation serif' size=3>истекла ли оплата|\n"
   ]
  },
  {
   "cell_type": "markdown",
   "id": "4242c122-d012-4230-98d1-c16028e0d874",
   "metadata": {},
   "source": [
    "Расшифровка интервала сотрудников компании:\n",
    "* 1  - от 1 до 4\n",
    "* 2  - от 5 до 10\n",
    "* 3  -от 11 до 20\n",
    "* 4  -от 21 до 30\n",
    "* 5  -от 31 до 50\n",
    "* 6  -от 51 до 100\n",
    "* 7  -от100 до 200 \n",
    "* 8       >201"
   ]
  },
  {
   "cell_type": "markdown",
   "id": "0926fb41-c017-471c-a946-f194b365c713",
   "metadata": {},
   "source": [
    "* people.csv -Файл сотрудников <br>\n",
    "| <font face='liberation serif' size=3>Название столбца &nbsp; &nbsp; &nbsp; &nbsp; &nbsp; &nbsp; &nbsp; &nbsp; &nbsp; &nbsp; &nbsp; &nbsp; &nbsp; &nbsp; &nbsp; &nbsp; &nbsp; &nbsp;&nbsp;| <font face='liberation serif' size=3>Описание |\n",
    "|:-|:-|\n",
    "| <font face='liberation serif' size=3>Id | <font face='liberation serif' size=3>индекс|\n",
    "| <font face='liberation serif' size=3>Company_id | <font face='liberation serif' size=3>id компании|\n",
    "| <font face='liberation serif' size=3>User_id | <font face='liberation serif' size=3>id пользователя|\n",
    "| <font face='liberation serif' size=3>Role_id | <font face='liberation serif' size=3>id роли (должности)|\n",
    "| <font face='liberation serif' size=3>Created_at | <font face='liberation serif' size=3>дата создания пользователя|\n",
    "| <font face='liberation serif' size=3>Updated_at | <font face='liberation serif' size=3>дата обновления информации о пользователе |\n",
    "| <font face='liberation serif' size=3>Is_deleted | <font face='liberation serif' size=3>удален ли пользователь|\n",
    "| <font face='liberation serif' size=3>Deleted_at | <font face='liberation serif' size=3>дата удаления|"
   ]
  },
  {
   "cell_type": "markdown",
   "id": "54ef0315-d764-4994-bc1f-22aba5872c73",
   "metadata": {},
   "source": [
    "<b>План реализации:</b>"
   ]
  },
  {
   "cell_type": "markdown",
   "id": "f713c451-0de9-4667-a457-c9fa704853e2",
   "metadata": {},
   "source": [
    "* Загрузить данные\n",
    "* Предобработать данные\n",
    "* Провести исследовательский анализ данных\n",
    "* Сформулировать выводы\n",
    "* Подготовить презентацию\n",
    " \n"
   ]
  },
  {
   "cell_type": "markdown",
   "id": "77bdd613-153f-4156-b970-471290499a5e",
   "metadata": {},
   "source": [
    "<font face='liberation serif' size=5><b>ОГЛАВЛЕНИЕ:</b>\n",
    "<a id='start'></a><br>\n",
    "- <font face='liberation serif' size=5>[I. Подготовка к работе](#part_1)   \n",
    "- <font face='liberation serif' size=5>[II. Загрузка данных](#part_2)\n",
    "- <font face='liberation serif' size=5>[III. Преобработка данных](#part_3)\n",
    "- <font face='liberation serif' size=5>[IV. Исследовательский анализ данных](#part_4)\n",
    "- <font face='liberation serif' size=5>[V. Выводы](#part_5)\n",
    "- <font face='liberation serif' size=5>[VI. Презентация](#part_6)"
   ]
  },
  {
   "cell_type": "markdown",
   "id": "13f4a3f6-92a8-468b-8cd9-b08d622103dd",
   "metadata": {},
   "source": [
    "## <font face='Liberation serif' size=6>**I. Подготовка к работе**</font>\n",
    "<a id='part_1'></a>"
   ]
  },
  {
   "cell_type": "markdown",
   "id": "32e6b5c0-8995-4399-8dde-959447a1a1a7",
   "metadata": {},
   "source": [
    "## Загрузка библиотек и данных"
   ]
  },
  {
   "cell_type": "code",
   "execution_count": 1,
   "id": "209317dd-027e-4b38-9499-7bc42f79b5ea",
   "metadata": {},
   "outputs": [],
   "source": [
    "import pandas as pd\n",
    "from scipy.stats import pearsonr\n",
    "import numpy as np\n",
    "from datetime import datetime\n",
    "import matplotlib as mpl\n",
    "import matplotlib.pyplot as plt\n",
    "import plotly.graph_objects as go\n",
    "import plotly.express as px\n",
    "from scipy import stats as st\n",
    "import math\n",
    "import requests\n",
    "import seaborn as sns\n",
    "import re\n",
    "import calendar\n",
    "from datetime import datetime, timedelta\n",
    "from io import StringIO\n",
    "from urllib.parse import urlencode\n",
    "import warnings\n",
    "warnings.filterwarnings('ignore')\n",
    "from IPython.display import HTML, display\n",
    "from tabulate import tabulate\n",
    "#настраиваем вывод столбцоы и десятичных знаков\n",
    "pd.set_option('display.max_columns', 30)\n",
    "pd.set_option('display.float_format', '{:.2f}'.format)\n",
    "#стили графиков\n",
    "plt.style.use('seaborn-v0_8')\n",
    "sns.set_style('whitegrid')\n",
    "pd.set_option('display.max_columns', 30)\n",
    "pd.set_option('display.float_format', '{:.2f}'.format)"
   ]
  },
  {
   "cell_type": "markdown",
   "id": "a7e922e9-ab59-4194-ad29-b326555f4cff",
   "metadata": {},
   "source": [
    "### Создаем функцию анализа датасета"
   ]
  },
  {
   "cell_type": "code",
   "execution_count": 2,
   "id": "b00a4cf0-a7f0-4ae2-aded-57f155e9a946",
   "metadata": {},
   "outputs": [],
   "source": [
    "def show_stats(df: pd.core.frame.DataFrame) -> pd.core.frame.DataFrame:\n",
    "    '''\n",
    "    Функция для отображения информации о датасете\n",
    "    '''\n",
    "    start_shape = df.shape\n",
    "    mins, means, medians, maxs = [], [], [], []\n",
    "    stats_df = pd.DataFrame(index=df.columns.tolist())\n",
    "    stats_df['dtype'] = [df[col].dtypes for col in df.columns]\n",
    "    stats_df['nans_count'] = df.isna().sum().tolist()\n",
    "    stats_df['nans_ratio'] = (stats_df.nans_count / start_shape[0] * 100).round(2)\n",
    "    stats_df['duplicates_count'] = df.duplicated().sum().tolist()\n",
    "    stats_df['duplicates_ratio'] = (stats_df.duplicates_count / start_shape[0] * 100).round(2)\n",
    "    stats_df['uniques'] = [df[col].nunique() for col in df.columns]\n",
    "    numeric_columns = ['nans_count', 'nans_ratio', 'uniques', 'min', 'mean', 'max']\n",
    "    for col in df.columns:\n",
    "        if df[col].dtypes in ['int', 'float']:\n",
    "            mins.append(round(df[col].min(), 2))\n",
    "            means.append(round(df[col].mean(), 2))\n",
    "            #medians.append(round(df[col].median(), 2))\n",
    "            maxs.append(round(df[col].max(), 2))\n",
    "        else:\n",
    "            mins.append(0)\n",
    "            means.append(0)\n",
    "            #medians.append(0)\n",
    "            maxs.append(0)\n",
    "    stats_df['min'], stats_df['mean'],  stats_df['max'] = mins, means,  maxs\n",
    "    display(stats_df)"
   ]
  },
  {
   "cell_type": "markdown",
   "id": "fd98b256-28ea-4fe8-b5ef-e3c2c2f3e860",
   "metadata": {},
   "source": [
    "### Создаем функцию преобразования дат"
   ]
  },
  {
   "cell_type": "code",
   "execution_count": 3,
   "id": "b66f5773-ad76-4ad6-862b-f7143a11544b",
   "metadata": {},
   "outputs": [],
   "source": [
    "def convert_unix_time_to_datetime(unix_time):\n",
    "    return datetime.fromtimestamp(unix_time)"
   ]
  },
  {
   "cell_type": "markdown",
   "id": "2cf19676-9f39-4d56-b930-91b8b2c28581",
   "metadata": {},
   "source": [
    "### Создаем функции классификации тарифа"
   ]
  },
  {
   "cell_type": "code",
   "execution_count": 4,
   "id": "d2a54a56-b121-4fb3-b3cc-6b9f72ce63a0",
   "metadata": {},
   "outputs": [],
   "source": [
    "def cl_tariff(cell):\n",
    "    '''\n",
    "    функция классификации тарифа\n",
    "    тарифы 4, 7, 18, 11, 19 - группа старт, текущая стоимость 21166₽, мах 3 пользователя\n",
    "    тарифы 2, 17 - группа базовый, текущая стоимость 33333₽, до 8 пользователей\n",
    "    тарифы 9, 20 - группа бизнес, текущая стоимость 55833₽, до 15 пользователей\n",
    "    тарифы 3, 10, 13, 21 -группа профи, текущая стоимость 81500₽, до 30 пользователей \n",
    "    '''\n",
    "    if cell in [4, 7, 18, 11, 19 ]:\n",
    "        return 'старт'\n",
    "    if cell in [2, 7]:\n",
    "        return 'базовый'\n",
    "    if cell in [9, 20]:\n",
    "        return 'бизнес'\n",
    "    if cell in [3, 10, 13, 21]:\n",
    "        return 'профи'\n",
    "    else:\n",
    "        return np.NaN"
   ]
  },
  {
   "cell_type": "code",
   "execution_count": 5,
   "id": "1b3617fa-f059-4b3f-bc24-2967ed5158f9",
   "metadata": {},
   "outputs": [],
   "source": [
    "def sum_tariff(cell):\n",
    "    '''\n",
    "    функция денежной классификации тарифа, текущие тарифы взяты с оф сайта заказчика\n",
    "    тарифы 4, 7, 18, 11, 19 - группа старт, текущая стоимость 21166₽, мах 3 пользователя\n",
    "    тарифы 2, 17 - группа базовый, текущая стоимость 33333₽, до 8 пользователей\n",
    "    тарифы 9, 20 - группа бизнес, текущая стоимость 55833₽, до 15 пользователей\n",
    "    тарифы 3, 10, 13, 21 -группа профи, текущая стоимость 81500₽, до 30 пользователей \n",
    "    '''\n",
    "    if cell =='старт':\n",
    "        return 21166\n",
    "    if cell =='базовый':\n",
    "        return 33333\n",
    "    if cell =='бизнес':\n",
    "        return 55833\n",
    "    if cell =='профи':\n",
    "        return 81500\n",
    "    else:\n",
    "        return np.NaN"
   ]
  },
  {
   "cell_type": "markdown",
   "id": "d4a1f89a-dbf0-475f-a5f2-cd7c59d858a8",
   "metadata": {},
   "source": [
    "### Создаем функцию классификации времени"
   ]
  },
  {
   "cell_type": "code",
   "execution_count": 6,
   "id": "fa7b2768-b48e-4332-8194-fed3fa472fbd",
   "metadata": {},
   "outputs": [],
   "source": [
    "def cl_time(cell):\n",
    "    '''\n",
    "    функция денежной классификации времени жизни пользователя в системе \n",
    "    '''\n",
    "    if cell <=timedelta(days=180):\n",
    "        return 'полгода'\n",
    "    if cell <=timedelta(days=360):\n",
    "        return 'год'\n",
    "    if cell <=timedelta(days=720):\n",
    "        return '2 года' \n",
    "    if cell <=timedelta(days=1080):\n",
    "        return '3 года' \n",
    "    if cell <=timedelta(days=1440):\n",
    "        return '4 года' \n",
    "    #if cell <=timedelta(days=1800):\n",
    "    #    return '5 лет'  \n",
    "    if cell >timedelta(days=1800):\n",
    "        return 'более 5 лет'      \n",
    "        \n",
    "    else:\n",
    "        return np.NaN"
   ]
  },
  {
   "cell_type": "markdown",
   "id": "2031d3a6-1c51-4fa4-99c1-6bd0700975a6",
   "metadata": {},
   "source": [
    "<font face='liberation serif' size=4>[В начало работы](#start)"
   ]
  },
  {
   "cell_type": "markdown",
   "id": "e8910728-f696-4f6b-b1b4-4367431ff459",
   "metadata": {},
   "source": [
    "## <font face='Liberation serif' size=6>**II. Загружаем данные**</font>\n",
    "<a id='part_2'></a>"
   ]
  },
  {
   "cell_type": "code",
   "execution_count": 7,
   "id": "492539de-3a0e-478c-8b20-d74b5b7cb208",
   "metadata": {},
   "outputs": [
    {
     "data": {
      "text/html": [
       "<div>\n",
       "<style scoped>\n",
       "    .dataframe tbody tr th:only-of-type {\n",
       "        vertical-align: middle;\n",
       "    }\n",
       "\n",
       "    .dataframe tbody tr th {\n",
       "        vertical-align: top;\n",
       "    }\n",
       "\n",
       "    .dataframe thead th {\n",
       "        text-align: right;\n",
       "    }\n",
       "</style>\n",
       "<table border=\"1\" class=\"dataframe\">\n",
       "  <thead>\n",
       "    <tr style=\"text-align: right;\">\n",
       "      <th></th>\n",
       "      <th>company_id</th>\n",
       "      <th>month</th>\n",
       "      <th>company-month-billing</th>\n",
       "      <th>company-month-stocks</th>\n",
       "      <th>company-month-backups</th>\n",
       "      <th>company-month-projects</th>\n",
       "      <th>company-month-contractors</th>\n",
       "      <th>company-month-resource_orders</th>\n",
       "    </tr>\n",
       "  </thead>\n",
       "  <tbody>\n",
       "    <tr>\n",
       "      <th>0</th>\n",
       "      <td>1</td>\n",
       "      <td>2019-09-01 00:00:00+00:00</td>\n",
       "      <td>1.00</td>\n",
       "      <td>0.00</td>\n",
       "      <td>0.00</td>\n",
       "      <td>7.00</td>\n",
       "      <td>0.00</td>\n",
       "      <td>0.00</td>\n",
       "    </tr>\n",
       "    <tr>\n",
       "      <th>1</th>\n",
       "      <td>1</td>\n",
       "      <td>2019-12-01 00:00:00+00:00</td>\n",
       "      <td>1.00</td>\n",
       "      <td>0.00</td>\n",
       "      <td>0.00</td>\n",
       "      <td>2.00</td>\n",
       "      <td>1.00</td>\n",
       "      <td>0.00</td>\n",
       "    </tr>\n",
       "    <tr>\n",
       "      <th>2</th>\n",
       "      <td>1</td>\n",
       "      <td>2020-04-01 00:00:00+00:00</td>\n",
       "      <td>4.00</td>\n",
       "      <td>1.00</td>\n",
       "      <td>0.00</td>\n",
       "      <td>1.00</td>\n",
       "      <td>6.00</td>\n",
       "      <td>0.00</td>\n",
       "    </tr>\n",
       "    <tr>\n",
       "      <th>3</th>\n",
       "      <td>1</td>\n",
       "      <td>2020-07-01 00:00:00+00:00</td>\n",
       "      <td>1.00</td>\n",
       "      <td>7.00</td>\n",
       "      <td>3.00</td>\n",
       "      <td>5.00</td>\n",
       "      <td>0.00</td>\n",
       "      <td>0.00</td>\n",
       "    </tr>\n",
       "    <tr>\n",
       "      <th>4</th>\n",
       "      <td>21</td>\n",
       "      <td>2020-01-01 00:00:00+00:00</td>\n",
       "      <td>3.00</td>\n",
       "      <td>0.00</td>\n",
       "      <td>0.00</td>\n",
       "      <td>1.00</td>\n",
       "      <td>0.00</td>\n",
       "      <td>0.00</td>\n",
       "    </tr>\n",
       "  </tbody>\n",
       "</table>\n",
       "</div>"
      ],
      "text/plain": [
       "   company_id                      month  company-month-billing  \\\n",
       "0           1  2019-09-01 00:00:00+00:00                   1.00   \n",
       "1           1  2019-12-01 00:00:00+00:00                   1.00   \n",
       "2           1  2020-04-01 00:00:00+00:00                   4.00   \n",
       "3           1  2020-07-01 00:00:00+00:00                   1.00   \n",
       "4          21  2020-01-01 00:00:00+00:00                   3.00   \n",
       "\n",
       "   company-month-stocks  company-month-backups  company-month-projects  \\\n",
       "0                  0.00                   0.00                    7.00   \n",
       "1                  0.00                   0.00                    2.00   \n",
       "2                  1.00                   0.00                    1.00   \n",
       "3                  7.00                   3.00                    5.00   \n",
       "4                  0.00                   0.00                    1.00   \n",
       "\n",
       "   company-month-contractors  company-month-resource_orders  \n",
       "0                       0.00                           0.00  \n",
       "1                       1.00                           0.00  \n",
       "2                       6.00                           0.00  \n",
       "3                       0.00                           0.00  \n",
       "4                       0.00                           0.00  "
      ]
     },
     "execution_count": 7,
     "metadata": {},
     "output_type": "execute_result"
    }
   ],
   "source": [
    "#activities.csv \n",
    "base_url = 'https://cloud-api.yandex.net/v1/disk/public/resources/download?'\n",
    "public_key = 'https://disk.yandex.ru/d/ХХХ'  \n",
    "# Получаем загрузочную ссылку\n",
    "final_url = base_url + urlencode(dict(public_key=public_key))\n",
    "response = requests.get(final_url)\n",
    "download_url = response.json()['href']\n",
    "# Загружаем ссылку на файл и открываем\n",
    "download_response = requests.get(download_url)\n",
    "#print(download_url)\n",
    "activities = pd.read_csv(download_url, sep=',',index_col=0 )\n",
    "activities = activities.reset_index(drop=True)\n",
    "activities.head(5)"
   ]
  },
  {
   "cell_type": "code",
   "execution_count": 8,
   "id": "d12b06ac-5055-471e-91a8-23330497251f",
   "metadata": {},
   "outputs": [
    {
     "data": {
      "text/html": [
       "<div>\n",
       "<style scoped>\n",
       "    .dataframe tbody tr th:only-of-type {\n",
       "        vertical-align: middle;\n",
       "    }\n",
       "\n",
       "    .dataframe tbody tr th {\n",
       "        vertical-align: top;\n",
       "    }\n",
       "\n",
       "    .dataframe thead th {\n",
       "        text-align: right;\n",
       "    }\n",
       "</style>\n",
       "<table border=\"1\" class=\"dataframe\">\n",
       "  <thead>\n",
       "    <tr style=\"text-align: right;\">\n",
       "      <th></th>\n",
       "      <th>id</th>\n",
       "      <th>user_id</th>\n",
       "      <th>company_id</th>\n",
       "      <th>billing_tariff_id</th>\n",
       "      <th>payed_until</th>\n",
       "      <th>is_payed</th>\n",
       "      <th>created_at</th>\n",
       "      <th>updated_at</th>\n",
       "      <th>billing_tariff_price_id</th>\n",
       "      <th>comment</th>\n",
       "      <th>pay_date</th>\n",
       "    </tr>\n",
       "  </thead>\n",
       "  <tbody>\n",
       "    <tr>\n",
       "      <th>0</th>\n",
       "      <td>3050</td>\n",
       "      <td>567</td>\n",
       "      <td>512</td>\n",
       "      <td>3</td>\n",
       "      <td>1640153302</td>\n",
       "      <td>False</td>\n",
       "      <td>1608617302</td>\n",
       "      <td>1608617302</td>\n",
       "      <td>12.00</td>\n",
       "      <td>NaN</td>\n",
       "      <td>NaN</td>\n",
       "    </tr>\n",
       "    <tr>\n",
       "      <th>1</th>\n",
       "      <td>3051</td>\n",
       "      <td>2861</td>\n",
       "      <td>2474</td>\n",
       "      <td>7</td>\n",
       "      <td>1640131200</td>\n",
       "      <td>True</td>\n",
       "      <td>1608626162</td>\n",
       "      <td>1608626181</td>\n",
       "      <td>23.00</td>\n",
       "      <td>NaN</td>\n",
       "      <td>1608626181.00</td>\n",
       "    </tr>\n",
       "    <tr>\n",
       "      <th>2</th>\n",
       "      <td>3059</td>\n",
       "      <td>1902</td>\n",
       "      <td>1645</td>\n",
       "      <td>2</td>\n",
       "      <td>1616577484</td>\n",
       "      <td>False</td>\n",
       "      <td>1608801484</td>\n",
       "      <td>1608801484</td>\n",
       "      <td>6.00</td>\n",
       "      <td>NaN</td>\n",
       "      <td>NaN</td>\n",
       "    </tr>\n",
       "    <tr>\n",
       "      <th>3</th>\n",
       "      <td>3065</td>\n",
       "      <td>2352</td>\n",
       "      <td>2035</td>\n",
       "      <td>7</td>\n",
       "      <td>1643500799</td>\n",
       "      <td>False</td>\n",
       "      <td>1608883175</td>\n",
       "      <td>1608883175</td>\n",
       "      <td>23.00</td>\n",
       "      <td>NaN</td>\n",
       "      <td>NaN</td>\n",
       "    </tr>\n",
       "    <tr>\n",
       "      <th>4</th>\n",
       "      <td>3062</td>\n",
       "      <td>1074</td>\n",
       "      <td>926</td>\n",
       "      <td>3</td>\n",
       "      <td>1611964800</td>\n",
       "      <td>True</td>\n",
       "      <td>1608814072</td>\n",
       "      <td>1608899674</td>\n",
       "      <td>9.00</td>\n",
       "      <td>NaN</td>\n",
       "      <td>1609200000.00</td>\n",
       "    </tr>\n",
       "  </tbody>\n",
       "</table>\n",
       "</div>"
      ],
      "text/plain": [
       "     id  user_id  company_id  billing_tariff_id  payed_until  is_payed  \\\n",
       "0  3050      567         512                  3   1640153302     False   \n",
       "1  3051     2861        2474                  7   1640131200      True   \n",
       "2  3059     1902        1645                  2   1616577484     False   \n",
       "3  3065     2352        2035                  7   1643500799     False   \n",
       "4  3062     1074         926                  3   1611964800      True   \n",
       "\n",
       "   created_at  updated_at  billing_tariff_price_id comment      pay_date  \n",
       "0  1608617302  1608617302                    12.00     NaN           NaN  \n",
       "1  1608626162  1608626181                    23.00     NaN 1608626181.00  \n",
       "2  1608801484  1608801484                     6.00     NaN           NaN  \n",
       "3  1608883175  1608883175                    23.00     NaN           NaN  \n",
       "4  1608814072  1608899674                     9.00     NaN 1609200000.00  "
      ]
     },
     "execution_count": 8,
     "metadata": {},
     "output_type": "execute_result"
    }
   ],
   "source": [
    "# billing.csv\n",
    "public_key = 'https://disk.yandex.ru/d/ХХХ'  \n",
    "# Получаем загрузочную ссылку\n",
    "final_url = base_url + urlencode(dict(public_key=public_key))\n",
    "response = requests.get(final_url)\n",
    "download_url = response.json()['href']\n",
    "# Загружаем ссылку на файл и открываем\n",
    "download_response = requests.get(download_url)\n",
    "#print(download_url)\n",
    "billing = pd.read_csv(download_url, sep=',',index_col=0 ) \n",
    "billing.drop (columns=billing.columns [0], axis= 1 , inplace= True )\n",
    "billing = billing.reset_index(drop=True)\n",
    "billing.head(5)\n"
   ]
  },
  {
   "cell_type": "code",
   "execution_count": 9,
   "id": "d9bc2e0f-ebb4-4060-864d-d47776942b33",
   "metadata": {},
   "outputs": [
    {
     "data": {
      "text/html": [
       "<div>\n",
       "<style scoped>\n",
       "    .dataframe tbody tr th:only-of-type {\n",
       "        vertical-align: middle;\n",
       "    }\n",
       "\n",
       "    .dataframe tbody tr th {\n",
       "        vertical-align: top;\n",
       "    }\n",
       "\n",
       "    .dataframe thead th {\n",
       "        text-align: right;\n",
       "    }\n",
       "</style>\n",
       "<table border=\"1\" class=\"dataframe\">\n",
       "  <thead>\n",
       "    <tr style=\"text-align: right;\">\n",
       "      <th></th>\n",
       "      <th>id</th>\n",
       "      <th>working_direction</th>\n",
       "      <th>employer_count_interval</th>\n",
       "      <th>created_at</th>\n",
       "      <th>updated_at</th>\n",
       "      <th>billing_tariff_id</th>\n",
       "      <th>billing_is_over</th>\n",
       "    </tr>\n",
       "  </thead>\n",
       "  <tbody>\n",
       "    <tr>\n",
       "      <th>0</th>\n",
       "      <td>514</td>\n",
       "      <td>-</td>\n",
       "      <td>1.00</td>\n",
       "      <td>1571316635</td>\n",
       "      <td>1670298314</td>\n",
       "      <td>4.00</td>\n",
       "      <td>True</td>\n",
       "    </tr>\n",
       "    <tr>\n",
       "      <th>1</th>\n",
       "      <td>383</td>\n",
       "      <td>Строительство</td>\n",
       "      <td>2.00</td>\n",
       "      <td>1564142565</td>\n",
       "      <td>1676550050</td>\n",
       "      <td>7.00</td>\n",
       "      <td>False</td>\n",
       "    </tr>\n",
       "    <tr>\n",
       "      <th>2</th>\n",
       "      <td>495</td>\n",
       "      <td>-</td>\n",
       "      <td>1.00</td>\n",
       "      <td>1570535695</td>\n",
       "      <td>1598281714</td>\n",
       "      <td>2.00</td>\n",
       "      <td>False</td>\n",
       "    </tr>\n",
       "    <tr>\n",
       "      <th>3</th>\n",
       "      <td>724</td>\n",
       "      <td>-</td>\n",
       "      <td>1.00</td>\n",
       "      <td>1579514393</td>\n",
       "      <td>1670298294</td>\n",
       "      <td>4.00</td>\n",
       "      <td>True</td>\n",
       "    </tr>\n",
       "    <tr>\n",
       "      <th>4</th>\n",
       "      <td>471</td>\n",
       "      <td>-</td>\n",
       "      <td>1.00</td>\n",
       "      <td>1569328017</td>\n",
       "      <td>1670298360</td>\n",
       "      <td>7.00</td>\n",
       "      <td>True</td>\n",
       "    </tr>\n",
       "  </tbody>\n",
       "</table>\n",
       "</div>"
      ],
      "text/plain": [
       "    id working_direction  employer_count_interval  created_at  updated_at  \\\n",
       "0  514                 -                     1.00  1571316635  1670298314   \n",
       "1  383     Строительство                     2.00  1564142565  1676550050   \n",
       "2  495                 -                     1.00  1570535695  1598281714   \n",
       "3  724                 -                     1.00  1579514393  1670298294   \n",
       "4  471                 -                     1.00  1569328017  1670298360   \n",
       "\n",
       "   billing_tariff_id  billing_is_over  \n",
       "0               4.00             True  \n",
       "1               7.00            False  \n",
       "2               2.00            False  \n",
       "3               4.00             True  \n",
       "4               7.00             True  "
      ]
     },
     "execution_count": 9,
     "metadata": {},
     "output_type": "execute_result"
    }
   ],
   "source": [
    "# companies.csv\n",
    "public_key = 'https://disk.yandex.ru/d/ХХХ'  \n",
    "# Получаем загрузочную ссылку\n",
    "final_url = base_url + urlencode(dict(public_key=public_key))\n",
    "response = requests.get(final_url)\n",
    "download_url = response.json()['href']\n",
    "# Загружаем ссылку на файл и открываем\n",
    "download_response = requests.get(download_url)\n",
    "#print(download_url)\n",
    "companies = pd.read_csv(download_url, sep=',',index_col=0 ) \n",
    "companies = companies.reset_index(drop=True)\n",
    "companies.head(5)"
   ]
  },
  {
   "cell_type": "code",
   "execution_count": 10,
   "id": "e317e96e-a20b-446f-921b-4a9179d6bc13",
   "metadata": {},
   "outputs": [
    {
     "data": {
      "text/html": [
       "<div>\n",
       "<style scoped>\n",
       "    .dataframe tbody tr th:only-of-type {\n",
       "        vertical-align: middle;\n",
       "    }\n",
       "\n",
       "    .dataframe tbody tr th {\n",
       "        vertical-align: top;\n",
       "    }\n",
       "\n",
       "    .dataframe thead th {\n",
       "        text-align: right;\n",
       "    }\n",
       "</style>\n",
       "<table border=\"1\" class=\"dataframe\">\n",
       "  <thead>\n",
       "    <tr style=\"text-align: right;\">\n",
       "      <th></th>\n",
       "      <th>id</th>\n",
       "      <th>company_id</th>\n",
       "      <th>user_id</th>\n",
       "      <th>role_id</th>\n",
       "      <th>created_at</th>\n",
       "      <th>updated_at</th>\n",
       "      <th>is_deleted</th>\n",
       "      <th>deleted_at</th>\n",
       "    </tr>\n",
       "  </thead>\n",
       "  <tbody>\n",
       "    <tr>\n",
       "      <th>0</th>\n",
       "      <td>6601</td>\n",
       "      <td>495</td>\n",
       "      <td>NaN</td>\n",
       "      <td>7133</td>\n",
       "      <td>1570535962</td>\n",
       "      <td>1570535962</td>\n",
       "      <td>True</td>\n",
       "      <td>1594066768.00</td>\n",
       "    </tr>\n",
       "    <tr>\n",
       "      <th>1</th>\n",
       "      <td>7025</td>\n",
       "      <td>1</td>\n",
       "      <td>NaN</td>\n",
       "      <td>1</td>\n",
       "      <td>1594120484</td>\n",
       "      <td>1594120484</td>\n",
       "      <td>True</td>\n",
       "      <td>1594120488.00</td>\n",
       "    </tr>\n",
       "    <tr>\n",
       "      <th>2</th>\n",
       "      <td>7165</td>\n",
       "      <td>1255</td>\n",
       "      <td>1734.00</td>\n",
       "      <td>18085</td>\n",
       "      <td>1595438102</td>\n",
       "      <td>1595439391</td>\n",
       "      <td>True</td>\n",
       "      <td>1633960082.00</td>\n",
       "    </tr>\n",
       "    <tr>\n",
       "      <th>3</th>\n",
       "      <td>7130</td>\n",
       "      <td>1470</td>\n",
       "      <td>1703.00</td>\n",
       "      <td>1</td>\n",
       "      <td>1595234824</td>\n",
       "      <td>1595234824</td>\n",
       "      <td>False</td>\n",
       "      <td>NaN</td>\n",
       "    </tr>\n",
       "    <tr>\n",
       "      <th>4</th>\n",
       "      <td>7163</td>\n",
       "      <td>1492</td>\n",
       "      <td>1731.00</td>\n",
       "      <td>1</td>\n",
       "      <td>1595429211</td>\n",
       "      <td>1598540644</td>\n",
       "      <td>True</td>\n",
       "      <td>1620195318.00</td>\n",
       "    </tr>\n",
       "  </tbody>\n",
       "</table>\n",
       "</div>"
      ],
      "text/plain": [
       "     id  company_id  user_id  role_id  created_at  updated_at  is_deleted  \\\n",
       "0  6601         495      NaN     7133  1570535962  1570535962        True   \n",
       "1  7025           1      NaN        1  1594120484  1594120484        True   \n",
       "2  7165        1255  1734.00    18085  1595438102  1595439391        True   \n",
       "3  7130        1470  1703.00        1  1595234824  1595234824       False   \n",
       "4  7163        1492  1731.00        1  1595429211  1598540644        True   \n",
       "\n",
       "     deleted_at  \n",
       "0 1594066768.00  \n",
       "1 1594120488.00  \n",
       "2 1633960082.00  \n",
       "3           NaN  \n",
       "4 1620195318.00  "
      ]
     },
     "execution_count": 10,
     "metadata": {},
     "output_type": "execute_result"
    }
   ],
   "source": [
    "# people.csv \n",
    "public_key = 'https://disk.yandex.ru/d/ХХХ'  \n",
    "# Получаем загрузочную ссылку\n",
    "final_url = base_url + urlencode(dict(public_key=public_key))\n",
    "response = requests.get(final_url)\n",
    "download_url = response.json()['href']\n",
    "# Загружаем ссылку на файл и открываем\n",
    "download_response = requests.get(download_url)\n",
    "#print(download_url)\n",
    "people = pd.read_csv(download_url, sep=',',index_col=0 ) \n",
    "people = people.reset_index(drop=True)\n",
    "people.head(5)"
   ]
  },
  {
   "cell_type": "markdown",
   "id": "897be704-c87b-46d4-9711-3f99fe7cd2ba",
   "metadata": {},
   "source": [
    "## Проанализируем загруженные файлы"
   ]
  },
  {
   "cell_type": "code",
   "execution_count": 11,
   "id": "abfc4f59-9407-4aff-8bc8-4e0abb9484f0",
   "metadata": {},
   "outputs": [
    {
     "data": {
      "text/html": [
       "<div>\n",
       "<style scoped>\n",
       "    .dataframe tbody tr th:only-of-type {\n",
       "        vertical-align: middle;\n",
       "    }\n",
       "\n",
       "    .dataframe tbody tr th {\n",
       "        vertical-align: top;\n",
       "    }\n",
       "\n",
       "    .dataframe thead th {\n",
       "        text-align: right;\n",
       "    }\n",
       "</style>\n",
       "<table border=\"1\" class=\"dataframe\">\n",
       "  <thead>\n",
       "    <tr style=\"text-align: right;\">\n",
       "      <th></th>\n",
       "      <th>dtype</th>\n",
       "      <th>nans_count</th>\n",
       "      <th>nans_ratio</th>\n",
       "      <th>duplicates_count</th>\n",
       "      <th>duplicates_ratio</th>\n",
       "      <th>uniques</th>\n",
       "      <th>min</th>\n",
       "      <th>mean</th>\n",
       "      <th>max</th>\n",
       "    </tr>\n",
       "  </thead>\n",
       "  <tbody>\n",
       "    <tr>\n",
       "      <th>company_id</th>\n",
       "      <td>int64</td>\n",
       "      <td>0</td>\n",
       "      <td>0.00</td>\n",
       "      <td>0</td>\n",
       "      <td>0.00</td>\n",
       "      <td>716</td>\n",
       "      <td>0.00</td>\n",
       "      <td>0.00</td>\n",
       "      <td>0.00</td>\n",
       "    </tr>\n",
       "    <tr>\n",
       "      <th>month</th>\n",
       "      <td>object</td>\n",
       "      <td>0</td>\n",
       "      <td>0.00</td>\n",
       "      <td>0</td>\n",
       "      <td>0.00</td>\n",
       "      <td>63</td>\n",
       "      <td>0.00</td>\n",
       "      <td>0.00</td>\n",
       "      <td>0.00</td>\n",
       "    </tr>\n",
       "    <tr>\n",
       "      <th>company-month-billing</th>\n",
       "      <td>float64</td>\n",
       "      <td>0</td>\n",
       "      <td>0.00</td>\n",
       "      <td>0</td>\n",
       "      <td>0.00</td>\n",
       "      <td>10</td>\n",
       "      <td>0.00</td>\n",
       "      <td>0.38</td>\n",
       "      <td>16.00</td>\n",
       "    </tr>\n",
       "    <tr>\n",
       "      <th>company-month-stocks</th>\n",
       "      <td>float64</td>\n",
       "      <td>0</td>\n",
       "      <td>0.00</td>\n",
       "      <td>0</td>\n",
       "      <td>0.00</td>\n",
       "      <td>101</td>\n",
       "      <td>0.00</td>\n",
       "      <td>7.41</td>\n",
       "      <td>166.00</td>\n",
       "    </tr>\n",
       "    <tr>\n",
       "      <th>company-month-backups</th>\n",
       "      <td>float64</td>\n",
       "      <td>0</td>\n",
       "      <td>0.00</td>\n",
       "      <td>0</td>\n",
       "      <td>0.00</td>\n",
       "      <td>18</td>\n",
       "      <td>0.00</td>\n",
       "      <td>1.18</td>\n",
       "      <td>22.00</td>\n",
       "    </tr>\n",
       "    <tr>\n",
       "      <th>company-month-projects</th>\n",
       "      <td>float64</td>\n",
       "      <td>0</td>\n",
       "      <td>0.00</td>\n",
       "      <td>0</td>\n",
       "      <td>0.00</td>\n",
       "      <td>107</td>\n",
       "      <td>0.00</td>\n",
       "      <td>7.26</td>\n",
       "      <td>221.00</td>\n",
       "    </tr>\n",
       "    <tr>\n",
       "      <th>company-month-contractors</th>\n",
       "      <td>float64</td>\n",
       "      <td>0</td>\n",
       "      <td>0.00</td>\n",
       "      <td>0</td>\n",
       "      <td>0.00</td>\n",
       "      <td>135</td>\n",
       "      <td>0.00</td>\n",
       "      <td>7.91</td>\n",
       "      <td>1014.00</td>\n",
       "    </tr>\n",
       "    <tr>\n",
       "      <th>company-month-resource_orders</th>\n",
       "      <td>float64</td>\n",
       "      <td>0</td>\n",
       "      <td>0.00</td>\n",
       "      <td>0</td>\n",
       "      <td>0.00</td>\n",
       "      <td>213</td>\n",
       "      <td>0.00</td>\n",
       "      <td>10.35</td>\n",
       "      <td>1182.00</td>\n",
       "    </tr>\n",
       "  </tbody>\n",
       "</table>\n",
       "</div>"
      ],
      "text/plain": [
       "                                 dtype  nans_count  nans_ratio  \\\n",
       "company_id                       int64           0        0.00   \n",
       "month                           object           0        0.00   \n",
       "company-month-billing          float64           0        0.00   \n",
       "company-month-stocks           float64           0        0.00   \n",
       "company-month-backups          float64           0        0.00   \n",
       "company-month-projects         float64           0        0.00   \n",
       "company-month-contractors      float64           0        0.00   \n",
       "company-month-resource_orders  float64           0        0.00   \n",
       "\n",
       "                               duplicates_count  duplicates_ratio  uniques  \\\n",
       "company_id                                    0              0.00      716   \n",
       "month                                         0              0.00       63   \n",
       "company-month-billing                         0              0.00       10   \n",
       "company-month-stocks                          0              0.00      101   \n",
       "company-month-backups                         0              0.00       18   \n",
       "company-month-projects                        0              0.00      107   \n",
       "company-month-contractors                     0              0.00      135   \n",
       "company-month-resource_orders                 0              0.00      213   \n",
       "\n",
       "                               min  mean     max  \n",
       "company_id                    0.00  0.00    0.00  \n",
       "month                         0.00  0.00    0.00  \n",
       "company-month-billing         0.00  0.38   16.00  \n",
       "company-month-stocks          0.00  7.41  166.00  \n",
       "company-month-backups         0.00  1.18   22.00  \n",
       "company-month-projects        0.00  7.26  221.00  \n",
       "company-month-contractors     0.00  7.91 1014.00  \n",
       "company-month-resource_orders 0.00 10.35 1182.00  "
      ]
     },
     "metadata": {},
     "output_type": "display_data"
    }
   ],
   "source": [
    "show_stats(activities)"
   ]
  },
  {
   "cell_type": "markdown",
   "id": "79a40b9a-b239-4e27-8a2e-ec9b8e7c5b51",
   "metadata": {},
   "source": [
    "Датасет activities, представлено:\n",
    "* 716 уникальных компаний\n",
    "*  данные за 63 месяца\n",
    "*  кол-во счетов от 0 до 16 за месяц\n",
    "*  кол-во складов от 0 до 166\n",
    "*  кол-во бакапов от 0 до 22\n",
    "*  кол-во проектов от 0 до 221\n",
    "*  кол-во контрагентов от 0 до 1014\n",
    "*  кол-во заказов от 0 до 1182"
   ]
  },
  {
   "cell_type": "code",
   "execution_count": 12,
   "id": "288db559-b1a8-42e6-9731-2fb9cf4fa255",
   "metadata": {},
   "outputs": [
    {
     "data": {
      "text/html": [
       "<div>\n",
       "<style scoped>\n",
       "    .dataframe tbody tr th:only-of-type {\n",
       "        vertical-align: middle;\n",
       "    }\n",
       "\n",
       "    .dataframe tbody tr th {\n",
       "        vertical-align: top;\n",
       "    }\n",
       "\n",
       "    .dataframe thead th {\n",
       "        text-align: right;\n",
       "    }\n",
       "</style>\n",
       "<table border=\"1\" class=\"dataframe\">\n",
       "  <thead>\n",
       "    <tr style=\"text-align: right;\">\n",
       "      <th></th>\n",
       "      <th>dtype</th>\n",
       "      <th>nans_count</th>\n",
       "      <th>nans_ratio</th>\n",
       "      <th>duplicates_count</th>\n",
       "      <th>duplicates_ratio</th>\n",
       "      <th>uniques</th>\n",
       "      <th>min</th>\n",
       "      <th>mean</th>\n",
       "      <th>max</th>\n",
       "    </tr>\n",
       "  </thead>\n",
       "  <tbody>\n",
       "    <tr>\n",
       "      <th>id</th>\n",
       "      <td>int64</td>\n",
       "      <td>0</td>\n",
       "      <td>0.00</td>\n",
       "      <td>0</td>\n",
       "      <td>0.00</td>\n",
       "      <td>3480</td>\n",
       "      <td>0.00</td>\n",
       "      <td>0.00</td>\n",
       "      <td>0.00</td>\n",
       "    </tr>\n",
       "    <tr>\n",
       "      <th>user_id</th>\n",
       "      <td>int64</td>\n",
       "      <td>0</td>\n",
       "      <td>0.00</td>\n",
       "      <td>0</td>\n",
       "      <td>0.00</td>\n",
       "      <td>1841</td>\n",
       "      <td>0.00</td>\n",
       "      <td>0.00</td>\n",
       "      <td>0.00</td>\n",
       "    </tr>\n",
       "    <tr>\n",
       "      <th>company_id</th>\n",
       "      <td>int64</td>\n",
       "      <td>0</td>\n",
       "      <td>0.00</td>\n",
       "      <td>0</td>\n",
       "      <td>0.00</td>\n",
       "      <td>1841</td>\n",
       "      <td>0.00</td>\n",
       "      <td>0.00</td>\n",
       "      <td>0.00</td>\n",
       "    </tr>\n",
       "    <tr>\n",
       "      <th>billing_tariff_id</th>\n",
       "      <td>int64</td>\n",
       "      <td>0</td>\n",
       "      <td>0.00</td>\n",
       "      <td>0</td>\n",
       "      <td>0.00</td>\n",
       "      <td>13</td>\n",
       "      <td>0.00</td>\n",
       "      <td>0.00</td>\n",
       "      <td>0.00</td>\n",
       "    </tr>\n",
       "    <tr>\n",
       "      <th>payed_until</th>\n",
       "      <td>int64</td>\n",
       "      <td>0</td>\n",
       "      <td>0.00</td>\n",
       "      <td>0</td>\n",
       "      <td>0.00</td>\n",
       "      <td>1841</td>\n",
       "      <td>0.00</td>\n",
       "      <td>0.00</td>\n",
       "      <td>0.00</td>\n",
       "    </tr>\n",
       "    <tr>\n",
       "      <th>is_payed</th>\n",
       "      <td>bool</td>\n",
       "      <td>0</td>\n",
       "      <td>0.00</td>\n",
       "      <td>0</td>\n",
       "      <td>0.00</td>\n",
       "      <td>2</td>\n",
       "      <td>0.00</td>\n",
       "      <td>0.00</td>\n",
       "      <td>0.00</td>\n",
       "    </tr>\n",
       "    <tr>\n",
       "      <th>created_at</th>\n",
       "      <td>int64</td>\n",
       "      <td>0</td>\n",
       "      <td>0.00</td>\n",
       "      <td>0</td>\n",
       "      <td>0.00</td>\n",
       "      <td>3479</td>\n",
       "      <td>0.00</td>\n",
       "      <td>0.00</td>\n",
       "      <td>0.00</td>\n",
       "    </tr>\n",
       "    <tr>\n",
       "      <th>updated_at</th>\n",
       "      <td>int64</td>\n",
       "      <td>0</td>\n",
       "      <td>0.00</td>\n",
       "      <td>0</td>\n",
       "      <td>0.00</td>\n",
       "      <td>3479</td>\n",
       "      <td>0.00</td>\n",
       "      <td>0.00</td>\n",
       "      <td>0.00</td>\n",
       "    </tr>\n",
       "    <tr>\n",
       "      <th>billing_tariff_price_id</th>\n",
       "      <td>float64</td>\n",
       "      <td>0</td>\n",
       "      <td>0.00</td>\n",
       "      <td>0</td>\n",
       "      <td>0.00</td>\n",
       "      <td>47</td>\n",
       "      <td>1.00</td>\n",
       "      <td>21.02</td>\n",
       "      <td>66.00</td>\n",
       "    </tr>\n",
       "    <tr>\n",
       "      <th>comment</th>\n",
       "      <td>object</td>\n",
       "      <td>2735</td>\n",
       "      <td>78.59</td>\n",
       "      <td>0</td>\n",
       "      <td>0.00</td>\n",
       "      <td>650</td>\n",
       "      <td>0.00</td>\n",
       "      <td>0.00</td>\n",
       "      <td>0.00</td>\n",
       "    </tr>\n",
       "    <tr>\n",
       "      <th>pay_date</th>\n",
       "      <td>float64</td>\n",
       "      <td>2372</td>\n",
       "      <td>68.16</td>\n",
       "      <td>0</td>\n",
       "      <td>0.00</td>\n",
       "      <td>801</td>\n",
       "      <td>1608122607.00</td>\n",
       "      <td>1651650753.68</td>\n",
       "      <td>1710460800.00</td>\n",
       "    </tr>\n",
       "  </tbody>\n",
       "</table>\n",
       "</div>"
      ],
      "text/plain": [
       "                           dtype  nans_count  nans_ratio  duplicates_count  \\\n",
       "id                         int64           0        0.00                 0   \n",
       "user_id                    int64           0        0.00                 0   \n",
       "company_id                 int64           0        0.00                 0   \n",
       "billing_tariff_id          int64           0        0.00                 0   \n",
       "payed_until                int64           0        0.00                 0   \n",
       "is_payed                    bool           0        0.00                 0   \n",
       "created_at                 int64           0        0.00                 0   \n",
       "updated_at                 int64           0        0.00                 0   \n",
       "billing_tariff_price_id  float64           0        0.00                 0   \n",
       "comment                   object        2735       78.59                 0   \n",
       "pay_date                 float64        2372       68.16                 0   \n",
       "\n",
       "                         duplicates_ratio  uniques           min  \\\n",
       "id                                   0.00     3480          0.00   \n",
       "user_id                              0.00     1841          0.00   \n",
       "company_id                           0.00     1841          0.00   \n",
       "billing_tariff_id                    0.00       13          0.00   \n",
       "payed_until                          0.00     1841          0.00   \n",
       "is_payed                             0.00        2          0.00   \n",
       "created_at                           0.00     3479          0.00   \n",
       "updated_at                           0.00     3479          0.00   \n",
       "billing_tariff_price_id              0.00       47          1.00   \n",
       "comment                              0.00      650          0.00   \n",
       "pay_date                             0.00      801 1608122607.00   \n",
       "\n",
       "                                 mean           max  \n",
       "id                               0.00          0.00  \n",
       "user_id                          0.00          0.00  \n",
       "company_id                       0.00          0.00  \n",
       "billing_tariff_id                0.00          0.00  \n",
       "payed_until                      0.00          0.00  \n",
       "is_payed                         0.00          0.00  \n",
       "created_at                       0.00          0.00  \n",
       "updated_at                       0.00          0.00  \n",
       "billing_tariff_price_id         21.02         66.00  \n",
       "comment                          0.00          0.00  \n",
       "pay_date                1651650753.68 1710460800.00  "
      ]
     },
     "metadata": {},
     "output_type": "display_data"
    }
   ],
   "source": [
    "show_stats(billing)"
   ]
  },
  {
   "cell_type": "markdown",
   "id": "a5f5d474-fb54-46ba-8e78-04be3cc8a92f",
   "metadata": {},
   "source": [
    "В датасете billing gредставлено:\n",
    "* 1841 уникальных пользователя и 1841 уникальных ID компании\n",
    "* даты для анализа предстоит перевести в формат timedate"
   ]
  },
  {
   "cell_type": "code",
   "execution_count": 13,
   "id": "2d892ef3-469d-4600-9faa-819d10925784",
   "metadata": {},
   "outputs": [
    {
     "data": {
      "text/html": [
       "<div>\n",
       "<style scoped>\n",
       "    .dataframe tbody tr th:only-of-type {\n",
       "        vertical-align: middle;\n",
       "    }\n",
       "\n",
       "    .dataframe tbody tr th {\n",
       "        vertical-align: top;\n",
       "    }\n",
       "\n",
       "    .dataframe thead th {\n",
       "        text-align: right;\n",
       "    }\n",
       "</style>\n",
       "<table border=\"1\" class=\"dataframe\">\n",
       "  <thead>\n",
       "    <tr style=\"text-align: right;\">\n",
       "      <th></th>\n",
       "      <th>dtype</th>\n",
       "      <th>nans_count</th>\n",
       "      <th>nans_ratio</th>\n",
       "      <th>duplicates_count</th>\n",
       "      <th>duplicates_ratio</th>\n",
       "      <th>uniques</th>\n",
       "      <th>min</th>\n",
       "      <th>mean</th>\n",
       "      <th>max</th>\n",
       "    </tr>\n",
       "  </thead>\n",
       "  <tbody>\n",
       "    <tr>\n",
       "      <th>id</th>\n",
       "      <td>int64</td>\n",
       "      <td>0</td>\n",
       "      <td>0.00</td>\n",
       "      <td>0</td>\n",
       "      <td>0.00</td>\n",
       "      <td>723</td>\n",
       "      <td>0.00</td>\n",
       "      <td>0.00</td>\n",
       "      <td>0.00</td>\n",
       "    </tr>\n",
       "    <tr>\n",
       "      <th>working_direction</th>\n",
       "      <td>object</td>\n",
       "      <td>3</td>\n",
       "      <td>0.41</td>\n",
       "      <td>0</td>\n",
       "      <td>0.00</td>\n",
       "      <td>170</td>\n",
       "      <td>0.00</td>\n",
       "      <td>0.00</td>\n",
       "      <td>0.00</td>\n",
       "    </tr>\n",
       "    <tr>\n",
       "      <th>employer_count_interval</th>\n",
       "      <td>float64</td>\n",
       "      <td>0</td>\n",
       "      <td>0.00</td>\n",
       "      <td>0</td>\n",
       "      <td>0.00</td>\n",
       "      <td>8</td>\n",
       "      <td>1.00</td>\n",
       "      <td>1.52</td>\n",
       "      <td>8.00</td>\n",
       "    </tr>\n",
       "    <tr>\n",
       "      <th>created_at</th>\n",
       "      <td>int64</td>\n",
       "      <td>0</td>\n",
       "      <td>0.00</td>\n",
       "      <td>0</td>\n",
       "      <td>0.00</td>\n",
       "      <td>723</td>\n",
       "      <td>0.00</td>\n",
       "      <td>0.00</td>\n",
       "      <td>0.00</td>\n",
       "    </tr>\n",
       "    <tr>\n",
       "      <th>updated_at</th>\n",
       "      <td>int64</td>\n",
       "      <td>0</td>\n",
       "      <td>0.00</td>\n",
       "      <td>0</td>\n",
       "      <td>0.00</td>\n",
       "      <td>514</td>\n",
       "      <td>0.00</td>\n",
       "      <td>0.00</td>\n",
       "      <td>0.00</td>\n",
       "    </tr>\n",
       "    <tr>\n",
       "      <th>billing_tariff_id</th>\n",
       "      <td>float64</td>\n",
       "      <td>7</td>\n",
       "      <td>0.97</td>\n",
       "      <td>0</td>\n",
       "      <td>0.00</td>\n",
       "      <td>13</td>\n",
       "      <td>2.00</td>\n",
       "      <td>5.02</td>\n",
       "      <td>21.00</td>\n",
       "    </tr>\n",
       "    <tr>\n",
       "      <th>billing_is_over</th>\n",
       "      <td>bool</td>\n",
       "      <td>0</td>\n",
       "      <td>0.00</td>\n",
       "      <td>0</td>\n",
       "      <td>0.00</td>\n",
       "      <td>2</td>\n",
       "      <td>0.00</td>\n",
       "      <td>0.00</td>\n",
       "      <td>0.00</td>\n",
       "    </tr>\n",
       "  </tbody>\n",
       "</table>\n",
       "</div>"
      ],
      "text/plain": [
       "                           dtype  nans_count  nans_ratio  duplicates_count  \\\n",
       "id                         int64           0        0.00                 0   \n",
       "working_direction         object           3        0.41                 0   \n",
       "employer_count_interval  float64           0        0.00                 0   \n",
       "created_at                 int64           0        0.00                 0   \n",
       "updated_at                 int64           0        0.00                 0   \n",
       "billing_tariff_id        float64           7        0.97                 0   \n",
       "billing_is_over             bool           0        0.00                 0   \n",
       "\n",
       "                         duplicates_ratio  uniques  min  mean   max  \n",
       "id                                   0.00      723 0.00  0.00  0.00  \n",
       "working_direction                    0.00      170 0.00  0.00  0.00  \n",
       "employer_count_interval              0.00        8 1.00  1.52  8.00  \n",
       "created_at                           0.00      723 0.00  0.00  0.00  \n",
       "updated_at                           0.00      514 0.00  0.00  0.00  \n",
       "billing_tariff_id                    0.00       13 2.00  5.02 21.00  \n",
       "billing_is_over                      0.00        2 0.00  0.00  0.00  "
      ]
     },
     "metadata": {},
     "output_type": "display_data"
    }
   ],
   "source": [
    "show_stats(companies)"
   ]
  },
  {
   "cell_type": "markdown",
   "id": "60b3a0f9-1025-47b0-be65-2df8721aaf20",
   "metadata": {},
   "source": [
    "В датасете companies gредставлено:\n",
    "* 723 уникальных id компаний\n",
    "* 170 видов деятельности, предстоит их проверить на дубликаты\n",
    "* 13 различных тарифов\n",
    "* даты предстоит преобразовать к удобному типу"
   ]
  },
  {
   "cell_type": "code",
   "execution_count": 14,
   "id": "c1138608-d7f2-4612-a2fb-f76e2898a1ef",
   "metadata": {},
   "outputs": [
    {
     "data": {
      "text/html": [
       "<div>\n",
       "<style scoped>\n",
       "    .dataframe tbody tr th:only-of-type {\n",
       "        vertical-align: middle;\n",
       "    }\n",
       "\n",
       "    .dataframe tbody tr th {\n",
       "        vertical-align: top;\n",
       "    }\n",
       "\n",
       "    .dataframe thead th {\n",
       "        text-align: right;\n",
       "    }\n",
       "</style>\n",
       "<table border=\"1\" class=\"dataframe\">\n",
       "  <thead>\n",
       "    <tr style=\"text-align: right;\">\n",
       "      <th></th>\n",
       "      <th>dtype</th>\n",
       "      <th>nans_count</th>\n",
       "      <th>nans_ratio</th>\n",
       "      <th>duplicates_count</th>\n",
       "      <th>duplicates_ratio</th>\n",
       "      <th>uniques</th>\n",
       "      <th>min</th>\n",
       "      <th>mean</th>\n",
       "      <th>max</th>\n",
       "    </tr>\n",
       "  </thead>\n",
       "  <tbody>\n",
       "    <tr>\n",
       "      <th>id</th>\n",
       "      <td>int64</td>\n",
       "      <td>0</td>\n",
       "      <td>0.00</td>\n",
       "      <td>0</td>\n",
       "      <td>0.00</td>\n",
       "      <td>5095</td>\n",
       "      <td>0.00</td>\n",
       "      <td>0.00</td>\n",
       "      <td>0.00</td>\n",
       "    </tr>\n",
       "    <tr>\n",
       "      <th>company_id</th>\n",
       "      <td>int64</td>\n",
       "      <td>0</td>\n",
       "      <td>0.00</td>\n",
       "      <td>0</td>\n",
       "      <td>0.00</td>\n",
       "      <td>712</td>\n",
       "      <td>0.00</td>\n",
       "      <td>0.00</td>\n",
       "      <td>0.00</td>\n",
       "    </tr>\n",
       "    <tr>\n",
       "      <th>user_id</th>\n",
       "      <td>float64</td>\n",
       "      <td>1282</td>\n",
       "      <td>25.16</td>\n",
       "      <td>0</td>\n",
       "      <td>0.00</td>\n",
       "      <td>3528</td>\n",
       "      <td>1.00</td>\n",
       "      <td>7035.18</td>\n",
       "      <td>12992.00</td>\n",
       "    </tr>\n",
       "    <tr>\n",
       "      <th>role_id</th>\n",
       "      <td>int64</td>\n",
       "      <td>0</td>\n",
       "      <td>0.00</td>\n",
       "      <td>0</td>\n",
       "      <td>0.00</td>\n",
       "      <td>1411</td>\n",
       "      <td>0.00</td>\n",
       "      <td>0.00</td>\n",
       "      <td>0.00</td>\n",
       "    </tr>\n",
       "    <tr>\n",
       "      <th>created_at</th>\n",
       "      <td>int64</td>\n",
       "      <td>0</td>\n",
       "      <td>0.00</td>\n",
       "      <td>0</td>\n",
       "      <td>0.00</td>\n",
       "      <td>5019</td>\n",
       "      <td>0.00</td>\n",
       "      <td>0.00</td>\n",
       "      <td>0.00</td>\n",
       "    </tr>\n",
       "    <tr>\n",
       "      <th>updated_at</th>\n",
       "      <td>int64</td>\n",
       "      <td>0</td>\n",
       "      <td>0.00</td>\n",
       "      <td>0</td>\n",
       "      <td>0.00</td>\n",
       "      <td>5062</td>\n",
       "      <td>0.00</td>\n",
       "      <td>0.00</td>\n",
       "      <td>0.00</td>\n",
       "    </tr>\n",
       "    <tr>\n",
       "      <th>is_deleted</th>\n",
       "      <td>bool</td>\n",
       "      <td>0</td>\n",
       "      <td>0.00</td>\n",
       "      <td>0</td>\n",
       "      <td>0.00</td>\n",
       "      <td>2</td>\n",
       "      <td>0.00</td>\n",
       "      <td>0.00</td>\n",
       "      <td>0.00</td>\n",
       "    </tr>\n",
       "    <tr>\n",
       "      <th>deleted_at</th>\n",
       "      <td>float64</td>\n",
       "      <td>2915</td>\n",
       "      <td>57.21</td>\n",
       "      <td>0</td>\n",
       "      <td>0.00</td>\n",
       "      <td>2170</td>\n",
       "      <td>1548450828.00</td>\n",
       "      <td>1655728509.82</td>\n",
       "      <td>1702478252.00</td>\n",
       "    </tr>\n",
       "  </tbody>\n",
       "</table>\n",
       "</div>"
      ],
      "text/plain": [
       "              dtype  nans_count  nans_ratio  duplicates_count  \\\n",
       "id            int64           0        0.00                 0   \n",
       "company_id    int64           0        0.00                 0   \n",
       "user_id     float64        1282       25.16                 0   \n",
       "role_id       int64           0        0.00                 0   \n",
       "created_at    int64           0        0.00                 0   \n",
       "updated_at    int64           0        0.00                 0   \n",
       "is_deleted     bool           0        0.00                 0   \n",
       "deleted_at  float64        2915       57.21                 0   \n",
       "\n",
       "            duplicates_ratio  uniques           min          mean  \\\n",
       "id                      0.00     5095          0.00          0.00   \n",
       "company_id              0.00      712          0.00          0.00   \n",
       "user_id                 0.00     3528          1.00       7035.18   \n",
       "role_id                 0.00     1411          0.00          0.00   \n",
       "created_at              0.00     5019          0.00          0.00   \n",
       "updated_at              0.00     5062          0.00          0.00   \n",
       "is_deleted              0.00        2          0.00          0.00   \n",
       "deleted_at              0.00     2170 1548450828.00 1655728509.82   \n",
       "\n",
       "                     max  \n",
       "id                  0.00  \n",
       "company_id          0.00  \n",
       "user_id         12992.00  \n",
       "role_id             0.00  \n",
       "created_at          0.00  \n",
       "updated_at          0.00  \n",
       "is_deleted          0.00  \n",
       "deleted_at 1702478252.00  "
      ]
     },
     "metadata": {},
     "output_type": "display_data"
    }
   ],
   "source": [
    "show_stats(people)"
   ]
  },
  {
   "cell_type": "markdown",
   "id": "d2024ab6-4cf6-4a59-8b10-eda5e5130362",
   "metadata": {},
   "source": [
    "В датасете people gредставлено:\n",
    "* 712 уникальных id компаний\n",
    "* 3528 уникальных id пользователей\n",
    "* 1411 видов ролей пользователей\n",
    "* даты предстоит преобразовать к удобному типу"
   ]
  },
  {
   "cell_type": "markdown",
   "id": "86f055be-78a8-4348-8d84-137262c26fc2",
   "metadata": {},
   "source": [
    "### Размерность датасетов"
   ]
  },
  {
   "cell_type": "code",
   "execution_count": 15,
   "id": "2894a84b-e1a4-4e28-b04e-a691e211b538",
   "metadata": {},
   "outputs": [
    {
     "name": "stdout",
     "output_type": "stream",
     "text": [
      "Датасет activities 6316 строк и 8 столбцов\n",
      "Датасет billing 3480 строк и 11 столбцов\n",
      "Датасет companies 723 строк и 7 столбцов\n",
      "Датасет people 5095 строк и 8 столбцов\n"
     ]
    }
   ],
   "source": [
    "start_shape_activities = activities.shape\n",
    "print(f'Датасет activities {start_shape_activities[0]} строк и {start_shape_activities[1]} столбцов')\n",
    "start_shape_billing = billing.shape\n",
    "print(f'Датасет billing {start_shape_billing[0]} строк и {start_shape_billing[1]} столбцов')\n",
    "start_shape_companies = companies.shape\n",
    "print(f'Датасет companies {start_shape_companies[0]} строк и {start_shape_companies[1]} столбцов')\n",
    "start_shape_people = people.shape\n",
    "print(f'Датасет people {start_shape_people[0]} строк и {start_shape_people[1]} столбцов')\n"
   ]
  },
  {
   "cell_type": "markdown",
   "id": "633305af-f288-4caf-9e74-f05f53a32fec",
   "metadata": {},
   "source": [
    "<font face='liberation serif' size=4>[В начало работы](#start)"
   ]
  },
  {
   "cell_type": "markdown",
   "id": "f7941393-c6fe-40cc-a3aa-d88dbee85e75",
   "metadata": {},
   "source": [
    "## <font face='Liberation serif' size=6>**III. Предобработка данных**</font>\n",
    "<a id='part_3'></a>"
   ]
  },
  {
   "cell_type": "markdown",
   "id": "c6f84eae-64f2-4e70-b3ab-7f3a4d797f51",
   "metadata": {},
   "source": [
    "## Приведем названия столбцов к snake_case"
   ]
  },
  {
   "cell_type": "markdown",
   "id": "de2e0675-cfb6-4e5a-bbab-a0fc2cd3b38f",
   "metadata": {},
   "source": [
    "Для каждого файла проанализируем список текущих названий столбцов и сохраним их в columns_start, cоздадим список с новыми названиями колонок. Затем создадим словарь где ключ - старое название колоки а значение новое и выполим изменение названий колонов по словарю."
   ]
  },
  {
   "cell_type": "markdown",
   "id": "b86b0649-3ced-4905-809b-3222a944b7ec",
   "metadata": {},
   "source": [
    "### Датасет activities"
   ]
  },
  {
   "cell_type": "code",
   "execution_count": 16,
   "id": "5b8fed22-b9e2-467b-972e-13286d6ad539",
   "metadata": {},
   "outputs": [
    {
     "data": {
      "text/plain": [
       "Index(['company_id', 'month', 'company-month-billing', 'company-month-stocks',\n",
       "       'company-month-backups', 'company-month-projects',\n",
       "       'company-month-contractors', 'company-month-resource_orders'],\n",
       "      dtype='object')"
      ]
     },
     "execution_count": 16,
     "metadata": {},
     "output_type": "execute_result"
    }
   ],
   "source": [
    "activities.columns"
   ]
  },
  {
   "cell_type": "code",
   "execution_count": 17,
   "id": "91828d64-b180-4929-ba85-5e14a24a01e7",
   "metadata": {},
   "outputs": [],
   "source": [
    "activities_columns_start = activities.columns.tolist()\n",
    "activities_columns_end = ['company_id', 'month', 'billing', 'stocks', 'backups', 'projects',\n",
    "       'contractors', 'resource_orders']\n",
    "activities_col_dict = {k:v for k, v in zip(activities_columns_start, activities_columns_end)}\n",
    "activities= activities.rename(columns=activities_col_dict)"
   ]
  },
  {
   "cell_type": "code",
   "execution_count": 18,
   "id": "a1e4d089-54e5-45ff-aa29-719b22a09cc7",
   "metadata": {},
   "outputs": [
    {
     "name": "stdout",
     "output_type": "stream",
     "text": [
      "<class 'pandas.core.frame.DataFrame'>\n",
      "RangeIndex: 6316 entries, 0 to 6315\n",
      "Data columns (total 8 columns):\n",
      " #   Column           Non-Null Count  Dtype  \n",
      "---  ------           --------------  -----  \n",
      " 0   company_id       6316 non-null   int64  \n",
      " 1   month            6316 non-null   object \n",
      " 2   billing          6316 non-null   float64\n",
      " 3   stocks           6316 non-null   float64\n",
      " 4   backups          6316 non-null   float64\n",
      " 5   projects         6316 non-null   float64\n",
      " 6   contractors      6316 non-null   float64\n",
      " 7   resource_orders  6316 non-null   float64\n",
      "dtypes: float64(6), int64(1), object(1)\n",
      "memory usage: 394.9+ KB\n"
     ]
    }
   ],
   "source": [
    "activities.info()"
   ]
  },
  {
   "cell_type": "markdown",
   "id": "ded31154-6a7f-4e29-909f-1040dce09179",
   "metadata": {},
   "source": [
    "### Датасет billing"
   ]
  },
  {
   "cell_type": "code",
   "execution_count": 19,
   "id": "56b98ecc-f5f3-48f3-bdbe-533f11c8f6fc",
   "metadata": {},
   "outputs": [
    {
     "data": {
      "text/plain": [
       "Index(['id', 'user_id', 'company_id', 'billing_tariff_id', 'payed_until',\n",
       "       'is_payed', 'created_at', 'updated_at', 'billing_tariff_price_id',\n",
       "       'comment', 'pay_date'],\n",
       "      dtype='object')"
      ]
     },
     "execution_count": 19,
     "metadata": {},
     "output_type": "execute_result"
    }
   ],
   "source": [
    "billing.columns "
   ]
  },
  {
   "cell_type": "markdown",
   "id": "2b10bd68-37dc-4f83-a6a2-b7d4655be11e",
   "metadata": {},
   "source": [
    "Тут сразу все ок, нечего менять, добавим лишь столбец расшифровки тарифа"
   ]
  },
  {
   "cell_type": "code",
   "execution_count": 20,
   "id": "e7e18371-1ef7-459d-b0eb-d7cbdb5e0d55",
   "metadata": {},
   "outputs": [],
   "source": [
    "billing['tariff']= billing.billing_tariff_id.apply(cl_tariff)"
   ]
  },
  {
   "cell_type": "markdown",
   "id": "134aac93-b520-411a-bec2-aac38884c3a9",
   "metadata": {},
   "source": [
    "### Датасет companies "
   ]
  },
  {
   "cell_type": "code",
   "execution_count": 21,
   "id": "733c4c65-e164-46f7-8e25-01e69540756c",
   "metadata": {},
   "outputs": [
    {
     "data": {
      "text/plain": [
       "Index(['id', 'working_direction', 'employer_count_interval', 'created_at',\n",
       "       'updated_at', 'billing_tariff_id', 'billing_is_over'],\n",
       "      dtype='object')"
      ]
     },
     "execution_count": 21,
     "metadata": {},
     "output_type": "execute_result"
    }
   ],
   "source": [
    "companies.columns  "
   ]
  },
  {
   "cell_type": "markdown",
   "id": "aa232dc8-6c68-42c9-885a-0ee82f755bdc",
   "metadata": {},
   "source": [
    "Тут изменим лишь id на company_id и расшифруем тариф"
   ]
  },
  {
   "cell_type": "code",
   "execution_count": 22,
   "id": "18ec6ed2-30be-4a80-8a59-a1b561819083",
   "metadata": {},
   "outputs": [
    {
     "data": {
      "text/html": [
       "<div>\n",
       "<style scoped>\n",
       "    .dataframe tbody tr th:only-of-type {\n",
       "        vertical-align: middle;\n",
       "    }\n",
       "\n",
       "    .dataframe tbody tr th {\n",
       "        vertical-align: top;\n",
       "    }\n",
       "\n",
       "    .dataframe thead th {\n",
       "        text-align: right;\n",
       "    }\n",
       "</style>\n",
       "<table border=\"1\" class=\"dataframe\">\n",
       "  <thead>\n",
       "    <tr style=\"text-align: right;\">\n",
       "      <th></th>\n",
       "      <th>company_id</th>\n",
       "      <th>working_direction</th>\n",
       "      <th>employer_count_interval</th>\n",
       "      <th>created_at</th>\n",
       "      <th>updated_at</th>\n",
       "      <th>billing_tariff_id</th>\n",
       "      <th>billing_is_over</th>\n",
       "    </tr>\n",
       "  </thead>\n",
       "  <tbody>\n",
       "    <tr>\n",
       "      <th>0</th>\n",
       "      <td>514</td>\n",
       "      <td>-</td>\n",
       "      <td>1.00</td>\n",
       "      <td>1571316635</td>\n",
       "      <td>1670298314</td>\n",
       "      <td>4.00</td>\n",
       "      <td>True</td>\n",
       "    </tr>\n",
       "    <tr>\n",
       "      <th>1</th>\n",
       "      <td>383</td>\n",
       "      <td>Строительство</td>\n",
       "      <td>2.00</td>\n",
       "      <td>1564142565</td>\n",
       "      <td>1676550050</td>\n",
       "      <td>7.00</td>\n",
       "      <td>False</td>\n",
       "    </tr>\n",
       "    <tr>\n",
       "      <th>2</th>\n",
       "      <td>495</td>\n",
       "      <td>-</td>\n",
       "      <td>1.00</td>\n",
       "      <td>1570535695</td>\n",
       "      <td>1598281714</td>\n",
       "      <td>2.00</td>\n",
       "      <td>False</td>\n",
       "    </tr>\n",
       "    <tr>\n",
       "      <th>3</th>\n",
       "      <td>724</td>\n",
       "      <td>-</td>\n",
       "      <td>1.00</td>\n",
       "      <td>1579514393</td>\n",
       "      <td>1670298294</td>\n",
       "      <td>4.00</td>\n",
       "      <td>True</td>\n",
       "    </tr>\n",
       "    <tr>\n",
       "      <th>4</th>\n",
       "      <td>471</td>\n",
       "      <td>-</td>\n",
       "      <td>1.00</td>\n",
       "      <td>1569328017</td>\n",
       "      <td>1670298360</td>\n",
       "      <td>7.00</td>\n",
       "      <td>True</td>\n",
       "    </tr>\n",
       "    <tr>\n",
       "      <th>...</th>\n",
       "      <td>...</td>\n",
       "      <td>...</td>\n",
       "      <td>...</td>\n",
       "      <td>...</td>\n",
       "      <td>...</td>\n",
       "      <td>...</td>\n",
       "      <td>...</td>\n",
       "    </tr>\n",
       "    <tr>\n",
       "      <th>718</th>\n",
       "      <td>7074</td>\n",
       "      <td>-</td>\n",
       "      <td>1.00</td>\n",
       "      <td>1671548145</td>\n",
       "      <td>1709157602</td>\n",
       "      <td>7.00</td>\n",
       "      <td>True</td>\n",
       "    </tr>\n",
       "    <tr>\n",
       "      <th>719</th>\n",
       "      <td>6279</td>\n",
       "      <td>-</td>\n",
       "      <td>3.00</td>\n",
       "      <td>1656313100</td>\n",
       "      <td>1709676001</td>\n",
       "      <td>2.00</td>\n",
       "      <td>True</td>\n",
       "    </tr>\n",
       "    <tr>\n",
       "      <th>720</th>\n",
       "      <td>6256</td>\n",
       "      <td>-</td>\n",
       "      <td>1.00</td>\n",
       "      <td>1655827277</td>\n",
       "      <td>1709848801</td>\n",
       "      <td>7.00</td>\n",
       "      <td>True</td>\n",
       "    </tr>\n",
       "    <tr>\n",
       "      <th>721</th>\n",
       "      <td>5411</td>\n",
       "      <td>-</td>\n",
       "      <td>1.00</td>\n",
       "      <td>1645018850</td>\n",
       "      <td>1710233935</td>\n",
       "      <td>9.00</td>\n",
       "      <td>False</td>\n",
       "    </tr>\n",
       "    <tr>\n",
       "      <th>722</th>\n",
       "      <td>7526</td>\n",
       "      <td>Строительство частной и коммерческой недвижимо...</td>\n",
       "      <td>2.00</td>\n",
       "      <td>1678793983</td>\n",
       "      <td>1710325577</td>\n",
       "      <td>2.00</td>\n",
       "      <td>False</td>\n",
       "    </tr>\n",
       "  </tbody>\n",
       "</table>\n",
       "<p>723 rows × 7 columns</p>\n",
       "</div>"
      ],
      "text/plain": [
       "     company_id                                  working_direction  \\\n",
       "0           514                                                  -   \n",
       "1           383                                      Строительство   \n",
       "2           495                                                  -   \n",
       "3           724                                                  -   \n",
       "4           471                                                  -   \n",
       "..          ...                                                ...   \n",
       "718        7074                                                  -   \n",
       "719        6279                                                  -   \n",
       "720        6256                                                  -   \n",
       "721        5411                                                  -   \n",
       "722        7526  Строительство частной и коммерческой недвижимо...   \n",
       "\n",
       "     employer_count_interval  created_at  updated_at  billing_tariff_id  \\\n",
       "0                       1.00  1571316635  1670298314               4.00   \n",
       "1                       2.00  1564142565  1676550050               7.00   \n",
       "2                       1.00  1570535695  1598281714               2.00   \n",
       "3                       1.00  1579514393  1670298294               4.00   \n",
       "4                       1.00  1569328017  1670298360               7.00   \n",
       "..                       ...         ...         ...                ...   \n",
       "718                     1.00  1671548145  1709157602               7.00   \n",
       "719                     3.00  1656313100  1709676001               2.00   \n",
       "720                     1.00  1655827277  1709848801               7.00   \n",
       "721                     1.00  1645018850  1710233935               9.00   \n",
       "722                     2.00  1678793983  1710325577               2.00   \n",
       "\n",
       "     billing_is_over  \n",
       "0               True  \n",
       "1              False  \n",
       "2              False  \n",
       "3               True  \n",
       "4               True  \n",
       "..               ...  \n",
       "718             True  \n",
       "719             True  \n",
       "720             True  \n",
       "721            False  \n",
       "722            False  \n",
       "\n",
       "[723 rows x 7 columns]"
      ]
     },
     "execution_count": 22,
     "metadata": {},
     "output_type": "execute_result"
    }
   ],
   "source": [
    "companies.rename({'id':'company_id'}, axis=1)"
   ]
  },
  {
   "cell_type": "code",
   "execution_count": 23,
   "id": "3942fffc-05db-4755-9875-93b2a5497ba1",
   "metadata": {},
   "outputs": [],
   "source": [
    "companies['tariff']= companies.billing_tariff_id.apply(cl_tariff)"
   ]
  },
  {
   "cell_type": "markdown",
   "id": "c9937070-b1a7-4864-8f92-80daaffa7dfb",
   "metadata": {},
   "source": [
    "### Датасет people  "
   ]
  },
  {
   "cell_type": "code",
   "execution_count": 24,
   "id": "86fc32ce-e196-4879-b50e-1b294546e1e7",
   "metadata": {},
   "outputs": [
    {
     "data": {
      "text/plain": [
       "Index(['id', 'company_id', 'user_id', 'role_id', 'created_at', 'updated_at',\n",
       "       'is_deleted', 'deleted_at'],\n",
       "      dtype='object')"
      ]
     },
     "execution_count": 24,
     "metadata": {},
     "output_type": "execute_result"
    }
   ],
   "source": [
    "people.columns   "
   ]
  },
  {
   "cell_type": "markdown",
   "id": "eb316eda-e900-489f-8043-4ef8c4903bb6",
   "metadata": {},
   "source": [
    "Тут нет необходимости переименовыввать"
   ]
  },
  {
   "cell_type": "markdown",
   "id": "9f3978dc-6fe4-40d2-9e96-349ea1f2cdc9",
   "metadata": {},
   "source": [
    "## Проверим дубликаты и записи с тестовыми тарифами"
   ]
  },
  {
   "cell_type": "markdown",
   "id": "a30db715-f2e6-4a54-b95d-6ea285b9f0a5",
   "metadata": {},
   "source": [
    "### Полные дубликаты"
   ]
  },
  {
   "cell_type": "code",
   "execution_count": 25,
   "id": "7b17db23-0b65-4f4a-bf08-a1cd945cec90",
   "metadata": {},
   "outputs": [
    {
     "name": "stdout",
     "output_type": "stream",
     "text": [
      "Найдено 0 полных дубликатов\n",
      "Найдено 0 полных дубликатов\n",
      "Найдено 0 полных дубликатов\n",
      "Найдено 0 полных дубликатов\n"
     ]
    }
   ],
   "source": [
    "print('Найдено',activities.duplicated().sum(),'полных дубликатов')\n",
    "print('Найдено',billing.duplicated().sum(),'полных дубликатов')\n",
    "print('Найдено',companies.duplicated().sum(),'полных дубликатов')\n",
    "print('Найдено',people.duplicated().sum(),'полных дубликатов')"
   ]
  },
  {
   "cell_type": "markdown",
   "id": "245e18d2-f2da-4357-9e9b-ddb2ca71efe6",
   "metadata": {},
   "source": [
    "### Поверим неявные дубликаты "
   ]
  },
  {
   "cell_type": "code",
   "execution_count": 26,
   "id": "711439d1",
   "metadata": {},
   "outputs": [
    {
     "name": "stdout",
     "output_type": "stream",
     "text": [
      "При поиске по связке User_id+ Company_id+Billing_tariff_id+pay_date+payed_until найдено 64 неявных дубликатов\n"
     ]
    }
   ],
   "source": [
    "dpl=billing.duplicated(subset=['user_id', 'company_id','billing_tariff_id','pay_date','payed_until']).sum()\n",
    "print('При поиске по связке User_id+ Company_id+Billing_tariff_id+pay_date+payed_until найдено',dpl, 'неявных дубликатов')"
   ]
  },
  {
   "cell_type": "markdown",
   "id": "3db66c95-76bc-44f8-9cb6-79bf4c378a26",
   "metadata": {},
   "source": [
    "Эти дубликаты пока оставим, при необходимости очистим их на этапе слияния файлов."
   ]
  },
  {
   "cell_type": "markdown",
   "id": "1bb6aaf0-5904-4849-bb88-fcf0c1a588d9",
   "metadata": {},
   "source": [
    "### Проверим неявные дубликаты в тестовых данных"
   ]
  },
  {
   "cell_type": "code",
   "execution_count": 27,
   "id": "3538126c-9e40-4b45-a384-209131559a3a",
   "metadata": {},
   "outputs": [
    {
     "data": {
      "text/plain": [
       "171"
      ]
     },
     "execution_count": 27,
     "metadata": {},
     "output_type": "execute_result"
    }
   ],
   "source": [
    "len(companies['working_direction'].unique())"
   ]
  },
  {
   "cell_type": "markdown",
   "id": "f07f15e0-68e3-4529-96a0-a9ff6a0f1a13",
   "metadata": {},
   "source": [
    "171! вид деятельности. Очень похоже что поля заполняется вручную как тектсовый ввод при регистрации."
   ]
  },
  {
   "cell_type": "code",
   "execution_count": 28,
   "id": "b41cb02f-d065-4f47-a419-1e8dea77e4fc",
   "metadata": {},
   "outputs": [],
   "source": [
    "companies['working_direction'] = companies['working_direction'].str.lower().str.replace('-', '').str.strip()\n"
   ]
  },
  {
   "cell_type": "code",
   "execution_count": 29,
   "id": "2ddfeea4-1c48-49e9-bf5b-e1877f49d917",
   "metadata": {},
   "outputs": [],
   "source": [
    "companies['working_direction']=companies['working_direction'].replace(r'^\\s*$', np.nan, regex=True)"
   ]
  },
  {
   "cell_type": "code",
   "execution_count": 30,
   "id": "df8365b2-6a26-43a7-ace3-d84c2f5cd793",
   "metadata": {},
   "outputs": [
    {
     "data": {
      "text/plain": [
       "array([nan, 'строительство', 'генеральный подрядчик',\n",
       "       'строительная компания', 'ремонт помещений', 'ремонт и отделка',\n",
       "       'строительство домов', 'телемаркетинг', 'ремонт',\n",
       "       'ремонт и отделка помещений', 'малоэтажное строительство',\n",
       "       'отделка', 'проектирование и строительство ресторанов',\n",
       "       'строительство  и отделка', 'ремонты', 'электромонтажные работы',\n",
       "       'строительная компания (тест)', 'строительство и ремонт',\n",
       "       'демонтажные работы', 'строительство рыбоводных ферм',\n",
       "       'строительномонтажные работы', 'строительство каркасных домов',\n",
       "       'дизайн интерьеров', 'ремонтные работы', 'ремонтностроительная',\n",
       "       'ремонт под ключ', 'электромонтаж',\n",
       "       'проектирование,  производство и строительство',\n",
       "       'строительство коттеджей', 'строительство загородных домов',\n",
       "       'электроэнергетика', 'изготовление заборов', 'ремонт квартир',\n",
       "       'девелопмент', 'строительство спортивных и детски площадок',\n",
       "       'строительная', 'частное домостроение',\n",
       "       'строительноремонтная компания', 'монолитные работы',\n",
       "       'строительство домов из кедра', 'it',\n",
       "       'вентиляция кондиционирование', 'ремонтно строительная компания',\n",
       "       'отделка домов и бань', 'инженерные системы',\n",
       "       'архитектура строительство',\n",
       "       'строительные и отделочные работы, продажа материалов',\n",
       "       'строительство зданий и сооружений',\n",
       "       'системы безопасности и автоматизации', 'производство домов',\n",
       "       'ремонт квартир и строительство небольших малоэтажных зданий',\n",
       "       'проектирование. строительство. вентилируемые фасады. производство каркасных домов',\n",
       "       'наружные сети, бетонные работы', 'монтаж инженерных систем',\n",
       "       'строительство зданий', 'водоподготовка',\n",
       "       'строительство деревянных домов.', 'строительно монтажные работы',\n",
       "       'строительство и проектирование зданий и сооружений',\n",
       "       'премиальная покраска и утепление деревянных домов', 'фасады, спк',\n",
       "       'дарить людям радость', 'ремонтно отделочные работы',\n",
       "       'строительство частных домов', 'светопрозрачные конструкции',\n",
       "       'ремонт и комплектация строительных объектов',\n",
       "       'ремонтноотделочные работы', 'строительство молоэтажных домов',\n",
       "       'слаботочные системы', 'строительство, монтаж инженерных систем',\n",
       "       'эффективные инженерные системы', 'капитальный ремонт мкд',\n",
       "       'ремонт и реконструкция помещений жилого и коммерческого назначения',\n",
       "       'внутренние отделочные работы', 'ремонт и строительство',\n",
       "       'внутренние инженерные системы', 'капитальный ремонт фкр',\n",
       "       'строительство, отделочные работы',\n",
       "       'строительство инженерных коммуникаций',\n",
       "       'строительство зданий и инженерных сетей',\n",
       "       'проектирование и строительство мостов',\n",
       "       'комплексное строительство',\n",
       "       'строительство, продажа стройматериалов', 'стройтельство',\n",
       "       'строительство энергоэффективных зданий малой этажности',\n",
       "       'металлоконструкции', 'благоустройство',\n",
       "       'производство и строительство шумозащитных экранов',\n",
       "       'проектирование производство строительство',\n",
       "       'агрегатор элитных ремонтов', 'ремонты домов и квартир',\n",
       "       'производство и строительство домов', 'малоэтажное домостроение',\n",
       "       'проектирование, строительство', 'ландшафтностроительная компания',\n",
       "       'производство модульных домов', 'строительство и монтаж',\n",
       "       'проводные и беспроводные инженерные системы \"под ключ\".',\n",
       "       'дома для хорошей жизни', 'строительство. ремонт. дизайн.',\n",
       "       'инвестиционностроительная компания',\n",
       "       'строительство бассейнов, домов, ремонт квартир и офисов',\n",
       "       'общестроительные работы', 'дизайн, отделка, мебель', 'кап.ремонт',\n",
       "       'продажа домов', 'капитальное строительство',\n",
       "       'строительство жилых и нежилых зданий (основной)',\n",
       "       'комплексные ремонты', 'генеральный подряд',\n",
       "       'кровля, фасады, внутренняя отделка', 'строительство, ремонт',\n",
       "       'облицовка фасадов', 'ремонт, дизайн, строительство',\n",
       "       'строительство быстровозводимых зданий',\n",
       "       'модульное строительство домов и бань', 'загородное строительство',\n",
       "       'чистовая отделка квартир', 'ремонтностроительная компания',\n",
       "       'строительство объектов связи',\n",
       "       'проектирование и строительство инженерных систем',\n",
       "       'отделочные работы', 'строительство жилых и нежилых зданий',\n",
       "       'строительство энергетических обьектов',\n",
       "       'строительство из лстк и фпб', 'строительство и застройка',\n",
       "       'строительство и проектирование', 'деревья',\n",
       "       'строительномонтажноремонтные работы',\n",
       "       'компания по строительству каркасных домов и бань',\n",
       "       'снабжение и строительство недвижимости', 'строительномонтажная',\n",
       "       'ремонт квартир и загородной недвижимости',\n",
       "       'ремонт/отделка помещений', 'фасады остекление',\n",
       "       'строительство жилых и не жилых зданий',\n",
       "       'строительномонтажное направление. электроснабжение электрификация .',\n",
       "       'строительно отделочные работы',\n",
       "       'гидроизоляция, ремонт, строительство',\n",
       "       'отделочные работы моп, тц, офисы',\n",
       "       'строительство объектов энергетики', 'генподряд',\n",
       "       'создание объектов спа и велнесс',\n",
       "       'строительство частной и коммерческой недвижимости с 2008 г.'],\n",
       "      dtype=object)"
      ]
     },
     "execution_count": 30,
     "metadata": {},
     "output_type": "execute_result"
    }
   ],
   "source": [
    "companies['working_direction'].unique()"
   ]
  },
  {
   "cell_type": "code",
   "execution_count": 31,
   "id": "cb068285-f9a6-437e-a4ce-e65d42e879e8",
   "metadata": {},
   "outputs": [
    {
     "data": {
      "text/plain": [
       "144"
      ]
     },
     "execution_count": 31,
     "metadata": {},
     "output_type": "execute_result"
    }
   ],
   "source": [
    "len(companies['working_direction'].unique())"
   ]
  },
  {
   "cell_type": "markdown",
   "id": "bad660bf-4f75-427c-97a0-1aa44e191532",
   "metadata": {},
   "source": [
    "Осталось 144 типа видов деятельности"
   ]
  },
  {
   "cell_type": "markdown",
   "id": "e270b215-b538-4ffc-9c78-2f28e6395179",
   "metadata": {},
   "source": [
    "### Проверим нет ли бесплатных/тестовых тарифов"
   ]
  },
  {
   "cell_type": "code",
   "execution_count": 32,
   "id": "ae11c09a-4813-4570-a040-6106dd24052e",
   "metadata": {},
   "outputs": [
    {
     "data": {
      "text/plain": [
       "[2.0, 3.0, 4.0, 6.0, 7.0, 9.0, 10.0, nan, 11.0, 13.0, 17.0, 19.0, 20.0, 21.0]"
      ]
     },
     "execution_count": 32,
     "metadata": {},
     "output_type": "execute_result"
    }
   ],
   "source": [
    "sorted(companies.billing_tariff_id.unique())"
   ]
  },
  {
   "cell_type": "code",
   "execution_count": 33,
   "id": "30c882fe-5362-4bef-808c-2d91f133168b",
   "metadata": {},
   "outputs": [
    {
     "data": {
      "text/plain": [
       "[2, 3, 4, 6, 7, 9, 10, 11, 13, 17, 19, 20, 21]"
      ]
     },
     "execution_count": 33,
     "metadata": {},
     "output_type": "execute_result"
    }
   ],
   "source": [
    "sorted(billing.billing_tariff_id.unique())"
   ]
  },
  {
   "cell_type": "markdown",
   "id": "2f1fe17f-4b05-4c9e-bae9-7ab77b5a3a03",
   "metadata": {},
   "source": [
    "Тарифов 1,8 и 22 нет в списке тарифов, удалять нечего."
   ]
  },
  {
   "cell_type": "markdown",
   "id": "c2be8527-30d6-4352-b232-3e7a45101184",
   "metadata": {},
   "source": [
    "## Проверим пропуски"
   ]
  },
  {
   "cell_type": "code",
   "execution_count": 34,
   "id": "d1ad6c64-cd5e-417d-87da-ac5570e1b548",
   "metadata": {},
   "outputs": [
    {
     "data": {
      "text/plain": [
       "company_id         0\n",
       "month              0\n",
       "billing            0\n",
       "stocks             0\n",
       "backups            0\n",
       "projects           0\n",
       "contractors        0\n",
       "resource_orders    0\n",
       "dtype: int64"
      ]
     },
     "execution_count": 34,
     "metadata": {},
     "output_type": "execute_result"
    }
   ],
   "source": [
    "activities.isna().sum()"
   ]
  },
  {
   "cell_type": "markdown",
   "id": "abb19cd8-0f85-4e29-9788-90c70e2e160d",
   "metadata": {},
   "source": [
    "Пропусков нет"
   ]
  },
  {
   "cell_type": "code",
   "execution_count": 35,
   "id": "39ff62aa-bbe8-4b79-ba80-2e2e9e95caf3",
   "metadata": {},
   "outputs": [
    {
     "data": {
      "text/plain": [
       "id                         0.00\n",
       "user_id                    0.00\n",
       "company_id                 0.00\n",
       "billing_tariff_id          0.00\n",
       "payed_until                0.00\n",
       "is_payed                   0.00\n",
       "created_at                 0.00\n",
       "updated_at                 0.00\n",
       "billing_tariff_price_id    0.00\n",
       "comment                   78.59\n",
       "pay_date                  68.16\n",
       "tariff                     1.47\n",
       "dtype: float64"
      ]
     },
     "execution_count": 35,
     "metadata": {},
     "output_type": "execute_result"
    }
   ],
   "source": [
    "billing.isna().mean() * 100"
   ]
  },
  {
   "cell_type": "markdown",
   "id": "4c373285-9ec6-45f3-9870-9e516c9ec3b5",
   "metadata": {},
   "source": [
    "Пропуски в полях comment и pay_date. \n",
    "Комментарий - поле необязательное, его заполнение можно игнорировать\n",
    "Дата платежа может быть не заполнена, т.к. платежа не было. Подозрительно что почти 70% данных имеют пропуск в этом поле. Проверим является ли это поле показателем ухода клиента, для этого проверим показатель пропусков у клиентов с признаком оплачено."
   ]
  },
  {
   "cell_type": "code",
   "execution_count": 36,
   "id": "a6992fda-cc3b-4b7e-b16e-e6fbad8e4a71",
   "metadata": {},
   "outputs": [
    {
     "name": "stdout",
     "output_type": "stream",
     "text": [
      "% пропусков даты платежа у оплативших 21.95\n"
     ]
    }
   ],
   "source": [
    "print('% пропусков даты платежа у оплативших', round(billing[billing['is_payed']==1].pay_date.isna().mean() * 100,2))"
   ]
  },
  {
   "cell_type": "markdown",
   "id": "59333fbe-c33f-4f45-b27e-3c34b50cfa77",
   "metadata": {},
   "source": [
    "Как видим, это поле не является показателем платежа, просто часть данных не заполнена, восстановить пропуски по имеющимся данным мы не сможем."
   ]
  },
  {
   "cell_type": "code",
   "execution_count": 37,
   "id": "44cf5655-ca3e-49eb-89f7-40af5a8ab363",
   "metadata": {},
   "outputs": [
    {
     "data": {
      "text/plain": [
       "id                         0.00\n",
       "working_direction         63.76\n",
       "employer_count_interval    0.00\n",
       "created_at                 0.00\n",
       "updated_at                 0.00\n",
       "billing_tariff_id          0.97\n",
       "billing_is_over            0.00\n",
       "tariff                     3.04\n",
       "dtype: float64"
      ]
     },
     "execution_count": 37,
     "metadata": {},
     "output_type": "execute_result"
    }
   ],
   "source": [
    "companies.isna().mean() * 100"
   ]
  },
  {
   "cell_type": "markdown",
   "id": "358de07f-b9c3-4667-9d87-9e33c92c52ac",
   "metadata": {},
   "source": [
    "Есть пропуски в сфере деятельности и тарифе."
   ]
  },
  {
   "cell_type": "code",
   "execution_count": 38,
   "id": "0f72ea17-cf76-41fb-baa5-b61725830d8f",
   "metadata": {},
   "outputs": [
    {
     "name": "stdout",
     "output_type": "stream",
     "text": [
      "Нет тарифа:  7\n"
     ]
    }
   ],
   "source": [
    "print('Нет тарифа: ', companies.billing_tariff_id.isna().sum())"
   ]
  },
  {
   "cell_type": "markdown",
   "id": "912937b1-41f5-46bc-ab8d-0e3828debea9",
   "metadata": {},
   "source": [
    "Всего 7 компаний без тарифа, удалим их"
   ]
  },
  {
   "cell_type": "code",
   "execution_count": 39,
   "id": "2f29ae43-b3cc-4cef-aa4e-d11e7e5bfa21",
   "metadata": {},
   "outputs": [],
   "source": [
    "companies = companies[companies['billing_tariff_id'].notna()]"
   ]
  },
  {
   "cell_type": "code",
   "execution_count": 40,
   "id": "d757b1ea-2756-4dd1-b081-e094d6b7d339",
   "metadata": {},
   "outputs": [
    {
     "data": {
      "text/plain": [
       "id            0.00\n",
       "company_id    0.00\n",
       "user_id      25.16\n",
       "role_id       0.00\n",
       "created_at    0.00\n",
       "updated_at    0.00\n",
       "is_deleted    0.00\n",
       "deleted_at   57.21\n",
       "dtype: float64"
      ]
     },
     "execution_count": 40,
     "metadata": {},
     "output_type": "execute_result"
    }
   ],
   "source": [
    "people.isna().mean() * 100"
   ]
  },
  {
   "cell_type": "markdown",
   "id": "701293cf-461f-42d0-a3c3-d330d82ff477",
   "metadata": {},
   "source": [
    "Пропуски в ID пользователя и в дате удаления. Дата удаления не заполена если пользователь активен. А отсутсвтие User_id при заполненных остальных полях явно указывает на ошибку в заполнении данных, восстановить заполнение поля мы не сможем."
   ]
  },
  {
   "cell_type": "markdown",
   "id": "d1cc1edb-18ab-4a53-87a7-63ad4e66c975",
   "metadata": {},
   "source": [
    "## Типы данных"
   ]
  },
  {
   "cell_type": "markdown",
   "id": "02a17d8d-0ab9-47e1-ad9b-a522e3d9da83",
   "metadata": {},
   "source": [
    "<font face='Liberation serif' size=4 color='blue'>activities</font>"
   ]
  },
  {
   "cell_type": "code",
   "execution_count": 41,
   "id": "abd6fd77-c7bb-4d6d-a6a5-d36df76f3dd7",
   "metadata": {},
   "outputs": [
    {
     "name": "stdout",
     "output_type": "stream",
     "text": [
      "<class 'pandas.core.frame.DataFrame'>\n",
      "RangeIndex: 6316 entries, 0 to 6315\n",
      "Data columns (total 8 columns):\n",
      " #   Column           Non-Null Count  Dtype  \n",
      "---  ------           --------------  -----  \n",
      " 0   company_id       6316 non-null   int64  \n",
      " 1   month            6316 non-null   object \n",
      " 2   billing          6316 non-null   float64\n",
      " 3   stocks           6316 non-null   float64\n",
      " 4   backups          6316 non-null   float64\n",
      " 5   projects         6316 non-null   float64\n",
      " 6   contractors      6316 non-null   float64\n",
      " 7   resource_orders  6316 non-null   float64\n",
      "dtypes: float64(6), int64(1), object(1)\n",
      "memory usage: 394.9+ KB\n"
     ]
    }
   ],
   "source": [
    "activities.info()"
   ]
  },
  {
   "cell_type": "markdown",
   "id": "59695438-7ea6-48b0-8261-905b5563564f",
   "metadata": {},
   "source": [
    "Переведем billing, stocks, backups. projects, contractors, resource_order к целому типу."
   ]
  },
  {
   "cell_type": "code",
   "execution_count": 42,
   "id": "3f1df74e-6f6b-4a47-8403-236d59569d47",
   "metadata": {},
   "outputs": [],
   "source": [
    "activities.billing = activities.billing.astype('int')"
   ]
  },
  {
   "cell_type": "code",
   "execution_count": 43,
   "id": "2e461291-2b36-4d7f-b5ea-33021c4229b8",
   "metadata": {},
   "outputs": [],
   "source": [
    "activities.stocks = activities.stocks.astype('int')"
   ]
  },
  {
   "cell_type": "code",
   "execution_count": 44,
   "id": "b25c6a79-e787-4d48-835b-10f5066b3cc9",
   "metadata": {},
   "outputs": [],
   "source": [
    "activities.backups = activities.backups.astype('int')"
   ]
  },
  {
   "cell_type": "code",
   "execution_count": 45,
   "id": "02ae1f28-0f6d-4efd-9251-91ebfe94a3fa",
   "metadata": {},
   "outputs": [],
   "source": [
    "activities.projects = activities.projects.astype('int')"
   ]
  },
  {
   "cell_type": "code",
   "execution_count": 46,
   "id": "974ab26b-f91a-4bb0-b87f-bc4cab912bb1",
   "metadata": {},
   "outputs": [],
   "source": [
    "activities.contractors = activities.contractors.astype('int')"
   ]
  },
  {
   "cell_type": "code",
   "execution_count": 47,
   "id": "51cbfbf7-edec-438f-a8df-68139e325656",
   "metadata": {},
   "outputs": [],
   "source": [
    "activities.resource_orders = activities.resource_orders.astype('int')"
   ]
  },
  {
   "cell_type": "markdown",
   "id": "1e67b140-ebf0-4f63-a435-2fa2d18163d5",
   "metadata": {},
   "source": [
    "<font face='Liberation serif' size=4 color='blue'>billing</font>"
   ]
  },
  {
   "cell_type": "code",
   "execution_count": 48,
   "id": "e2a79672-fe4d-436e-87ba-e6d3a4e3b3f1",
   "metadata": {},
   "outputs": [
    {
     "name": "stdout",
     "output_type": "stream",
     "text": [
      "<class 'pandas.core.frame.DataFrame'>\n",
      "RangeIndex: 3480 entries, 0 to 3479\n",
      "Data columns (total 12 columns):\n",
      " #   Column                   Non-Null Count  Dtype  \n",
      "---  ------                   --------------  -----  \n",
      " 0   id                       3480 non-null   int64  \n",
      " 1   user_id                  3480 non-null   int64  \n",
      " 2   company_id               3480 non-null   int64  \n",
      " 3   billing_tariff_id        3480 non-null   int64  \n",
      " 4   payed_until              3480 non-null   int64  \n",
      " 5   is_payed                 3480 non-null   bool   \n",
      " 6   created_at               3480 non-null   int64  \n",
      " 7   updated_at               3480 non-null   int64  \n",
      " 8   billing_tariff_price_id  3480 non-null   float64\n",
      " 9   comment                  745 non-null    object \n",
      " 10  pay_date                 1108 non-null   float64\n",
      " 11  tariff                   3429 non-null   object \n",
      "dtypes: bool(1), float64(2), int64(7), object(2)\n",
      "memory usage: 302.6+ KB\n"
     ]
    }
   ],
   "source": [
    "billing.info()"
   ]
  },
  {
   "cell_type": "markdown",
   "id": "b965822e-d4ee-440f-b221-60dd1a31a8ee",
   "metadata": {},
   "source": [
    "Изменим тип данных у дат"
   ]
  },
  {
   "cell_type": "code",
   "execution_count": 49,
   "id": "ccbc87a9-37d6-442a-87f4-db604fd85c68",
   "metadata": {},
   "outputs": [],
   "source": [
    "billing['payed_until'] = billing['payed_until'].apply(lambda x: convert_unix_time_to_datetime(x))"
   ]
  },
  {
   "cell_type": "code",
   "execution_count": 50,
   "id": "6408b488-5364-463f-9454-9be6d6d7980c",
   "metadata": {},
   "outputs": [],
   "source": [
    "billing['created_at'] = billing['created_at'].apply(lambda x: convert_unix_time_to_datetime(x))"
   ]
  },
  {
   "cell_type": "code",
   "execution_count": 51,
   "id": "1d466bf5-cbfe-4b44-a79c-0222655147f7",
   "metadata": {},
   "outputs": [],
   "source": [
    "billing['updated_at'] = billing['updated_at'].apply(lambda x: convert_unix_time_to_datetime(x))"
   ]
  },
  {
   "cell_type": "code",
   "execution_count": 52,
   "id": "0a35c9e8-c479-4e1c-8b01-28a7f90df9a9",
   "metadata": {},
   "outputs": [],
   "source": [
    "billing['pay_date']= billing['pay_date'].fillna(0)\n",
    "billing['pay_date'] = billing['pay_date'].apply(lambda x: convert_unix_time_to_datetime(x))"
   ]
  },
  {
   "cell_type": "markdown",
   "id": "fd436e45-5fef-440f-a7b2-04916429f7f7",
   "metadata": {},
   "source": [
    "<font face='Liberation serif' size=4 color='blue'>companies</font>"
   ]
  },
  {
   "cell_type": "code",
   "execution_count": 53,
   "id": "d58c3631-9316-4b37-86d5-3258520cd54e",
   "metadata": {},
   "outputs": [
    {
     "name": "stdout",
     "output_type": "stream",
     "text": [
      "Количество видов деятельности в companies 143\n"
     ]
    }
   ],
   "source": [
    "print('Количество видов деятельности в companies',len(companies['working_direction'].unique()))"
   ]
  },
  {
   "cell_type": "code",
   "execution_count": 54,
   "id": "e8a48b61-c619-42a9-9747-d371d43b68bc",
   "metadata": {},
   "outputs": [
    {
     "name": "stdout",
     "output_type": "stream",
     "text": [
      "<class 'pandas.core.frame.DataFrame'>\n",
      "Index: 716 entries, 0 to 722\n",
      "Data columns (total 8 columns):\n",
      " #   Column                   Non-Null Count  Dtype  \n",
      "---  ------                   --------------  -----  \n",
      " 0   id                       716 non-null    int64  \n",
      " 1   working_direction        261 non-null    object \n",
      " 2   employer_count_interval  716 non-null    float64\n",
      " 3   created_at               716 non-null    int64  \n",
      " 4   updated_at               716 non-null    int64  \n",
      " 5   billing_tariff_id        716 non-null    float64\n",
      " 6   billing_is_over          716 non-null    bool   \n",
      " 7   tariff                   701 non-null    object \n",
      "dtypes: bool(1), float64(2), int64(3), object(2)\n",
      "memory usage: 45.4+ KB\n"
     ]
    }
   ],
   "source": [
    "companies.info()"
   ]
  },
  {
   "cell_type": "markdown",
   "id": "fcc43cf1-9744-4b91-bf8f-d216e884172c",
   "metadata": {},
   "source": [
    "Изменим формат дат на дату, а employer_count_interval и тариф id на int"
   ]
  },
  {
   "cell_type": "code",
   "execution_count": 55,
   "id": "52b4b68f-8247-46ab-b5e4-af409c4f4235",
   "metadata": {},
   "outputs": [],
   "source": [
    "companies['created_at'] = companies['created_at'].apply(lambda x: convert_unix_time_to_datetime(x))"
   ]
  },
  {
   "cell_type": "code",
   "execution_count": 56,
   "id": "98102b2f-7139-45c5-9f8d-a95af89b7354",
   "metadata": {},
   "outputs": [],
   "source": [
    "companies['updated_at'] = companies['updated_at'].apply(lambda x: convert_unix_time_to_datetime(x))"
   ]
  },
  {
   "cell_type": "code",
   "execution_count": 57,
   "id": "3002661e-f897-41f2-a85d-b3db35751014",
   "metadata": {},
   "outputs": [],
   "source": [
    "companies.billing_tariff_id = companies.billing_tariff_id.astype('int')"
   ]
  },
  {
   "cell_type": "code",
   "execution_count": 58,
   "id": "20713ef4-2f84-499c-9bcb-e8e233fc06c4",
   "metadata": {},
   "outputs": [],
   "source": [
    "companies.employer_count_interval = companies.employer_count_interval.astype('int')"
   ]
  },
  {
   "cell_type": "markdown",
   "id": "420e749d-3929-4816-898c-a4ddd60721fa",
   "metadata": {},
   "source": [
    "<font face='Liberation serif' size=4 color='blue'>people</font>"
   ]
  },
  {
   "cell_type": "code",
   "execution_count": 59,
   "id": "19257119-919a-44fe-b10d-15511b94a539",
   "metadata": {},
   "outputs": [
    {
     "name": "stdout",
     "output_type": "stream",
     "text": [
      "<class 'pandas.core.frame.DataFrame'>\n",
      "RangeIndex: 5095 entries, 0 to 5094\n",
      "Data columns (total 8 columns):\n",
      " #   Column      Non-Null Count  Dtype  \n",
      "---  ------      --------------  -----  \n",
      " 0   id          5095 non-null   int64  \n",
      " 1   company_id  5095 non-null   int64  \n",
      " 2   user_id     3813 non-null   float64\n",
      " 3   role_id     5095 non-null   int64  \n",
      " 4   created_at  5095 non-null   int64  \n",
      " 5   updated_at  5095 non-null   int64  \n",
      " 6   is_deleted  5095 non-null   bool   \n",
      " 7   deleted_at  2180 non-null   float64\n",
      "dtypes: bool(1), float64(2), int64(5)\n",
      "memory usage: 283.7 KB\n"
     ]
    }
   ],
   "source": [
    "people.info()"
   ]
  },
  {
   "cell_type": "markdown",
   "id": "18d74ac4-94da-4d54-aef8-d12633ed9f84",
   "metadata": {},
   "source": [
    "Изменим формат дат на дату и user_id на int. Столбец индекса удалим"
   ]
  },
  {
   "cell_type": "code",
   "execution_count": 60,
   "id": "f245cfc4-52b7-4c29-be9b-f645e3e9c5fe",
   "metadata": {},
   "outputs": [],
   "source": [
    "people = people.drop(['id'], axis=1)"
   ]
  },
  {
   "cell_type": "code",
   "execution_count": 61,
   "id": "ae247751-44a4-4a84-80da-462e32711aba",
   "metadata": {},
   "outputs": [],
   "source": [
    "people.user_id = people.user_id.fillna(0)\n",
    "people.user_id = people.user_id.astype('int')"
   ]
  },
  {
   "cell_type": "code",
   "execution_count": 62,
   "id": "3fdca51d-a3a1-44d2-b036-eb6fd6e644cc",
   "metadata": {},
   "outputs": [],
   "source": [
    "people['created_at'] = people['created_at'].apply(lambda x: convert_unix_time_to_datetime(x))"
   ]
  },
  {
   "cell_type": "code",
   "execution_count": 63,
   "id": "a782f4c7-967b-496c-bb49-52cb076a3c83",
   "metadata": {},
   "outputs": [],
   "source": [
    "people['updated_at'] = people['updated_at'].apply(lambda x: convert_unix_time_to_datetime(x))"
   ]
  },
  {
   "cell_type": "code",
   "execution_count": 64,
   "id": "1dd59f50-1e07-456c-9de1-859b698e5360",
   "metadata": {},
   "outputs": [],
   "source": [
    "people.deleted_at = people.deleted_at.fillna(0)\n",
    "people['deleted_at'] = people['deleted_at'].apply(lambda x: convert_unix_time_to_datetime(x))"
   ]
  },
  {
   "cell_type": "markdown",
   "id": "c44a2cdd-8a38-4906-ba93-12d78b7b1ba4",
   "metadata": {},
   "source": [
    "## Признак активности и время жизни компании в сервисе"
   ]
  },
  {
   "cell_type": "markdown",
   "id": "a9273437-7318-4fdd-8bb8-866c5719009c",
   "metadata": {},
   "source": [
    "В зависимости от срока действия оплаченного тарифа выделим столбец-признак, обозначающий активного или ушедшего пользователя. Проверять будем активность на дату 28-03-2024"
   ]
  },
  {
   "cell_type": "code",
   "execution_count": 65,
   "id": "e3e7d3ba-5e32-4da1-8876-19a641eced14",
   "metadata": {},
   "outputs": [],
   "source": [
    "timestamp='2024-03-28' \n",
    "billing['status'] = np.where((pd.to_datetime(billing.payed_until, errors='coerce', format='%d/%m/%Y')\n",
    "                      .fillna(timestamp)) > timestamp, 1, 0)\n",
    "   "
   ]
  },
  {
   "cell_type": "code",
   "execution_count": 66,
   "id": "97ff8ef4-3983-429d-bba0-89046fd80921",
   "metadata": {},
   "outputs": [
    {
     "data": {
      "text/html": [
       "<div>\n",
       "<style scoped>\n",
       "    .dataframe tbody tr th:only-of-type {\n",
       "        vertical-align: middle;\n",
       "    }\n",
       "\n",
       "    .dataframe tbody tr th {\n",
       "        vertical-align: top;\n",
       "    }\n",
       "\n",
       "    .dataframe thead th {\n",
       "        text-align: right;\n",
       "    }\n",
       "</style>\n",
       "<table border=\"1\" class=\"dataframe\">\n",
       "  <thead>\n",
       "    <tr style=\"text-align: right;\">\n",
       "      <th></th>\n",
       "      <th>id</th>\n",
       "      <th>user_id</th>\n",
       "      <th>company_id</th>\n",
       "      <th>billing_tariff_id</th>\n",
       "      <th>payed_until</th>\n",
       "      <th>is_payed</th>\n",
       "      <th>created_at</th>\n",
       "      <th>updated_at</th>\n",
       "      <th>billing_tariff_price_id</th>\n",
       "      <th>comment</th>\n",
       "      <th>pay_date</th>\n",
       "      <th>tariff</th>\n",
       "      <th>status</th>\n",
       "    </tr>\n",
       "  </thead>\n",
       "  <tbody>\n",
       "    <tr>\n",
       "      <th>55</th>\n",
       "      <td>3045</td>\n",
       "      <td>567</td>\n",
       "      <td>512</td>\n",
       "      <td>2</td>\n",
       "      <td>2026-01-06 02:59:59</td>\n",
       "      <td>False</td>\n",
       "      <td>2020-12-21 17:47:22</td>\n",
       "      <td>2020-12-21 17:47:22</td>\n",
       "      <td>1.00</td>\n",
       "      <td>NaN</td>\n",
       "      <td>1970-01-01 03:00:00</td>\n",
       "      <td>базовый</td>\n",
       "      <td>1</td>\n",
       "    </tr>\n",
       "  </tbody>\n",
       "</table>\n",
       "</div>"
      ],
      "text/plain": [
       "      id  user_id  company_id  billing_tariff_id         payed_until  \\\n",
       "55  3045      567         512                  2 2026-01-06 02:59:59   \n",
       "\n",
       "    is_payed          created_at          updated_at  billing_tariff_price_id  \\\n",
       "55     False 2020-12-21 17:47:22 2020-12-21 17:47:22                     1.00   \n",
       "\n",
       "   comment            pay_date   tariff  status  \n",
       "55     NaN 1970-01-01 03:00:00  базовый       1  "
      ]
     },
     "execution_count": 66,
     "metadata": {},
     "output_type": "execute_result"
    }
   ],
   "source": [
    "billing[billing.status==1].head(1)"
   ]
  },
  {
   "cell_type": "markdown",
   "id": "577d282e-6dc2-43eb-bafe-fef5893e3e37",
   "metadata": {},
   "source": [
    "Таже добавим время жизни компании в сервисе как разницу между датой регистрации и оплачено до"
   ]
  },
  {
   "cell_type": "code",
   "execution_count": 67,
   "id": "f2581bc4-0ca5-4867-a948-0a23481cc51b",
   "metadata": {},
   "outputs": [],
   "source": [
    "billing['life']=billing.payed_until-billing.created_at"
   ]
  },
  {
   "cell_type": "markdown",
   "id": "c6162dde-7f82-4175-a6fe-85ec37e7abe4",
   "metadata": {},
   "source": [
    "<font face='liberation serif' size=4>[В начало работы](#start)"
   ]
  },
  {
   "cell_type": "markdown",
   "id": "da7d4550-8d0d-406f-a05b-29e97565ccdc",
   "metadata": {},
   "source": [
    "## <font face='liberation serif' size=6>**IV. Исследовательский анализ данных**</font>\n",
    "<a id='part_4'></a>"
   ]
  },
  {
   "cell_type": "markdown",
   "id": "90c1f3c4-9cb2-4588-89e9-64205a2daa97",
   "metadata": {},
   "source": [
    "Сгруппируем billing по company_id и выделим мах статус у компанни. В итоге получим файл команий, содержащий текущий статус активности. Результат затем соединим с датасетом companies, чтобы его сегментировать на компании с активной подпиской или нет. "
   ]
  },
  {
   "cell_type": "code",
   "execution_count": 68,
   "id": "5f393d04-bfb8-48d2-a797-eaa21d7dabc1",
   "metadata": {},
   "outputs": [],
   "source": [
    "billing_gr= billing.groupby('company_id').status.max().reset_index()"
   ]
  },
  {
   "cell_type": "code",
   "execution_count": 69,
   "id": "9a366caf-2815-4a24-a544-ab75a30cfc69",
   "metadata": {},
   "outputs": [],
   "source": [
    "billing_gr.rename(columns={'company_id': 'id'}, inplace=True)"
   ]
  },
  {
   "cell_type": "markdown",
   "id": "6a963bc8-5326-48f3-8560-57b6c20383e3",
   "metadata": {},
   "source": [
    "Сгруппируем billing по company_id и выделим мах время жизни у компанни."
   ]
  },
  {
   "cell_type": "code",
   "execution_count": 70,
   "id": "6a35964c-9d34-4c75-abf9-e79e08f93cb6",
   "metadata": {},
   "outputs": [],
   "source": [
    "billing_gr_life= billing.groupby('company_id').life.max().reset_index()"
   ]
  },
  {
   "cell_type": "code",
   "execution_count": 71,
   "id": "904165ae-3aa4-4498-860a-13f4daaf6910",
   "metadata": {},
   "outputs": [],
   "source": [
    "billing_gr_life.rename(columns={'company_id': 'id'}, inplace=True)"
   ]
  },
  {
   "cell_type": "code",
   "execution_count": 72,
   "id": "0b8c7162-0ef2-4537-98d9-0a58ab933f0e",
   "metadata": {},
   "outputs": [],
   "source": [
    "billing_gr=pd.merge(billing_gr_life, billing_gr, on='id')"
   ]
  },
  {
   "cell_type": "code",
   "execution_count": 73,
   "id": "766429eb-9f08-4f55-9785-4fcc6b4f6474",
   "metadata": {},
   "outputs": [],
   "source": [
    "merged_companies = pd.merge(companies, billing_gr, on='id')"
   ]
  },
  {
   "cell_type": "code",
   "execution_count": 74,
   "id": "1cb73a79-885e-4c6a-854f-fd60f7d417c7",
   "metadata": {},
   "outputs": [],
   "source": [
    "merged_companies_gr=merged_companies.groupby('tariff').id.count().reset_index()"
   ]
  },
  {
   "cell_type": "code",
   "execution_count": 75,
   "id": "d5049867-654b-4ed1-be6f-26dc884ae6ab",
   "metadata": {},
   "outputs": [],
   "source": [
    "merged_companies_yes=merged_companies[merged_companies.status==1]\n",
    "merged_companies_no=merged_companies[merged_companies.status==0]"
   ]
  },
  {
   "cell_type": "markdown",
   "id": "3cc0aa5e-455d-4cfd-86d4-65b9455a4d45",
   "metadata": {},
   "source": [
    "По выделенным сегментам посмотрим сумму компаний в разрезе тарифов"
   ]
  },
  {
   "cell_type": "code",
   "execution_count": 76,
   "id": "11462e2b-1d0d-4372-9604-14a8672bc5bf",
   "metadata": {},
   "outputs": [],
   "source": [
    "yes_gr=merged_companies_yes.groupby('tariff').id.count().reset_index()\n",
    "merged_companies_gr['yes']=yes_gr['id']"
   ]
  },
  {
   "cell_type": "code",
   "execution_count": 77,
   "id": "b9b5889e-3c53-4a07-a324-651794a940f2",
   "metadata": {},
   "outputs": [
    {
     "data": {
      "text/html": [
       "<div>\n",
       "<style scoped>\n",
       "    .dataframe tbody tr th:only-of-type {\n",
       "        vertical-align: middle;\n",
       "    }\n",
       "\n",
       "    .dataframe tbody tr th {\n",
       "        vertical-align: top;\n",
       "    }\n",
       "\n",
       "    .dataframe thead th {\n",
       "        text-align: right;\n",
       "    }\n",
       "</style>\n",
       "<table border=\"1\" class=\"dataframe\">\n",
       "  <thead>\n",
       "    <tr style=\"text-align: right;\">\n",
       "      <th></th>\n",
       "      <th>tariff</th>\n",
       "      <th>id</th>\n",
       "      <th>yes</th>\n",
       "      <th>no</th>\n",
       "      <th>yes%</th>\n",
       "      <th>no%</th>\n",
       "    </tr>\n",
       "  </thead>\n",
       "  <tbody>\n",
       "    <tr>\n",
       "      <th>0</th>\n",
       "      <td>базовый</td>\n",
       "      <td>321</td>\n",
       "      <td>125</td>\n",
       "      <td>196</td>\n",
       "      <td>38.94</td>\n",
       "      <td>61.06</td>\n",
       "    </tr>\n",
       "    <tr>\n",
       "      <th>1</th>\n",
       "      <td>бизнес</td>\n",
       "      <td>51</td>\n",
       "      <td>31</td>\n",
       "      <td>20</td>\n",
       "      <td>60.78</td>\n",
       "      <td>39.22</td>\n",
       "    </tr>\n",
       "    <tr>\n",
       "      <th>2</th>\n",
       "      <td>профи</td>\n",
       "      <td>23</td>\n",
       "      <td>8</td>\n",
       "      <td>15</td>\n",
       "      <td>34.78</td>\n",
       "      <td>65.22</td>\n",
       "    </tr>\n",
       "    <tr>\n",
       "      <th>3</th>\n",
       "      <td>старт</td>\n",
       "      <td>306</td>\n",
       "      <td>83</td>\n",
       "      <td>223</td>\n",
       "      <td>27.12</td>\n",
       "      <td>72.88</td>\n",
       "    </tr>\n",
       "  </tbody>\n",
       "</table>\n",
       "</div>"
      ],
      "text/plain": [
       "    tariff   id  yes   no  yes%   no%\n",
       "0  базовый  321  125  196 38.94 61.06\n",
       "1   бизнес   51   31   20 60.78 39.22\n",
       "2    профи   23    8   15 34.78 65.22\n",
       "3    старт  306   83  223 27.12 72.88"
      ]
     },
     "execution_count": 77,
     "metadata": {},
     "output_type": "execute_result"
    }
   ],
   "source": [
    "no_gr=merged_companies_no.groupby('tariff').id.count().reset_index()\n",
    "merged_companies_gr['no']=no_gr['id']\n",
    "total=merged_companies_gr.id.sum()\n",
    "merged_companies_gr['yes%']=merged_companies_gr['yes']/merged_companies_gr['id']*100\n",
    "merged_companies_gr['no%']=merged_companies_gr['no']/merged_companies_gr['id']*100\n",
    "merged_companies_gr"
   ]
  },
  {
   "cell_type": "code",
   "execution_count": 78,
   "id": "45fa61a2-ed6b-4b4a-8e79-a8accb33964b",
   "metadata": {},
   "outputs": [
    {
     "name": "stdout",
     "output_type": "stream",
     "text": [
      " Процент ушедших компаний 64.76\n",
      " Число ушедших компаний:  454\n"
     ]
    }
   ],
   "source": [
    "print(\" Процент ушедших компаний\", round(merged_companies_gr['no'].sum()/merged_companies_gr['id'].sum()*100,2))\n",
    "print(' Число ушедших компаний: ', merged_companies_gr['no'].sum())"
   ]
  },
  {
   "cell_type": "code",
   "execution_count": 79,
   "id": "a78eb69f-931c-427b-9a47-f50da00633af",
   "metadata": {},
   "outputs": [
    {
     "data": {
      "image/png": "[encoded data removed]",
      "text/plain": [
       "<Figure size 1000x600 with 1 Axes>"
      ]
     },
     "metadata": {},
     "output_type": "display_data"
    }
   ],
   "source": [
    "plt.figure(figsize=(10, 6))\n",
    "sns.barplot (x=\"tariff\", y=\"no\", data=merged_companies_gr.sort_values(by='no'))\n",
    "plt.title('Количество ушедших команий с тарифов', fontsize=14)\n",
    "plt.xlabel('Тариф')\n",
    "plt.ylabel('Количество, шт')\n",
    "plt.show()"
   ]
  },
  {
   "cell_type": "markdown",
   "id": "8bb50f5c-1455-4c33-ac61-0cc2e2930673",
   "metadata": {},
   "source": [
    "Теперь по выделенным сегментам посмотрим в разрезе времени жизни"
   ]
  },
  {
   "cell_type": "code",
   "execution_count": 80,
   "id": "7422633f-b5b3-4448-a053-ff8e71073bc6",
   "metadata": {},
   "outputs": [],
   "source": [
    "merged_companies=merged_companies[merged_companies.life!='-1 days +15:36:31']# удалим запись с отрицательным временем жизни"
   ]
  },
  {
   "cell_type": "code",
   "execution_count": 81,
   "id": "af1f22f9-843b-43c0-8b3f-385e0b4cd105",
   "metadata": {},
   "outputs": [
    {
     "data": {
      "text/html": [
       "<div>\n",
       "<style scoped>\n",
       "    .dataframe tbody tr th:only-of-type {\n",
       "        vertical-align: middle;\n",
       "    }\n",
       "\n",
       "    .dataframe tbody tr th {\n",
       "        vertical-align: top;\n",
       "    }\n",
       "\n",
       "    .dataframe thead th {\n",
       "        text-align: right;\n",
       "    }\n",
       "</style>\n",
       "<table border=\"1\" class=\"dataframe\">\n",
       "  <thead>\n",
       "    <tr style=\"text-align: right;\">\n",
       "      <th></th>\n",
       "      <th>id</th>\n",
       "      <th>working_direction</th>\n",
       "      <th>employer_count_interval</th>\n",
       "      <th>created_at</th>\n",
       "      <th>updated_at</th>\n",
       "      <th>billing_tariff_id</th>\n",
       "      <th>billing_is_over</th>\n",
       "      <th>tariff</th>\n",
       "      <th>life</th>\n",
       "      <th>status</th>\n",
       "    </tr>\n",
       "  </thead>\n",
       "  <tbody>\n",
       "    <tr>\n",
       "      <th>0</th>\n",
       "      <td>514</td>\n",
       "      <td>NaN</td>\n",
       "      <td>1</td>\n",
       "      <td>2019-10-17 15:50:35</td>\n",
       "      <td>2022-12-06 06:45:14</td>\n",
       "      <td>4</td>\n",
       "      <td>True</td>\n",
       "      <td>старт</td>\n",
       "      <td>29 days 16:18:22</td>\n",
       "      <td>0</td>\n",
       "    </tr>\n",
       "    <tr>\n",
       "      <th>1</th>\n",
       "      <td>383</td>\n",
       "      <td>строительство</td>\n",
       "      <td>2</td>\n",
       "      <td>2019-07-26 15:02:45</td>\n",
       "      <td>2023-02-16 15:20:50</td>\n",
       "      <td>7</td>\n",
       "      <td>False</td>\n",
       "      <td>старт</td>\n",
       "      <td>400 days 13:50:28</td>\n",
       "      <td>0</td>\n",
       "    </tr>\n",
       "    <tr>\n",
       "      <th>2</th>\n",
       "      <td>495</td>\n",
       "      <td>NaN</td>\n",
       "      <td>1</td>\n",
       "      <td>2019-10-08 14:54:55</td>\n",
       "      <td>2020-08-24 18:08:34</td>\n",
       "      <td>2</td>\n",
       "      <td>False</td>\n",
       "      <td>базовый</td>\n",
       "      <td>1056 days 04:55:30</td>\n",
       "      <td>1</td>\n",
       "    </tr>\n",
       "    <tr>\n",
       "      <th>3</th>\n",
       "      <td>724</td>\n",
       "      <td>NaN</td>\n",
       "      <td>1</td>\n",
       "      <td>2020-01-20 12:59:53</td>\n",
       "      <td>2022-12-06 06:44:54</td>\n",
       "      <td>4</td>\n",
       "      <td>True</td>\n",
       "      <td>старт</td>\n",
       "      <td>182 days 18:30:02</td>\n",
       "      <td>0</td>\n",
       "    </tr>\n",
       "    <tr>\n",
       "      <th>4</th>\n",
       "      <td>471</td>\n",
       "      <td>NaN</td>\n",
       "      <td>1</td>\n",
       "      <td>2019-09-24 15:26:57</td>\n",
       "      <td>2022-12-06 06:46:00</td>\n",
       "      <td>7</td>\n",
       "      <td>True</td>\n",
       "      <td>старт</td>\n",
       "      <td>186 days 12:19:42</td>\n",
       "      <td>0</td>\n",
       "    </tr>\n",
       "  </tbody>\n",
       "</table>\n",
       "</div>"
      ],
      "text/plain": [
       "    id working_direction  employer_count_interval          created_at  \\\n",
       "0  514               NaN                        1 2019-10-17 15:50:35   \n",
       "1  383     строительство                        2 2019-07-26 15:02:45   \n",
       "2  495               NaN                        1 2019-10-08 14:54:55   \n",
       "3  724               NaN                        1 2020-01-20 12:59:53   \n",
       "4  471               NaN                        1 2019-09-24 15:26:57   \n",
       "\n",
       "           updated_at  billing_tariff_id  billing_is_over   tariff  \\\n",
       "0 2022-12-06 06:45:14                  4             True    старт   \n",
       "1 2023-02-16 15:20:50                  7            False    старт   \n",
       "2 2020-08-24 18:08:34                  2            False  базовый   \n",
       "3 2022-12-06 06:44:54                  4             True    старт   \n",
       "4 2022-12-06 06:46:00                  7             True    старт   \n",
       "\n",
       "                life  status  \n",
       "0   29 days 16:18:22       0  \n",
       "1  400 days 13:50:28       0  \n",
       "2 1056 days 04:55:30       1  \n",
       "3  182 days 18:30:02       0  \n",
       "4  186 days 12:19:42       0  "
      ]
     },
     "execution_count": 81,
     "metadata": {},
     "output_type": "execute_result"
    }
   ],
   "source": [
    "merged_companies.head()"
   ]
  },
  {
   "cell_type": "code",
   "execution_count": 82,
   "id": "469fc122-de7a-453e-b6fc-c6c906a5efed",
   "metadata": {},
   "outputs": [],
   "source": [
    "merged_companies['time_in']=merged_companies.life.apply(cl_time)"
   ]
  },
  {
   "cell_type": "code",
   "execution_count": 83,
   "id": "11f9aeb1-30bc-4542-a3aa-af2ae1bf7ebe",
   "metadata": {},
   "outputs": [],
   "source": [
    "merged_time_yes=merged_companies[merged_companies.status==1]\n",
    "merged_time_no=merged_companies[merged_companies.status==0]\n",
    "gr2_yes=merged_time_yes.groupby('time_in').id.count().reset_index()\n",
    "gr2_no=merged_time_no.groupby('time_in').id.count().reset_index()"
   ]
  },
  {
   "cell_type": "code",
   "execution_count": 84,
   "id": "647b82ff-3c81-4525-b071-a65c8583ec71",
   "metadata": {},
   "outputs": [
    {
     "data": {
      "text/html": [
       "<div>\n",
       "<style scoped>\n",
       "    .dataframe tbody tr th:only-of-type {\n",
       "        vertical-align: middle;\n",
       "    }\n",
       "\n",
       "    .dataframe tbody tr th {\n",
       "        vertical-align: top;\n",
       "    }\n",
       "\n",
       "    .dataframe thead th {\n",
       "        text-align: right;\n",
       "    }\n",
       "</style>\n",
       "<table border=\"1\" class=\"dataframe\">\n",
       "  <thead>\n",
       "    <tr style=\"text-align: right;\">\n",
       "      <th></th>\n",
       "      <th>time_in</th>\n",
       "      <th>all</th>\n",
       "      <th>yes</th>\n",
       "      <th>no</th>\n",
       "      <th>% ушедших</th>\n",
       "    </tr>\n",
       "  </thead>\n",
       "  <tbody>\n",
       "    <tr>\n",
       "      <th>0</th>\n",
       "      <td>2 года</td>\n",
       "      <td>430</td>\n",
       "      <td>190.00</td>\n",
       "      <td>240</td>\n",
       "      <td>55.81</td>\n",
       "    </tr>\n",
       "    <tr>\n",
       "      <th>1</th>\n",
       "      <td>3 года</td>\n",
       "      <td>82</td>\n",
       "      <td>55.00</td>\n",
       "      <td>27</td>\n",
       "      <td>32.93</td>\n",
       "    </tr>\n",
       "    <tr>\n",
       "      <th>2</th>\n",
       "      <td>год</td>\n",
       "      <td>73</td>\n",
       "      <td>1.00</td>\n",
       "      <td>72</td>\n",
       "      <td>98.63</td>\n",
       "    </tr>\n",
       "    <tr>\n",
       "      <th>3</th>\n",
       "      <td>полгода</td>\n",
       "      <td>124</td>\n",
       "      <td>NaN</td>\n",
       "      <td>124</td>\n",
       "      <td>100.00</td>\n",
       "    </tr>\n",
       "  </tbody>\n",
       "</table>\n",
       "</div>"
      ],
      "text/plain": [
       "   time_in  all    yes   no  % ушедших\n",
       "0   2 года  430 190.00  240      55.81\n",
       "1   3 года   82  55.00   27      32.93\n",
       "2      год   73   1.00   72      98.63\n",
       "3  полгода  124    NaN  124     100.00"
      ]
     },
     "execution_count": 84,
     "metadata": {},
     "output_type": "execute_result"
    }
   ],
   "source": [
    "gr2=merged_companies.groupby('time_in').id.count().reset_index()\n",
    "gr2['yes']=gr2_yes.id\n",
    "gr2=pd.merge(gr2, gr2_no, on='time_in')\n",
    "gr2.rename(columns={'id_y': 'no','id_x': 'all' }, inplace=True)\n",
    "gr2['% ушедших']=gr2['no']/gr2['all']*100\n",
    "gr2"
   ]
  },
  {
   "cell_type": "code",
   "execution_count": 85,
   "id": "b62c839b-4dba-46e0-8c64-a3e70e079fce",
   "metadata": {},
   "outputs": [
    {
     "data": {
      "image/png": "[encoded data removed]",
      "text/plain": [
       "<Figure size 1000x600 with 1 Axes>"
      ]
     },
     "metadata": {},
     "output_type": "display_data"
    }
   ],
   "source": [
    "plt.figure(figsize=(10, 6))\n",
    "sns.barplot (x=\"time_in\", y=\"no\", data=gr2.sort_values(by='no'))\n",
    "plt.title('Время жизни ушедних компаний в сервисе', fontsize=14)\n",
    "plt.xlabel('Время')\n",
    "plt.ylabel('Количество, шт')\n",
    "plt.show()"
   ]
  },
  {
   "cell_type": "markdown",
   "id": "7f8276be-a2c8-4310-8767-01fb4baae75e",
   "metadata": {},
   "source": [
    "Тут видим, что % ухода мах у компаний, пробывших в системе до года, мин % у организаций более 2х лет в сервисе. \n",
    "Поиск в интернете показал, что ранее действовали более разумные тарифы, поэтому клиенты с большим стажем дольше задерживаются в системе, видимо тариф закрепляется за клиентом на длительное время. Подтверждением более низких тарифов в прошлом явлестя комментарий в billing, в апреле 20го стартовый стоил 11700р:"
   ]
  },
  {
   "cell_type": "code",
   "execution_count": 86,
   "id": "aaedcd58-f8f4-4603-a266-e4dc14233779",
   "metadata": {},
   "outputs": [
    {
     "data": {
      "text/html": [
       "<div>\n",
       "<style scoped>\n",
       "    .dataframe tbody tr th:only-of-type {\n",
       "        vertical-align: middle;\n",
       "    }\n",
       "\n",
       "    .dataframe tbody tr th {\n",
       "        vertical-align: top;\n",
       "    }\n",
       "\n",
       "    .dataframe thead th {\n",
       "        text-align: right;\n",
       "    }\n",
       "</style>\n",
       "<table border=\"1\" class=\"dataframe\">\n",
       "  <thead>\n",
       "    <tr style=\"text-align: right;\">\n",
       "      <th></th>\n",
       "      <th>updated_at</th>\n",
       "      <th>comment</th>\n",
       "    </tr>\n",
       "  </thead>\n",
       "  <tbody>\n",
       "    <tr>\n",
       "      <th>882</th>\n",
       "      <td>2020-04-06 08:31:56</td>\n",
       "      <td>06,04 - активация 6 мес. по тарифу Стартовый по акции, стоимость тарифа 11700 руб.</td>\n",
       "    </tr>\n",
       "    <tr>\n",
       "      <th>1206</th>\n",
       "      <td>2020-11-30 16:53:57</td>\n",
       "      <td>попал под акцию +1 мес в подарок, итого срок был 29,06,21\\r\\n30,11 - решил доплатить 11700 для перехода на профи, переоткрыла тариф</td>\n",
       "    </tr>\n",
       "  </tbody>\n",
       "</table>\n",
       "</div>"
      ],
      "text/plain": [
       "              updated_at  \\\n",
       "882  2020-04-06 08:31:56   \n",
       "1206 2020-11-30 16:53:57   \n",
       "\n",
       "                                                                                                                                  comment  \n",
       "882                                                   06,04 - активация 6 мес. по тарифу Стартовый по акции, стоимость тарифа 11700 руб.   \n",
       "1206  попал под акцию +1 мес в подарок, итого срок был 29,06,21\\r\\n30,11 - решил доплатить 11700 для перехода на профи, переоткрыла тариф  "
      ]
     },
     "execution_count": 86,
     "metadata": {},
     "output_type": "execute_result"
    }
   ],
   "source": [
    "pd.set_option('display.max_colwidth', None)\n",
    "comm_11700=billing[billing['comment'].str.contains('11700', regex=False, case=False, na=False)]\n",
    "comm_11700[['updated_at','comment']]\n"
   ]
  },
  {
   "cell_type": "markdown",
   "id": "b4f9d810-e631-43ab-b276-f75773e9e40e",
   "metadata": {},
   "source": [
    "## RFM анализ"
   ]
  },
  {
   "cell_type": "markdown",
   "id": "5207be3b-8863-4bb3-8ea6-d32f9ae986c6",
   "metadata": {},
   "source": [
    "RFM-анализ — метод сегментации клиентов по частоте и сумме покупок для выявления потребителей, приносящих больше денег.\n",
    "* R - Recency (Давность сделки). Сколько времени (часов, дней, недель, месяцев) прошло с момента последней покупки клиента.\n",
    "* F - Frequency (Частота сделки). Как часто потребитель совершает покупки или другие целевые действия.\n",
    "* M - Monetary (Вложения). Сколько средств/ресурсов потратил клиент за определенный промежуток времени."
   ]
  },
  {
   "cell_type": "markdown",
   "id": "bdbb2a55-fa78-4d8d-87ca-dc4b7d55935c",
   "metadata": {},
   "source": [
    "Для более четкого понимания закономерности ухода, попробуем провести RFM анализ. \n",
    "* В данном исследовании мы ограничимся лишь R критерием анализа.\n",
    "* F частоту оплат в данном случае нет смысла анализировать, на сайте стоит примечание что все тарифы указаны на год, при помесячной оплате тариф выше.\n",
    "* Точно оценть вложения (М) по представленным заказчиком данным не выйдет, я попробовал сделать расчет исходя из текущего тарифа и времени в сервисе, но попробовав, я решил по этому пути не идти, т.к. слишком много неточностей - тариф может меняться со временем, может действовать промо или другая договренность у клиента и сервиса.\n"
   ]
  },
  {
   "cell_type": "code",
   "execution_count": 87,
   "id": "86c1e94a-4b9e-4234-8af2-e95d8b4c3fd9",
   "metadata": {},
   "outputs": [],
   "source": [
    "analyse_date = datetime.strptime('2024-03-28', '%Y-%m-%d')"
   ]
  },
  {
   "cell_type": "markdown",
   "id": "4e948441-19e9-415a-a7d0-2ec738e3def1",
   "metadata": {},
   "source": [
    "Ищем дату до которой оплачен сервис"
   ]
  },
  {
   "cell_type": "code",
   "execution_count": 88,
   "id": "28d5684c-4b4a-4c31-890e-0bd3cd47a9f8",
   "metadata": {},
   "outputs": [],
   "source": [
    "billing['last_date'] = billing.groupby('company_id')['payed_until'].transform('max')"
   ]
  },
  {
   "cell_type": "markdown",
   "id": "2b14f52b-aa08-4087-abac-5578ed811f71",
   "metadata": {},
   "source": [
    "Считаем R score - количество дней между датой анализа и датой до которой оплачен сервис"
   ]
  },
  {
   "cell_type": "code",
   "execution_count": 89,
   "id": "51e9bf0d-9b7e-4b34-965d-f1c32e42134c",
   "metadata": {},
   "outputs": [],
   "source": [
    "billing['r_score'] = (analyse_date - billing.last_date) / pd.Timedelta('1D')"
   ]
  },
  {
   "cell_type": "markdown",
   "id": "cc4c8776-4e06-4333-bd74-4e8e7a21d497",
   "metadata": {},
   "source": [
    "Если значение отрицательное, значит оплата еще активна, в противном случае ставим, что клиент ушел из сервиса (churn == 1)"
   ]
  },
  {
   "cell_type": "code",
   "execution_count": 90,
   "id": "9b02be92-701e-4758-8fcd-b3c3e41caffc",
   "metadata": {},
   "outputs": [],
   "source": [
    "billing['churn'] = billing.r_score.apply(lambda cell: 0 if cell < 0 else 1)"
   ]
  },
  {
   "cell_type": "markdown",
   "id": "8a010e35-0371-435b-bb0f-5a2e04951747",
   "metadata": {},
   "source": [
    "Если активность была на дату анализа, то pandas ставит 0, добавляем +1, первый день"
   ]
  },
  {
   "cell_type": "code",
   "execution_count": 91,
   "id": "e50cd80c-4276-417f-bd2e-e0fdd7229db6",
   "metadata": {},
   "outputs": [],
   "source": [
    "billing.r_score = billing.r_score.apply(lambda cell: 1 if cell < 0 else cell)"
   ]
  },
  {
   "cell_type": "markdown",
   "id": "95824394-2a26-458b-8a6b-a9d992e2db5a",
   "metadata": {},
   "source": [
    "Меняем тип данных на целочисленный"
   ]
  },
  {
   "cell_type": "code",
   "execution_count": 92,
   "id": "cd3d8968-a40e-4db2-91bb-8b8be936f803",
   "metadata": {},
   "outputs": [],
   "source": [
    "billing.r_score = billing.r_score.astype('int')"
   ]
  },
  {
   "cell_type": "markdown",
   "id": "87c0b64b-aa61-4a57-87a1-33c323360d29",
   "metadata": {},
   "source": [
    "Смотрим выбросы"
   ]
  },
  {
   "cell_type": "code",
   "execution_count": 93,
   "id": "8d1826a5-8239-4c34-b85f-fe4f2d3790ae",
   "metadata": {},
   "outputs": [
    {
     "data": {
      "image/png": "[encoded data removed]",
      "text/plain": [
       "<Figure size 1400x200 with 1 Axes>"
      ]
     },
     "metadata": {},
     "output_type": "display_data"
    }
   ],
   "source": [
    "plt.figure(figsize=(14, 2))\n",
    "sns.boxplot(billing.r_score, orient='h');"
   ]
  },
  {
   "cell_type": "markdown",
   "id": "1bdbf655-bdf9-4078-aa06-d1dae8f9ecc0",
   "metadata": {},
   "source": [
    "Чистим выбросы через интеквартильный размах"
   ]
  },
  {
   "cell_type": "code",
   "execution_count": 94,
   "id": "1e5b2c8a-2a94-4946-9187-b649992aeea4",
   "metadata": {},
   "outputs": [],
   "source": [
    "q1, q3 = np.percentile(billing.r_score, [25, 75])"
   ]
  },
  {
   "cell_type": "code",
   "execution_count": 95,
   "id": "23501df6-d8fe-4f92-9a87-884e483b00c6",
   "metadata": {},
   "outputs": [],
   "source": [
    "iqr = q3 - q1"
   ]
  },
  {
   "cell_type": "code",
   "execution_count": 96,
   "id": "60744d90-a951-448a-b0d4-483cbe102229",
   "metadata": {},
   "outputs": [],
   "source": [
    "r_top = round(q3 + iqr * 1.5, 2)"
   ]
  },
  {
   "cell_type": "code",
   "execution_count": 97,
   "id": "6b9fa764-d9cc-454b-a521-9b2ab381e35f",
   "metadata": {},
   "outputs": [
    {
     "data": {
      "text/plain": [
       "1221.62"
      ]
     },
     "execution_count": 97,
     "metadata": {},
     "output_type": "execute_result"
    }
   ],
   "source": [
    "r_top"
   ]
  },
  {
   "cell_type": "code",
   "execution_count": 98,
   "id": "737d8294-c1af-42b4-972e-846c6404d77e",
   "metadata": {},
   "outputs": [
    {
     "data": {
      "text/plain": [
       "[0, 1.0, 295.0, 1616]"
      ]
     },
     "execution_count": 98,
     "metadata": {},
     "output_type": "execute_result"
    }
   ],
   "source": [
    "r_bins = [0, *np.percentile(billing[billing.r_score <= r_top]['r_score'], [33, 66]), billing.r_score.max()]\n",
    "r_bins"
   ]
  },
  {
   "cell_type": "code",
   "execution_count": 99,
   "id": "1ed945c6-33de-4256-b695-0df873b179e9",
   "metadata": {},
   "outputs": [],
   "source": [
    "r_labels = [3, 2, 1]"
   ]
  },
  {
   "cell_type": "markdown",
   "id": "ab979b08-7896-4eb0-a021-e9b7fe4bbbaf",
   "metadata": {},
   "source": [
    "Поделим по категориям и получаем ранг R (3 - хорошо, 2 - терпимо, 1 - плохо)"
   ]
  },
  {
   "cell_type": "code",
   "execution_count": 100,
   "id": "6e0d273f-a174-46b2-aa85-7cd07affc714",
   "metadata": {},
   "outputs": [],
   "source": [
    "billing['R'] = pd.cut(billing.r_score, labels=r_labels, bins=r_bins)"
   ]
  },
  {
   "cell_type": "markdown",
   "id": "642760dc-021e-4584-b947-4ebf523fecd1",
   "metadata": {},
   "source": [
    "Компании с рейтингом 1 - это наша целевая группа анализа: это компании, которые ушли из сервиса, выделяем их в отдельный датасет"
   ]
  },
  {
   "cell_type": "code",
   "execution_count": 101,
   "id": "3fe69de1-c35c-4019-813b-f08970013418",
   "metadata": {},
   "outputs": [
    {
     "name": "stdout",
     "output_type": "stream",
     "text": [
      "Ушли:  780 Остались:  1061\n"
     ]
    }
   ],
   "source": [
    "leavers = billing[billing.R == 1]\n",
    "stayers = billing[billing.R != 1]\n",
    "print('Ушли: ',len(leavers.company_id.unique()), 'Остались: ',len(stayers.company_id.unique()))"
   ]
  },
  {
   "cell_type": "markdown",
   "id": "51ff1301-be74-4d73-8c10-f7961d18f75f",
   "metadata": {},
   "source": [
    "Смотрим есть ли среди них компании с активной оплатой"
   ]
  },
  {
   "cell_type": "code",
   "execution_count": 102,
   "id": "6a7281ba-e0d3-45c0-8db8-daed3a49c5af",
   "metadata": {},
   "outputs": [
    {
     "data": {
      "text/plain": [
       "0"
      ]
     },
     "execution_count": 102,
     "metadata": {},
     "output_type": "execute_result"
    }
   ],
   "source": [
    "len(leavers[leavers.churn == 0])"
   ]
  },
  {
   "cell_type": "markdown",
   "id": "af96e1bd-ea27-4444-8e12-e0ad6fe3dcb7",
   "metadata": {},
   "source": [
    "таких компаний нет"
   ]
  },
  {
   "cell_type": "markdown",
   "id": "446be986-8d75-421f-a7be-481b2e02b2ed",
   "metadata": {},
   "source": [
    "Создаем список из идентификаторов ушедших компаний для создания полного датасета по ним: отфильтровать и соединить с остальными датасетами )"
   ]
  },
  {
   "cell_type": "code",
   "execution_count": 103,
   "id": "ab2030fb-8fce-49da-95eb-771add22741a",
   "metadata": {},
   "outputs": [],
   "source": [
    "leavers_id=leavers.company_id.unique().tolist()"
   ]
  },
  {
   "cell_type": "markdown",
   "id": "e516b986-302b-42bc-b24c-6a28c54479d5",
   "metadata": {},
   "source": [
    "--------------------------------------------------------------\n",
    "<font face='Liberation serif' size=4 color='red'>*Тупиковая ветвь, пытался восстановить М для анализа и провести полноценный RFM</strong>*</font>"
   ]
  },
  {
   "cell_type": "code",
   "execution_count": 104,
   "id": "9f1ac07e-1b74-46fe-a64c-b55821429f67",
   "metadata": {},
   "outputs": [],
   "source": [
    "billing['mounth']=round(billing['life'].dt.days/30,0).astype(int)"
   ]
  },
  {
   "cell_type": "code",
   "execution_count": 105,
   "id": "2802b1ab-d628-43db-9d63-7055badbb0b7",
   "metadata": {},
   "outputs": [],
   "source": [
    "billing['sum']=billing['tariff'].apply(sum_tariff)*billing['mounth']"
   ]
  },
  {
   "cell_type": "code",
   "execution_count": 106,
   "id": "d79f45a1-5224-491b-9d53-57660ba72864",
   "metadata": {},
   "outputs": [
    {
     "data": {
      "text/html": [
       "<div>\n",
       "<style scoped>\n",
       "    .dataframe tbody tr th:only-of-type {\n",
       "        vertical-align: middle;\n",
       "    }\n",
       "\n",
       "    .dataframe tbody tr th {\n",
       "        vertical-align: top;\n",
       "    }\n",
       "\n",
       "    .dataframe thead th {\n",
       "        text-align: right;\n",
       "    }\n",
       "</style>\n",
       "<table border=\"1\" class=\"dataframe\">\n",
       "  <thead>\n",
       "    <tr style=\"text-align: right;\">\n",
       "      <th></th>\n",
       "      <th>recency</th>\n",
       "      <th>frequency</th>\n",
       "      <th>monetary_value</th>\n",
       "      <th>r_quartile</th>\n",
       "      <th>f_quartile</th>\n",
       "      <th>m_quartile</th>\n",
       "      <th>RFMScore</th>\n",
       "    </tr>\n",
       "    <tr>\n",
       "      <th>company_id</th>\n",
       "      <th></th>\n",
       "      <th></th>\n",
       "      <th></th>\n",
       "      <th></th>\n",
       "      <th></th>\n",
       "      <th></th>\n",
       "      <th></th>\n",
       "    </tr>\n",
       "  </thead>\n",
       "  <tbody>\n",
       "    <tr>\n",
       "      <th>1</th>\n",
       "      <td>19798</td>\n",
       "      <td>6</td>\n",
       "      <td>4401000.00</td>\n",
       "      <td>3</td>\n",
       "      <td>5</td>\n",
       "      <td>5</td>\n",
       "      <td>355</td>\n",
       "    </tr>\n",
       "    <tr>\n",
       "      <th>5</th>\n",
       "      <td>301</td>\n",
       "      <td>31</td>\n",
       "      <td>14650736.00</td>\n",
       "      <td>1</td>\n",
       "      <td>5</td>\n",
       "      <td>5</td>\n",
       "      <td>155</td>\n",
       "    </tr>\n",
       "    <tr>\n",
       "      <th>6</th>\n",
       "      <td>19798</td>\n",
       "      <td>1</td>\n",
       "      <td>99999.00</td>\n",
       "      <td>3</td>\n",
       "      <td>1</td>\n",
       "      <td>1</td>\n",
       "      <td>311</td>\n",
       "    </tr>\n",
       "  </tbody>\n",
       "</table>\n",
       "</div>"
      ],
      "text/plain": [
       "            recency  frequency  monetary_value  r_quartile  f_quartile  \\\n",
       "company_id                                                               \n",
       "1             19798          6      4401000.00           3           5   \n",
       "5               301         31     14650736.00           1           5   \n",
       "6             19798          1        99999.00           3           1   \n",
       "\n",
       "            m_quartile RFMScore  \n",
       "company_id                       \n",
       "1                    5      355  \n",
       "5                    5      155  \n",
       "6                    1      311  "
      ]
     },
     "metadata": {},
     "output_type": "display_data"
    }
   ],
   "source": [
    "last_date = billing['pay_date'].max() + timedelta(days=1)\n",
    "rfmTable = billing.reset_index().groupby('company_id').agg({'pay_date': lambda x: (last_date - x.max()).days,\n",
    "                                                 'id': lambda x: len(x), \n",
    "                                                 'sum': lambda x: x.sum()})\n",
    "rfmTable.rename(columns={'pay_date': 'recency', \n",
    "                          'id': 'frequency', \n",
    "                          'sum': 'monetary_value'}, inplace=True)\n",
    "quantiles = rfmTable.quantile(q=[0.25, 0.40, 0.60, 0.75])\n",
    "quantiles = quantiles.to_dict()\n",
    "segmented_rfm = rfmTable\n",
    "def RScore(x,p,d):\n",
    "     if x <= d[p][0.25]:\n",
    "         return 1\n",
    "     elif x <= d[p][0.40]:\n",
    "         return 2\n",
    "     elif x <= d[p][0.60]: \n",
    "         return 3\n",
    "     elif x<=d[p][0.75]:\n",
    "         return 4\n",
    "     else:\n",
    "         return 5\n",
    "\n",
    "segmented_rfm['r_quartile'] = segmented_rfm['recency'].apply(RScore, args=('recency',quantiles,))\n",
    "segmented_rfm['f_quartile'] = segmented_rfm['frequency'].apply(RScore, args=('frequency',quantiles,))\n",
    "segmented_rfm['m_quartile'] = segmented_rfm['monetary_value'].apply(RScore, args=('monetary_value',quantiles,))\n",
    "segmented_rfm['RFMScore'] = segmented_rfm.r_quartile.map(str) + segmented_rfm.f_quartile.map(str) + segmented_rfm.m_quartile.map(str)\n",
    "display(segmented_rfm.head(3))"
   ]
  },
  {
   "cell_type": "code",
   "execution_count": 107,
   "id": "eff023c6-433c-4481-8577-60529c35e98e",
   "metadata": {},
   "outputs": [
    {
     "data": {
      "image/png": "[encoded data removed]",
      "text/plain": [
       "<Figure size 1600x400 with 1 Axes>"
      ]
     },
     "metadata": {},
     "output_type": "display_data"
    }
   ],
   "source": [
    "fig=plt.figure(figsize=(40, 10), dpi= 40, facecolor='w', edgecolor='k')\n",
    "segmented_rfm.groupby('RFMScore').agg('recency').mean().plot(kind='bar', colormap='Blues_r')\n",
    "plt.show()"
   ]
  },
  {
   "cell_type": "code",
   "execution_count": 108,
   "id": "c5b9804f-bb91-456e-a4e0-08ab05ce7a43",
   "metadata": {},
   "outputs": [
    {
     "data": {
      "text/html": [
       "<div>\n",
       "<style scoped>\n",
       "    .dataframe tbody tr th:only-of-type {\n",
       "        vertical-align: middle;\n",
       "    }\n",
       "\n",
       "    .dataframe tbody tr th {\n",
       "        vertical-align: top;\n",
       "    }\n",
       "\n",
       "    .dataframe thead th {\n",
       "        text-align: right;\n",
       "    }\n",
       "</style>\n",
       "<table border=\"1\" class=\"dataframe\">\n",
       "  <thead>\n",
       "    <tr style=\"text-align: right;\">\n",
       "      <th></th>\n",
       "      <th>recency</th>\n",
       "      <th>frequency</th>\n",
       "      <th>monetary_value</th>\n",
       "      <th>r_quartile</th>\n",
       "      <th>f_quartile</th>\n",
       "      <th>m_quartile</th>\n",
       "      <th>RFMScore</th>\n",
       "    </tr>\n",
       "    <tr>\n",
       "      <th>company_id</th>\n",
       "      <th></th>\n",
       "      <th></th>\n",
       "      <th></th>\n",
       "      <th></th>\n",
       "      <th></th>\n",
       "      <th></th>\n",
       "      <th></th>\n",
       "    </tr>\n",
       "  </thead>\n",
       "  <tbody>\n",
       "    <tr>\n",
       "      <th>1</th>\n",
       "      <td>19798</td>\n",
       "      <td>6</td>\n",
       "      <td>4401000.00</td>\n",
       "      <td>3</td>\n",
       "      <td>5</td>\n",
       "      <td>5</td>\n",
       "      <td>355</td>\n",
       "    </tr>\n",
       "    <tr>\n",
       "      <th>5</th>\n",
       "      <td>301</td>\n",
       "      <td>31</td>\n",
       "      <td>14650736.00</td>\n",
       "      <td>1</td>\n",
       "      <td>5</td>\n",
       "      <td>5</td>\n",
       "      <td>155</td>\n",
       "    </tr>\n",
       "    <tr>\n",
       "      <th>6</th>\n",
       "      <td>19798</td>\n",
       "      <td>1</td>\n",
       "      <td>99999.00</td>\n",
       "      <td>3</td>\n",
       "      <td>1</td>\n",
       "      <td>1</td>\n",
       "      <td>311</td>\n",
       "    </tr>\n",
       "  </tbody>\n",
       "</table>\n",
       "</div>"
      ],
      "text/plain": [
       "            recency  frequency  monetary_value  r_quartile  f_quartile  \\\n",
       "company_id                                                               \n",
       "1             19798          6      4401000.00           3           5   \n",
       "5               301         31     14650736.00           1           5   \n",
       "6             19798          1        99999.00           3           1   \n",
       "\n",
       "            m_quartile RFMScore  \n",
       "company_id                       \n",
       "1                    5      355  \n",
       "5                    5      155  \n",
       "6                    1      311  "
      ]
     },
     "execution_count": 108,
     "metadata": {},
     "output_type": "execute_result"
    }
   ],
   "source": [
    "rfmTable.head(3)"
   ]
  },
  {
   "cell_type": "markdown",
   "id": "d733cb2f-26e3-47bd-92a9-1a4bfb30267c",
   "metadata": {},
   "source": [
    "Эту ветвь отбрасываем, слишко много допущений и как результат неточностей."
   ]
  },
  {
   "cell_type": "markdown",
   "id": "25ae9272-0bbc-429a-bb66-546c55751cb1",
   "metadata": {},
   "source": [
    "-------------"
   ]
  },
  {
   "cell_type": "markdown",
   "id": "cfd8b2e7-4bf0-4a12-a09f-db2b8dc972e9",
   "metadata": {},
   "source": [
    "## Подготовим датасеты к слиянию"
   ]
  },
  {
   "cell_type": "markdown",
   "id": "f150797d-bc22-4795-9f32-18cad9737b28",
   "metadata": {},
   "source": [
    "### Сгруппируем people по компаниям"
   ]
  },
  {
   "cell_type": "markdown",
   "id": "a547c633-cd40-4576-b01b-20c88ec9943c",
   "metadata": {},
   "source": [
    "Для начала отбросим удаленных и сгруппируем."
   ]
  },
  {
   "cell_type": "code",
   "execution_count": 191,
   "id": "2d94e651-8d5e-4961-821c-dc047b6a4df9",
   "metadata": {},
   "outputs": [],
   "source": [
    "people_act=people[people.is_deleted==0]"
   ]
  },
  {
   "cell_type": "code",
   "execution_count": 192,
   "id": "416f3d3f-9b35-44b0-b9f4-5a9244974ef3",
   "metadata": {},
   "outputs": [],
   "source": [
    "people_act_gr=people_act.groupby('company_id').user_id.count().reset_index()"
   ]
  },
  {
   "cell_type": "code",
   "execution_count": 193,
   "id": "b3edac90-658c-4b72-8972-20b21482730e",
   "metadata": {},
   "outputs": [],
   "source": [
    "people_act_gr.rename(columns={'user_id': 'total_users' }, inplace=True)"
   ]
  },
  {
   "cell_type": "code",
   "execution_count": 194,
   "id": "3b8005a0-a322-4bdd-bb4b-66b424b90aad",
   "metadata": {},
   "outputs": [
    {
     "data": {
      "text/html": [
       "<div>\n",
       "<style scoped>\n",
       "    .dataframe tbody tr th:only-of-type {\n",
       "        vertical-align: middle;\n",
       "    }\n",
       "\n",
       "    .dataframe tbody tr th {\n",
       "        vertical-align: top;\n",
       "    }\n",
       "\n",
       "    .dataframe thead th {\n",
       "        text-align: right;\n",
       "    }\n",
       "</style>\n",
       "<table border=\"1\" class=\"dataframe\">\n",
       "  <thead>\n",
       "    <tr style=\"text-align: right;\">\n",
       "      <th></th>\n",
       "      <th>company_id</th>\n",
       "      <th>total_users</th>\n",
       "    </tr>\n",
       "  </thead>\n",
       "  <tbody>\n",
       "    <tr>\n",
       "      <th>0</th>\n",
       "      <td>1</td>\n",
       "      <td>2</td>\n",
       "    </tr>\n",
       "    <tr>\n",
       "      <th>1</th>\n",
       "      <td>21</td>\n",
       "      <td>3</td>\n",
       "    </tr>\n",
       "    <tr>\n",
       "      <th>2</th>\n",
       "      <td>30</td>\n",
       "      <td>3</td>\n",
       "    </tr>\n",
       "    <tr>\n",
       "      <th>3</th>\n",
       "      <td>108</td>\n",
       "      <td>2</td>\n",
       "    </tr>\n",
       "    <tr>\n",
       "      <th>4</th>\n",
       "      <td>116</td>\n",
       "      <td>3</td>\n",
       "    </tr>\n",
       "    <tr>\n",
       "      <th>...</th>\n",
       "      <td>...</td>\n",
       "      <td>...</td>\n",
       "    </tr>\n",
       "    <tr>\n",
       "      <th>707</th>\n",
       "      <td>9402</td>\n",
       "      <td>1</td>\n",
       "    </tr>\n",
       "    <tr>\n",
       "      <th>708</th>\n",
       "      <td>9457</td>\n",
       "      <td>1</td>\n",
       "    </tr>\n",
       "    <tr>\n",
       "      <th>709</th>\n",
       "      <td>9471</td>\n",
       "      <td>6</td>\n",
       "    </tr>\n",
       "    <tr>\n",
       "      <th>710</th>\n",
       "      <td>9524</td>\n",
       "      <td>2</td>\n",
       "    </tr>\n",
       "    <tr>\n",
       "      <th>711</th>\n",
       "      <td>9538</td>\n",
       "      <td>2</td>\n",
       "    </tr>\n",
       "  </tbody>\n",
       "</table>\n",
       "<p>712 rows × 2 columns</p>\n",
       "</div>"
      ],
      "text/plain": [
       "     company_id  total_users\n",
       "0             1            2\n",
       "1            21            3\n",
       "2            30            3\n",
       "3           108            2\n",
       "4           116            3\n",
       "..          ...          ...\n",
       "707        9402            1\n",
       "708        9457            1\n",
       "709        9471            6\n",
       "710        9524            2\n",
       "711        9538            2\n",
       "\n",
       "[712 rows x 2 columns]"
      ]
     },
     "execution_count": 194,
     "metadata": {},
     "output_type": "execute_result"
    }
   ],
   "source": [
    "people_act_gr"
   ]
  },
  {
   "cell_type": "markdown",
   "id": "66c7005f-e8c3-4a75-83bf-0b1925e72a20",
   "metadata": {},
   "source": [
    "Получили датасет с данными о кол-ве активных сотрудников по 712 компаниям."
   ]
  },
  {
   "cell_type": "code",
   "execution_count": 195,
   "id": "8e55a112-d97f-487f-86d9-600b025102b2",
   "metadata": {},
   "outputs": [
    {
     "name": "stdout",
     "output_type": "stream",
     "text": [
      "Min число пользователей:  1 Max число пользователей: 25\n"
     ]
    }
   ],
   "source": [
    "print('Min число пользователей: ',people_act_gr.total_users.min(),'Max число пользователей:', people_act_gr.total_users.max())"
   ]
  },
  {
   "cell_type": "markdown",
   "id": "bf5a9e6f-78d4-4bd9-b81a-27f9bdf6d07f",
   "metadata": {},
   "source": [
    "Учитывая то, что мах тариф допускает сейчас лишь 30 пользователей лимит ни у кого не превышен.Раз есть фирма с 25 пользователями, значит это ей нужно и считаю что доп пользователей сверх тарифа следует делать доп услугой. Причем стоимость добавления пользователей должна зависеть от текущего тарифа: чем выше тариф тем ниже доп пользователь. Чтобы стимулировать переход на более высокий тариф можно задать ограничение на доп пользователей как ограничение более высокого тарифа минус 1."
   ]
  },
  {
   "cell_type": "markdown",
   "id": "4f055234-c6fa-4715-b508-7729fbe5f2fc",
   "metadata": {},
   "source": [
    "### Сгруппируем activities "
   ]
  },
  {
   "cell_type": "code",
   "execution_count": 113,
   "id": "a7cf47ba-cb81-4556-b5e8-caa03b42ef65",
   "metadata": {},
   "outputs": [],
   "source": [
    "columns_for_count = ['month']\n",
    "columns_for_sum = ['billing','stocks','backups','projects','contractors','resource_orders']\n",
    "activities_gr = activities.groupby('company_id')\\\n",
    ".agg({**{e:'count' for e in columns_for_count}, **{e:'sum' for e in columns_for_sum}}).reset_index()"
   ]
  },
  {
   "cell_type": "code",
   "execution_count": 114,
   "id": "c701e03c-a36b-4d47-ae49-0cb360fcf30f",
   "metadata": {},
   "outputs": [
    {
     "data": {
      "text/html": [
       "<div>\n",
       "<style scoped>\n",
       "    .dataframe tbody tr th:only-of-type {\n",
       "        vertical-align: middle;\n",
       "    }\n",
       "\n",
       "    .dataframe tbody tr th {\n",
       "        vertical-align: top;\n",
       "    }\n",
       "\n",
       "    .dataframe thead th {\n",
       "        text-align: right;\n",
       "    }\n",
       "</style>\n",
       "<table border=\"1\" class=\"dataframe\">\n",
       "  <thead>\n",
       "    <tr style=\"text-align: right;\">\n",
       "      <th></th>\n",
       "      <th>dtype</th>\n",
       "      <th>nans_count</th>\n",
       "      <th>nans_ratio</th>\n",
       "      <th>duplicates_count</th>\n",
       "      <th>duplicates_ratio</th>\n",
       "      <th>uniques</th>\n",
       "      <th>min</th>\n",
       "      <th>mean</th>\n",
       "      <th>max</th>\n",
       "    </tr>\n",
       "  </thead>\n",
       "  <tbody>\n",
       "    <tr>\n",
       "      <th>company_id</th>\n",
       "      <td>int64</td>\n",
       "      <td>0</td>\n",
       "      <td>0.00</td>\n",
       "      <td>0</td>\n",
       "      <td>0.00</td>\n",
       "      <td>716</td>\n",
       "      <td>0</td>\n",
       "      <td>0.00</td>\n",
       "      <td>0</td>\n",
       "    </tr>\n",
       "    <tr>\n",
       "      <th>month</th>\n",
       "      <td>int64</td>\n",
       "      <td>0</td>\n",
       "      <td>0.00</td>\n",
       "      <td>0</td>\n",
       "      <td>0.00</td>\n",
       "      <td>38</td>\n",
       "      <td>0</td>\n",
       "      <td>0.00</td>\n",
       "      <td>0</td>\n",
       "    </tr>\n",
       "    <tr>\n",
       "      <th>billing</th>\n",
       "      <td>int32</td>\n",
       "      <td>0</td>\n",
       "      <td>0.00</td>\n",
       "      <td>0</td>\n",
       "      <td>0.00</td>\n",
       "      <td>18</td>\n",
       "      <td>2</td>\n",
       "      <td>3.31</td>\n",
       "      <td>29</td>\n",
       "    </tr>\n",
       "    <tr>\n",
       "      <th>stocks</th>\n",
       "      <td>int32</td>\n",
       "      <td>0</td>\n",
       "      <td>0.00</td>\n",
       "      <td>0</td>\n",
       "      <td>0.00</td>\n",
       "      <td>176</td>\n",
       "      <td>0</td>\n",
       "      <td>65.35</td>\n",
       "      <td>2122</td>\n",
       "    </tr>\n",
       "    <tr>\n",
       "      <th>backups</th>\n",
       "      <td>int32</td>\n",
       "      <td>0</td>\n",
       "      <td>0.00</td>\n",
       "      <td>0</td>\n",
       "      <td>0.00</td>\n",
       "      <td>82</td>\n",
       "      <td>0</td>\n",
       "      <td>10.39</td>\n",
       "      <td>310</td>\n",
       "    </tr>\n",
       "    <tr>\n",
       "      <th>projects</th>\n",
       "      <td>int32</td>\n",
       "      <td>0</td>\n",
       "      <td>0.00</td>\n",
       "      <td>0</td>\n",
       "      <td>0.00</td>\n",
       "      <td>176</td>\n",
       "      <td>1</td>\n",
       "      <td>64.07</td>\n",
       "      <td>2121</td>\n",
       "    </tr>\n",
       "    <tr>\n",
       "      <th>contractors</th>\n",
       "      <td>int32</td>\n",
       "      <td>0</td>\n",
       "      <td>0.00</td>\n",
       "      <td>0</td>\n",
       "      <td>0.00</td>\n",
       "      <td>199</td>\n",
       "      <td>1</td>\n",
       "      <td>69.74</td>\n",
       "      <td>1343</td>\n",
       "    </tr>\n",
       "    <tr>\n",
       "      <th>resource_orders</th>\n",
       "      <td>int32</td>\n",
       "      <td>0</td>\n",
       "      <td>0.00</td>\n",
       "      <td>0</td>\n",
       "      <td>0.00</td>\n",
       "      <td>173</td>\n",
       "      <td>0</td>\n",
       "      <td>91.27</td>\n",
       "      <td>9420</td>\n",
       "    </tr>\n",
       "  </tbody>\n",
       "</table>\n",
       "</div>"
      ],
      "text/plain": [
       "                 dtype  nans_count  nans_ratio  duplicates_count  \\\n",
       "company_id       int64           0        0.00                 0   \n",
       "month            int64           0        0.00                 0   \n",
       "billing          int32           0        0.00                 0   \n",
       "stocks           int32           0        0.00                 0   \n",
       "backups          int32           0        0.00                 0   \n",
       "projects         int32           0        0.00                 0   \n",
       "contractors      int32           0        0.00                 0   \n",
       "resource_orders  int32           0        0.00                 0   \n",
       "\n",
       "                 duplicates_ratio  uniques  min  mean   max  \n",
       "company_id                   0.00      716    0  0.00     0  \n",
       "month                        0.00       38    0  0.00     0  \n",
       "billing                      0.00       18    2  3.31    29  \n",
       "stocks                       0.00      176    0 65.35  2122  \n",
       "backups                      0.00       82    0 10.39   310  \n",
       "projects                     0.00      176    1 64.07  2121  \n",
       "contractors                  0.00      199    1 69.74  1343  \n",
       "resource_orders              0.00      173    0 91.27  9420  "
      ]
     },
     "metadata": {},
     "output_type": "display_data"
    }
   ],
   "source": [
    "show_stats(activities_gr)"
   ]
  },
  {
   "cell_type": "markdown",
   "id": "aca1c9e4-419c-4a56-9ffb-e65bc27eb6e1",
   "metadata": {},
   "source": [
    "На выходе получаем файл с данными по 716 компаниям, готовый к слиянию с другими данными"
   ]
  },
  {
   "cell_type": "markdown",
   "id": "5b290e6f-d254-420b-beb2-d0cd1ade5304",
   "metadata": {},
   "source": [
    "### Подготовим список ушеших компаний, отфильтровав датесет по leavers_id"
   ]
  },
  {
   "cell_type": "code",
   "execution_count": 115,
   "id": "5eae89e1-11c9-4444-8021-5bad9976eede",
   "metadata": {},
   "outputs": [],
   "source": [
    "companies_levers=companies.query('id in @leavers_id')"
   ]
  },
  {
   "cell_type": "code",
   "execution_count": 116,
   "id": "41681ae3-519f-4ee3-aff1-8bf35ce3d744",
   "metadata": {},
   "outputs": [
    {
     "data": {
      "text/html": [
       "<div>\n",
       "<style scoped>\n",
       "    .dataframe tbody tr th:only-of-type {\n",
       "        vertical-align: middle;\n",
       "    }\n",
       "\n",
       "    .dataframe tbody tr th {\n",
       "        vertical-align: top;\n",
       "    }\n",
       "\n",
       "    .dataframe thead th {\n",
       "        text-align: right;\n",
       "    }\n",
       "</style>\n",
       "<table border=\"1\" class=\"dataframe\">\n",
       "  <thead>\n",
       "    <tr style=\"text-align: right;\">\n",
       "      <th></th>\n",
       "      <th>id</th>\n",
       "      <th>working_direction</th>\n",
       "      <th>employer_count_interval</th>\n",
       "      <th>created_at</th>\n",
       "      <th>updated_at</th>\n",
       "      <th>billing_tariff_id</th>\n",
       "      <th>billing_is_over</th>\n",
       "      <th>tariff</th>\n",
       "    </tr>\n",
       "  </thead>\n",
       "  <tbody>\n",
       "    <tr>\n",
       "      <th>0</th>\n",
       "      <td>514</td>\n",
       "      <td>NaN</td>\n",
       "      <td>1</td>\n",
       "      <td>2019-10-17 15:50:35</td>\n",
       "      <td>2022-12-06 06:45:14</td>\n",
       "      <td>4</td>\n",
       "      <td>True</td>\n",
       "      <td>старт</td>\n",
       "    </tr>\n",
       "    <tr>\n",
       "      <th>3</th>\n",
       "      <td>724</td>\n",
       "      <td>NaN</td>\n",
       "      <td>1</td>\n",
       "      <td>2020-01-20 12:59:53</td>\n",
       "      <td>2022-12-06 06:44:54</td>\n",
       "      <td>4</td>\n",
       "      <td>True</td>\n",
       "      <td>старт</td>\n",
       "    </tr>\n",
       "    <tr>\n",
       "      <th>4</th>\n",
       "      <td>471</td>\n",
       "      <td>NaN</td>\n",
       "      <td>1</td>\n",
       "      <td>2019-09-24 15:26:57</td>\n",
       "      <td>2022-12-06 06:46:00</td>\n",
       "      <td>7</td>\n",
       "      <td>True</td>\n",
       "      <td>старт</td>\n",
       "    </tr>\n",
       "    <tr>\n",
       "      <th>6</th>\n",
       "      <td>726</td>\n",
       "      <td>NaN</td>\n",
       "      <td>1</td>\n",
       "      <td>2020-01-20 22:33:56</td>\n",
       "      <td>2022-12-06 06:45:43</td>\n",
       "      <td>4</td>\n",
       "      <td>True</td>\n",
       "      <td>старт</td>\n",
       "    </tr>\n",
       "    <tr>\n",
       "      <th>7</th>\n",
       "      <td>650</td>\n",
       "      <td>генеральный подрядчик</td>\n",
       "      <td>4</td>\n",
       "      <td>2019-12-08 09:01:38</td>\n",
       "      <td>2022-12-06 06:45:46</td>\n",
       "      <td>2</td>\n",
       "      <td>True</td>\n",
       "      <td>базовый</td>\n",
       "    </tr>\n",
       "    <tr>\n",
       "      <th>...</th>\n",
       "      <td>...</td>\n",
       "      <td>...</td>\n",
       "      <td>...</td>\n",
       "      <td>...</td>\n",
       "      <td>...</td>\n",
       "      <td>...</td>\n",
       "      <td>...</td>\n",
       "      <td>...</td>\n",
       "    </tr>\n",
       "    <tr>\n",
       "      <th>586</th>\n",
       "      <td>7109</td>\n",
       "      <td>NaN</td>\n",
       "      <td>1</td>\n",
       "      <td>2023-01-05 17:06:17</td>\n",
       "      <td>2023-01-31 01:00:01</td>\n",
       "      <td>2</td>\n",
       "      <td>True</td>\n",
       "      <td>базовый</td>\n",
       "    </tr>\n",
       "    <tr>\n",
       "      <th>593</th>\n",
       "      <td>7159</td>\n",
       "      <td>NaN</td>\n",
       "      <td>1</td>\n",
       "      <td>2023-01-13 11:41:27</td>\n",
       "      <td>2023-02-01 01:00:03</td>\n",
       "      <td>4</td>\n",
       "      <td>True</td>\n",
       "      <td>старт</td>\n",
       "    </tr>\n",
       "    <tr>\n",
       "      <th>600</th>\n",
       "      <td>7302</td>\n",
       "      <td>строительство</td>\n",
       "      <td>2</td>\n",
       "      <td>2023-02-03 16:56:53</td>\n",
       "      <td>2023-02-28 01:00:01</td>\n",
       "      <td>2</td>\n",
       "      <td>True</td>\n",
       "      <td>базовый</td>\n",
       "    </tr>\n",
       "    <tr>\n",
       "      <th>639</th>\n",
       "      <td>7870</td>\n",
       "      <td>NaN</td>\n",
       "      <td>2</td>\n",
       "      <td>2023-05-02 09:09:18</td>\n",
       "      <td>2023-05-25 01:00:02</td>\n",
       "      <td>2</td>\n",
       "      <td>True</td>\n",
       "      <td>базовый</td>\n",
       "    </tr>\n",
       "    <tr>\n",
       "      <th>649</th>\n",
       "      <td>336</td>\n",
       "      <td>строительство</td>\n",
       "      <td>1</td>\n",
       "      <td>2019-06-21 20:28:38</td>\n",
       "      <td>2023-06-11 01:00:02</td>\n",
       "      <td>4</td>\n",
       "      <td>True</td>\n",
       "      <td>старт</td>\n",
       "    </tr>\n",
       "  </tbody>\n",
       "</table>\n",
       "<p>318 rows × 8 columns</p>\n",
       "</div>"
      ],
      "text/plain": [
       "       id      working_direction  employer_count_interval          created_at  \\\n",
       "0     514                    NaN                        1 2019-10-17 15:50:35   \n",
       "3     724                    NaN                        1 2020-01-20 12:59:53   \n",
       "4     471                    NaN                        1 2019-09-24 15:26:57   \n",
       "6     726                    NaN                        1 2020-01-20 22:33:56   \n",
       "7     650  генеральный подрядчик                        4 2019-12-08 09:01:38   \n",
       "..    ...                    ...                      ...                 ...   \n",
       "586  7109                    NaN                        1 2023-01-05 17:06:17   \n",
       "593  7159                    NaN                        1 2023-01-13 11:41:27   \n",
       "600  7302          строительство                        2 2023-02-03 16:56:53   \n",
       "639  7870                    NaN                        2 2023-05-02 09:09:18   \n",
       "649   336          строительство                        1 2019-06-21 20:28:38   \n",
       "\n",
       "             updated_at  billing_tariff_id  billing_is_over   tariff  \n",
       "0   2022-12-06 06:45:14                  4             True    старт  \n",
       "3   2022-12-06 06:44:54                  4             True    старт  \n",
       "4   2022-12-06 06:46:00                  7             True    старт  \n",
       "6   2022-12-06 06:45:43                  4             True    старт  \n",
       "7   2022-12-06 06:45:46                  2             True  базовый  \n",
       "..                  ...                ...              ...      ...  \n",
       "586 2023-01-31 01:00:01                  2             True  базовый  \n",
       "593 2023-02-01 01:00:03                  4             True    старт  \n",
       "600 2023-02-28 01:00:01                  2             True  базовый  \n",
       "639 2023-05-25 01:00:02                  2             True  базовый  \n",
       "649 2023-06-11 01:00:02                  4             True    старт  \n",
       "\n",
       "[318 rows x 8 columns]"
      ]
     },
     "execution_count": 116,
     "metadata": {},
     "output_type": "execute_result"
    }
   ],
   "source": [
    "companies_levers"
   ]
  },
  {
   "cell_type": "code",
   "execution_count": 117,
   "id": "d6e7a292-58a7-4e67-beef-149efa3faf85",
   "metadata": {},
   "outputs": [],
   "source": [
    "\n",
    "companies_levers.rename(columns={'id':'company_id'}, inplace=True)"
   ]
  },
  {
   "cell_type": "markdown",
   "id": "78773382-7dbe-4984-8297-88457a582188",
   "metadata": {},
   "source": [
    "### Подготовим billing (лишь его часть leavers, ушедшие компании) "
   ]
  },
  {
   "cell_type": "code",
   "execution_count": 118,
   "id": "b0299fff-3b30-43ec-8649-ae90ba12d514",
   "metadata": {},
   "outputs": [
    {
     "data": {
      "text/html": [
       "<div>\n",
       "<style scoped>\n",
       "    .dataframe tbody tr th:only-of-type {\n",
       "        vertical-align: middle;\n",
       "    }\n",
       "\n",
       "    .dataframe tbody tr th {\n",
       "        vertical-align: top;\n",
       "    }\n",
       "\n",
       "    .dataframe thead th {\n",
       "        text-align: right;\n",
       "    }\n",
       "</style>\n",
       "<table border=\"1\" class=\"dataframe\">\n",
       "  <thead>\n",
       "    <tr style=\"text-align: right;\">\n",
       "      <th></th>\n",
       "      <th>company_id</th>\n",
       "      <th>payed_until</th>\n",
       "      <th>life</th>\n",
       "      <th>R</th>\n",
       "    </tr>\n",
       "  </thead>\n",
       "  <tbody>\n",
       "    <tr>\n",
       "      <th>0</th>\n",
       "      <td>1</td>\n",
       "      <td>2021-07-26 02:59:59</td>\n",
       "      <td>494 days 08:11:55</td>\n",
       "      <td>1</td>\n",
       "    </tr>\n",
       "    <tr>\n",
       "      <th>1</th>\n",
       "      <td>6</td>\n",
       "      <td>2019-10-26 02:59:59</td>\n",
       "      <td>92 days 13:05:56</td>\n",
       "      <td>1</td>\n",
       "    </tr>\n",
       "    <tr>\n",
       "      <th>2</th>\n",
       "      <td>13</td>\n",
       "      <td>2020-08-01 02:59:59</td>\n",
       "      <td>373 days 14:29:54</td>\n",
       "      <td>1</td>\n",
       "    </tr>\n",
       "    <tr>\n",
       "      <th>3</th>\n",
       "      <td>18</td>\n",
       "      <td>2022-12-09 02:59:59</td>\n",
       "      <td>365 days 14:32:17</td>\n",
       "      <td>1</td>\n",
       "    </tr>\n",
       "    <tr>\n",
       "      <th>4</th>\n",
       "      <td>21</td>\n",
       "      <td>2023-05-27 03:00:00</td>\n",
       "      <td>365 days 12:50:38</td>\n",
       "      <td>1</td>\n",
       "    </tr>\n",
       "    <tr>\n",
       "      <th>...</th>\n",
       "      <td>...</td>\n",
       "      <td>...</td>\n",
       "      <td>...</td>\n",
       "      <td>...</td>\n",
       "    </tr>\n",
       "    <tr>\n",
       "      <th>775</th>\n",
       "      <td>6964</td>\n",
       "      <td>2023-06-02 03:00:00</td>\n",
       "      <td>91 days 12:34:58</td>\n",
       "      <td>1</td>\n",
       "    </tr>\n",
       "    <tr>\n",
       "      <th>776</th>\n",
       "      <td>7109</td>\n",
       "      <td>2023-01-30 03:00:00</td>\n",
       "      <td>13 days 16:50:07</td>\n",
       "      <td>1</td>\n",
       "    </tr>\n",
       "    <tr>\n",
       "      <th>777</th>\n",
       "      <td>7159</td>\n",
       "      <td>2023-01-31 03:00:00</td>\n",
       "      <td>7 days 13:13:04</td>\n",
       "      <td>1</td>\n",
       "    </tr>\n",
       "    <tr>\n",
       "      <th>778</th>\n",
       "      <td>7302</td>\n",
       "      <td>2023-02-27 03:00:00</td>\n",
       "      <td>23 days 08:54:16</td>\n",
       "      <td>1</td>\n",
       "    </tr>\n",
       "    <tr>\n",
       "      <th>779</th>\n",
       "      <td>7870</td>\n",
       "      <td>2023-05-24 03:00:00</td>\n",
       "      <td>21 days 15:01:10</td>\n",
       "      <td>1</td>\n",
       "    </tr>\n",
       "  </tbody>\n",
       "</table>\n",
       "<p>780 rows × 4 columns</p>\n",
       "</div>"
      ],
      "text/plain": [
       "     company_id         payed_until              life  R\n",
       "0             1 2021-07-26 02:59:59 494 days 08:11:55  1\n",
       "1             6 2019-10-26 02:59:59  92 days 13:05:56  1\n",
       "2            13 2020-08-01 02:59:59 373 days 14:29:54  1\n",
       "3            18 2022-12-09 02:59:59 365 days 14:32:17  1\n",
       "4            21 2023-05-27 03:00:00 365 days 12:50:38  1\n",
       "..          ...                 ...               ... ..\n",
       "775        6964 2023-06-02 03:00:00  91 days 12:34:58  1\n",
       "776        7109 2023-01-30 03:00:00  13 days 16:50:07  1\n",
       "777        7159 2023-01-31 03:00:00   7 days 13:13:04  1\n",
       "778        7302 2023-02-27 03:00:00  23 days 08:54:16  1\n",
       "779        7870 2023-05-24 03:00:00  21 days 15:01:10  1\n",
       "\n",
       "[780 rows x 4 columns]"
      ]
     },
     "execution_count": 118,
     "metadata": {},
     "output_type": "execute_result"
    }
   ],
   "source": [
    "columns_for_max = ['payed_until','life']\n",
    "columns_for_last = [ 'R']\n",
    "leavers_gr = leavers.groupby('company_id')\\\n",
    ".agg({**{e:'max' for e in columns_for_max}, **{e:'last' for e in columns_for_last}}).reset_index()\n",
    "leavers_gr"
   ]
  },
  {
   "cell_type": "markdown",
   "id": "3dfdb4d4-8728-4136-b8d7-e6db68f504b7",
   "metadata": {},
   "source": [
    "Получился датасет с даными о 780 компаний."
   ]
  },
  {
   "cell_type": "markdown",
   "id": "d471df8c-d5ec-4150-9bea-a65ed6aff3c3",
   "metadata": {},
   "source": [
    "### Слияние датасетов"
   ]
  },
  {
   "cell_type": "code",
   "execution_count": 119,
   "id": "8f4f0ced-e162-4e58-a06d-3ce94a60880f",
   "metadata": {},
   "outputs": [],
   "source": [
    "merged=pd.merge(companies_levers,leavers_gr, on='company_id')"
   ]
  },
  {
   "cell_type": "code",
   "execution_count": 120,
   "id": "e47bbd82-615f-4329-9081-c3f0cd4e20ba",
   "metadata": {},
   "outputs": [],
   "source": [
    "merged=pd.merge(merged,activities_gr, on='company_id')"
   ]
  },
  {
   "cell_type": "code",
   "execution_count": 121,
   "id": "0f6e3306-1944-4e69-a721-f0c5148314bf",
   "metadata": {},
   "outputs": [],
   "source": [
    "merged=pd.merge(merged,+people_gr, on='company_id')"
   ]
  },
  {
   "cell_type": "code",
   "execution_count": 122,
   "id": "a65979c5-8bf3-45c3-a0a5-01e0445f00c9",
   "metadata": {},
   "outputs": [
    {
     "data": {
      "text/html": [
       "<div>\n",
       "<style scoped>\n",
       "    .dataframe tbody tr th:only-of-type {\n",
       "        vertical-align: middle;\n",
       "    }\n",
       "\n",
       "    .dataframe tbody tr th {\n",
       "        vertical-align: top;\n",
       "    }\n",
       "\n",
       "    .dataframe thead th {\n",
       "        text-align: right;\n",
       "    }\n",
       "</style>\n",
       "<table border=\"1\" class=\"dataframe\">\n",
       "  <thead>\n",
       "    <tr style=\"text-align: right;\">\n",
       "      <th></th>\n",
       "      <th>company_id</th>\n",
       "      <th>working_direction</th>\n",
       "      <th>employer_count_interval</th>\n",
       "      <th>created_at</th>\n",
       "      <th>updated_at</th>\n",
       "      <th>billing_tariff_id</th>\n",
       "      <th>billing_is_over</th>\n",
       "      <th>tariff</th>\n",
       "      <th>payed_until</th>\n",
       "      <th>life</th>\n",
       "      <th>R</th>\n",
       "      <th>month</th>\n",
       "      <th>billing</th>\n",
       "      <th>stocks</th>\n",
       "      <th>backups</th>\n",
       "      <th>projects</th>\n",
       "      <th>contractors</th>\n",
       "      <th>resource_orders</th>\n",
       "      <th>total_users</th>\n",
       "    </tr>\n",
       "  </thead>\n",
       "  <tbody>\n",
       "    <tr>\n",
       "      <th>46</th>\n",
       "      <td>1233</td>\n",
       "      <td>NaN</td>\n",
       "      <td>1</td>\n",
       "      <td>2020-06-09 12:25:21</td>\n",
       "      <td>2022-12-06 06:44:48</td>\n",
       "      <td>7</td>\n",
       "      <td>True</td>\n",
       "      <td>старт</td>\n",
       "      <td>2021-07-08 03:00:00</td>\n",
       "      <td>366 days 12:20:09</td>\n",
       "      <td>1</td>\n",
       "      <td>3</td>\n",
       "      <td>2</td>\n",
       "      <td>7</td>\n",
       "      <td>0</td>\n",
       "      <td>7</td>\n",
       "      <td>6</td>\n",
       "      <td>0</td>\n",
       "      <td>2</td>\n",
       "    </tr>\n",
       "    <tr>\n",
       "      <th>245</th>\n",
       "      <td>5532</td>\n",
       "      <td>NaN</td>\n",
       "      <td>1</td>\n",
       "      <td>2022-03-05 12:00:33</td>\n",
       "      <td>2022-12-06 06:46:04</td>\n",
       "      <td>2</td>\n",
       "      <td>True</td>\n",
       "      <td>базовый</td>\n",
       "      <td>2022-07-20 03:00:00</td>\n",
       "      <td>90 days 10:53:47</td>\n",
       "      <td>1</td>\n",
       "      <td>2</td>\n",
       "      <td>2</td>\n",
       "      <td>1</td>\n",
       "      <td>0</td>\n",
       "      <td>1</td>\n",
       "      <td>2</td>\n",
       "      <td>5</td>\n",
       "      <td>2</td>\n",
       "    </tr>\n",
       "    <tr>\n",
       "      <th>144</th>\n",
       "      <td>3085</td>\n",
       "      <td>строительство</td>\n",
       "      <td>1</td>\n",
       "      <td>2021-04-07 12:40:24</td>\n",
       "      <td>2022-12-06 06:44:52</td>\n",
       "      <td>7</td>\n",
       "      <td>True</td>\n",
       "      <td>старт</td>\n",
       "      <td>2022-04-08 03:00:00</td>\n",
       "      <td>364 days 11:52:56</td>\n",
       "      <td>1</td>\n",
       "      <td>3</td>\n",
       "      <td>3</td>\n",
       "      <td>6</td>\n",
       "      <td>0</td>\n",
       "      <td>6</td>\n",
       "      <td>4</td>\n",
       "      <td>0</td>\n",
       "      <td>2</td>\n",
       "    </tr>\n",
       "    <tr>\n",
       "      <th>136</th>\n",
       "      <td>2824</td>\n",
       "      <td>строительство коттеджей</td>\n",
       "      <td>2</td>\n",
       "      <td>2021-02-16 07:53:42</td>\n",
       "      <td>2022-12-06 06:45:13</td>\n",
       "      <td>2</td>\n",
       "      <td>True</td>\n",
       "      <td>базовый</td>\n",
       "      <td>2022-02-07 03:00:00</td>\n",
       "      <td>227 days 11:01:54</td>\n",
       "      <td>1</td>\n",
       "      <td>13</td>\n",
       "      <td>3</td>\n",
       "      <td>11</td>\n",
       "      <td>47</td>\n",
       "      <td>10</td>\n",
       "      <td>16</td>\n",
       "      <td>1</td>\n",
       "      <td>9</td>\n",
       "    </tr>\n",
       "    <tr>\n",
       "      <th>272</th>\n",
       "      <td>3717</td>\n",
       "      <td>NaN</td>\n",
       "      <td>1</td>\n",
       "      <td>2021-07-07 20:27:51</td>\n",
       "      <td>2022-12-06 06:44:29</td>\n",
       "      <td>7</td>\n",
       "      <td>True</td>\n",
       "      <td>старт</td>\n",
       "      <td>2022-08-22 03:00:00</td>\n",
       "      <td>404 days 15:26:38</td>\n",
       "      <td>1</td>\n",
       "      <td>12</td>\n",
       "      <td>2</td>\n",
       "      <td>13</td>\n",
       "      <td>0</td>\n",
       "      <td>13</td>\n",
       "      <td>134</td>\n",
       "      <td>162</td>\n",
       "      <td>2</td>\n",
       "    </tr>\n",
       "  </tbody>\n",
       "</table>\n",
       "</div>"
      ],
      "text/plain": [
       "     company_id        working_direction  employer_count_interval  \\\n",
       "46         1233                      NaN                        1   \n",
       "245        5532                      NaN                        1   \n",
       "144        3085            строительство                        1   \n",
       "136        2824  строительство коттеджей                        2   \n",
       "272        3717                      NaN                        1   \n",
       "\n",
       "             created_at          updated_at  billing_tariff_id  \\\n",
       "46  2020-06-09 12:25:21 2022-12-06 06:44:48                  7   \n",
       "245 2022-03-05 12:00:33 2022-12-06 06:46:04                  2   \n",
       "144 2021-04-07 12:40:24 2022-12-06 06:44:52                  7   \n",
       "136 2021-02-16 07:53:42 2022-12-06 06:45:13                  2   \n",
       "272 2021-07-07 20:27:51 2022-12-06 06:44:29                  7   \n",
       "\n",
       "     billing_is_over   tariff         payed_until              life  R  month  \\\n",
       "46              True    старт 2021-07-08 03:00:00 366 days 12:20:09  1      3   \n",
       "245             True  базовый 2022-07-20 03:00:00  90 days 10:53:47  1      2   \n",
       "144             True    старт 2022-04-08 03:00:00 364 days 11:52:56  1      3   \n",
       "136             True  базовый 2022-02-07 03:00:00 227 days 11:01:54  1     13   \n",
       "272             True    старт 2022-08-22 03:00:00 404 days 15:26:38  1     12   \n",
       "\n",
       "     billing  stocks  backups  projects  contractors  resource_orders  \\\n",
       "46         2       7        0         7            6                0   \n",
       "245        2       1        0         1            2                5   \n",
       "144        3       6        0         6            4                0   \n",
       "136        3      11       47        10           16                1   \n",
       "272        2      13        0        13          134              162   \n",
       "\n",
       "     total_users  \n",
       "46             2  \n",
       "245            2  \n",
       "144            2  \n",
       "136            9  \n",
       "272            2  "
      ]
     },
     "execution_count": 122,
     "metadata": {},
     "output_type": "execute_result"
    }
   ],
   "source": [
    "merged.sample(5)"
   ]
  },
  {
   "cell_type": "markdown",
   "id": "85e872ea-6852-49c3-8bc3-820a31f647e1",
   "metadata": {},
   "source": [
    "Проверим его на полные дубликаты:"
   ]
  },
  {
   "cell_type": "code",
   "execution_count": 123,
   "id": "fdc90511-06d6-4cd6-b575-1f14322dca37",
   "metadata": {},
   "outputs": [
    {
     "data": {
      "text/plain": [
       "0"
      ]
     },
     "execution_count": 123,
     "metadata": {},
     "output_type": "execute_result"
    }
   ],
   "source": [
    "merged.duplicated().sum()"
   ]
  },
  {
   "cell_type": "markdown",
   "id": "0c653e00-1e78-4896-964a-8731c2be50dc",
   "metadata": {},
   "source": [
    "### Анализ полученного датасета"
   ]
  },
  {
   "cell_type": "markdown",
   "id": "0d9ec950-f9b3-49a8-ab34-a067b7aa58e2",
   "metadata": {},
   "source": [
    "#### группировка по тарифу"
   ]
  },
  {
   "cell_type": "code",
   "execution_count": 124,
   "id": "e976d7cc-6a8a-4ba1-9125-93d0b4196355",
   "metadata": {},
   "outputs": [],
   "source": [
    "gr1=merged.groupby('tariff').company_id.count().reset_index()"
   ]
  },
  {
   "cell_type": "code",
   "execution_count": 125,
   "id": "d2a060bb-db65-475d-ba55-143185eee952",
   "metadata": {},
   "outputs": [
    {
     "data": {
      "text/html": [
       "<div>\n",
       "<style scoped>\n",
       "    .dataframe tbody tr th:only-of-type {\n",
       "        vertical-align: middle;\n",
       "    }\n",
       "\n",
       "    .dataframe tbody tr th {\n",
       "        vertical-align: top;\n",
       "    }\n",
       "\n",
       "    .dataframe thead th {\n",
       "        text-align: right;\n",
       "    }\n",
       "</style>\n",
       "<table border=\"1\" class=\"dataframe\">\n",
       "  <thead>\n",
       "    <tr style=\"text-align: right;\">\n",
       "      <th></th>\n",
       "      <th>tariff</th>\n",
       "      <th>company_id</th>\n",
       "    </tr>\n",
       "  </thead>\n",
       "  <tbody>\n",
       "    <tr>\n",
       "      <th>0</th>\n",
       "      <td>базовый</td>\n",
       "      <td>129</td>\n",
       "    </tr>\n",
       "    <tr>\n",
       "      <th>1</th>\n",
       "      <td>бизнес</td>\n",
       "      <td>9</td>\n",
       "    </tr>\n",
       "    <tr>\n",
       "      <th>2</th>\n",
       "      <td>профи</td>\n",
       "      <td>11</td>\n",
       "    </tr>\n",
       "    <tr>\n",
       "      <th>3</th>\n",
       "      <td>старт</td>\n",
       "      <td>165</td>\n",
       "    </tr>\n",
       "  </tbody>\n",
       "</table>\n",
       "</div>"
      ],
      "text/plain": [
       "    tariff  company_id\n",
       "0  базовый         129\n",
       "1   бизнес           9\n",
       "2    профи          11\n",
       "3    старт         165"
      ]
     },
     "metadata": {},
     "output_type": "display_data"
    }
   ],
   "source": [
    "display(gr1)"
   ]
  },
  {
   "cell_type": "code",
   "execution_count": 126,
   "id": "517f253c-52a0-4c75-82cc-0266b1fb652b",
   "metadata": {},
   "outputs": [
    {
     "data": {
      "image/png": "[encoded data removed]",
      "text/plain": [
       "<Figure size 1000x600 with 1 Axes>"
      ]
     },
     "metadata": {},
     "output_type": "display_data"
    }
   ],
   "source": [
    "plt.figure(figsize=(10, 6))\n",
    "sns.barplot (x=\"tariff\", y=\"company_id\", data=gr1.sort_values(by='company_id'))\n",
    "plt.title('Количество ушедших команий с тарифов', fontsize=14)\n",
    "plt.xlabel('Тариф')\n",
    "plt.ylabel('Количество, шт')\n",
    "plt.show()"
   ]
  },
  {
   "cell_type": "markdown",
   "id": "4296cdc9-bdf1-4418-9fb1-3dbf9a2678d2",
   "metadata": {},
   "source": [
    "При отборе ушедших компаний через R анализ, тоже видим, что самые покидаемые тарифы базовый и старт."
   ]
  },
  {
   "cell_type": "markdown",
   "id": "a935d235-e5e4-4a10-914d-4e031afc04d8",
   "metadata": {},
   "source": [
    "#### группировка по времени жизни в сервисе"
   ]
  },
  {
   "cell_type": "code",
   "execution_count": 127,
   "id": "a5d2d6c3-7a7d-4ce6-a99a-42ba992c1ae7",
   "metadata": {},
   "outputs": [],
   "source": [
    "merged['time_in']=merged.life.apply(cl_time)\n",
    "gr2=merged.groupby('time_in').company_id.count().reset_index()"
   ]
  },
  {
   "cell_type": "code",
   "execution_count": 128,
   "id": "03f8aaf5-570d-4424-be55-e8d4649a5ad6",
   "metadata": {},
   "outputs": [
    {
     "data": {
      "text/html": [
       "<div>\n",
       "<style scoped>\n",
       "    .dataframe tbody tr th:only-of-type {\n",
       "        vertical-align: middle;\n",
       "    }\n",
       "\n",
       "    .dataframe tbody tr th {\n",
       "        vertical-align: top;\n",
       "    }\n",
       "\n",
       "    .dataframe thead th {\n",
       "        text-align: right;\n",
       "    }\n",
       "</style>\n",
       "<table border=\"1\" class=\"dataframe\">\n",
       "  <thead>\n",
       "    <tr style=\"text-align: right;\">\n",
       "      <th></th>\n",
       "      <th>time_in</th>\n",
       "      <th>company_id</th>\n",
       "    </tr>\n",
       "  </thead>\n",
       "  <tbody>\n",
       "    <tr>\n",
       "      <th>0</th>\n",
       "      <td>2 года</td>\n",
       "      <td>146</td>\n",
       "    </tr>\n",
       "    <tr>\n",
       "      <th>1</th>\n",
       "      <td>3 года</td>\n",
       "      <td>1</td>\n",
       "    </tr>\n",
       "    <tr>\n",
       "      <th>2</th>\n",
       "      <td>год</td>\n",
       "      <td>66</td>\n",
       "    </tr>\n",
       "    <tr>\n",
       "      <th>3</th>\n",
       "      <td>полгода</td>\n",
       "      <td>105</td>\n",
       "    </tr>\n",
       "  </tbody>\n",
       "</table>\n",
       "</div>"
      ],
      "text/plain": [
       "   time_in  company_id\n",
       "0   2 года         146\n",
       "1   3 года           1\n",
       "2      год          66\n",
       "3  полгода         105"
      ]
     },
     "execution_count": 128,
     "metadata": {},
     "output_type": "execute_result"
    }
   ],
   "source": [
    "gr2"
   ]
  },
  {
   "cell_type": "code",
   "execution_count": 129,
   "id": "04712532-4c0c-4c54-acea-e3313a3bfa89",
   "metadata": {},
   "outputs": [
    {
     "data": {
      "image/png": "[encoded data removed]",
      "text/plain": [
       "<Figure size 1000x600 with 1 Axes>"
      ]
     },
     "metadata": {},
     "output_type": "display_data"
    }
   ],
   "source": [
    "plt.figure(figsize=(10, 6))\n",
    "sns.barplot (x=\"time_in\", y=\"company_id\", data=gr2.sort_values(by='company_id'))\n",
    "plt.title('Время жизни в сервисе', fontsize=14)\n",
    "plt.xlabel('Время')\n",
    "plt.ylabel('Количество, шт')\n",
    "plt.show()"
   ]
  },
  {
   "cell_type": "markdown",
   "id": "73ddbf44-a0f7-4eb3-8d06-a6b722e75205",
   "metadata": {},
   "source": [
    "Лидеры ухода top3 - компанни со стажем в сервисе от полугода до 2х лет. Компании со стажем до года - возможно был проплачен период подписки на год, как она закончилась решили не продлевать. Компании со стажем 2 года почему уходят непонятно, нужно доп исследование, но предоставленные данные не дают ответа на этот вопрос."
   ]
  },
  {
   "cell_type": "markdown",
   "id": "00a786b7-e734-4b4b-a900-b07d52b7661b",
   "metadata": {},
   "source": [
    "#### группировка по полю billing_is_over"
   ]
  },
  {
   "cell_type": "code",
   "execution_count": 130,
   "id": "cf69ed05-f889-477a-8598-4f6d9abe3d16",
   "metadata": {},
   "outputs": [],
   "source": [
    "gr3=merged.groupby('billing_is_over').company_id.count().reset_index()"
   ]
  },
  {
   "cell_type": "code",
   "execution_count": 131,
   "id": "fba63c07-befd-4f6c-aa51-c0a907108dc0",
   "metadata": {},
   "outputs": [
    {
     "data": {
      "text/html": [
       "<div>\n",
       "<style scoped>\n",
       "    .dataframe tbody tr th:only-of-type {\n",
       "        vertical-align: middle;\n",
       "    }\n",
       "\n",
       "    .dataframe tbody tr th {\n",
       "        vertical-align: top;\n",
       "    }\n",
       "\n",
       "    .dataframe thead th {\n",
       "        text-align: right;\n",
       "    }\n",
       "</style>\n",
       "<table border=\"1\" class=\"dataframe\">\n",
       "  <thead>\n",
       "    <tr style=\"text-align: right;\">\n",
       "      <th></th>\n",
       "      <th>billing_is_over</th>\n",
       "      <th>company_id</th>\n",
       "    </tr>\n",
       "  </thead>\n",
       "  <tbody>\n",
       "    <tr>\n",
       "      <th>0</th>\n",
       "      <td>True</td>\n",
       "      <td>318</td>\n",
       "    </tr>\n",
       "  </tbody>\n",
       "</table>\n",
       "</div>"
      ],
      "text/plain": [
       "   billing_is_over  company_id\n",
       "0             True         318"
      ]
     },
     "execution_count": 131,
     "metadata": {},
     "output_type": "execute_result"
    }
   ],
   "source": [
    "gr3"
   ]
  },
  {
   "cell_type": "markdown",
   "id": "76823b42-f797-4831-94e5-2a784a78ff8b",
   "metadata": {},
   "source": [
    "У всех отобранных компаний это поле True, ошибки в отборе ушедших компаний нет."
   ]
  },
  {
   "cell_type": "markdown",
   "id": "306dac8e-e4eb-4ee9-9bcf-77939193483d",
   "metadata": {},
   "source": [
    "#### группировка по полю working_direction"
   ]
  },
  {
   "cell_type": "code",
   "execution_count": 132,
   "id": "d869c6fe-52e9-4db7-bf7c-18d0e8b0e558",
   "metadata": {},
   "outputs": [
    {
     "data": {
      "text/html": [
       "<div>\n",
       "<style scoped>\n",
       "    .dataframe tbody tr th:only-of-type {\n",
       "        vertical-align: middle;\n",
       "    }\n",
       "\n",
       "    .dataframe tbody tr th {\n",
       "        vertical-align: top;\n",
       "    }\n",
       "\n",
       "    .dataframe thead th {\n",
       "        text-align: right;\n",
       "    }\n",
       "</style>\n",
       "<table border=\"1\" class=\"dataframe\">\n",
       "  <thead>\n",
       "    <tr style=\"text-align: right;\">\n",
       "      <th></th>\n",
       "      <th>working_direction</th>\n",
       "      <th>company_id</th>\n",
       "    </tr>\n",
       "  </thead>\n",
       "  <tbody>\n",
       "    <tr>\n",
       "      <th>56</th>\n",
       "      <td>электромонтаж</td>\n",
       "      <td>3</td>\n",
       "    </tr>\n",
       "    <tr>\n",
       "      <th>49</th>\n",
       "      <td>строительство и ремонт</td>\n",
       "      <td>3</td>\n",
       "    </tr>\n",
       "    <tr>\n",
       "      <th>6</th>\n",
       "      <td>девелопмент</td>\n",
       "      <td>3</td>\n",
       "    </tr>\n",
       "    <tr>\n",
       "      <th>16</th>\n",
       "      <td>малоэтажное строительство</td>\n",
       "      <td>5</td>\n",
       "    </tr>\n",
       "    <tr>\n",
       "      <th>42</th>\n",
       "      <td>строительство</td>\n",
       "      <td>32</td>\n",
       "    </tr>\n",
       "  </tbody>\n",
       "</table>\n",
       "</div>"
      ],
      "text/plain": [
       "            working_direction  company_id\n",
       "56              электромонтаж           3\n",
       "49     строительство и ремонт           3\n",
       "6                 девелопмент           3\n",
       "16  малоэтажное строительство           5\n",
       "42              строительство          32"
      ]
     },
     "execution_count": 132,
     "metadata": {},
     "output_type": "execute_result"
    }
   ],
   "source": [
    "gr4=merged.groupby('working_direction').company_id.count().reset_index()\n",
    "gr4.sort_values(by='company_id').tail(5)"
   ]
  },
  {
   "cell_type": "code",
   "execution_count": 133,
   "id": "ad29a92e-fa42-4794-ab43-2a7bd577bfbc",
   "metadata": {},
   "outputs": [
    {
     "data": {
      "text/plain": [
       "60"
      ]
     },
     "execution_count": 133,
     "metadata": {},
     "output_type": "execute_result"
    }
   ],
   "source": [
    "len(merged.working_direction.unique())"
   ]
  },
  {
   "cell_type": "code",
   "execution_count": 134,
   "id": "8d0d6343-e22a-45ae-9cfe-4fef5b8854df",
   "metadata": {},
   "outputs": [
    {
     "data": {
      "image/png": "[encoded data removed]",
      "text/plain": [
       "<Figure size 1000x600 with 1 Axes>"
      ]
     },
     "metadata": {},
     "output_type": "display_data"
    }
   ],
   "source": [
    "plt.figure(figsize=(10, 6))\n",
    "sns.barplot (x=\"working_direction\", y=\"company_id\", data=gr4.sort_values(by='company_id').tail(5))\n",
    "plt.title('Лидеры ухода по направлениям деятельности', fontsize=14)\n",
    "plt.xlabel('деятельность')\n",
    "plt.ylabel('Количество, шт')\n",
    "plt.show()"
   ]
  },
  {
   "cell_type": "markdown",
   "id": "66bf6e31-783b-4a01-80c9-98e2aa8e2a29",
   "metadata": {},
   "source": [
    "Видим лидеров оттока по виду деятельности, среди них наиболее частый - строительство. Данная картина условна, т.к. среди отобранных компаний слишком много видов деятельности - 60 шт. Если заняться классификацией видов деятельности, возможно цифры изменятся."
   ]
  },
  {
   "cell_type": "markdown",
   "id": "52d6268e-e31f-4a1a-95fc-1f8185e3242b",
   "metadata": {},
   "source": [
    "#### группировка по полю billing_tariff_id\t"
   ]
  },
  {
   "cell_type": "code",
   "execution_count": 135,
   "id": "6570999e-1c5b-40d0-8b8e-52090cdaf7d0",
   "metadata": {},
   "outputs": [
    {
     "data": {
      "text/html": [
       "<div>\n",
       "<style scoped>\n",
       "    .dataframe tbody tr th:only-of-type {\n",
       "        vertical-align: middle;\n",
       "    }\n",
       "\n",
       "    .dataframe tbody tr th {\n",
       "        vertical-align: top;\n",
       "    }\n",
       "\n",
       "    .dataframe thead th {\n",
       "        text-align: right;\n",
       "    }\n",
       "</style>\n",
       "<table border=\"1\" class=\"dataframe\">\n",
       "  <thead>\n",
       "    <tr style=\"text-align: right;\">\n",
       "      <th></th>\n",
       "      <th>billing_tariff_id</th>\n",
       "      <th>company_id</th>\n",
       "    </tr>\n",
       "  </thead>\n",
       "  <tbody>\n",
       "    <tr>\n",
       "      <th>4</th>\n",
       "      <td>7</td>\n",
       "      <td>133</td>\n",
       "    </tr>\n",
       "    <tr>\n",
       "      <th>0</th>\n",
       "      <td>2</td>\n",
       "      <td>129</td>\n",
       "    </tr>\n",
       "    <tr>\n",
       "      <th>2</th>\n",
       "      <td>4</td>\n",
       "      <td>31</td>\n",
       "    </tr>\n",
       "    <tr>\n",
       "      <th>1</th>\n",
       "      <td>3</td>\n",
       "      <td>10</td>\n",
       "    </tr>\n",
       "    <tr>\n",
       "      <th>5</th>\n",
       "      <td>9</td>\n",
       "      <td>9</td>\n",
       "    </tr>\n",
       "    <tr>\n",
       "      <th>3</th>\n",
       "      <td>6</td>\n",
       "      <td>4</td>\n",
       "    </tr>\n",
       "    <tr>\n",
       "      <th>6</th>\n",
       "      <td>10</td>\n",
       "      <td>1</td>\n",
       "    </tr>\n",
       "    <tr>\n",
       "      <th>7</th>\n",
       "      <td>11</td>\n",
       "      <td>1</td>\n",
       "    </tr>\n",
       "  </tbody>\n",
       "</table>\n",
       "</div>"
      ],
      "text/plain": [
       "   billing_tariff_id  company_id\n",
       "4                  7         133\n",
       "0                  2         129\n",
       "2                  4          31\n",
       "1                  3          10\n",
       "5                  9           9\n",
       "3                  6           4\n",
       "6                 10           1\n",
       "7                 11           1"
      ]
     },
     "execution_count": 135,
     "metadata": {},
     "output_type": "execute_result"
    }
   ],
   "source": [
    "gr5=merged.groupby('billing_tariff_id').company_id.count().reset_index()\n",
    "gr5.sort_values(by='company_id', ascending=False)"
   ]
  },
  {
   "cell_type": "markdown",
   "id": "0cee71de-bb21-4591-8101-d1b89ac48856",
   "metadata": {},
   "source": [
    "Лидеры ухода top-3:<br>\n",
    "* тариф7-133, входит в группу старт, мах номер тарифа в списке 19, очень похоже что тариф 7 архивный.\n",
    "* тариф2-129, входит в группу базовый, мах номер сейчас 17, тоже похож на архивный\n",
    "* тариф4-31 , входит в группу старт, мах номер тарифа в списке 19, очень похоже что тариф 4 архивный."
   ]
  },
  {
   "cell_type": "markdown",
   "id": "1f21b945-8762-40c0-98b7-67336abee723",
   "metadata": {},
   "source": [
    "#### группировка по полю billing (кол-во выставленных счетов в приложении)\t"
   ]
  },
  {
   "cell_type": "code",
   "execution_count": 136,
   "id": "b501f68c-9143-41ce-a4e1-81ee4e81dfd3",
   "metadata": {},
   "outputs": [
    {
     "data": {
      "text/html": [
       "<div>\n",
       "<style scoped>\n",
       "    .dataframe tbody tr th:only-of-type {\n",
       "        vertical-align: middle;\n",
       "    }\n",
       "\n",
       "    .dataframe tbody tr th {\n",
       "        vertical-align: top;\n",
       "    }\n",
       "\n",
       "    .dataframe thead th {\n",
       "        text-align: right;\n",
       "    }\n",
       "</style>\n",
       "<table border=\"1\" class=\"dataframe\">\n",
       "  <thead>\n",
       "    <tr style=\"text-align: right;\">\n",
       "      <th></th>\n",
       "      <th>billing</th>\n",
       "      <th>company_id</th>\n",
       "    </tr>\n",
       "  </thead>\n",
       "  <tbody>\n",
       "    <tr>\n",
       "      <th>0</th>\n",
       "      <td>2</td>\n",
       "      <td>193</td>\n",
       "    </tr>\n",
       "    <tr>\n",
       "      <th>1</th>\n",
       "      <td>3</td>\n",
       "      <td>61</td>\n",
       "    </tr>\n",
       "    <tr>\n",
       "      <th>2</th>\n",
       "      <td>4</td>\n",
       "      <td>28</td>\n",
       "    </tr>\n",
       "    <tr>\n",
       "      <th>3</th>\n",
       "      <td>5</td>\n",
       "      <td>10</td>\n",
       "    </tr>\n",
       "    <tr>\n",
       "      <th>4</th>\n",
       "      <td>6</td>\n",
       "      <td>7</td>\n",
       "    </tr>\n",
       "  </tbody>\n",
       "</table>\n",
       "</div>"
      ],
      "text/plain": [
       "   billing  company_id\n",
       "0        2         193\n",
       "1        3          61\n",
       "2        4          28\n",
       "3        5          10\n",
       "4        6           7"
      ]
     },
     "execution_count": 136,
     "metadata": {},
     "output_type": "execute_result"
    }
   ],
   "source": [
    "gr5=merged.groupby('billing').company_id.count().reset_index()\n",
    "gr5.sort_values(by='company_id', ascending=False).head(5)"
   ]
  },
  {
   "cell_type": "code",
   "execution_count": 137,
   "id": "3f69eadc-855d-40b8-9aa2-cafa7eb3f080",
   "metadata": {},
   "outputs": [
    {
     "data": {
      "image/png": "[encoded data removed]",
      "text/plain": [
       "<Figure size 1000x600 with 1 Axes>"
      ]
     },
     "metadata": {},
     "output_type": "display_data"
    }
   ],
   "source": [
    "plt.figure(figsize=(10, 6))\n",
    "sns.barplot (x=\"billing\", y=\"company_id\", data=gr5.sort_values(by='company_id').tail(5))\n",
    "plt.title('Лидеры ухода по выставленным счетам в месяц', fontsize=14)\n",
    "plt.xlabel('кол-во счетов')\n",
    "plt.ylabel('Количество, шт')\n",
    "plt.show()"
   ]
  },
  {
   "cell_type": "markdown",
   "id": "3919ee25-2a42-4a71-a4cc-6ac8362b8915",
   "metadata": {},
   "source": [
    "Ушедшие компании не использовали активно сервис выставления счетов в приложении."
   ]
  },
  {
   "cell_type": "markdown",
   "id": "3118b2f4-c042-4094-8d8e-9ff7ad6c20d8",
   "metadata": {},
   "source": [
    "#### группировка по полю employer_count_interval (интервал ко-ва сотрудников)\t"
   ]
  },
  {
   "cell_type": "code",
   "execution_count": 138,
   "id": "8284c8b9-9e4e-4a66-b847-cf2f0f7a16ed",
   "metadata": {},
   "outputs": [
    {
     "data": {
      "text/html": [
       "<div>\n",
       "<style scoped>\n",
       "    .dataframe tbody tr th:only-of-type {\n",
       "        vertical-align: middle;\n",
       "    }\n",
       "\n",
       "    .dataframe tbody tr th {\n",
       "        vertical-align: top;\n",
       "    }\n",
       "\n",
       "    .dataframe thead th {\n",
       "        text-align: right;\n",
       "    }\n",
       "</style>\n",
       "<table border=\"1\" class=\"dataframe\">\n",
       "  <thead>\n",
       "    <tr style=\"text-align: right;\">\n",
       "      <th></th>\n",
       "      <th>employer_count_interval</th>\n",
       "      <th>company_id</th>\n",
       "    </tr>\n",
       "  </thead>\n",
       "  <tbody>\n",
       "    <tr>\n",
       "      <th>0</th>\n",
       "      <td>1</td>\n",
       "      <td>240</td>\n",
       "    </tr>\n",
       "    <tr>\n",
       "      <th>1</th>\n",
       "      <td>2</td>\n",
       "      <td>54</td>\n",
       "    </tr>\n",
       "    <tr>\n",
       "      <th>2</th>\n",
       "      <td>3</td>\n",
       "      <td>14</td>\n",
       "    </tr>\n",
       "    <tr>\n",
       "      <th>3</th>\n",
       "      <td>4</td>\n",
       "      <td>6</td>\n",
       "    </tr>\n",
       "    <tr>\n",
       "      <th>4</th>\n",
       "      <td>5</td>\n",
       "      <td>3</td>\n",
       "    </tr>\n",
       "  </tbody>\n",
       "</table>\n",
       "</div>"
      ],
      "text/plain": [
       "   employer_count_interval  company_id\n",
       "0                        1         240\n",
       "1                        2          54\n",
       "2                        3          14\n",
       "3                        4           6\n",
       "4                        5           3"
      ]
     },
     "execution_count": 138,
     "metadata": {},
     "output_type": "execute_result"
    }
   ],
   "source": [
    "gr6=merged.groupby('employer_count_interval').company_id.count().reset_index()\n",
    "gr6.sort_values(by='company_id', ascending=False).head(5)"
   ]
  },
  {
   "cell_type": "markdown",
   "id": "bc642706-020d-4555-a1d9-f5edfe9211a3",
   "metadata": {},
   "source": [
    "Расшифровка интервала сотрудников компании:\n",
    "* 1  - от 1 до 4\n",
    "* 2  - от 5 до 10\n",
    "* 3  -от 11 до 20\n",
    "* 4  -от 21 до 30\n",
    "* 5  -от 31 до 50\n",
    "* 6  -от 51 до 100\n",
    "* 7  -от100 до 200 \n",
    "* 8       >201"
   ]
  },
  {
   "cell_type": "code",
   "execution_count": 139,
   "id": "345eb248-14f5-4ad6-9694-a4b60c0c6ba9",
   "metadata": {},
   "outputs": [
    {
     "data": {
      "image/png": "[encoded data removed]",
      "text/plain": [
       "<Figure size 1000x600 with 1 Axes>"
      ]
     },
     "metadata": {},
     "output_type": "display_data"
    }
   ],
   "source": [
    "plt.figure(figsize=(10, 6))\n",
    "sns.barplot (x=\"employer_count_interval\", y=\"company_id\", data=gr6.sort_values(by='company_id'))\n",
    "plt.title('Лидеры ухода по размеру компании', fontsize=14)\n",
    "#specify x-axis labels\n",
    "x_labels = ['1-4', '5-10', '11-20', '21-30', '31-50','51-100'] \n",
    "x_ticks = [0,1,2,3,4,5] \n",
    "plt.xticks (ticks=x_ticks, labels=x_labels)\n",
    "plt.xlabel('Размер компании, человек')\n",
    "plt.ylabel('Количество, шт')\n",
    "plt.show()"
   ]
  },
  {
   "cell_type": "markdown",
   "id": "435fe5c6-2c96-44aa-80a1-a2564e9da77a",
   "metadata": {},
   "source": [
    "На графике наглядно видно что лидеры ухода это небольшие компании до 4х человек. Можно предположить что для таких компаний цена сервиса высока. Если мощности сервиса позволяют, возможно для таких компаний нужно создать тариф минимум, который бы позволял им пользоваться сервисом за небольшую оплату, при необходимости докупая доп услуги."
   ]
  },
  {
   "cell_type": "markdown",
   "id": "7d173930-bd46-4187-baa1-09c85c1172be",
   "metadata": {},
   "source": [
    "#### группировка по полю stocks\t (кол-во заказов складов)"
   ]
  },
  {
   "cell_type": "code",
   "execution_count": 140,
   "id": "f0e239e0-998d-4e2a-9bc9-5dbc78c86e22",
   "metadata": {},
   "outputs": [
    {
     "data": {
      "text/html": [
       "<div>\n",
       "<style scoped>\n",
       "    .dataframe tbody tr th:only-of-type {\n",
       "        vertical-align: middle;\n",
       "    }\n",
       "\n",
       "    .dataframe tbody tr th {\n",
       "        vertical-align: top;\n",
       "    }\n",
       "\n",
       "    .dataframe thead th {\n",
       "        text-align: right;\n",
       "    }\n",
       "</style>\n",
       "<table border=\"1\" class=\"dataframe\">\n",
       "  <thead>\n",
       "    <tr style=\"text-align: right;\">\n",
       "      <th></th>\n",
       "      <th>stocks</th>\n",
       "      <th>company_id</th>\n",
       "    </tr>\n",
       "  </thead>\n",
       "  <tbody>\n",
       "    <tr>\n",
       "      <th>0</th>\n",
       "      <td>0</td>\n",
       "      <td>1</td>\n",
       "    </tr>\n",
       "    <tr>\n",
       "      <th>68</th>\n",
       "      <td>123</td>\n",
       "      <td>1</td>\n",
       "    </tr>\n",
       "    <tr>\n",
       "      <th>67</th>\n",
       "      <td>114</td>\n",
       "      <td>1</td>\n",
       "    </tr>\n",
       "    <tr>\n",
       "      <th>66</th>\n",
       "      <td>113</td>\n",
       "      <td>1</td>\n",
       "    </tr>\n",
       "    <tr>\n",
       "      <th>65</th>\n",
       "      <td>109</td>\n",
       "      <td>1</td>\n",
       "    </tr>\n",
       "    <tr>\n",
       "      <th>...</th>\n",
       "      <td>...</td>\n",
       "      <td>...</td>\n",
       "    </tr>\n",
       "    <tr>\n",
       "      <th>8</th>\n",
       "      <td>8</td>\n",
       "      <td>14</td>\n",
       "    </tr>\n",
       "    <tr>\n",
       "      <th>2</th>\n",
       "      <td>2</td>\n",
       "      <td>15</td>\n",
       "    </tr>\n",
       "    <tr>\n",
       "      <th>3</th>\n",
       "      <td>3</td>\n",
       "      <td>17</td>\n",
       "    </tr>\n",
       "    <tr>\n",
       "      <th>7</th>\n",
       "      <td>7</td>\n",
       "      <td>22</td>\n",
       "    </tr>\n",
       "    <tr>\n",
       "      <th>4</th>\n",
       "      <td>4</td>\n",
       "      <td>25</td>\n",
       "    </tr>\n",
       "  </tbody>\n",
       "</table>\n",
       "<p>96 rows × 2 columns</p>\n",
       "</div>"
      ],
      "text/plain": [
       "    stocks  company_id\n",
       "0        0           1\n",
       "68     123           1\n",
       "67     114           1\n",
       "66     113           1\n",
       "65     109           1\n",
       "..     ...         ...\n",
       "8        8          14\n",
       "2        2          15\n",
       "3        3          17\n",
       "7        7          22\n",
       "4        4          25\n",
       "\n",
       "[96 rows x 2 columns]"
      ]
     },
     "execution_count": 140,
     "metadata": {},
     "output_type": "execute_result"
    }
   ],
   "source": [
    "gr7=merged.groupby('stocks').company_id.count().reset_index()\n",
    "gr7.sort_values(by='company_id', ascending=True)"
   ]
  },
  {
   "cell_type": "code",
   "execution_count": 141,
   "id": "e7db7c85-795d-423d-bf7e-1c4aa0f85c99",
   "metadata": {},
   "outputs": [
    {
     "name": "stdout",
     "output_type": "stream",
     "text": [
      "Мин показатель  0 Max показатель  414\n"
     ]
    }
   ],
   "source": [
    "print('Мин показатель ', gr7.stocks.min(),'Max показатель ',gr7.stocks.max()) "
   ]
  },
  {
   "cell_type": "markdown",
   "id": "51621148-274c-4d8c-899b-e22fe88e1ea6",
   "metadata": {},
   "source": [
    "Тут закономерности не вижу, есть и компании активно импользующие этот функционал, так и мало пользующиеся. Возможно следует выделить этот сервис как дополнительную услугу."
   ]
  },
  {
   "cell_type": "markdown",
   "id": "25676647-940d-49e1-ae1a-a20b967a66ac",
   "metadata": {},
   "source": [
    "#### группировка по полю backups\t"
   ]
  },
  {
   "cell_type": "code",
   "execution_count": 142,
   "id": "144d8000-a22a-4fad-b141-34063e0e4caa",
   "metadata": {},
   "outputs": [
    {
     "data": {
      "text/html": [
       "<div>\n",
       "<style scoped>\n",
       "    .dataframe tbody tr th:only-of-type {\n",
       "        vertical-align: middle;\n",
       "    }\n",
       "\n",
       "    .dataframe tbody tr th {\n",
       "        vertical-align: top;\n",
       "    }\n",
       "\n",
       "    .dataframe thead th {\n",
       "        text-align: right;\n",
       "    }\n",
       "</style>\n",
       "<table border=\"1\" class=\"dataframe\">\n",
       "  <thead>\n",
       "    <tr style=\"text-align: right;\">\n",
       "      <th></th>\n",
       "      <th>backups</th>\n",
       "      <th>company_id</th>\n",
       "    </tr>\n",
       "  </thead>\n",
       "  <tbody>\n",
       "    <tr>\n",
       "      <th>0</th>\n",
       "      <td>0</td>\n",
       "      <td>271</td>\n",
       "    </tr>\n",
       "    <tr>\n",
       "      <th>3</th>\n",
       "      <td>4</td>\n",
       "      <td>4</td>\n",
       "    </tr>\n",
       "    <tr>\n",
       "      <th>5</th>\n",
       "      <td>7</td>\n",
       "      <td>4</td>\n",
       "    </tr>\n",
       "    <tr>\n",
       "      <th>2</th>\n",
       "      <td>3</td>\n",
       "      <td>3</td>\n",
       "    </tr>\n",
       "    <tr>\n",
       "      <th>7</th>\n",
       "      <td>12</td>\n",
       "      <td>2</td>\n",
       "    </tr>\n",
       "  </tbody>\n",
       "</table>\n",
       "</div>"
      ],
      "text/plain": [
       "   backups  company_id\n",
       "0        0         271\n",
       "3        4           4\n",
       "5        7           4\n",
       "2        3           3\n",
       "7       12           2"
      ]
     },
     "execution_count": 142,
     "metadata": {},
     "output_type": "execute_result"
    }
   ],
   "source": [
    "gr8=merged.groupby('backups').company_id.count().reset_index()\n",
    "gr8.sort_values(by='company_id', ascending=False).head(5)"
   ]
  },
  {
   "cell_type": "code",
   "execution_count": 143,
   "id": "a4c012fa-0bb6-410e-90a7-41970c3b6ff3",
   "metadata": {},
   "outputs": [
    {
     "name": "stdout",
     "output_type": "stream",
     "text": [
      "Мин показатель  0 Max показатель  207\n"
     ]
    }
   ],
   "source": [
    "print('Мин показатель ', gr8.backups.min(),'Max показатель ',gr8.backups.max()) "
   ]
  },
  {
   "cell_type": "markdown",
   "id": "5b5f62d3-65b6-4120-b80c-79e741a811e6",
   "metadata": {},
   "source": [
    "Большая часть ушедших компаний не использовала бакапы. В тарифах есть разделение по кол-ву бакапов, возможно лучше выделить из тарифа этот функционал в отдельную услугу."
   ]
  },
  {
   "cell_type": "markdown",
   "id": "e053f3ae-5f56-467a-8f05-48c325e5ddd1",
   "metadata": {},
   "source": [
    "#### группировка по полю projects\t\t"
   ]
  },
  {
   "cell_type": "code",
   "execution_count": 144,
   "id": "8c782d7a-e71e-4373-b629-5e8d0916c5bc",
   "metadata": {},
   "outputs": [
    {
     "data": {
      "text/html": [
       "<div>\n",
       "<style scoped>\n",
       "    .dataframe tbody tr th:only-of-type {\n",
       "        vertical-align: middle;\n",
       "    }\n",
       "\n",
       "    .dataframe tbody tr th {\n",
       "        vertical-align: top;\n",
       "    }\n",
       "\n",
       "    .dataframe thead th {\n",
       "        text-align: right;\n",
       "    }\n",
       "</style>\n",
       "<table border=\"1\" class=\"dataframe\">\n",
       "  <thead>\n",
       "    <tr style=\"text-align: right;\">\n",
       "      <th></th>\n",
       "      <th>projects</th>\n",
       "      <th>company_id</th>\n",
       "    </tr>\n",
       "  </thead>\n",
       "  <tbody>\n",
       "    <tr>\n",
       "      <th>0</th>\n",
       "      <td>1</td>\n",
       "      <td>12</td>\n",
       "    </tr>\n",
       "    <tr>\n",
       "      <th>1</th>\n",
       "      <td>2</td>\n",
       "      <td>16</td>\n",
       "    </tr>\n",
       "    <tr>\n",
       "      <th>2</th>\n",
       "      <td>3</td>\n",
       "      <td>22</td>\n",
       "    </tr>\n",
       "    <tr>\n",
       "      <th>3</th>\n",
       "      <td>4</td>\n",
       "      <td>21</td>\n",
       "    </tr>\n",
       "    <tr>\n",
       "      <th>4</th>\n",
       "      <td>5</td>\n",
       "      <td>9</td>\n",
       "    </tr>\n",
       "    <tr>\n",
       "      <th>...</th>\n",
       "      <td>...</td>\n",
       "      <td>...</td>\n",
       "    </tr>\n",
       "    <tr>\n",
       "      <th>88</th>\n",
       "      <td>377</td>\n",
       "      <td>1</td>\n",
       "    </tr>\n",
       "    <tr>\n",
       "      <th>89</th>\n",
       "      <td>384</td>\n",
       "      <td>1</td>\n",
       "    </tr>\n",
       "    <tr>\n",
       "      <th>90</th>\n",
       "      <td>390</td>\n",
       "      <td>1</td>\n",
       "    </tr>\n",
       "    <tr>\n",
       "      <th>91</th>\n",
       "      <td>392</td>\n",
       "      <td>1</td>\n",
       "    </tr>\n",
       "    <tr>\n",
       "      <th>92</th>\n",
       "      <td>414</td>\n",
       "      <td>1</td>\n",
       "    </tr>\n",
       "  </tbody>\n",
       "</table>\n",
       "<p>93 rows × 2 columns</p>\n",
       "</div>"
      ],
      "text/plain": [
       "    projects  company_id\n",
       "0          1          12\n",
       "1          2          16\n",
       "2          3          22\n",
       "3          4          21\n",
       "4          5           9\n",
       "..       ...         ...\n",
       "88       377           1\n",
       "89       384           1\n",
       "90       390           1\n",
       "91       392           1\n",
       "92       414           1\n",
       "\n",
       "[93 rows x 2 columns]"
      ]
     },
     "execution_count": 144,
     "metadata": {},
     "output_type": "execute_result"
    }
   ],
   "source": [
    "gr9=merged.groupby('projects').company_id.count().reset_index()\n",
    "gr9.sort_values(by='projects', ascending=True)"
   ]
  },
  {
   "cell_type": "code",
   "execution_count": 145,
   "id": "a3040856-8ef3-424a-b50a-d343d8df1bae",
   "metadata": {},
   "outputs": [
    {
     "name": "stdout",
     "output_type": "stream",
     "text": [
      "Мин показатель  1 Max показатель  414\n"
     ]
    }
   ],
   "source": [
    "print('Мин показатель ', gr9.projects.min(),'Max показатель ',gr9.projects.max()) "
   ]
  },
  {
   "cell_type": "markdown",
   "id": "761fa477-6e89-45bf-b39c-24995b5907b4",
   "metadata": {},
   "source": [
    "Данным функционалом компании пользовались, закономерности не вижу. Во всех тарифах кол-во проектов неограничено, что то менять тут не имеет смысла."
   ]
  },
  {
   "cell_type": "markdown",
   "id": "a7498fad-e9c1-4432-b252-4a6bf94000e9",
   "metadata": {},
   "source": [
    "#### группировка по полю contractors (Месячное количество контрагентов компании)\t\t"
   ]
  },
  {
   "cell_type": "code",
   "execution_count": 146,
   "id": "669032c4-1862-43c2-8628-edac8128873a",
   "metadata": {},
   "outputs": [
    {
     "data": {
      "text/html": [
       "<div>\n",
       "<style scoped>\n",
       "    .dataframe tbody tr th:only-of-type {\n",
       "        vertical-align: middle;\n",
       "    }\n",
       "\n",
       "    .dataframe tbody tr th {\n",
       "        vertical-align: top;\n",
       "    }\n",
       "\n",
       "    .dataframe thead th {\n",
       "        text-align: right;\n",
       "    }\n",
       "</style>\n",
       "<table border=\"1\" class=\"dataframe\">\n",
       "  <thead>\n",
       "    <tr style=\"text-align: right;\">\n",
       "      <th></th>\n",
       "      <th>contractors</th>\n",
       "      <th>company_id</th>\n",
       "    </tr>\n",
       "  </thead>\n",
       "  <tbody>\n",
       "    <tr>\n",
       "      <th>0</th>\n",
       "      <td>1</td>\n",
       "      <td>9</td>\n",
       "    </tr>\n",
       "    <tr>\n",
       "      <th>1</th>\n",
       "      <td>2</td>\n",
       "      <td>20</td>\n",
       "    </tr>\n",
       "    <tr>\n",
       "      <th>2</th>\n",
       "      <td>3</td>\n",
       "      <td>29</td>\n",
       "    </tr>\n",
       "    <tr>\n",
       "      <th>3</th>\n",
       "      <td>4</td>\n",
       "      <td>17</td>\n",
       "    </tr>\n",
       "    <tr>\n",
       "      <th>4</th>\n",
       "      <td>5</td>\n",
       "      <td>16</td>\n",
       "    </tr>\n",
       "    <tr>\n",
       "      <th>...</th>\n",
       "      <td>...</td>\n",
       "      <td>...</td>\n",
       "    </tr>\n",
       "    <tr>\n",
       "      <th>95</th>\n",
       "      <td>330</td>\n",
       "      <td>1</td>\n",
       "    </tr>\n",
       "    <tr>\n",
       "      <th>96</th>\n",
       "      <td>333</td>\n",
       "      <td>1</td>\n",
       "    </tr>\n",
       "    <tr>\n",
       "      <th>97</th>\n",
       "      <td>340</td>\n",
       "      <td>1</td>\n",
       "    </tr>\n",
       "    <tr>\n",
       "      <th>98</th>\n",
       "      <td>357</td>\n",
       "      <td>1</td>\n",
       "    </tr>\n",
       "    <tr>\n",
       "      <th>99</th>\n",
       "      <td>456</td>\n",
       "      <td>1</td>\n",
       "    </tr>\n",
       "  </tbody>\n",
       "</table>\n",
       "<p>100 rows × 2 columns</p>\n",
       "</div>"
      ],
      "text/plain": [
       "    contractors  company_id\n",
       "0             1           9\n",
       "1             2          20\n",
       "2             3          29\n",
       "3             4          17\n",
       "4             5          16\n",
       "..          ...         ...\n",
       "95          330           1\n",
       "96          333           1\n",
       "97          340           1\n",
       "98          357           1\n",
       "99          456           1\n",
       "\n",
       "[100 rows x 2 columns]"
      ]
     },
     "execution_count": 146,
     "metadata": {},
     "output_type": "execute_result"
    }
   ],
   "source": [
    "gr10=merged.groupby('contractors').company_id.count().reset_index()\n",
    "gr10.sort_values(by='contractors', ascending=True)"
   ]
  },
  {
   "cell_type": "code",
   "execution_count": 147,
   "id": "e6a91afb-e46a-425e-a0b0-517c1b2cee00",
   "metadata": {},
   "outputs": [
    {
     "name": "stdout",
     "output_type": "stream",
     "text": [
      "Мин показатель  1 Max показатель  456\n"
     ]
    }
   ],
   "source": [
    "print('Мин показатель ', gr10.contractors.min(),'Max показатель ',gr10.contractors.max()) "
   ]
  },
  {
   "cell_type": "markdown",
   "id": "297a2f85-9a8e-41c8-858d-8924393eae0d",
   "metadata": {},
   "source": [
    "Тут тоже не вижу закономерности. Если компании пользующиеся данным сервисом, в тарифах нет ограничения на использование."
   ]
  },
  {
   "cell_type": "markdown",
   "id": "1ec15837-815e-4cf3-bbd7-64d523a9e782",
   "metadata": {},
   "source": [
    "#### группировка по полю resource_orders\t (Месячное количество заказов материалов)\t"
   ]
  },
  {
   "cell_type": "code",
   "execution_count": 148,
   "id": "0457eea7-6361-45d2-a2ca-13f988d0b786",
   "metadata": {},
   "outputs": [
    {
     "data": {
      "text/html": [
       "<div>\n",
       "<style scoped>\n",
       "    .dataframe tbody tr th:only-of-type {\n",
       "        vertical-align: middle;\n",
       "    }\n",
       "\n",
       "    .dataframe tbody tr th {\n",
       "        vertical-align: top;\n",
       "    }\n",
       "\n",
       "    .dataframe thead th {\n",
       "        text-align: right;\n",
       "    }\n",
       "</style>\n",
       "<table border=\"1\" class=\"dataframe\">\n",
       "  <thead>\n",
       "    <tr style=\"text-align: right;\">\n",
       "      <th></th>\n",
       "      <th>resource_orders</th>\n",
       "      <th>company_id</th>\n",
       "    </tr>\n",
       "  </thead>\n",
       "  <tbody>\n",
       "    <tr>\n",
       "      <th>0</th>\n",
       "      <td>0</td>\n",
       "      <td>153</td>\n",
       "    </tr>\n",
       "    <tr>\n",
       "      <th>1</th>\n",
       "      <td>1</td>\n",
       "      <td>4</td>\n",
       "    </tr>\n",
       "    <tr>\n",
       "      <th>2</th>\n",
       "      <td>2</td>\n",
       "      <td>7</td>\n",
       "    </tr>\n",
       "    <tr>\n",
       "      <th>3</th>\n",
       "      <td>3</td>\n",
       "      <td>6</td>\n",
       "    </tr>\n",
       "    <tr>\n",
       "      <th>4</th>\n",
       "      <td>4</td>\n",
       "      <td>4</td>\n",
       "    </tr>\n",
       "    <tr>\n",
       "      <th>...</th>\n",
       "      <td>...</td>\n",
       "      <td>...</td>\n",
       "    </tr>\n",
       "    <tr>\n",
       "      <th>59</th>\n",
       "      <td>434</td>\n",
       "      <td>1</td>\n",
       "    </tr>\n",
       "    <tr>\n",
       "      <th>60</th>\n",
       "      <td>551</td>\n",
       "      <td>1</td>\n",
       "    </tr>\n",
       "    <tr>\n",
       "      <th>61</th>\n",
       "      <td>586</td>\n",
       "      <td>1</td>\n",
       "    </tr>\n",
       "    <tr>\n",
       "      <th>62</th>\n",
       "      <td>1297</td>\n",
       "      <td>1</td>\n",
       "    </tr>\n",
       "    <tr>\n",
       "      <th>63</th>\n",
       "      <td>1394</td>\n",
       "      <td>1</td>\n",
       "    </tr>\n",
       "  </tbody>\n",
       "</table>\n",
       "<p>64 rows × 2 columns</p>\n",
       "</div>"
      ],
      "text/plain": [
       "    resource_orders  company_id\n",
       "0                 0         153\n",
       "1                 1           4\n",
       "2                 2           7\n",
       "3                 3           6\n",
       "4                 4           4\n",
       "..              ...         ...\n",
       "59              434           1\n",
       "60              551           1\n",
       "61              586           1\n",
       "62             1297           1\n",
       "63             1394           1\n",
       "\n",
       "[64 rows x 2 columns]"
      ]
     },
     "execution_count": 148,
     "metadata": {},
     "output_type": "execute_result"
    }
   ],
   "source": [
    "gr11=merged.groupby('resource_orders').company_id.count().reset_index()\n",
    "gr11.sort_values(by='resource_orders', ascending=True)"
   ]
  },
  {
   "cell_type": "code",
   "execution_count": 149,
   "id": "566eb819-1d1d-4bc4-90ce-120e6d076bc8",
   "metadata": {},
   "outputs": [
    {
     "name": "stdout",
     "output_type": "stream",
     "text": [
      "Мин показатель  0 Max показатель  1394\n"
     ]
    }
   ],
   "source": [
    "print('Мин показатель ', gr11.resource_orders.min(),'Max показатель ',gr11.resource_orders.max()) "
   ]
  },
  {
   "cell_type": "markdown",
   "id": "536f98fc-051b-4f9b-b88e-ca3b7848990f",
   "metadata": {},
   "source": [
    "Большая часть команий сервисом не пользовалась, хотя есть единичные компании с большим объемом заказов. Думаю этот сервис нужно выносить как отдельную услугу для тех кому она действительно нужна."
   ]
  },
  {
   "cell_type": "markdown",
   "id": "f6508936-d27f-42fd-ab06-082190fb9cb2",
   "metadata": {},
   "source": [
    "<font face='liberation serif' size=4>[В начало работы](#start)"
   ]
  },
  {
   "cell_type": "markdown",
   "id": "09fe2a0f-84d6-40ac-8232-f70de103f04e",
   "metadata": {},
   "source": [
    "## <font face='Liberation serif' size=6>**V. Выводы**</font>\n",
    "<a id='part_5'></a>"
   ]
  },
  {
   "cell_type": "markdown",
   "id": "3faefc63-f2e3-488b-bf0a-413fcf1dc0d1",
   "metadata": {},
   "source": [
    "* Предоставленные данные не позволили провести полноценный RFM анализ компаний, т.к. монетарная составляющая была вырезана.\n",
    "Исходя из стоимости тарифов и кол-ва активных пользователей могу предположить что компания Getacro не бедствует и ей вполне по карману нанять в штат аналитика, который бы поработал сам с собираемыми компанией данными и посоветовал как их оптимизировать, чтобы в дальнейшем было можно по ним делать адекватные выводы. Текущие данные содержат много неточностей и сложны для полноценного анализа.\n",
    "* По предоставленным данным получилось дать лишь R оценку компаниям и на основе этого выделить ушедшие компании\n",
    "* Лидеры ухода это небольшие компани до 4х человек. Можно предположить что для таких компаний цена сервиса высока. Если мощности сервиса позволяют, возможно для таких компаний нужно создать тариф минимум, который бы позволял им пользоваться сервисом за небольшую оплату базовыми услугами и при необходимости докупать необходимые дополнительные услуги.\n",
    "* Лидеры ухода top3 - компании со стажем в сервисе от полугода до 2х лет. Компании со стажем до года - возможно был оплачен период подписки на год, как она закончилась решили не продлевать. Компании со стажем 2 года почему уходят непонятно, нужно доп исследование, но предоставленные данные не дают ответа на этот вопрос.\n",
    "* лидером оттока по виду деятельности является строительство.\n",
    "* Предположу что в ранних тарифах были другие ограничения на кол-во пользователей. В данных есть фирма с 55 пользователями, значит это ей нужно и считаю что доп пользователей сверх тарифа следует делать доп услугой. Причем стоимость добавления пользователей должна зависеть от текущего тарифа: чем выше тариф тем ниже доп пользователь. Чтобы стимулировать переход на более высокий тариф можно задать ограничение на доп пользователей как ограничение более высокого тарифа минус 1."
   ]
  },
  {
   "cell_type": "markdown",
   "id": "14b5e9a3-74ed-4248-9901-31a54fca3692",
   "metadata": {},
   "source": [
    "## <font face='Liberation serif' size=6>**VI. Презентация**</font>\n",
    "<a id='part_6'></a>"
   ]
  },
  {
   "cell_type": "markdown",
   "id": "31425ebd-23f1-4bc3-8169-988a5a7fc38e",
   "metadata": {},
   "source": [
    "<a href='https://disk.yandex.ru/i/8D5F9yL9XzU_tg'> Просмотр </a>"
   ]
  }
 ],
 "metadata": {
  "kernelspec": {
   "display_name": "Python 3 (ipykernel)",
   "language": "python",
   "name": "python3"
  },
  "language_info": {
   "codemirror_mode": {
    "name": "ipython",
    "version": 3
   },
   "file_extension": ".py",
   "mimetype": "text/x-python",
   "name": "python",
   "nbconvert_exporter": "python",
   "pygments_lexer": "ipython3",
   "version": "3.11.7"
  },
  "toc": {
   "base_numbering": 1,
   "nav_menu": {},
   "number_sections": true,
   "sideBar": true,
   "skip_h1_title": false,
   "title_cell": "Table of Contents",
   "title_sidebar": "Contents",
   "toc_cell": false,
   "toc_position": {},
   "toc_section_display": true,
   "toc_window_display": false
  }
 },
 "nbformat": 4,
 "nbformat_minor": 5
}
