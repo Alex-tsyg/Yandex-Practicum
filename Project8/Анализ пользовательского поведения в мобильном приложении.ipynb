{
 "cells": [
  {
   "cell_type": "markdown",
   "metadata": {},
   "source": [
    "<b>Анализ пользовательского поведения в мобильном приложении</b>"
   ]
  },
  {
   "cell_type": "markdown",
   "metadata": {},
   "source": [
    "<b> Описание проекта </b><br>\n",
    "\n",
    "Задачи <br>\n",
    "* Изучить воронку продаж и понять где мы теряем пользователей и как в целом дела по переходу к оплате и дать рекоендации.\n",
    "* Разработчики внерили новые шрифты и хотят узнать по результатам A/A/B-теста что из этого вышло и стоит ли их внедрять.\n",
    "группы А/А - старые шрифты, В - новые.\n",
    "\n",
    "\n",
    "<b>Описание данных</b>\n",
    "Каждая запись в логе — это действие пользователя, или событие. \n",
    "* EventName — название события;\n",
    "* DeviceIDHash — уникальный идентификатор пользователя;\n",
    "* EventTimestamp — время события;\n",
    "* ExpId — номер эксперимента: 246 и 247 — контрольные группы, а 248 — экспериментальная.<br>\n"
   ]
  },
  {
   "cell_type": "markdown",
   "metadata": {},
   "source": [
    "## Шаг: Откроем файл с данными и изучим общую информацию"
   ]
  },
  {
   "cell_type": "code",
   "execution_count": 1,
   "metadata": {},
   "outputs": [],
   "source": [
    "# Необходимые библиотеки для исследования \n",
    "import pandas as pd\n",
    "import matplotlib.pyplot as plt\n",
    "import math as mth\n",
    "from scipy import stats as st\n",
    "from plotly import graph_objects as go\n",
    "from datetime import datetime\n",
    "import numpy as np\n",
    "import warnings\n",
    "warnings.simplefilter(action='ignore', category=FutureWarning)"
   ]
  },
  {
   "cell_type": "code",
   "execution_count": 5,
   "metadata": {},
   "outputs": [],
   "source": [
    "# открываем файл с данными\n",
    "logs=pd.read_csv('/datasets/logs_exp.csv', delimiter='\\t') "
   ]
  },
  {
   "cell_type": "code",
   "execution_count": 6,
   "metadata": {},
   "outputs": [
    {
     "data": {
      "text/html": [
       "<div>\n",
       "<style scoped>\n",
       "    .dataframe tbody tr th:only-of-type {\n",
       "        vertical-align: middle;\n",
       "    }\n",
       "\n",
       "    .dataframe tbody tr th {\n",
       "        vertical-align: top;\n",
       "    }\n",
       "\n",
       "    .dataframe thead th {\n",
       "        text-align: right;\n",
       "    }\n",
       "</style>\n",
       "<table border=\"1\" class=\"dataframe\">\n",
       "  <thead>\n",
       "    <tr style=\"text-align: right;\">\n",
       "      <th></th>\n",
       "      <th>EventName</th>\n",
       "      <th>DeviceIDHash</th>\n",
       "      <th>EventTimestamp</th>\n",
       "      <th>ExpId</th>\n",
       "    </tr>\n",
       "  </thead>\n",
       "  <tbody>\n",
       "    <tr>\n",
       "      <th>0</th>\n",
       "      <td>MainScreenAppear</td>\n",
       "      <td>4575588528974610257</td>\n",
       "      <td>1564029816</td>\n",
       "      <td>246</td>\n",
       "    </tr>\n",
       "    <tr>\n",
       "      <th>1</th>\n",
       "      <td>MainScreenAppear</td>\n",
       "      <td>7416695313311560658</td>\n",
       "      <td>1564053102</td>\n",
       "      <td>246</td>\n",
       "    </tr>\n",
       "    <tr>\n",
       "      <th>2</th>\n",
       "      <td>PaymentScreenSuccessful</td>\n",
       "      <td>3518123091307005509</td>\n",
       "      <td>1564054127</td>\n",
       "      <td>248</td>\n",
       "    </tr>\n",
       "    <tr>\n",
       "      <th>3</th>\n",
       "      <td>CartScreenAppear</td>\n",
       "      <td>3518123091307005509</td>\n",
       "      <td>1564054127</td>\n",
       "      <td>248</td>\n",
       "    </tr>\n",
       "    <tr>\n",
       "      <th>4</th>\n",
       "      <td>PaymentScreenSuccessful</td>\n",
       "      <td>6217807653094995999</td>\n",
       "      <td>1564055322</td>\n",
       "      <td>248</td>\n",
       "    </tr>\n",
       "  </tbody>\n",
       "</table>\n",
       "</div>"
      ],
      "text/plain": [
       "                 EventName         DeviceIDHash  EventTimestamp  ExpId\n",
       "0         MainScreenAppear  4575588528974610257      1564029816    246\n",
       "1         MainScreenAppear  7416695313311560658      1564053102    246\n",
       "2  PaymentScreenSuccessful  3518123091307005509      1564054127    248\n",
       "3         CartScreenAppear  3518123091307005509      1564054127    248\n",
       "4  PaymentScreenSuccessful  6217807653094995999      1564055322    248"
      ]
     },
     "metadata": {},
     "output_type": "display_data"
    }
   ],
   "source": [
    "display(logs.head())"
   ]
  },
  {
   "cell_type": "markdown",
   "metadata": {},
   "source": [
    "На этом шаге мы загрузили необходимые библиотеки, загрузили файл с данными.\n",
    "На следующем шаге проанализииуем данные и подготовим их для дальнейшей работы"
   ]
  },
  {
   "cell_type": "markdown",
   "metadata": {},
   "source": [
    "## Шаг: Подготовим данные"
   ]
  },
  {
   "cell_type": "markdown",
   "metadata": {},
   "source": [
    "### Заменим названия столбцов на удобные "
   ]
  },
  {
   "cell_type": "code",
   "execution_count": 7,
   "metadata": {},
   "outputs": [],
   "source": [
    "# Приведем названия столбцов к нижнему регистру и более понятным названиям\n",
    "logs.columns = ['event', 'device', 'timestamp', 'group']"
   ]
  },
  {
   "cell_type": "markdown",
   "metadata": {},
   "source": [
    "### Проверим пропуски и типы данных"
   ]
  },
  {
   "cell_type": "code",
   "execution_count": 8,
   "metadata": {},
   "outputs": [
    {
     "name": "stdout",
     "output_type": "stream",
     "text": [
      "<class 'pandas.core.frame.DataFrame'>\n",
      "RangeIndex: 244126 entries, 0 to 244125\n",
      "Data columns (total 4 columns):\n",
      " #   Column     Non-Null Count   Dtype \n",
      "---  ------     --------------   ----- \n",
      " 0   event      244126 non-null  object\n",
      " 1   device     244126 non-null  int64 \n",
      " 2   timestamp  244126 non-null  int64 \n",
      " 3   group      244126 non-null  int64 \n",
      "dtypes: int64(3), object(1)\n",
      "memory usage: 7.5+ MB\n"
     ]
    }
   ],
   "source": [
    "logs.info()"
   ]
  },
  {
   "cell_type": "markdown",
   "metadata": {},
   "source": [
    "Пропусков в данных нет"
   ]
  },
  {
   "cell_type": "code",
   "execution_count": 9,
   "metadata": {},
   "outputs": [
    {
     "data": {
      "text/plain": [
       "413"
      ]
     },
     "execution_count": 9,
     "metadata": {},
     "output_type": "execute_result"
    }
   ],
   "source": [
    "# проверим количество полных дубликатов в датасете, кол-во полных дубликатов (совпадает вся строка) равно 0\n",
    "logs.duplicated().sum()"
   ]
  },
  {
   "cell_type": "markdown",
   "metadata": {},
   "source": [
    "Найдено 413 дубликатов из общего количесвта 244126 строк, это очень маленькая часть от общего числа, их можно удаить "
   ]
  },
  {
   "cell_type": "code",
   "execution_count": 10,
   "metadata": {},
   "outputs": [
    {
     "name": "stdout",
     "output_type": "stream",
     "text": [
      "<class 'pandas.core.frame.DataFrame'>\n",
      "Int64Index: 243713 entries, 0 to 244125\n",
      "Data columns (total 4 columns):\n",
      " #   Column     Non-Null Count   Dtype \n",
      "---  ------     --------------   ----- \n",
      " 0   event      243713 non-null  object\n",
      " 1   device     243713 non-null  int64 \n",
      " 2   timestamp  243713 non-null  int64 \n",
      " 3   group      243713 non-null  int64 \n",
      "dtypes: int64(3), object(1)\n",
      "memory usage: 9.3+ MB\n"
     ]
    }
   ],
   "source": [
    "logs=logs.drop_duplicates()\n",
    "logs.info()"
   ]
  },
  {
   "cell_type": "code",
   "execution_count": 11,
   "metadata": {},
   "outputs": [
    {
     "data": {
      "text/plain": [
       "group    0\n",
       "dtype: int64"
      ]
     },
     "execution_count": 11,
     "metadata": {},
     "output_type": "execute_result"
    }
   ],
   "source": [
    "# проверим пользователей на аномалии - вхождение в несколько групп сразу\n",
    "logs.groupby('device').agg({'group': pd.Series.nunique}).query('group == 2').count()"
   ]
  },
  {
   "cell_type": "markdown",
   "metadata": {},
   "source": [
    "Одинаковых пользователей в группах нет."
   ]
  },
  {
   "cell_type": "markdown",
   "metadata": {},
   "source": [
    "### Добавим столбец даты и времени, а также отдельный столбец дат"
   ]
  },
  {
   "cell_type": "code",
   "execution_count": 12,
   "metadata": {},
   "outputs": [
    {
     "data": {
      "text/html": [
       "<div>\n",
       "<style scoped>\n",
       "    .dataframe tbody tr th:only-of-type {\n",
       "        vertical-align: middle;\n",
       "    }\n",
       "\n",
       "    .dataframe tbody tr th {\n",
       "        vertical-align: top;\n",
       "    }\n",
       "\n",
       "    .dataframe thead th {\n",
       "        text-align: right;\n",
       "    }\n",
       "</style>\n",
       "<table border=\"1\" class=\"dataframe\">\n",
       "  <thead>\n",
       "    <tr style=\"text-align: right;\">\n",
       "      <th></th>\n",
       "      <th>event</th>\n",
       "      <th>device</th>\n",
       "      <th>timestamp</th>\n",
       "      <th>group</th>\n",
       "      <th>time</th>\n",
       "      <th>date</th>\n",
       "    </tr>\n",
       "  </thead>\n",
       "  <tbody>\n",
       "    <tr>\n",
       "      <th>0</th>\n",
       "      <td>MainScreenAppear</td>\n",
       "      <td>4575588528974610257</td>\n",
       "      <td>1564029816</td>\n",
       "      <td>246</td>\n",
       "      <td>2019-07-25 04:43:36</td>\n",
       "      <td>2019-07-25</td>\n",
       "    </tr>\n",
       "    <tr>\n",
       "      <th>1</th>\n",
       "      <td>MainScreenAppear</td>\n",
       "      <td>7416695313311560658</td>\n",
       "      <td>1564053102</td>\n",
       "      <td>246</td>\n",
       "      <td>2019-07-25 11:11:42</td>\n",
       "      <td>2019-07-25</td>\n",
       "    </tr>\n",
       "    <tr>\n",
       "      <th>2</th>\n",
       "      <td>PaymentScreenSuccessful</td>\n",
       "      <td>3518123091307005509</td>\n",
       "      <td>1564054127</td>\n",
       "      <td>248</td>\n",
       "      <td>2019-07-25 11:28:47</td>\n",
       "      <td>2019-07-25</td>\n",
       "    </tr>\n",
       "    <tr>\n",
       "      <th>3</th>\n",
       "      <td>CartScreenAppear</td>\n",
       "      <td>3518123091307005509</td>\n",
       "      <td>1564054127</td>\n",
       "      <td>248</td>\n",
       "      <td>2019-07-25 11:28:47</td>\n",
       "      <td>2019-07-25</td>\n",
       "    </tr>\n",
       "    <tr>\n",
       "      <th>4</th>\n",
       "      <td>PaymentScreenSuccessful</td>\n",
       "      <td>6217807653094995999</td>\n",
       "      <td>1564055322</td>\n",
       "      <td>248</td>\n",
       "      <td>2019-07-25 11:48:42</td>\n",
       "      <td>2019-07-25</td>\n",
       "    </tr>\n",
       "  </tbody>\n",
       "</table>\n",
       "</div>"
      ],
      "text/plain": [
       "                     event               device   timestamp  group  \\\n",
       "0         MainScreenAppear  4575588528974610257  1564029816    246   \n",
       "1         MainScreenAppear  7416695313311560658  1564053102    246   \n",
       "2  PaymentScreenSuccessful  3518123091307005509  1564054127    248   \n",
       "3         CartScreenAppear  3518123091307005509  1564054127    248   \n",
       "4  PaymentScreenSuccessful  6217807653094995999  1564055322    248   \n",
       "\n",
       "                 time        date  \n",
       "0 2019-07-25 04:43:36  2019-07-25  \n",
       "1 2019-07-25 11:11:42  2019-07-25  \n",
       "2 2019-07-25 11:28:47  2019-07-25  \n",
       "3 2019-07-25 11:28:47  2019-07-25  \n",
       "4 2019-07-25 11:48:42  2019-07-25  "
      ]
     },
     "metadata": {},
     "output_type": "display_data"
    }
   ],
   "source": [
    "# дабавим столбец даты и времени в понятном виде, тип datetime:\n",
    "logs[\"time\"] = pd.to_datetime(logs['timestamp'], unit=\"s\")\n",
    "# добавим столбец дат\n",
    "logs['date'] = logs.time.dt.date\n",
    "display(logs.head())"
   ]
  },
  {
   "cell_type": "markdown",
   "metadata": {},
   "source": [
    "На этом этапе мы выявили полные дубликаты и их удалили, преобразовали время к удобному формату datetime и добавили столбец его в столбец time, также выделили из времени только дату и добавили столбец дат. На следующем этапе изучим и проверим данные"
   ]
  },
  {
   "cell_type": "markdown",
   "metadata": {},
   "source": [
    "## Шаг: Изучим и проверим данные"
   ]
  },
  {
   "cell_type": "markdown",
   "metadata": {},
   "source": [
    "### Сколько всего событий в логе?"
   ]
  },
  {
   "cell_type": "code",
   "execution_count": 13,
   "metadata": {},
   "outputs": [
    {
     "name": "stdout",
     "output_type": "stream",
     "text": [
      "Всего событий в логе: 243713\n"
     ]
    }
   ],
   "source": [
    "# Сколько всего событий в логе?\n",
    "print('Всего событий в логе: {}'.format(len(logs)))"
   ]
  },
  {
   "cell_type": "markdown",
   "metadata": {},
   "source": [
    "### Сколько всего пользователей в логе?"
   ]
  },
  {
   "cell_type": "code",
   "execution_count": 14,
   "metadata": {},
   "outputs": [
    {
     "name": "stdout",
     "output_type": "stream",
     "text": [
      "Всего пользователей в логе: 7551\n"
     ]
    }
   ],
   "source": [
    "# Сколько всего пользователей в логе?\n",
    "print('Всего пользователей в логе: {}'.format(logs['device'].nunique()))"
   ]
  },
  {
   "cell_type": "markdown",
   "metadata": {},
   "source": [
    "### Сколько в среднем событий приходится на пользователя?"
   ]
  },
  {
   "cell_type": "code",
   "execution_count": 15,
   "metadata": {},
   "outputs": [
    {
     "name": "stdout",
     "output_type": "stream",
     "text": [
      "Среднее кол-во событий, которые приходятся на пользователя: 32\n"
     ]
    }
   ],
   "source": [
    "# Сколько в среднем событий приходится на пользователя?\n",
    "print('Среднее кол-во событий, которые приходятся на пользователя: {}'.format(round(len(logs)/logs['device'].nunique())))"
   ]
  },
  {
   "cell_type": "markdown",
   "metadata": {},
   "source": [
    "### Данными за какой период у нас есть? Найдем максимальную и минимальную дату. Построим гистограмму по дате и времени. Определим, с какого момента данные полные и отбросим более старые. "
   ]
  },
  {
   "cell_type": "code",
   "execution_count": 16,
   "metadata": {},
   "outputs": [
    {
     "name": "stdout",
     "output_type": "stream",
     "text": [
      "максимальная дата: 2019-08-07 , минимальная дата: 2019-07-25\n"
     ]
    }
   ],
   "source": [
    "print('максимальная дата: {}'.format(logs['date'].max()), ', минимальная дата: {}'.format(logs['date'].min()) )"
   ]
  },
  {
   "cell_type": "code",
   "execution_count": 17,
   "metadata": {},
   "outputs": [
    {
     "data": {
      "image/png": "[encoded data removed]",
      "text/plain": [
       "<Figure size 1000x500 with 1 Axes>"
      ]
     },
     "metadata": {},
     "output_type": "display_data"
    }
   ],
   "source": [
    "time_gr = logs.groupby('date')['time'].count().reset_index()\n",
    "(time_gr.plot(kind='bar',x='date', y='time',figsize=(10, 5),legend=False)\n",
    "                         .set(xlabel='Дата', ylabel='Количество событий')\n",
    ")\n",
    "plt.title('Гистограмма по дате и времени')\n",
    "plt.show()"
   ]
  },
  {
   "cell_type": "markdown",
   "metadata": {},
   "source": [
    "По гистограмме видно, что полные данные у нас с 2019-08-01 по 2019-08-07.\n",
    "Отбросим данные до 2019-08-01"
   ]
  },
  {
   "cell_type": "code",
   "execution_count": 18,
   "metadata": {},
   "outputs": [],
   "source": [
    "logs_august = logs[logs['date'] >= pd.to_datetime('2019-08-01')]"
   ]
  },
  {
   "cell_type": "markdown",
   "metadata": {},
   "source": [
    "### Много ли событий и пользователей мы потеряли, отбросив старые данные?"
   ]
  },
  {
   "cell_type": "code",
   "execution_count": 19,
   "metadata": {},
   "outputs": [
    {
     "name": "stdout",
     "output_type": "stream",
     "text": [
      "Было потеряно: 2826 событий и\n",
      "было потеряно: 17 пользователей\n",
      "Рассмотрим эти цифры в процентах\n",
      "Было потеряно: 1.16 % событий и\n",
      "было потеряно: 0.23 % пользователей\n"
     ]
    }
   ],
   "source": [
    "print('Было потеряно: {}'.format(len(logs)-len(logs_august)), 'событий и' )\n",
    "print('было потеряно: {}'.format(logs['device'].nunique()-logs_august['device'].nunique()), 'пользователей')\n",
    "print('Рассмотрим эти цифры в процентах')\n",
    "print('Было потеряно: {}'.format(round(100-len(logs_august)/len(logs)*100,2)),'% событий и' )\n",
    "print('было потеряно: {}'.format(round(100-logs_august['device'].nunique()/logs['device'].nunique()*100,2)),'% пользователей')"
   ]
  },
  {
   "cell_type": "markdown",
   "metadata": {},
   "source": [
    "Видим, что потеряно было около 1% событий и менее 1% пользователей, на общий результат это не окажет сильного влияния."
   ]
  },
  {
   "cell_type": "markdown",
   "metadata": {},
   "source": [
    "### Проверим, что у нас есть пользователи из всех трёх экспериментальных групп."
   ]
  },
  {
   "cell_type": "code",
   "execution_count": 20,
   "metadata": {},
   "outputs": [
    {
     "name": "stdout",
     "output_type": "stream",
     "text": [
      "Всего групп: 3\n"
     ]
    }
   ],
   "source": [
    "print('Всего групп: {}'.format(logs['group'].nunique()))"
   ]
  },
  {
   "cell_type": "code",
   "execution_count": 21,
   "metadata": {},
   "outputs": [
    {
     "data": {
      "text/plain": [
       "group\n",
       "246    2484\n",
       "247    2513\n",
       "248    2537\n",
       "Name: device, dtype: int64"
      ]
     },
     "execution_count": 21,
     "metadata": {},
     "output_type": "execute_result"
    }
   ],
   "source": [
    "logs_august.groupby('group')['device'].nunique()"
   ]
  },
  {
   "cell_type": "markdown",
   "metadata": {},
   "source": [
    "Пользователи есть в каждой группе и их количество примерно одинаковое"
   ]
  },
  {
   "cell_type": "markdown",
   "metadata": {},
   "source": [
    "На этом шаге мы проанализировали данные, определили что полные данные у нас с 2019-08-01 по 2019-08-07, отбросили данные до 2019-08-01, проанализировали сколько событий и пользоватлей было потеряно. Также проверили наличие пользователей во всех 3х группах.\n",
    "На следующем шаге построим и изучим воронку событий"
   ]
  },
  {
   "cell_type": "markdown",
   "metadata": {},
   "source": [
    "## Шаг: Изучим воронку событий"
   ]
  },
  {
   "cell_type": "markdown",
   "metadata": {},
   "source": [
    "### Посмотрим, какие события есть в логах, как часто они встречаются. Отсортируем события по частоте."
   ]
  },
  {
   "cell_type": "code",
   "execution_count": 22,
   "metadata": {},
   "outputs": [
    {
     "data": {
      "text/plain": [
       "MainScreenAppear           117328\n",
       "OffersScreenAppear          46333\n",
       "CartScreenAppear            42303\n",
       "PaymentScreenSuccessful     33918\n",
       "Tutorial                     1005\n",
       "Name: event, dtype: int64"
      ]
     },
     "metadata": {},
     "output_type": "display_data"
    }
   ],
   "source": [
    "# считаем частоту событий\n",
    "events = logs_august['event'].value_counts().sort_values(ascending = False)\n",
    "display(events)"
   ]
  },
  {
   "cell_type": "markdown",
   "metadata": {},
   "source": [
    "### Посчитаем, сколько пользователей совершали каждое из этих событий. Отсортируем события по числу пользователей. Посчитаем долю пользователей, которые хоть раз совершали событие."
   ]
  },
  {
   "cell_type": "code",
   "execution_count": 23,
   "metadata": {},
   "outputs": [
    {
     "data": {
      "text/html": [
       "<div>\n",
       "<style scoped>\n",
       "    .dataframe tbody tr th:only-of-type {\n",
       "        vertical-align: middle;\n",
       "    }\n",
       "\n",
       "    .dataframe tbody tr th {\n",
       "        vertical-align: top;\n",
       "    }\n",
       "\n",
       "    .dataframe thead th {\n",
       "        text-align: right;\n",
       "    }\n",
       "</style>\n",
       "<table border=\"1\" class=\"dataframe\">\n",
       "  <thead>\n",
       "    <tr style=\"text-align: right;\">\n",
       "      <th></th>\n",
       "      <th>event</th>\n",
       "      <th>count</th>\n",
       "      <th>users</th>\n",
       "      <th>%</th>\n",
       "    </tr>\n",
       "  </thead>\n",
       "  <tbody>\n",
       "    <tr>\n",
       "      <th>0</th>\n",
       "      <td>MainScreenAppear</td>\n",
       "      <td>117328</td>\n",
       "      <td>7419</td>\n",
       "      <td>98.5</td>\n",
       "    </tr>\n",
       "    <tr>\n",
       "      <th>1</th>\n",
       "      <td>OffersScreenAppear</td>\n",
       "      <td>46333</td>\n",
       "      <td>4593</td>\n",
       "      <td>61.0</td>\n",
       "    </tr>\n",
       "    <tr>\n",
       "      <th>2</th>\n",
       "      <td>CartScreenAppear</td>\n",
       "      <td>42303</td>\n",
       "      <td>3734</td>\n",
       "      <td>49.6</td>\n",
       "    </tr>\n",
       "    <tr>\n",
       "      <th>3</th>\n",
       "      <td>PaymentScreenSuccessful</td>\n",
       "      <td>33918</td>\n",
       "      <td>3539</td>\n",
       "      <td>47.0</td>\n",
       "    </tr>\n",
       "    <tr>\n",
       "      <th>4</th>\n",
       "      <td>Tutorial</td>\n",
       "      <td>1005</td>\n",
       "      <td>840</td>\n",
       "      <td>11.1</td>\n",
       "    </tr>\n",
       "  </tbody>\n",
       "</table>\n",
       "</div>"
      ],
      "text/plain": [
       "                     event   count  users     %\n",
       "0         MainScreenAppear  117328   7419  98.5\n",
       "1       OffersScreenAppear   46333   4593  61.0\n",
       "2         CartScreenAppear   42303   3734  49.6\n",
       "3  PaymentScreenSuccessful   33918   3539  47.0\n",
       "4                 Tutorial    1005    840  11.1"
      ]
     },
     "metadata": {},
     "output_type": "display_data"
    }
   ],
   "source": [
    "events = logs_august.groupby('event').agg({'event':'count', 'device': 'nunique'}).sort_values(by='device', ascending=False)\n",
    "events.columns = ['count', 'users']\n",
    "events = events.reset_index()\n",
    "# доля пользователей, хоть раз совешивших событие\n",
    "events['%'] = (events['users'] / logs_august['device'].nunique()*100).round(1)\n",
    "display(events)"
   ]
  },
  {
   "cell_type": "markdown",
   "metadata": {},
   "source": [
    "События происходят в следуюзем порядке: <br>\n",
    "MainScreenAppear(главный экран)->Tutorial(обучение)->OffersScreenAppear(страница предложений)->CartScreenAppear(страница корзины)->PaymentScreenSuccessful(страница платежа)\n",
    "\n",
    "Судя по количеству событий обучения, эта страница является необязательной и ее можно исключить из анализа."
   ]
  },
  {
   "cell_type": "code",
   "execution_count": 24,
   "metadata": {},
   "outputs": [
    {
     "data": {
      "text/html": [
       "<div>\n",
       "<style scoped>\n",
       "    .dataframe tbody tr th:only-of-type {\n",
       "        vertical-align: middle;\n",
       "    }\n",
       "\n",
       "    .dataframe tbody tr th {\n",
       "        vertical-align: top;\n",
       "    }\n",
       "\n",
       "    .dataframe thead th {\n",
       "        text-align: right;\n",
       "    }\n",
       "</style>\n",
       "<table border=\"1\" class=\"dataframe\">\n",
       "  <thead>\n",
       "    <tr style=\"text-align: right;\">\n",
       "      <th></th>\n",
       "      <th>event</th>\n",
       "      <th>count</th>\n",
       "      <th>users</th>\n",
       "      <th>%</th>\n",
       "    </tr>\n",
       "  </thead>\n",
       "  <tbody>\n",
       "    <tr>\n",
       "      <th>0</th>\n",
       "      <td>MainScreenAppear</td>\n",
       "      <td>117328</td>\n",
       "      <td>7419</td>\n",
       "      <td>98.5</td>\n",
       "    </tr>\n",
       "    <tr>\n",
       "      <th>1</th>\n",
       "      <td>OffersScreenAppear</td>\n",
       "      <td>46333</td>\n",
       "      <td>4593</td>\n",
       "      <td>61.0</td>\n",
       "    </tr>\n",
       "    <tr>\n",
       "      <th>2</th>\n",
       "      <td>CartScreenAppear</td>\n",
       "      <td>42303</td>\n",
       "      <td>3734</td>\n",
       "      <td>49.6</td>\n",
       "    </tr>\n",
       "    <tr>\n",
       "      <th>3</th>\n",
       "      <td>PaymentScreenSuccessful</td>\n",
       "      <td>33918</td>\n",
       "      <td>3539</td>\n",
       "      <td>47.0</td>\n",
       "    </tr>\n",
       "  </tbody>\n",
       "</table>\n",
       "</div>"
      ],
      "text/plain": [
       "                     event   count  users     %\n",
       "0         MainScreenAppear  117328   7419  98.5\n",
       "1       OffersScreenAppear   46333   4593  61.0\n",
       "2         CartScreenAppear   42303   3734  49.6\n",
       "3  PaymentScreenSuccessful   33918   3539  47.0"
      ]
     },
     "metadata": {},
     "output_type": "display_data"
    }
   ],
   "source": [
    "# отфильтруем обучение в исходной и сводной таблицах\n",
    "events = events[events['event'] != 'Tutorial']\n",
    "logs_f=logs_august[logs_august['event'] != 'Tutorial']\n",
    "display(events)"
   ]
  },
  {
   "cell_type": "code",
   "execution_count": 91,
   "metadata": {},
   "outputs": [
    {
     "data": {
      "image/png": "[encoded data removed]",
      "text/plain": [
       "<Figure size 640x480 with 1 Axes>"
      ]
     },
     "metadata": {},
     "output_type": "display_data"
    }
   ],
   "source": [
    "x = [117328,46333,42303,33918]\n",
    "x.reverse()\n",
    "labels =  [\"1.Главный экран\",\"2.Предложения\", \"3.Корзина\", \"4.Оплата\"]\n",
    "labels.reverse()\n",
    "\n",
    "fig, ax = plt.subplots()\n",
    "width = 0.75 # the width of the bars\n",
    "ind = np.arange(len(y))  # the x locations for the groups\n",
    "bar_plot = ax.barh(ind, y, width, color=\"green\", align='edge')\n",
    "ax.set_yticks(ind+width/2)\n",
    "ax.set_yticklabels(x, minor=False)\n",
    "plt.xticks(np.arange(0),(''))\n",
    "\n",
    "def autolabel(bar_plot):\n",
    "    for idx,rect in enumerate(bar_plot):\n",
    "        ax.text(0.25, idx+.25, labels[idx], color = 'white')\n",
    "autolabel(bar_plot)\n",
    "\n",
    "plt.margins(0,0.05)\n",
    "plt.title('Воронка событий')\n",
    "plt.ylabel('')\n",
    "\n",
    "plt.show()"
   ]
  },
  {
   "cell_type": "markdown",
   "metadata": {},
   "source": [
    "На втором шаге мы теряем больше всего пользователей - 38%.\n",
    "От первого события до оплаты доходит 48% пользователей и 95% тех, кто добавил товар в корзину."
   ]
  },
  {
   "cell_type": "markdown",
   "metadata": {},
   "source": [
    "На этом шаге мы построили воронку событий и изучили ее. На следующем шаге изучим результаты эксперимента"
   ]
  },
  {
   "cell_type": "markdown",
   "metadata": {},
   "source": [
    "## Шаг: Изучим результаты эксперимента"
   ]
  },
  {
   "cell_type": "markdown",
   "metadata": {},
   "source": [
    "### Сколько пользователей в каждой экспериментальной группе?"
   ]
  },
  {
   "cell_type": "code",
   "execution_count": 24,
   "metadata": {},
   "outputs": [
    {
     "data": {
      "text/plain": [
       "group\n",
       "246    2483\n",
       "247    2512\n",
       "248    2535\n",
       "Name: device, dtype: int64"
      ]
     },
     "execution_count": 24,
     "metadata": {},
     "output_type": "execute_result"
    }
   ],
   "source": [
    "# Сколько пользователей в каждой экспериментальной группе?\n",
    "users_gr=logs_f.groupby('group')['device'].nunique()\n",
    "users_gr"
   ]
  },
  {
   "cell_type": "markdown",
   "metadata": {},
   "source": [
    "В каждой группе примерно одинаковое количество пользователей"
   ]
  },
  {
   "cell_type": "markdown",
   "metadata": {},
   "source": [
    "### Есть 2 контрольные группы для А/А-эксперимента, чтобы проверить корректность всех механизмов и расчётов. Проверим, находят ли статистические критерии разницу между выборками 246 и 247."
   ]
  },
  {
   "cell_type": "markdown",
   "metadata": {},
   "source": [
    "Вначале подготовим таблицу для дальнейшего анализа"
   ]
  },
  {
   "cell_type": "code",
   "execution_count": 25,
   "metadata": {},
   "outputs": [
    {
     "data": {
      "text/html": [
       "<div>\n",
       "<style scoped>\n",
       "    .dataframe tbody tr th:only-of-type {\n",
       "        vertical-align: middle;\n",
       "    }\n",
       "\n",
       "    .dataframe tbody tr th {\n",
       "        vertical-align: top;\n",
       "    }\n",
       "\n",
       "    .dataframe thead th {\n",
       "        text-align: right;\n",
       "    }\n",
       "</style>\n",
       "<table border=\"1\" class=\"dataframe\">\n",
       "  <thead>\n",
       "    <tr style=\"text-align: right;\">\n",
       "      <th>event</th>\n",
       "      <th>CartScreenAppear</th>\n",
       "      <th>MainScreenAppear</th>\n",
       "      <th>OffersScreenAppear</th>\n",
       "      <th>PaymentScreenSuccessful</th>\n",
       "      <th>all_users</th>\n",
       "    </tr>\n",
       "    <tr>\n",
       "      <th>group</th>\n",
       "      <th></th>\n",
       "      <th></th>\n",
       "      <th></th>\n",
       "      <th></th>\n",
       "      <th></th>\n",
       "    </tr>\n",
       "  </thead>\n",
       "  <tbody>\n",
       "    <tr>\n",
       "      <th>246</th>\n",
       "      <td>1266</td>\n",
       "      <td>2450</td>\n",
       "      <td>1542</td>\n",
       "      <td>1200</td>\n",
       "      <td>2483</td>\n",
       "    </tr>\n",
       "    <tr>\n",
       "      <th>247</th>\n",
       "      <td>1238</td>\n",
       "      <td>2476</td>\n",
       "      <td>1520</td>\n",
       "      <td>1158</td>\n",
       "      <td>2512</td>\n",
       "    </tr>\n",
       "    <tr>\n",
       "      <th>246&amp;247</th>\n",
       "      <td>2504</td>\n",
       "      <td>4926</td>\n",
       "      <td>3062</td>\n",
       "      <td>2358</td>\n",
       "      <td>4995</td>\n",
       "    </tr>\n",
       "    <tr>\n",
       "      <th>248</th>\n",
       "      <td>1230</td>\n",
       "      <td>2493</td>\n",
       "      <td>1531</td>\n",
       "      <td>1181</td>\n",
       "      <td>2535</td>\n",
       "    </tr>\n",
       "  </tbody>\n",
       "</table>\n",
       "</div>"
      ],
      "text/plain": [
       "event    CartScreenAppear  MainScreenAppear  OffersScreenAppear  \\\n",
       "group                                                             \n",
       "246                  1266              2450                1542   \n",
       "247                  1238              2476                1520   \n",
       "246&247              2504              4926                3062   \n",
       "248                  1230              2493                1531   \n",
       "\n",
       "event    PaymentScreenSuccessful  all_users  \n",
       "group                                        \n",
       "246                         1200       2483  \n",
       "247                         1158       2512  \n",
       "246&247                     2358       4995  \n",
       "248                         1181       2535  "
      ]
     },
     "metadata": {},
     "output_type": "display_data"
    }
   ],
   "source": [
    "# состатвим сводную таблицу событий по группам\n",
    "dev_events = logs_f.pivot_table(index='group',columns='event', values='device', aggfunc='nunique').reset_index()\n",
    "# добавим общую сумму пользователей в таблицу\n",
    "dev_events['all_users'] = dev_events['group'].apply(lambda x: users_gr.loc[x])\n",
    "# изменим индекс на группу\n",
    "dev_events = dev_events.set_index('group')\n",
    "# добавим общую группу А (246+247)\n",
    "#сложим события пользоватлей 246 и 247\n",
    "new_row = dev_events.loc[246] + dev_events.loc[247]\n",
    "new_row.name='246&247'\n",
    "# добавим строчку в таблицу\n",
    "dev_events = dev_events.append([new_row])\n",
    "# переиндексируем\n",
    "dev_events = dev_events.reindex([246, 247, '246&247', 248])\n",
    "display(dev_events)"
   ]
  },
  {
   "cell_type": "code",
   "execution_count": 26,
   "metadata": {},
   "outputs": [],
   "source": [
    "# создадим функции для проверки, уровень значимости 0.1 или 0.05 будем передавать при вызове\n",
    "def test(first, second, all_f, all_s, al):  \n",
    "    alpha = al  # критический уровень статистической значимости\n",
    "    p1 = first / all_f \n",
    "    p2 = second / all_s \n",
    "    p_combined = (first + second) / (all_f + all_s) \n",
    "    difference = p1 - p2 \n",
    "    z_value = difference / mth.sqrt(p_combined * (1 - p_combined) * (1/all_f + 1/all_s))\n",
    "    # задаем стандартное нормальное распределение (среднее 0, ст.отклонение 1)\n",
    "    distr = st.norm(0, 1) \n",
    "    p_value = (1 - distr.cdf(abs(z_value))) * 2\n",
    "    if p_value < al:\n",
    "        result='Отвергаем нулевую гипотезу'\n",
    "    else:\n",
    "        result='Не получилось отвергнуть нулевую гипотезу'\n",
    "    return print('Событие',event,'группы',gr_1,'и',gr_2, 'alpha=',al,' p-value=',round(p_value,4), result)\n",
    "# список событий\n",
    "events_name = logs_f['event'].unique()"
   ]
  },
  {
   "cell_type": "code",
   "execution_count": 27,
   "metadata": {},
   "outputs": [
    {
     "name": "stdout",
     "output_type": "stream",
     "text": [
      "Гипотезы:\n",
      "H0: статистически значимых различий между группами нет\n",
      "H1: статистически значимые различия между группами есть\n"
     ]
    }
   ],
   "source": [
    "print('Гипотезы:')\n",
    "print('H0: статистически значимых различий между группами нет')\n",
    "print('H1: статистически значимые различия между группами есть')"
   ]
  },
  {
   "cell_type": "code",
   "execution_count": 28,
   "metadata": {},
   "outputs": [
    {
     "name": "stdout",
     "output_type": "stream",
     "text": [
      "Проверяем группы А 246 и 247 при уровне значимости 0.05\n",
      "Событие MainScreenAppear группы 246 и 247 alpha= 0.05  p-value= 0.7527 Не получилось отвергнуть нулевую гипотезу\n",
      "Событие OffersScreenAppear группы 246 и 247 alpha= 0.05  p-value= 0.2479 Не получилось отвергнуть нулевую гипотезу\n",
      "Событие CartScreenAppear группы 246 и 247 alpha= 0.05  p-value= 0.2287 Не получилось отвергнуть нулевую гипотезу\n",
      "Событие PaymentScreenSuccessful группы 246 и 247 alpha= 0.05  p-value= 0.1145 Не получилось отвергнуть нулевую гипотезу\n"
     ]
    }
   ],
   "source": [
    "gr_1 = 246\n",
    "gr_2 = 247\n",
    "current_row = dev_events.loc[gr_1]\n",
    "al=0.05 # уровень значимости 0.05\n",
    "print('Проверяем группы А 246 и 247 при уровне значимости', al)\n",
    "for event in events_name:\n",
    "    test(current_row[event],dev_events[event][gr_2],current_row['all_users'],dev_events['all_users'][gr_2],al)"
   ]
  },
  {
   "cell_type": "code",
   "execution_count": 29,
   "metadata": {},
   "outputs": [
    {
     "name": "stdout",
     "output_type": "stream",
     "text": [
      "Проверяем группы А 246 и 247 при уровне значимости 0.1\n",
      "Событие MainScreenAppear группы 246 и 247 alpha= 0.1  p-value= 0.7527 Не получилось отвергнуть нулевую гипотезу\n",
      "Событие OffersScreenAppear группы 246 и 247 alpha= 0.1  p-value= 0.2479 Не получилось отвергнуть нулевую гипотезу\n",
      "Событие CartScreenAppear группы 246 и 247 alpha= 0.1  p-value= 0.2287 Не получилось отвергнуть нулевую гипотезу\n",
      "Событие PaymentScreenSuccessful группы 246 и 247 alpha= 0.1  p-value= 0.1145 Не получилось отвергнуть нулевую гипотезу\n"
     ]
    }
   ],
   "source": [
    "gr_1 = 246\n",
    "gr_2 = 247\n",
    "current_row = dev_events.loc[gr_1]\n",
    "al=0.1 # уровень значимости 0.1\n",
    "print('Проверяем группы А 246 и 247 при уровне значимости', al)\n",
    "for event in events_name:\n",
    "    test(current_row[event],dev_events[event][gr_2],current_row['all_users'],dev_events['all_users'][gr_2],al)"
   ]
  },
  {
   "cell_type": "markdown",
   "metadata": {},
   "source": [
    "Мы проверили обе группы А при разных уровнях статистической значимости 0.05 и 0.1, статистически значимых различий между группами 246 и 247 нет. Разбивка на группы была произведена корректно."
   ]
  },
  {
   "cell_type": "markdown",
   "metadata": {},
   "source": [
    "### Выберем самое популярное событие. Посчитаем число пользователей, совершивших это событие в каждой из контрольных групп. Посчитаем долю пользователей, совершивших это событие. Проверим, будет ли отличие между группами статистически достоверным. "
   ]
  },
  {
   "cell_type": "code",
   "execution_count": 30,
   "metadata": {},
   "outputs": [
    {
     "data": {
      "text/html": [
       "<div>\n",
       "<style scoped>\n",
       "    .dataframe tbody tr th:only-of-type {\n",
       "        vertical-align: middle;\n",
       "    }\n",
       "\n",
       "    .dataframe tbody tr th {\n",
       "        vertical-align: top;\n",
       "    }\n",
       "\n",
       "    .dataframe thead th {\n",
       "        text-align: right;\n",
       "    }\n",
       "</style>\n",
       "<table border=\"1\" class=\"dataframe\">\n",
       "  <thead>\n",
       "    <tr style=\"text-align: right;\">\n",
       "      <th>event</th>\n",
       "      <th>CartScreenAppear</th>\n",
       "      <th>MainScreenAppear</th>\n",
       "      <th>OffersScreenAppear</th>\n",
       "      <th>PaymentScreenSuccessful</th>\n",
       "      <th>all_users</th>\n",
       "    </tr>\n",
       "    <tr>\n",
       "      <th>group</th>\n",
       "      <th></th>\n",
       "      <th></th>\n",
       "      <th></th>\n",
       "      <th></th>\n",
       "      <th></th>\n",
       "    </tr>\n",
       "  </thead>\n",
       "  <tbody>\n",
       "    <tr>\n",
       "      <th>246</th>\n",
       "      <td>1266</td>\n",
       "      <td>2450</td>\n",
       "      <td>1542</td>\n",
       "      <td>1200</td>\n",
       "      <td>2483</td>\n",
       "    </tr>\n",
       "    <tr>\n",
       "      <th>247</th>\n",
       "      <td>1238</td>\n",
       "      <td>2476</td>\n",
       "      <td>1520</td>\n",
       "      <td>1158</td>\n",
       "      <td>2512</td>\n",
       "    </tr>\n",
       "    <tr>\n",
       "      <th>246&amp;247</th>\n",
       "      <td>2504</td>\n",
       "      <td>4926</td>\n",
       "      <td>3062</td>\n",
       "      <td>2358</td>\n",
       "      <td>4995</td>\n",
       "    </tr>\n",
       "    <tr>\n",
       "      <th>248</th>\n",
       "      <td>1230</td>\n",
       "      <td>2493</td>\n",
       "      <td>1531</td>\n",
       "      <td>1181</td>\n",
       "      <td>2535</td>\n",
       "    </tr>\n",
       "  </tbody>\n",
       "</table>\n",
       "</div>"
      ],
      "text/plain": [
       "event    CartScreenAppear  MainScreenAppear  OffersScreenAppear  \\\n",
       "group                                                             \n",
       "246                  1266              2450                1542   \n",
       "247                  1238              2476                1520   \n",
       "246&247              2504              4926                3062   \n",
       "248                  1230              2493                1531   \n",
       "\n",
       "event    PaymentScreenSuccessful  all_users  \n",
       "group                                        \n",
       "246                         1200       2483  \n",
       "247                         1158       2512  \n",
       "246&247                     2358       4995  \n",
       "248                         1181       2535  "
      ]
     },
     "metadata": {},
     "output_type": "display_data"
    }
   ],
   "source": [
    "display(dev_events)"
   ]
  },
  {
   "cell_type": "markdown",
   "metadata": {},
   "source": [
    "Самое популярное событие у всех групп - просмотр главного экрана (MainScreenAppear)"
   ]
  },
  {
   "cell_type": "code",
   "execution_count": 31,
   "metadata": {},
   "outputs": [
    {
     "data": {
      "text/html": [
       "<div>\n",
       "<style scoped>\n",
       "    .dataframe tbody tr th:only-of-type {\n",
       "        vertical-align: middle;\n",
       "    }\n",
       "\n",
       "    .dataframe tbody tr th {\n",
       "        vertical-align: top;\n",
       "    }\n",
       "\n",
       "    .dataframe thead th {\n",
       "        text-align: right;\n",
       "    }\n",
       "</style>\n",
       "<table border=\"1\" class=\"dataframe\">\n",
       "  <thead>\n",
       "    <tr style=\"text-align: right;\">\n",
       "      <th>event</th>\n",
       "      <th>MainScreenAppear</th>\n",
       "      <th>dolya</th>\n",
       "    </tr>\n",
       "    <tr>\n",
       "      <th>group</th>\n",
       "      <th></th>\n",
       "      <th></th>\n",
       "    </tr>\n",
       "  </thead>\n",
       "  <tbody>\n",
       "    <tr>\n",
       "      <th>246</th>\n",
       "      <td>2450</td>\n",
       "      <td>0.986710</td>\n",
       "    </tr>\n",
       "    <tr>\n",
       "      <th>247</th>\n",
       "      <td>2476</td>\n",
       "      <td>0.985669</td>\n",
       "    </tr>\n",
       "    <tr>\n",
       "      <th>246&amp;247</th>\n",
       "      <td>4926</td>\n",
       "      <td>0.986186</td>\n",
       "    </tr>\n",
       "    <tr>\n",
       "      <th>248</th>\n",
       "      <td>2493</td>\n",
       "      <td>0.983432</td>\n",
       "    </tr>\n",
       "  </tbody>\n",
       "</table>\n",
       "</div>"
      ],
      "text/plain": [
       "event    MainScreenAppear     dolya\n",
       "group                              \n",
       "246                  2450  0.986710\n",
       "247                  2476  0.985669\n",
       "246&247              4926  0.986186\n",
       "248                  2493  0.983432"
      ]
     },
     "metadata": {},
     "output_type": "display_data"
    }
   ],
   "source": [
    "# доля пользователей самого популярного события\n",
    "dev_events['dolya']=dev_events['MainScreenAppear']/dev_events['all_users']\n",
    "display(dev_events[['MainScreenAppear','dolya']])"
   ]
  },
  {
   "cell_type": "code",
   "execution_count": 32,
   "metadata": {},
   "outputs": [
    {
     "name": "stdout",
     "output_type": "stream",
     "text": [
      "Проверяем группы А 246 и 248  при уровне значимости 0.05 по событию MainScreenAppear\n",
      "Событие MainScreenAppear группы 246 и 248 alpha= 0.05  p-value= 0.3387 Не получилось отвергнуть нулевую гипотезу\n",
      "Проверяем группы А 247 и 248  при уровне значимости 0.05 по событию MainScreenAppear\n",
      "Событие MainScreenAppear группы 247 и 248 alpha= 0.05  p-value= 0.5195 Не получилось отвергнуть нулевую гипотезу\n",
      "Проверяем группы А 246&247 и 248  при уровне значимости 0.05 по событию MainScreenAppear\n",
      "Событие MainScreenAppear группы 246&247 и 248 alpha= 0.05  p-value= 0.3487 Не получилось отвергнуть нулевую гипотезу\n",
      "--------------------------------------\n",
      "Проверяем группы А 246 и 248  при уровне значимости 0.1 по событию MainScreenAppear\n",
      "Событие MainScreenAppear группы 246 и 248 alpha= 0.1  p-value= 0.3387 Не получилось отвергнуть нулевую гипотезу\n",
      "Проверяем группы А 247 и 248  при уровне значимости 0.1 по событию MainScreenAppear\n",
      "Событие MainScreenAppear группы 247 и 248 alpha= 0.1  p-value= 0.5195 Не получилось отвергнуть нулевую гипотезу\n",
      "Проверяем группы А 246&247 и 248  при уровне значимости 0.1 по событию MainScreenAppear\n",
      "Событие MainScreenAppear группы 246&247 и 248 alpha= 0.1  p-value= 0.3487 Не получилось отвергнуть нулевую гипотезу\n"
     ]
    }
   ],
   "source": [
    "# Проверим будет ли отличие между группами по событию MainScreenAppear статистически достоверным.\n",
    "event='MainScreenAppear'\n",
    "gr_2=248\n",
    "for i in range(3):\n",
    "    gr_1 = dev_events.index[i]\n",
    "    current_row = dev_events.loc[gr_1]\n",
    "    al=0.05 # уровень значимости 0.05\n",
    "    print('Проверяем группы А', gr_1, 'и', gr_2, ' при уровне значимости', al, 'по событию MainScreenAppear')\n",
    "    test(current_row[event],dev_events[event][gr_2],current_row['all_users'],dev_events['all_users'][gr_2],al)\n",
    "print('--------------------------------------')    \n",
    "for i in range(3):\n",
    "    gr_1 = dev_events.index[i]\n",
    "    current_row = dev_events.loc[gr_1]    \n",
    "    al=0.1 # уровень значимости 0.05\n",
    "    print('Проверяем группы А', gr_1, 'и', gr_2, ' при уровне значимости', al, 'по событию MainScreenAppear')\n",
    "    test(current_row[event],dev_events[event][gr_2],current_row['all_users'],dev_events['all_users'][gr_2],al)"
   ]
  },
  {
   "cell_type": "markdown",
   "metadata": {},
   "source": [
    "По событию просмотр главного экрана между группами нет статистически достоверных отличий, провера проводилась при уровне значимости 0.05 и 0.1"
   ]
  },
  {
   "cell_type": "markdown",
   "metadata": {},
   "source": [
    "### Аналогично поступите с группой с изменённым шрифтом. Сравним результаты с каждой из контрольных групп в отдельности по каждому событию. Сравним результаты с объединённой контрольной группой. "
   ]
  },
  {
   "cell_type": "markdown",
   "metadata": {},
   "source": [
    "Проверим теперь отстальные события"
   ]
  },
  {
   "cell_type": "code",
   "execution_count": 33,
   "metadata": {},
   "outputs": [
    {
     "name": "stdout",
     "output_type": "stream",
     "text": [
      "Проверяем группы А 246 и 248  при уровне значимости 0.05 по событию OffersScreenAppear\n",
      "Событие OffersScreenAppear группы 246 и 248 alpha= 0.05  p-value= 0.2144 Не получилось отвергнуть нулевую гипотезу\n",
      "Проверяем группы А 247 и 248  при уровне значимости 0.05 по событию OffersScreenAppear\n",
      "Событие OffersScreenAppear группы 247 и 248 alpha= 0.05  p-value= 0.9334 Не получилось отвергнуть нулевую гипотезу\n",
      "Проверяем группы А 246&247 и 248  при уровне значимости 0.05 по событию OffersScreenAppear\n",
      "Событие OffersScreenAppear группы 246&247 и 248 alpha= 0.05  p-value= 0.4458 Не получилось отвергнуть нулевую гипотезу\n",
      "Проверяем группы А 246 и 248  при уровне значимости 0.05 по событию CartScreenAppear\n",
      "Событие CartScreenAppear группы 246 и 248 alpha= 0.05  p-value= 0.0807 Не получилось отвергнуть нулевую гипотезу\n",
      "Проверяем группы А 247 и 248  при уровне значимости 0.05 по событию CartScreenAppear\n",
      "Событие CartScreenAppear группы 247 и 248 alpha= 0.05  p-value= 0.5878 Не получилось отвергнуть нулевую гипотезу\n",
      "Проверяем группы А 246&247 и 248  при уровне значимости 0.05 по событию CartScreenAppear\n",
      "Событие CartScreenAppear группы 246&247 и 248 alpha= 0.05  p-value= 0.1868 Не получилось отвергнуть нулевую гипотезу\n",
      "Проверяем группы А 246 и 248  при уровне значимости 0.05 по событию PaymentScreenSuccessful\n",
      "Событие PaymentScreenSuccessful группы 246 и 248 alpha= 0.05  p-value= 0.2169 Не получилось отвергнуть нулевую гипотезу\n",
      "Проверяем группы А 247 и 248  при уровне значимости 0.05 по событию PaymentScreenSuccessful\n",
      "Событие PaymentScreenSuccessful группы 247 и 248 alpha= 0.05  p-value= 0.7276 Не получилось отвергнуть нулевую гипотезу\n",
      "Проверяем группы А 246&247 и 248  при уровне значимости 0.05 по событию PaymentScreenSuccessful\n",
      "Событие PaymentScreenSuccessful группы 246&247 и 248 alpha= 0.05  p-value= 0.6108 Не получилось отвергнуть нулевую гипотезу\n",
      "-----\n",
      "Проверяем группы А 246 и 248  при уровне значимости 0.1 по событию OffersScreenAppear\n",
      "Событие OffersScreenAppear группы 246 и 248 alpha= 0.1  p-value= 0.2144 Не получилось отвергнуть нулевую гипотезу\n",
      "Проверяем группы А 247 и 248  при уровне значимости 0.1 по событию OffersScreenAppear\n",
      "Событие OffersScreenAppear группы 247 и 248 alpha= 0.1  p-value= 0.9334 Не получилось отвергнуть нулевую гипотезу\n",
      "Проверяем группы А 246&247 и 248  при уровне значимости 0.1 по событию OffersScreenAppear\n",
      "Событие OffersScreenAppear группы 246&247 и 248 alpha= 0.1  p-value= 0.4458 Не получилось отвергнуть нулевую гипотезу\n",
      "Проверяем группы А 246 и 248  при уровне значимости 0.1 по событию CartScreenAppear\n",
      "Событие CartScreenAppear группы 246 и 248 alpha= 0.1  p-value= 0.0807 Отвергаем нулевую гипотезу\n",
      "Проверяем группы А 247 и 248  при уровне значимости 0.1 по событию CartScreenAppear\n",
      "Событие CartScreenAppear группы 247 и 248 alpha= 0.1  p-value= 0.5878 Не получилось отвергнуть нулевую гипотезу\n",
      "Проверяем группы А 246&247 и 248  при уровне значимости 0.1 по событию CartScreenAppear\n",
      "Событие CartScreenAppear группы 246&247 и 248 alpha= 0.1  p-value= 0.1868 Не получилось отвергнуть нулевую гипотезу\n",
      "Проверяем группы А 246 и 248  при уровне значимости 0.1 по событию PaymentScreenSuccessful\n",
      "Событие PaymentScreenSuccessful группы 246 и 248 alpha= 0.1  p-value= 0.2169 Не получилось отвергнуть нулевую гипотезу\n",
      "Проверяем группы А 247 и 248  при уровне значимости 0.1 по событию PaymentScreenSuccessful\n",
      "Событие PaymentScreenSuccessful группы 247 и 248 alpha= 0.1  p-value= 0.7276 Не получилось отвергнуть нулевую гипотезу\n",
      "Проверяем группы А 246&247 и 248  при уровне значимости 0.1 по событию PaymentScreenSuccessful\n",
      "Событие PaymentScreenSuccessful группы 246&247 и 248 alpha= 0.1  p-value= 0.6108 Не получилось отвергнуть нулевую гипотезу\n"
     ]
    }
   ],
   "source": [
    "gr_2=248\n",
    "for event in events_name:\n",
    "    if event=='MainScreenAppear':\n",
    "        continue\n",
    "    for i in range(3):\n",
    "        gr_1 = dev_events.index[i]\n",
    "        current_row = dev_events.loc[gr_1]\n",
    "        al=0.05 # уровень значимости 0.05\n",
    "        print('Проверяем группы А', gr_1, 'и', gr_2, ' при уровне значимости', al, 'по событию', event)\n",
    "        test(current_row[event],dev_events[event][gr_2],current_row['all_users'],dev_events['all_users'][gr_2],al)\n",
    "print('-----')\n",
    "for event in events_name:\n",
    "    if event=='MainScreenAppear':\n",
    "        continue\n",
    "    for i in range(3):\n",
    "        gr_1 = dev_events.index[i]\n",
    "        current_row = dev_events.loc[gr_1]\n",
    "        al=0.1 # уровень значимости 0.1\n",
    "        print('Проверяем группы А', gr_1, 'и', gr_2, ' при уровне значимости', al, 'по событию', event)\n",
    "        test(current_row[event],dev_events[event][gr_2],current_row['all_users'],dev_events['all_users'][gr_2],al)  \n"
   ]
  },
  {
   "cell_type": "markdown",
   "metadata": {},
   "source": [
    "При анализе результатов видим, что они практически сопадают при разных уровнях значимости, отличие есть лишь между группами 246 и 248 по событию просмотр корзины (CartScreenAppear) при уровне значимости 0.1."
   ]
  },
  {
   "cell_type": "markdown",
   "metadata": {},
   "source": [
    "Для сравнения тесты были проведены с уровнями значимости 0.05 и 0.1"
   ]
  },
  {
   "cell_type": "markdown",
   "metadata": {},
   "source": [
    "По каждому из уровней значимости было произведено по 16 проверок гипотез. При уровне значимости 0.1 выявилось различие между группами 246 и 248, учистывая количесво проведенных проверок, это отличие очень похоже на ложный результат. Вывод: стоит опираться и применять в данном исследовании уровень значимости 0.05, который показал, что различий между группами нет."
   ]
  },
  {
   "cell_type": "markdown",
   "metadata": {},
   "source": [
    "<b> Выводы </b>"
   ]
  },
  {
   "cell_type": "markdown",
   "metadata": {},
   "source": [
    "При анализе результатов теста было вявлено следующее:<br>\n",
    "   * Разбивка пользователей на группы была проведена корректо\n",
    "   * Уровень статистической значиости был выбран 0.05, т.к в результате большого числа проверок гипотез значимость 0.1 может давать ошибки\n",
    "   * При выбранном уровне значимости 0.05 нет статистически значимых различий между пользователями с новыми и старыми шрифтами, <b>нет смысла менять шрифты</b> <br>\n",
    "Анализ воронки событий показал, что:\n",
    "   * 48% пользователей доходят до оплаты и 95% положивших товар в корзину оплачивают его, это неплохой показатель.\n",
    "   * Больше всего пользователей (38%) теряется при переходе с первого шага на второй, возможно стоит <b>разместить рекламные баннеры и ссылки на главной странице</b>, привлекающими внимание и завлекающими пользователей на дальнейшие страницы."
   ]
  }
 ],
 "metadata": {
  "ExecuteTimeLog": [
   {
    "duration": 1224,
    "start_time": "2023-01-16T06:32:48.275Z"
   },
   {
    "duration": 453,
    "start_time": "2023-01-16T06:32:59.200Z"
   },
   {
    "duration": 11,
    "start_time": "2023-01-16T06:33:07.990Z"
   },
   {
    "duration": 20,
    "start_time": "2023-01-16T06:33:18.754Z"
   },
   {
    "duration": 3,
    "start_time": "2023-01-16T06:34:15.985Z"
   },
   {
    "duration": 56,
    "start_time": "2023-01-16T06:34:25.145Z"
   },
   {
    "duration": 63,
    "start_time": "2023-01-16T06:34:58.370Z"
   },
   {
    "duration": 103,
    "start_time": "2023-01-16T06:35:12.744Z"
   },
   {
    "duration": 3,
    "start_time": "2023-01-16T06:37:14.573Z"
   },
   {
    "duration": 486,
    "start_time": "2023-01-16T06:37:56.422Z"
   },
   {
    "duration": 7,
    "start_time": "2023-01-16T06:37:57.264Z"
   },
   {
    "duration": 24,
    "start_time": "2023-01-16T06:37:59.521Z"
   },
   {
    "duration": 3,
    "start_time": "2023-01-16T06:38:03.654Z"
   },
   {
    "duration": 53,
    "start_time": "2023-01-16T06:38:04.153Z"
   },
   {
    "duration": 73,
    "start_time": "2023-01-16T06:38:05.814Z"
   },
   {
    "duration": 97,
    "start_time": "2023-01-16T06:38:10.018Z"
   },
   {
    "duration": 3,
    "start_time": "2023-01-16T06:38:33.750Z"
   },
   {
    "duration": 8,
    "start_time": "2023-01-16T06:38:42.508Z"
   },
   {
    "duration": 38,
    "start_time": "2023-01-16T06:38:51.521Z"
   },
   {
    "duration": 128,
    "start_time": "2023-01-16T06:39:22.296Z"
   },
   {
    "duration": 3,
    "start_time": "2023-01-16T06:52:08.141Z"
   },
   {
    "duration": 93,
    "start_time": "2023-01-16T06:52:23.837Z"
   },
   {
    "duration": 2,
    "start_time": "2023-01-16T06:53:25.146Z"
   },
   {
    "duration": 85,
    "start_time": "2023-01-16T07:33:43.160Z"
   },
   {
    "duration": 3,
    "start_time": "2023-01-16T07:33:55.431Z"
   },
   {
    "duration": 149,
    "start_time": "2023-01-16T07:33:58.062Z"
   },
   {
    "duration": 1053,
    "start_time": "2023-01-16T07:34:02.372Z"
   },
   {
    "duration": 3,
    "start_time": "2023-01-16T07:34:08.313Z"
   },
   {
    "duration": 81,
    "start_time": "2023-01-16T07:34:11.600Z"
   },
   {
    "duration": 102,
    "start_time": "2023-01-16T07:34:37.233Z"
   },
   {
    "duration": 89,
    "start_time": "2023-01-16T07:36:32.565Z"
   },
   {
    "duration": 27,
    "start_time": "2023-01-16T07:36:50.312Z"
   },
   {
    "duration": 201,
    "start_time": "2023-01-16T07:36:53.949Z"
   },
   {
    "duration": 38,
    "start_time": "2023-01-16T07:37:42.087Z"
   },
   {
    "duration": 14,
    "start_time": "2023-01-16T07:37:54.117Z"
   },
   {
    "duration": 7,
    "start_time": "2023-01-16T07:38:03.389Z"
   },
   {
    "duration": 7,
    "start_time": "2023-01-16T07:38:18.817Z"
   },
   {
    "duration": 6,
    "start_time": "2023-01-16T07:38:30.790Z"
   },
   {
    "duration": 38,
    "start_time": "2023-01-16T07:38:49.517Z"
   },
   {
    "duration": 3,
    "start_time": "2023-01-16T07:40:02.534Z"
   },
   {
    "duration": 25,
    "start_time": "2023-01-16T07:40:27.400Z"
   },
   {
    "duration": 76,
    "start_time": "2023-01-16T07:40:42.542Z"
   },
   {
    "duration": 29,
    "start_time": "2023-01-16T07:41:27.368Z"
   },
   {
    "duration": 9,
    "start_time": "2023-01-16T07:41:44.129Z"
   },
   {
    "duration": 260,
    "start_time": "2023-01-16T07:42:27.530Z"
   },
   {
    "duration": 2,
    "start_time": "2023-01-16T07:44:01.010Z"
   },
   {
    "duration": 745,
    "start_time": "2023-01-16T07:44:26.978Z"
   },
   {
    "duration": 35,
    "start_time": "2023-01-16T07:45:00.631Z"
   },
   {
    "duration": 69,
    "start_time": "2023-01-16T07:45:46.319Z"
   },
   {
    "duration": 81,
    "start_time": "2023-01-16T07:46:14.978Z"
   },
   {
    "duration": 5,
    "start_time": "2023-01-16T07:46:41.671Z"
   },
   {
    "duration": 27,
    "start_time": "2023-01-16T07:46:58.219Z"
   },
   {
    "duration": 26,
    "start_time": "2023-01-16T09:07:19.330Z"
   },
   {
    "duration": 153,
    "start_time": "2023-01-16T09:10:22.771Z"
   },
   {
    "duration": 3,
    "start_time": "2023-01-16T09:10:26.456Z"
   },
   {
    "duration": 71,
    "start_time": "2023-01-16T09:11:21.145Z"
   },
   {
    "duration": 31,
    "start_time": "2023-01-16T09:16:21.165Z"
   },
   {
    "duration": 28,
    "start_time": "2023-01-16T09:18:00.785Z"
   },
   {
    "duration": 3,
    "start_time": "2023-01-16T09:18:59.218Z"
   },
   {
    "duration": 2,
    "start_time": "2023-01-16T09:19:16.147Z"
   },
   {
    "duration": 33,
    "start_time": "2023-01-16T09:19:39.505Z"
   },
   {
    "duration": 11,
    "start_time": "2023-01-16T09:20:16.302Z"
   },
   {
    "duration": 7,
    "start_time": "2023-01-16T09:21:08.612Z"
   },
   {
    "duration": 2,
    "start_time": "2023-01-16T09:23:23.956Z"
   },
   {
    "duration": 26,
    "start_time": "2023-01-16T09:24:02.048Z"
   },
   {
    "duration": 48,
    "start_time": "2023-01-16T09:25:31.806Z"
   },
   {
    "duration": 22,
    "start_time": "2023-01-16T09:25:39.686Z"
   },
   {
    "duration": 24,
    "start_time": "2023-01-16T09:25:47.540Z"
   },
   {
    "duration": 25,
    "start_time": "2023-01-16T09:25:57.462Z"
   },
   {
    "duration": 24,
    "start_time": "2023-01-16T09:26:02.869Z"
   },
   {
    "duration": 71,
    "start_time": "2023-01-16T09:26:36.509Z"
   },
   {
    "duration": 28,
    "start_time": "2023-01-16T09:27:37.439Z"
   },
   {
    "duration": 10,
    "start_time": "2023-01-16T09:27:43.428Z"
   },
   {
    "duration": 833,
    "start_time": "2023-01-16T09:29:06.796Z"
   },
   {
    "duration": 10,
    "start_time": "2023-01-16T09:30:14.474Z"
   },
   {
    "duration": 31,
    "start_time": "2023-01-16T09:30:26.292Z"
   },
   {
    "duration": 31,
    "start_time": "2023-01-16T09:30:37.096Z"
   },
   {
    "duration": 78,
    "start_time": "2023-01-16T09:31:12.138Z"
   },
   {
    "duration": 3,
    "start_time": "2023-01-16T09:32:19.398Z"
   },
   {
    "duration": 101,
    "start_time": "2023-01-16T09:33:55.237Z"
   },
   {
    "duration": 4,
    "start_time": "2023-01-16T09:41:52.799Z"
   },
   {
    "duration": 19,
    "start_time": "2023-01-16T09:43:03.413Z"
   },
   {
    "duration": 30,
    "start_time": "2023-01-16T09:46:00.415Z"
   },
   {
    "duration": 24,
    "start_time": "2023-01-16T09:46:44.465Z"
   },
   {
    "duration": 53,
    "start_time": "2023-01-16T09:55:45.511Z"
   },
   {
    "duration": 5,
    "start_time": "2023-01-16T10:18:35.120Z"
   },
   {
    "duration": 27,
    "start_time": "2023-01-16T10:22:44.371Z"
   },
   {
    "duration": 79,
    "start_time": "2023-01-16T10:28:14.195Z"
   },
   {
    "duration": 6,
    "start_time": "2023-01-16T10:28:28.591Z"
   },
   {
    "duration": 3,
    "start_time": "2023-01-16T10:28:39.055Z"
   },
   {
    "duration": 705,
    "start_time": "2023-01-16T10:28:39.930Z"
   },
   {
    "duration": 75,
    "start_time": "2023-01-16T10:31:10.071Z"
   },
   {
    "duration": 75,
    "start_time": "2023-01-16T10:31:28.168Z"
   },
   {
    "duration": 44,
    "start_time": "2023-01-16T10:33:24.922Z"
   },
   {
    "duration": 82,
    "start_time": "2023-01-16T10:33:40.525Z"
   },
   {
    "duration": 78,
    "start_time": "2023-01-16T10:34:08.694Z"
   },
   {
    "duration": 68,
    "start_time": "2023-01-16T10:34:50.337Z"
   },
   {
    "duration": 82,
    "start_time": "2023-01-16T10:35:43.531Z"
   },
   {
    "duration": 75,
    "start_time": "2023-01-16T10:35:48.946Z"
   },
   {
    "duration": 75,
    "start_time": "2023-01-16T10:36:21.599Z"
   },
   {
    "duration": 78,
    "start_time": "2023-01-16T10:36:44.549Z"
   },
   {
    "duration": 72,
    "start_time": "2023-01-16T10:37:13.966Z"
   },
   {
    "duration": 70,
    "start_time": "2023-01-16T10:37:49.777Z"
   },
   {
    "duration": 82,
    "start_time": "2023-01-16T10:39:38.338Z"
   },
   {
    "duration": 73,
    "start_time": "2023-01-16T10:39:54.268Z"
   },
   {
    "duration": 79,
    "start_time": "2023-01-16T10:40:10.502Z"
   },
   {
    "duration": 71,
    "start_time": "2023-01-16T10:40:21.395Z"
   },
   {
    "duration": 80,
    "start_time": "2023-01-16T10:40:44.356Z"
   },
   {
    "duration": 4,
    "start_time": "2023-01-16T10:40:52.488Z"
   },
   {
    "duration": 74,
    "start_time": "2023-01-16T10:41:24.421Z"
   },
   {
    "duration": 91,
    "start_time": "2023-01-16T10:41:35.044Z"
   },
   {
    "duration": 84,
    "start_time": "2023-01-16T10:42:06.458Z"
   },
   {
    "duration": 84,
    "start_time": "2023-01-16T10:42:19.244Z"
   },
   {
    "duration": 93,
    "start_time": "2023-01-16T10:42:29.495Z"
   },
   {
    "duration": 95,
    "start_time": "2023-01-16T10:42:38.161Z"
   },
   {
    "duration": 73,
    "start_time": "2023-01-16T10:43:11.116Z"
   },
   {
    "duration": 90,
    "start_time": "2023-01-16T10:43:41.816Z"
   },
   {
    "duration": 78,
    "start_time": "2023-01-16T10:43:51.755Z"
   },
   {
    "duration": 76,
    "start_time": "2023-01-16T10:44:15.792Z"
   },
   {
    "duration": 70,
    "start_time": "2023-01-16T10:44:48.548Z"
   },
   {
    "duration": 85,
    "start_time": "2023-01-16T10:44:55.573Z"
   },
   {
    "duration": 1082,
    "start_time": "2023-01-16T10:45:24.468Z"
   },
   {
    "duration": 18,
    "start_time": "2023-01-16T10:45:52.279Z"
   },
   {
    "duration": 18,
    "start_time": "2023-01-16T10:46:30.409Z"
   },
   {
    "duration": 18,
    "start_time": "2023-01-16T10:47:02.441Z"
   },
   {
    "duration": 20,
    "start_time": "2023-01-16T10:47:44.617Z"
   },
   {
    "duration": 29,
    "start_time": "2023-01-16T10:48:38.268Z"
   },
   {
    "duration": 4,
    "start_time": "2023-01-16T10:48:55.021Z"
   },
   {
    "duration": 22,
    "start_time": "2023-01-16T10:48:57.409Z"
   },
   {
    "duration": 3,
    "start_time": "2023-01-16T10:49:18.502Z"
   },
   {
    "duration": 4,
    "start_time": "2023-01-16T10:49:32.814Z"
   },
   {
    "duration": 26,
    "start_time": "2023-01-16T10:49:33.822Z"
   },
   {
    "duration": 5,
    "start_time": "2023-01-16T10:50:15.017Z"
   },
   {
    "duration": 32,
    "start_time": "2023-01-16T10:50:16.930Z"
   },
   {
    "duration": 4,
    "start_time": "2023-01-16T10:50:39.954Z"
   },
   {
    "duration": 25,
    "start_time": "2023-01-16T10:50:41.312Z"
   },
   {
    "duration": 31,
    "start_time": "2023-01-16T10:54:50.326Z"
   },
   {
    "duration": 27,
    "start_time": "2023-01-16T10:55:30.790Z"
   },
   {
    "duration": 31,
    "start_time": "2023-01-16T10:56:43.768Z"
   },
   {
    "duration": 28,
    "start_time": "2023-01-16T10:59:47.409Z"
   },
   {
    "duration": 36,
    "start_time": "2023-01-16T11:00:27.456Z"
   },
   {
    "duration": 24,
    "start_time": "2023-01-16T11:02:27.254Z"
   },
   {
    "duration": 24,
    "start_time": "2023-01-16T11:05:52.589Z"
   },
   {
    "duration": 41,
    "start_time": "2023-01-16T11:09:51.494Z"
   },
   {
    "duration": 64,
    "start_time": "2023-01-16T11:13:57.890Z"
   },
   {
    "duration": 36,
    "start_time": "2023-01-16T11:26:51.006Z"
   },
   {
    "duration": 37,
    "start_time": "2023-01-16T11:27:05.610Z"
   },
   {
    "duration": 48,
    "start_time": "2023-01-16T11:27:29.717Z"
   },
   {
    "duration": 55,
    "start_time": "2023-01-16T11:27:41.246Z"
   },
   {
    "duration": 7,
    "start_time": "2023-01-16T11:28:07.618Z"
   },
   {
    "duration": 4,
    "start_time": "2023-01-16T11:29:46.594Z"
   },
   {
    "duration": 1045,
    "start_time": "2023-01-16T11:31:18.188Z"
   },
   {
    "duration": 9,
    "start_time": "2023-01-16T11:31:30.849Z"
   },
   {
    "duration": 10,
    "start_time": "2023-01-16T11:33:28.521Z"
   },
   {
    "duration": 1024,
    "start_time": "2023-01-16T11:39:42.874Z"
   },
   {
    "duration": 79,
    "start_time": "2023-01-16T11:39:56.579Z"
   },
   {
    "duration": 17,
    "start_time": "2023-01-16T11:46:47.893Z"
   },
   {
    "duration": 58,
    "start_time": "2023-01-16T11:48:07.039Z"
   },
   {
    "duration": 53,
    "start_time": "2023-01-16T11:48:15.572Z"
   },
   {
    "duration": 15,
    "start_time": "2023-01-16T11:49:40.197Z"
   },
   {
    "duration": 32,
    "start_time": "2023-01-16T11:49:47.976Z"
   },
   {
    "duration": 3,
    "start_time": "2023-01-16T11:50:27.891Z"
   },
   {
    "duration": 4,
    "start_time": "2023-01-16T11:50:36.509Z"
   },
   {
    "duration": 20,
    "start_time": "2023-01-16T11:54:43.192Z"
   },
   {
    "duration": 19,
    "start_time": "2023-01-16T11:56:28.110Z"
   },
   {
    "duration": 21,
    "start_time": "2023-01-16T11:56:48.633Z"
   },
   {
    "duration": 18,
    "start_time": "2023-01-16T11:57:32.745Z"
   },
   {
    "duration": 29,
    "start_time": "2023-01-16T12:00:04.738Z"
   },
   {
    "duration": 17,
    "start_time": "2023-01-16T12:00:43.230Z"
   },
   {
    "duration": 17,
    "start_time": "2023-01-16T12:01:21.050Z"
   },
   {
    "duration": 15,
    "start_time": "2023-01-16T12:01:57.600Z"
   },
   {
    "duration": 8,
    "start_time": "2023-01-16T12:12:47.702Z"
   },
   {
    "duration": 81,
    "start_time": "2023-01-16T12:15:56.927Z"
   },
   {
    "duration": 27,
    "start_time": "2023-01-16T12:16:08.477Z"
   },
   {
    "duration": 13,
    "start_time": "2023-01-16T12:16:09.532Z"
   },
   {
    "duration": 14,
    "start_time": "2023-01-16T12:17:26.672Z"
   },
   {
    "duration": 15,
    "start_time": "2023-01-16T12:17:27.670Z"
   },
   {
    "duration": 4,
    "start_time": "2023-01-16T12:19:05.004Z"
   },
   {
    "duration": 10,
    "start_time": "2023-01-16T12:19:36.156Z"
   },
   {
    "duration": 4,
    "start_time": "2023-01-16T12:19:42.963Z"
   },
   {
    "duration": 8,
    "start_time": "2023-01-16T12:24:05.118Z"
   },
   {
    "duration": 10,
    "start_time": "2023-01-16T12:24:57.363Z"
   },
   {
    "duration": 11,
    "start_time": "2023-01-16T12:26:14.604Z"
   },
   {
    "duration": 19,
    "start_time": "2023-01-16T12:27:36.157Z"
   },
   {
    "duration": 19,
    "start_time": "2023-01-16T12:28:21.416Z"
   },
   {
    "duration": 20,
    "start_time": "2023-01-16T12:30:54.010Z"
   },
   {
    "duration": 27,
    "start_time": "2023-01-16T12:31:17.201Z"
   },
   {
    "duration": 24,
    "start_time": "2023-01-16T12:31:45.998Z"
   },
   {
    "duration": 24,
    "start_time": "2023-01-16T12:32:13.451Z"
   },
   {
    "duration": 60,
    "start_time": "2023-01-16T12:35:19.108Z"
   },
   {
    "duration": 26,
    "start_time": "2023-01-16T12:36:09.217Z"
   },
   {
    "duration": 56,
    "start_time": "2023-01-16T12:36:32.332Z"
   },
   {
    "duration": 25,
    "start_time": "2023-01-16T12:36:42.975Z"
   },
   {
    "duration": 5,
    "start_time": "2023-01-16T12:37:29.618Z"
   },
   {
    "duration": 47,
    "start_time": "2023-01-16T12:43:22.780Z"
   },
   {
    "duration": 9,
    "start_time": "2023-01-16T12:43:36.460Z"
   },
   {
    "duration": 4,
    "start_time": "2023-01-16T12:44:28.567Z"
   },
   {
    "duration": 53,
    "start_time": "2023-01-16T12:45:07.158Z"
   },
   {
    "duration": 32,
    "start_time": "2023-01-16T12:45:51.110Z"
   },
   {
    "duration": 36,
    "start_time": "2023-01-16T12:46:30.651Z"
   },
   {
    "duration": 58,
    "start_time": "2023-01-16T12:47:31.444Z"
   },
   {
    "duration": 3,
    "start_time": "2023-01-16T13:24:13.677Z"
   },
   {
    "duration": 192,
    "start_time": "2023-01-16T13:24:15.272Z"
   },
   {
    "duration": 7,
    "start_time": "2023-01-16T13:24:16.307Z"
   },
   {
    "duration": 3,
    "start_time": "2023-01-16T13:24:23.378Z"
   },
   {
    "duration": 38,
    "start_time": "2023-01-16T13:24:25.220Z"
   },
   {
    "duration": 60,
    "start_time": "2023-01-16T13:24:29.170Z"
   },
   {
    "duration": 81,
    "start_time": "2023-01-16T13:24:31.565Z"
   },
   {
    "duration": 1027,
    "start_time": "2023-01-16T13:24:35.353Z"
   },
   {
    "duration": 89,
    "start_time": "2023-01-16T13:24:40.346Z"
   },
   {
    "duration": 3,
    "start_time": "2023-01-16T13:24:56.330Z"
   },
   {
    "duration": 8,
    "start_time": "2023-01-16T13:25:01.797Z"
   },
   {
    "duration": 10,
    "start_time": "2023-01-16T13:25:04.009Z"
   },
   {
    "duration": 32,
    "start_time": "2023-01-16T13:25:08.340Z"
   },
   {
    "duration": 230,
    "start_time": "2023-01-16T13:25:11.004Z"
   },
   {
    "duration": 2,
    "start_time": "2023-01-16T13:25:13.672Z"
   },
   {
    "duration": 44,
    "start_time": "2023-01-16T13:25:21.102Z"
   },
   {
    "duration": 12,
    "start_time": "2023-01-16T13:25:23.454Z"
   },
   {
    "duration": 7,
    "start_time": "2023-01-16T13:25:27.155Z"
   },
   {
    "duration": 34,
    "start_time": "2023-01-16T13:25:29.890Z"
   },
   {
    "duration": 26,
    "start_time": "2023-01-16T13:25:47.397Z"
   },
   {
    "duration": 75,
    "start_time": "2023-01-16T13:25:54.558Z"
   },
   {
    "duration": 35,
    "start_time": "2023-01-16T13:25:57.265Z"
   },
   {
    "duration": 10,
    "start_time": "2023-01-16T13:25:59.940Z"
   },
   {
    "duration": 38,
    "start_time": "2023-01-16T13:26:08.859Z"
   },
   {
    "duration": 72,
    "start_time": "2023-01-16T13:26:59.891Z"
   },
   {
    "duration": 21,
    "start_time": "2023-01-16T13:27:35.960Z"
   },
   {
    "duration": 3,
    "start_time": "2023-01-16T13:27:36.737Z"
   },
   {
    "duration": 12,
    "start_time": "2023-01-16T13:27:40.656Z"
   },
   {
    "duration": 14,
    "start_time": "2023-01-16T13:27:44.090Z"
   },
   {
    "duration": 11,
    "start_time": "2023-01-16T13:27:53.173Z"
   },
   {
    "duration": 12,
    "start_time": "2023-01-16T13:28:00.359Z"
   },
   {
    "duration": 23,
    "start_time": "2023-01-16T13:28:10.040Z"
   },
   {
    "duration": 65,
    "start_time": "2023-01-16T13:29:36.609Z"
   },
   {
    "duration": 106,
    "start_time": "2023-01-16T13:33:04.833Z"
   },
   {
    "duration": 123,
    "start_time": "2023-01-16T13:35:38.657Z"
   },
   {
    "duration": 22,
    "start_time": "2023-01-16T13:36:04.021Z"
   },
   {
    "duration": 1376,
    "start_time": "2023-01-17T05:54:42.989Z"
   },
   {
    "duration": 739,
    "start_time": "2023-01-17T05:54:44.367Z"
   },
   {
    "duration": 12,
    "start_time": "2023-01-17T05:54:45.108Z"
   },
   {
    "duration": 5,
    "start_time": "2023-01-17T05:54:47.752Z"
   },
   {
    "duration": 29,
    "start_time": "2023-01-17T05:54:49.421Z"
   },
   {
    "duration": 66,
    "start_time": "2023-01-17T05:54:52.398Z"
   },
   {
    "duration": 92,
    "start_time": "2023-01-17T05:54:53.554Z"
   },
   {
    "duration": 1027,
    "start_time": "2023-01-17T05:54:55.852Z"
   },
   {
    "duration": 93,
    "start_time": "2023-01-17T05:54:57.933Z"
   },
   {
    "duration": 5,
    "start_time": "2023-01-17T05:55:01.524Z"
   },
   {
    "duration": 7,
    "start_time": "2023-01-17T05:55:04.505Z"
   },
   {
    "duration": 11,
    "start_time": "2023-01-17T05:55:05.977Z"
   },
   {
    "duration": 25,
    "start_time": "2023-01-17T05:55:07.347Z"
   },
   {
    "duration": 227,
    "start_time": "2023-01-17T05:55:09.710Z"
   },
   {
    "duration": 3,
    "start_time": "2023-01-17T05:55:10.982Z"
   },
   {
    "duration": 37,
    "start_time": "2023-01-17T05:55:12.322Z"
   },
   {
    "duration": 14,
    "start_time": "2023-01-17T05:55:14.525Z"
   },
   {
    "duration": 8,
    "start_time": "2023-01-17T05:55:15.561Z"
   },
   {
    "duration": 43,
    "start_time": "2023-01-17T05:55:16.219Z"
   },
   {
    "duration": 32,
    "start_time": "2023-01-17T05:55:20.621Z"
   },
   {
    "duration": 104,
    "start_time": "2023-01-17T05:55:24.295Z"
   },
   {
    "duration": 43,
    "start_time": "2023-01-17T05:55:27.392Z"
   },
   {
    "duration": 197,
    "start_time": "2023-01-17T06:01:28.649Z"
   },
   {
    "duration": 50,
    "start_time": "2023-01-17T06:01:35.807Z"
   },
   {
    "duration": 100,
    "start_time": "2023-01-17T06:01:39.154Z"
   },
   {
    "duration": 31,
    "start_time": "2023-01-17T06:01:41.040Z"
   },
   {
    "duration": 4,
    "start_time": "2023-01-17T06:01:42.782Z"
   },
   {
    "duration": 17,
    "start_time": "2023-01-17T06:01:43.395Z"
   },
   {
    "duration": 15,
    "start_time": "2023-01-17T06:01:43.958Z"
   },
   {
    "duration": 8,
    "start_time": "2023-01-17T06:01:47.250Z"
   },
   {
    "duration": 9,
    "start_time": "2023-01-17T06:01:48.523Z"
   },
   {
    "duration": 29,
    "start_time": "2023-01-17T06:01:50.757Z"
   },
   {
    "duration": 67,
    "start_time": "2023-01-17T06:01:55.373Z"
   },
   {
    "duration": 19,
    "start_time": "2023-01-17T07:09:23.620Z"
   },
   {
    "duration": 19,
    "start_time": "2023-01-17T07:10:01.847Z"
   },
   {
    "duration": 17,
    "start_time": "2023-01-17T07:10:25.415Z"
   },
   {
    "duration": 21,
    "start_time": "2023-01-17T07:11:00.656Z"
   },
   {
    "duration": 19,
    "start_time": "2023-01-17T07:11:15.504Z"
   },
   {
    "duration": 17,
    "start_time": "2023-01-17T07:11:25.404Z"
   },
   {
    "duration": 70,
    "start_time": "2023-01-17T07:12:35.770Z"
   },
   {
    "duration": 16,
    "start_time": "2023-01-17T07:14:01.583Z"
   },
   {
    "duration": 105,
    "start_time": "2023-01-17T07:18:43.273Z"
   },
   {
    "duration": 107,
    "start_time": "2023-01-17T07:18:57.744Z"
   },
   {
    "duration": 12,
    "start_time": "2023-01-17T07:19:15.360Z"
   },
   {
    "duration": 19,
    "start_time": "2023-01-17T07:23:18.661Z"
   },
   {
    "duration": 12,
    "start_time": "2023-01-17T07:23:58.523Z"
   },
   {
    "duration": 77,
    "start_time": "2023-01-17T07:26:05.568Z"
   },
   {
    "duration": 76,
    "start_time": "2023-01-17T07:26:15.302Z"
   },
   {
    "duration": 34,
    "start_time": "2023-01-17T07:26:22.436Z"
   },
   {
    "duration": 16,
    "start_time": "2023-01-17T07:26:35.238Z"
   },
   {
    "duration": 3,
    "start_time": "2023-01-17T07:29:28.397Z"
   },
   {
    "duration": 150,
    "start_time": "2023-01-17T07:29:28.406Z"
   },
   {
    "duration": 7,
    "start_time": "2023-01-17T07:29:28.558Z"
   },
   {
    "duration": 13,
    "start_time": "2023-01-17T07:29:28.567Z"
   },
   {
    "duration": 26,
    "start_time": "2023-01-17T07:29:28.581Z"
   },
   {
    "duration": 51,
    "start_time": "2023-01-17T07:29:28.609Z"
   },
   {
    "duration": 69,
    "start_time": "2023-01-17T07:29:28.661Z"
   },
   {
    "duration": 769,
    "start_time": "2023-01-17T07:29:28.732Z"
   },
   {
    "duration": 78,
    "start_time": "2023-01-17T07:29:29.503Z"
   },
   {
    "duration": 3,
    "start_time": "2023-01-17T07:29:29.583Z"
   },
   {
    "duration": 12,
    "start_time": "2023-01-17T07:29:29.587Z"
   },
   {
    "duration": 7,
    "start_time": "2023-01-17T07:29:29.600Z"
   },
   {
    "duration": 25,
    "start_time": "2023-01-17T07:29:29.609Z"
   },
   {
    "duration": 233,
    "start_time": "2023-01-17T07:29:29.635Z"
   },
   {
    "duration": 6,
    "start_time": "2023-01-17T07:29:29.872Z"
   },
   {
    "duration": 40,
    "start_time": "2023-01-17T07:29:29.880Z"
   },
   {
    "duration": 20,
    "start_time": "2023-01-17T07:29:29.921Z"
   },
   {
    "duration": 7,
    "start_time": "2023-01-17T07:29:29.943Z"
   },
   {
    "duration": 31,
    "start_time": "2023-01-17T07:29:29.978Z"
   },
   {
    "duration": 21,
    "start_time": "2023-01-17T07:29:30.011Z"
   },
   {
    "duration": 91,
    "start_time": "2023-01-17T07:29:30.034Z"
   },
   {
    "duration": 29,
    "start_time": "2023-01-17T07:29:30.127Z"
   },
   {
    "duration": 30,
    "start_time": "2023-01-17T07:29:30.158Z"
   },
   {
    "duration": 41,
    "start_time": "2023-01-17T07:29:30.190Z"
   },
   {
    "duration": 86,
    "start_time": "2023-01-17T07:29:30.233Z"
   },
   {
    "duration": 16,
    "start_time": "2023-01-17T07:29:30.321Z"
   },
   {
    "duration": 9,
    "start_time": "2023-01-17T07:29:30.339Z"
   },
   {
    "duration": 31,
    "start_time": "2023-01-17T07:29:30.349Z"
   },
   {
    "duration": 17,
    "start_time": "2023-01-17T07:29:30.382Z"
   },
   {
    "duration": 11,
    "start_time": "2023-01-17T07:29:30.401Z"
   },
   {
    "duration": 49,
    "start_time": "2023-01-17T07:29:30.414Z"
   },
   {
    "duration": 44,
    "start_time": "2023-01-17T07:29:30.464Z"
   },
   {
    "duration": 79,
    "start_time": "2023-01-17T07:29:30.510Z"
   },
   {
    "duration": 90,
    "start_time": "2023-01-17T07:31:14.394Z"
   },
   {
    "duration": 68,
    "start_time": "2023-01-17T07:32:08.220Z"
   },
   {
    "duration": 188,
    "start_time": "2023-01-17T07:32:14.553Z"
   },
   {
    "duration": 183,
    "start_time": "2023-01-17T07:32:23.059Z"
   },
   {
    "duration": 92,
    "start_time": "2023-01-17T07:38:35.462Z"
   },
   {
    "duration": 3,
    "start_time": "2023-01-17T07:38:45.640Z"
   },
   {
    "duration": 134,
    "start_time": "2023-01-17T07:38:46.374Z"
   },
   {
    "duration": 7,
    "start_time": "2023-01-17T07:38:47.248Z"
   },
   {
    "duration": 2,
    "start_time": "2023-01-17T07:38:50.413Z"
   },
   {
    "duration": 17,
    "start_time": "2023-01-17T07:38:51.630Z"
   },
   {
    "duration": 63,
    "start_time": "2023-01-17T07:38:54.035Z"
   },
   {
    "duration": 65,
    "start_time": "2023-01-17T07:38:55.499Z"
   },
   {
    "duration": 782,
    "start_time": "2023-01-17T07:38:56.361Z"
   },
   {
    "duration": 78,
    "start_time": "2023-01-17T07:39:01.299Z"
   },
   {
    "duration": 3,
    "start_time": "2023-01-17T07:39:09.672Z"
   },
   {
    "duration": 7,
    "start_time": "2023-01-17T07:39:12.451Z"
   },
   {
    "duration": 7,
    "start_time": "2023-01-17T07:39:13.689Z"
   },
   {
    "duration": 26,
    "start_time": "2023-01-17T07:39:16.333Z"
   },
   {
    "duration": 275,
    "start_time": "2023-01-17T07:39:17.014Z"
   },
   {
    "duration": 2,
    "start_time": "2023-01-17T07:39:19.444Z"
   },
   {
    "duration": 38,
    "start_time": "2023-01-17T07:39:20.628Z"
   },
   {
    "duration": 18,
    "start_time": "2023-01-17T07:39:22.906Z"
   },
   {
    "duration": 6,
    "start_time": "2023-01-17T07:39:33.111Z"
   },
   {
    "duration": 29,
    "start_time": "2023-01-17T07:39:33.731Z"
   },
   {
    "duration": 19,
    "start_time": "2023-01-17T07:39:38.670Z"
   },
   {
    "duration": 62,
    "start_time": "2023-01-17T07:39:41.271Z"
   },
   {
    "duration": 29,
    "start_time": "2023-01-17T07:39:44.246Z"
   },
   {
    "duration": 10,
    "start_time": "2023-01-17T07:39:47.528Z"
   },
   {
    "duration": 3,
    "start_time": "2023-01-17T07:45:58.019Z"
   },
   {
    "duration": 168,
    "start_time": "2023-01-17T07:45:58.027Z"
   },
   {
    "duration": 7,
    "start_time": "2023-01-17T07:45:58.196Z"
   },
   {
    "duration": 28,
    "start_time": "2023-01-17T07:45:58.205Z"
   },
   {
    "duration": 37,
    "start_time": "2023-01-17T07:45:58.235Z"
   },
   {
    "duration": 64,
    "start_time": "2023-01-17T07:45:58.274Z"
   },
   {
    "duration": 64,
    "start_time": "2023-01-17T07:45:58.340Z"
   },
   {
    "duration": 801,
    "start_time": "2023-01-17T07:45:58.406Z"
   },
   {
    "duration": 91,
    "start_time": "2023-01-17T07:45:59.210Z"
   },
   {
    "duration": 4,
    "start_time": "2023-01-17T07:45:59.303Z"
   },
   {
    "duration": 35,
    "start_time": "2023-01-17T07:45:59.309Z"
   },
   {
    "duration": 29,
    "start_time": "2023-01-17T07:45:59.346Z"
   },
   {
    "duration": 49,
    "start_time": "2023-01-17T07:45:59.377Z"
   },
   {
    "duration": 263,
    "start_time": "2023-01-17T07:45:59.428Z"
   },
   {
    "duration": 3,
    "start_time": "2023-01-17T07:45:59.694Z"
   },
   {
    "duration": 57,
    "start_time": "2023-01-17T07:45:59.698Z"
   },
   {
    "duration": 38,
    "start_time": "2023-01-17T07:45:59.757Z"
   },
   {
    "duration": 26,
    "start_time": "2023-01-17T07:45:59.797Z"
   },
   {
    "duration": 40,
    "start_time": "2023-01-17T07:45:59.825Z"
   },
   {
    "duration": 20,
    "start_time": "2023-01-17T07:45:59.867Z"
   },
   {
    "duration": 96,
    "start_time": "2023-01-17T07:45:59.888Z"
   },
   {
    "duration": 34,
    "start_time": "2023-01-17T07:45:59.985Z"
   },
   {
    "duration": 25,
    "start_time": "2023-01-17T07:46:00.020Z"
   },
   {
    "duration": 57,
    "start_time": "2023-01-17T07:46:00.046Z"
   },
   {
    "duration": 91,
    "start_time": "2023-01-17T07:46:00.105Z"
   },
   {
    "duration": 20,
    "start_time": "2023-01-17T07:46:00.198Z"
   },
   {
    "duration": 42,
    "start_time": "2023-01-17T07:46:00.219Z"
   },
   {
    "duration": 42,
    "start_time": "2023-01-17T07:46:00.263Z"
   },
   {
    "duration": 45,
    "start_time": "2023-01-17T07:46:00.307Z"
   },
   {
    "duration": 36,
    "start_time": "2023-01-17T07:46:00.355Z"
   },
   {
    "duration": 41,
    "start_time": "2023-01-17T07:46:00.393Z"
   },
   {
    "duration": 63,
    "start_time": "2023-01-17T07:46:00.436Z"
   },
   {
    "duration": 93,
    "start_time": "2023-01-17T07:46:00.500Z"
   },
   {
    "duration": 12,
    "start_time": "2023-01-17T07:48:36.515Z"
   }
  ],
  "kernelspec": {
   "display_name": "Python 3 (ipykernel)",
   "language": "python",
   "name": "python3"
  },
  "language_info": {
   "codemirror_mode": {
    "name": "ipython",
    "version": 3
   },
   "file_extension": ".py",
   "mimetype": "text/x-python",
   "name": "python",
   "nbconvert_exporter": "python",
   "pygments_lexer": "ipython3",
   "version": "3.9.13"
  },
  "toc": {
   "base_numbering": 1,
   "nav_menu": {},
   "number_sections": true,
   "sideBar": true,
   "skip_h1_title": true,
   "title_cell": "Table of Contents",
   "title_sidebar": "Contents",
   "toc_cell": false,
   "toc_position": {},
   "toc_section_display": true,
   "toc_window_display": true
  }
 },
 "nbformat": 4,
 "nbformat_minor": 2
}
